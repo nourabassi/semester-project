{
 "cells": [
  {
   "cell_type": "code",
   "execution_count": 1,
   "metadata": {},
   "outputs": [],
   "source": [
    "import re\n",
    "import pandas as pd\n",
    "import os\n",
    "import numpy as np\n",
    "import sys\n",
    "import matplotlib.pyplot as plt\n",
    "import json\n",
    "%matplotlib inline\n",
    "\n",
    "rootdir = '/Users/lguillain/Documents/EPFL2018/Git-semester-project/data/papers/'"
   ]
  },
  {
   "cell_type": "markdown",
   "metadata": {},
   "source": [
    "## loading content of txt files.."
   ]
  },
  {
   "cell_type": "code",
   "execution_count": 2,
   "metadata": {},
   "outputs": [],
   "source": [
    "contents = []\n",
    "i = 0\n",
    "source = []\n",
    "for subdir, dirs, files in os.walk(rootdir):\n",
    "    for file in files:\n",
    "        if 'txt' in file:\n",
    "            i += 1\n",
    "            path = os.path.join(subdir, file)\n",
    "            with open(path) as file:\n",
    "                try:\n",
    "                    text = file.read()\n",
    "                    contents.append(text)\n",
    "                    source.append(path[len(rootdir):-4])\n",
    "                except:\n",
    "                    name, message, content = sys.exc_info()\n",
    "                    print(message)"
   ]
  },
  {
   "cell_type": "markdown",
   "metadata": {},
   "source": [
    "## extracting the reference function from the text"
   ]
  },
  {
   "cell_type": "markdown",
   "metadata": {},
   "source": [
    "One attempt was to use special splitting:"
   ]
  },
  {
   "cell_type": "code",
   "execution_count": 3,
   "metadata": {},
   "outputs": [
    {
     "data": {
      "text/plain": [
       "['Abrahamson, D. (2012). Discovery reconceived: Product before process. For the Learning of Mathematics, 32(1), 815.',\n",
       " 'Abrahamson, D. (2015). The monster in the machine, or why educational technology needs embodied design. In\\nV. R. Lee (Ed.),']"
      ]
     },
     "execution_count": 3,
     "metadata": {},
     "output_type": "execute_result"
    }
   ],
   "source": [
    "#Example of extraction\n",
    "t = 'Abrahamson, D. (2012). Discovery reconceived: Product before process. For the Learning of Mathematics, 32(1), 815.\\nAbrahamson, D. (2015). The monster in the machine, or why educational technology needs embodied design. In\\nV. R. Lee (Ed.),'\n",
    "re.split(r'(?<=\\.)\\n', t)"
   ]
  },
  {
   "cell_type": "code",
   "execution_count": 4,
   "metadata": {},
   "outputs": [
    {
     "data": {
      "text/plain": [
       "['dispositions. Science Education, 98(1), 36–63. https://doi.org/10.1002/sce.21083',\n",
       " None,\n",
       " None,\n",
       " 'Edelson, D. C., & Joseph, D. M. (2004). The interest-driven learning design framework: motivating learning']"
      ]
     },
     "execution_count": 4,
     "metadata": {},
     "output_type": "execute_result"
    }
   ],
   "source": [
    "#dealing with links at the end\n",
    "t =  'dispositions. Science Education, 98(1), 36–63. https://doi.org/10.1002/sce.21083\\nEdelson, D. C., & Joseph, D. M. (2004). The interest-driven learning design framework: motivating learning'\n",
    "re.split(r'\\n\\n|((?<=(\\.|\\/|[a-z]))\\n)|\\n(?=[A-Z])',t)"
   ]
  },
  {
   "cell_type": "markdown",
   "metadata": {},
   "source": [
    "#### The issue is that it undersplits, so we it's better to just use \\n "
   ]
  },
  {
   "cell_type": "code",
   "execution_count": 5,
   "metadata": {},
   "outputs": [],
   "source": [
    "def ref_extraction(text, extract=False):\n",
    "    \"\"\"extracts refrerence section: works well on well formated documents\"\"\"\n",
    "    mention = text.rfind(\"\\nReferences\")\n",
    "    if mention == -1:\n",
    "        mention = text.lower().rfind(\" references\")\n",
    "    if mention == -1:\n",
    "        mention =  text.lower().rfind(\"reference\")\n",
    "    #get reference section, account for different spelling\n",
    "    acknowledgements = max(text.lower().find(\"acknowledgements\"), text.lower().find('acknowledgments'))\n",
    "    \n",
    "    #handle case that acknowlege ments are before references\n",
    "    if acknowledgements < mention:\n",
    "        acknowledgements = -1\n",
    "    ref = text[mention+len(\"references\"):acknowledgements]\n",
    "    \n",
    "    #references = re.split(r'\\n\\n|((?<=(\\.|\\/|[a-z]))\\n)|\\n(?=[A-Z])',ref)\n",
    "    references = re.split(r'\\n', ref)\n",
    "    \n",
    "    ref = [r for r in references if r and len(r) > 3 and not re.match(r'(CSCL|ICLS) \\d{4} Proceedings|© ISLS', r)]\n",
    "    if extract:\n",
    "        print(text[mention+len(\"references\"):acknowledgements])\n",
    "        print(references)\n",
    "    return ref"
   ]
  },
  {
   "cell_type": "code",
   "execution_count": 6,
   "metadata": {},
   "outputs": [],
   "source": [
    "references = []\n",
    "for i, content in enumerate(contents):\n",
    "    references.append((ref_extraction(content)))"
   ]
  },
  {
   "cell_type": "code",
   "execution_count": 7,
   "metadata": {},
   "outputs": [
    {
     "name": "stdout",
     "output_type": "stream",
     "text": [
      "Number of pdf documents :  874\n",
      "Number of documents for which we have an extracted reference section:  874\n"
     ]
    }
   ],
   "source": [
    "print('Number of pdf documents : ', len(contents))\n",
    "print('Number of documents for which we have an extracted reference section: ', len(references))"
   ]
  },
  {
   "cell_type": "markdown",
   "metadata": {},
   "source": [
    "# looking into regex to check if valid:"
   ]
  },
  {
   "cell_type": "markdown",
   "metadata": {},
   "source": [
    "One way we can know a line was split early is if it starts with lowercase letter or with a number"
   ]
  },
  {
   "cell_type": "markdown",
   "metadata": {},
   "source": [
    "This is old code that was used at some point but is not no longer used "
   ]
  },
  {
   "cell_type": "code",
   "execution_count": 8,
   "metadata": {},
   "outputs": [],
   "source": [
    "def match_url(sentence):\n",
    "    return re.search('http(s)?\\:\\/\\/[\\S]*$', sentence) or re.search(r'doi\\:[\\S\\/\\*]*$', sentence)\n",
    "\n",
    "def match_url_beginning(sentence):\n",
    "    return re.search('^http(s)?\\:\\/\\/[\\S]*$', sentence) or re.search(r'^doi\\:[\\S\\/\\*]*$', sentence)\n",
    "\n",
    "def show_issue(issues, condition):\n",
    "    for issue in issues:\n",
    "        if condition(issue):\n",
    "            print(issue)"
   ]
  },
  {
   "cell_type": "markdown",
   "metadata": {},
   "source": [
    "Central approach is to move sentences up until they are part of a string that contains a citation year, which usually is at the beginning of a string in an APA reference "
   ]
  },
  {
   "cell_type": "code",
   "execution_count": 9,
   "metadata": {},
   "outputs": [],
   "source": [
    "def contains_citation_beginning(sentence):\n",
    "\n",
    "    ##Check for mention of publication date,\n",
    "    #do it this way to not allow for ICLS 2015 string to be counted\n",
    "    months = '(january|february|march|april|may|june|july|august|september|october|november|december)?'\n",
    "    publication_year = r'(?<!\\d)\\('+months+'[\\-\\ ]*'+months+'[\\ \\,]*(18|19|20)\\d{2}[a-z]?[\\,\\ ]*'+months+'[\\-\\ \\d]*'+months+'\\)'\n",
    "    #sometimes two years are mentioned, we use this regex to parse them\n",
    "    match_bad_year = r'\\((18|19|20)\\d{2}\\/(18|19|20)\\d{2}\\)'\n",
    "    \n",
    "    #these regex account for special strings used in the references\n",
    "    match_press = r'[\\w\\ \\. \\,\\&\\(\\)\\-\\'\\…]*\\(in press\\)'\n",
    "    match_forth = r'[\\S\\s]*\\(forthcoming\\)'\n",
    "    match_accepted = r'[\\S\\s]*\\(accepted\\)'\n",
    "    match_submitted = r'[\\S\\s]*\\(submitted\\)'\n",
    "    match_underreview = r'[\\S\\s]*\\(under review\\)'\n",
    "    sentence = sentence.lower()\n",
    "        \n",
    "    year = re.search(publication_year, sentence) or  re.search(match_bad_year, sentence)\n",
    "    \n",
    "    return  year or \\\n",
    "            re.match(match_press, sentence) or re.match(match_forth, sentence) or\\\n",
    "            re.match(match_accepted, sentence) or re.match(match_submitted, sentence) or\\\n",
    "            re.match(match_underreview, sentence)"
   ]
  },
  {
   "cell_type": "markdown",
   "metadata": {},
   "source": [
    "Example of parsing working:"
   ]
  },
  {
   "cell_type": "code",
   "execution_count": 10,
   "metadata": {},
   "outputs": [
    {
     "data": {
      "text/plain": [
       "(<re.Match object; span=(14, 25), match='(1987/2014)'>, None)"
      ]
     },
     "execution_count": 10,
     "metadata": {},
     "output_type": "execute_result"
    }
   ],
   "source": [
    "sentence = 'Xing, W., Kim, S., & Goggins, S. (2015/1994). Modeling performance in asynchronous CSCL: an exploration of social ability, collective efficacy and social interaction. Exploring the Material Conditions of Learning: Proceedings of the Computer Supported Collaborative Learning (CSCL 2015), International Society of'\n",
    "sentence_2 = 'Engeström, Y. (1987/2014) Learning by expanding: An activity-theoretical approach to developmental research (2nd ed.). New York, NY: Cambridge University Press.'\n",
    "\n",
    "months = '(january|february|march|april|may|june|july|august|september|october|november|december)?'\n",
    "publication_year = r'(?<!\\d)\\('+months+'[\\-\\ ]*'+months+'[\\ \\,]*(18|19|20)\\d{2}[a-z]?[\\,\\ ]*'+months+'[\\-\\ ]*'+months+'\\)'\n",
    "\n",
    "\n",
    "match_bad_year = r'\\((18|19|20)\\d{2}\\/(18|19|20)\\d{2}\\)'\n",
    "\n",
    "month = re.search(publication_year, sentence.lower())\n",
    "conference =  re.search(match_bad_year, sentence_2)\n",
    "    \n",
    "conference, month"
   ]
  },
  {
   "cell_type": "code",
   "execution_count": 11,
   "metadata": {},
   "outputs": [],
   "source": [
    "#moving sentences starting with lowercase letter or number strings \"one up\"\n",
    "def moving_up(issues, condition=lambda x: re.match('^[\\d\\(\\.\\&\\ ]', x)):\n",
    "\n",
    "    issues = [i for i in issues if len(i) > 0]\n",
    "    patchwork = []\n",
    "    j = 0\n",
    "    \n",
    "    for i, sentence in enumerate(issues):\n",
    "        if i != 0 and condition(sentence):\n",
    "            patchwork[j-1] += ' ' + sentence\n",
    "            #print(sentence)\n",
    "        else:\n",
    "            j +=1\n",
    "            patchwork.append(sentence)\n",
    "    patchwork = [p for p in patchwork if len(p) > 0]\n",
    "    \n",
    "    return patchwork"
   ]
  },
  {
   "cell_type": "code",
   "execution_count": 12,
   "metadata": {},
   "outputs": [],
   "source": [
    "#iteration 1: move up strings that start in number or with (\n",
    "ref_1 = [moving_up(r) for r in references]\n",
    "#iteration 2: move up string starting with \"Proceedings\"\n",
    "ref_2 = [moving_up(r, lambda x: re.match('^Proceedings', x)) for r in ref_1]"
   ]
  },
  {
   "cell_type": "code",
   "execution_count": 13,
   "metadata": {},
   "outputs": [],
   "source": [
    "#moving sentences starting with lowercase letter or number strings \"one up\"\n",
    "def moving_down(issues, condition=lambda x: re.match('^[\\d\\(\\.]', x)):\n",
    "\n",
    "    issues = [i for i in issues if len(i) > 0]\n",
    "    patchwork = issues.copy()\n",
    "    j = 0\n",
    "    \n",
    "    for i, sentence in enumerate(issues):\n",
    "        if condition(sentence) and i+1 < len(issues):\n",
    "            patchwork[i] = sentence + ' ' + patchwork[i+1]\n",
    "            patchwork[i+1] = ''\n",
    "\n",
    "    patchwork = [p for p in patchwork if len(p) > 0]\n",
    "    \n",
    "    return patchwork"
   ]
  },
  {
   "cell_type": "code",
   "execution_count": 14,
   "metadata": {},
   "outputs": [
    {
     "data": {
      "text/plain": [
       "<re.Match object; span=(0, 3), match='G. '>"
      ]
     },
     "execution_count": 14,
     "metadata": {},
     "output_type": "execute_result"
    }
   ],
   "source": [
    "cutoff_name = r'^[A-Z]+\\.\\ ?'\n",
    "text = 'G. bsdjhvshjvf(1220)'\n",
    "re.match(cutoff_name, text)"
   ]
  },
  {
   "cell_type": "code",
   "execution_count": 15,
   "metadata": {},
   "outputs": [
    {
     "data": {
      "text/plain": [
       "<re.Match object; span=(105, 109), match=' and'>"
      ]
     },
     "execution_count": 15,
     "metadata": {},
     "output_type": "execute_result"
    }
   ],
   "source": [
    "text = 'Walther, J. B., & Parks, M. R. (2002). Cues filtered out, cues filter in: computer mediated communication and'\n",
    "words_at_end = r'\\ [a-zA-Z]*$'\n",
    "re.search(words_at_end, text)"
   ]
  },
  {
   "cell_type": "code",
   "execution_count": 16,
   "metadata": {},
   "outputs": [],
   "source": [
    "#move up is name is cut off (for instance, sentence starts with C. ....)\n",
    "ref_3 = [moving_up(r, lambda x: re.match(cutoff_name, x)) for r in ref_2]"
   ]
  },
  {
   "cell_type": "markdown",
   "metadata": {},
   "source": [
    "For references we might cut off the year from the authors. In that case we need to change strategy and move the one that is below up if the upper string satisfies the condition"
   ]
  },
  {
   "cell_type": "code",
   "execution_count": 17,
   "metadata": {},
   "outputs": [],
   "source": [
    "def match_author(authors):\n",
    "    regex = r'(([\\w\\-]*[\\,\\&] [A-Z\\.\\ ]+[\\&\\,]?)*$)'\n",
    "    USA = r'([A-Z]{2,})'\n",
    "    return not re.search(USA, authors) and re.match(regex, authors)"
   ]
  },
  {
   "cell_type": "code",
   "execution_count": 18,
   "metadata": {},
   "outputs": [
    {
     "data": {
      "text/plain": [
       "'Yoon, S., Anderson, E., Koehler-Yom, Evans, C., Park, M., J., Sheldon, J., Schoenfeld, I., Wendel, D.,'"
      ]
     },
     "execution_count": 18,
     "metadata": {},
     "output_type": "execute_result"
    }
   ],
   "source": [
    "sentence = 'Yoon, S., Anderson, E., Koehler-Yom, Evans, C., Park, M., J., Sheldon, J., Schoenfeld, I., Wendel, D.,'\n",
    "match_author(sentence).group(0)"
   ]
  },
  {
   "cell_type": "code",
   "execution_count": 19,
   "metadata": {},
   "outputs": [],
   "source": [
    "ref_4 = [moving_down(r, lambda x: match_author(x)) for r in ref_3]\n",
    "\n",
    "#pivoting up around strings containing citation\n",
    "ref_5 = [moving_up(r, lambda x: not contains_citation_beginning(x)) for r in ref_4]\n",
    "#if ends in word\n",
    "ref_6 = [moving_down(r, lambda x: re.search(words_at_end, x)) for r in ref_5]"
   ]
  },
  {
   "cell_type": "markdown",
   "metadata": {},
   "source": [
    "Add the reference isnto dataframe, associating the source text to it:"
   ]
  },
  {
   "cell_type": "code",
   "execution_count": 20,
   "metadata": {},
   "outputs": [],
   "source": [
    "references_df = pd.DataFrame([(f, source[i]) for i, flat in enumerate(ref_6) for f in flat], columns=['ref', 'file'])"
   ]
  },
  {
   "cell_type": "markdown",
   "metadata": {},
   "source": [
    "We use length and initial of the reference to preform a sanity check:"
   ]
  },
  {
   "cell_type": "code",
   "execution_count": 21,
   "metadata": {},
   "outputs": [],
   "source": [
    "references_df['length'] = references_df.ref.map(lambda x: len(x))\n",
    "references_df['initial'] = references_df.ref.map(lambda x: x[0])"
   ]
  },
  {
   "cell_type": "code",
   "execution_count": 22,
   "metadata": {},
   "outputs": [
    {
     "data": {
      "text/plain": [
       "count    14686.000000\n",
       "mean       194.962345\n",
       "std        685.649075\n",
       "min          4.000000\n",
       "25%        139.000000\n",
       "50%        180.000000\n",
       "75%        219.000000\n",
       "max      74737.000000\n",
       "Name: length, dtype: float64"
      ]
     },
     "execution_count": 22,
     "metadata": {},
     "output_type": "execute_result"
    },
    {
     "data": {
      "image/png": "[encoded data removed]",
      "text/plain": [
       "<Figure size 432x288 with 1 Axes>"
      ]
     },
     "metadata": {
      "needs_background": "light"
     },
     "output_type": "display_data"
    }
   ],
   "source": [
    "references_df.length.plot(kind='box')\n",
    "references_df.length.describe()"
   ]
  },
  {
   "cell_type": "code",
   "execution_count": 23,
   "metadata": {},
   "outputs": [
    {
     "data": {
      "text/html": [
       "<div>\n",
       "<style scoped>\n",
       "    .dataframe tbody tr th:only-of-type {\n",
       "        vertical-align: middle;\n",
       "    }\n",
       "\n",
       "    .dataframe tbody tr th {\n",
       "        vertical-align: top;\n",
       "    }\n",
       "\n",
       "    .dataframe thead th {\n",
       "        text-align: right;\n",
       "    }\n",
       "</style>\n",
       "<table border=\"1\" class=\"dataframe\">\n",
       "  <thead>\n",
       "    <tr style=\"text-align: right;\">\n",
       "      <th></th>\n",
       "      <th>ref</th>\n",
       "      <th>file</th>\n",
       "      <th>length</th>\n",
       "      <th>initial</th>\n",
       "    </tr>\n",
       "  </thead>\n",
       "  <tbody>\n",
       "    <tr>\n",
       "      <th>114</th>\n",
       "      <td>p ...............................................</td>\n",
       "      <td>import2016full_93</td>\n",
       "      <td>22395</td>\n",
       "      <td>p</td>\n",
       "    </tr>\n",
       "    <tr>\n",
       "      <th>862</th>\n",
       "      <td>nalysis .........................................</td>\n",
       "      <td>import2016full_92</td>\n",
       "      <td>74737</td>\n",
       "      <td>n</td>\n",
       "    </tr>\n",
       "    <tr>\n",
       "      <th>1897</th>\n",
       "      <td>Pages 1-702: Volume 1 Pages 703-1407: Volume 2...</td>\n",
       "      <td>import2016full_91</td>\n",
       "      <td>26188</td>\n",
       "      <td>P</td>\n",
       "    </tr>\n",
       "    <tr>\n",
       "      <th>9343</th>\n",
       "      <td>for collaborative learning moderates the relat...</td>\n",
       "      <td>import2016short_136</td>\n",
       "      <td>3336</td>\n",
       "      <td>f</td>\n",
       "    </tr>\n",
       "    <tr>\n",
       "      <th>10746</th>\n",
       "      <td>Dijkstra, Pieternel, Hans Kuyper, Greetje van ...</td>\n",
       "      <td>import2018_323</td>\n",
       "      <td>1335</td>\n",
       "      <td>D</td>\n",
       "    </tr>\n",
       "    <tr>\n",
       "      <th>12489</th>\n",
       "      <td>Wenger, E. (1998). Communities of practice: Le...</td>\n",
       "      <td>import2016short_145</td>\n",
       "      <td>10097</td>\n",
       "      <td>W</td>\n",
       "    </tr>\n",
       "  </tbody>\n",
       "</table>\n",
       "</div>"
      ],
      "text/plain": [
       "                                                     ref                 file  \\\n",
       "114    p ...............................................    import2016full_93   \n",
       "862    nalysis .........................................    import2016full_92   \n",
       "1897   Pages 1-702: Volume 1 Pages 703-1407: Volume 2...    import2016full_91   \n",
       "9343   for collaborative learning moderates the relat...  import2016short_136   \n",
       "10746  Dijkstra, Pieternel, Hans Kuyper, Greetje van ...       import2018_323   \n",
       "12489  Wenger, E. (1998). Communities of practice: Le...  import2016short_145   \n",
       "\n",
       "       length initial  \n",
       "114     22395       p  \n",
       "862     74737       n  \n",
       "1897    26188       P  \n",
       "9343     3336       f  \n",
       "10746    1335       D  \n",
       "12489   10097       W  "
      ]
     },
     "execution_count": 23,
     "metadata": {},
     "output_type": "execute_result"
    }
   ],
   "source": [
    "references_df[references_df.length > 1000]"
   ]
  },
  {
   "cell_type": "markdown",
   "metadata": {},
   "source": [
    "One paper that uses ACM format:"
   ]
  },
  {
   "cell_type": "code",
   "execution_count": 24,
   "metadata": {},
   "outputs": [
    {
     "data": {
      "text/plain": [
       "'Dijkstra, Pieternel, Hans Kuyper, Greetje van der Werf, Abraham P. Buunk, and Yvonne G. van der Zee. 2008. “Social Comparison in the Classroom: A Review.” Review of Educational Research 78 (4). American Educational Research Association:828–79. Festinger, Leon. 1954. “A Theory of Social Comparison Processes.” Human Relations; Studies towards the Integration of the Social Sciences 7 (2). SAGE Publications:117–40. Graesser, Arthur C., Danielle S. McNamara, Zhiqang Cai, Mark Conley, Haiying Li, and James Pennebaker. 2014. “Coh-Metrix Measures Text Characteristics at Multiple Levels of Language and Discourse.” The Elementary School Journal 115 (2):210–29. Régner, Isabelle, and Jean-Marc Monteil. 2007. “Low-and High-Socioeconomic Status Students Preference for Ingroup Comparisons and Their Underpinning Ability Expectations.” Revue Internationale de Psychologie Sociale 20 (1). Presses univ. de Grenoble:87–104. Tu, Chih-Hsiung, and Marina McIsaac. 2002. “The Relationship of Social Presence and Interaction in Online Classes.” The American Journal of Distance Education 16 (3). Routledge:131–50. Van Boven, Leaf, Joanne Kane, A. Peter McGraw, and Jeannette Dale. 2010. “Feeling Close: Emotional Intensity Reduces Perceived Psychological Distance.” Journal of Personality and Social Psychology 98 (6). psycnet.apa.org:872–85. 1422'"
      ]
     },
     "execution_count": 24,
     "metadata": {},
     "output_type": "execute_result"
    }
   ],
   "source": [
    "references_df.iloc[10746].ref"
   ]
  },
  {
   "cell_type": "code",
   "execution_count": 25,
   "metadata": {},
   "outputs": [
    {
     "data": {
      "text/plain": [
       "h    4\n",
       "Ö    3\n",
       "b    3\n",
       "p    3\n",
       "t    2\n",
       "a    2\n",
       "e    2\n",
       "n    2\n",
       "1    1\n",
       "Å    1\n",
       "Ž    1\n",
       "[    1\n",
       "f    1\n",
       "Ø    1\n",
       "r    1\n",
       "Name: initial, dtype: int64"
      ]
     },
     "execution_count": 25,
     "metadata": {},
     "output_type": "execute_result"
    },
    {
     "data": {
      "image/png": "[encoded data removed]",
      "text/plain": [
       "<Figure size 432x288 with 1 Axes>"
      ]
     },
     "metadata": {
      "needs_background": "light"
     },
     "output_type": "display_data"
    }
   ],
   "source": [
    "references_df.initial.value_counts().plot(kind='bar')\n",
    "references_df.initial.value_counts().tail(15)"
   ]
  },
  {
   "cell_type": "code",
   "execution_count": 26,
   "metadata": {},
   "outputs": [
    {
     "data": {
      "text/html": [
       "<div>\n",
       "<style scoped>\n",
       "    .dataframe tbody tr th:only-of-type {\n",
       "        vertical-align: middle;\n",
       "    }\n",
       "\n",
       "    .dataframe tbody tr th {\n",
       "        vertical-align: top;\n",
       "    }\n",
       "\n",
       "    .dataframe thead th {\n",
       "        text-align: right;\n",
       "    }\n",
       "</style>\n",
       "<table border=\"1\" class=\"dataframe\">\n",
       "  <thead>\n",
       "    <tr style=\"text-align: right;\">\n",
       "      <th></th>\n",
       "      <th>ref</th>\n",
       "      <th>file</th>\n",
       "      <th>length</th>\n",
       "      <th>initial</th>\n",
       "    </tr>\n",
       "  </thead>\n",
       "  <tbody>\n",
       "    <tr>\n",
       "      <th>3724</th>\n",
       "      <td>Wilensky, U. (1999). {NetLogo}.</td>\n",
       "      <td>import2017_9</td>\n",
       "      <td>31</td>\n",
       "      <td>W</td>\n",
       "    </tr>\n",
       "    <tr>\n",
       "      <th>4140</th>\n",
       "      <td>Wilensky, U. (1999). {NetLogo}.</td>\n",
       "      <td>import2018_1</td>\n",
       "      <td>31</td>\n",
       "      <td>W</td>\n",
       "    </tr>\n",
       "    <tr>\n",
       "      <th>5093</th>\n",
       "      <td>Wilensky, U. (1999). {NetLogo}.</td>\n",
       "      <td>import2016short_106</td>\n",
       "      <td>31</td>\n",
       "      <td>W</td>\n",
       "    </tr>\n",
       "    <tr>\n",
       "      <th>6391</th>\n",
       "      <td>1855</td>\n",
       "      <td>import2018_513</td>\n",
       "      <td>4</td>\n",
       "      <td>1</td>\n",
       "    </tr>\n",
       "    <tr>\n",
       "      <th>9378</th>\n",
       "      <td>no. 1 (2000): 1–25.</td>\n",
       "      <td>import2018_269</td>\n",
       "      <td>19</td>\n",
       "      <td>n</td>\n",
       "    </tr>\n",
       "  </tbody>\n",
       "</table>\n",
       "</div>"
      ],
      "text/plain": [
       "                                  ref                 file  length initial\n",
       "3724  Wilensky, U. (1999). {NetLogo}.         import2017_9      31       W\n",
       "4140  Wilensky, U. (1999). {NetLogo}.         import2018_1      31       W\n",
       "5093  Wilensky, U. (1999). {NetLogo}.  import2016short_106      31       W\n",
       "6391                             1855       import2018_513       4       1\n",
       "9378              no. 1 (2000): 1–25.       import2018_269      19       n"
      ]
     },
     "execution_count": 26,
     "metadata": {},
     "output_type": "execute_result"
    }
   ],
   "source": [
    "#short references are fine\n",
    "references_df[references_df.length < 40]"
   ]
  },
  {
   "cell_type": "code",
   "execution_count": 27,
   "metadata": {},
   "outputs": [
    {
     "data": {
      "text/html": [
       "<div>\n",
       "<style scoped>\n",
       "    .dataframe tbody tr th:only-of-type {\n",
       "        vertical-align: middle;\n",
       "    }\n",
       "\n",
       "    .dataframe tbody tr th {\n",
       "        vertical-align: top;\n",
       "    }\n",
       "\n",
       "    .dataframe thead th {\n",
       "        text-align: right;\n",
       "    }\n",
       "</style>\n",
       "<table border=\"1\" class=\"dataframe\">\n",
       "  <thead>\n",
       "    <tr style=\"text-align: right;\">\n",
       "      <th></th>\n",
       "      <th>ref</th>\n",
       "      <th>file</th>\n",
       "      <th>length</th>\n",
       "      <th>initial</th>\n",
       "    </tr>\n",
       "  </thead>\n",
       "  <tbody>\n",
       "    <tr>\n",
       "      <th>3045</th>\n",
       "      <td>boyd, d. (2014). It’s complicated: The social ...</td>\n",
       "      <td>import2018_176</td>\n",
       "      <td>109</td>\n",
       "      <td>b</td>\n",
       "    </tr>\n",
       "    <tr>\n",
       "      <th>3671</th>\n",
       "      <td>boyd, d. (2009). Why Youth (Heart) Social Netw...</td>\n",
       "      <td>import2015full_285</td>\n",
       "      <td>110</td>\n",
       "      <td>b</td>\n",
       "    </tr>\n",
       "    <tr>\n",
       "      <th>4620</th>\n",
       "      <td>boyd, d. (2009). Why Youth (Heart) Social Netw...</td>\n",
       "      <td>import2015short_285</td>\n",
       "      <td>110</td>\n",
       "      <td>b</td>\n",
       "    </tr>\n",
       "  </tbody>\n",
       "</table>\n",
       "</div>"
      ],
      "text/plain": [
       "                                                    ref                 file  \\\n",
       "3045  boyd, d. (2014). It’s complicated: The social ...       import2018_176   \n",
       "3671  boyd, d. (2009). Why Youth (Heart) Social Netw...   import2015full_285   \n",
       "4620  boyd, d. (2009). Why Youth (Heart) Social Netw...  import2015short_285   \n",
       "\n",
       "      length initial  \n",
       "3045     109       b  \n",
       "3671     110       b  \n",
       "4620     110       b  "
      ]
     },
     "execution_count": 27,
     "metadata": {},
     "output_type": "execute_result"
    }
   ],
   "source": [
    "#also correctly parsed i, e are fine, a are not too bad, leave it\n",
    "#only very few references are incorrect if they start by lowercase. we accept this\n",
    "#b is correct\n",
    "references_df[references_df['initial'] == 'b']"
   ]
  },
  {
   "cell_type": "markdown",
   "metadata": {},
   "source": [
    "Remove overly long references are they are due to badly parsed pdfs:"
   ]
  },
  {
   "cell_type": "code",
   "execution_count": 28,
   "metadata": {},
   "outputs": [],
   "source": [
    "references_df = references_df[(references_df.length < 1000)]"
   ]
  },
  {
   "cell_type": "code",
   "execution_count": 29,
   "metadata": {},
   "outputs": [
    {
     "name": "stdout",
     "output_type": "stream",
     "text": [
      "We can parse references from 865 documents.\n"
     ]
    }
   ],
   "source": [
    "print('We can parse references from {} documents.'.format(references_df.file.value_counts().shape[0]))"
   ]
  },
  {
   "cell_type": "markdown",
   "metadata": {},
   "source": [
    "Example reference:"
   ]
  },
  {
   "cell_type": "code",
   "execution_count": 30,
   "metadata": {},
   "outputs": [
    {
     "data": {
      "text/plain": [
       "['Engeström, Y., & Sannino, A. (2010). Studies of expansive learning: Foundations, findings and future challenges. Educational research review, 5(1), 1-24.',\n",
       " 'Philip, T. M. (2013). Articulating the purpose of a social foundations of education course through instructor self-interviews. Studying Teacher Education, 9(3), 203-218.',\n",
       " 'Proske, A., Narciss, S., & McNamara, D. (2010). Computer-based scaffolding to facilitate students development of expertise in academic writing. Journal of Research in Reading 33(1), 1-17.',\n",
       " 'Thompson, P. W. (1994a). Images of Rate and Operational Understanding of the Fundamental Theorem of Calculus. Educational Studies in Mathematics, 26(2), 229–274.',\n",
       " 'Webster, J., & Hackley, P. (1997). Teaching effectiveness in technology-mediated distance learning. Academy of Management Journal, 40(6), 1282–1309. JOUR.']"
      ]
     },
     "execution_count": 30,
     "metadata": {},
     "output_type": "execute_result"
    }
   ],
   "source": [
    "references_df[references_df.length < 200].sample(5).ref.tolist()"
   ]
  },
  {
   "cell_type": "markdown",
   "metadata": {},
   "source": [
    "# Approach to get names from references:"
   ]
  },
  {
   "cell_type": "markdown",
   "metadata": {},
   "source": [
    "For APA style it is easy to extract the year and author of the cited reference\n",
    "- we could look at from when the reference cited is, who is in it"
   ]
  },
  {
   "cell_type": "markdown",
   "metadata": {},
   "source": [
    "Need to look at efficient way to check name validity:\n",
    "think spanish, irish names"
   ]
  },
  {
   "cell_type": "code",
   "execution_count": 31,
   "metadata": {},
   "outputs": [],
   "source": [
    "def get_authors(sentence, debug = False):\n",
    "    regex = r'[\\S\\s]*\\((18|19|20)\\d{2}[\\,\\ \\w\\d]*\\)'\n",
    "    if re.search(regex, sentence):\n",
    "        s = re.findall(regex, sentence)[0]\n",
    "        if len(s) > 9:\n",
    "            return (s)\n",
    "    elif debug:\n",
    "        return '#'+sentence\n",
    "    \n",
    "    return np.nan\n",
    "\n",
    "\n",
    "import regex as reg\n",
    "\n",
    "def get_authors_month(sentence, debug = False):\n",
    "    regex = r'[éüş\\xad\\p{L}\\,\\ \\.\\:\\;\\/\\&\\-\\'\\`\\(\\)\\’\\–\\¨\\…\\‐\\*\\´\\＆\\\\]*\\([\\,\\ \\p{L}\\d\\-]*(18|19|20)\\d{2}[\\,\\ \\p{L}\\d\\-]*\\)'\n",
    "    match_bad_year = r'[\\S\\s]*\\((18|19|20)\\d{2}\\/(18|19|20)\\d{2}\\)'\n",
    "    \n",
    "    match_press = r'[\\S\\s]*\\((i|I)n (P|p)ress|manuscript under review\\)'\n",
    "    match_forth = r'[\\S\\s]*\\((f|F)orthcoming\\)'\n",
    "    match_accepted = r'[\\S\\s]*\\((a|A)ccepted\\)'\n",
    "    match_submitted = r'[\\S\\s]*\\((s|S)ubmitted\\)'\n",
    "    match_underreview = r'[\\S\\s]*\\((u|U)nder (R|r)eview\\)'\n",
    "    \n",
    "    #sentence = sentence.lower()\n",
    "    if reg.match(regex, sentence):\n",
    "        s = reg.search(regex, sentence).group(0)\n",
    "        if len(s) > 9:\n",
    "            return s\n",
    "    elif re.match(match_bad_year, sentence):\n",
    "        return re.search(match_bad_year, sentence).group(0)\n",
    "    elif re.match(match_press, sentence):\n",
    "        return re.search(match_press, sentence).group(0)\n",
    "    elif re.match(match_forth, sentence):\n",
    "        return re.search(match_forth, sentence).group(0)\n",
    "    elif re.match(match_accepted, sentence):\n",
    "        return re.search(match_accepted, sentence).group(0)\n",
    "    elif re.match(match_submitted, sentence):\n",
    "        return re.search(match_submitted, sentence).group(0)\n",
    "    elif re.match(match_underreview, sentence):\n",
    "        return re.search(match_underreview, sentence).group(0)\n",
    "    \n",
    "    return np.nan"
   ]
  },
  {
   "cell_type": "code",
   "execution_count": 32,
   "metadata": {},
   "outputs": [],
   "source": [
    "references_df['ref_parsed'] = references_df.apply(lambda x: get_authors_month(x['ref']), axis=1)"
   ]
  },
  {
   "cell_type": "code",
   "execution_count": 33,
   "metadata": {},
   "outputs": [
    {
     "name": "stdout",
     "output_type": "stream",
     "text": [
      "Percentage of unparsed references: 0.00\n",
      "Number of unparsed references:  54\n",
      "Number of properly parsed references:  14680\n"
     ]
    }
   ],
   "source": [
    "print('Percentage of unparsed references: {:0.2f}'.format(references_df.ref_parsed.isna().sum()/references_df.ref_parsed.shape[0]))\n",
    "print('Number of unparsed references: ', references_df[references_df.ref_parsed.isna()].ref.shape[0])\n",
    "print('Number of properly parsed references: ', references_df.ref_parsed.shape[0])"
   ]
  },
  {
   "cell_type": "markdown",
   "metadata": {},
   "source": [
    "Unpased files:"
   ]
  },
  {
   "cell_type": "code",
   "execution_count": 34,
   "metadata": {},
   "outputs": [
    {
     "data": {
      "text/plain": [
       "['American Association for the Advancement of Science (AAAS; 2016). Benchmarks for Science Literacy. New York, Oxford University Press. Retrieved from www.AAAS.org.',\n",
       " 'Journal of Systems and Software, 86(5), 1390-1407. EEF. (2017). Education Endownment Foundation: Teaching & Learning Toolkit: Collaborative learning.',\n",
       " 'P21 Framework Definitions (2009). Partnership for 21st Century Skills. Retrieved from http://www.p21.org/storage/documents/P21_Framework_Definitions.pdf.',\n",
       " 'Dewey, 1913. Dewey, J. (1913). Interest and effort in education. Boston, MA: Riverside Press.',\n",
       " 'Gilbert (Ed.), Visualization in science education (pp. 121-145). Dordrecht, Netherlands: Springer. NRC. (2006). Learning to think spatially. Washington, D.C.: National Academies Press.',\n",
       " 'Blikstein, P. Gears of our childhood: constructionist toolkits, robotics, and physical computing, past and future. Proceedings of the 12th International Conference on Interaction Design and Children, ACM (2013), 173–182.',\n",
       " 'pedagogy: Instruction limits spontaneous exploration and discovery. Cognition 120, 3 (2011), 322–330. Bransford, J. and Schwartz, D. Rethinking Transfer: A Simple Proposal with Multiple Implications. Review of Research in Education 24, (1999). Crouch, C.H., Fagen, A.P., Callan, J.P., and Mazur, E. Classroom demonstrations: Learning tools or',\n",
       " 'Research in Education 24, (1999). Crouch, C.H., Fagen, A.P., Callan, J.P., and Mazur, E. Classroom demonstrations: Learning tools or entertainment? American Journal of Physics 72, 6 (2004), 835–838.',\n",
       " 'Kapur, M. Productive failure. Cognition and Instruction, 26 (2008), 379-424.',\n",
       " 'P21 Partnership for 21st Century Learning. (2009). Framework for 21st Century Learning. Retrieved from http://www.p21.org/about-us/p21-framework.',\n",
       " '* References marked with an asterisk indicate studies included in the review (Not a full list of all of the reviewed studies).',\n",
       " 'American Chemical Society [ACS]. (2001). General Chemistry Exam (Conceptual). Ames, IA: ACS Exams Institute.',\n",
       " 'Barber, E.W. 1994. Women’s work - The first 20,000 years: Women, cloth and society in early times. New York: W.W. Norton.',\n",
       " 'Achieve, 2013. Next Generation Science Standards. Washington, D.C.: Achieve, Inc.',\n",
       " 'Educational Psychologist, 46, 197-221 (2011). 1127',\n",
       " 'Partnership for 21st Century Skills. (2009). P21 Framework Definitions. Retrieved from http://www.p21.org/storage/documents/P21_Framework_Definitions.pdf',\n",
       " 'Polman, J. L., and †Miller, D. (2010). Changing stories: Trajectories of identification among African American youth in a science outreach apprenticeship. American Educational Research Journal, 47(4), 879-918.',\n",
       " 'Committee on Highly Successful Schools or Programs for K-12 STEM Education, National Research Council. (2011). Successful STEM education: A workshop summary.',\n",
       " 'National Research Council, Education, B. O. S., Education, D. O. B. A. S. S. A., & Standards, C. O. C. F. F. T. N. K.-1. S. E. (2012). A Framework for K-12 Science Education:. National Academies Press.',\n",
       " 'Committee on Highly Successful Schools or Programs for K-12 STEM Education, National Research Council. (2011). Successful STEM education: A workshop summary.',\n",
       " 'National Research Council, Education, B. O. S., Education, D. O. B. A. S. S. A., & Standards, C. O. C. F. F. T. N. K.-1. S. E. (2012). A Framework for K-12 Science Education:. National Academies Press.',\n",
       " 'PC1D, PVEducation (2017) [Online]. Available: http://www.pveducation.org/pvcdrom/characterisation/pc1d',\n",
       " 'K–12 Computer Science Framework. (2016). Retrieved from http://www.k12cs.org.',\n",
       " '[NGSS] Lead States. (2013). Next Generation Science Standards: For States, By States. Achieve, Inc.',\n",
       " 'Blikstein, P. Gears of our childhood: constructionist toolkits, robotics, and physical computing, past and future. Proceedings of the 12th International Conference on Interaction Design and Children, ACM (2013), 173–182.',\n",
       " 'pedagogy: Instruction limits spontaneous exploration and discovery. Cognition 120, 3 (2011), 322–330. Bransford, J. and Schwartz, D. Rethinking Transfer: A Simple Proposal with Multiple Implications. Review of Research in Education 24, (1999). Crouch, C.H., Fagen, A.P., Callan, J.P., and Mazur, E. Classroom demonstrations: Learning tools or',\n",
       " 'Research in Education 24, (1999). Crouch, C.H., Fagen, A.P., Callan, J.P., and Mazur, E. Classroom demonstrations: Learning tools or entertainment? American Journal of Physics 72, 6 (2004), 835–838.',\n",
       " 'Kapur, M. Productive failure. Cognition and Instruction, 26 (2008), 379-424.',\n",
       " '* References marked with an asterisk indicate studies included in the review (Not a full list of all of the reviewed studies).',\n",
       " 'Due to space constraints please find the full Reference List here: http://bit.ly/youthlearningsocialmedia',\n",
       " '1855',\n",
       " 'Alaimo, S. & Hekman, S., Eds., Material Feminisms, Bloomington, IN: Indiana University Press.',\n",
       " 'Krist, C., Schwarz, C. V., & Reiser, B. J. (manuscript under review). Identifying and supporting crosscutting epistemic heuristics that guide mechanistic reasoning in science learning.',\n",
       " 'K–12 computer science Framework. (2016). Retrieved from http://www.k12cs.org.',\n",
       " 'Shayan Doroudi and Emma Brunskill. The misidentified identifiability problem of Bayesian Knowledge Tracing. In Educational Data Mining, pages 143–149. International Educational Data Mining Society, 2017. Shayan Doroudi, Ece Kamar, Emma Brunskill, and Eric Horvitz. Toward a learning science for complex crowdsourcing tasks. In Proceedings of the 2016 CHI Conference on Human Factors in Computing Systems, pages 2623–2634. ACM, 2016. Shayan Doroudi, Vincent Aleven, and Emma Brunskill. Robust Evaluation Matrix: Towards a more principled offline exploration of instructional policies. In Proceedings of the Fourth (2017) ACM Conference on Learning@ Scale, pages 3–12. ACM, 2017. 1882',\n",
       " 'Kahneman, D., Beatty, J.: Pupil Diameter and Load on Memory. Science, 154(3756) (1966) 1583–1585.',\n",
       " 'Eisenberg, M. “Mindstuff.” Convergence: The International Journal of Research into New Media Technologies 9, no. 2 (2003): 29. Freeden, Michael. “Thinking Politically and Thinking About Politics : Language, Interpretation, and Ideology.” In Political Theory: Methods and Approaches. Oxford University Press, 2008.',\n",
       " 'Freeden, Michael. “What Should the ‘Political’ in Political Theory Explore?*.” Journal of Political Philosophy 13, no. 2 (2005): 113–134.',\n",
       " 'no. 1 (2000): 1–25.',\n",
       " 'Common Core State Standards for English Language Arts, K-5. (2010).',\n",
       " 'K–12 Computer Science Framework (K-12 CSF). (2016). Retrieved from http://www.k12cs.org',\n",
       " 'Educational Measurement: Issues and Practice 25, 4 (December 2006), 6–20.',\n",
       " 'Fournier-Viger, P., Lin, J.C.W., Gomariz, A., Gueniche, T., Soltani, A., Deng, Z., Lam, H.T.: The spmf opensource data mining library version 2. In: ECML PKDD. pp. 36–40. Springer (2016).',\n",
       " 'Science Talk. Journal of the Learning Sciences 10, no. 3 (2001): 323-63.',\n",
       " 'Accessible Rich Internet Applications (WAI-ARIA) 1.1. (2016, July 21). Retrieved October 26, 2016, from https://www.w3.org/TR/wai-aria-1.1/',\n",
       " 'Web Content Accessibility Guidelines (WCAG) 2.0. (2008, December 11). Retrieved November 06, 2016, from http://www.w3.org/TR/WCAG20/',\n",
       " 'http://doi.org/10.1002/1098-237X(200011)84:6<757::AID-SCE5>3.0.CO;2-F',\n",
       " 'Kahneman, D., Beatty, J.: Pupil Diameter and Load on Memory. Science, 154(3756) (1966) 1583–1585.',\n",
       " 'Aiello, L. M., Barrat, A., Cattuto, C., Ruffo, G., & Schifanella, R. Link Creation and Profile Alignment in the aNobii Social Network. In 2010 IEEE Second International Conference on Social Computing (SocialCom) (pp. 249–256). doi:10.1109/SocialCom.2010.42',\n",
       " 'Learning and Instruction, 20(2), 167-171. NRC. (2006). Learning to Think Spatially. Washington, D.C.: National Academies Press.',\n",
       " 'Partnership for 21st Century Skills. (2006). Are they really ready to work. Retrieved on November 21, 2006 from http://www.p21.org/documents/FINAL_REPORT_PDF09-29-06.pdf',\n",
       " 'Glymour, C., Scheines, Spirtes, P. Ramsey, J. TETRAD [Computer software] (2016). Center for Causal Discovery. Retrieved from http://www.phil.cmu.edu/tetrad/current.html',\n",
       " 'http://www.europarl.europa.eu/RegData/etudes/STUD/2015/542199/IPOL_STU(2015)542199_EN.pdf',\n",
       " 'Eyben, F., W, M., #246, llmer, Bj, #246, & Schuller, r. (2010). Opensmile: the munich versatile and fast opensource audio feature extractor. Paper presented at the Proceedings of the international conference on Multimedia, Firenze, Italy.']"
      ]
     },
     "execution_count": 34,
     "metadata": {},
     "output_type": "execute_result"
    }
   ],
   "source": [
    "references_df[references_df.ref_parsed.isna()].ref.tolist()"
   ]
  },
  {
   "cell_type": "code",
   "execution_count": 35,
   "metadata": {},
   "outputs": [
    {
     "data": {
      "text/html": [
       "<div>\n",
       "<style scoped>\n",
       "    .dataframe tbody tr th:only-of-type {\n",
       "        vertical-align: middle;\n",
       "    }\n",
       "\n",
       "    .dataframe tbody tr th {\n",
       "        vertical-align: top;\n",
       "    }\n",
       "\n",
       "    .dataframe thead th {\n",
       "        text-align: right;\n",
       "    }\n",
       "</style>\n",
       "<table border=\"1\" class=\"dataframe\">\n",
       "  <thead>\n",
       "    <tr style=\"text-align: right;\">\n",
       "      <th></th>\n",
       "      <th>ref</th>\n",
       "      <th>file</th>\n",
       "      <th>length</th>\n",
       "      <th>initial</th>\n",
       "      <th>ref_parsed</th>\n",
       "    </tr>\n",
       "  </thead>\n",
       "  <tbody>\n",
       "  </tbody>\n",
       "</table>\n",
       "</div>"
      ],
      "text/plain": [
       "Empty DataFrame\n",
       "Columns: [ref, file, length, initial, ref_parsed]\n",
       "Index: []"
      ]
     },
     "execution_count": 35,
     "metadata": {},
     "output_type": "execute_result"
    }
   ],
   "source": [
    "l = ['/import2016full/95',\n",
    " '/import2016full/92',\n",
    " '/import2016full/93',\n",
    " '/import2016full/94',\n",
    " '/import2016full/91',\n",
    " '/import2016full/96',\n",
    " '/import2016full/98',\n",
    " '/import2016full/97']\n",
    "references_df[references_df.file.map(lambda x: x in l)]"
   ]
  },
  {
   "cell_type": "code",
   "execution_count": 36,
   "metadata": {},
   "outputs": [
    {
     "data": {
      "text/html": [
       "<div>\n",
       "<style scoped>\n",
       "    .dataframe tbody tr th:only-of-type {\n",
       "        vertical-align: middle;\n",
       "    }\n",
       "\n",
       "    .dataframe tbody tr th {\n",
       "        vertical-align: top;\n",
       "    }\n",
       "\n",
       "    .dataframe thead th {\n",
       "        text-align: right;\n",
       "    }\n",
       "</style>\n",
       "<table border=\"1\" class=\"dataframe\">\n",
       "  <thead>\n",
       "    <tr style=\"text-align: right;\">\n",
       "      <th></th>\n",
       "      <th>ref</th>\n",
       "      <th>file</th>\n",
       "      <th>length</th>\n",
       "      <th>initial</th>\n",
       "      <th>ref_parsed</th>\n",
       "    </tr>\n",
       "  </thead>\n",
       "  <tbody>\n",
       "    <tr>\n",
       "      <th>0</th>\n",
       "      <td>Lave, J., &amp; Wenger, E. (1991). Situated learni...</td>\n",
       "      <td>import2018_371</td>\n",
       "      <td>108</td>\n",
       "      <td>L</td>\n",
       "      <td>Lave, J., &amp; Wenger, E. (1991)</td>\n",
       "    </tr>\n",
       "    <tr>\n",
       "      <th>1</th>\n",
       "      <td>Miles, M. B., Huberman, A. M., &amp; Saldana, J. (...</td>\n",
       "      <td>import2018_371</td>\n",
       "      <td>107</td>\n",
       "      <td>M</td>\n",
       "      <td>Miles, M. B., Huberman, A. M., &amp; Saldana, J. (...</td>\n",
       "    </tr>\n",
       "    <tr>\n",
       "      <th>2</th>\n",
       "      <td>Pea, R. D., Gomez, L. M., Edelson, D. C., Fish...</td>\n",
       "      <td>import2018_371</td>\n",
       "      <td>294</td>\n",
       "      <td>P</td>\n",
       "      <td>Pea, R. D., Gomez, L. M., Edelson, D. C., Fish...</td>\n",
       "    </tr>\n",
       "    <tr>\n",
       "      <th>3</th>\n",
       "      <td>Rogoff, B. (1995). Observing sociocultural act...</td>\n",
       "      <td>import2018_371</td>\n",
       "      <td>269</td>\n",
       "      <td>R</td>\n",
       "      <td>Rogoff, B. (1995)</td>\n",
       "    </tr>\n",
       "    <tr>\n",
       "      <th>4</th>\n",
       "      <td>Shirk, J., Ballard, H., Wilderman, C., Phillip...</td>\n",
       "      <td>import2018_371</td>\n",
       "      <td>215</td>\n",
       "      <td>S</td>\n",
       "      <td>Shirk, J., Ballard, H., Wilderman, C., Phillip...</td>\n",
       "    </tr>\n",
       "  </tbody>\n",
       "</table>\n",
       "</div>"
      ],
      "text/plain": [
       "                                                 ref            file  length  \\\n",
       "0  Lave, J., & Wenger, E. (1991). Situated learni...  import2018_371     108   \n",
       "1  Miles, M. B., Huberman, A. M., & Saldana, J. (...  import2018_371     107   \n",
       "2  Pea, R. D., Gomez, L. M., Edelson, D. C., Fish...  import2018_371     294   \n",
       "3  Rogoff, B. (1995). Observing sociocultural act...  import2018_371     269   \n",
       "4  Shirk, J., Ballard, H., Wilderman, C., Phillip...  import2018_371     215   \n",
       "\n",
       "  initial                                         ref_parsed  \n",
       "0       L                      Lave, J., & Wenger, E. (1991)  \n",
       "1       M  Miles, M. B., Huberman, A. M., & Saldana, J. (...  \n",
       "2       P  Pea, R. D., Gomez, L. M., Edelson, D. C., Fish...  \n",
       "3       R                                  Rogoff, B. (1995)  \n",
       "4       S  Shirk, J., Ballard, H., Wilderman, C., Phillip...  "
      ]
     },
     "execution_count": 36,
     "metadata": {},
     "output_type": "execute_result"
    }
   ],
   "source": [
    "references_df.head()"
   ]
  },
  {
   "cell_type": "code",
   "execution_count": 37,
   "metadata": {},
   "outputs": [
    {
     "data": {
      "text/plain": [
       "file\n",
       "import2015full_105    33\n",
       "import2015full_122    33\n",
       "import2015full_126    45\n",
       "import2015full_136     8\n",
       "import2015full_146    23\n",
       "Name: counts, dtype: int64"
      ]
     },
     "execution_count": 37,
     "metadata": {},
     "output_type": "execute_result"
    }
   ],
   "source": [
    "ref_counts = references_df.groupby('file').ref_parsed.count()\n",
    "ref_counts.name = 'counts'\n",
    "ref_counts.head()"
   ]
  },
  {
   "cell_type": "code",
   "execution_count": 38,
   "metadata": {},
   "outputs": [
    {
     "data": {
      "text/plain": [
       "count    865.000000\n",
       "mean      16.908671\n",
       "std       11.073606\n",
       "min        0.000000\n",
       "25%        8.000000\n",
       "50%       15.000000\n",
       "75%       23.000000\n",
       "max       77.000000\n",
       "Name: counts, dtype: float64"
      ]
     },
     "execution_count": 38,
     "metadata": {},
     "output_type": "execute_result"
    }
   ],
   "source": [
    "ref_counts.describe()"
   ]
  },
  {
   "cell_type": "code",
   "execution_count": 39,
   "metadata": {},
   "outputs": [
    {
     "data": {
      "text/html": [
       "<div>\n",
       "<style scoped>\n",
       "    .dataframe tbody tr th:only-of-type {\n",
       "        vertical-align: middle;\n",
       "    }\n",
       "\n",
       "    .dataframe tbody tr th {\n",
       "        vertical-align: top;\n",
       "    }\n",
       "\n",
       "    .dataframe thead th {\n",
       "        text-align: right;\n",
       "    }\n",
       "</style>\n",
       "<table border=\"1\" class=\"dataframe\">\n",
       "  <thead>\n",
       "    <tr style=\"text-align: right;\">\n",
       "      <th></th>\n",
       "      <th>ref</th>\n",
       "      <th>file</th>\n",
       "      <th>length</th>\n",
       "      <th>initial</th>\n",
       "      <th>ref_parsed</th>\n",
       "      <th>counts</th>\n",
       "    </tr>\n",
       "  </thead>\n",
       "  <tbody>\n",
       "    <tr>\n",
       "      <th>0</th>\n",
       "      <td>Lave, J., &amp; Wenger, E. (1991). Situated learni...</td>\n",
       "      <td>import2018_371</td>\n",
       "      <td>108</td>\n",
       "      <td>L</td>\n",
       "      <td>Lave, J., &amp; Wenger, E. (1991)</td>\n",
       "      <td>5</td>\n",
       "    </tr>\n",
       "    <tr>\n",
       "      <th>1</th>\n",
       "      <td>Miles, M. B., Huberman, A. M., &amp; Saldana, J. (...</td>\n",
       "      <td>import2018_371</td>\n",
       "      <td>107</td>\n",
       "      <td>M</td>\n",
       "      <td>Miles, M. B., Huberman, A. M., &amp; Saldana, J. (...</td>\n",
       "      <td>5</td>\n",
       "    </tr>\n",
       "    <tr>\n",
       "      <th>2</th>\n",
       "      <td>Pea, R. D., Gomez, L. M., Edelson, D. C., Fish...</td>\n",
       "      <td>import2018_371</td>\n",
       "      <td>294</td>\n",
       "      <td>P</td>\n",
       "      <td>Pea, R. D., Gomez, L. M., Edelson, D. C., Fish...</td>\n",
       "      <td>5</td>\n",
       "    </tr>\n",
       "    <tr>\n",
       "      <th>3</th>\n",
       "      <td>Rogoff, B. (1995). Observing sociocultural act...</td>\n",
       "      <td>import2018_371</td>\n",
       "      <td>269</td>\n",
       "      <td>R</td>\n",
       "      <td>Rogoff, B. (1995)</td>\n",
       "      <td>5</td>\n",
       "    </tr>\n",
       "    <tr>\n",
       "      <th>4</th>\n",
       "      <td>Shirk, J., Ballard, H., Wilderman, C., Phillip...</td>\n",
       "      <td>import2018_371</td>\n",
       "      <td>215</td>\n",
       "      <td>S</td>\n",
       "      <td>Shirk, J., Ballard, H., Wilderman, C., Phillip...</td>\n",
       "      <td>5</td>\n",
       "    </tr>\n",
       "  </tbody>\n",
       "</table>\n",
       "</div>"
      ],
      "text/plain": [
       "                                                 ref            file  length  \\\n",
       "0  Lave, J., & Wenger, E. (1991). Situated learni...  import2018_371     108   \n",
       "1  Miles, M. B., Huberman, A. M., & Saldana, J. (...  import2018_371     107   \n",
       "2  Pea, R. D., Gomez, L. M., Edelson, D. C., Fish...  import2018_371     294   \n",
       "3  Rogoff, B. (1995). Observing sociocultural act...  import2018_371     269   \n",
       "4  Shirk, J., Ballard, H., Wilderman, C., Phillip...  import2018_371     215   \n",
       "\n",
       "  initial                                         ref_parsed  counts  \n",
       "0       L                      Lave, J., & Wenger, E. (1991)       5  \n",
       "1       M  Miles, M. B., Huberman, A. M., & Saldana, J. (...       5  \n",
       "2       P  Pea, R. D., Gomez, L. M., Edelson, D. C., Fish...       5  \n",
       "3       R                                  Rogoff, B. (1995)       5  \n",
       "4       S  Shirk, J., Ballard, H., Wilderman, C., Phillip...       5  "
      ]
     },
     "execution_count": 39,
     "metadata": {},
     "output_type": "execute_result"
    }
   ],
   "source": [
    "df = references_df.join(ref_counts, on='file')\n",
    "df.head()"
   ]
  },
  {
   "cell_type": "markdown",
   "metadata": {},
   "source": [
    "We see that only papers that are invalid have no citation"
   ]
  },
  {
   "cell_type": "code",
   "execution_count": 40,
   "metadata": {},
   "outputs": [
    {
     "data": {
      "text/plain": [
       "['Shayan Doroudi and Emma Brunskill. The misidentified identifiability problem of Bayesian Knowledge Tracing. In Educational Data Mining, pages 143–149. International Educational Data Mining Society, 2017. Shayan Doroudi, Ece Kamar, Emma Brunskill, and Eric Horvitz. Toward a learning science for complex crowdsourcing tasks. In Proceedings of the 2016 CHI Conference on Human Factors in Computing Systems, pages 2623–2634. ACM, 2016. Shayan Doroudi, Vincent Aleven, and Emma Brunskill. Robust Evaluation Matrix: Towards a more principled offline exploration of instructional policies. In Proceedings of the Fourth (2017) ACM Conference on Learning@ Scale, pages 3–12. ACM, 2017. 1882']"
      ]
     },
     "execution_count": 40,
     "metadata": {},
     "output_type": "execute_result"
    }
   ],
   "source": [
    "df[df.counts == 0].ref.tolist()"
   ]
  },
  {
   "cell_type": "code",
   "execution_count": 41,
   "metadata": {
    "scrolled": true
   },
   "outputs": [
    {
     "data": {
      "text/html": [
       "<div>\n",
       "<style scoped>\n",
       "    .dataframe tbody tr th:only-of-type {\n",
       "        vertical-align: middle;\n",
       "    }\n",
       "\n",
       "    .dataframe tbody tr th {\n",
       "        vertical-align: top;\n",
       "    }\n",
       "\n",
       "    .dataframe thead th {\n",
       "        text-align: right;\n",
       "    }\n",
       "</style>\n",
       "<table border=\"1\" class=\"dataframe\">\n",
       "  <thead>\n",
       "    <tr style=\"text-align: right;\">\n",
       "      <th></th>\n",
       "      <th>ref</th>\n",
       "      <th>file</th>\n",
       "      <th>length</th>\n",
       "      <th>initial</th>\n",
       "      <th>ref_parsed</th>\n",
       "      <th>counts</th>\n",
       "    </tr>\n",
       "  </thead>\n",
       "  <tbody>\n",
       "    <tr>\n",
       "      <th>970</th>\n",
       "      <td>Bazerman, C. (1983). Scientific writing as a s...</td>\n",
       "      <td>import2018_414</td>\n",
       "      <td>343</td>\n",
       "      <td>B</td>\n",
       "      <td>Bazerman, C. (1983)</td>\n",
       "      <td>3</td>\n",
       "    </tr>\n",
       "    <tr>\n",
       "      <th>971</th>\n",
       "      <td>diSessa, A. A., &amp; Sherin, B. (1998). What chan...</td>\n",
       "      <td>import2018_414</td>\n",
       "      <td>134</td>\n",
       "      <td>d</td>\n",
       "      <td>diSessa, A. A., &amp; Sherin, B. (1998)</td>\n",
       "      <td>3</td>\n",
       "    </tr>\n",
       "    <tr>\n",
       "      <th>972</th>\n",
       "      <td>Jordan, B., &amp; Henderson, A. (1995). Interactio...</td>\n",
       "      <td>import2018_414</td>\n",
       "      <td>136</td>\n",
       "      <td>J</td>\n",
       "      <td>Jordan, B., &amp; Henderson, A. (1995)</td>\n",
       "      <td>3</td>\n",
       "    </tr>\n",
       "    <tr>\n",
       "      <th>1985</th>\n",
       "      <td>Greenhow, M (2015). Effective computer-aided a...</td>\n",
       "      <td>import2018_401</td>\n",
       "      <td>203</td>\n",
       "      <td>G</td>\n",
       "      <td>Greenhow, M (2015)</td>\n",
       "      <td>3</td>\n",
       "    </tr>\n",
       "    <tr>\n",
       "      <th>1986</th>\n",
       "      <td>Lewis, D. J. A. &amp;. Sewell, R. D. E (2007). Pro...</td>\n",
       "      <td>import2018_401</td>\n",
       "      <td>201</td>\n",
       "      <td>L</td>\n",
       "      <td>Lewis, D. J. A. &amp;. Sewell, R. D. E (2007)</td>\n",
       "      <td>3</td>\n",
       "    </tr>\n",
       "    <tr>\n",
       "      <th>1987</th>\n",
       "      <td>Mirmotahari, O. &amp; Berg, Y. (2016). Individuell...</td>\n",
       "      <td>import2018_401</td>\n",
       "      <td>344</td>\n",
       "      <td>M</td>\n",
       "      <td>Mirmotahari, O. &amp; Berg, Y. (2016)</td>\n",
       "      <td>3</td>\n",
       "    </tr>\n",
       "    <tr>\n",
       "      <th>3833</th>\n",
       "      <td>Lewis, C. (2002). Lesson study: A handbook of ...</td>\n",
       "      <td>import2018_375</td>\n",
       "      <td>122</td>\n",
       "      <td>L</td>\n",
       "      <td>Lewis, C. (2002)</td>\n",
       "      <td>3</td>\n",
       "    </tr>\n",
       "    <tr>\n",
       "      <th>3834</th>\n",
       "      <td>Miyake, N. (2013). Case report 5: Knowledge co...</td>\n",
       "      <td>import2018_375</td>\n",
       "      <td>251</td>\n",
       "      <td>M</td>\n",
       "      <td>Miyake, N. (2013)</td>\n",
       "      <td>3</td>\n",
       "    </tr>\n",
       "    <tr>\n",
       "      <th>3835</th>\n",
       "      <td>Penuel, W. R., Fishman, B. J., Yamaguchi, R., ...</td>\n",
       "      <td>import2018_375</td>\n",
       "      <td>224</td>\n",
       "      <td>P</td>\n",
       "      <td>Penuel, W. R., Fishman, B. J., Yamaguchi, R., ...</td>\n",
       "      <td>3</td>\n",
       "    </tr>\n",
       "    <tr>\n",
       "      <th>5820</th>\n",
       "      <td>Dawson, S. (2010). “Seeing” the learning commu...</td>\n",
       "      <td>import2018_300</td>\n",
       "      <td>200</td>\n",
       "      <td>D</td>\n",
       "      <td>Dawson, S. (2010)</td>\n",
       "      <td>3</td>\n",
       "    </tr>\n",
       "    <tr>\n",
       "      <th>5821</th>\n",
       "      <td>Scott, J. (2012). Social Network Analysis. SAG...</td>\n",
       "      <td>import2018_300</td>\n",
       "      <td>86</td>\n",
       "      <td>S</td>\n",
       "      <td>Scott, J. (2012)</td>\n",
       "      <td>3</td>\n",
       "    </tr>\n",
       "    <tr>\n",
       "      <th>5822</th>\n",
       "      <td>Vaquero, L. M., &amp; Cebrian, M. (2013). The rich...</td>\n",
       "      <td>import2018_300</td>\n",
       "      <td>112</td>\n",
       "      <td>V</td>\n",
       "      <td>Vaquero, L. M., &amp; Cebrian, M. (2013)</td>\n",
       "      <td>3</td>\n",
       "    </tr>\n",
       "    <tr>\n",
       "      <th>6713</th>\n",
       "      <td>Diana, N., Eagle, M., Stamper, J., Grover, S.,...</td>\n",
       "      <td>import2018_301</td>\n",
       "      <td>367</td>\n",
       "      <td>D</td>\n",
       "      <td>Diana, N., Eagle, M., Stamper, J., Grover, S.,...</td>\n",
       "      <td>3</td>\n",
       "    </tr>\n",
       "    <tr>\n",
       "      <th>6714</th>\n",
       "      <td>Diana, N., Grover, S., Eagle, M., Bienkowski, ...</td>\n",
       "      <td>import2018_301</td>\n",
       "      <td>278</td>\n",
       "      <td>D</td>\n",
       "      <td>Diana, N., Grover, S., Eagle, M., Bienkowski, ...</td>\n",
       "      <td>3</td>\n",
       "    </tr>\n",
       "    <tr>\n",
       "      <th>6715</th>\n",
       "      <td>Werner, L., Denner, J., &amp; Campe, S. (2012). Th...</td>\n",
       "      <td>import2018_301</td>\n",
       "      <td>274</td>\n",
       "      <td>W</td>\n",
       "      <td>Werner, L., Denner, J., &amp; Campe, S. (2012)</td>\n",
       "      <td>3</td>\n",
       "    </tr>\n",
       "    <tr>\n",
       "      <th>7669</th>\n",
       "      <td>Hackman, D. A., &amp; Farah, M. J. (2009). Socioec...</td>\n",
       "      <td>import2018_496</td>\n",
       "      <td>129</td>\n",
       "      <td>H</td>\n",
       "      <td>Hackman, D. A., &amp; Farah, M. J. (2009)</td>\n",
       "      <td>3</td>\n",
       "    </tr>\n",
       "    <tr>\n",
       "      <th>7670</th>\n",
       "      <td>McIntosh, A. R., &amp; Lobaugh, N. J. (2004). Part...</td>\n",
       "      <td>import2018_496</td>\n",
       "      <td>148</td>\n",
       "      <td>M</td>\n",
       "      <td>McIntosh, A. R., &amp; Lobaugh, N. J. (2004)</td>\n",
       "      <td>3</td>\n",
       "    </tr>\n",
       "    <tr>\n",
       "      <th>7671</th>\n",
       "      <td>Snow, C. E. (2010). Academic language and the ...</td>\n",
       "      <td>import2018_496</td>\n",
       "      <td>114</td>\n",
       "      <td>S</td>\n",
       "      <td>Snow, C. E. (2010)</td>\n",
       "      <td>3</td>\n",
       "    </tr>\n",
       "    <tr>\n",
       "      <th>8763</th>\n",
       "      <td>Horn, M., Atrash Leong, Z., Block, F., Diamond...</td>\n",
       "      <td>import2018_287</td>\n",
       "      <td>279</td>\n",
       "      <td>H</td>\n",
       "      <td>Horn, M., Atrash Leong, Z., Block, F., Diamond...</td>\n",
       "      <td>3</td>\n",
       "    </tr>\n",
       "    <tr>\n",
       "      <th>8764</th>\n",
       "      <td>Gutwill, J. P., Hido, N., &amp; Sindorf, L. (2015)...</td>\n",
       "      <td>import2018_287</td>\n",
       "      <td>158</td>\n",
       "      <td>G</td>\n",
       "      <td>Gutwill, J. P., Hido, N., &amp; Sindorf, L. (2015)</td>\n",
       "      <td>3</td>\n",
       "    </tr>\n",
       "    <tr>\n",
       "      <th>8765</th>\n",
       "      <td>Rajlich, V. (2006). Changing the paradigm of s...</td>\n",
       "      <td>import2018_287</td>\n",
       "      <td>112</td>\n",
       "      <td>R</td>\n",
       "      <td>Rajlich, V. (2006)</td>\n",
       "      <td>3</td>\n",
       "    </tr>\n",
       "    <tr>\n",
       "      <th>10201</th>\n",
       "      <td>Abrahamson, D., &amp; Sánchez-García, R. (2016). L...</td>\n",
       "      <td>import2018_524</td>\n",
       "      <td>176</td>\n",
       "      <td>A</td>\n",
       "      <td>Abrahamson, D., &amp; Sánchez-García, R. (2016)</td>\n",
       "      <td>3</td>\n",
       "    </tr>\n",
       "    <tr>\n",
       "      <th>10202</th>\n",
       "      <td>Danish, J. A. (2014). Applying an activity the...</td>\n",
       "      <td>import2018_524</td>\n",
       "      <td>208</td>\n",
       "      <td>D</td>\n",
       "      <td>Danish, J. A. (2014)</td>\n",
       "      <td>3</td>\n",
       "    </tr>\n",
       "    <tr>\n",
       "      <th>10203</th>\n",
       "      <td>Danish, J. A., Enyedy, N., Saleh, A., Lee, C.,...</td>\n",
       "      <td>import2018_524</td>\n",
       "      <td>216</td>\n",
       "      <td>D</td>\n",
       "      <td>Danish, J. A., Enyedy, N., Saleh, A., Lee, C.,...</td>\n",
       "      <td>3</td>\n",
       "    </tr>\n",
       "    <tr>\n",
       "      <th>10521</th>\n",
       "      <td>Bakhtiar, A., Webster, E. A., &amp; Hadwin, A. F. ...</td>\n",
       "      <td>import2018_525</td>\n",
       "      <td>176</td>\n",
       "      <td>B</td>\n",
       "      <td>Bakhtiar, A., Webster, E. A., &amp; Hadwin, A. F. ...</td>\n",
       "      <td>3</td>\n",
       "    </tr>\n",
       "    <tr>\n",
       "      <th>10522</th>\n",
       "      <td>Pekrun, R., Goetz, T., Titz, W., &amp; Perry, R. (...</td>\n",
       "      <td>import2018_525</td>\n",
       "      <td>214</td>\n",
       "      <td>P</td>\n",
       "      <td>Pekrun, R., Goetz, T., Titz, W., &amp; Perry, R. (...</td>\n",
       "      <td>3</td>\n",
       "    </tr>\n",
       "    <tr>\n",
       "      <th>10523</th>\n",
       "      <td>Saldaña, J. (2016). The coding manual for qual...</td>\n",
       "      <td>import2018_525</td>\n",
       "      <td>99</td>\n",
       "      <td>S</td>\n",
       "      <td>Saldaña, J. (2016)</td>\n",
       "      <td>3</td>\n",
       "    </tr>\n",
       "    <tr>\n",
       "      <th>10752</th>\n",
       "      <td>Wise, A. F. (2014, March). Designing pedagogic...</td>\n",
       "      <td>import2018_451</td>\n",
       "      <td>209</td>\n",
       "      <td>W</td>\n",
       "      <td>Wise, A. F. (2014, March)</td>\n",
       "      <td>3</td>\n",
       "    </tr>\n",
       "    <tr>\n",
       "      <th>10753</th>\n",
       "      <td>Wise, A. F., &amp; Chiu, M. M. (2011). Analyzing t...</td>\n",
       "      <td>import2018_451</td>\n",
       "      <td>206</td>\n",
       "      <td>W</td>\n",
       "      <td>Wise, A. F., &amp; Chiu, M. M. (2011)</td>\n",
       "      <td>3</td>\n",
       "    </tr>\n",
       "    <tr>\n",
       "      <th>10754</th>\n",
       "      <td>Chen, B., &amp; Resendes, M. (2014, March). Uncove...</td>\n",
       "      <td>import2018_451</td>\n",
       "      <td>270</td>\n",
       "      <td>C</td>\n",
       "      <td>Chen, B., &amp; Resendes, M. (2014, March)</td>\n",
       "      <td>3</td>\n",
       "    </tr>\n",
       "    <tr>\n",
       "      <th>11794</th>\n",
       "      <td>Boaler, J. (2016). Mathematical mindsets: Unle...</td>\n",
       "      <td>import2018_347</td>\n",
       "      <td>172</td>\n",
       "      <td>B</td>\n",
       "      <td>Boaler, J. (2016)</td>\n",
       "      <td>3</td>\n",
       "    </tr>\n",
       "    <tr>\n",
       "      <th>11795</th>\n",
       "      <td>Brown, A. (1992). Design experiments: Theoreti...</td>\n",
       "      <td>import2018_347</td>\n",
       "      <td>185</td>\n",
       "      <td>B</td>\n",
       "      <td>Brown, A. (1992)</td>\n",
       "      <td>3</td>\n",
       "    </tr>\n",
       "    <tr>\n",
       "      <th>11796</th>\n",
       "      <td>Piaget, J. (1951). The child's conception of t...</td>\n",
       "      <td>import2018_347</td>\n",
       "      <td>87</td>\n",
       "      <td>P</td>\n",
       "      <td>Piaget, J. (1951)</td>\n",
       "      <td>3</td>\n",
       "    </tr>\n",
       "    <tr>\n",
       "      <th>12949</th>\n",
       "      <td>Calabrese Barton, A. and Tan, E. (2010). We Be...</td>\n",
       "      <td>import2018_424</td>\n",
       "      <td>144</td>\n",
       "      <td>C</td>\n",
       "      <td>Calabrese Barton, A. and Tan, E. (2010)</td>\n",
       "      <td>3</td>\n",
       "    </tr>\n",
       "    <tr>\n",
       "      <th>12950</th>\n",
       "      <td>Esmonde, I. (2009). Ideas and Identities: Supp...</td>\n",
       "      <td>import2018_424</td>\n",
       "      <td>146</td>\n",
       "      <td>E</td>\n",
       "      <td>Esmonde, I. (2009)</td>\n",
       "      <td>3</td>\n",
       "    </tr>\n",
       "    <tr>\n",
       "      <th>12951</th>\n",
       "      <td>Harré, R. and Van Langenhove, L., (Eds.). (199...</td>\n",
       "      <td>import2018_424</td>\n",
       "      <td>126</td>\n",
       "      <td>H</td>\n",
       "      <td>Harré, R. and Van Langenhove, L., (Eds.). (1998)</td>\n",
       "      <td>3</td>\n",
       "    </tr>\n",
       "    <tr>\n",
       "      <th>13400</th>\n",
       "      <td>Bransford, J. D., Brown, A. L., Cocking, R. R....</td>\n",
       "      <td>import2016short_168</td>\n",
       "      <td>191</td>\n",
       "      <td>B</td>\n",
       "      <td>Bransford, J. D., Brown, A. L., Cocking, R. R....</td>\n",
       "      <td>3</td>\n",
       "    </tr>\n",
       "    <tr>\n",
       "      <th>13401</th>\n",
       "      <td>National Research Council. (2012). A framework...</td>\n",
       "      <td>import2016short_168</td>\n",
       "      <td>300</td>\n",
       "      <td>N</td>\n",
       "      <td>National Research Council. (2012)</td>\n",
       "      <td>3</td>\n",
       "    </tr>\n",
       "    <tr>\n",
       "      <th>13402</th>\n",
       "      <td>DC: The National Academies Press. U.S. Departm...</td>\n",
       "      <td>import2016short_168</td>\n",
       "      <td>193</td>\n",
       "      <td>D</td>\n",
       "      <td>DC: The National Academies Press. U.S. Departm...</td>\n",
       "      <td>3</td>\n",
       "    </tr>\n",
       "    <tr>\n",
       "      <th>13641</th>\n",
       "      <td>Järvelä, S., Kirschner, P. A., Panadero, E., M...</td>\n",
       "      <td>import2018_343</td>\n",
       "      <td>285</td>\n",
       "      <td>J</td>\n",
       "      <td>Järvelä, S., Kirschner, P. A., Panadero, E., M...</td>\n",
       "      <td>3</td>\n",
       "    </tr>\n",
       "    <tr>\n",
       "      <th>13642</th>\n",
       "      <td>Koh, E., Hong, H., &amp; Tan, J. P.-L. (2018). For...</td>\n",
       "      <td>import2018_343</td>\n",
       "      <td>272</td>\n",
       "      <td>K</td>\n",
       "      <td>Koh, E., Hong, H., &amp; Tan, J. P.-L. (2018)</td>\n",
       "      <td>3</td>\n",
       "    </tr>\n",
       "    <tr>\n",
       "      <th>13643</th>\n",
       "      <td>Phielix, C., Prins, F. J., Kirschner, P. A., E...</td>\n",
       "      <td>import2018_343</td>\n",
       "      <td>248</td>\n",
       "      <td>P</td>\n",
       "      <td>Phielix, C., Prins, F. J., Kirschner, P. A., E...</td>\n",
       "      <td>3</td>\n",
       "    </tr>\n",
       "    <tr>\n",
       "      <th>14038</th>\n",
       "      <td>Blikstein, P. (2013). Digital fabrication and ...</td>\n",
       "      <td>import2018_209</td>\n",
       "      <td>152</td>\n",
       "      <td>B</td>\n",
       "      <td>Blikstein, P. (2013)</td>\n",
       "      <td>3</td>\n",
       "    </tr>\n",
       "    <tr>\n",
       "      <th>14039</th>\n",
       "      <td>Hatch, M. (2014). The maker movement manifesto...</td>\n",
       "      <td>import2018_209</td>\n",
       "      <td>70</td>\n",
       "      <td>H</td>\n",
       "      <td>Hatch, M. (2014)</td>\n",
       "      <td>3</td>\n",
       "    </tr>\n",
       "    <tr>\n",
       "      <th>14040</th>\n",
       "      <td>Lewis, J. (2015). Barriers to women’s involvem...</td>\n",
       "      <td>import2018_209</td>\n",
       "      <td>213</td>\n",
       "      <td>L</td>\n",
       "      <td>Lewis, J. (2015)</td>\n",
       "      <td>3</td>\n",
       "    </tr>\n",
       "  </tbody>\n",
       "</table>\n",
       "</div>"
      ],
      "text/plain": [
       "                                                     ref                 file  \\\n",
       "970    Bazerman, C. (1983). Scientific writing as a s...       import2018_414   \n",
       "971    diSessa, A. A., & Sherin, B. (1998). What chan...       import2018_414   \n",
       "972    Jordan, B., & Henderson, A. (1995). Interactio...       import2018_414   \n",
       "1985   Greenhow, M (2015). Effective computer-aided a...       import2018_401   \n",
       "1986   Lewis, D. J. A. &. Sewell, R. D. E (2007). Pro...       import2018_401   \n",
       "1987   Mirmotahari, O. & Berg, Y. (2016). Individuell...       import2018_401   \n",
       "3833   Lewis, C. (2002). Lesson study: A handbook of ...       import2018_375   \n",
       "3834   Miyake, N. (2013). Case report 5: Knowledge co...       import2018_375   \n",
       "3835   Penuel, W. R., Fishman, B. J., Yamaguchi, R., ...       import2018_375   \n",
       "5820   Dawson, S. (2010). “Seeing” the learning commu...       import2018_300   \n",
       "5821   Scott, J. (2012). Social Network Analysis. SAG...       import2018_300   \n",
       "5822   Vaquero, L. M., & Cebrian, M. (2013). The rich...       import2018_300   \n",
       "6713   Diana, N., Eagle, M., Stamper, J., Grover, S.,...       import2018_301   \n",
       "6714   Diana, N., Grover, S., Eagle, M., Bienkowski, ...       import2018_301   \n",
       "6715   Werner, L., Denner, J., & Campe, S. (2012). Th...       import2018_301   \n",
       "7669   Hackman, D. A., & Farah, M. J. (2009). Socioec...       import2018_496   \n",
       "7670   McIntosh, A. R., & Lobaugh, N. J. (2004). Part...       import2018_496   \n",
       "7671   Snow, C. E. (2010). Academic language and the ...       import2018_496   \n",
       "8763   Horn, M., Atrash Leong, Z., Block, F., Diamond...       import2018_287   \n",
       "8764   Gutwill, J. P., Hido, N., & Sindorf, L. (2015)...       import2018_287   \n",
       "8765   Rajlich, V. (2006). Changing the paradigm of s...       import2018_287   \n",
       "10201  Abrahamson, D., & Sánchez-García, R. (2016). L...       import2018_524   \n",
       "10202  Danish, J. A. (2014). Applying an activity the...       import2018_524   \n",
       "10203  Danish, J. A., Enyedy, N., Saleh, A., Lee, C.,...       import2018_524   \n",
       "10521  Bakhtiar, A., Webster, E. A., & Hadwin, A. F. ...       import2018_525   \n",
       "10522  Pekrun, R., Goetz, T., Titz, W., & Perry, R. (...       import2018_525   \n",
       "10523  Saldaña, J. (2016). The coding manual for qual...       import2018_525   \n",
       "10752  Wise, A. F. (2014, March). Designing pedagogic...       import2018_451   \n",
       "10753  Wise, A. F., & Chiu, M. M. (2011). Analyzing t...       import2018_451   \n",
       "10754  Chen, B., & Resendes, M. (2014, March). Uncove...       import2018_451   \n",
       "11794  Boaler, J. (2016). Mathematical mindsets: Unle...       import2018_347   \n",
       "11795  Brown, A. (1992). Design experiments: Theoreti...       import2018_347   \n",
       "11796  Piaget, J. (1951). The child's conception of t...       import2018_347   \n",
       "12949  Calabrese Barton, A. and Tan, E. (2010). We Be...       import2018_424   \n",
       "12950  Esmonde, I. (2009). Ideas and Identities: Supp...       import2018_424   \n",
       "12951  Harré, R. and Van Langenhove, L., (Eds.). (199...       import2018_424   \n",
       "13400  Bransford, J. D., Brown, A. L., Cocking, R. R....  import2016short_168   \n",
       "13401  National Research Council. (2012). A framework...  import2016short_168   \n",
       "13402  DC: The National Academies Press. U.S. Departm...  import2016short_168   \n",
       "13641  Järvelä, S., Kirschner, P. A., Panadero, E., M...       import2018_343   \n",
       "13642  Koh, E., Hong, H., & Tan, J. P.-L. (2018). For...       import2018_343   \n",
       "13643  Phielix, C., Prins, F. J., Kirschner, P. A., E...       import2018_343   \n",
       "14038  Blikstein, P. (2013). Digital fabrication and ...       import2018_209   \n",
       "14039  Hatch, M. (2014). The maker movement manifesto...       import2018_209   \n",
       "14040  Lewis, J. (2015). Barriers to women’s involvem...       import2018_209   \n",
       "\n",
       "       length initial                                         ref_parsed  \\\n",
       "970       343       B                                Bazerman, C. (1983)   \n",
       "971       134       d                diSessa, A. A., & Sherin, B. (1998)   \n",
       "972       136       J                 Jordan, B., & Henderson, A. (1995)   \n",
       "1985      203       G                                 Greenhow, M (2015)   \n",
       "1986      201       L          Lewis, D. J. A. &. Sewell, R. D. E (2007)   \n",
       "1987      344       M                  Mirmotahari, O. & Berg, Y. (2016)   \n",
       "3833      122       L                                   Lewis, C. (2002)   \n",
       "3834      251       M                                  Miyake, N. (2013)   \n",
       "3835      224       P  Penuel, W. R., Fishman, B. J., Yamaguchi, R., ...   \n",
       "5820      200       D                                  Dawson, S. (2010)   \n",
       "5821       86       S                                   Scott, J. (2012)   \n",
       "5822      112       V               Vaquero, L. M., & Cebrian, M. (2013)   \n",
       "6713      367       D  Diana, N., Eagle, M., Stamper, J., Grover, S.,...   \n",
       "6714      278       D  Diana, N., Grover, S., Eagle, M., Bienkowski, ...   \n",
       "6715      274       W         Werner, L., Denner, J., & Campe, S. (2012)   \n",
       "7669      129       H              Hackman, D. A., & Farah, M. J. (2009)   \n",
       "7670      148       M           McIntosh, A. R., & Lobaugh, N. J. (2004)   \n",
       "7671      114       S                                 Snow, C. E. (2010)   \n",
       "8763      279       H  Horn, M., Atrash Leong, Z., Block, F., Diamond...   \n",
       "8764      158       G     Gutwill, J. P., Hido, N., & Sindorf, L. (2015)   \n",
       "8765      112       R                                 Rajlich, V. (2006)   \n",
       "10201     176       A        Abrahamson, D., & Sánchez-García, R. (2016)   \n",
       "10202     208       D                               Danish, J. A. (2014)   \n",
       "10203     216       D  Danish, J. A., Enyedy, N., Saleh, A., Lee, C.,...   \n",
       "10521     176       B  Bakhtiar, A., Webster, E. A., & Hadwin, A. F. ...   \n",
       "10522     214       P  Pekrun, R., Goetz, T., Titz, W., & Perry, R. (...   \n",
       "10523      99       S                                 Saldaña, J. (2016)   \n",
       "10752     209       W                          Wise, A. F. (2014, March)   \n",
       "10753     206       W                  Wise, A. F., & Chiu, M. M. (2011)   \n",
       "10754     270       C             Chen, B., & Resendes, M. (2014, March)   \n",
       "11794     172       B                                  Boaler, J. (2016)   \n",
       "11795     185       B                                   Brown, A. (1992)   \n",
       "11796      87       P                                  Piaget, J. (1951)   \n",
       "12949     144       C            Calabrese Barton, A. and Tan, E. (2010)   \n",
       "12950     146       E                                 Esmonde, I. (2009)   \n",
       "12951     126       H   Harré, R. and Van Langenhove, L., (Eds.). (1998)   \n",
       "13400     191       B  Bransford, J. D., Brown, A. L., Cocking, R. R....   \n",
       "13401     300       N                  National Research Council. (2012)   \n",
       "13402     193       D  DC: The National Academies Press. U.S. Departm...   \n",
       "13641     285       J  Järvelä, S., Kirschner, P. A., Panadero, E., M...   \n",
       "13642     272       K          Koh, E., Hong, H., & Tan, J. P.-L. (2018)   \n",
       "13643     248       P  Phielix, C., Prins, F. J., Kirschner, P. A., E...   \n",
       "14038     152       B                               Blikstein, P. (2013)   \n",
       "14039      70       H                                   Hatch, M. (2014)   \n",
       "14040     213       L                                   Lewis, J. (2015)   \n",
       "\n",
       "       counts  \n",
       "970         3  \n",
       "971         3  \n",
       "972         3  \n",
       "1985        3  \n",
       "1986        3  \n",
       "1987        3  \n",
       "3833        3  \n",
       "3834        3  \n",
       "3835        3  \n",
       "5820        3  \n",
       "5821        3  \n",
       "5822        3  \n",
       "6713        3  \n",
       "6714        3  \n",
       "6715        3  \n",
       "7669        3  \n",
       "7670        3  \n",
       "7671        3  \n",
       "8763        3  \n",
       "8764        3  \n",
       "8765        3  \n",
       "10201       3  \n",
       "10202       3  \n",
       "10203       3  \n",
       "10521       3  \n",
       "10522       3  \n",
       "10523       3  \n",
       "10752       3  \n",
       "10753       3  \n",
       "10754       3  \n",
       "11794       3  \n",
       "11795       3  \n",
       "11796       3  \n",
       "12949       3  \n",
       "12950       3  \n",
       "12951       3  \n",
       "13400       3  \n",
       "13401       3  \n",
       "13402       3  \n",
       "13641       3  \n",
       "13642       3  \n",
       "13643       3  \n",
       "14038       3  \n",
       "14039       3  \n",
       "14040       3  "
      ]
     },
     "execution_count": 41,
     "metadata": {},
     "output_type": "execute_result"
    }
   ],
   "source": [
    "df[df.counts == 3]"
   ]
  },
  {
   "cell_type": "code",
   "execution_count": 42,
   "metadata": {},
   "outputs": [
    {
     "data": {
      "text/html": [
       "<div>\n",
       "<style scoped>\n",
       "    .dataframe tbody tr th:only-of-type {\n",
       "        vertical-align: middle;\n",
       "    }\n",
       "\n",
       "    .dataframe tbody tr th {\n",
       "        vertical-align: top;\n",
       "    }\n",
       "\n",
       "    .dataframe thead th {\n",
       "        text-align: right;\n",
       "    }\n",
       "</style>\n",
       "<table border=\"1\" class=\"dataframe\">\n",
       "  <thead>\n",
       "    <tr style=\"text-align: right;\">\n",
       "      <th></th>\n",
       "      <th>ref</th>\n",
       "      <th>file</th>\n",
       "      <th>length</th>\n",
       "      <th>initial</th>\n",
       "      <th>ref_parsed</th>\n",
       "    </tr>\n",
       "  </thead>\n",
       "  <tbody>\n",
       "  </tbody>\n",
       "</table>\n",
       "</div>"
      ],
      "text/plain": [
       "Empty DataFrame\n",
       "Columns: [ref, file, length, initial, ref_parsed]\n",
       "Index: []"
      ]
     },
     "execution_count": 42,
     "metadata": {},
     "output_type": "execute_result"
    }
   ],
   "source": [
    "references_df[references_df.file == '/import2016short/136']"
   ]
  },
  {
   "cell_type": "code",
   "execution_count": 43,
   "metadata": {},
   "outputs": [
    {
     "data": {
      "text/plain": [
       "<matplotlib.axes._subplots.AxesSubplot at 0x123fee2b0>"
      ]
     },
     "execution_count": 43,
     "metadata": {},
     "output_type": "execute_result"
    },
    {
     "data": {
      "image/png": "[encoded data removed]",
      "text/plain": [
       "<Figure size 432x288 with 1 Axes>"
      ]
     },
     "metadata": {
      "needs_background": "light"
     },
     "output_type": "display_data"
    }
   ],
   "source": [
    "references_df.ref_parsed.value_counts().head(20).plot(kind='bar')"
   ]
  },
  {
   "cell_type": "markdown",
   "metadata": {},
   "source": [
    "# extracting information for individual references:\n",
    "## Extracting the year of publication:"
   ]
  },
  {
   "cell_type": "code",
   "execution_count": 44,
   "metadata": {},
   "outputs": [],
   "source": [
    "def extract_year(x):\n",
    "    match_press = r'\\(in press\\)'\n",
    "    years = r'\\([\\w\\d\\,\\ \\.]*(18|19|20)\\d{2}[\\,\\ \\w\\d]*\\)'\n",
    "    year = re.search(years, x)\n",
    "    if re.search(match_press, x):\n",
    "        return 2018\n",
    "    if year:\n",
    "        year = year.group(0)\n",
    "        year = re.findall('\\d{4}', year)\n",
    "        return int(year[0])\n",
    "    else:\n",
    "        return np.nan"
   ]
  },
  {
   "cell_type": "code",
   "execution_count": 45,
   "metadata": {},
   "outputs": [],
   "source": [
    "references_df.loc[~references_df.ref_parsed.isna(),'year'] = references_df[~references_df.ref_parsed.isna()].ref_parsed.map(extract_year)"
   ]
  },
  {
   "cell_type": "code",
   "execution_count": 46,
   "metadata": {},
   "outputs": [
    {
     "data": {
      "text/plain": [
       "(166, 6)"
      ]
     },
     "execution_count": 46,
     "metadata": {},
     "output_type": "execute_result"
    }
   ],
   "source": [
    "references_df[references_df.year.isna()].shape"
   ]
  },
  {
   "cell_type": "code",
   "execution_count": 47,
   "metadata": {},
   "outputs": [
    {
     "data": {
      "text/plain": [
       "count    14514.00000\n",
       "mean      2006.07324\n",
       "std         10.11591\n",
       "min       1887.00000\n",
       "25%       2002.00000\n",
       "50%       2009.00000\n",
       "75%       2013.00000\n",
       "max       2018.00000\n",
       "Name: year, dtype: float64"
      ]
     },
     "execution_count": 47,
     "metadata": {},
     "output_type": "execute_result"
    }
   ],
   "source": [
    "references_df.year.describe()"
   ]
  },
  {
   "cell_type": "code",
   "execution_count": 48,
   "metadata": {},
   "outputs": [
    {
     "data": {
      "image/png": "[encoded data removed]",
      "text/plain": [
       "<Figure size 432x288 with 1 Axes>"
      ]
     },
     "metadata": {
      "needs_background": "light"
     },
     "output_type": "display_data"
    },
    {
     "data": {
      "text/plain": [
       "<matplotlib.axes._subplots.AxesSubplot at 0x12414e7b8>"
      ]
     },
     "execution_count": 48,
     "metadata": {},
     "output_type": "execute_result"
    },
    {
     "data": {
      "image/png": "[encoded data removed]",
      "text/plain": [
       "<Figure size 432x288 with 1 Axes>"
      ]
     },
     "metadata": {
      "needs_background": "light"
     },
     "output_type": "display_data"
    }
   ],
   "source": [
    "references_df.year.plot(kind='box')\n",
    "plt.show()\n",
    "references_df.year.plot(kind='hist')"
   ]
  },
  {
   "cell_type": "code",
   "execution_count": 50,
   "metadata": {},
   "outputs": [],
   "source": [
    "#references_df.to_csv('../data/References.csv')"
   ]
  },
  {
   "cell_type": "markdown",
   "metadata": {},
   "source": [
    "## Look at individual authors:"
   ]
  },
  {
   "cell_type": "markdown",
   "metadata": {},
   "source": [
    "For now we look only the the authors that come up in any citation in the paper. So we do not care about order or the specific reference they are associated with:"
   ]
  },
  {
   "cell_type": "markdown",
   "metadata": {},
   "source": [
    "We again use a regex to extract neighbours"
   ]
  },
  {
   "cell_type": "code",
   "execution_count": 51,
   "metadata": {},
   "outputs": [],
   "source": [
    "authors = 'Yoon, S., Anderson, E., Koehler-Yom, Evans, C., Park, M., J., Sheldon, J., Schoenfeld, I., Wendel, D., Scheintaub, H., Klopfer, E.'"
   ]
  },
  {
   "cell_type": "code",
   "execution_count": 52,
   "metadata": {},
   "outputs": [
    {
     "data": {
      "text/plain": [
       "['Yoon, S.,',\n",
       " 'Anderson, E.,',\n",
       " 'Evans, C.,',\n",
       " 'Park, M.,',\n",
       " 'Sheldon, J.,',\n",
       " 'Schoenfeld, I.,',\n",
       " 'Wendel, D.,',\n",
       " 'Scheintaub, H.,',\n",
       " 'Klopfer, E.']"
      ]
     },
     "execution_count": 52,
     "metadata": {},
     "output_type": "execute_result"
    }
   ],
   "source": [
    "re.findall(r'([A-Z][^\\W\\d_\\-]*\\,?\\&? [A-Z]\\.\\,?)', authors)"
   ]
  },
  {
   "cell_type": "markdown",
   "metadata": {},
   "source": [
    "A change of local seems to allow for better parsing!"
   ]
  },
  {
   "cell_type": "code",
   "execution_count": 53,
   "metadata": {},
   "outputs": [
    {
     "data": {
      "text/plain": [
       "'de_DE'"
      ]
     },
     "execution_count": 53,
     "metadata": {},
     "output_type": "execute_result"
    }
   ],
   "source": [
    "import locale\n",
    "locale.setlocale(locale.LC_ALL, 'de_DE')"
   ]
  },
  {
   "cell_type": "code",
   "execution_count": 54,
   "metadata": {},
   "outputs": [],
   "source": [
    "regex = r'([\\w\\-]*[\\,] [A-Z\\.\\ ]+[\\&\\,]?)'"
   ]
  },
  {
   "cell_type": "code",
   "execution_count": 55,
   "metadata": {},
   "outputs": [
    {
     "data": {
      "text/plain": [
       "['Abrahamson, D.,', 'Snüàchez-Gärca, R. S. ,']"
      ]
     },
     "execution_count": 55,
     "metadata": {},
     "output_type": "execute_result"
    }
   ],
   "source": [
    "authors = 'Abrahamson, D., Snüàchez-Gärca, R. S. ,'\n",
    "re.findall(regex, authors, re.U)"
   ]
  },
  {
   "cell_type": "code",
   "execution_count": 56,
   "metadata": {},
   "outputs": [],
   "source": [
    "import regex"
   ]
  },
  {
   "cell_type": "code",
   "execution_count": 57,
   "metadata": {},
   "outputs": [],
   "source": [
    "#extract authors and clean strings a bit\n",
    "author_split = r'([\\p{L}\\-]*[\\,] [p\\{Lu}\\.\\ ]+[\\&\\,]?)'\n",
    "authors = references_df[~references_df.ref_parsed.isna()].ref_parsed.map(lambda x: [a.replace(',', '').replace('&', '').rstrip() for a in regex.findall(author_split, x)] ).tolist()\n",
    "#authors = [ [a.replace(',', '').replace('&', '').rstrip() for a in l] for l in authors ]"
   ]
  },
  {
   "cell_type": "code",
   "execution_count": 59,
   "metadata": {},
   "outputs": [],
   "source": [
    "references_df['authors'] =  references_df[~references_df.ref_parsed.isna()].ref_parsed.map(lambda x: [a.replace(',', '').replace('&', '').rstrip() for a in regex.findall(author_split, x)] )\n",
    "\n",
    "tags = references_df.authors.apply(pd.Series)\n",
    "tags = tags.rename(columns = lambda x : 'tag_' + str(x))\n",
    "\n",
    "df = pd.concat([references_df, tags], axis=1)\n",
    "\n",
    "tag_cols = [c for c in df.columns if 'tag' not in c]\n",
    "\n",
    "df = df.melt(id_vars=tag_cols)\n",
    "\n",
    "del df['variable'], df['authors']\n",
    "\n",
    "df = df[df.value.notna()]\n",
    "\n",
    "df.reset_index(drop=True, inplace=True)"
   ]
  },
  {
   "cell_type": "code",
   "execution_count": 61,
   "metadata": {},
   "outputs": [],
   "source": [
    "ex = df[df.value.map(lambda x: True if re.search('\\d', x) else False)]"
   ]
  },
  {
   "cell_type": "code",
   "execution_count": 62,
   "metadata": {},
   "outputs": [
    {
     "data": {
      "text/plain": [
       "[]"
      ]
     },
     "execution_count": 62,
     "metadata": {},
     "output_type": "execute_result"
    }
   ],
   "source": [
    "ex.ref.tolist()"
   ]
  },
  {
   "cell_type": "code",
   "execution_count": 63,
   "metadata": {},
   "outputs": [
    {
     "data": {
      "text/plain": [
       "[]"
      ]
     },
     "execution_count": 63,
     "metadata": {},
     "output_type": "execute_result"
    }
   ],
   "source": [
    "ex.value.tolist()"
   ]
  },
  {
   "cell_type": "code",
   "execution_count": 143,
   "metadata": {},
   "outputs": [],
   "source": [
    "#extract authors!\n",
    "authors_frame = df"
   ]
  },
  {
   "cell_type": "code",
   "execution_count": 145,
   "metadata": {},
   "outputs": [
    {
     "data": {
      "text/plain": [
       "<matplotlib.axes._subplots.AxesSubplot at 0x12ee584e0>"
      ]
     },
     "execution_count": 145,
     "metadata": {},
     "output_type": "execute_result"
    },
    {
     "data": {
      "image/png": "[encoded data removed]",
      "text/plain": [
       "<Figure size 432x288 with 1 Axes>"
      ]
     },
     "metadata": {
      "needs_background": "light"
     },
     "output_type": "display_data"
    }
   ],
   "source": [
    "authors_frame.value.value_counts().head(20).plot(kind='bar')"
   ]
  },
  {
   "cell_type": "code",
   "execution_count": 146,
   "metadata": {},
   "outputs": [
    {
     "data": {
      "text/plain": [
       "Scardamalia M.    229\n",
       "Dillenbourg P.    184\n",
       "Bereiter C.       152\n",
       "Fischer F.        148\n",
       "Stahl G.          119\n",
       "Wilensky U.        99\n",
       "Rummel N.          99\n",
       "Zhang J.           98\n",
       "Wenger E.          98\n",
       "Weinberger A.      95\n",
       "Name: value, dtype: int64"
      ]
     },
     "execution_count": 146,
     "metadata": {},
     "output_type": "execute_result"
    }
   ],
   "source": [
    "authors_frame.value.value_counts().head(10)"
   ]
  },
  {
   "cell_type": "code",
   "execution_count": 62,
   "metadata": {},
   "outputs": [
    {
     "data": {
      "text/html": [
       "<div>\n",
       "<style scoped>\n",
       "    .dataframe tbody tr th:only-of-type {\n",
       "        vertical-align: middle;\n",
       "    }\n",
       "\n",
       "    .dataframe tbody tr th {\n",
       "        vertical-align: top;\n",
       "    }\n",
       "\n",
       "    .dataframe thead th {\n",
       "        text-align: right;\n",
       "    }\n",
       "</style>\n",
       "<table border=\"1\" class=\"dataframe\">\n",
       "  <thead>\n",
       "    <tr style=\"text-align: right;\">\n",
       "      <th></th>\n",
       "      <th>author</th>\n",
       "      <th>file</th>\n",
       "      <th>ref</th>\n",
       "      <th>length</th>\n",
       "      <th>initial</th>\n",
       "      <th>ref_parsed</th>\n",
       "      <th>year</th>\n",
       "    </tr>\n",
       "  </thead>\n",
       "  <tbody>\n",
       "    <tr>\n",
       "      <th>0</th>\n",
       "      <td>Lave J.</td>\n",
       "      <td>import2018_371</td>\n",
       "      <td>Lave, J., &amp; Wenger, E. (1991). Situated learni...</td>\n",
       "      <td>108</td>\n",
       "      <td>L</td>\n",
       "      <td>Lave, J., &amp; Wenger, E. (1991)</td>\n",
       "      <td>1991.0</td>\n",
       "    </tr>\n",
       "    <tr>\n",
       "      <th>1</th>\n",
       "      <td>Lave J.</td>\n",
       "      <td>import2018_371</td>\n",
       "      <td>Miles, M. B., Huberman, A. M., &amp; Saldana, J. (...</td>\n",
       "      <td>107</td>\n",
       "      <td>M</td>\n",
       "      <td>Miles, M. B., Huberman, A. M., &amp; Saldana, J. (...</td>\n",
       "      <td>2013.0</td>\n",
       "    </tr>\n",
       "    <tr>\n",
       "      <th>2</th>\n",
       "      <td>Lave J.</td>\n",
       "      <td>import2018_371</td>\n",
       "      <td>Pea, R. D., Gomez, L. M., Edelson, D. C., Fish...</td>\n",
       "      <td>294</td>\n",
       "      <td>P</td>\n",
       "      <td>Pea, R. D., Gomez, L. M., Edelson, D. C., Fish...</td>\n",
       "      <td>1997.0</td>\n",
       "    </tr>\n",
       "    <tr>\n",
       "      <th>3</th>\n",
       "      <td>Lave J.</td>\n",
       "      <td>import2018_371</td>\n",
       "      <td>Rogoff, B. (1995). Observing sociocultural act...</td>\n",
       "      <td>269</td>\n",
       "      <td>R</td>\n",
       "      <td>Rogoff, B. (1995)</td>\n",
       "      <td>1995.0</td>\n",
       "    </tr>\n",
       "    <tr>\n",
       "      <th>4</th>\n",
       "      <td>Lave J.</td>\n",
       "      <td>import2018_371</td>\n",
       "      <td>Shirk, J., Ballard, H., Wilderman, C., Phillip...</td>\n",
       "      <td>215</td>\n",
       "      <td>S</td>\n",
       "      <td>Shirk, J., Ballard, H., Wilderman, C., Phillip...</td>\n",
       "      <td>2012.0</td>\n",
       "    </tr>\n",
       "    <tr>\n",
       "      <th>5</th>\n",
       "      <td>Wenger E.</td>\n",
       "      <td>import2018_371</td>\n",
       "      <td>Lave, J., &amp; Wenger, E. (1991). Situated learni...</td>\n",
       "      <td>108</td>\n",
       "      <td>L</td>\n",
       "      <td>Lave, J., &amp; Wenger, E. (1991)</td>\n",
       "      <td>1991.0</td>\n",
       "    </tr>\n",
       "    <tr>\n",
       "      <th>6</th>\n",
       "      <td>Wenger E.</td>\n",
       "      <td>import2018_371</td>\n",
       "      <td>Miles, M. B., Huberman, A. M., &amp; Saldana, J. (...</td>\n",
       "      <td>107</td>\n",
       "      <td>M</td>\n",
       "      <td>Miles, M. B., Huberman, A. M., &amp; Saldana, J. (...</td>\n",
       "      <td>2013.0</td>\n",
       "    </tr>\n",
       "    <tr>\n",
       "      <th>7</th>\n",
       "      <td>Wenger E.</td>\n",
       "      <td>import2018_371</td>\n",
       "      <td>Pea, R. D., Gomez, L. M., Edelson, D. C., Fish...</td>\n",
       "      <td>294</td>\n",
       "      <td>P</td>\n",
       "      <td>Pea, R. D., Gomez, L. M., Edelson, D. C., Fish...</td>\n",
       "      <td>1997.0</td>\n",
       "    </tr>\n",
       "    <tr>\n",
       "      <th>8</th>\n",
       "      <td>Wenger E.</td>\n",
       "      <td>import2018_371</td>\n",
       "      <td>Rogoff, B. (1995). Observing sociocultural act...</td>\n",
       "      <td>269</td>\n",
       "      <td>R</td>\n",
       "      <td>Rogoff, B. (1995)</td>\n",
       "      <td>1995.0</td>\n",
       "    </tr>\n",
       "    <tr>\n",
       "      <th>9</th>\n",
       "      <td>Wenger E.</td>\n",
       "      <td>import2018_371</td>\n",
       "      <td>Shirk, J., Ballard, H., Wilderman, C., Phillip...</td>\n",
       "      <td>215</td>\n",
       "      <td>S</td>\n",
       "      <td>Shirk, J., Ballard, H., Wilderman, C., Phillip...</td>\n",
       "      <td>2012.0</td>\n",
       "    </tr>\n",
       "    <tr>\n",
       "      <th>10</th>\n",
       "      <td>Miles M. B.</td>\n",
       "      <td>import2018_371</td>\n",
       "      <td>Lave, J., &amp; Wenger, E. (1991). Situated learni...</td>\n",
       "      <td>108</td>\n",
       "      <td>L</td>\n",
       "      <td>Lave, J., &amp; Wenger, E. (1991)</td>\n",
       "      <td>1991.0</td>\n",
       "    </tr>\n",
       "    <tr>\n",
       "      <th>11</th>\n",
       "      <td>Miles M. B.</td>\n",
       "      <td>import2018_371</td>\n",
       "      <td>Miles, M. B., Huberman, A. M., &amp; Saldana, J. (...</td>\n",
       "      <td>107</td>\n",
       "      <td>M</td>\n",
       "      <td>Miles, M. B., Huberman, A. M., &amp; Saldana, J. (...</td>\n",
       "      <td>2013.0</td>\n",
       "    </tr>\n",
       "    <tr>\n",
       "      <th>12</th>\n",
       "      <td>Miles M. B.</td>\n",
       "      <td>import2018_371</td>\n",
       "      <td>Pea, R. D., Gomez, L. M., Edelson, D. C., Fish...</td>\n",
       "      <td>294</td>\n",
       "      <td>P</td>\n",
       "      <td>Pea, R. D., Gomez, L. M., Edelson, D. C., Fish...</td>\n",
       "      <td>1997.0</td>\n",
       "    </tr>\n",
       "    <tr>\n",
       "      <th>13</th>\n",
       "      <td>Miles M. B.</td>\n",
       "      <td>import2018_371</td>\n",
       "      <td>Rogoff, B. (1995). Observing sociocultural act...</td>\n",
       "      <td>269</td>\n",
       "      <td>R</td>\n",
       "      <td>Rogoff, B. (1995)</td>\n",
       "      <td>1995.0</td>\n",
       "    </tr>\n",
       "    <tr>\n",
       "      <th>14</th>\n",
       "      <td>Miles M. B.</td>\n",
       "      <td>import2018_371</td>\n",
       "      <td>Shirk, J., Ballard, H., Wilderman, C., Phillip...</td>\n",
       "      <td>215</td>\n",
       "      <td>S</td>\n",
       "      <td>Shirk, J., Ballard, H., Wilderman, C., Phillip...</td>\n",
       "      <td>2012.0</td>\n",
       "    </tr>\n",
       "    <tr>\n",
       "      <th>15</th>\n",
       "      <td>Huberman A. M.</td>\n",
       "      <td>import2018_371</td>\n",
       "      <td>Lave, J., &amp; Wenger, E. (1991). Situated learni...</td>\n",
       "      <td>108</td>\n",
       "      <td>L</td>\n",
       "      <td>Lave, J., &amp; Wenger, E. (1991)</td>\n",
       "      <td>1991.0</td>\n",
       "    </tr>\n",
       "    <tr>\n",
       "      <th>16</th>\n",
       "      <td>Huberman A. M.</td>\n",
       "      <td>import2018_371</td>\n",
       "      <td>Miles, M. B., Huberman, A. M., &amp; Saldana, J. (...</td>\n",
       "      <td>107</td>\n",
       "      <td>M</td>\n",
       "      <td>Miles, M. B., Huberman, A. M., &amp; Saldana, J. (...</td>\n",
       "      <td>2013.0</td>\n",
       "    </tr>\n",
       "    <tr>\n",
       "      <th>17</th>\n",
       "      <td>Huberman A. M.</td>\n",
       "      <td>import2018_371</td>\n",
       "      <td>Pea, R. D., Gomez, L. M., Edelson, D. C., Fish...</td>\n",
       "      <td>294</td>\n",
       "      <td>P</td>\n",
       "      <td>Pea, R. D., Gomez, L. M., Edelson, D. C., Fish...</td>\n",
       "      <td>1997.0</td>\n",
       "    </tr>\n",
       "    <tr>\n",
       "      <th>18</th>\n",
       "      <td>Huberman A. M.</td>\n",
       "      <td>import2018_371</td>\n",
       "      <td>Rogoff, B. (1995). Observing sociocultural act...</td>\n",
       "      <td>269</td>\n",
       "      <td>R</td>\n",
       "      <td>Rogoff, B. (1995)</td>\n",
       "      <td>1995.0</td>\n",
       "    </tr>\n",
       "    <tr>\n",
       "      <th>19</th>\n",
       "      <td>Huberman A. M.</td>\n",
       "      <td>import2018_371</td>\n",
       "      <td>Shirk, J., Ballard, H., Wilderman, C., Phillip...</td>\n",
       "      <td>215</td>\n",
       "      <td>S</td>\n",
       "      <td>Shirk, J., Ballard, H., Wilderman, C., Phillip...</td>\n",
       "      <td>2012.0</td>\n",
       "    </tr>\n",
       "    <tr>\n",
       "      <th>20</th>\n",
       "      <td>Saldana J.</td>\n",
       "      <td>import2018_371</td>\n",
       "      <td>Lave, J., &amp; Wenger, E. (1991). Situated learni...</td>\n",
       "      <td>108</td>\n",
       "      <td>L</td>\n",
       "      <td>Lave, J., &amp; Wenger, E. (1991)</td>\n",
       "      <td>1991.0</td>\n",
       "    </tr>\n",
       "    <tr>\n",
       "      <th>21</th>\n",
       "      <td>Saldana J.</td>\n",
       "      <td>import2018_371</td>\n",
       "      <td>Miles, M. B., Huberman, A. M., &amp; Saldana, J. (...</td>\n",
       "      <td>107</td>\n",
       "      <td>M</td>\n",
       "      <td>Miles, M. B., Huberman, A. M., &amp; Saldana, J. (...</td>\n",
       "      <td>2013.0</td>\n",
       "    </tr>\n",
       "    <tr>\n",
       "      <th>22</th>\n",
       "      <td>Saldana J.</td>\n",
       "      <td>import2018_371</td>\n",
       "      <td>Pea, R. D., Gomez, L. M., Edelson, D. C., Fish...</td>\n",
       "      <td>294</td>\n",
       "      <td>P</td>\n",
       "      <td>Pea, R. D., Gomez, L. M., Edelson, D. C., Fish...</td>\n",
       "      <td>1997.0</td>\n",
       "    </tr>\n",
       "    <tr>\n",
       "      <th>23</th>\n",
       "      <td>Saldana J.</td>\n",
       "      <td>import2018_371</td>\n",
       "      <td>Rogoff, B. (1995). Observing sociocultural act...</td>\n",
       "      <td>269</td>\n",
       "      <td>R</td>\n",
       "      <td>Rogoff, B. (1995)</td>\n",
       "      <td>1995.0</td>\n",
       "    </tr>\n",
       "    <tr>\n",
       "      <th>24</th>\n",
       "      <td>Saldana J.</td>\n",
       "      <td>import2018_371</td>\n",
       "      <td>Shirk, J., Ballard, H., Wilderman, C., Phillip...</td>\n",
       "      <td>215</td>\n",
       "      <td>S</td>\n",
       "      <td>Shirk, J., Ballard, H., Wilderman, C., Phillip...</td>\n",
       "      <td>2012.0</td>\n",
       "    </tr>\n",
       "    <tr>\n",
       "      <th>25</th>\n",
       "      <td>Pea R. D.</td>\n",
       "      <td>import2018_371</td>\n",
       "      <td>Lave, J., &amp; Wenger, E. (1991). Situated learni...</td>\n",
       "      <td>108</td>\n",
       "      <td>L</td>\n",
       "      <td>Lave, J., &amp; Wenger, E. (1991)</td>\n",
       "      <td>1991.0</td>\n",
       "    </tr>\n",
       "    <tr>\n",
       "      <th>26</th>\n",
       "      <td>Pea R. D.</td>\n",
       "      <td>import2018_371</td>\n",
       "      <td>Miles, M. B., Huberman, A. M., &amp; Saldana, J. (...</td>\n",
       "      <td>107</td>\n",
       "      <td>M</td>\n",
       "      <td>Miles, M. B., Huberman, A. M., &amp; Saldana, J. (...</td>\n",
       "      <td>2013.0</td>\n",
       "    </tr>\n",
       "    <tr>\n",
       "      <th>27</th>\n",
       "      <td>Pea R. D.</td>\n",
       "      <td>import2018_371</td>\n",
       "      <td>Pea, R. D., Gomez, L. M., Edelson, D. C., Fish...</td>\n",
       "      <td>294</td>\n",
       "      <td>P</td>\n",
       "      <td>Pea, R. D., Gomez, L. M., Edelson, D. C., Fish...</td>\n",
       "      <td>1997.0</td>\n",
       "    </tr>\n",
       "    <tr>\n",
       "      <th>28</th>\n",
       "      <td>Pea R. D.</td>\n",
       "      <td>import2018_371</td>\n",
       "      <td>Rogoff, B. (1995). Observing sociocultural act...</td>\n",
       "      <td>269</td>\n",
       "      <td>R</td>\n",
       "      <td>Rogoff, B. (1995)</td>\n",
       "      <td>1995.0</td>\n",
       "    </tr>\n",
       "    <tr>\n",
       "      <th>29</th>\n",
       "      <td>Pea R. D.</td>\n",
       "      <td>import2018_371</td>\n",
       "      <td>Shirk, J., Ballard, H., Wilderman, C., Phillip...</td>\n",
       "      <td>215</td>\n",
       "      <td>S</td>\n",
       "      <td>Shirk, J., Ballard, H., Wilderman, C., Phillip...</td>\n",
       "      <td>2012.0</td>\n",
       "    </tr>\n",
       "    <tr>\n",
       "      <th>...</th>\n",
       "      <td>...</td>\n",
       "      <td>...</td>\n",
       "      <td>...</td>\n",
       "      <td>...</td>\n",
       "      <td>...</td>\n",
       "      <td>...</td>\n",
       "      <td>...</td>\n",
       "    </tr>\n",
       "    <tr>\n",
       "      <th>839230</th>\n",
       "      <td>White B.</td>\n",
       "      <td>import2016full_75</td>\n",
       "      <td>Paavola, S. &amp; Hakkarainen, K. (2005b). Three a...</td>\n",
       "      <td>193</td>\n",
       "      <td>P</td>\n",
       "      <td>Paavola, S. &amp; Hakkarainen, K. (2005b)</td>\n",
       "      <td>2005.0</td>\n",
       "    </tr>\n",
       "    <tr>\n",
       "      <th>839231</th>\n",
       "      <td>White B.</td>\n",
       "      <td>import2016full_75</td>\n",
       "      <td>Resnik, D. B. (2000). \"A pragmatic approach to...</td>\n",
       "      <td>176</td>\n",
       "      <td>R</td>\n",
       "      <td>Resnik, D. B. (2000)</td>\n",
       "      <td>2000.0</td>\n",
       "    </tr>\n",
       "    <tr>\n",
       "      <th>839232</th>\n",
       "      <td>White B.</td>\n",
       "      <td>import2016full_75</td>\n",
       "      <td>Scardamalia, M. (2002). Collective cognitive r...</td>\n",
       "      <td>186</td>\n",
       "      <td>S</td>\n",
       "      <td>Scardamalia, M. (2002)</td>\n",
       "      <td>2002.0</td>\n",
       "    </tr>\n",
       "    <tr>\n",
       "      <th>839233</th>\n",
       "      <td>White B.</td>\n",
       "      <td>import2016full_75</td>\n",
       "      <td>Scardamalia, M., &amp; Bereiter, C. (2003). Knowle...</td>\n",
       "      <td>167</td>\n",
       "      <td>S</td>\n",
       "      <td>Scardamalia, M., &amp; Bereiter, C. (2003)</td>\n",
       "      <td>2003.0</td>\n",
       "    </tr>\n",
       "    <tr>\n",
       "      <th>839234</th>\n",
       "      <td>White B.</td>\n",
       "      <td>import2016full_75</td>\n",
       "      <td>Scardamalia, M., &amp; Bereiter, C. (2006). Knowle...</td>\n",
       "      <td>209</td>\n",
       "      <td>S</td>\n",
       "      <td>Scardamalia, M., &amp; Bereiter, C. (2006)</td>\n",
       "      <td>2006.0</td>\n",
       "    </tr>\n",
       "    <tr>\n",
       "      <th>839235</th>\n",
       "      <td>White B.</td>\n",
       "      <td>import2016full_75</td>\n",
       "      <td>Scardamalia, M., &amp; Bereiter, C. (2014). Knowle...</td>\n",
       "      <td>229</td>\n",
       "      <td>S</td>\n",
       "      <td>Scardamalia, M., &amp; Bereiter, C. (2014)</td>\n",
       "      <td>2014.0</td>\n",
       "    </tr>\n",
       "    <tr>\n",
       "      <th>839236</th>\n",
       "      <td>White B.</td>\n",
       "      <td>import2016full_75</td>\n",
       "      <td>Scardamalia, M., Bereiter, C., &amp; Lamon, M. (19...</td>\n",
       "      <td>248</td>\n",
       "      <td>S</td>\n",
       "      <td>Scardamalia, M., Bereiter, C., &amp; Lamon, M. (1994)</td>\n",
       "      <td>1994.0</td>\n",
       "    </tr>\n",
       "    <tr>\n",
       "      <th>839237</th>\n",
       "      <td>White B.</td>\n",
       "      <td>import2016full_75</td>\n",
       "      <td>Thagard, P. (2000). Coherence in thought and a...</td>\n",
       "      <td>78</td>\n",
       "      <td>T</td>\n",
       "      <td>Thagard, P. (2000)</td>\n",
       "      <td>2000.0</td>\n",
       "    </tr>\n",
       "    <tr>\n",
       "      <th>839238</th>\n",
       "      <td>White B.</td>\n",
       "      <td>import2016full_75</td>\n",
       "      <td>Windschitl, M. (2004). Folk theories of ‘‘inqu...</td>\n",
       "      <td>209</td>\n",
       "      <td>W</td>\n",
       "      <td>Windschitl, M. (2004)</td>\n",
       "      <td>2004.0</td>\n",
       "    </tr>\n",
       "    <tr>\n",
       "      <th>839239</th>\n",
       "      <td>White B.</td>\n",
       "      <td>import2016full_75</td>\n",
       "      <td>White, B. (1993). Causal models and intermedia...</td>\n",
       "      <td>235</td>\n",
       "      <td>W</td>\n",
       "      <td>White, B. (1993)</td>\n",
       "      <td>1993.0</td>\n",
       "    </tr>\n",
       "    <tr>\n",
       "      <th>839240</th>\n",
       "      <td>Ball D. L.</td>\n",
       "      <td>import2018_368</td>\n",
       "      <td>Ball, D. L., &amp; Cohen, D. K. (1999). Developing...</td>\n",
       "      <td>216</td>\n",
       "      <td>B</td>\n",
       "      <td>Ball, D. L., &amp; Cohen, D. K. (1999)</td>\n",
       "      <td>1999.0</td>\n",
       "    </tr>\n",
       "    <tr>\n",
       "      <th>839241</th>\n",
       "      <td>Ball D. L.</td>\n",
       "      <td>import2018_368</td>\n",
       "      <td>Gates Foundation (2014). Teachers know best: T...</td>\n",
       "      <td>135</td>\n",
       "      <td>G</td>\n",
       "      <td>Gates Foundation (2014)</td>\n",
       "      <td>2014.0</td>\n",
       "    </tr>\n",
       "    <tr>\n",
       "      <th>839242</th>\n",
       "      <td>Ball D. L.</td>\n",
       "      <td>import2018_368</td>\n",
       "      <td>Macia, M., &amp; Garcia, I. (2016). Informal onlin...</td>\n",
       "      <td>176</td>\n",
       "      <td>M</td>\n",
       "      <td>Macia, M., &amp; Garcia, I. (2016)</td>\n",
       "      <td>2016.0</td>\n",
       "    </tr>\n",
       "    <tr>\n",
       "      <th>839243</th>\n",
       "      <td>Ball D. L.</td>\n",
       "      <td>import2018_368</td>\n",
       "      <td>Yin, R. K. (2003). Case study research: Design...</td>\n",
       "      <td>102</td>\n",
       "      <td>Y</td>\n",
       "      <td>Yin, R. K. (2003)</td>\n",
       "      <td>2003.0</td>\n",
       "    </tr>\n",
       "    <tr>\n",
       "      <th>839244</th>\n",
       "      <td>Cohen D. K.</td>\n",
       "      <td>import2018_368</td>\n",
       "      <td>Ball, D. L., &amp; Cohen, D. K. (1999). Developing...</td>\n",
       "      <td>216</td>\n",
       "      <td>B</td>\n",
       "      <td>Ball, D. L., &amp; Cohen, D. K. (1999)</td>\n",
       "      <td>1999.0</td>\n",
       "    </tr>\n",
       "    <tr>\n",
       "      <th>839245</th>\n",
       "      <td>Cohen D. K.</td>\n",
       "      <td>import2018_368</td>\n",
       "      <td>Gates Foundation (2014). Teachers know best: T...</td>\n",
       "      <td>135</td>\n",
       "      <td>G</td>\n",
       "      <td>Gates Foundation (2014)</td>\n",
       "      <td>2014.0</td>\n",
       "    </tr>\n",
       "    <tr>\n",
       "      <th>839246</th>\n",
       "      <td>Cohen D. K.</td>\n",
       "      <td>import2018_368</td>\n",
       "      <td>Macia, M., &amp; Garcia, I. (2016). Informal onlin...</td>\n",
       "      <td>176</td>\n",
       "      <td>M</td>\n",
       "      <td>Macia, M., &amp; Garcia, I. (2016)</td>\n",
       "      <td>2016.0</td>\n",
       "    </tr>\n",
       "    <tr>\n",
       "      <th>839247</th>\n",
       "      <td>Cohen D. K.</td>\n",
       "      <td>import2018_368</td>\n",
       "      <td>Yin, R. K. (2003). Case study research: Design...</td>\n",
       "      <td>102</td>\n",
       "      <td>Y</td>\n",
       "      <td>Yin, R. K. (2003)</td>\n",
       "      <td>2003.0</td>\n",
       "    </tr>\n",
       "    <tr>\n",
       "      <th>839248</th>\n",
       "      <td>Macia M.</td>\n",
       "      <td>import2018_368</td>\n",
       "      <td>Ball, D. L., &amp; Cohen, D. K. (1999). Developing...</td>\n",
       "      <td>216</td>\n",
       "      <td>B</td>\n",
       "      <td>Ball, D. L., &amp; Cohen, D. K. (1999)</td>\n",
       "      <td>1999.0</td>\n",
       "    </tr>\n",
       "    <tr>\n",
       "      <th>839249</th>\n",
       "      <td>Macia M.</td>\n",
       "      <td>import2018_368</td>\n",
       "      <td>Gates Foundation (2014). Teachers know best: T...</td>\n",
       "      <td>135</td>\n",
       "      <td>G</td>\n",
       "      <td>Gates Foundation (2014)</td>\n",
       "      <td>2014.0</td>\n",
       "    </tr>\n",
       "    <tr>\n",
       "      <th>839250</th>\n",
       "      <td>Macia M.</td>\n",
       "      <td>import2018_368</td>\n",
       "      <td>Macia, M., &amp; Garcia, I. (2016). Informal onlin...</td>\n",
       "      <td>176</td>\n",
       "      <td>M</td>\n",
       "      <td>Macia, M., &amp; Garcia, I. (2016)</td>\n",
       "      <td>2016.0</td>\n",
       "    </tr>\n",
       "    <tr>\n",
       "      <th>839251</th>\n",
       "      <td>Macia M.</td>\n",
       "      <td>import2018_368</td>\n",
       "      <td>Yin, R. K. (2003). Case study research: Design...</td>\n",
       "      <td>102</td>\n",
       "      <td>Y</td>\n",
       "      <td>Yin, R. K. (2003)</td>\n",
       "      <td>2003.0</td>\n",
       "    </tr>\n",
       "    <tr>\n",
       "      <th>839252</th>\n",
       "      <td>Garcia I.</td>\n",
       "      <td>import2018_368</td>\n",
       "      <td>Ball, D. L., &amp; Cohen, D. K. (1999). Developing...</td>\n",
       "      <td>216</td>\n",
       "      <td>B</td>\n",
       "      <td>Ball, D. L., &amp; Cohen, D. K. (1999)</td>\n",
       "      <td>1999.0</td>\n",
       "    </tr>\n",
       "    <tr>\n",
       "      <th>839253</th>\n",
       "      <td>Garcia I.</td>\n",
       "      <td>import2018_368</td>\n",
       "      <td>Gates Foundation (2014). Teachers know best: T...</td>\n",
       "      <td>135</td>\n",
       "      <td>G</td>\n",
       "      <td>Gates Foundation (2014)</td>\n",
       "      <td>2014.0</td>\n",
       "    </tr>\n",
       "    <tr>\n",
       "      <th>839254</th>\n",
       "      <td>Garcia I.</td>\n",
       "      <td>import2018_368</td>\n",
       "      <td>Macia, M., &amp; Garcia, I. (2016). Informal onlin...</td>\n",
       "      <td>176</td>\n",
       "      <td>M</td>\n",
       "      <td>Macia, M., &amp; Garcia, I. (2016)</td>\n",
       "      <td>2016.0</td>\n",
       "    </tr>\n",
       "    <tr>\n",
       "      <th>839255</th>\n",
       "      <td>Garcia I.</td>\n",
       "      <td>import2018_368</td>\n",
       "      <td>Yin, R. K. (2003). Case study research: Design...</td>\n",
       "      <td>102</td>\n",
       "      <td>Y</td>\n",
       "      <td>Yin, R. K. (2003)</td>\n",
       "      <td>2003.0</td>\n",
       "    </tr>\n",
       "    <tr>\n",
       "      <th>839256</th>\n",
       "      <td>Yin R. K.</td>\n",
       "      <td>import2018_368</td>\n",
       "      <td>Ball, D. L., &amp; Cohen, D. K. (1999). Developing...</td>\n",
       "      <td>216</td>\n",
       "      <td>B</td>\n",
       "      <td>Ball, D. L., &amp; Cohen, D. K. (1999)</td>\n",
       "      <td>1999.0</td>\n",
       "    </tr>\n",
       "    <tr>\n",
       "      <th>839257</th>\n",
       "      <td>Yin R. K.</td>\n",
       "      <td>import2018_368</td>\n",
       "      <td>Gates Foundation (2014). Teachers know best: T...</td>\n",
       "      <td>135</td>\n",
       "      <td>G</td>\n",
       "      <td>Gates Foundation (2014)</td>\n",
       "      <td>2014.0</td>\n",
       "    </tr>\n",
       "    <tr>\n",
       "      <th>839258</th>\n",
       "      <td>Yin R. K.</td>\n",
       "      <td>import2018_368</td>\n",
       "      <td>Macia, M., &amp; Garcia, I. (2016). Informal onlin...</td>\n",
       "      <td>176</td>\n",
       "      <td>M</td>\n",
       "      <td>Macia, M., &amp; Garcia, I. (2016)</td>\n",
       "      <td>2016.0</td>\n",
       "    </tr>\n",
       "    <tr>\n",
       "      <th>839259</th>\n",
       "      <td>Yin R. K.</td>\n",
       "      <td>import2018_368</td>\n",
       "      <td>Yin, R. K. (2003). Case study research: Design...</td>\n",
       "      <td>102</td>\n",
       "      <td>Y</td>\n",
       "      <td>Yin, R. K. (2003)</td>\n",
       "      <td>2003.0</td>\n",
       "    </tr>\n",
       "  </tbody>\n",
       "</table>\n",
       "<p>839260 rows × 7 columns</p>\n",
       "</div>"
      ],
      "text/plain": [
       "                author               file  \\\n",
       "0              Lave J.     import2018_371   \n",
       "1              Lave J.     import2018_371   \n",
       "2              Lave J.     import2018_371   \n",
       "3              Lave J.     import2018_371   \n",
       "4              Lave J.     import2018_371   \n",
       "5            Wenger E.     import2018_371   \n",
       "6            Wenger E.     import2018_371   \n",
       "7            Wenger E.     import2018_371   \n",
       "8            Wenger E.     import2018_371   \n",
       "9            Wenger E.     import2018_371   \n",
       "10         Miles M. B.     import2018_371   \n",
       "11         Miles M. B.     import2018_371   \n",
       "12         Miles M. B.     import2018_371   \n",
       "13         Miles M. B.     import2018_371   \n",
       "14         Miles M. B.     import2018_371   \n",
       "15      Huberman A. M.     import2018_371   \n",
       "16      Huberman A. M.     import2018_371   \n",
       "17      Huberman A. M.     import2018_371   \n",
       "18      Huberman A. M.     import2018_371   \n",
       "19      Huberman A. M.     import2018_371   \n",
       "20          Saldana J.     import2018_371   \n",
       "21          Saldana J.     import2018_371   \n",
       "22          Saldana J.     import2018_371   \n",
       "23          Saldana J.     import2018_371   \n",
       "24          Saldana J.     import2018_371   \n",
       "25           Pea R. D.     import2018_371   \n",
       "26           Pea R. D.     import2018_371   \n",
       "27           Pea R. D.     import2018_371   \n",
       "28           Pea R. D.     import2018_371   \n",
       "29           Pea R. D.     import2018_371   \n",
       "...                ...                ...   \n",
       "839230        White B.  import2016full_75   \n",
       "839231        White B.  import2016full_75   \n",
       "839232        White B.  import2016full_75   \n",
       "839233        White B.  import2016full_75   \n",
       "839234        White B.  import2016full_75   \n",
       "839235        White B.  import2016full_75   \n",
       "839236        White B.  import2016full_75   \n",
       "839237        White B.  import2016full_75   \n",
       "839238        White B.  import2016full_75   \n",
       "839239        White B.  import2016full_75   \n",
       "839240      Ball D. L.     import2018_368   \n",
       "839241      Ball D. L.     import2018_368   \n",
       "839242      Ball D. L.     import2018_368   \n",
       "839243      Ball D. L.     import2018_368   \n",
       "839244     Cohen D. K.     import2018_368   \n",
       "839245     Cohen D. K.     import2018_368   \n",
       "839246     Cohen D. K.     import2018_368   \n",
       "839247     Cohen D. K.     import2018_368   \n",
       "839248        Macia M.     import2018_368   \n",
       "839249        Macia M.     import2018_368   \n",
       "839250        Macia M.     import2018_368   \n",
       "839251        Macia M.     import2018_368   \n",
       "839252       Garcia I.     import2018_368   \n",
       "839253       Garcia I.     import2018_368   \n",
       "839254       Garcia I.     import2018_368   \n",
       "839255       Garcia I.     import2018_368   \n",
       "839256       Yin R. K.     import2018_368   \n",
       "839257       Yin R. K.     import2018_368   \n",
       "839258       Yin R. K.     import2018_368   \n",
       "839259       Yin R. K.     import2018_368   \n",
       "\n",
       "                                                      ref  length initial  \\\n",
       "0       Lave, J., & Wenger, E. (1991). Situated learni...     108       L   \n",
       "1       Miles, M. B., Huberman, A. M., & Saldana, J. (...     107       M   \n",
       "2       Pea, R. D., Gomez, L. M., Edelson, D. C., Fish...     294       P   \n",
       "3       Rogoff, B. (1995). Observing sociocultural act...     269       R   \n",
       "4       Shirk, J., Ballard, H., Wilderman, C., Phillip...     215       S   \n",
       "5       Lave, J., & Wenger, E. (1991). Situated learni...     108       L   \n",
       "6       Miles, M. B., Huberman, A. M., & Saldana, J. (...     107       M   \n",
       "7       Pea, R. D., Gomez, L. M., Edelson, D. C., Fish...     294       P   \n",
       "8       Rogoff, B. (1995). Observing sociocultural act...     269       R   \n",
       "9       Shirk, J., Ballard, H., Wilderman, C., Phillip...     215       S   \n",
       "10      Lave, J., & Wenger, E. (1991). Situated learni...     108       L   \n",
       "11      Miles, M. B., Huberman, A. M., & Saldana, J. (...     107       M   \n",
       "12      Pea, R. D., Gomez, L. M., Edelson, D. C., Fish...     294       P   \n",
       "13      Rogoff, B. (1995). Observing sociocultural act...     269       R   \n",
       "14      Shirk, J., Ballard, H., Wilderman, C., Phillip...     215       S   \n",
       "15      Lave, J., & Wenger, E. (1991). Situated learni...     108       L   \n",
       "16      Miles, M. B., Huberman, A. M., & Saldana, J. (...     107       M   \n",
       "17      Pea, R. D., Gomez, L. M., Edelson, D. C., Fish...     294       P   \n",
       "18      Rogoff, B. (1995). Observing sociocultural act...     269       R   \n",
       "19      Shirk, J., Ballard, H., Wilderman, C., Phillip...     215       S   \n",
       "20      Lave, J., & Wenger, E. (1991). Situated learni...     108       L   \n",
       "21      Miles, M. B., Huberman, A. M., & Saldana, J. (...     107       M   \n",
       "22      Pea, R. D., Gomez, L. M., Edelson, D. C., Fish...     294       P   \n",
       "23      Rogoff, B. (1995). Observing sociocultural act...     269       R   \n",
       "24      Shirk, J., Ballard, H., Wilderman, C., Phillip...     215       S   \n",
       "25      Lave, J., & Wenger, E. (1991). Situated learni...     108       L   \n",
       "26      Miles, M. B., Huberman, A. M., & Saldana, J. (...     107       M   \n",
       "27      Pea, R. D., Gomez, L. M., Edelson, D. C., Fish...     294       P   \n",
       "28      Rogoff, B. (1995). Observing sociocultural act...     269       R   \n",
       "29      Shirk, J., Ballard, H., Wilderman, C., Phillip...     215       S   \n",
       "...                                                   ...     ...     ...   \n",
       "839230  Paavola, S. & Hakkarainen, K. (2005b). Three a...     193       P   \n",
       "839231  Resnik, D. B. (2000). \"A pragmatic approach to...     176       R   \n",
       "839232  Scardamalia, M. (2002). Collective cognitive r...     186       S   \n",
       "839233  Scardamalia, M., & Bereiter, C. (2003). Knowle...     167       S   \n",
       "839234  Scardamalia, M., & Bereiter, C. (2006). Knowle...     209       S   \n",
       "839235  Scardamalia, M., & Bereiter, C. (2014). Knowle...     229       S   \n",
       "839236  Scardamalia, M., Bereiter, C., & Lamon, M. (19...     248       S   \n",
       "839237  Thagard, P. (2000). Coherence in thought and a...      78       T   \n",
       "839238  Windschitl, M. (2004). Folk theories of ‘‘inqu...     209       W   \n",
       "839239  White, B. (1993). Causal models and intermedia...     235       W   \n",
       "839240  Ball, D. L., & Cohen, D. K. (1999). Developing...     216       B   \n",
       "839241  Gates Foundation (2014). Teachers know best: T...     135       G   \n",
       "839242  Macia, M., & Garcia, I. (2016). Informal onlin...     176       M   \n",
       "839243  Yin, R. K. (2003). Case study research: Design...     102       Y   \n",
       "839244  Ball, D. L., & Cohen, D. K. (1999). Developing...     216       B   \n",
       "839245  Gates Foundation (2014). Teachers know best: T...     135       G   \n",
       "839246  Macia, M., & Garcia, I. (2016). Informal onlin...     176       M   \n",
       "839247  Yin, R. K. (2003). Case study research: Design...     102       Y   \n",
       "839248  Ball, D. L., & Cohen, D. K. (1999). Developing...     216       B   \n",
       "839249  Gates Foundation (2014). Teachers know best: T...     135       G   \n",
       "839250  Macia, M., & Garcia, I. (2016). Informal onlin...     176       M   \n",
       "839251  Yin, R. K. (2003). Case study research: Design...     102       Y   \n",
       "839252  Ball, D. L., & Cohen, D. K. (1999). Developing...     216       B   \n",
       "839253  Gates Foundation (2014). Teachers know best: T...     135       G   \n",
       "839254  Macia, M., & Garcia, I. (2016). Informal onlin...     176       M   \n",
       "839255  Yin, R. K. (2003). Case study research: Design...     102       Y   \n",
       "839256  Ball, D. L., & Cohen, D. K. (1999). Developing...     216       B   \n",
       "839257  Gates Foundation (2014). Teachers know best: T...     135       G   \n",
       "839258  Macia, M., & Garcia, I. (2016). Informal onlin...     176       M   \n",
       "839259  Yin, R. K. (2003). Case study research: Design...     102       Y   \n",
       "\n",
       "                                               ref_parsed    year  \n",
       "0                           Lave, J., & Wenger, E. (1991)  1991.0  \n",
       "1       Miles, M. B., Huberman, A. M., & Saldana, J. (...  2013.0  \n",
       "2       Pea, R. D., Gomez, L. M., Edelson, D. C., Fish...  1997.0  \n",
       "3                                       Rogoff, B. (1995)  1995.0  \n",
       "4       Shirk, J., Ballard, H., Wilderman, C., Phillip...  2012.0  \n",
       "5                           Lave, J., & Wenger, E. (1991)  1991.0  \n",
       "6       Miles, M. B., Huberman, A. M., & Saldana, J. (...  2013.0  \n",
       "7       Pea, R. D., Gomez, L. M., Edelson, D. C., Fish...  1997.0  \n",
       "8                                       Rogoff, B. (1995)  1995.0  \n",
       "9       Shirk, J., Ballard, H., Wilderman, C., Phillip...  2012.0  \n",
       "10                          Lave, J., & Wenger, E. (1991)  1991.0  \n",
       "11      Miles, M. B., Huberman, A. M., & Saldana, J. (...  2013.0  \n",
       "12      Pea, R. D., Gomez, L. M., Edelson, D. C., Fish...  1997.0  \n",
       "13                                      Rogoff, B. (1995)  1995.0  \n",
       "14      Shirk, J., Ballard, H., Wilderman, C., Phillip...  2012.0  \n",
       "15                          Lave, J., & Wenger, E. (1991)  1991.0  \n",
       "16      Miles, M. B., Huberman, A. M., & Saldana, J. (...  2013.0  \n",
       "17      Pea, R. D., Gomez, L. M., Edelson, D. C., Fish...  1997.0  \n",
       "18                                      Rogoff, B. (1995)  1995.0  \n",
       "19      Shirk, J., Ballard, H., Wilderman, C., Phillip...  2012.0  \n",
       "20                          Lave, J., & Wenger, E. (1991)  1991.0  \n",
       "21      Miles, M. B., Huberman, A. M., & Saldana, J. (...  2013.0  \n",
       "22      Pea, R. D., Gomez, L. M., Edelson, D. C., Fish...  1997.0  \n",
       "23                                      Rogoff, B. (1995)  1995.0  \n",
       "24      Shirk, J., Ballard, H., Wilderman, C., Phillip...  2012.0  \n",
       "25                          Lave, J., & Wenger, E. (1991)  1991.0  \n",
       "26      Miles, M. B., Huberman, A. M., & Saldana, J. (...  2013.0  \n",
       "27      Pea, R. D., Gomez, L. M., Edelson, D. C., Fish...  1997.0  \n",
       "28                                      Rogoff, B. (1995)  1995.0  \n",
       "29      Shirk, J., Ballard, H., Wilderman, C., Phillip...  2012.0  \n",
       "...                                                   ...     ...  \n",
       "839230              Paavola, S. & Hakkarainen, K. (2005b)  2005.0  \n",
       "839231                               Resnik, D. B. (2000)  2000.0  \n",
       "839232                             Scardamalia, M. (2002)  2002.0  \n",
       "839233             Scardamalia, M., & Bereiter, C. (2003)  2003.0  \n",
       "839234             Scardamalia, M., & Bereiter, C. (2006)  2006.0  \n",
       "839235             Scardamalia, M., & Bereiter, C. (2014)  2014.0  \n",
       "839236  Scardamalia, M., Bereiter, C., & Lamon, M. (1994)  1994.0  \n",
       "839237                                 Thagard, P. (2000)  2000.0  \n",
       "839238                              Windschitl, M. (2004)  2004.0  \n",
       "839239                                   White, B. (1993)  1993.0  \n",
       "839240                 Ball, D. L., & Cohen, D. K. (1999)  1999.0  \n",
       "839241                            Gates Foundation (2014)  2014.0  \n",
       "839242                     Macia, M., & Garcia, I. (2016)  2016.0  \n",
       "839243                                  Yin, R. K. (2003)  2003.0  \n",
       "839244                 Ball, D. L., & Cohen, D. K. (1999)  1999.0  \n",
       "839245                            Gates Foundation (2014)  2014.0  \n",
       "839246                     Macia, M., & Garcia, I. (2016)  2016.0  \n",
       "839247                                  Yin, R. K. (2003)  2003.0  \n",
       "839248                 Ball, D. L., & Cohen, D. K. (1999)  1999.0  \n",
       "839249                            Gates Foundation (2014)  2014.0  \n",
       "839250                     Macia, M., & Garcia, I. (2016)  2016.0  \n",
       "839251                                  Yin, R. K. (2003)  2003.0  \n",
       "839252                 Ball, D. L., & Cohen, D. K. (1999)  1999.0  \n",
       "839253                            Gates Foundation (2014)  2014.0  \n",
       "839254                     Macia, M., & Garcia, I. (2016)  2016.0  \n",
       "839255                                  Yin, R. K. (2003)  2003.0  \n",
       "839256                 Ball, D. L., & Cohen, D. K. (1999)  1999.0  \n",
       "839257                            Gates Foundation (2014)  2014.0  \n",
       "839258                     Macia, M., & Garcia, I. (2016)  2016.0  \n",
       "839259                                  Yin, R. K. (2003)  2003.0  \n",
       "\n",
       "[839260 rows x 7 columns]"
      ]
     },
     "execution_count": 62,
     "metadata": {},
     "output_type": "execute_result"
    }
   ],
   "source": [
    "pd.merge(authors_frame, references_df, on='file')"
   ]
  },
  {
   "cell_type": "code",
   "execution_count": null,
   "metadata": {},
   "outputs": [],
   "source": [
    "authors_frame.to_csv('data/Reference_authors.csv')"
   ]
  },
  {
   "cell_type": "markdown",
   "metadata": {},
   "source": [
    "## Trying to extract the conference"
   ]
  },
  {
   "cell_type": "code",
   "execution_count": null,
   "metadata": {},
   "outputs": [],
   "source": [
    "references_df[references_df.ref.map(lambda x: 'CHI' in x)].shape"
   ]
  },
  {
   "cell_type": "code",
   "execution_count": null,
   "metadata": {},
   "outputs": [],
   "source": [
    "text = references_df.sample().ref.item()\n",
    "re.split(r'\\. (?=[A-Z][A-Za-z])', text)"
   ]
  },
  {
   "cell_type": "code",
   "execution_count": null,
   "metadata": {},
   "outputs": [],
   "source": [
    "references_df[references_df.ref.map(lambda x: 'CHI' in x)].sample(4).ref.tolist()"
   ]
  },
  {
   "cell_type": "code",
   "execution_count": null,
   "metadata": {},
   "outputs": [],
   "source": [
    "references_df[references_df.ref.map(lambda x: 'ICLS' in x)].shape"
   ]
  },
  {
   "cell_type": "code",
   "execution_count": null,
   "metadata": {},
   "outputs": [],
   "source": [
    "text= '/hdfk/2017/r8475'\n",
    "re.search('\\d{3}(0|2|4|6|8)', text)"
   ]
  },
  {
   "cell_type": "code",
   "execution_count": null,
   "metadata": {},
   "outputs": [],
   "source": [
    "references_df['conference'] = references_df.file.map(lambda x: 'ICLS' if re.search('\\d{3}(0|2|4|6|8)', x) else 'CSCL')"
   ]
  },
  {
   "cell_type": "code",
   "execution_count": null,
   "metadata": {},
   "outputs": [],
   "source": [
    "references_df[references_df.ref.map(lambda x: 'CSCL' in x)].conference.value_counts()"
   ]
  },
  {
   "cell_type": "code",
   "execution_count": null,
   "metadata": {},
   "outputs": [],
   "source": [
    "references_df[references_df.ref.map(lambda x: 'ICLS' in x)].conference.value_counts()"
   ]
  },
  {
   "cell_type": "code",
   "execution_count": null,
   "metadata": {},
   "outputs": [],
   "source": [
    "references_df.join(ref_counts, on='file').groupby('conference').counts.plot(kind='hist')"
   ]
  },
  {
   "cell_type": "code",
   "execution_count": null,
   "metadata": {},
   "outputs": [],
   "source": [
    "references_df.conference.value_counts()"
   ]
  },
  {
   "cell_type": "code",
   "execution_count": null,
   "metadata": {},
   "outputs": [],
   "source": [
    "references_df.groupby('file').conference.value_counts()"
   ]
  },
  {
   "cell_type": "markdown",
   "metadata": {},
   "source": [
    "## trying to parse acm authors"
   ]
  },
  {
   "cell_type": "markdown",
   "metadata": {},
   "source": [
    "We see that there aren't that many, so we won't parse them for not"
   ]
  },
  {
   "cell_type": "code",
   "execution_count": null,
   "metadata": {},
   "outputs": [],
   "source": [
    "ACM_authors = []\n",
    "for i, ref in enumerate(references):\n",
    "    for sentence in ref:\n",
    "        s =  re.findall(r'[a-zA-Z\\ \\. \\,]*\\d{4}\\. ', sentence)\n",
    "        if re.match(r'[a-zA-Z\\ \\. \\,]*\\d{4}\\. ', sentence) and not 'http' in s[0].lower() and len(s[0]) > 10:\n",
    "            #print(sentence)\n",
    "            print(s[0])\n",
    "            #apa_authors.append((re.findall(r'.*\\(\\d{4}\\)', sentence)[0], source[i]))"
   ]
  },
  {
   "cell_type": "code",
   "execution_count": null,
   "metadata": {},
   "outputs": [],
   "source": [
    "re.match(r'(.*\\d{4}\\. )', \"https://www.nsf.gov/funding/pgm_summ.jsp?pims_id=5467. Retrieved August 19, 2016.\")"
   ]
  },
  {
   "cell_type": "code",
   "execution_count": null,
   "metadata": {},
   "outputs": [],
   "source": [
    "m = re.match(r'.*\\d{4}\\. ', 'https://www.nsf.gov/funding/pgm_summ.jsp?pims_id=5467. Retrieved August 19, 2016.')"
   ]
  },
  {
   "cell_type": "code",
   "execution_count": null,
   "metadata": {},
   "outputs": [],
   "source": [
    "re.findall(r'[a-zA-Z\\ \\. \\,]*\\d{4}\\. ', 'McKenzie, W., and Murphy, D. 2000. “I hope this goes somewhere”: Evaluation of an on')"
   ]
  },
  {
   "cell_type": "code",
   "execution_count": null,
   "metadata": {},
   "outputs": [],
   "source": []
  }
 ],
 "metadata": {
  "kernelspec": {
   "display_name": "Python 3",
   "language": "python",
   "name": "python3"
  },
  "language_info": {
   "codemirror_mode": {
    "name": "ipython",
    "version": 3
   },
   "file_extension": ".py",
   "mimetype": "text/x-python",
   "name": "python",
   "nbconvert_exporter": "python",
   "pygments_lexer": "ipython3",
   "version": "3.7.0"
  }
 },
 "nbformat": 4,
 "nbformat_minor": 2
}
