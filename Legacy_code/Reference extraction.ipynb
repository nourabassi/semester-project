{
 "cells": [
  {
   "cell_type": "code",
   "execution_count": 15,
   "metadata": {},
   "outputs": [],
   "source": [
    "import re\n",
    "import pandas as pd\n",
    "import os\n",
    "import numpy as np\n",
    "import sys\n",
    "import matplotlib.pyplot as plt\n",
    "import json\n",
    "%matplotlib inline\n",
    "\n",
    "rootdir = '/Users/lguillain/Documents/EPFL2018/Git-semester-project/data/papers/'"
   ]
  },
  {
   "cell_type": "markdown",
   "metadata": {},
   "source": [
    "## loading content of txt files.."
   ]
  },
  {
   "cell_type": "code",
   "execution_count": 78,
   "metadata": {},
   "outputs": [],
   "source": [
    "contents = []\n",
    "i = 0\n",
    "source = []\n",
    "for subdir, dirs, files in os.walk(rootdir):\n",
    "    for file in files:\n",
    "        if 'txt' in file:\n",
    "            i += 1\n",
    "            path = os.path.join(subdir, file)\n",
    "            with open(path) as file:\n",
    "                try:\n",
    "                    text = file.read()\n",
    "                    contents.append(text)\n",
    "                    source.append(path[len(rootdir):-4])\n",
    "                except:\n",
    "                    name, message, content = sys.exc_info()\n",
    "                    print(message)"
   ]
  },
  {
   "cell_type": "markdown",
   "metadata": {},
   "source": [
    "## extracting the reference function from the text"
   ]
  },
  {
   "cell_type": "markdown",
   "metadata": {},
   "source": [
    "One attempt was to use special splitting:"
   ]
  },
  {
   "cell_type": "code",
   "execution_count": 80,
   "metadata": {},
   "outputs": [
    {
     "data": {
      "text/plain": [
       "['Abrahamson, D. (2012). Discovery reconceived: Product before process. For the Learning of Mathematics, 32(1), 815.',\n",
       " 'Abrahamson, D. (2015). The monster in the machine, or why educational technology needs embodied design. In\\nV. R. Lee (Ed.),']"
      ]
     },
     "execution_count": 80,
     "metadata": {},
     "output_type": "execute_result"
    }
   ],
   "source": [
    "#Example of extraction\n",
    "t = 'Abrahamson, D. (2012). Discovery reconceived: Product before process. For the Learning of Mathematics, 32(1), 815.\\nAbrahamson, D. (2015). The monster in the machine, or why educational technology needs embodied design. In\\nV. R. Lee (Ed.),'\n",
    "re.split(r'(?<=\\.)\\n', t)"
   ]
  },
  {
   "cell_type": "code",
   "execution_count": 81,
   "metadata": {},
   "outputs": [
    {
     "data": {
      "text/plain": [
       "['dispositions. Science Education, 98(1), 36–63. https://doi.org/10.1002/sce.21083',\n",
       " None,\n",
       " None,\n",
       " 'Edelson, D. C., & Joseph, D. M. (2004). The interest-driven learning design framework: motivating learning']"
      ]
     },
     "execution_count": 81,
     "metadata": {},
     "output_type": "execute_result"
    }
   ],
   "source": [
    "#dealing with links at the end\n",
    "t =  'dispositions. Science Education, 98(1), 36–63. https://doi.org/10.1002/sce.21083\\nEdelson, D. C., & Joseph, D. M. (2004). The interest-driven learning design framework: motivating learning'\n",
    "re.split(r'\\n\\n|((?<=(\\.|\\/|[a-z]))\\n)|\\n(?=[A-Z])',t)"
   ]
  },
  {
   "cell_type": "markdown",
   "metadata": {},
   "source": [
    "#### The issue is that it undersplits, so we it's better to just use \\n "
   ]
  },
  {
   "cell_type": "code",
   "execution_count": 82,
   "metadata": {},
   "outputs": [],
   "source": [
    "def ref_extraction(text, extract=False):\n",
    "    \"\"\"extracts refrerence section: works well on well formated documents\"\"\"\n",
    "    mention = text.rfind(\"\\nReferences\")\n",
    "    if mention == -1:\n",
    "        mention = text.lower().rfind(\" references\")\n",
    "    if mention == -1:\n",
    "        mention =  text.lower().rfind(\"reference\")\n",
    "    #get reference section, account for different spelling\n",
    "    acknowledgements = max(text.lower().find(\"acknowledgements\"), text.lower().find('acknowledgments'))\n",
    "    \n",
    "    #handle case that acknowlege ments are before references\n",
    "    if acknowledgements < mention:\n",
    "        acknowledgements = -1\n",
    "    ref = text[mention+len(\"references\"):acknowledgements]\n",
    "    \n",
    "    #references = re.split(r'\\n\\n|((?<=(\\.|\\/|[a-z]))\\n)|\\n(?=[A-Z])',ref)\n",
    "    references = re.split(r'\\n', ref)\n",
    "    \n",
    "    ref = [r for r in references if r and len(r) > 3 and not re.match(r'(CSCL|ICLS) \\d{4} Proceedings|© ISLS', r)]\n",
    "    if extract:\n",
    "        print(text[mention+len(\"references\"):acknowledgements])\n",
    "        print(references)\n",
    "    return ref"
   ]
  },
  {
   "cell_type": "code",
   "execution_count": 83,
   "metadata": {},
   "outputs": [],
   "source": [
    "references = []\n",
    "for i, content in enumerate(contents):\n",
    "    references.append((ref_extraction(content)))"
   ]
  },
  {
   "cell_type": "code",
   "execution_count": 84,
   "metadata": {},
   "outputs": [
    {
     "name": "stdout",
     "output_type": "stream",
     "text": [
      "Number of pdf documents :  874\n",
      "Number of documents for which we have an extracted reference section:  874\n"
     ]
    }
   ],
   "source": [
    "print('Number of pdf documents : ', len(contents))\n",
    "print('Number of documents for which we have an extracted reference section: ', len(references))"
   ]
  },
  {
   "cell_type": "markdown",
   "metadata": {},
   "source": [
    "# looking into regex to check if valid:"
   ]
  },
  {
   "cell_type": "markdown",
   "metadata": {},
   "source": [
    "One way we can know a line was split early is if it starts with lowercase letter or with a number"
   ]
  },
  {
   "cell_type": "markdown",
   "metadata": {},
   "source": [
    "This is old code that was used at some point but is not no longer used "
   ]
  },
  {
   "cell_type": "code",
   "execution_count": 85,
   "metadata": {},
   "outputs": [],
   "source": [
    "def match_url(sentence):\n",
    "    return re.search('http(s)?\\:\\/\\/[\\S]*$', sentence) or re.search(r'doi\\:[\\S\\/\\*]*$', sentence)\n",
    "\n",
    "def match_url_beginning(sentence):\n",
    "    return re.search('^http(s)?\\:\\/\\/[\\S]*$', sentence) or re.search(r'^doi\\:[\\S\\/\\*]*$', sentence)\n",
    "\n",
    "def show_issue(issues, condition):\n",
    "    for issue in issues:\n",
    "        if condition(issue):\n",
    "            print(issue)"
   ]
  },
  {
   "cell_type": "markdown",
   "metadata": {},
   "source": [
    "Central approach is to move sentences up until they are part of a string that contains a citation year, which usually is at the beginning of a string in an APA reference "
   ]
  },
  {
   "cell_type": "code",
   "execution_count": 86,
   "metadata": {},
   "outputs": [],
   "source": [
    "def contains_citation_beginning(sentence):\n",
    "\n",
    "    ##Check for mention of publication date,\n",
    "    #do it this way to not allow for ICLS 2015 string to be counted\n",
    "    months = '(january|february|march|april|may|june|july|august|september|october|november|december)?'\n",
    "    publication_year = r'(?<!\\d)\\('+months+'[\\-\\ ]*'+months+'[\\ \\,]*(18|19|20)\\d{2}[a-z]?[\\,\\ ]*'+months+'[\\-\\ \\d]*'+months+'\\)'\n",
    "    #sometimes two years are mentioned, we use this regex to parse them\n",
    "    match_bad_year = r'\\((18|19|20)\\d{2}\\/(18|19|20)\\d{2}\\)'\n",
    "    \n",
    "    #these regex account for special strings used in the references\n",
    "    match_press = r'[\\w\\ \\. \\,\\&\\(\\)\\-\\'\\…]*\\(in press\\)'\n",
    "    match_forth = r'[\\S\\s]*\\(forthcoming\\)'\n",
    "    match_accepted = r'[\\S\\s]*\\(accepted\\)'\n",
    "    match_submitted = r'[\\S\\s]*\\(submitted\\)'\n",
    "    match_underreview = r'[\\S\\s]*\\(under review\\)'\n",
    "    sentence = sentence.lower()\n",
    "        \n",
    "    year = re.search(publication_year, sentence) or  re.search(match_bad_year, sentence)\n",
    "    \n",
    "    return  year or \\\n",
    "            re.match(match_press, sentence) or re.match(match_forth, sentence) or\\\n",
    "            re.match(match_accepted, sentence) or re.match(match_submitted, sentence) or\\\n",
    "            re.match(match_underreview, sentence)"
   ]
  },
  {
   "cell_type": "markdown",
   "metadata": {},
   "source": [
    "Example of parsing working:"
   ]
  },
  {
   "cell_type": "code",
   "execution_count": 87,
   "metadata": {},
   "outputs": [
    {
     "data": {
      "text/plain": [
       "(<re.Match object; span=(14, 25), match='(1987/2014)'>, None)"
      ]
     },
     "execution_count": 87,
     "metadata": {},
     "output_type": "execute_result"
    }
   ],
   "source": [
    "sentence = 'Xing, W., Kim, S., & Goggins, S. (2015/1994). Modeling performance in asynchronous CSCL: an exploration of social ability, collective efficacy and social interaction. Exploring the Material Conditions of Learning: Proceedings of the Computer Supported Collaborative Learning (CSCL 2015), International Society of'\n",
    "sentence_2 = 'Engeström, Y. (1987/2014) Learning by expanding: An activity-theoretical approach to developmental research (2nd ed.). New York, NY: Cambridge University Press.'\n",
    "\n",
    "months = '(january|february|march|april|may|june|july|august|september|october|november|december)?'\n",
    "publication_year = r'(?<!\\d)\\('+months+'[\\-\\ ]*'+months+'[\\ \\,]*(18|19|20)\\d{2}[a-z]?[\\,\\ ]*'+months+'[\\-\\ ]*'+months+'\\)'\n",
    "\n",
    "\n",
    "match_bad_year = r'\\((18|19|20)\\d{2}\\/(18|19|20)\\d{2}\\)'\n",
    "\n",
    "month = re.search(publication_year, sentence.lower())\n",
    "conference =  re.search(match_bad_year, sentence_2)\n",
    "    \n",
    "conference, month"
   ]
  },
  {
   "cell_type": "code",
   "execution_count": 88,
   "metadata": {},
   "outputs": [],
   "source": [
    "#moving sentences starting with lowercase letter or number strings \"one up\"\n",
    "def moving_up(issues, condition=lambda x: re.match('^[\\d\\(\\.\\&\\ ]', x)):\n",
    "\n",
    "    issues = [i for i in issues if len(i) > 0]\n",
    "    patchwork = []\n",
    "    j = 0\n",
    "    \n",
    "    for i, sentence in enumerate(issues):\n",
    "        if i != 0 and condition(sentence):\n",
    "            patchwork[j-1] += ' ' + sentence\n",
    "            #print(sentence)\n",
    "        else:\n",
    "            j +=1\n",
    "            patchwork.append(sentence)\n",
    "    patchwork = [p for p in patchwork if len(p) > 0]\n",
    "    \n",
    "    return patchwork"
   ]
  },
  {
   "cell_type": "code",
   "execution_count": 89,
   "metadata": {},
   "outputs": [],
   "source": [
    "#iteration 1: move up strings that start in number or with (\n",
    "ref_1 = [moving_up(r) for r in references]\n",
    "#iteration 2: move up string starting with \"Proceedings\"\n",
    "ref_2 = [moving_up(r, lambda x: re.match('^Proceedings', x)) for r in ref_1]"
   ]
  },
  {
   "cell_type": "code",
   "execution_count": 90,
   "metadata": {},
   "outputs": [],
   "source": [
    "#moving sentences starting with lowercase letter or number strings \"one up\"\n",
    "def moving_down(issues, condition=lambda x: re.match('^[\\d\\(\\.]', x)):\n",
    "\n",
    "    issues = [i for i in issues if len(i) > 0]\n",
    "    patchwork = issues.copy()\n",
    "    j = 0\n",
    "    \n",
    "    for i, sentence in enumerate(issues):\n",
    "        if condition(sentence) and i+1 < len(issues):\n",
    "            patchwork[i] = sentence + ' ' + patchwork[i+1]\n",
    "            patchwork[i+1] = ''\n",
    "\n",
    "    patchwork = [p for p in patchwork if len(p) > 0]\n",
    "    \n",
    "    return patchwork"
   ]
  },
  {
   "cell_type": "code",
   "execution_count": 91,
   "metadata": {},
   "outputs": [
    {
     "data": {
      "text/plain": [
       "<re.Match object; span=(0, 3), match='G. '>"
      ]
     },
     "execution_count": 91,
     "metadata": {},
     "output_type": "execute_result"
    }
   ],
   "source": [
    "cutoff_name = r'^[A-Z]+\\.\\ ?'\n",
    "text = 'G. bsdjhvshjvf(1220)'\n",
    "re.match(cutoff_name, text)"
   ]
  },
  {
   "cell_type": "code",
   "execution_count": 92,
   "metadata": {},
   "outputs": [
    {
     "data": {
      "text/plain": [
       "<re.Match object; span=(105, 109), match=' and'>"
      ]
     },
     "execution_count": 92,
     "metadata": {},
     "output_type": "execute_result"
    }
   ],
   "source": [
    "text = 'Walther, J. B., & Parks, M. R. (2002). Cues filtered out, cues filter in: computer mediated communication and'\n",
    "words_at_end = r'\\ [a-zA-Z]*$'\n",
    "re.search(words_at_end, text)"
   ]
  },
  {
   "cell_type": "code",
   "execution_count": 93,
   "metadata": {},
   "outputs": [],
   "source": [
    "#move up is name is cut off (for instance, sentence starts with C. ....)\n",
    "ref_3 = [moving_up(r, lambda x: re.match(cutoff_name, x)) for r in ref_2]"
   ]
  },
  {
   "cell_type": "markdown",
   "metadata": {},
   "source": [
    "For references we might cut off the year from the authors. In that case we need to change strategy and move the one that is below up if the upper string satisfies the condition"
   ]
  },
  {
   "cell_type": "code",
   "execution_count": 94,
   "metadata": {},
   "outputs": [],
   "source": [
    "def match_author(authors):\n",
    "    regex = r'(([\\w\\-]*[\\,\\&] [A-Z\\.\\ ]+[\\&\\,]?)*$)'\n",
    "    USA = r'([A-Z]{2,})'\n",
    "    return not re.search(USA, authors) and re.match(regex, authors)"
   ]
  },
  {
   "cell_type": "code",
   "execution_count": 95,
   "metadata": {},
   "outputs": [
    {
     "data": {
      "text/plain": [
       "'Yoon, S., Anderson, E., Koehler-Yom, Evans, C., Park, M., J., Sheldon, J., Schoenfeld, I., Wendel, D.,'"
      ]
     },
     "execution_count": 95,
     "metadata": {},
     "output_type": "execute_result"
    }
   ],
   "source": [
    "sentence = 'Yoon, S., Anderson, E., Koehler-Yom, Evans, C., Park, M., J., Sheldon, J., Schoenfeld, I., Wendel, D.,'\n",
    "match_author(sentence).group(0)"
   ]
  },
  {
   "cell_type": "code",
   "execution_count": 96,
   "metadata": {},
   "outputs": [],
   "source": [
    "ref_4 = [moving_down(r, lambda x: match_author(x)) for r in ref_3]\n",
    "\n",
    "#pivoting up around strings containing citation\n",
    "ref_5 = [moving_up(r, lambda x: not contains_citation_beginning(x)) for r in ref_4]\n",
    "#if ends in word\n",
    "ref_6 = [moving_down(r, lambda x: re.search(words_at_end, x)) for r in ref_5]"
   ]
  },
  {
   "cell_type": "markdown",
   "metadata": {},
   "source": [
    "Add the reference isnto dataframe, associating the source text to it:"
   ]
  },
  {
   "cell_type": "code",
   "execution_count": 97,
   "metadata": {},
   "outputs": [],
   "source": [
    "references_df = pd.DataFrame([(f, source[i]) for i, flat in enumerate(ref_6) for f in flat], columns=['ref', 'file'])"
   ]
  },
  {
   "cell_type": "markdown",
   "metadata": {},
   "source": [
    "We use length and initial of the reference to preform a sanity check:"
   ]
  },
  {
   "cell_type": "code",
   "execution_count": 98,
   "metadata": {},
   "outputs": [],
   "source": [
    "references_df['length'] = references_df.ref.map(lambda x: len(x))\n",
    "references_df['initial'] = references_df.ref.map(lambda x: x[0])"
   ]
  },
  {
   "cell_type": "code",
   "execution_count": 99,
   "metadata": {},
   "outputs": [
    {
     "data": {
      "text/plain": [
       "count    14686.000000\n",
       "mean       194.962345\n",
       "std        685.649075\n",
       "min          4.000000\n",
       "25%        139.000000\n",
       "50%        180.000000\n",
       "75%        219.000000\n",
       "max      74737.000000\n",
       "Name: length, dtype: float64"
      ]
     },
     "execution_count": 99,
     "metadata": {},
     "output_type": "execute_result"
    },
    {
     "data": {
      "image/png": "[encoded data removed]",
      "text/plain": [
       "<Figure size 432x288 with 1 Axes>"
      ]
     },
     "metadata": {
      "needs_background": "light"
     },
     "output_type": "display_data"
    }
   ],
   "source": [
    "references_df.length.plot(kind='box')\n",
    "references_df.length.describe()"
   ]
  },
  {
   "cell_type": "code",
   "execution_count": 100,
   "metadata": {},
   "outputs": [
    {
     "data": {
      "text/html": [
       "<div>\n",
       "<style scoped>\n",
       "    .dataframe tbody tr th:only-of-type {\n",
       "        vertical-align: middle;\n",
       "    }\n",
       "\n",
       "    .dataframe tbody tr th {\n",
       "        vertical-align: top;\n",
       "    }\n",
       "\n",
       "    .dataframe thead th {\n",
       "        text-align: right;\n",
       "    }\n",
       "</style>\n",
       "<table border=\"1\" class=\"dataframe\">\n",
       "  <thead>\n",
       "    <tr style=\"text-align: right;\">\n",
       "      <th></th>\n",
       "      <th>ref</th>\n",
       "      <th>file</th>\n",
       "      <th>length</th>\n",
       "      <th>initial</th>\n",
       "    </tr>\n",
       "  </thead>\n",
       "  <tbody>\n",
       "    <tr>\n",
       "      <th>114</th>\n",
       "      <td>p ...............................................</td>\n",
       "      <td>import2016full_93</td>\n",
       "      <td>22395</td>\n",
       "      <td>p</td>\n",
       "    </tr>\n",
       "    <tr>\n",
       "      <th>862</th>\n",
       "      <td>nalysis .........................................</td>\n",
       "      <td>import2016full_92</td>\n",
       "      <td>74737</td>\n",
       "      <td>n</td>\n",
       "    </tr>\n",
       "    <tr>\n",
       "      <th>1897</th>\n",
       "      <td>Pages 1-702: Volume 1 Pages 703-1407: Volume 2...</td>\n",
       "      <td>import2016full_91</td>\n",
       "      <td>26188</td>\n",
       "      <td>P</td>\n",
       "    </tr>\n",
       "    <tr>\n",
       "      <th>9343</th>\n",
       "      <td>for collaborative learning moderates the relat...</td>\n",
       "      <td>import2016short_136</td>\n",
       "      <td>3336</td>\n",
       "      <td>f</td>\n",
       "    </tr>\n",
       "    <tr>\n",
       "      <th>10746</th>\n",
       "      <td>Dijkstra, Pieternel, Hans Kuyper, Greetje van ...</td>\n",
       "      <td>import2018_323</td>\n",
       "      <td>1335</td>\n",
       "      <td>D</td>\n",
       "    </tr>\n",
       "    <tr>\n",
       "      <th>12489</th>\n",
       "      <td>Wenger, E. (1998). Communities of practice: Le...</td>\n",
       "      <td>import2016short_145</td>\n",
       "      <td>10097</td>\n",
       "      <td>W</td>\n",
       "    </tr>\n",
       "  </tbody>\n",
       "</table>\n",
       "</div>"
      ],
      "text/plain": [
       "                                                     ref                 file  \\\n",
       "114    p ...............................................    import2016full_93   \n",
       "862    nalysis .........................................    import2016full_92   \n",
       "1897   Pages 1-702: Volume 1 Pages 703-1407: Volume 2...    import2016full_91   \n",
       "9343   for collaborative learning moderates the relat...  import2016short_136   \n",
       "10746  Dijkstra, Pieternel, Hans Kuyper, Greetje van ...       import2018_323   \n",
       "12489  Wenger, E. (1998). Communities of practice: Le...  import2016short_145   \n",
       "\n",
       "       length initial  \n",
       "114     22395       p  \n",
       "862     74737       n  \n",
       "1897    26188       P  \n",
       "9343     3336       f  \n",
       "10746    1335       D  \n",
       "12489   10097       W  "
      ]
     },
     "execution_count": 100,
     "metadata": {},
     "output_type": "execute_result"
    }
   ],
   "source": [
    "references_df[references_df.length > 1000]"
   ]
  },
  {
   "cell_type": "markdown",
   "metadata": {},
   "source": [
    "One paper that uses ACM format:"
   ]
  },
  {
   "cell_type": "code",
   "execution_count": 102,
   "metadata": {},
   "outputs": [
    {
     "data": {
      "text/plain": [
       "'Dijkstra, Pieternel, Hans Kuyper, Greetje van der Werf, Abraham P. Buunk, and Yvonne G. van der Zee. 2008. “Social Comparison in the Classroom: A Review.” Review of Educational Research 78 (4). American Educational Research Association:828–79. Festinger, Leon. 1954. “A Theory of Social Comparison Processes.” Human Relations; Studies towards the Integration of the Social Sciences 7 (2). SAGE Publications:117–40. Graesser, Arthur C., Danielle S. McNamara, Zhiqang Cai, Mark Conley, Haiying Li, and James Pennebaker. 2014. “Coh-Metrix Measures Text Characteristics at Multiple Levels of Language and Discourse.” The Elementary School Journal 115 (2):210–29. Régner, Isabelle, and Jean-Marc Monteil. 2007. “Low-and High-Socioeconomic Status Students Preference for Ingroup Comparisons and Their Underpinning Ability Expectations.” Revue Internationale de Psychologie Sociale 20 (1). Presses univ. de Grenoble:87–104. Tu, Chih-Hsiung, and Marina McIsaac. 2002. “The Relationship of Social Presence and Interaction in Online Classes.” The American Journal of Distance Education 16 (3). Routledge:131–50. Van Boven, Leaf, Joanne Kane, A. Peter McGraw, and Jeannette Dale. 2010. “Feeling Close: Emotional Intensity Reduces Perceived Psychological Distance.” Journal of Personality and Social Psychology 98 (6). psycnet.apa.org:872–85. 1422'"
      ]
     },
     "execution_count": 102,
     "metadata": {},
     "output_type": "execute_result"
    }
   ],
   "source": [
    "references_df.iloc[10746].ref"
   ]
  },
  {
   "cell_type": "code",
   "execution_count": 103,
   "metadata": {},
   "outputs": [
    {
     "data": {
      "text/plain": [
       "h    4\n",
       "b    3\n",
       "p    3\n",
       "Ö    3\n",
       "e    2\n",
       "n    2\n",
       "a    2\n",
       "t    2\n",
       "Ø    1\n",
       "f    1\n",
       "r    1\n",
       "1    1\n",
       "Ž    1\n",
       "[    1\n",
       "Å    1\n",
       "Name: initial, dtype: int64"
      ]
     },
     "execution_count": 103,
     "metadata": {},
     "output_type": "execute_result"
    },
    {
     "data": {
      "image/png": "[encoded data removed]",
      "text/plain": [
       "<Figure size 432x288 with 1 Axes>"
      ]
     },
     "metadata": {
      "needs_background": "light"
     },
     "output_type": "display_data"
    }
   ],
   "source": [
    "references_df.initial.value_counts().plot(kind='bar')\n",
    "references_df.initial.value_counts().tail(15)"
   ]
  },
  {
   "cell_type": "code",
   "execution_count": 104,
   "metadata": {},
   "outputs": [
    {
     "data": {
      "text/html": [
       "<div>\n",
       "<style scoped>\n",
       "    .dataframe tbody tr th:only-of-type {\n",
       "        vertical-align: middle;\n",
       "    }\n",
       "\n",
       "    .dataframe tbody tr th {\n",
       "        vertical-align: top;\n",
       "    }\n",
       "\n",
       "    .dataframe thead th {\n",
       "        text-align: right;\n",
       "    }\n",
       "</style>\n",
       "<table border=\"1\" class=\"dataframe\">\n",
       "  <thead>\n",
       "    <tr style=\"text-align: right;\">\n",
       "      <th></th>\n",
       "      <th>ref</th>\n",
       "      <th>file</th>\n",
       "      <th>length</th>\n",
       "      <th>initial</th>\n",
       "    </tr>\n",
       "  </thead>\n",
       "  <tbody>\n",
       "    <tr>\n",
       "      <th>3724</th>\n",
       "      <td>Wilensky, U. (1999). {NetLogo}.</td>\n",
       "      <td>import2017_9</td>\n",
       "      <td>31</td>\n",
       "      <td>W</td>\n",
       "    </tr>\n",
       "    <tr>\n",
       "      <th>4140</th>\n",
       "      <td>Wilensky, U. (1999). {NetLogo}.</td>\n",
       "      <td>import2018_1</td>\n",
       "      <td>31</td>\n",
       "      <td>W</td>\n",
       "    </tr>\n",
       "    <tr>\n",
       "      <th>5093</th>\n",
       "      <td>Wilensky, U. (1999). {NetLogo}.</td>\n",
       "      <td>import2016short_106</td>\n",
       "      <td>31</td>\n",
       "      <td>W</td>\n",
       "    </tr>\n",
       "    <tr>\n",
       "      <th>6391</th>\n",
       "      <td>1855</td>\n",
       "      <td>import2018_513</td>\n",
       "      <td>4</td>\n",
       "      <td>1</td>\n",
       "    </tr>\n",
       "    <tr>\n",
       "      <th>9378</th>\n",
       "      <td>no. 1 (2000): 1–25.</td>\n",
       "      <td>import2018_269</td>\n",
       "      <td>19</td>\n",
       "      <td>n</td>\n",
       "    </tr>\n",
       "  </tbody>\n",
       "</table>\n",
       "</div>"
      ],
      "text/plain": [
       "                                  ref                 file  length initial\n",
       "3724  Wilensky, U. (1999). {NetLogo}.         import2017_9      31       W\n",
       "4140  Wilensky, U. (1999). {NetLogo}.         import2018_1      31       W\n",
       "5093  Wilensky, U. (1999). {NetLogo}.  import2016short_106      31       W\n",
       "6391                             1855       import2018_513       4       1\n",
       "9378              no. 1 (2000): 1–25.       import2018_269      19       n"
      ]
     },
     "execution_count": 104,
     "metadata": {},
     "output_type": "execute_result"
    }
   ],
   "source": [
    "#short references are fine\n",
    "references_df[references_df.length < 40]"
   ]
  },
  {
   "cell_type": "code",
   "execution_count": 105,
   "metadata": {},
   "outputs": [
    {
     "data": {
      "text/html": [
       "<div>\n",
       "<style scoped>\n",
       "    .dataframe tbody tr th:only-of-type {\n",
       "        vertical-align: middle;\n",
       "    }\n",
       "\n",
       "    .dataframe tbody tr th {\n",
       "        vertical-align: top;\n",
       "    }\n",
       "\n",
       "    .dataframe thead th {\n",
       "        text-align: right;\n",
       "    }\n",
       "</style>\n",
       "<table border=\"1\" class=\"dataframe\">\n",
       "  <thead>\n",
       "    <tr style=\"text-align: right;\">\n",
       "      <th></th>\n",
       "      <th>ref</th>\n",
       "      <th>file</th>\n",
       "      <th>length</th>\n",
       "      <th>initial</th>\n",
       "    </tr>\n",
       "  </thead>\n",
       "  <tbody>\n",
       "    <tr>\n",
       "      <th>3045</th>\n",
       "      <td>boyd, d. (2014). It’s complicated: The social ...</td>\n",
       "      <td>import2018_176</td>\n",
       "      <td>109</td>\n",
       "      <td>b</td>\n",
       "    </tr>\n",
       "    <tr>\n",
       "      <th>3671</th>\n",
       "      <td>boyd, d. (2009). Why Youth (Heart) Social Netw...</td>\n",
       "      <td>import2015full_285</td>\n",
       "      <td>110</td>\n",
       "      <td>b</td>\n",
       "    </tr>\n",
       "    <tr>\n",
       "      <th>4620</th>\n",
       "      <td>boyd, d. (2009). Why Youth (Heart) Social Netw...</td>\n",
       "      <td>import2015short_285</td>\n",
       "      <td>110</td>\n",
       "      <td>b</td>\n",
       "    </tr>\n",
       "  </tbody>\n",
       "</table>\n",
       "</div>"
      ],
      "text/plain": [
       "                                                    ref                 file  \\\n",
       "3045  boyd, d. (2014). It’s complicated: The social ...       import2018_176   \n",
       "3671  boyd, d. (2009). Why Youth (Heart) Social Netw...   import2015full_285   \n",
       "4620  boyd, d. (2009). Why Youth (Heart) Social Netw...  import2015short_285   \n",
       "\n",
       "      length initial  \n",
       "3045     109       b  \n",
       "3671     110       b  \n",
       "4620     110       b  "
      ]
     },
     "execution_count": 105,
     "metadata": {},
     "output_type": "execute_result"
    }
   ],
   "source": [
    "#also correctly parsed i, e are fine, a are not too bad, leave it\n",
    "#only very few references are incorrect if they start by lowercase. we accept this\n",
    "#b is correct\n",
    "references_df[references_df['initial'] == 'b']"
   ]
  },
  {
   "cell_type": "markdown",
   "metadata": {},
   "source": [
    "Remove overly long references are they are due to badly parsed pdfs:"
   ]
  },
  {
   "cell_type": "code",
   "execution_count": 106,
   "metadata": {},
   "outputs": [],
   "source": [
    "references_df = references_df[(references_df.length < 1000)]"
   ]
  },
  {
   "cell_type": "code",
   "execution_count": 107,
   "metadata": {},
   "outputs": [
    {
     "name": "stdout",
     "output_type": "stream",
     "text": [
      "We can parse references from 865 documents.\n"
     ]
    }
   ],
   "source": [
    "print('We can parse references from {} documents.'.format(references_df.file.value_counts().shape[0]))"
   ]
  },
  {
   "cell_type": "markdown",
   "metadata": {},
   "source": [
    "Example reference:"
   ]
  },
  {
   "cell_type": "code",
   "execution_count": 108,
   "metadata": {},
   "outputs": [
    {
     "data": {
      "text/plain": [
       "['Lim, M. & Barton, A. (2006). Science learning and a sense of place in an urban middle school. Cultural Studies in Science Education 1(1), 107-142.',\n",
       " 'Demirer, V., & Sahin, I. (2013). Effect of blended learning environment on transfer of learning: An experimental study. Journal of Computer Assisted Learning, 29, 518-529.',\n",
       " 'Duschl, R. (2008). Science education in three-part harmony: Balancing conceptual, epistemic, and social learning goals. Review of Research in Education, 32(1), 268–291.',\n",
       " 'Ford, M. J. (2015). Educational implications of choosing “practice” to describe science in the Next Generation Science Standards. Science Education, 99(6), 1041-1048.',\n",
       " 'Sherman, M. & Martin, F. (2015), The assessment of mobile computational thinking. Journal of Computing Sciences in Colleges. 30(6), 53–59.']"
      ]
     },
     "execution_count": 108,
     "metadata": {},
     "output_type": "execute_result"
    }
   ],
   "source": [
    "references_df[references_df.length < 200].sample(5).ref.tolist()"
   ]
  },
  {
   "cell_type": "markdown",
   "metadata": {},
   "source": [
    "# Approach to get names from references:"
   ]
  },
  {
   "cell_type": "markdown",
   "metadata": {},
   "source": [
    "For APA style it is easy to extract the year and author of the cited reference\n",
    "- we could look at from when the reference cited is, who is in it"
   ]
  },
  {
   "cell_type": "markdown",
   "metadata": {},
   "source": [
    "Need to look at efficient way to check name validity:\n",
    "think spanish, irish names"
   ]
  },
  {
   "cell_type": "code",
   "execution_count": 109,
   "metadata": {},
   "outputs": [],
   "source": [
    "def get_authors(sentence, debug = False):\n",
    "    regex = r'[\\S\\s]*\\((18|19|20)\\d{2}[\\,\\ \\w\\d]*\\)'\n",
    "    if re.search(regex, sentence):\n",
    "        s = re.findall(regex, sentence)[0]\n",
    "        if len(s) > 9:\n",
    "            return (s)\n",
    "    elif debug:\n",
    "        return '#'+sentence\n",
    "    \n",
    "    return np.nan\n",
    "\n",
    "\n",
    "import regex as reg\n",
    "\n",
    "def get_authors_month(sentence, debug = False):\n",
    "    regex = r'[éüş\\xad\\p{L}\\,\\ \\.\\:\\;\\/\\&\\-\\'\\`\\(\\)\\’\\–\\¨\\…\\‐\\*\\´\\＆\\\\]*\\([\\,\\ \\p{L}\\d\\-]*(18|19|20)\\d{2}[\\,\\ \\p{L}\\d\\-]*\\)'\n",
    "    match_bad_year = r'[\\S\\s]*\\((18|19|20)\\d{2}\\/(18|19|20)\\d{2}\\)'\n",
    "    \n",
    "    match_press = r'[\\S\\s]*\\((i|I)n (P|p)ress|manuscript under review\\)'\n",
    "    match_forth = r'[\\S\\s]*\\((f|F)orthcoming\\)'\n",
    "    match_accepted = r'[\\S\\s]*\\((a|A)ccepted\\)'\n",
    "    match_submitted = r'[\\S\\s]*\\((s|S)ubmitted\\)'\n",
    "    match_underreview = r'[\\S\\s]*\\((u|U)nder (R|r)eview\\)'\n",
    "    \n",
    "    #sentence = sentence.lower()\n",
    "    if reg.match(regex, sentence):\n",
    "        s = reg.search(regex, sentence).group(0)\n",
    "        if len(s) > 9:\n",
    "            return s\n",
    "    elif re.match(match_bad_year, sentence):\n",
    "        return re.search(match_bad_year, sentence).group(0)\n",
    "    elif re.match(match_press, sentence):\n",
    "        return re.search(match_press, sentence).group(0)\n",
    "    elif re.match(match_forth, sentence):\n",
    "        return re.search(match_forth, sentence).group(0)\n",
    "    elif re.match(match_accepted, sentence):\n",
    "        return re.search(match_accepted, sentence).group(0)\n",
    "    elif re.match(match_submitted, sentence):\n",
    "        return re.search(match_submitted, sentence).group(0)\n",
    "    elif re.match(match_underreview, sentence):\n",
    "        return re.search(match_underreview, sentence).group(0)\n",
    "    \n",
    "    return np.nan"
   ]
  },
  {
   "cell_type": "code",
   "execution_count": 110,
   "metadata": {},
   "outputs": [],
   "source": [
    "references_df['ref_parsed'] = references_df.apply(lambda x: get_authors_month(x['ref']), axis=1)"
   ]
  },
  {
   "cell_type": "code",
   "execution_count": 111,
   "metadata": {},
   "outputs": [
    {
     "name": "stdout",
     "output_type": "stream",
     "text": [
      "Percentage of unparsed references: 0.00\n",
      "Number of unparsed references:  54\n",
      "Number of properly parsed references:  14680\n"
     ]
    }
   ],
   "source": [
    "print('Percentage of unparsed references: {:0.2f}'.format(references_df.ref_parsed.isna().sum()/references_df.ref_parsed.shape[0]))\n",
    "print('Number of unparsed references: ', references_df[references_df.ref_parsed.isna()].ref.shape[0])\n",
    "print('Number of properly parsed references: ', references_df.ref_parsed.shape[0])"
   ]
  },
  {
   "cell_type": "markdown",
   "metadata": {},
   "source": [
    "Unpased files:"
   ]
  },
  {
   "cell_type": "code",
   "execution_count": 112,
   "metadata": {},
   "outputs": [
    {
     "data": {
      "text/plain": [
       "['American Association for the Advancement of Science (AAAS; 2016). Benchmarks for Science Literacy. New York, Oxford University Press. Retrieved from www.AAAS.org.',\n",
       " 'Journal of Systems and Software, 86(5), 1390-1407. EEF. (2017). Education Endownment Foundation: Teaching & Learning Toolkit: Collaborative learning.',\n",
       " 'P21 Framework Definitions (2009). Partnership for 21st Century Skills. Retrieved from http://www.p21.org/storage/documents/P21_Framework_Definitions.pdf.',\n",
       " 'Dewey, 1913. Dewey, J. (1913). Interest and effort in education. Boston, MA: Riverside Press.',\n",
       " 'Gilbert (Ed.), Visualization in science education (pp. 121-145). Dordrecht, Netherlands: Springer. NRC. (2006). Learning to think spatially. Washington, D.C.: National Academies Press.',\n",
       " 'Blikstein, P. Gears of our childhood: constructionist toolkits, robotics, and physical computing, past and future. Proceedings of the 12th International Conference on Interaction Design and Children, ACM (2013), 173–182.',\n",
       " 'pedagogy: Instruction limits spontaneous exploration and discovery. Cognition 120, 3 (2011), 322–330. Bransford, J. and Schwartz, D. Rethinking Transfer: A Simple Proposal with Multiple Implications. Review of Research in Education 24, (1999). Crouch, C.H., Fagen, A.P., Callan, J.P., and Mazur, E. Classroom demonstrations: Learning tools or',\n",
       " 'Research in Education 24, (1999). Crouch, C.H., Fagen, A.P., Callan, J.P., and Mazur, E. Classroom demonstrations: Learning tools or entertainment? American Journal of Physics 72, 6 (2004), 835–838.',\n",
       " 'Kapur, M. Productive failure. Cognition and Instruction, 26 (2008), 379-424.',\n",
       " 'P21 Partnership for 21st Century Learning. (2009). Framework for 21st Century Learning. Retrieved from http://www.p21.org/about-us/p21-framework.',\n",
       " '* References marked with an asterisk indicate studies included in the review (Not a full list of all of the reviewed studies).',\n",
       " 'American Chemical Society [ACS]. (2001). General Chemistry Exam (Conceptual). Ames, IA: ACS Exams Institute.',\n",
       " 'Barber, E.W. 1994. Women’s work - The first 20,000 years: Women, cloth and society in early times. New York: W.W. Norton.',\n",
       " 'Achieve, 2013. Next Generation Science Standards. Washington, D.C.: Achieve, Inc.',\n",
       " 'Educational Psychologist, 46, 197-221 (2011). 1127',\n",
       " 'Partnership for 21st Century Skills. (2009). P21 Framework Definitions. Retrieved from http://www.p21.org/storage/documents/P21_Framework_Definitions.pdf',\n",
       " 'Polman, J. L., and †Miller, D. (2010). Changing stories: Trajectories of identification among African American youth in a science outreach apprenticeship. American Educational Research Journal, 47(4), 879-918.',\n",
       " 'Committee on Highly Successful Schools or Programs for K-12 STEM Education, National Research Council. (2011). Successful STEM education: A workshop summary.',\n",
       " 'National Research Council, Education, B. O. S., Education, D. O. B. A. S. S. A., & Standards, C. O. C. F. F. T. N. K.-1. S. E. (2012). A Framework for K-12 Science Education:. National Academies Press.',\n",
       " 'Committee on Highly Successful Schools or Programs for K-12 STEM Education, National Research Council. (2011). Successful STEM education: A workshop summary.',\n",
       " 'National Research Council, Education, B. O. S., Education, D. O. B. A. S. S. A., & Standards, C. O. C. F. F. T. N. K.-1. S. E. (2012). A Framework for K-12 Science Education:. National Academies Press.',\n",
       " 'PC1D, PVEducation (2017) [Online]. Available: http://www.pveducation.org/pvcdrom/characterisation/pc1d',\n",
       " 'K–12 Computer Science Framework. (2016). Retrieved from http://www.k12cs.org.',\n",
       " '[NGSS] Lead States. (2013). Next Generation Science Standards: For States, By States. Achieve, Inc.',\n",
       " 'Blikstein, P. Gears of our childhood: constructionist toolkits, robotics, and physical computing, past and future. Proceedings of the 12th International Conference on Interaction Design and Children, ACM (2013), 173–182.',\n",
       " 'pedagogy: Instruction limits spontaneous exploration and discovery. Cognition 120, 3 (2011), 322–330. Bransford, J. and Schwartz, D. Rethinking Transfer: A Simple Proposal with Multiple Implications. Review of Research in Education 24, (1999). Crouch, C.H., Fagen, A.P., Callan, J.P., and Mazur, E. Classroom demonstrations: Learning tools or',\n",
       " 'Research in Education 24, (1999). Crouch, C.H., Fagen, A.P., Callan, J.P., and Mazur, E. Classroom demonstrations: Learning tools or entertainment? American Journal of Physics 72, 6 (2004), 835–838.',\n",
       " 'Kapur, M. Productive failure. Cognition and Instruction, 26 (2008), 379-424.',\n",
       " '* References marked with an asterisk indicate studies included in the review (Not a full list of all of the reviewed studies).',\n",
       " 'Due to space constraints please find the full Reference List here: http://bit.ly/youthlearningsocialmedia',\n",
       " '1855',\n",
       " 'Alaimo, S. & Hekman, S., Eds., Material Feminisms, Bloomington, IN: Indiana University Press.',\n",
       " 'Krist, C., Schwarz, C. V., & Reiser, B. J. (manuscript under review). Identifying and supporting crosscutting epistemic heuristics that guide mechanistic reasoning in science learning.',\n",
       " 'K–12 computer science Framework. (2016). Retrieved from http://www.k12cs.org.',\n",
       " 'Shayan Doroudi and Emma Brunskill. The misidentified identifiability problem of Bayesian Knowledge Tracing. In Educational Data Mining, pages 143–149. International Educational Data Mining Society, 2017. Shayan Doroudi, Ece Kamar, Emma Brunskill, and Eric Horvitz. Toward a learning science for complex crowdsourcing tasks. In Proceedings of the 2016 CHI Conference on Human Factors in Computing Systems, pages 2623–2634. ACM, 2016. Shayan Doroudi, Vincent Aleven, and Emma Brunskill. Robust Evaluation Matrix: Towards a more principled offline exploration of instructional policies. In Proceedings of the Fourth (2017) ACM Conference on Learning@ Scale, pages 3–12. ACM, 2017. 1882',\n",
       " 'Kahneman, D., Beatty, J.: Pupil Diameter and Load on Memory. Science, 154(3756) (1966) 1583–1585.',\n",
       " 'Eisenberg, M. “Mindstuff.” Convergence: The International Journal of Research into New Media Technologies 9, no. 2 (2003): 29. Freeden, Michael. “Thinking Politically and Thinking About Politics : Language, Interpretation, and Ideology.” In Political Theory: Methods and Approaches. Oxford University Press, 2008.',\n",
       " 'Freeden, Michael. “What Should the ‘Political’ in Political Theory Explore?*.” Journal of Political Philosophy 13, no. 2 (2005): 113–134.',\n",
       " 'no. 1 (2000): 1–25.',\n",
       " 'Common Core State Standards for English Language Arts, K-5. (2010).',\n",
       " 'K–12 Computer Science Framework (K-12 CSF). (2016). Retrieved from http://www.k12cs.org',\n",
       " 'Educational Measurement: Issues and Practice 25, 4 (December 2006), 6–20.',\n",
       " 'Fournier-Viger, P., Lin, J.C.W., Gomariz, A., Gueniche, T., Soltani, A., Deng, Z., Lam, H.T.: The spmf opensource data mining library version 2. In: ECML PKDD. pp. 36–40. Springer (2016).',\n",
       " 'Science Talk. Journal of the Learning Sciences 10, no. 3 (2001): 323-63.',\n",
       " 'Accessible Rich Internet Applications (WAI-ARIA) 1.1. (2016, July 21). Retrieved October 26, 2016, from https://www.w3.org/TR/wai-aria-1.1/',\n",
       " 'Web Content Accessibility Guidelines (WCAG) 2.0. (2008, December 11). Retrieved November 06, 2016, from http://www.w3.org/TR/WCAG20/',\n",
       " 'http://doi.org/10.1002/1098-237X(200011)84:6<757::AID-SCE5>3.0.CO;2-F',\n",
       " 'Kahneman, D., Beatty, J.: Pupil Diameter and Load on Memory. Science, 154(3756) (1966) 1583–1585.',\n",
       " 'Aiello, L. M., Barrat, A., Cattuto, C., Ruffo, G., & Schifanella, R. Link Creation and Profile Alignment in the aNobii Social Network. In 2010 IEEE Second International Conference on Social Computing (SocialCom) (pp. 249–256). doi:10.1109/SocialCom.2010.42',\n",
       " 'Learning and Instruction, 20(2), 167-171. NRC. (2006). Learning to Think Spatially. Washington, D.C.: National Academies Press.',\n",
       " 'Partnership for 21st Century Skills. (2006). Are they really ready to work. Retrieved on November 21, 2006 from http://www.p21.org/documents/FINAL_REPORT_PDF09-29-06.pdf',\n",
       " 'Glymour, C., Scheines, Spirtes, P. Ramsey, J. TETRAD [Computer software] (2016). Center for Causal Discovery. Retrieved from http://www.phil.cmu.edu/tetrad/current.html',\n",
       " 'http://www.europarl.europa.eu/RegData/etudes/STUD/2015/542199/IPOL_STU(2015)542199_EN.pdf',\n",
       " 'Eyben, F., W, M., #246, llmer, Bj, #246, & Schuller, r. (2010). Opensmile: the munich versatile and fast opensource audio feature extractor. Paper presented at the Proceedings of the international conference on Multimedia, Firenze, Italy.']"
      ]
     },
     "execution_count": 112,
     "metadata": {},
     "output_type": "execute_result"
    }
   ],
   "source": [
    "references_df[references_df.ref_parsed.isna()].ref.tolist()"
   ]
  },
  {
   "cell_type": "code",
   "execution_count": 113,
   "metadata": {},
   "outputs": [
    {
     "data": {
      "text/html": [
       "<div>\n",
       "<style scoped>\n",
       "    .dataframe tbody tr th:only-of-type {\n",
       "        vertical-align: middle;\n",
       "    }\n",
       "\n",
       "    .dataframe tbody tr th {\n",
       "        vertical-align: top;\n",
       "    }\n",
       "\n",
       "    .dataframe thead th {\n",
       "        text-align: right;\n",
       "    }\n",
       "</style>\n",
       "<table border=\"1\" class=\"dataframe\">\n",
       "  <thead>\n",
       "    <tr style=\"text-align: right;\">\n",
       "      <th></th>\n",
       "      <th>ref</th>\n",
       "      <th>file</th>\n",
       "      <th>length</th>\n",
       "      <th>initial</th>\n",
       "      <th>ref_parsed</th>\n",
       "    </tr>\n",
       "  </thead>\n",
       "  <tbody>\n",
       "  </tbody>\n",
       "</table>\n",
       "</div>"
      ],
      "text/plain": [
       "Empty DataFrame\n",
       "Columns: [ref, file, length, initial, ref_parsed]\n",
       "Index: []"
      ]
     },
     "execution_count": 113,
     "metadata": {},
     "output_type": "execute_result"
    }
   ],
   "source": [
    "l = ['/import2016full/95',\n",
    " '/import2016full/92',\n",
    " '/import2016full/93',\n",
    " '/import2016full/94',\n",
    " '/import2016full/91',\n",
    " '/import2016full/96',\n",
    " '/import2016full/98',\n",
    " '/import2016full/97']\n",
    "references_df[references_df.file.map(lambda x: x in l)]"
   ]
  },
  {
   "cell_type": "code",
   "execution_count": 114,
   "metadata": {},
   "outputs": [
    {
     "data": {
      "text/html": [
       "<div>\n",
       "<style scoped>\n",
       "    .dataframe tbody tr th:only-of-type {\n",
       "        vertical-align: middle;\n",
       "    }\n",
       "\n",
       "    .dataframe tbody tr th {\n",
       "        vertical-align: top;\n",
       "    }\n",
       "\n",
       "    .dataframe thead th {\n",
       "        text-align: right;\n",
       "    }\n",
       "</style>\n",
       "<table border=\"1\" class=\"dataframe\">\n",
       "  <thead>\n",
       "    <tr style=\"text-align: right;\">\n",
       "      <th></th>\n",
       "      <th>ref</th>\n",
       "      <th>file</th>\n",
       "      <th>length</th>\n",
       "      <th>initial</th>\n",
       "      <th>ref_parsed</th>\n",
       "    </tr>\n",
       "  </thead>\n",
       "  <tbody>\n",
       "    <tr>\n",
       "      <th>0</th>\n",
       "      <td>Lave, J., &amp; Wenger, E. (1991). Situated learni...</td>\n",
       "      <td>import2018_371</td>\n",
       "      <td>108</td>\n",
       "      <td>L</td>\n",
       "      <td>Lave, J., &amp; Wenger, E. (1991)</td>\n",
       "    </tr>\n",
       "    <tr>\n",
       "      <th>1</th>\n",
       "      <td>Miles, M. B., Huberman, A. M., &amp; Saldana, J. (...</td>\n",
       "      <td>import2018_371</td>\n",
       "      <td>107</td>\n",
       "      <td>M</td>\n",
       "      <td>Miles, M. B., Huberman, A. M., &amp; Saldana, J. (...</td>\n",
       "    </tr>\n",
       "    <tr>\n",
       "      <th>2</th>\n",
       "      <td>Pea, R. D., Gomez, L. M., Edelson, D. C., Fish...</td>\n",
       "      <td>import2018_371</td>\n",
       "      <td>294</td>\n",
       "      <td>P</td>\n",
       "      <td>Pea, R. D., Gomez, L. M., Edelson, D. C., Fish...</td>\n",
       "    </tr>\n",
       "    <tr>\n",
       "      <th>3</th>\n",
       "      <td>Rogoff, B. (1995). Observing sociocultural act...</td>\n",
       "      <td>import2018_371</td>\n",
       "      <td>269</td>\n",
       "      <td>R</td>\n",
       "      <td>Rogoff, B. (1995)</td>\n",
       "    </tr>\n",
       "    <tr>\n",
       "      <th>4</th>\n",
       "      <td>Shirk, J., Ballard, H., Wilderman, C., Phillip...</td>\n",
       "      <td>import2018_371</td>\n",
       "      <td>215</td>\n",
       "      <td>S</td>\n",
       "      <td>Shirk, J., Ballard, H., Wilderman, C., Phillip...</td>\n",
       "    </tr>\n",
       "  </tbody>\n",
       "</table>\n",
       "</div>"
      ],
      "text/plain": [
       "                                                 ref            file  length  \\\n",
       "0  Lave, J., & Wenger, E. (1991). Situated learni...  import2018_371     108   \n",
       "1  Miles, M. B., Huberman, A. M., & Saldana, J. (...  import2018_371     107   \n",
       "2  Pea, R. D., Gomez, L. M., Edelson, D. C., Fish...  import2018_371     294   \n",
       "3  Rogoff, B. (1995). Observing sociocultural act...  import2018_371     269   \n",
       "4  Shirk, J., Ballard, H., Wilderman, C., Phillip...  import2018_371     215   \n",
       "\n",
       "  initial                                         ref_parsed  \n",
       "0       L                      Lave, J., & Wenger, E. (1991)  \n",
       "1       M  Miles, M. B., Huberman, A. M., & Saldana, J. (...  \n",
       "2       P  Pea, R. D., Gomez, L. M., Edelson, D. C., Fish...  \n",
       "3       R                                  Rogoff, B. (1995)  \n",
       "4       S  Shirk, J., Ballard, H., Wilderman, C., Phillip...  "
      ]
     },
     "execution_count": 114,
     "metadata": {},
     "output_type": "execute_result"
    }
   ],
   "source": [
    "references_df.head()"
   ]
  },
  {
   "cell_type": "code",
   "execution_count": 115,
   "metadata": {},
   "outputs": [
    {
     "data": {
      "text/plain": [
       "file\n",
       "import2015full_105    33\n",
       "import2015full_122    33\n",
       "import2015full_126    45\n",
       "import2015full_136     8\n",
       "import2015full_146    23\n",
       "Name: counts, dtype: int64"
      ]
     },
     "execution_count": 115,
     "metadata": {},
     "output_type": "execute_result"
    }
   ],
   "source": [
    "ref_counts = references_df.groupby('file').ref_parsed.count()\n",
    "ref_counts.name = 'counts'\n",
    "ref_counts.head()"
   ]
  },
  {
   "cell_type": "code",
   "execution_count": 116,
   "metadata": {},
   "outputs": [
    {
     "data": {
      "text/plain": [
       "count    865.000000\n",
       "mean      16.908671\n",
       "std       11.073606\n",
       "min        0.000000\n",
       "25%        8.000000\n",
       "50%       15.000000\n",
       "75%       23.000000\n",
       "max       77.000000\n",
       "Name: counts, dtype: float64"
      ]
     },
     "execution_count": 116,
     "metadata": {},
     "output_type": "execute_result"
    }
   ],
   "source": [
    "ref_counts.describe()"
   ]
  },
  {
   "cell_type": "code",
   "execution_count": 117,
   "metadata": {},
   "outputs": [
    {
     "data": {
      "text/html": [
       "<div>\n",
       "<style scoped>\n",
       "    .dataframe tbody tr th:only-of-type {\n",
       "        vertical-align: middle;\n",
       "    }\n",
       "\n",
       "    .dataframe tbody tr th {\n",
       "        vertical-align: top;\n",
       "    }\n",
       "\n",
       "    .dataframe thead th {\n",
       "        text-align: right;\n",
       "    }\n",
       "</style>\n",
       "<table border=\"1\" class=\"dataframe\">\n",
       "  <thead>\n",
       "    <tr style=\"text-align: right;\">\n",
       "      <th></th>\n",
       "      <th>ref</th>\n",
       "      <th>file</th>\n",
       "      <th>length</th>\n",
       "      <th>initial</th>\n",
       "      <th>ref_parsed</th>\n",
       "      <th>counts</th>\n",
       "    </tr>\n",
       "  </thead>\n",
       "  <tbody>\n",
       "    <tr>\n",
       "      <th>0</th>\n",
       "      <td>Lave, J., &amp; Wenger, E. (1991). Situated learni...</td>\n",
       "      <td>import2018_371</td>\n",
       "      <td>108</td>\n",
       "      <td>L</td>\n",
       "      <td>Lave, J., &amp; Wenger, E. (1991)</td>\n",
       "      <td>5</td>\n",
       "    </tr>\n",
       "    <tr>\n",
       "      <th>1</th>\n",
       "      <td>Miles, M. B., Huberman, A. M., &amp; Saldana, J. (...</td>\n",
       "      <td>import2018_371</td>\n",
       "      <td>107</td>\n",
       "      <td>M</td>\n",
       "      <td>Miles, M. B., Huberman, A. M., &amp; Saldana, J. (...</td>\n",
       "      <td>5</td>\n",
       "    </tr>\n",
       "    <tr>\n",
       "      <th>2</th>\n",
       "      <td>Pea, R. D., Gomez, L. M., Edelson, D. C., Fish...</td>\n",
       "      <td>import2018_371</td>\n",
       "      <td>294</td>\n",
       "      <td>P</td>\n",
       "      <td>Pea, R. D., Gomez, L. M., Edelson, D. C., Fish...</td>\n",
       "      <td>5</td>\n",
       "    </tr>\n",
       "    <tr>\n",
       "      <th>3</th>\n",
       "      <td>Rogoff, B. (1995). Observing sociocultural act...</td>\n",
       "      <td>import2018_371</td>\n",
       "      <td>269</td>\n",
       "      <td>R</td>\n",
       "      <td>Rogoff, B. (1995)</td>\n",
       "      <td>5</td>\n",
       "    </tr>\n",
       "    <tr>\n",
       "      <th>4</th>\n",
       "      <td>Shirk, J., Ballard, H., Wilderman, C., Phillip...</td>\n",
       "      <td>import2018_371</td>\n",
       "      <td>215</td>\n",
       "      <td>S</td>\n",
       "      <td>Shirk, J., Ballard, H., Wilderman, C., Phillip...</td>\n",
       "      <td>5</td>\n",
       "    </tr>\n",
       "  </tbody>\n",
       "</table>\n",
       "</div>"
      ],
      "text/plain": [
       "                                                 ref            file  length  \\\n",
       "0  Lave, J., & Wenger, E. (1991). Situated learni...  import2018_371     108   \n",
       "1  Miles, M. B., Huberman, A. M., & Saldana, J. (...  import2018_371     107   \n",
       "2  Pea, R. D., Gomez, L. M., Edelson, D. C., Fish...  import2018_371     294   \n",
       "3  Rogoff, B. (1995). Observing sociocultural act...  import2018_371     269   \n",
       "4  Shirk, J., Ballard, H., Wilderman, C., Phillip...  import2018_371     215   \n",
       "\n",
       "  initial                                         ref_parsed  counts  \n",
       "0       L                      Lave, J., & Wenger, E. (1991)       5  \n",
       "1       M  Miles, M. B., Huberman, A. M., & Saldana, J. (...       5  \n",
       "2       P  Pea, R. D., Gomez, L. M., Edelson, D. C., Fish...       5  \n",
       "3       R                                  Rogoff, B. (1995)       5  \n",
       "4       S  Shirk, J., Ballard, H., Wilderman, C., Phillip...       5  "
      ]
     },
     "execution_count": 117,
     "metadata": {},
     "output_type": "execute_result"
    }
   ],
   "source": [
    "df = references_df.join(ref_counts, on='file')\n",
    "df.head()"
   ]
  },
  {
   "cell_type": "markdown",
   "metadata": {},
   "source": [
    "We see that only papers that are invalid have no citation"
   ]
  },
  {
   "cell_type": "code",
   "execution_count": 121,
   "metadata": {},
   "outputs": [
    {
     "data": {
      "text/plain": [
       "['Shayan Doroudi and Emma Brunskill. The misidentified identifiability problem of Bayesian Knowledge Tracing. In Educational Data Mining, pages 143–149. International Educational Data Mining Society, 2017. Shayan Doroudi, Ece Kamar, Emma Brunskill, and Eric Horvitz. Toward a learning science for complex crowdsourcing tasks. In Proceedings of the 2016 CHI Conference on Human Factors in Computing Systems, pages 2623–2634. ACM, 2016. Shayan Doroudi, Vincent Aleven, and Emma Brunskill. Robust Evaluation Matrix: Towards a more principled offline exploration of instructional policies. In Proceedings of the Fourth (2017) ACM Conference on Learning@ Scale, pages 3–12. ACM, 2017. 1882']"
      ]
     },
     "execution_count": 121,
     "metadata": {},
     "output_type": "execute_result"
    }
   ],
   "source": [
    "df[df.counts == 0].ref.tolist()"
   ]
  },
  {
   "cell_type": "code",
   "execution_count": 38,
   "metadata": {
    "scrolled": true
   },
   "outputs": [
    {
     "data": {
      "text/html": [
       "<div>\n",
       "<style scoped>\n",
       "    .dataframe tbody tr th:only-of-type {\n",
       "        vertical-align: middle;\n",
       "    }\n",
       "\n",
       "    .dataframe tbody tr th {\n",
       "        vertical-align: top;\n",
       "    }\n",
       "\n",
       "    .dataframe thead th {\n",
       "        text-align: right;\n",
       "    }\n",
       "</style>\n",
       "<table border=\"1\" class=\"dataframe\">\n",
       "  <thead>\n",
       "    <tr style=\"text-align: right;\">\n",
       "      <th></th>\n",
       "      <th>ref</th>\n",
       "      <th>file</th>\n",
       "      <th>length</th>\n",
       "      <th>initial</th>\n",
       "      <th>ref_parsed</th>\n",
       "      <th>counts</th>\n",
       "    </tr>\n",
       "  </thead>\n",
       "  <tbody>\n",
       "    <tr>\n",
       "      <th>3306</th>\n",
       "      <td>Bransford, J. D., Brown, A. L., Cocking, R. R....</td>\n",
       "      <td>import2016short/168</td>\n",
       "      <td>191</td>\n",
       "      <td>B</td>\n",
       "      <td>Bransford, J. D., Brown, A. L., Cocking, R. R....</td>\n",
       "      <td>3</td>\n",
       "    </tr>\n",
       "    <tr>\n",
       "      <th>3307</th>\n",
       "      <td>National Research Council. (2012). A framework...</td>\n",
       "      <td>import2016short/168</td>\n",
       "      <td>300</td>\n",
       "      <td>N</td>\n",
       "      <td>National Research Council. (2012)</td>\n",
       "      <td>3</td>\n",
       "    </tr>\n",
       "    <tr>\n",
       "      <th>3308</th>\n",
       "      <td>DC: The National Academies Press. U.S. Departm...</td>\n",
       "      <td>import2016short/168</td>\n",
       "      <td>193</td>\n",
       "      <td>D</td>\n",
       "      <td>DC: The National Academies Press. U.S. Departm...</td>\n",
       "      <td>3</td>\n",
       "    </tr>\n",
       "  </tbody>\n",
       "</table>\n",
       "</div>"
      ],
      "text/plain": [
       "                                                    ref                 file  \\\n",
       "3306  Bransford, J. D., Brown, A. L., Cocking, R. R....  import2016short/168   \n",
       "3307  National Research Council. (2012). A framework...  import2016short/168   \n",
       "3308  DC: The National Academies Press. U.S. Departm...  import2016short/168   \n",
       "\n",
       "      length initial                                         ref_parsed  \\\n",
       "3306     191       B  Bransford, J. D., Brown, A. L., Cocking, R. R....   \n",
       "3307     300       N                  National Research Council. (2012)   \n",
       "3308     193       D  DC: The National Academies Press. U.S. Departm...   \n",
       "\n",
       "      counts  \n",
       "3306       3  \n",
       "3307       3  \n",
       "3308       3  "
      ]
     },
     "execution_count": 38,
     "metadata": {},
     "output_type": "execute_result"
    }
   ],
   "source": [
    "df[df.counts == 3]"
   ]
  },
  {
   "cell_type": "code",
   "execution_count": 122,
   "metadata": {},
   "outputs": [
    {
     "data": {
      "text/html": [
       "<div>\n",
       "<style scoped>\n",
       "    .dataframe tbody tr th:only-of-type {\n",
       "        vertical-align: middle;\n",
       "    }\n",
       "\n",
       "    .dataframe tbody tr th {\n",
       "        vertical-align: top;\n",
       "    }\n",
       "\n",
       "    .dataframe thead th {\n",
       "        text-align: right;\n",
       "    }\n",
       "</style>\n",
       "<table border=\"1\" class=\"dataframe\">\n",
       "  <thead>\n",
       "    <tr style=\"text-align: right;\">\n",
       "      <th></th>\n",
       "      <th>ref</th>\n",
       "      <th>file</th>\n",
       "      <th>length</th>\n",
       "      <th>initial</th>\n",
       "      <th>ref_parsed</th>\n",
       "    </tr>\n",
       "  </thead>\n",
       "  <tbody>\n",
       "  </tbody>\n",
       "</table>\n",
       "</div>"
      ],
      "text/plain": [
       "Empty DataFrame\n",
       "Columns: [ref, file, length, initial, ref_parsed]\n",
       "Index: []"
      ]
     },
     "execution_count": 122,
     "metadata": {},
     "output_type": "execute_result"
    }
   ],
   "source": [
    "references_df[references_df.file == '/import2016short/136']"
   ]
  },
  {
   "cell_type": "code",
   "execution_count": 123,
   "metadata": {},
   "outputs": [
    {
     "data": {
      "text/plain": [
       "<matplotlib.axes._subplots.AxesSubplot at 0x123c65908>"
      ]
     },
     "execution_count": 123,
     "metadata": {},
     "output_type": "execute_result"
    },
    {
     "data": {
      "image/png": "[encoded data removed]",
      "text/plain": [
       "<Figure size 432x288 with 1 Axes>"
      ]
     },
     "metadata": {
      "needs_background": "light"
     },
     "output_type": "display_data"
    }
   ],
   "source": [
    "references_df.ref_parsed.value_counts().head(20).plot(kind='bar')"
   ]
  },
  {
   "cell_type": "markdown",
   "metadata": {},
   "source": [
    "# extracting information for individual references:\n",
    "## Extracting the year of publication:"
   ]
  },
  {
   "cell_type": "code",
   "execution_count": 124,
   "metadata": {},
   "outputs": [],
   "source": [
    "def extract_year(x):\n",
    "    match_press = r'\\(in press\\)'\n",
    "    years = r'\\([\\w\\d\\,\\ \\.]*(18|19|20)\\d{2}[\\,\\ \\w\\d]*\\)'\n",
    "    year = re.search(years, x)\n",
    "    if re.search(match_press, x):\n",
    "        return 2018\n",
    "    if year:\n",
    "        year = year.group(0)\n",
    "        year = re.findall('\\d{4}', year)\n",
    "        return int(year[0])\n",
    "    else:\n",
    "        return np.nan"
   ]
  },
  {
   "cell_type": "code",
   "execution_count": 125,
   "metadata": {},
   "outputs": [],
   "source": [
    "references_df.loc[~references_df.ref_parsed.isna(),'year'] = references_df[~references_df.ref_parsed.isna()].ref_parsed.map(extract_year)"
   ]
  },
  {
   "cell_type": "code",
   "execution_count": 126,
   "metadata": {},
   "outputs": [
    {
     "data": {
      "text/plain": [
       "(166, 6)"
      ]
     },
     "execution_count": 126,
     "metadata": {},
     "output_type": "execute_result"
    }
   ],
   "source": [
    "references_df[references_df.year.isna()].shape"
   ]
  },
  {
   "cell_type": "code",
   "execution_count": 127,
   "metadata": {},
   "outputs": [
    {
     "data": {
      "text/plain": [
       "count    14514.00000\n",
       "mean      2006.07324\n",
       "std         10.11591\n",
       "min       1887.00000\n",
       "25%       2002.00000\n",
       "50%       2009.00000\n",
       "75%       2013.00000\n",
       "max       2018.00000\n",
       "Name: year, dtype: float64"
      ]
     },
     "execution_count": 127,
     "metadata": {},
     "output_type": "execute_result"
    }
   ],
   "source": [
    "references_df.year.describe()"
   ]
  },
  {
   "cell_type": "code",
   "execution_count": 128,
   "metadata": {},
   "outputs": [
    {
     "data": {
      "image/png": "[encoded data removed]",
      "text/plain": [
       "<Figure size 432x288 with 1 Axes>"
      ]
     },
     "metadata": {
      "needs_background": "light"
     },
     "output_type": "display_data"
    },
    {
     "data": {
      "text/plain": [
       "<matplotlib.axes._subplots.AxesSubplot at 0x123bfde10>"
      ]
     },
     "execution_count": 128,
     "metadata": {},
     "output_type": "execute_result"
    },
    {
     "data": {
      "image/png": "[encoded data removed]",
      "text/plain": [
       "<Figure size 432x288 with 1 Axes>"
      ]
     },
     "metadata": {
      "needs_background": "light"
     },
     "output_type": "display_data"
    }
   ],
   "source": [
    "references_df.year.plot(kind='box')\n",
    "plt.show()\n",
    "references_df.year.plot(kind='hist')"
   ]
  },
  {
   "cell_type": "code",
   "execution_count": 46,
   "metadata": {},
   "outputs": [],
   "source": [
    "references_df.to_csv('data/References.csv')"
   ]
  },
  {
   "cell_type": "markdown",
   "metadata": {},
   "source": [
    "## Look at individual authors:"
   ]
  },
  {
   "cell_type": "markdown",
   "metadata": {},
   "source": [
    "For now we look only the the authors that come up in any citation in the paper. So we do not care about order or the specific reference they are associated with:"
   ]
  },
  {
   "cell_type": "markdown",
   "metadata": {},
   "source": [
    "We again use a regex to extract neighbours"
   ]
  },
  {
   "cell_type": "code",
   "execution_count": 129,
   "metadata": {},
   "outputs": [],
   "source": [
    "authors = 'Yoon, S., Anderson, E., Koehler-Yom, Evans, C., Park, M., J., Sheldon, J., Schoenfeld, I., Wendel, D., Scheintaub, H., Klopfer, E.'"
   ]
  },
  {
   "cell_type": "code",
   "execution_count": 130,
   "metadata": {},
   "outputs": [
    {
     "data": {
      "text/plain": [
       "['Yoon, S.,',\n",
       " 'Anderson, E.,',\n",
       " 'Evans, C.,',\n",
       " 'Park, M.,',\n",
       " 'Sheldon, J.,',\n",
       " 'Schoenfeld, I.,',\n",
       " 'Wendel, D.,',\n",
       " 'Scheintaub, H.,',\n",
       " 'Klopfer, E.']"
      ]
     },
     "execution_count": 130,
     "metadata": {},
     "output_type": "execute_result"
    }
   ],
   "source": [
    "re.findall(r'([A-Z][^\\W\\d_\\-]*\\,?\\&? [A-Z]\\.\\,?)', authors)"
   ]
  },
  {
   "cell_type": "markdown",
   "metadata": {},
   "source": [
    "A change of local seems to allow for better parsing!"
   ]
  },
  {
   "cell_type": "code",
   "execution_count": 131,
   "metadata": {},
   "outputs": [
    {
     "data": {
      "text/plain": [
       "'de_DE'"
      ]
     },
     "execution_count": 131,
     "metadata": {},
     "output_type": "execute_result"
    }
   ],
   "source": [
    "import locale\n",
    "locale.setlocale(locale.LC_ALL, 'de_DE')"
   ]
  },
  {
   "cell_type": "code",
   "execution_count": 132,
   "metadata": {},
   "outputs": [],
   "source": [
    "regex = r'([\\w\\-]*[\\,] [A-Z\\.\\ ]+[\\&\\,]?)'"
   ]
  },
  {
   "cell_type": "code",
   "execution_count": 133,
   "metadata": {},
   "outputs": [
    {
     "data": {
      "text/plain": [
       "['Abrahamson, D.,', 'Snüàchez-Gärca, R. S. ,']"
      ]
     },
     "execution_count": 133,
     "metadata": {},
     "output_type": "execute_result"
    }
   ],
   "source": [
    "authors = 'Abrahamson, D., Snüàchez-Gärca, R. S. ,'\n",
    "re.findall(regex, authors, re.U)"
   ]
  },
  {
   "cell_type": "code",
   "execution_count": 134,
   "metadata": {},
   "outputs": [],
   "source": [
    "#extract authors and clean strings a bit\n",
    "regex = r'([\\w\\-]*[\\,] [A-Z\\.\\ ]+[\\&\\,]?)'\n",
    "authors = references_df[~references_df.ref_parsed.isna()].ref_parsed.map(lambda x: re.findall(regex, x) ).tolist()\n",
    "authors = [ [a.replace(',', '').replace('&', '').rstrip() for a in l] for l in authors ]"
   ]
  },
  {
   "cell_type": "code",
   "execution_count": 135,
   "metadata": {},
   "outputs": [],
   "source": [
    "proto_frame = list(zip(authors, references_df[~references_df.ref_parsed.isna()].file.tolist()))"
   ]
  },
  {
   "cell_type": "code",
   "execution_count": 136,
   "metadata": {},
   "outputs": [],
   "source": [
    "#extract authors!\n",
    "authors_frame = pd.DataFrame([(i, index) for (l, index ) in proto_frame for i in l], columns=['author', 'file'])"
   ]
  },
  {
   "cell_type": "code",
   "execution_count": 137,
   "metadata": {},
   "outputs": [
    {
     "data": {
      "text/plain": [
       "<matplotlib.axes._subplots.AxesSubplot at 0x1215c4780>"
      ]
     },
     "execution_count": 137,
     "metadata": {},
     "output_type": "execute_result"
    },
    {
     "data": {
      "image/png": "[encoded data removed]",
      "text/plain": [
       "<Figure size 432x288 with 1 Axes>"
      ]
     },
     "metadata": {
      "needs_background": "light"
     },
     "output_type": "display_data"
    }
   ],
   "source": [
    "authors_frame.author.value_counts().head(20).plot(kind='bar')"
   ]
  },
  {
   "cell_type": "code",
   "execution_count": 139,
   "metadata": {},
   "outputs": [
    {
     "data": {
      "text/plain": [
       "Scardamalia M.    229\n",
       "Dillenbourg P.    184\n",
       "Bereiter C.       152\n",
       "Fischer F.        148\n",
       "Stahl G.          119\n",
       "Rummel N.          99\n",
       "Wilensky U.        99\n",
       "Wenger E.          98\n",
       "Zhang J.           98\n",
       "Weinberger A.      95\n",
       "Name: author, dtype: int64"
      ]
     },
     "execution_count": 139,
     "metadata": {},
     "output_type": "execute_result"
    }
   ],
   "source": [
    "authors_frame.author.value_counts().head(10)"
   ]
  },
  {
   "cell_type": "code",
   "execution_count": 140,
   "metadata": {},
   "outputs": [
    {
     "ename": "FileNotFoundError",
     "evalue": "[Errno 2] No such file or directory: 'data/Reference_authors.csv'",
     "output_type": "error",
     "traceback": [
      "\u001b[0;31m---------------------------------------------------------------------------\u001b[0m",
      "\u001b[0;31mFileNotFoundError\u001b[0m                         Traceback (most recent call last)",
      "\u001b[0;32m<ipython-input-140-c7f138f78b8c>\u001b[0m in \u001b[0;36m<module>\u001b[0;34m()\u001b[0m\n\u001b[0;32m----> 1\u001b[0;31m \u001b[0mauthors_frame\u001b[0m\u001b[0;34m.\u001b[0m\u001b[0mto_csv\u001b[0m\u001b[0;34m(\u001b[0m\u001b[0;34m'data/Reference_authors.csv'\u001b[0m\u001b[0;34m)\u001b[0m\u001b[0;34m\u001b[0m\u001b[0m\n\u001b[0m",
      "\u001b[0;32m/anaconda3/lib/python3.7/site-packages/pandas/core/frame.py\u001b[0m in \u001b[0;36mto_csv\u001b[0;34m(self, path_or_buf, sep, na_rep, float_format, columns, header, index, index_label, mode, encoding, compression, quoting, quotechar, line_terminator, chunksize, tupleize_cols, date_format, doublequote, escapechar, decimal)\u001b[0m\n\u001b[1;32m   1743\u001b[0m                                  \u001b[0mdoublequote\u001b[0m\u001b[0;34m=\u001b[0m\u001b[0mdoublequote\u001b[0m\u001b[0;34m,\u001b[0m\u001b[0;34m\u001b[0m\u001b[0m\n\u001b[1;32m   1744\u001b[0m                                  escapechar=escapechar, decimal=decimal)\n\u001b[0;32m-> 1745\u001b[0;31m         \u001b[0mformatter\u001b[0m\u001b[0;34m.\u001b[0m\u001b[0msave\u001b[0m\u001b[0;34m(\u001b[0m\u001b[0;34m)\u001b[0m\u001b[0;34m\u001b[0m\u001b[0m\n\u001b[0m\u001b[1;32m   1746\u001b[0m \u001b[0;34m\u001b[0m\u001b[0m\n\u001b[1;32m   1747\u001b[0m         \u001b[0;32mif\u001b[0m \u001b[0mpath_or_buf\u001b[0m \u001b[0;32mis\u001b[0m \u001b[0;32mNone\u001b[0m\u001b[0;34m:\u001b[0m\u001b[0;34m\u001b[0m\u001b[0m\n",
      "\u001b[0;32m/anaconda3/lib/python3.7/site-packages/pandas/io/formats/csvs.py\u001b[0m in \u001b[0;36msave\u001b[0;34m(self)\u001b[0m\n\u001b[1;32m    154\u001b[0m             f, handles = _get_handle(self.path_or_buf, self.mode,\n\u001b[1;32m    155\u001b[0m                                      \u001b[0mencoding\u001b[0m\u001b[0;34m=\u001b[0m\u001b[0mencoding\u001b[0m\u001b[0;34m,\u001b[0m\u001b[0;34m\u001b[0m\u001b[0m\n\u001b[0;32m--> 156\u001b[0;31m                                      compression=self.compression)\n\u001b[0m\u001b[1;32m    157\u001b[0m             \u001b[0mclose\u001b[0m \u001b[0;34m=\u001b[0m \u001b[0;32mTrue\u001b[0m\u001b[0;34m\u001b[0m\u001b[0m\n\u001b[1;32m    158\u001b[0m \u001b[0;34m\u001b[0m\u001b[0m\n",
      "\u001b[0;32m/anaconda3/lib/python3.7/site-packages/pandas/io/common.py\u001b[0m in \u001b[0;36m_get_handle\u001b[0;34m(path_or_buf, mode, encoding, compression, memory_map, is_text)\u001b[0m\n\u001b[1;32m    398\u001b[0m         \u001b[0;32melif\u001b[0m \u001b[0mencoding\u001b[0m\u001b[0;34m:\u001b[0m\u001b[0;34m\u001b[0m\u001b[0m\n\u001b[1;32m    399\u001b[0m             \u001b[0;31m# Python 3 and encoding\u001b[0m\u001b[0;34m\u001b[0m\u001b[0;34m\u001b[0m\u001b[0m\n\u001b[0;32m--> 400\u001b[0;31m             \u001b[0mf\u001b[0m \u001b[0;34m=\u001b[0m \u001b[0mopen\u001b[0m\u001b[0;34m(\u001b[0m\u001b[0mpath_or_buf\u001b[0m\u001b[0;34m,\u001b[0m \u001b[0mmode\u001b[0m\u001b[0;34m,\u001b[0m \u001b[0mencoding\u001b[0m\u001b[0;34m=\u001b[0m\u001b[0mencoding\u001b[0m\u001b[0;34m)\u001b[0m\u001b[0;34m\u001b[0m\u001b[0m\n\u001b[0m\u001b[1;32m    401\u001b[0m         \u001b[0;32melif\u001b[0m \u001b[0mis_text\u001b[0m\u001b[0;34m:\u001b[0m\u001b[0;34m\u001b[0m\u001b[0m\n\u001b[1;32m    402\u001b[0m             \u001b[0;31m# Python 3 and no explicit encoding\u001b[0m\u001b[0;34m\u001b[0m\u001b[0;34m\u001b[0m\u001b[0m\n",
      "\u001b[0;31mFileNotFoundError\u001b[0m: [Errno 2] No such file or directory: 'data/Reference_authors.csv'"
     ]
    }
   ],
   "source": [
    "authors_frame.to_csv('data/Reference_authors.csv')"
   ]
  },
  {
   "cell_type": "markdown",
   "metadata": {},
   "source": [
    "## Trying to extract the conference"
   ]
  },
  {
   "cell_type": "code",
   "execution_count": 141,
   "metadata": {},
   "outputs": [
    {
     "data": {
      "text/plain": [
       "(82, 6)"
      ]
     },
     "execution_count": 141,
     "metadata": {},
     "output_type": "execute_result"
    }
   ],
   "source": [
    "references_df[references_df.ref.map(lambda x: 'CHI' in x)].shape"
   ]
  },
  {
   "cell_type": "code",
   "execution_count": 59,
   "metadata": {},
   "outputs": [
    {
     "data": {
      "text/plain": [
       "['Pandya, C., Batalova, J., & McHugh, M. (2011)',\n",
       " 'Limited English proficient individuals in the United States: Number, share, growth, and linguistic diversity',\n",
       " 'Washington, D.C.: Migration Policy Institute.']"
      ]
     },
     "execution_count": 59,
     "metadata": {},
     "output_type": "execute_result"
    }
   ],
   "source": [
    "text = references_df.sample().ref.item()\n",
    "re.split(r'\\. (?=[A-Z][A-Za-z])', text)"
   ]
  },
  {
   "cell_type": "code",
   "execution_count": 60,
   "metadata": {},
   "outputs": [
    {
     "data": {
      "text/plain": [
       "['Fallman, D. (2003). Design-oriented Human–Computer Interaction. Proceedings of the Conference on Human Factors in Computing Systems, CHI 2003, ACM Press, pp. 225–232.',\n",
       " 'Olson, J. S., Olson, G. M., & Meader, D. K. (1995). What mix of video and audio is useful for remote real-time work? In Proceedings of CHI ’95 (pp. 362–368). New York: ACM Press.',\n",
       " 'Hornecker, E., & Buur, J. (2006). Getting a Grip on Tangible Interaction: A Framework on Physical Space and Social Interaction. In Proceedings of the SIGCHI Conference on Human Factors in Computing Systems (pp. 437–446). New York, NY, USA: ACM.',\n",
       " 'Schneider, B. (2014). The Perceptual Benefits of a Tangible Interface Decrease with Users’ Expertise. In CHI ’14 Ext. Abstracts on Human Factors in Computing Systems (963–968). New York, NY, USA: ACM.']"
      ]
     },
     "execution_count": 60,
     "metadata": {},
     "output_type": "execute_result"
    }
   ],
   "source": [
    "references_df[references_df.ref.map(lambda x: 'CHI' in x)].sample(4).ref.tolist()"
   ]
  },
  {
   "cell_type": "code",
   "execution_count": 61,
   "metadata": {},
   "outputs": [
    {
     "data": {
      "text/plain": [
       "(56, 6)"
      ]
     },
     "execution_count": 61,
     "metadata": {},
     "output_type": "execute_result"
    }
   ],
   "source": [
    "references_df[references_df.ref.map(lambda x: 'ICLS' in x)].shape"
   ]
  },
  {
   "cell_type": "code",
   "execution_count": 62,
   "metadata": {},
   "outputs": [],
   "source": [
    "text= '/hdfk/2017/r8475'\n",
    "re.search('\\d{3}(0|2|4|6|8)', text)"
   ]
  },
  {
   "cell_type": "code",
   "execution_count": 63,
   "metadata": {},
   "outputs": [],
   "source": [
    "references_df['conference'] = references_df.file.map(lambda x: 'ICLS' if re.search('\\d{3}(0|2|4|6|8)', x) else 'CSCL')"
   ]
  },
  {
   "cell_type": "code",
   "execution_count": 64,
   "metadata": {},
   "outputs": [
    {
     "data": {
      "text/plain": [
       "CSCL    301\n",
       "ICLS     72\n",
       "Name: conference, dtype: int64"
      ]
     },
     "execution_count": 64,
     "metadata": {},
     "output_type": "execute_result"
    }
   ],
   "source": [
    "references_df[references_df.ref.map(lambda x: 'CSCL' in x)].conference.value_counts()"
   ]
  },
  {
   "cell_type": "code",
   "execution_count": 65,
   "metadata": {},
   "outputs": [
    {
     "data": {
      "text/plain": [
       "CSCL    43\n",
       "ICLS    13\n",
       "Name: conference, dtype: int64"
      ]
     },
     "execution_count": 65,
     "metadata": {},
     "output_type": "execute_result"
    }
   ],
   "source": [
    "references_df[references_df.ref.map(lambda x: 'ICLS' in x)].conference.value_counts()"
   ]
  },
  {
   "cell_type": "code",
   "execution_count": 66,
   "metadata": {},
   "outputs": [
    {
     "data": {
      "text/plain": [
       "conference\n",
       "CSCL    AxesSubplot(0.125,0.125;0.775x0.755)\n",
       "ICLS    AxesSubplot(0.125,0.125;0.775x0.755)\n",
       "Name: counts, dtype: object"
      ]
     },
     "execution_count": 66,
     "metadata": {},
     "output_type": "execute_result"
    },
    {
     "data": {
      "image/png": "[encoded data removed]",
      "text/plain": [
       "<Figure size 432x288 with 1 Axes>"
      ]
     },
     "metadata": {
      "needs_background": "light"
     },
     "output_type": "display_data"
    }
   ],
   "source": [
    "references_df.join(ref_counts, on='file').groupby('conference').counts.plot(kind='hist')"
   ]
  },
  {
   "cell_type": "code",
   "execution_count": 67,
   "metadata": {},
   "outputs": [
    {
     "data": {
      "text/plain": [
       "CSCL    5432\n",
       "ICLS    3212\n",
       "Name: conference, dtype: int64"
      ]
     },
     "execution_count": 67,
     "metadata": {},
     "output_type": "execute_result"
    }
   ],
   "source": [
    "references_df.conference.value_counts()"
   ]
  },
  {
   "cell_type": "code",
   "execution_count": 68,
   "metadata": {},
   "outputs": [
    {
     "data": {
      "text/plain": [
       "file                conference\n",
       "import2015full/105  CSCL          33\n",
       "import2015full/122  CSCL          33\n",
       "import2015full/126  CSCL          45\n",
       "import2015full/136  CSCL           8\n",
       "import2015full/146  CSCL          23\n",
       "import2015full/150  CSCL          20\n",
       "import2015full/154  CSCL          21\n",
       "import2015full/158  CSCL          39\n",
       "import2015full/162  CSCL          47\n",
       "import2015full/165  CSCL          34\n",
       "import2015full/167  CSCL          34\n",
       "import2015full/169  CSCL          35\n",
       "import2015full/171  CSCL          21\n",
       "import2015full/172  CSCL          17\n",
       "import2015full/176  CSCL          22\n",
       "import2015full/178  CSCL           9\n",
       "import2015full/182  CSCL          14\n",
       "import2015full/185  CSCL          19\n",
       "import2015full/189  CSCL          28\n",
       "import2015full/191  CSCL          29\n",
       "import2015full/192  CSCL          24\n",
       "import2015full/197  CSCL          21\n",
       "import2015full/204  CSCL          16\n",
       "import2015full/206  CSCL          24\n",
       "import2015full/209  CSCL          78\n",
       "import2015full/217  CSCL          10\n",
       "import2015full/221  CSCL          16\n",
       "import2015full/222  CSCL          17\n",
       "import2015full/232  CSCL          16\n",
       "import2015full/250  CSCL          18\n",
       "                                  ..\n",
       "import2017/72       CSCL          12\n",
       "import2017/73       CSCL           7\n",
       "import2017/74       CSCL          14\n",
       "import2017/75       CSCL          23\n",
       "import2017/76       CSCL          24\n",
       "import2017/77       CSCL           8\n",
       "import2017/78       CSCL           9\n",
       "import2017/79       CSCL           9\n",
       "import2017/8        CSCL          22\n",
       "import2017/80       CSCL          12\n",
       "import2017/81       CSCL          18\n",
       "import2017/82       CSCL          10\n",
       "import2017/83       CSCL          11\n",
       "import2017/84       CSCL          15\n",
       "import2017/85       CSCL          12\n",
       "import2017/86       CSCL          11\n",
       "import2017/87       CSCL          10\n",
       "import2017/88       CSCL          12\n",
       "import2017/89       CSCL          11\n",
       "import2017/9        CSCL          27\n",
       "import2017/90       CSCL           5\n",
       "import2017/91       CSCL          20\n",
       "import2017/92       CSCL          26\n",
       "import2017/93       CSCL          12\n",
       "import2017/94       CSCL          12\n",
       "import2017/95       CSCL          12\n",
       "import2017/96       CSCL           7\n",
       "import2017/97       CSCL          14\n",
       "import2017/98       CSCL           4\n",
       "import2017/99       CSCL          16\n",
       "Name: conference, Length: 420, dtype: int64"
      ]
     },
     "execution_count": 68,
     "metadata": {},
     "output_type": "execute_result"
    }
   ],
   "source": [
    "references_df.groupby('file').conference.value_counts()"
   ]
  },
  {
   "cell_type": "markdown",
   "metadata": {},
   "source": [
    "## trying to parse acm authors"
   ]
  },
  {
   "cell_type": "markdown",
   "metadata": {},
   "source": [
    "We see that there aren't that many, so we won't parse them for not"
   ]
  },
  {
   "cell_type": "code",
   "execution_count": 69,
   "metadata": {},
   "outputs": [
    {
     "name": "stdout",
     "output_type": "stream",
     "text": [
      "Eisenhardt, K. M. 2000. \n",
      "Campbell, L., and B. Campbell. 2009. \n",
      "with ScienceKit. Paper presented at CSCL 2015. \n",
      "Edmondson, A. C. 1999. \n",
      "supports collaboration in a tabletop activity. In Proceedings of GROUP 2014. \n",
      "sketching practices in a learning by design task. Paper presented at CSCL 2013. \n",
      "Systems, ITS2011. \n",
      "Stahl, G., 2006. \n",
      "Gilbert, Jane. 2005. \n",
      "Dewey, 1913. \n",
      "Gee, J. P. 2011. \n",
      "Innovating Pedagogy 2012. \n",
      "Edmondson, A. C. 1999. \n",
      "supports collaboration in a tabletop activity. In Proceedings of GROUP 2014. \n",
      "sketching practices in a learning by design task. Paper presented at CSCL 2013. \n",
      "Systems, ITS2011. \n",
      "Stahl, G., 2006. \n",
      "In Advanced Learning Technologies, 2003. \n",
      "Milheim, K. 2007. \n",
      "Condition of Education 2015. \n",
      "In Ubiquitous Virtual Reality, 2009. \n",
      "of Oregon, 1968. \n",
      "Dillenbourg, P. 1999. \n",
      "Halverson, E.R. and Sheridan, K. 2014. \n",
      "Klahr, D. and Nigam, M. 2004. \n",
      "supports collaboration in a tabletop activity. In Proceedings of GROUP 2014. \n",
      "the Proceedings of International Conference of Learning Sciences 2008. \n",
      "workspace. In Virtual Reality, 2004. \n",
      "McKenzie, W., and Murphy, D. 2000. \n"
     ]
    }
   ],
   "source": [
    "ACM_authors = []\n",
    "for i, ref in enumerate(references):\n",
    "    for sentence in ref:\n",
    "        s =  re.findall(r'[a-zA-Z\\ \\. \\,]*\\d{4}\\. ', sentence)\n",
    "        if re.match(r'[a-zA-Z\\ \\. \\,]*\\d{4}\\. ', sentence) and not 'http' in s[0].lower() and len(s[0]) > 10:\n",
    "            #print(sentence)\n",
    "            print(s[0])\n",
    "            #apa_authors.append((re.findall(r'.*\\(\\d{4}\\)', sentence)[0], source[i]))"
   ]
  },
  {
   "cell_type": "code",
   "execution_count": 70,
   "metadata": {},
   "outputs": [
    {
     "data": {
      "text/plain": [
       "<re.Match object; span=(0, 55), match='https://www.nsf.gov/funding/pgm_summ.jsp?pims_id=>"
      ]
     },
     "execution_count": 70,
     "metadata": {},
     "output_type": "execute_result"
    }
   ],
   "source": [
    "re.match(r'(.*\\d{4}\\. )', \"https://www.nsf.gov/funding/pgm_summ.jsp?pims_id=5467. Retrieved August 19, 2016.\")"
   ]
  },
  {
   "cell_type": "code",
   "execution_count": 71,
   "metadata": {},
   "outputs": [],
   "source": [
    "m = re.match(r'.*\\d{4}\\. ', 'https://www.nsf.gov/funding/pgm_summ.jsp?pims_id=5467. Retrieved August 19, 2016.')"
   ]
  },
  {
   "cell_type": "code",
   "execution_count": 72,
   "metadata": {},
   "outputs": [
    {
     "data": {
      "text/plain": [
       "['McKenzie, W., and Murphy, D. 2000. ']"
      ]
     },
     "execution_count": 72,
     "metadata": {},
     "output_type": "execute_result"
    }
   ],
   "source": [
    "re.findall(r'[a-zA-Z\\ \\. \\,]*\\d{4}\\. ', 'McKenzie, W., and Murphy, D. 2000. “I hope this goes somewhere”: Evaluation of an on')"
   ]
  },
  {
   "cell_type": "code",
   "execution_count": null,
   "metadata": {},
   "outputs": [],
   "source": []
  }
 ],
 "metadata": {
  "kernelspec": {
   "display_name": "Python 3",
   "language": "python",
   "name": "python3"
  },
  "language_info": {
   "codemirror_mode": {
    "name": "ipython",
    "version": 3
   },
   "file_extension": ".py",
   "mimetype": "text/x-python",
   "name": "python",
   "nbconvert_exporter": "python",
   "pygments_lexer": "ipython3",
   "version": "3.7.0"
  }
 },
 "nbformat": 4,
 "nbformat_minor": 2
}
