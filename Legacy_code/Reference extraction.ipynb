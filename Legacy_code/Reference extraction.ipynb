{
 "cells": [
  {
   "cell_type": "code",
   "execution_count": 1,
   "metadata": {},
   "outputs": [],
   "source": [
    "import re\n",
    "import pandas as pd\n",
    "import os\n",
    "import numpy as np\n",
    "import sys\n",
    "import matplotlib.pyplot as plt\n",
    "import json\n",
    "%matplotlib inline\n",
    "\n",
    "rootdir = '/Users/lguillain/Documents/EPFL2018/Semester-Project/papers-import/'"
   ]
  },
  {
   "cell_type": "markdown",
   "metadata": {},
   "source": [
    "## loading content of txt files.."
   ]
  },
  {
   "cell_type": "code",
   "execution_count": 2,
   "metadata": {},
   "outputs": [],
   "source": [
    "contents = []\n",
    "i = 0\n",
    "source = []\n",
    "for subdir, dirs, files in os.walk(rootdir):\n",
    "    for file in files:\n",
    "        if 'txt' in file:\n",
    "            i += 1\n",
    "            path = os.path.join(subdir, file)\n",
    "            with open(path) as file:\n",
    "                try:\n",
    "                    text = file.read()\n",
    "                    contents.append(text)\n",
    "                    source.append(subdir[len(rootdir):])\n",
    "                except:\n",
    "                    name, message, content = sys.exc_info()\n",
    "                    print(message)"
   ]
  },
  {
   "cell_type": "markdown",
   "metadata": {},
   "source": [
    "## extracting the reference function from the text"
   ]
  },
  {
   "cell_type": "markdown",
   "metadata": {},
   "source": [
    "One attempt was to use special splitting:"
   ]
  },
  {
   "cell_type": "code",
   "execution_count": 3,
   "metadata": {},
   "outputs": [
    {
     "data": {
      "text/plain": [
       "['Abrahamson, D. (2012). Discovery reconceived: Product before process. For the Learning of Mathematics, 32(1), 815.',\n",
       " 'Abrahamson, D. (2015). The monster in the machine, or why educational technology needs embodied design. In\\nV. R. Lee (Ed.),']"
      ]
     },
     "execution_count": 3,
     "metadata": {},
     "output_type": "execute_result"
    }
   ],
   "source": [
    "#Example of extraction\n",
    "t = 'Abrahamson, D. (2012). Discovery reconceived: Product before process. For the Learning of Mathematics, 32(1), 815.\\nAbrahamson, D. (2015). The monster in the machine, or why educational technology needs embodied design. In\\nV. R. Lee (Ed.),'\n",
    "re.split(r'(?<=\\.)\\n', t)"
   ]
  },
  {
   "cell_type": "code",
   "execution_count": 4,
   "metadata": {},
   "outputs": [
    {
     "data": {
      "text/plain": [
       "['dispositions. Science Education, 98(1), 36–63. https://doi.org/10.1002/sce.21083',\n",
       " None,\n",
       " None,\n",
       " 'Edelson, D. C., & Joseph, D. M. (2004). The interest-driven learning design framework: motivating learning']"
      ]
     },
     "execution_count": 4,
     "metadata": {},
     "output_type": "execute_result"
    }
   ],
   "source": [
    "#dealing with links at the end\n",
    "t =  'dispositions. Science Education, 98(1), 36–63. https://doi.org/10.1002/sce.21083\\nEdelson, D. C., & Joseph, D. M. (2004). The interest-driven learning design framework: motivating learning'\n",
    "re.split(r'\\n\\n|((?<=(\\.|\\/|[a-z]))\\n)|\\n(?=[A-Z])',t)"
   ]
  },
  {
   "cell_type": "markdown",
   "metadata": {},
   "source": [
    "#### The issue is that it undersplits, so we it's better to just use \\n "
   ]
  },
  {
   "cell_type": "code",
   "execution_count": 5,
   "metadata": {},
   "outputs": [],
   "source": [
    "def ref_extraction(text, extract=False):\n",
    "    \"\"\"extracts refrerence section: works well on well formated documents\"\"\"\n",
    "    mention = text.rfind(\"\\nReferences\")\n",
    "    if mention == -1:\n",
    "        mention = text.lower().rfind(\" references\")\n",
    "    if mention == -1:\n",
    "        mention =  text.lower().rfind(\"reference\")\n",
    "    #get reference section, account for different spelling\n",
    "    acknowledgements = max(text.lower().find(\"acknowledgements\"), text.lower().find('acknowledgments'))\n",
    "    \n",
    "    #handle case that acknowlege ments are before references\n",
    "    if acknowledgements < mention:\n",
    "        acknowledgements = -1\n",
    "    ref = text[mention+len(\"references\"):acknowledgements]\n",
    "    \n",
    "    #references = re.split(r'\\n\\n|((?<=(\\.|\\/|[a-z]))\\n)|\\n(?=[A-Z])',ref)\n",
    "    references = re.split(r'\\n', ref)\n",
    "    \n",
    "    ref = [r for r in references if r and len(r) > 3 and not re.match(r'(CSCL|ICLS) \\d{4} Proceedings|© ISLS', r)]\n",
    "    if extract:\n",
    "        print(text[mention+len(\"references\"):acknowledgements])\n",
    "        print(references)\n",
    "    return ref"
   ]
  },
  {
   "cell_type": "code",
   "execution_count": 6,
   "metadata": {},
   "outputs": [],
   "source": [
    "references = []\n",
    "for i, content in enumerate(contents):\n",
    "    references.append((ref_extraction(content)))"
   ]
  },
  {
   "cell_type": "code",
   "execution_count": 7,
   "metadata": {},
   "outputs": [
    {
     "name": "stdout",
     "output_type": "stream",
     "text": [
      "Number of pdf documents :  428\n",
      "Number of documents for which we have an extracted reference section:  428\n"
     ]
    }
   ],
   "source": [
    "print('Number of pdf documents : ', len(contents))\n",
    "print('Number of documents for which we have an extracted reference section: ', len(references))"
   ]
  },
  {
   "cell_type": "markdown",
   "metadata": {},
   "source": [
    "# looking into regex to check if valid:"
   ]
  },
  {
   "cell_type": "markdown",
   "metadata": {},
   "source": [
    "One way we can know a line was split early is if it starts with lowercase letter or with a number"
   ]
  },
  {
   "cell_type": "markdown",
   "metadata": {},
   "source": [
    "This is old code that was used at some point but is not no longer used "
   ]
  },
  {
   "cell_type": "code",
   "execution_count": 8,
   "metadata": {},
   "outputs": [],
   "source": [
    "def match_url(sentence):\n",
    "    return re.search('http(s)?\\:\\/\\/[\\S]*$', sentence) or re.search(r'doi\\:[\\S\\/\\*]*$', sentence)\n",
    "\n",
    "def match_url_beginning(sentence):\n",
    "    return re.search('^http(s)?\\:\\/\\/[\\S]*$', sentence) or re.search(r'^doi\\:[\\S\\/\\*]*$', sentence)\n",
    "\n",
    "def show_issue(issues, condition):\n",
    "    for issue in issues:\n",
    "        if condition(issue):\n",
    "            print(issue)"
   ]
  },
  {
   "cell_type": "markdown",
   "metadata": {},
   "source": [
    "Central approach is to move sentences up until they are part of a string that contains a citation year, which usually is at the beginning of a string in an APA reference "
   ]
  },
  {
   "cell_type": "code",
   "execution_count": 9,
   "metadata": {},
   "outputs": [],
   "source": [
    "def contains_citation_beginning(sentence):\n",
    "\n",
    "    ##Check for mention of publication date,\n",
    "    #do it this way to not allow for ICLS 2015 string to be counted\n",
    "    months = '(january|february|march|april|may|june|july|august|september|october|november|december)?'\n",
    "    publication_year = r'(?<!\\d)\\('+months+'[\\-\\ ]*'+months+'[\\ \\,]*(18|19|20)\\d{2}[a-z]?[\\,\\ ]*'+months+'[\\-\\ \\d]*'+months+'\\)'\n",
    "    #sometimes two years are mentioned, we use this regex to parse them\n",
    "    match_bad_year = r'\\((18|19|20)\\d{2}\\/(18|19|20)\\d{2}\\)'\n",
    "    \n",
    "    #these regex account for special strings used in the references\n",
    "    match_press = r'[\\w\\ \\. \\,\\&\\(\\)\\-\\'\\…]*\\(in press\\)'\n",
    "    match_forth = r'[\\S\\s]*\\(forthcoming\\)'\n",
    "    match_accepted = r'[\\S\\s]*\\(accepted\\)'\n",
    "    match_submitted = r'[\\S\\s]*\\(submitted\\)'\n",
    "    match_underreview = r'[\\S\\s]*\\(under review\\)'\n",
    "    sentence = sentence.lower()\n",
    "        \n",
    "    year = re.search(publication_year, sentence) or  re.search(match_bad_year, sentence)\n",
    "    \n",
    "    return  year or \\\n",
    "            re.match(match_press, sentence) or re.match(match_forth, sentence) or\\\n",
    "            re.match(match_accepted, sentence) or re.match(match_submitted, sentence) or\\\n",
    "            re.match(match_underreview, sentence)"
   ]
  },
  {
   "cell_type": "markdown",
   "metadata": {},
   "source": [
    "Example of parsing working:"
   ]
  },
  {
   "cell_type": "code",
   "execution_count": 10,
   "metadata": {},
   "outputs": [
    {
     "data": {
      "text/plain": [
       "(<re.Match object; span=(14, 25), match='(1987/2014)'>, None)"
      ]
     },
     "execution_count": 10,
     "metadata": {},
     "output_type": "execute_result"
    }
   ],
   "source": [
    "sentence = 'Xing, W., Kim, S., & Goggins, S. (2015/1994). Modeling performance in asynchronous CSCL: an exploration of social ability, collective efficacy and social interaction. Exploring the Material Conditions of Learning: Proceedings of the Computer Supported Collaborative Learning (CSCL 2015), International Society of'\n",
    "sentence_2 = 'Engeström, Y. (1987/2014) Learning by expanding: An activity-theoretical approach to developmental research (2nd ed.). New York, NY: Cambridge University Press.'\n",
    "\n",
    "months = '(january|february|march|april|may|june|july|august|september|october|november|december)?'\n",
    "publication_year = r'(?<!\\d)\\('+months+'[\\-\\ ]*'+months+'[\\ \\,]*(18|19|20)\\d{2}[a-z]?[\\,\\ ]*'+months+'[\\-\\ ]*'+months+'\\)'\n",
    "\n",
    "\n",
    "match_bad_year = r'\\((18|19|20)\\d{2}\\/(18|19|20)\\d{2}\\)'\n",
    "\n",
    "month = re.search(publication_year, sentence.lower())\n",
    "conference =  re.search(match_bad_year, sentence_2)\n",
    "    \n",
    "conference, month"
   ]
  },
  {
   "cell_type": "code",
   "execution_count": 11,
   "metadata": {},
   "outputs": [],
   "source": [
    "#moving sentences starting with lowercase letter or number strings \"one up\"\n",
    "def moving_up(issues, condition=lambda x: re.match('^[\\d\\(\\.\\&\\ ]', x)):\n",
    "\n",
    "    issues = [i for i in issues if len(i) > 0]\n",
    "    patchwork = []\n",
    "    j = 0\n",
    "    \n",
    "    for i, sentence in enumerate(issues):\n",
    "        if i != 0 and condition(sentence):\n",
    "            patchwork[j-1] += ' ' + sentence\n",
    "            #print(sentence)\n",
    "        else:\n",
    "            j +=1\n",
    "            patchwork.append(sentence)\n",
    "    patchwork = [p for p in patchwork if len(p) > 0]\n",
    "    \n",
    "    return patchwork"
   ]
  },
  {
   "cell_type": "code",
   "execution_count": 12,
   "metadata": {},
   "outputs": [],
   "source": [
    "#iteration 1: move up strings that start in number or with (\n",
    "ref_1 = [moving_up(r) for r in references]\n",
    "#iteration 2: move up string starting with \"Proceedings\"\n",
    "ref_2 = [moving_up(r, lambda x: re.match('^Proceedings', x)) for r in ref_1]"
   ]
  },
  {
   "cell_type": "code",
   "execution_count": 13,
   "metadata": {},
   "outputs": [],
   "source": [
    "#moving sentences starting with lowercase letter or number strings \"one up\"\n",
    "def moving_down(issues, condition=lambda x: re.match('^[\\d\\(\\.]', x)):\n",
    "\n",
    "    issues = [i for i in issues if len(i) > 0]\n",
    "    patchwork = issues.copy()\n",
    "    j = 0\n",
    "    \n",
    "    for i, sentence in enumerate(issues):\n",
    "        if condition(sentence) and i+1 < len(issues):\n",
    "            patchwork[i] = sentence + ' ' + patchwork[i+1]\n",
    "            patchwork[i+1] = ''\n",
    "\n",
    "    patchwork = [p for p in patchwork if len(p) > 0]\n",
    "    \n",
    "    return patchwork"
   ]
  },
  {
   "cell_type": "code",
   "execution_count": 14,
   "metadata": {},
   "outputs": [
    {
     "data": {
      "text/plain": [
       "<re.Match object; span=(0, 3), match='G. '>"
      ]
     },
     "execution_count": 14,
     "metadata": {},
     "output_type": "execute_result"
    }
   ],
   "source": [
    "cutoff_name = r'^[A-Z]+\\.\\ ?'\n",
    "text = 'G. bsdjhvshjvf(1220)'\n",
    "re.match(cutoff_name, text)"
   ]
  },
  {
   "cell_type": "code",
   "execution_count": 15,
   "metadata": {},
   "outputs": [
    {
     "data": {
      "text/plain": [
       "<re.Match object; span=(105, 109), match=' and'>"
      ]
     },
     "execution_count": 15,
     "metadata": {},
     "output_type": "execute_result"
    }
   ],
   "source": [
    "text = 'Walther, J. B., & Parks, M. R. (2002). Cues filtered out, cues filter in: computer mediated communication and'\n",
    "words_at_end = r'\\ [a-zA-Z]*$'\n",
    "re.search(words_at_end, text)"
   ]
  },
  {
   "cell_type": "code",
   "execution_count": 16,
   "metadata": {},
   "outputs": [],
   "source": [
    "#move up is name is cut off (for instance, sentence starts with C. ....)\n",
    "ref_3 = [moving_up(r, lambda x: re.match(cutoff_name, x)) for r in ref_2]"
   ]
  },
  {
   "cell_type": "markdown",
   "metadata": {},
   "source": [
    "For references we might cut off the year from the authors. In that case we need to change strategy and move the one that is below up if the upper string satisfies the condition"
   ]
  },
  {
   "cell_type": "code",
   "execution_count": 17,
   "metadata": {},
   "outputs": [],
   "source": [
    "def match_author(authors):\n",
    "    regex = r'(([\\w\\-]*[\\,\\&] [A-Z\\.\\ ]+[\\&\\,]?)*$)'\n",
    "    USA = r'([A-Z]{2,})'\n",
    "    return not re.search(USA, authors) and re.match(regex, authors)"
   ]
  },
  {
   "cell_type": "code",
   "execution_count": 18,
   "metadata": {},
   "outputs": [
    {
     "data": {
      "text/plain": [
       "'Yoon, S., Anderson, E., Koehler-Yom, Evans, C., Park, M., J., Sheldon, J., Schoenfeld, I., Wendel, D.,'"
      ]
     },
     "execution_count": 18,
     "metadata": {},
     "output_type": "execute_result"
    }
   ],
   "source": [
    "sentence = 'Yoon, S., Anderson, E., Koehler-Yom, Evans, C., Park, M., J., Sheldon, J., Schoenfeld, I., Wendel, D.,'\n",
    "match_author(sentence).group(0)"
   ]
  },
  {
   "cell_type": "code",
   "execution_count": 19,
   "metadata": {},
   "outputs": [],
   "source": [
    "ref_4 = [moving_down(r, lambda x: match_author(x)) for r in ref_3]\n",
    "\n",
    "#pivoting up around strings containing citation\n",
    "ref_5 = [moving_up(r, lambda x: not contains_citation_beginning(x)) for r in ref_4]\n",
    "#if ends in word\n",
    "ref_6 = [moving_down(r, lambda x: re.search(words_at_end, x)) for r in ref_5]"
   ]
  },
  {
   "cell_type": "markdown",
   "metadata": {},
   "source": [
    "Add the reference isnto dataframe, associating the source text to it:"
   ]
  },
  {
   "cell_type": "code",
   "execution_count": 20,
   "metadata": {},
   "outputs": [],
   "source": [
    "references_df = pd.DataFrame([(f, source[i]) for i, flat in enumerate(ref_6) for f in flat], columns=['ref', 'file'])"
   ]
  },
  {
   "cell_type": "markdown",
   "metadata": {},
   "source": [
    "We use length and initial of the reference to preform a sanity check:"
   ]
  },
  {
   "cell_type": "code",
   "execution_count": 21,
   "metadata": {},
   "outputs": [],
   "source": [
    "references_df['length'] = references_df.ref.map(lambda x: len(x))\n",
    "references_df['initial'] = references_df.ref.map(lambda x: x[0])"
   ]
  },
  {
   "cell_type": "code",
   "execution_count": 22,
   "metadata": {},
   "outputs": [
    {
     "data": {
      "text/plain": [
       "count     8649.000000\n",
       "mean       202.215863\n",
       "std        891.650973\n",
       "min         31.000000\n",
       "25%        138.000000\n",
       "50%        180.000000\n",
       "75%        219.000000\n",
       "max      74737.000000\n",
       "Name: length, dtype: float64"
      ]
     },
     "execution_count": 22,
     "metadata": {},
     "output_type": "execute_result"
    },
    {
     "data": {
      "image/png": "[encoded data removed]",
      "text/plain": [
       "<Figure size 432x288 with 1 Axes>"
      ]
     },
     "metadata": {
      "needs_background": "light"
     },
     "output_type": "display_data"
    }
   ],
   "source": [
    "references_df.length.plot(kind='box')\n",
    "references_df.length.describe()"
   ]
  },
  {
   "cell_type": "code",
   "execution_count": 23,
   "metadata": {},
   "outputs": [
    {
     "data": {
      "text/plain": [
       "U    21\n",
       "Q     7\n",
       "p     3\n",
       "Ö     3\n",
       "e     2\n",
       "b     2\n",
       "Ç     2\n",
       "Ž     1\n",
       "h     1\n",
       "n     1\n",
       "a     1\n",
       "Å     1\n",
       "[     1\n",
       "r     1\n",
       "f     1\n",
       "Name: initial, dtype: int64"
      ]
     },
     "execution_count": 23,
     "metadata": {},
     "output_type": "execute_result"
    },
    {
     "data": {
      "image/png": "[encoded data removed]",
      "text/plain": [
       "<Figure size 432x288 with 1 Axes>"
      ]
     },
     "metadata": {
      "needs_background": "light"
     },
     "output_type": "display_data"
    }
   ],
   "source": [
    "references_df.initial.value_counts().plot(kind='bar')\n",
    "references_df.initial.value_counts().tail(15)"
   ]
  },
  {
   "cell_type": "code",
   "execution_count": 24,
   "metadata": {},
   "outputs": [
    {
     "data": {
      "text/html": [
       "<div>\n",
       "<style scoped>\n",
       "    .dataframe tbody tr th:only-of-type {\n",
       "        vertical-align: middle;\n",
       "    }\n",
       "\n",
       "    .dataframe tbody tr th {\n",
       "        vertical-align: top;\n",
       "    }\n",
       "\n",
       "    .dataframe thead th {\n",
       "        text-align: right;\n",
       "    }\n",
       "</style>\n",
       "<table border=\"1\" class=\"dataframe\">\n",
       "  <thead>\n",
       "    <tr style=\"text-align: right;\">\n",
       "      <th></th>\n",
       "      <th>ref</th>\n",
       "      <th>file</th>\n",
       "      <th>length</th>\n",
       "      <th>initial</th>\n",
       "    </tr>\n",
       "  </thead>\n",
       "  <tbody>\n",
       "    <tr>\n",
       "      <th>4175</th>\n",
       "      <td>Wilensky, U. (1999). {NetLogo}.</td>\n",
       "      <td>import2016short/106</td>\n",
       "      <td>31</td>\n",
       "      <td>W</td>\n",
       "    </tr>\n",
       "    <tr>\n",
       "      <th>6969</th>\n",
       "      <td>Wilensky, U. (1999). {NetLogo}.</td>\n",
       "      <td>import2017/9</td>\n",
       "      <td>31</td>\n",
       "      <td>W</td>\n",
       "    </tr>\n",
       "  </tbody>\n",
       "</table>\n",
       "</div>"
      ],
      "text/plain": [
       "                                  ref                 file  length initial\n",
       "4175  Wilensky, U. (1999). {NetLogo}.  import2016short/106      31       W\n",
       "6969  Wilensky, U. (1999). {NetLogo}.         import2017/9      31       W"
      ]
     },
     "execution_count": 24,
     "metadata": {},
     "output_type": "execute_result"
    }
   ],
   "source": [
    "#short references are fine\n",
    "references_df[references_df.length < 40]"
   ]
  },
  {
   "cell_type": "code",
   "execution_count": 25,
   "metadata": {},
   "outputs": [
    {
     "data": {
      "text/html": [
       "<div>\n",
       "<style scoped>\n",
       "    .dataframe tbody tr th:only-of-type {\n",
       "        vertical-align: middle;\n",
       "    }\n",
       "\n",
       "    .dataframe tbody tr th {\n",
       "        vertical-align: top;\n",
       "    }\n",
       "\n",
       "    .dataframe thead th {\n",
       "        text-align: right;\n",
       "    }\n",
       "</style>\n",
       "<table border=\"1\" class=\"dataframe\">\n",
       "  <thead>\n",
       "    <tr style=\"text-align: right;\">\n",
       "      <th></th>\n",
       "      <th>ref</th>\n",
       "      <th>file</th>\n",
       "      <th>length</th>\n",
       "      <th>initial</th>\n",
       "    </tr>\n",
       "  </thead>\n",
       "  <tbody>\n",
       "    <tr>\n",
       "      <th>2845</th>\n",
       "      <td>boyd, d. (2009). Why Youth (Heart) Social Netw...</td>\n",
       "      <td>import2015full/285</td>\n",
       "      <td>110</td>\n",
       "      <td>b</td>\n",
       "    </tr>\n",
       "    <tr>\n",
       "      <th>5802</th>\n",
       "      <td>boyd, d. (2009). Why Youth (Heart) Social Netw...</td>\n",
       "      <td>import2015short/285</td>\n",
       "      <td>110</td>\n",
       "      <td>b</td>\n",
       "    </tr>\n",
       "  </tbody>\n",
       "</table>\n",
       "</div>"
      ],
      "text/plain": [
       "                                                    ref                 file  \\\n",
       "2845  boyd, d. (2009). Why Youth (Heart) Social Netw...   import2015full/285   \n",
       "5802  boyd, d. (2009). Why Youth (Heart) Social Netw...  import2015short/285   \n",
       "\n",
       "      length initial  \n",
       "2845     110       b  \n",
       "5802     110       b  "
      ]
     },
     "execution_count": 25,
     "metadata": {},
     "output_type": "execute_result"
    }
   ],
   "source": [
    "#also correctly parsed i, e are fine, a are not too bad, leave it\n",
    "#only very few references are incorrect if they start by lowercase. we accept this\n",
    "#b is correct\n",
    "references_df[references_df['initial'] == 'b']"
   ]
  },
  {
   "cell_type": "markdown",
   "metadata": {},
   "source": [
    "Remove overly long references are they are due to badly parsed pdfs:"
   ]
  },
  {
   "cell_type": "code",
   "execution_count": 26,
   "metadata": {},
   "outputs": [],
   "source": [
    "references_df = references_df[(references_df.length < 1000)]"
   ]
  },
  {
   "cell_type": "code",
   "execution_count": 27,
   "metadata": {},
   "outputs": [
    {
     "name": "stdout",
     "output_type": "stream",
     "text": [
      "We can parse references from 420 documents.\n"
     ]
    }
   ],
   "source": [
    "print('We can parse references from {} documents.'.format(references_df.file.value_counts().shape[0]))"
   ]
  },
  {
   "cell_type": "markdown",
   "metadata": {},
   "source": [
    "Example reference:"
   ]
  },
  {
   "cell_type": "code",
   "execution_count": 28,
   "metadata": {},
   "outputs": [
    {
     "data": {
      "text/plain": [
       "['Järvelä, S., & Hadwin, A. F. (2013). New frontiers: Regulating learning in CSCL. Educational Psychologist, 48(1), 25-39.',\n",
       " 'Blei, D. M. (2012). Probabilistic topic models. Communications of the ACM, 55(4), 77-84.',\n",
       " 'Latour, B. (1987). Science in action: How to follow scientists and engineers through society. Cambridge, MA: Harvard University Press.',\n",
       " 'Goodwin, C. (2007). Participation, stance and affect in the organization of activities. Discourse & Society, 18(1), 53–73.',\n",
       " 'Konert, J., Burlak, D., & Steinmetz, R. (2014). The Group Formation Problem: An Algorithmic Approach to Learning Group Formation. In Open Learning and Teaching in Educ. Comm., 8719, 221-234.']"
      ]
     },
     "execution_count": 28,
     "metadata": {},
     "output_type": "execute_result"
    }
   ],
   "source": [
    "references_df[references_df.length < 200].sample(5).ref.tolist()"
   ]
  },
  {
   "cell_type": "markdown",
   "metadata": {},
   "source": [
    "# Approach to get names from references:"
   ]
  },
  {
   "cell_type": "markdown",
   "metadata": {},
   "source": [
    "For APA style it is easy to extract the year and author of the cited reference\n",
    "- we could look at from when the reference cited is, who is in it"
   ]
  },
  {
   "cell_type": "markdown",
   "metadata": {},
   "source": [
    "Need to look at efficient way to check name validity:\n",
    "think spanish, irish names"
   ]
  },
  {
   "cell_type": "code",
   "execution_count": 29,
   "metadata": {},
   "outputs": [],
   "source": [
    "def get_authors(sentence, debug = False):\n",
    "    regex = r'[\\S\\s]*\\((18|19|20)\\d{2}[\\,\\ \\w\\d]*\\)'\n",
    "    if re.search(regex, sentence):\n",
    "        s = re.findall(regex, sentence)[0]\n",
    "        if len(s) > 9:\n",
    "            return (s)\n",
    "    elif debug:\n",
    "        return '#'+sentence\n",
    "    \n",
    "    return np.nan\n",
    "\n",
    "\n",
    "\n",
    "def get_authors_month(sentence, debug = False):\n",
    "    regex = r'[\\S\\s]*\\([\\,\\ \\w\\d\\-]*(18|19|20)\\d{2}[\\,\\ \\w\\d\\-]*\\)'\n",
    "    match_bad_year = r'[\\S\\s]*\\((18|19|20)\\d{2}\\/(18|19|20)\\d{2}\\)'\n",
    "    \n",
    "    match_press = r'[\\S\\s]*\\((i|I)n press\\)'\n",
    "    match_forth = r'[\\S\\s]*\\((f|F)orthcoming\\)'\n",
    "    match_accepted = r'[\\S\\s]*\\((a|A)ccepted\\)'\n",
    "    match_submitted = r'[\\S\\s]*\\((s|S)ubmitted\\)'\n",
    "    match_underreview = r'[\\S\\s]*\\((u|U)nder review\\)'\n",
    "    \n",
    "    #sentence = sentence.lower()\n",
    "    if re.match(regex, sentence):\n",
    "        s = re.search(regex, sentence).group(0)\n",
    "        if len(s) > 9:\n",
    "            return s\n",
    "    elif re.match(match_bad_year, sentence):\n",
    "        return re.search(match_bad_year, sentence).group(0)\n",
    "    elif re.match(match_press, sentence):\n",
    "        return re.search(match_press, sentence).group(0)\n",
    "    elif re.match(match_forth, sentence):\n",
    "        return re.search(match_forth, sentence).group(0)\n",
    "    elif re.match(match_accepted, sentence):\n",
    "        return re.search(match_accepted, sentence).group(0)\n",
    "    elif re.match(match_submitted, sentence):\n",
    "        return re.search(match_submitted, sentence).group(0)\n",
    "    elif re.match(match_underreview, sentence):\n",
    "        return re.search(match_underreview, sentence).group(0)\n",
    "    \n",
    "    return np.nan"
   ]
  },
  {
   "cell_type": "code",
   "execution_count": 30,
   "metadata": {},
   "outputs": [],
   "source": [
    "references_df['ref_parsed'] = references_df.apply(lambda x: get_authors_month(x['ref']), axis=1)"
   ]
  },
  {
   "cell_type": "code",
   "execution_count": 31,
   "metadata": {},
   "outputs": [
    {
     "name": "stdout",
     "output_type": "stream",
     "text": [
      "Percentage of unparsed references:  0.0005784359093012494\n",
      "Number of unparsed references:  5\n",
      "Number of properly parsed references:  8644\n"
     ]
    }
   ],
   "source": [
    "print('Percentage of unparsed references: {:0.2f}'.format(references_df.ref_parsed.isna().sum()/references_df.ref_parsed.shape[0]))\n",
    "print('Number of unparsed references: ', references_df[references_df.ref_parsed.isna()].ref.shape[0])\n",
    "print('Number of properly parsed references: ', references_df.ref_parsed.shape[0])"
   ]
  },
  {
   "cell_type": "markdown",
   "metadata": {},
   "source": [
    "Unpased files:"
   ]
  },
  {
   "cell_type": "code",
   "execution_count": 32,
   "metadata": {},
   "outputs": [
    {
     "data": {
      "text/plain": [
       "['* References marked with an asterisk indicate studies included in the review (Not a full list of all of the reviewed studies).',\n",
       " 'Krist, C., Schwarz, C. V., & Reiser, B. J. (manuscript under review). Identifying and supporting crosscutting epistemic heuristics that guide mechanistic reasoning in science learning.',\n",
       " '* References marked with an asterisk indicate studies included in the review (Not a full list of all of the reviewed studies).',\n",
       " 'Aiello, L. M., Barrat, A., Cattuto, C., Ruffo, G., & Schifanella, R. Link Creation and Profile Alignment in the aNobii Social Network. In 2010 IEEE Second International Conference on Social Computing (SocialCom) (pp. 249–256). doi:10.1109/SocialCom.2010.42',\n",
       " 'Belland, B. R., Walker, A. E., Kim, N., & Lefler, M. (In Press). Synthesizing results from empirical research on computer-based scaffolding in STEM education: A meta-analysis. Review of Educational Research.']"
      ]
     },
     "execution_count": 32,
     "metadata": {},
     "output_type": "execute_result"
    }
   ],
   "source": [
    "references_df[references_df.ref_parsed.isna()].ref.tolist()"
   ]
  },
  {
   "cell_type": "code",
   "execution_count": 33,
   "metadata": {},
   "outputs": [
    {
     "data": {
      "text/html": [
       "<div>\n",
       "<style scoped>\n",
       "    .dataframe tbody tr th:only-of-type {\n",
       "        vertical-align: middle;\n",
       "    }\n",
       "\n",
       "    .dataframe tbody tr th {\n",
       "        vertical-align: top;\n",
       "    }\n",
       "\n",
       "    .dataframe thead th {\n",
       "        text-align: right;\n",
       "    }\n",
       "</style>\n",
       "<table border=\"1\" class=\"dataframe\">\n",
       "  <thead>\n",
       "    <tr style=\"text-align: right;\">\n",
       "      <th></th>\n",
       "      <th>ref</th>\n",
       "      <th>file</th>\n",
       "      <th>length</th>\n",
       "      <th>initial</th>\n",
       "      <th>ref_parsed</th>\n",
       "    </tr>\n",
       "  </thead>\n",
       "  <tbody>\n",
       "  </tbody>\n",
       "</table>\n",
       "</div>"
      ],
      "text/plain": [
       "Empty DataFrame\n",
       "Columns: [ref, file, length, initial, ref_parsed]\n",
       "Index: []"
      ]
     },
     "execution_count": 33,
     "metadata": {},
     "output_type": "execute_result"
    }
   ],
   "source": [
    "l = ['/import2016full/95',\n",
    " '/import2016full/92',\n",
    " '/import2016full/93',\n",
    " '/import2016full/94',\n",
    " '/import2016full/91',\n",
    " '/import2016full/96',\n",
    " '/import2016full/98',\n",
    " '/import2016full/97']\n",
    "references_df[references_df.file.map(lambda x: x in l)]"
   ]
  },
  {
   "cell_type": "code",
   "execution_count": 34,
   "metadata": {},
   "outputs": [
    {
     "data": {
      "text/plain": [
       "file\n",
       "import2015full/105    33\n",
       "import2015full/122    33\n",
       "import2015full/126    45\n",
       "import2015full/136     8\n",
       "import2015full/146    23\n",
       "Name: counts, dtype: int64"
      ]
     },
     "execution_count": 34,
     "metadata": {},
     "output_type": "execute_result"
    }
   ],
   "source": [
    "ref_counts = references_df.groupby('file').ref_parsed.count()\n",
    "ref_counts.name = 'counts'\n",
    "ref_counts.head()"
   ]
  },
  {
   "cell_type": "code",
   "execution_count": 35,
   "metadata": {},
   "outputs": [
    {
     "data": {
      "text/plain": [
       "count    420.000000\n",
       "mean      20.569048\n",
       "std       10.799430\n",
       "min        1.000000\n",
       "25%       13.000000\n",
       "50%       19.000000\n",
       "75%       26.000000\n",
       "max       78.000000\n",
       "Name: counts, dtype: float64"
      ]
     },
     "execution_count": 35,
     "metadata": {},
     "output_type": "execute_result"
    }
   ],
   "source": [
    "ref_counts.describe()"
   ]
  },
  {
   "cell_type": "code",
   "execution_count": 36,
   "metadata": {},
   "outputs": [
    {
     "data": {
      "text/html": [
       "<div>\n",
       "<style scoped>\n",
       "    .dataframe tbody tr th:only-of-type {\n",
       "        vertical-align: middle;\n",
       "    }\n",
       "\n",
       "    .dataframe tbody tr th {\n",
       "        vertical-align: top;\n",
       "    }\n",
       "\n",
       "    .dataframe thead th {\n",
       "        text-align: right;\n",
       "    }\n",
       "</style>\n",
       "<table border=\"1\" class=\"dataframe\">\n",
       "  <thead>\n",
       "    <tr style=\"text-align: right;\">\n",
       "      <th></th>\n",
       "      <th>ref</th>\n",
       "      <th>file</th>\n",
       "      <th>length</th>\n",
       "      <th>initial</th>\n",
       "      <th>ref_parsed</th>\n",
       "      <th>counts</th>\n",
       "    </tr>\n",
       "  </thead>\n",
       "  <tbody>\n",
       "    <tr>\n",
       "      <th>0</th>\n",
       "      <td>Abrahamson, D. (2012). Discovery reconceived: ...</td>\n",
       "      <td>import2016full/61</td>\n",
       "      <td>114</td>\n",
       "      <td>A</td>\n",
       "      <td>Abrahamson, D. (2012)</td>\n",
       "      <td>47</td>\n",
       "    </tr>\n",
       "    <tr>\n",
       "      <th>1</th>\n",
       "      <td>Abrahamson, D. (2015). The monster in the mach...</td>\n",
       "      <td>import2016full/61</td>\n",
       "      <td>192</td>\n",
       "      <td>A</td>\n",
       "      <td>Abrahamson, D. (2015)</td>\n",
       "      <td>47</td>\n",
       "    </tr>\n",
       "    <tr>\n",
       "      <th>2</th>\n",
       "      <td>Abrahamson, D., Lee, R. G., Negrete, A. G., &amp; ...</td>\n",
       "      <td>import2016full/61</td>\n",
       "      <td>194</td>\n",
       "      <td>A</td>\n",
       "      <td>Abrahamson, D., Lee, R. G., Negrete, A. G., &amp; ...</td>\n",
       "      <td>47</td>\n",
       "    </tr>\n",
       "    <tr>\n",
       "      <th>3</th>\n",
       "      <td>Abrahamson, D., &amp; Sánchez-García, R. (in press...</td>\n",
       "      <td>import2016full/61</td>\n",
       "      <td>199</td>\n",
       "      <td>A</td>\n",
       "      <td>Abrahamson, D., &amp; Sánchez-García, R. (in press)</td>\n",
       "      <td>47</td>\n",
       "    </tr>\n",
       "    <tr>\n",
       "      <th>4</th>\n",
       "      <td>Abrahamson, D., Shayan, S., Bakker, A., &amp; Van ...</td>\n",
       "      <td>import2016full/61</td>\n",
       "      <td>212</td>\n",
       "      <td>A</td>\n",
       "      <td>Abrahamson, D., Shayan, S., Bakker, A., &amp; Van ...</td>\n",
       "      <td>47</td>\n",
       "    </tr>\n",
       "  </tbody>\n",
       "</table>\n",
       "</div>"
      ],
      "text/plain": [
       "                                                 ref               file  \\\n",
       "0  Abrahamson, D. (2012). Discovery reconceived: ...  import2016full/61   \n",
       "1  Abrahamson, D. (2015). The monster in the mach...  import2016full/61   \n",
       "2  Abrahamson, D., Lee, R. G., Negrete, A. G., & ...  import2016full/61   \n",
       "3  Abrahamson, D., & Sánchez-García, R. (in press...  import2016full/61   \n",
       "4  Abrahamson, D., Shayan, S., Bakker, A., & Van ...  import2016full/61   \n",
       "\n",
       "   length initial                                         ref_parsed  counts  \n",
       "0     114       A                              Abrahamson, D. (2012)      47  \n",
       "1     192       A                              Abrahamson, D. (2015)      47  \n",
       "2     194       A  Abrahamson, D., Lee, R. G., Negrete, A. G., & ...      47  \n",
       "3     199       A    Abrahamson, D., & Sánchez-García, R. (in press)      47  \n",
       "4     212       A  Abrahamson, D., Shayan, S., Bakker, A., & Van ...      47  "
      ]
     },
     "execution_count": 36,
     "metadata": {},
     "output_type": "execute_result"
    }
   ],
   "source": [
    "df = references_df.join(ref_counts, on='file')\n",
    "df.head()"
   ]
  },
  {
   "cell_type": "markdown",
   "metadata": {},
   "source": [
    "We see that only papers that are invalid have no citation"
   ]
  },
  {
   "cell_type": "code",
   "execution_count": 37,
   "metadata": {},
   "outputs": [
    {
     "data": {
      "text/html": [
       "<div>\n",
       "<style scoped>\n",
       "    .dataframe tbody tr th:only-of-type {\n",
       "        vertical-align: middle;\n",
       "    }\n",
       "\n",
       "    .dataframe tbody tr th {\n",
       "        vertical-align: top;\n",
       "    }\n",
       "\n",
       "    .dataframe thead th {\n",
       "        text-align: right;\n",
       "    }\n",
       "</style>\n",
       "<table border=\"1\" class=\"dataframe\">\n",
       "  <thead>\n",
       "    <tr style=\"text-align: right;\">\n",
       "      <th></th>\n",
       "      <th>ref</th>\n",
       "      <th>file</th>\n",
       "      <th>length</th>\n",
       "      <th>initial</th>\n",
       "      <th>ref_parsed</th>\n",
       "      <th>counts</th>\n",
       "    </tr>\n",
       "  </thead>\n",
       "  <tbody>\n",
       "    <tr>\n",
       "      <th>4034</th>\n",
       "      <td>Further, we employed Johnson and Norem-Hebeise...</td>\n",
       "      <td>import2016short/136</td>\n",
       "      <td>214</td>\n",
       "      <td>F</td>\n",
       "      <td>Further, we employed Johnson and Norem-Hebeise...</td>\n",
       "      <td>1</td>\n",
       "    </tr>\n",
       "  </tbody>\n",
       "</table>\n",
       "</div>"
      ],
      "text/plain": [
       "                                                    ref                 file  \\\n",
       "4034  Further, we employed Johnson and Norem-Hebeise...  import2016short/136   \n",
       "\n",
       "      length initial                                         ref_parsed  \\\n",
       "4034     214       F  Further, we employed Johnson and Norem-Hebeise...   \n",
       "\n",
       "      counts  \n",
       "4034       1  "
      ]
     },
     "execution_count": 37,
     "metadata": {},
     "output_type": "execute_result"
    }
   ],
   "source": [
    "df[df.counts == 1]"
   ]
  },
  {
   "cell_type": "code",
   "execution_count": 38,
   "metadata": {
    "scrolled": true
   },
   "outputs": [
    {
     "data": {
      "text/html": [
       "<div>\n",
       "<style scoped>\n",
       "    .dataframe tbody tr th:only-of-type {\n",
       "        vertical-align: middle;\n",
       "    }\n",
       "\n",
       "    .dataframe tbody tr th {\n",
       "        vertical-align: top;\n",
       "    }\n",
       "\n",
       "    .dataframe thead th {\n",
       "        text-align: right;\n",
       "    }\n",
       "</style>\n",
       "<table border=\"1\" class=\"dataframe\">\n",
       "  <thead>\n",
       "    <tr style=\"text-align: right;\">\n",
       "      <th></th>\n",
       "      <th>ref</th>\n",
       "      <th>file</th>\n",
       "      <th>length</th>\n",
       "      <th>initial</th>\n",
       "      <th>ref_parsed</th>\n",
       "      <th>counts</th>\n",
       "    </tr>\n",
       "  </thead>\n",
       "  <tbody>\n",
       "    <tr>\n",
       "      <th>3332</th>\n",
       "      <td>Bransford, J. D., Brown, A. L., Cocking, R. R....</td>\n",
       "      <td>import2016short/168</td>\n",
       "      <td>191</td>\n",
       "      <td>B</td>\n",
       "      <td>Bransford, J. D., Brown, A. L., Cocking, R. R....</td>\n",
       "      <td>3</td>\n",
       "    </tr>\n",
       "    <tr>\n",
       "      <th>3333</th>\n",
       "      <td>National Research Council. (2012). A framework...</td>\n",
       "      <td>import2016short/168</td>\n",
       "      <td>300</td>\n",
       "      <td>N</td>\n",
       "      <td>National Research Council. (2012)</td>\n",
       "      <td>3</td>\n",
       "    </tr>\n",
       "    <tr>\n",
       "      <th>3334</th>\n",
       "      <td>DC: The National Academies Press. U.S. Departm...</td>\n",
       "      <td>import2016short/168</td>\n",
       "      <td>193</td>\n",
       "      <td>D</td>\n",
       "      <td>DC: The National Academies Press. U.S. Departm...</td>\n",
       "      <td>3</td>\n",
       "    </tr>\n",
       "  </tbody>\n",
       "</table>\n",
       "</div>"
      ],
      "text/plain": [
       "                                                    ref                 file  \\\n",
       "3332  Bransford, J. D., Brown, A. L., Cocking, R. R....  import2016short/168   \n",
       "3333  National Research Council. (2012). A framework...  import2016short/168   \n",
       "3334  DC: The National Academies Press. U.S. Departm...  import2016short/168   \n",
       "\n",
       "      length initial                                         ref_parsed  \\\n",
       "3332     191       B  Bransford, J. D., Brown, A. L., Cocking, R. R....   \n",
       "3333     300       N                  National Research Council. (2012)   \n",
       "3334     193       D  DC: The National Academies Press. U.S. Departm...   \n",
       "\n",
       "      counts  \n",
       "3332       3  \n",
       "3333       3  \n",
       "3334       3  "
      ]
     },
     "execution_count": 38,
     "metadata": {},
     "output_type": "execute_result"
    }
   ],
   "source": [
    "df[df.counts == 3]"
   ]
  },
  {
   "cell_type": "code",
   "execution_count": 39,
   "metadata": {},
   "outputs": [
    {
     "data": {
      "text/html": [
       "<div>\n",
       "<style scoped>\n",
       "    .dataframe tbody tr th:only-of-type {\n",
       "        vertical-align: middle;\n",
       "    }\n",
       "\n",
       "    .dataframe tbody tr th {\n",
       "        vertical-align: top;\n",
       "    }\n",
       "\n",
       "    .dataframe thead th {\n",
       "        text-align: right;\n",
       "    }\n",
       "</style>\n",
       "<table border=\"1\" class=\"dataframe\">\n",
       "  <thead>\n",
       "    <tr style=\"text-align: right;\">\n",
       "      <th></th>\n",
       "      <th>ref</th>\n",
       "      <th>file</th>\n",
       "      <th>length</th>\n",
       "      <th>initial</th>\n",
       "      <th>ref_parsed</th>\n",
       "    </tr>\n",
       "  </thead>\n",
       "  <tbody>\n",
       "  </tbody>\n",
       "</table>\n",
       "</div>"
      ],
      "text/plain": [
       "Empty DataFrame\n",
       "Columns: [ref, file, length, initial, ref_parsed]\n",
       "Index: []"
      ]
     },
     "execution_count": 39,
     "metadata": {},
     "output_type": "execute_result"
    }
   ],
   "source": [
    "references_df[references_df.file == '/import2016short/136']"
   ]
  },
  {
   "cell_type": "code",
   "execution_count": 40,
   "metadata": {},
   "outputs": [
    {
     "data": {
      "text/plain": [
       "<matplotlib.axes._subplots.AxesSubplot at 0x114a1c588>"
      ]
     },
     "execution_count": 40,
     "metadata": {},
     "output_type": "execute_result"
    },
    {
     "data": {
      "image/png": "[encoded data removed]",
      "text/plain": [
       "<Figure size 432x288 with 1 Axes>"
      ]
     },
     "metadata": {
      "needs_background": "light"
     },
     "output_type": "display_data"
    }
   ],
   "source": [
    "references_df.ref_parsed.value_counts().head(20).plot(kind='bar')"
   ]
  },
  {
   "cell_type": "markdown",
   "metadata": {},
   "source": [
    "# extracting information for individual references:\n",
    "## Extracting the year of publication:"
   ]
  },
  {
   "cell_type": "code",
   "execution_count": 41,
   "metadata": {},
   "outputs": [],
   "source": [
    "def extract_year(x):\n",
    "    match_press = r'\\(in press\\)'\n",
    "    years = r'\\([\\w\\d\\,\\ \\.]*(18|19|20)\\d{2}[\\,\\ \\w\\d]*\\)'\n",
    "    year = re.search(years, x)\n",
    "    if re.search(match_press, x):\n",
    "        return 2018\n",
    "    if year:\n",
    "        year = year.group(0)\n",
    "        year = re.findall('\\d{4}', year)\n",
    "        return int(year[0])\n",
    "    else:\n",
    "        return np.nan"
   ]
  },
  {
   "cell_type": "code",
   "execution_count": 42,
   "metadata": {},
   "outputs": [],
   "source": [
    "references_df.loc[~references_df.ref_parsed.isna(),'year'] = references_df[~references_df.ref_parsed.isna()].ref_parsed.map(extract_year)"
   ]
  },
  {
   "cell_type": "code",
   "execution_count": 43,
   "metadata": {},
   "outputs": [
    {
     "data": {
      "text/plain": [
       "(35, 6)"
      ]
     },
     "execution_count": 43,
     "metadata": {},
     "output_type": "execute_result"
    }
   ],
   "source": [
    "references_df[references_df.year.isna()].shape"
   ]
  },
  {
   "cell_type": "code",
   "execution_count": 44,
   "metadata": {},
   "outputs": [
    {
     "data": {
      "text/plain": [
       "count    8609.000000\n",
       "mean     2005.188872\n",
       "std        10.104455\n",
       "min      1887.000000\n",
       "25%      2001.000000\n",
       "50%      2008.000000\n",
       "75%      2012.000000\n",
       "max      2018.000000\n",
       "Name: year, dtype: float64"
      ]
     },
     "execution_count": 44,
     "metadata": {},
     "output_type": "execute_result"
    }
   ],
   "source": [
    "references_df.year.describe()"
   ]
  },
  {
   "cell_type": "code",
   "execution_count": 45,
   "metadata": {},
   "outputs": [
    {
     "data": {
      "image/png": "[encoded data removed]",
      "text/plain": [
       "<Figure size 432x288 with 1 Axes>"
      ]
     },
     "metadata": {
      "needs_background": "light"
     },
     "output_type": "display_data"
    },
    {
     "data": {
      "text/plain": [
       "<matplotlib.axes._subplots.AxesSubplot at 0x1149ddeb8>"
      ]
     },
     "execution_count": 45,
     "metadata": {},
     "output_type": "execute_result"
    },
    {
     "data": {
      "image/png": "[encoded data removed]",
      "text/plain": [
       "<Figure size 432x288 with 1 Axes>"
      ]
     },
     "metadata": {
      "needs_background": "light"
     },
     "output_type": "display_data"
    }
   ],
   "source": [
    "references_df.year.plot(kind='box')\n",
    "plt.show()\n",
    "references_df.year.plot(kind='hist')"
   ]
  },
  {
   "cell_type": "code",
   "execution_count": 46,
   "metadata": {},
   "outputs": [],
   "source": [
    "references_df.to_csv('data/References.csv')"
   ]
  },
  {
   "cell_type": "markdown",
   "metadata": {},
   "source": [
    "## Look at individual authors:"
   ]
  },
  {
   "cell_type": "markdown",
   "metadata": {},
   "source": [
    "For now we look only the the authors that come up in any citation in the paper. So we do not care about order or the specific reference they are associated with:"
   ]
  },
  {
   "cell_type": "markdown",
   "metadata": {},
   "source": [
    "We again use a regex to extract neighbours"
   ]
  },
  {
   "cell_type": "code",
   "execution_count": 47,
   "metadata": {},
   "outputs": [],
   "source": [
    "authors = 'Yoon, S., Anderson, E., Koehler-Yom, Evans, C., Park, M., J., Sheldon, J., Schoenfeld, I., Wendel, D., Scheintaub, H., Klopfer, E.'"
   ]
  },
  {
   "cell_type": "code",
   "execution_count": 48,
   "metadata": {},
   "outputs": [
    {
     "data": {
      "text/plain": [
       "['Yoon, S.,',\n",
       " 'Anderson, E.,',\n",
       " 'Evans, C.,',\n",
       " 'Park, M.,',\n",
       " 'Sheldon, J.,',\n",
       " 'Schoenfeld, I.,',\n",
       " 'Wendel, D.,',\n",
       " 'Scheintaub, H.,',\n",
       " 'Klopfer, E.']"
      ]
     },
     "execution_count": 48,
     "metadata": {},
     "output_type": "execute_result"
    }
   ],
   "source": [
    "re.findall(r'([A-Z][^\\W\\d_\\-]*\\,?\\&? [A-Z]\\.\\,?)', authors)"
   ]
  },
  {
   "cell_type": "markdown",
   "metadata": {},
   "source": [
    "A change of local seems to allow for better parsing!"
   ]
  },
  {
   "cell_type": "code",
   "execution_count": 49,
   "metadata": {},
   "outputs": [
    {
     "data": {
      "text/plain": [
       "'de_DE'"
      ]
     },
     "execution_count": 49,
     "metadata": {},
     "output_type": "execute_result"
    }
   ],
   "source": [
    "import locale\n",
    "locale.setlocale(locale.LC_ALL, 'de_DE')"
   ]
  },
  {
   "cell_type": "code",
   "execution_count": 50,
   "metadata": {},
   "outputs": [],
   "source": [
    "regex = r'([\\w\\-]*[\\,] [A-Z\\.\\ ]+[\\&\\,]?)'"
   ]
  },
  {
   "cell_type": "code",
   "execution_count": 51,
   "metadata": {},
   "outputs": [
    {
     "data": {
      "text/plain": [
       "['Abrahamson, D.,', 'Snüàchez-Gärca, R. S. ,']"
      ]
     },
     "execution_count": 51,
     "metadata": {},
     "output_type": "execute_result"
    }
   ],
   "source": [
    "authors = 'Abrahamson, D., Snüàchez-Gärca, R. S. ,'\n",
    "re.findall(regex, authors, re.U)"
   ]
  },
  {
   "cell_type": "code",
   "execution_count": 52,
   "metadata": {},
   "outputs": [],
   "source": [
    "#extract authors and clean strings a bit\n",
    "regex = r'([\\w\\-]*[\\,] [A-Z\\.\\ ]+[\\&\\,]?)'\n",
    "authors = references_df[~references_df.ref_parsed.isna()].ref_parsed.map(lambda x: re.findall(regex, x) ).tolist()\n",
    "authors = [ [a.replace(',', '').replace('&', '').rstrip() for a in l] for l in authors ]"
   ]
  },
  {
   "cell_type": "code",
   "execution_count": 53,
   "metadata": {},
   "outputs": [],
   "source": [
    "proto_frame = list(zip(authors, references_df[~references_df.ref_parsed.isna()].file.tolist()))"
   ]
  },
  {
   "cell_type": "code",
   "execution_count": 54,
   "metadata": {},
   "outputs": [],
   "source": [
    "#extract authors!\n",
    "authors_frame = pd.DataFrame([(i, index) for (l, index ) in proto_frame for i in l], columns=['author', 'file'])"
   ]
  },
  {
   "cell_type": "code",
   "execution_count": 55,
   "metadata": {},
   "outputs": [
    {
     "data": {
      "text/plain": [
       "<matplotlib.axes._subplots.AxesSubplot at 0x114a12470>"
      ]
     },
     "execution_count": 55,
     "metadata": {},
     "output_type": "execute_result"
    },
    {
     "data": {
      "image/png": "[encoded data removed]",
      "text/plain": [
       "<Figure size 432x288 with 1 Axes>"
      ]
     },
     "metadata": {
      "needs_background": "light"
     },
     "output_type": "display_data"
    }
   ],
   "source": [
    "authors_frame.author.value_counts().head(20).plot(kind='bar')"
   ]
  },
  {
   "cell_type": "code",
   "execution_count": 56,
   "metadata": {},
   "outputs": [
    {
     "data": {
      "text/plain": [
       "Scardamalia M.    184\n",
       "Dillenbourg P.    149\n",
       "Fischer F.        131\n",
       "Bereiter C.       127\n",
       "Stahl G.          106\n",
       "Weinberger A.      85\n",
       "Zhang J.           79\n",
       "Rummel N.          68\n",
       "Roschelle J.       63\n",
       "Collins A.         63\n",
       "Name: author, dtype: int64"
      ]
     },
     "execution_count": 56,
     "metadata": {},
     "output_type": "execute_result"
    }
   ],
   "source": [
    "authors_frame.author.value_counts().head(10)"
   ]
  },
  {
   "cell_type": "code",
   "execution_count": 57,
   "metadata": {},
   "outputs": [],
   "source": [
    "authors_frame.to_csv('data/Reference_authors.csv')"
   ]
  },
  {
   "cell_type": "markdown",
   "metadata": {},
   "source": [
    "## Trying to extract the conference"
   ]
  },
  {
   "cell_type": "code",
   "execution_count": 58,
   "metadata": {},
   "outputs": [
    {
     "data": {
      "text/plain": [
       "(47, 6)"
      ]
     },
     "execution_count": 58,
     "metadata": {},
     "output_type": "execute_result"
    }
   ],
   "source": [
    "references_df[references_df.ref.map(lambda x: 'CHI' in x)].shape"
   ]
  },
  {
   "cell_type": "code",
   "execution_count": 59,
   "metadata": {},
   "outputs": [
    {
     "data": {
      "text/plain": [
       "['Pandya, C., Batalova, J., & McHugh, M. (2011)',\n",
       " 'Limited English proficient individuals in the United States: Number, share, growth, and linguistic diversity',\n",
       " 'Washington, D.C.: Migration Policy Institute.']"
      ]
     },
     "execution_count": 59,
     "metadata": {},
     "output_type": "execute_result"
    }
   ],
   "source": [
    "text = references_df.sample().ref.item()\n",
    "re.split(r'\\. (?=[A-Z][A-Za-z])', text)"
   ]
  },
  {
   "cell_type": "code",
   "execution_count": 60,
   "metadata": {},
   "outputs": [
    {
     "data": {
      "text/plain": [
       "['Fallman, D. (2003). Design-oriented Human–Computer Interaction. Proceedings of the Conference on Human Factors in Computing Systems, CHI 2003, ACM Press, pp. 225–232.',\n",
       " 'Olson, J. S., Olson, G. M., & Meader, D. K. (1995). What mix of video and audio is useful for remote real-time work? In Proceedings of CHI ’95 (pp. 362–368). New York: ACM Press.',\n",
       " 'Hornecker, E., & Buur, J. (2006). Getting a Grip on Tangible Interaction: A Framework on Physical Space and Social Interaction. In Proceedings of the SIGCHI Conference on Human Factors in Computing Systems (pp. 437–446). New York, NY, USA: ACM.',\n",
       " 'Schneider, B. (2014). The Perceptual Benefits of a Tangible Interface Decrease with Users’ Expertise. In CHI ’14 Ext. Abstracts on Human Factors in Computing Systems (963–968). New York, NY, USA: ACM.']"
      ]
     },
     "execution_count": 60,
     "metadata": {},
     "output_type": "execute_result"
    }
   ],
   "source": [
    "references_df[references_df.ref.map(lambda x: 'CHI' in x)].sample(4).ref.tolist()"
   ]
  },
  {
   "cell_type": "code",
   "execution_count": 61,
   "metadata": {},
   "outputs": [
    {
     "data": {
      "text/plain": [
       "(56, 6)"
      ]
     },
     "execution_count": 61,
     "metadata": {},
     "output_type": "execute_result"
    }
   ],
   "source": [
    "references_df[references_df.ref.map(lambda x: 'ICLS' in x)].shape"
   ]
  },
  {
   "cell_type": "code",
   "execution_count": 62,
   "metadata": {},
   "outputs": [],
   "source": [
    "text= '/hdfk/2017/r8475'\n",
    "re.search('\\d{3}(0|2|4|6|8)', text)"
   ]
  },
  {
   "cell_type": "code",
   "execution_count": 63,
   "metadata": {},
   "outputs": [],
   "source": [
    "references_df['conference'] = references_df.file.map(lambda x: 'ICLS' if re.search('\\d{3}(0|2|4|6|8)', x) else 'CSCL')"
   ]
  },
  {
   "cell_type": "code",
   "execution_count": 64,
   "metadata": {},
   "outputs": [
    {
     "data": {
      "text/plain": [
       "CSCL    301\n",
       "ICLS     72\n",
       "Name: conference, dtype: int64"
      ]
     },
     "execution_count": 64,
     "metadata": {},
     "output_type": "execute_result"
    }
   ],
   "source": [
    "references_df[references_df.ref.map(lambda x: 'CSCL' in x)].conference.value_counts()"
   ]
  },
  {
   "cell_type": "code",
   "execution_count": 65,
   "metadata": {},
   "outputs": [
    {
     "data": {
      "text/plain": [
       "CSCL    43\n",
       "ICLS    13\n",
       "Name: conference, dtype: int64"
      ]
     },
     "execution_count": 65,
     "metadata": {},
     "output_type": "execute_result"
    }
   ],
   "source": [
    "references_df[references_df.ref.map(lambda x: 'ICLS' in x)].conference.value_counts()"
   ]
  },
  {
   "cell_type": "code",
   "execution_count": 66,
   "metadata": {},
   "outputs": [
    {
     "data": {
      "text/plain": [
       "conference\n",
       "CSCL    AxesSubplot(0.125,0.125;0.775x0.755)\n",
       "ICLS    AxesSubplot(0.125,0.125;0.775x0.755)\n",
       "Name: counts, dtype: object"
      ]
     },
     "execution_count": 66,
     "metadata": {},
     "output_type": "execute_result"
    },
    {
     "data": {
      "image/png": "[encoded data removed]",
      "text/plain": [
       "<Figure size 432x288 with 1 Axes>"
      ]
     },
     "metadata": {
      "needs_background": "light"
     },
     "output_type": "display_data"
    }
   ],
   "source": [
    "references_df.join(ref_counts, on='file').groupby('conference').counts.plot(kind='hist')"
   ]
  },
  {
   "cell_type": "code",
   "execution_count": 67,
   "metadata": {},
   "outputs": [
    {
     "data": {
      "text/plain": [
       "CSCL    5432\n",
       "ICLS    3212\n",
       "Name: conference, dtype: int64"
      ]
     },
     "execution_count": 67,
     "metadata": {},
     "output_type": "execute_result"
    }
   ],
   "source": [
    "references_df.conference.value_counts()"
   ]
  },
  {
   "cell_type": "code",
   "execution_count": 68,
   "metadata": {},
   "outputs": [
    {
     "data": {
      "text/plain": [
       "file                conference\n",
       "import2015full/105  CSCL          33\n",
       "import2015full/122  CSCL          33\n",
       "import2015full/126  CSCL          45\n",
       "import2015full/136  CSCL           8\n",
       "import2015full/146  CSCL          23\n",
       "import2015full/150  CSCL          20\n",
       "import2015full/154  CSCL          21\n",
       "import2015full/158  CSCL          39\n",
       "import2015full/162  CSCL          47\n",
       "import2015full/165  CSCL          34\n",
       "import2015full/167  CSCL          34\n",
       "import2015full/169  CSCL          35\n",
       "import2015full/171  CSCL          21\n",
       "import2015full/172  CSCL          17\n",
       "import2015full/176  CSCL          22\n",
       "import2015full/178  CSCL           9\n",
       "import2015full/182  CSCL          14\n",
       "import2015full/185  CSCL          19\n",
       "import2015full/189  CSCL          28\n",
       "import2015full/191  CSCL          29\n",
       "import2015full/192  CSCL          24\n",
       "import2015full/197  CSCL          21\n",
       "import2015full/204  CSCL          16\n",
       "import2015full/206  CSCL          24\n",
       "import2015full/209  CSCL          78\n",
       "import2015full/217  CSCL          10\n",
       "import2015full/221  CSCL          16\n",
       "import2015full/222  CSCL          17\n",
       "import2015full/232  CSCL          16\n",
       "import2015full/250  CSCL          18\n",
       "                                  ..\n",
       "import2017/72       CSCL          12\n",
       "import2017/73       CSCL           7\n",
       "import2017/74       CSCL          14\n",
       "import2017/75       CSCL          23\n",
       "import2017/76       CSCL          24\n",
       "import2017/77       CSCL           8\n",
       "import2017/78       CSCL           9\n",
       "import2017/79       CSCL           9\n",
       "import2017/8        CSCL          22\n",
       "import2017/80       CSCL          12\n",
       "import2017/81       CSCL          18\n",
       "import2017/82       CSCL          10\n",
       "import2017/83       CSCL          11\n",
       "import2017/84       CSCL          15\n",
       "import2017/85       CSCL          12\n",
       "import2017/86       CSCL          11\n",
       "import2017/87       CSCL          10\n",
       "import2017/88       CSCL          12\n",
       "import2017/89       CSCL          11\n",
       "import2017/9        CSCL          27\n",
       "import2017/90       CSCL           5\n",
       "import2017/91       CSCL          20\n",
       "import2017/92       CSCL          26\n",
       "import2017/93       CSCL          12\n",
       "import2017/94       CSCL          12\n",
       "import2017/95       CSCL          12\n",
       "import2017/96       CSCL           7\n",
       "import2017/97       CSCL          14\n",
       "import2017/98       CSCL           4\n",
       "import2017/99       CSCL          16\n",
       "Name: conference, Length: 420, dtype: int64"
      ]
     },
     "execution_count": 68,
     "metadata": {},
     "output_type": "execute_result"
    }
   ],
   "source": [
    "references_df.groupby('file').conference.value_counts()"
   ]
  },
  {
   "cell_type": "markdown",
   "metadata": {},
   "source": [
    "## trying to parse acm authors"
   ]
  },
  {
   "cell_type": "markdown",
   "metadata": {},
   "source": [
    "We see that there aren't that many, so we won't parse them for not"
   ]
  },
  {
   "cell_type": "code",
   "execution_count": 69,
   "metadata": {},
   "outputs": [
    {
     "name": "stdout",
     "output_type": "stream",
     "text": [
      "Eisenhardt, K. M. 2000. \n",
      "Campbell, L., and B. Campbell. 2009. \n",
      "with ScienceKit. Paper presented at CSCL 2015. \n",
      "Edmondson, A. C. 1999. \n",
      "supports collaboration in a tabletop activity. In Proceedings of GROUP 2014. \n",
      "sketching practices in a learning by design task. Paper presented at CSCL 2013. \n",
      "Systems, ITS2011. \n",
      "Stahl, G., 2006. \n",
      "Gilbert, Jane. 2005. \n",
      "Dewey, 1913. \n",
      "Gee, J. P. 2011. \n",
      "Innovating Pedagogy 2012. \n",
      "Edmondson, A. C. 1999. \n",
      "supports collaboration in a tabletop activity. In Proceedings of GROUP 2014. \n",
      "sketching practices in a learning by design task. Paper presented at CSCL 2013. \n",
      "Systems, ITS2011. \n",
      "Stahl, G., 2006. \n",
      "In Advanced Learning Technologies, 2003. \n",
      "Milheim, K. 2007. \n",
      "Condition of Education 2015. \n",
      "In Ubiquitous Virtual Reality, 2009. \n",
      "of Oregon, 1968. \n",
      "Dillenbourg, P. 1999. \n",
      "Halverson, E.R. and Sheridan, K. 2014. \n",
      "Klahr, D. and Nigam, M. 2004. \n",
      "supports collaboration in a tabletop activity. In Proceedings of GROUP 2014. \n",
      "the Proceedings of International Conference of Learning Sciences 2008. \n",
      "workspace. In Virtual Reality, 2004. \n",
      "McKenzie, W., and Murphy, D. 2000. \n"
     ]
    }
   ],
   "source": [
    "ACM_authors = []\n",
    "for i, ref in enumerate(references):\n",
    "    for sentence in ref:\n",
    "        s =  re.findall(r'[a-zA-Z\\ \\. \\,]*\\d{4}\\. ', sentence)\n",
    "        if re.match(r'[a-zA-Z\\ \\. \\,]*\\d{4}\\. ', sentence) and not 'http' in s[0].lower() and len(s[0]) > 10:\n",
    "            #print(sentence)\n",
    "            print(s[0])\n",
    "            #apa_authors.append((re.findall(r'.*\\(\\d{4}\\)', sentence)[0], source[i]))"
   ]
  },
  {
   "cell_type": "code",
   "execution_count": 70,
   "metadata": {},
   "outputs": [
    {
     "data": {
      "text/plain": [
       "<re.Match object; span=(0, 55), match='https://www.nsf.gov/funding/pgm_summ.jsp?pims_id=>"
      ]
     },
     "execution_count": 70,
     "metadata": {},
     "output_type": "execute_result"
    }
   ],
   "source": [
    "re.match(r'(.*\\d{4}\\. )', \"https://www.nsf.gov/funding/pgm_summ.jsp?pims_id=5467. Retrieved August 19, 2016.\")"
   ]
  },
  {
   "cell_type": "code",
   "execution_count": 71,
   "metadata": {},
   "outputs": [],
   "source": [
    "m = re.match(r'.*\\d{4}\\. ', 'https://www.nsf.gov/funding/pgm_summ.jsp?pims_id=5467. Retrieved August 19, 2016.')"
   ]
  },
  {
   "cell_type": "code",
   "execution_count": 72,
   "metadata": {},
   "outputs": [
    {
     "data": {
      "text/plain": [
       "['McKenzie, W., and Murphy, D. 2000. ']"
      ]
     },
     "execution_count": 72,
     "metadata": {},
     "output_type": "execute_result"
    }
   ],
   "source": [
    "re.findall(r'[a-zA-Z\\ \\. \\,]*\\d{4}\\. ', 'McKenzie, W., and Murphy, D. 2000. “I hope this goes somewhere”: Evaluation of an on')"
   ]
  },
  {
   "cell_type": "code",
   "execution_count": null,
   "metadata": {},
   "outputs": [],
   "source": []
  }
 ],
 "metadata": {
  "kernelspec": {
   "display_name": "Python 3",
   "language": "python",
   "name": "python3"
  },
  "language_info": {
   "codemirror_mode": {
    "name": "ipython",
    "version": 3
   },
   "file_extension": ".py",
   "mimetype": "text/x-python",
   "name": "python",
   "nbconvert_exporter": "python",
   "pygments_lexer": "ipython3",
   "version": "3.7.0"
  }
 },
 "nbformat": 4,
 "nbformat_minor": 2
}
