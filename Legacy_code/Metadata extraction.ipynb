{
 "cells": [
  {
   "cell_type": "code",
   "execution_count": 1,
   "metadata": {},
   "outputs": [],
   "source": [
    "from lxml import etree\n",
    "import json\n",
    "import pandas as pd\n",
    "import matplotlib.pyplot as plt \n",
    "%matplotlib inline  \n",
    "import seaborn as sns\n"
   ]
  },
  {
   "cell_type": "markdown",
   "metadata": {},
   "source": [
    "# Parsing "
   ]
  },
  {
   "cell_type": "code",
   "execution_count": 2,
   "metadata": {},
   "outputs": [],
   "source": [
    "def parse(file_path): \n",
    "    i = 0 \n",
    "    tmp = ''\n",
    "    key = ''\n",
    "    xml2 = etree.iterparse(file_path, recover=True)\n",
    "    data = []\n",
    "    for action, elem in xml2:\n",
    "        data.append((elem.attrib, elem.tag, elem.text))\n",
    "    data_dict = {}\n",
    "    \n",
    "    for attrib, tag, text in data: \n",
    "        try : \n",
    "            tmp = key\n",
    "            \n",
    "            key = attrib.get('qualifier')\n",
    "            element = attrib.get('element')\n",
    "            \n",
    "            #way to distinguish eliminate some nan!\n",
    "            if key == 'none':\n",
    "                key = element\n",
    "            \n",
    "            if key in data_dict.keys() : \n",
    "                i = i + 1 \n",
    "                data_dict[key + str(i)] = text\n",
    "            else : \n",
    "                i = 0 \n",
    "                data_dict[key] = text\n",
    "                \n",
    "        except TypeError: \n",
    "            if 'subject' in tag:\n",
    "                if 'subject' in data_dict.keys():\n",
    "                    data_dict['subject'].append(text)\n",
    "                else:\n",
    "                    data_dict['subject'] = [text]\n",
    "\n",
    "    return data_dict\n"
   ]
  },
  {
   "cell_type": "markdown",
   "metadata": {},
   "source": [
    "### Get all data "
   ]
  },
  {
   "cell_type": "code",
   "execution_count": 4,
   "metadata": {},
   "outputs": [],
   "source": [
    "import os\n",
    "rootdir = '/Users/lguillain/Documents/EPFL2018/Git-semester-project/papers-import/'"
   ]
  },
  {
   "cell_type": "code",
   "execution_count": 5,
   "metadata": {},
   "outputs": [],
   "source": [
    "all_data = {}\n",
    "i= 0\n",
    "for subdir, dirs, files in os.walk(rootdir):\n",
    "    for file in files:\n",
    "        path = os.path.join(subdir, file)\n",
    "        if 'dublin_core' in (path) :\n",
    "            i += 1\n",
    "            num_doc = subdir[len(rootdir):]\n",
    "            all_data[num_doc] = parse(path)"
   ]
  },
  {
   "cell_type": "code",
   "execution_count": 6,
   "metadata": {},
   "outputs": [
    {
     "name": "stdout",
     "output_type": "stream",
     "text": [
      "got data from 874 files\n"
     ]
    }
   ],
   "source": [
    "print('got data from {} files'.format(i))"
   ]
  },
  {
   "cell_type": "code",
   "execution_count": 7,
   "metadata": {},
   "outputs": [],
   "source": [
    "df_data = pd.DataFrame(list(all_data.values()), index=all_data.keys())"
   ]
  },
  {
   "cell_type": "code",
   "execution_count": 8,
   "metadata": {},
   "outputs": [],
   "source": [
    "def convert(arg): \n",
    "    try : \n",
    "        arg = dateutil.parser.parse(arg)\n",
    "    except TypeError: \n",
    "        arg = arg \n",
    "    return arg "
   ]
  },
  {
   "cell_type": "code",
   "execution_count": 9,
   "metadata": {},
   "outputs": [],
   "source": [
    "import dateutil.parser\n",
    "df_data['available'] = df_data['available'].apply(lambda x : convert(x))\n",
    "df_data['accessioned'] = df_data['accessioned'].apply(lambda x : convert(x))"
   ]
  },
  {
   "cell_type": "code",
   "execution_count": 10,
   "metadata": {},
   "outputs": [
    {
     "data": {
      "text/html": [
       "<div>\n",
       "<style scoped>\n",
       "    .dataframe tbody tr th:only-of-type {\n",
       "        vertical-align: middle;\n",
       "    }\n",
       "\n",
       "    .dataframe tbody tr th {\n",
       "        vertical-align: top;\n",
       "    }\n",
       "\n",
       "    .dataframe thead th {\n",
       "        text-align: right;\n",
       "    }\n",
       "</style>\n",
       "<table border=\"1\" class=\"dataframe\">\n",
       "  <thead>\n",
       "    <tr style=\"text-align: right;\">\n",
       "      <th></th>\n",
       "      <th>abstract</th>\n",
       "      <th>accessioned</th>\n",
       "      <th>author</th>\n",
       "      <th>author1</th>\n",
       "      <th>author2</th>\n",
       "      <th>author3</th>\n",
       "      <th>available</th>\n",
       "      <th>citation</th>\n",
       "      <th>iso</th>\n",
       "      <th>issued</th>\n",
       "      <th>...</th>\n",
       "      <th>author17</th>\n",
       "      <th>author18</th>\n",
       "      <th>author19</th>\n",
       "      <th>author20</th>\n",
       "      <th>author21</th>\n",
       "      <th>author22</th>\n",
       "      <th>author23</th>\n",
       "      <th>author24</th>\n",
       "      <th>author25</th>\n",
       "      <th>author26</th>\n",
       "    </tr>\n",
       "  </thead>\n",
       "  <tbody>\n",
       "    <tr>\n",
       "      <th>import2016full/78</th>\n",
       "      <td>Students often have problems formulating und u...</td>\n",
       "      <td>2017-03-21 12:05:42+00:00</td>\n",
       "      <td>Vogel, Freydis</td>\n",
       "      <td>Kollar, Ingo</td>\n",
       "      <td>Ufer, Stefan</td>\n",
       "      <td>Reiss, Kristina</td>\n",
       "      <td>2017-03-21 12:05:42+00:00</td>\n",
       "      <td>Vogel, F., Kollar, I., Ufer, S., Reiss, K., &amp; ...</td>\n",
       "      <td>en</td>\n",
       "      <td>2016-07</td>\n",
       "      <td>...</td>\n",
       "      <td>NaN</td>\n",
       "      <td>NaN</td>\n",
       "      <td>NaN</td>\n",
       "      <td>NaN</td>\n",
       "      <td>NaN</td>\n",
       "      <td>NaN</td>\n",
       "      <td>NaN</td>\n",
       "      <td>NaN</td>\n",
       "      <td>NaN</td>\n",
       "      <td>NaN</td>\n",
       "    </tr>\n",
       "    <tr>\n",
       "      <th>import2015short/373</th>\n",
       "      <td>Argumentation scripts have been proposed as an...</td>\n",
       "      <td>2017-06-19 14:51:54+00:00</td>\n",
       "      <td>Vogel, Freydis</td>\n",
       "      <td>Kollar, Ingo</td>\n",
       "      <td>Ufer, Stefan</td>\n",
       "      <td>Reichersdorfer, Elisabeth</td>\n",
       "      <td>2017-06-19 14:51:54+00:00</td>\n",
       "      <td>Vogel, F., Kollar, I., Ufer, S., Reichersdorfe...</td>\n",
       "      <td>en</td>\n",
       "      <td>2015-07</td>\n",
       "      <td>...</td>\n",
       "      <td>NaN</td>\n",
       "      <td>NaN</td>\n",
       "      <td>NaN</td>\n",
       "      <td>NaN</td>\n",
       "      <td>NaN</td>\n",
       "      <td>NaN</td>\n",
       "      <td>NaN</td>\n",
       "      <td>NaN</td>\n",
       "      <td>NaN</td>\n",
       "      <td>NaN</td>\n",
       "    </tr>\n",
       "  </tbody>\n",
       "</table>\n",
       "<p>2 rows × 39 columns</p>\n",
       "</div>"
      ],
      "text/plain": [
       "                                                              abstract  \\\n",
       "import2016full/78    Students often have problems formulating und u...   \n",
       "import2015short/373  Argumentation scripts have been proposed as an...   \n",
       "\n",
       "                                  accessioned          author       author1  \\\n",
       "import2016full/78   2017-03-21 12:05:42+00:00  Vogel, Freydis  Kollar, Ingo   \n",
       "import2015short/373 2017-06-19 14:51:54+00:00  Vogel, Freydis  Kollar, Ingo   \n",
       "\n",
       "                          author2                    author3  \\\n",
       "import2016full/78    Ufer, Stefan            Reiss, Kristina   \n",
       "import2015short/373  Ufer, Stefan  Reichersdorfer, Elisabeth   \n",
       "\n",
       "                                    available  \\\n",
       "import2016full/78   2017-03-21 12:05:42+00:00   \n",
       "import2015short/373 2017-06-19 14:51:54+00:00   \n",
       "\n",
       "                                                              citation iso  \\\n",
       "import2016full/78    Vogel, F., Kollar, I., Ufer, S., Reiss, K., & ...  en   \n",
       "import2015short/373  Vogel, F., Kollar, I., Ufer, S., Reichersdorfe...  en   \n",
       "\n",
       "                      issued   ...    author17 author18 author19 author20  \\\n",
       "import2016full/78    2016-07   ...         NaN      NaN      NaN      NaN   \n",
       "import2015short/373  2015-07   ...         NaN      NaN      NaN      NaN   \n",
       "\n",
       "                    author21 author22 author23 author24 author25 author26  \n",
       "import2016full/78        NaN      NaN      NaN      NaN      NaN      NaN  \n",
       "import2015short/373      NaN      NaN      NaN      NaN      NaN      NaN  \n",
       "\n",
       "[2 rows x 39 columns]"
      ]
     },
     "execution_count": 10,
     "metadata": {},
     "output_type": "execute_result"
    }
   ],
   "source": [
    "df_data[df_data['author'].str.contains(\"Vogel\")]"
   ]
  },
  {
   "cell_type": "code",
   "execution_count": 11,
   "metadata": {},
   "outputs": [
    {
     "data": {
      "text/plain": [
       "Index([   'abstract', 'accessioned',      'author',     'author1',\n",
       "           'author2',     'author3',   'available',    'citation',\n",
       "               'iso',      'issued',   'publisher',       'title',\n",
       "              'type',         'uri',          None,     'author4',\n",
       "           'author5',     'author6',     'author7',     'author8',\n",
       "           'subject',     'author9',    'author10',    'author11',\n",
       "          'author12',    'author13',    'author14',    'author15',\n",
       "          'author16',    'author17',    'author18',    'author19',\n",
       "          'author20',    'author21',    'author22',    'author23',\n",
       "          'author24',    'author25',    'author26'],\n",
       "      dtype='object')"
      ]
     },
     "execution_count": 11,
     "metadata": {},
     "output_type": "execute_result"
    }
   ],
   "source": [
    "df_data.columns"
   ]
  },
  {
   "cell_type": "markdown",
   "metadata": {},
   "source": [
    "# Getting all authors in to one dataframe:"
   ]
  },
  {
   "cell_type": "code",
   "execution_count": 13,
   "metadata": {},
   "outputs": [],
   "source": [
    "cleaning = df_data.reset_index().melt(id_vars=['index','subject', 'iso', 'uri','type','publisher','title', 'issued', 'accessioned', 'citation', 'available', 'abstract'])\n",
    "\n",
    "cleaning.dropna(inplace=True)\n",
    "cleaning = cleaning[cleaning.value.map(lambda x: len(x) > 2)]\n",
    "\n",
    "cleaning['author_name_length'] = cleaning.value.map(lambda x: len(x))"
   ]
  },
  {
   "cell_type": "code",
   "execution_count": 15,
   "metadata": {},
   "outputs": [
    {
     "data": {
      "text/html": [
       "<div>\n",
       "<style scoped>\n",
       "    .dataframe tbody tr th:only-of-type {\n",
       "        vertical-align: middle;\n",
       "    }\n",
       "\n",
       "    .dataframe tbody tr th {\n",
       "        vertical-align: top;\n",
       "    }\n",
       "\n",
       "    .dataframe thead th {\n",
       "        text-align: right;\n",
       "    }\n",
       "</style>\n",
       "<table border=\"1\" class=\"dataframe\">\n",
       "  <thead>\n",
       "    <tr style=\"text-align: right;\">\n",
       "      <th></th>\n",
       "      <th>index</th>\n",
       "      <th>subject</th>\n",
       "      <th>iso</th>\n",
       "      <th>uri</th>\n",
       "      <th>type</th>\n",
       "      <th>publisher</th>\n",
       "      <th>title</th>\n",
       "      <th>issued</th>\n",
       "      <th>accessioned</th>\n",
       "      <th>citation</th>\n",
       "      <th>available</th>\n",
       "      <th>abstract</th>\n",
       "      <th>variable</th>\n",
       "      <th>value</th>\n",
       "      <th>author_name_length</th>\n",
       "    </tr>\n",
       "  </thead>\n",
       "  <tbody>\n",
       "  </tbody>\n",
       "</table>\n",
       "</div>"
      ],
      "text/plain": [
       "Empty DataFrame\n",
       "Columns: [index, subject, iso, uri, type, publisher, title, issued, accessioned, citation, available, abstract, variable, value, author_name_length]\n",
       "Index: []"
      ]
     },
     "execution_count": 15,
     "metadata": {},
     "output_type": "execute_result"
    }
   ],
   "source": [
    "cleaning[cleaning.author_name_length < 5]"
   ]
  },
  {
   "cell_type": "code",
   "execution_count": 16,
   "metadata": {},
   "outputs": [],
   "source": [
    "import re\n",
    "cleaning['author_order'] = cleaning.variable.map(lambda x: 0 if len(re.search('\\d*$', x).group(0)) == 0 else int(re.search('\\d*$', x).group(0)))"
   ]
  },
  {
   "cell_type": "code",
   "execution_count": 18,
   "metadata": {},
   "outputs": [],
   "source": [
    "del cleaning['variable']"
   ]
  },
  {
   "cell_type": "code",
   "execution_count": 20,
   "metadata": {},
   "outputs": [
    {
     "data": {
      "image/png": "[encoded data removed]",
      "text/plain": [
       "<Figure size 432x288 with 1 Axes>"
      ]
     },
     "metadata": {
      "needs_background": "light"
     },
     "output_type": "display_data"
    },
    {
     "data": {
      "image/png": "[encoded data removed]",
      "text/plain": [
       "<Figure size 432x288 with 1 Axes>"
      ]
     },
     "metadata": {
      "needs_background": "light"
     },
     "output_type": "display_data"
    },
    {
     "data": {
      "text/plain": [
       "<matplotlib.axes._subplots.AxesSubplot at 0x11ff20b70>"
      ]
     },
     "execution_count": 20,
     "metadata": {},
     "output_type": "execute_result"
    },
    {
     "data": {
      "image/png": "[encoded data removed]",
      "text/plain": [
       "<Figure size 432x288 with 1 Axes>"
      ]
     },
     "metadata": {
      "needs_background": "light"
     },
     "output_type": "display_data"
    }
   ],
   "source": [
    "cleaning.value.value_counts().head().plot(kind='bar')\n",
    "plt.show()\n",
    "cleaning.publisher.value_counts().head().plot(kind='bar')\n",
    "plt.show()\n",
    "cleaning.type.value_counts().head().plot(kind='bar')"
   ]
  },
  {
   "cell_type": "code",
   "execution_count": 21,
   "metadata": {},
   "outputs": [
    {
     "data": {
      "text/plain": [
       "import2018/274          27\n",
       "import2018/280          23\n",
       "import2018/276          21\n",
       "import2018/272          20\n",
       "import2015short/1110    18\n",
       "import2018/268          18\n",
       "import2018/271          18\n",
       "import2018/282          17\n",
       "import2018/281          17\n",
       "import2015short/1107    15\n",
       "import2015short/1103    14\n",
       "import2018/265          14\n",
       "import2018/279          13\n",
       "import2018/273          13\n",
       "import2018/270          12\n",
       "import2015short/1118    11\n",
       "import2015short/165     10\n",
       "import2018/266          10\n",
       "import2017/94           10\n",
       "import2015full/165      10\n",
       "import2017/43           10\n",
       "import2018/317           9\n",
       "import2018/304           9\n",
       "import2018/275           9\n",
       "import2015full/176       9\n",
       "import2015short/176      9\n",
       "import2018/284           9\n",
       "import2017/86            8\n",
       "import2018/191           8\n",
       "import2018/283           8\n",
       "                        ..\n",
       "import2018/422           1\n",
       "import2018/468           1\n",
       "import2018/510           1\n",
       "import2018/435           1\n",
       "import2018/499           1\n",
       "import2018/466           1\n",
       "import2017/50            1\n",
       "import2018/35            1\n",
       "import2018/246           1\n",
       "import2015full/340       1\n",
       "import2015full/154       1\n",
       "import2018/418           1\n",
       "import2018/190           1\n",
       "import2018/476           1\n",
       "import2018/446           1\n",
       "import2018/299           1\n",
       "import2018/322           1\n",
       "import2018/231           1\n",
       "import2018/457           1\n",
       "import2018/473           1\n",
       "import2015short/340      1\n",
       "import2018/334           1\n",
       "import2018/419           1\n",
       "import2015full/105       1\n",
       "import2018/59            1\n",
       "import2018/225           1\n",
       "import2018/198           1\n",
       "import2017/109           1\n",
       "import2018/335           1\n",
       "import2018/423           1\n",
       "Name: index, Length: 642, dtype: int64"
      ]
     },
     "execution_count": 21,
     "metadata": {},
     "output_type": "execute_result"
    }
   ],
   "source": [
    "cleaning['index'].value_counts()"
   ]
  },
  {
   "cell_type": "code",
   "execution_count": 22,
   "metadata": {},
   "outputs": [
    {
     "data": {
      "text/html": [
       "<div>\n",
       "<style scoped>\n",
       "    .dataframe tbody tr th:only-of-type {\n",
       "        vertical-align: middle;\n",
       "    }\n",
       "\n",
       "    .dataframe tbody tr th {\n",
       "        vertical-align: top;\n",
       "    }\n",
       "\n",
       "    .dataframe thead th {\n",
       "        text-align: right;\n",
       "    }\n",
       "</style>\n",
       "<table border=\"1\" class=\"dataframe\">\n",
       "  <thead>\n",
       "    <tr style=\"text-align: right;\">\n",
       "      <th></th>\n",
       "      <th>index</th>\n",
       "      <th>subject</th>\n",
       "      <th>iso</th>\n",
       "      <th>uri</th>\n",
       "      <th>type</th>\n",
       "      <th>publisher</th>\n",
       "      <th>title</th>\n",
       "      <th>issued</th>\n",
       "      <th>accessioned</th>\n",
       "      <th>citation</th>\n",
       "      <th>available</th>\n",
       "      <th>abstract</th>\n",
       "      <th>value</th>\n",
       "      <th>author_name_length</th>\n",
       "      <th>author_order</th>\n",
       "    </tr>\n",
       "  </thead>\n",
       "  <tbody>\n",
       "    <tr>\n",
       "      <th>92</th>\n",
       "      <td>import2015full/307</td>\n",
       "      <td>[research questions, research methods, CSCL, r...</td>\n",
       "      <td>en</td>\n",
       "      <td>https://doi.dx.org/10.22318/cscl2015.307</td>\n",
       "      <td>Book chapter</td>\n",
       "      <td>International Society of the Learning Science...</td>\n",
       "      <td>Research Questions and Research Methods in CSC...</td>\n",
       "      <td>2015-07</td>\n",
       "      <td>2017-06-19 14:15:51+00:00</td>\n",
       "      <td>Jeong, H. &amp; Hmelo-Silver, C. E. (2015). Resear...</td>\n",
       "      <td>2017-06-19 14:15:51+00:00</td>\n",
       "      <td>While research questions play a critical role ...</td>\n",
       "      <td>Jeong, Heisawn</td>\n",
       "      <td>14</td>\n",
       "      <td>0</td>\n",
       "    </tr>\n",
       "    <tr>\n",
       "      <th>93</th>\n",
       "      <td>import2015full/309</td>\n",
       "      <td>[learning through design, location-based games...</td>\n",
       "      <td>en</td>\n",
       "      <td>https://doi.dx.org/10.22318/cscl2015.309</td>\n",
       "      <td>Book chapter</td>\n",
       "      <td>International Society of the Learning Science...</td>\n",
       "      <td>Students’ Design Decisions in Collaborative De...</td>\n",
       "      <td>2015-07</td>\n",
       "      <td>2017-06-19 14:15:51+00:00</td>\n",
       "      <td>Wake, J. D., Guribye, F., &amp; Wasson, B. (2015)....</td>\n",
       "      <td>2017-06-19 14:15:51+00:00</td>\n",
       "      <td>This paper describes a study of students desig...</td>\n",
       "      <td>Wake, Jo Dugstad</td>\n",
       "      <td>16</td>\n",
       "      <td>0</td>\n",
       "    </tr>\n",
       "    <tr>\n",
       "      <th>94</th>\n",
       "      <td>import2015full/391</td>\n",
       "      <td>[sociometacognition, regulation of collaborati...</td>\n",
       "      <td>en</td>\n",
       "      <td>https://doi.dx.org/10.22318/cscl2015.391</td>\n",
       "      <td>Book chapter</td>\n",
       "      <td>International Society of the Learning Science...</td>\n",
       "      <td>Activity Design Models to Support the Developm...</td>\n",
       "      <td>2015-07</td>\n",
       "      <td>2017-06-19 14:15:51+00:00</td>\n",
       "      <td>Borge, M., Ong, Y. S., &amp; Rosé, C. P. (2015). ...</td>\n",
       "      <td>2017-06-19 14:15:51+00:00</td>\n",
       "      <td>In this paper we assess the utility of an acti...</td>\n",
       "      <td>Borge, Marcela</td>\n",
       "      <td>14</td>\n",
       "      <td>0</td>\n",
       "    </tr>\n",
       "    <tr>\n",
       "      <th>95</th>\n",
       "      <td>import2015full/150</td>\n",
       "      <td>[touchscreens, embodied interaction, knowledge...</td>\n",
       "      <td>en</td>\n",
       "      <td>https://doi.dx.org/10.22318/cscl2015.150</td>\n",
       "      <td>Book chapter</td>\n",
       "      <td>International Society of the Learning Science...</td>\n",
       "      <td>“This Is the Size of One Meter”: Children’s Bo...</td>\n",
       "      <td>2015-07</td>\n",
       "      <td>2017-06-19 14:15:51+00:00</td>\n",
       "      <td>Davidsen, J. &amp; Ryberg, T. (2015). “This Is the...</td>\n",
       "      <td>2017-06-19 14:15:51+00:00</td>\n",
       "      <td>In CSCL studies, language is often foregrounde...</td>\n",
       "      <td>Davidsen, Jacob</td>\n",
       "      <td>15</td>\n",
       "      <td>0</td>\n",
       "    </tr>\n",
       "    <tr>\n",
       "      <th>96</th>\n",
       "      <td>import2015full/192</td>\n",
       "      <td>[assessment, learning, technology, collaborati...</td>\n",
       "      <td>en</td>\n",
       "      <td>https://doi.dx.org/10.22318/cscl2015.192</td>\n",
       "      <td>Book chapter</td>\n",
       "      <td>International Society of the Learning Science...</td>\n",
       "      <td>Assessment and Collaborative Inquiry: A Review...</td>\n",
       "      <td>2015-07</td>\n",
       "      <td>2017-06-19 14:15:51+00:00</td>\n",
       "      <td>Yang, Y. &amp; van Aalst, J. (2015). Assessment an...</td>\n",
       "      <td>2017-06-19 14:15:51+00:00</td>\n",
       "      <td>We provide a conceptual review of the research...</td>\n",
       "      <td>Yang, Yuqin</td>\n",
       "      <td>11</td>\n",
       "      <td>0</td>\n",
       "    </tr>\n",
       "  </tbody>\n",
       "</table>\n",
       "</div>"
      ],
      "text/plain": [
       "                 index                                            subject iso  \\\n",
       "92  import2015full/307  [research questions, research methods, CSCL, r...  en   \n",
       "93  import2015full/309  [learning through design, location-based games...  en   \n",
       "94  import2015full/391  [sociometacognition, regulation of collaborati...  en   \n",
       "95  import2015full/150  [touchscreens, embodied interaction, knowledge...  en   \n",
       "96  import2015full/192  [assessment, learning, technology, collaborati...  en   \n",
       "\n",
       "                                         uri          type  \\\n",
       "92  https://doi.dx.org/10.22318/cscl2015.307  Book chapter   \n",
       "93  https://doi.dx.org/10.22318/cscl2015.309  Book chapter   \n",
       "94  https://doi.dx.org/10.22318/cscl2015.391  Book chapter   \n",
       "95  https://doi.dx.org/10.22318/cscl2015.150  Book chapter   \n",
       "96  https://doi.dx.org/10.22318/cscl2015.192  Book chapter   \n",
       "\n",
       "                                            publisher  \\\n",
       "92   International Society of the Learning Science...   \n",
       "93   International Society of the Learning Science...   \n",
       "94   International Society of the Learning Science...   \n",
       "95   International Society of the Learning Science...   \n",
       "96   International Society of the Learning Science...   \n",
       "\n",
       "                                                title   issued  \\\n",
       "92  Research Questions and Research Methods in CSC...  2015-07   \n",
       "93  Students’ Design Decisions in Collaborative De...  2015-07   \n",
       "94  Activity Design Models to Support the Developm...  2015-07   \n",
       "95  “This Is the Size of One Meter”: Children’s Bo...  2015-07   \n",
       "96  Assessment and Collaborative Inquiry: A Review...  2015-07   \n",
       "\n",
       "                 accessioned  \\\n",
       "92 2017-06-19 14:15:51+00:00   \n",
       "93 2017-06-19 14:15:51+00:00   \n",
       "94 2017-06-19 14:15:51+00:00   \n",
       "95 2017-06-19 14:15:51+00:00   \n",
       "96 2017-06-19 14:15:51+00:00   \n",
       "\n",
       "                                             citation  \\\n",
       "92  Jeong, H. & Hmelo-Silver, C. E. (2015). Resear...   \n",
       "93  Wake, J. D., Guribye, F., & Wasson, B. (2015)....   \n",
       "94  Borge, M., Ong, Y. S., & Rosé, C. P. (2015). ...   \n",
       "95  Davidsen, J. & Ryberg, T. (2015). “This Is the...   \n",
       "96  Yang, Y. & van Aalst, J. (2015). Assessment an...   \n",
       "\n",
       "                   available  \\\n",
       "92 2017-06-19 14:15:51+00:00   \n",
       "93 2017-06-19 14:15:51+00:00   \n",
       "94 2017-06-19 14:15:51+00:00   \n",
       "95 2017-06-19 14:15:51+00:00   \n",
       "96 2017-06-19 14:15:51+00:00   \n",
       "\n",
       "                                             abstract             value  \\\n",
       "92  While research questions play a critical role ...    Jeong, Heisawn   \n",
       "93  This paper describes a study of students desig...  Wake, Jo Dugstad   \n",
       "94  In this paper we assess the utility of an acti...    Borge, Marcela   \n",
       "95  In CSCL studies, language is often foregrounde...   Davidsen, Jacob   \n",
       "96  We provide a conceptual review of the research...       Yang, Yuqin   \n",
       "\n",
       "    author_name_length  author_order  \n",
       "92                  14             0  \n",
       "93                  16             0  \n",
       "94                  14             0  \n",
       "95                  15             0  \n",
       "96                  11             0  "
      ]
     },
     "execution_count": 22,
     "metadata": {},
     "output_type": "execute_result"
    }
   ],
   "source": [
    "cleaning.head()"
   ]
  },
  {
   "cell_type": "markdown",
   "metadata": {},
   "source": [
    "# Now parse citation to get the shortened name (which can be matched to refrences)"
   ]
  },
  {
   "cell_type": "code",
   "execution_count": 23,
   "metadata": {},
   "outputs": [],
   "source": [
    "import numpy as np\n",
    "import regex #"
   ]
  },
  {
   "cell_type": "code",
   "execution_count": 31,
   "metadata": {},
   "outputs": [],
   "source": [
    "get_names = r'([\\w\\-\\&]*[\\,] [\\p{L}\\.\\ ]+[\\&\\,]?)'\n",
    "\n",
    "cleaning.reset_index(drop=True, inplace=True)\n",
    "\n",
    "cleaning['shortend_names'] = cleaning.citation.map(lambda x: re.match(r'[\\S\\s]*\\(\\d{4}\\)', x, re.U)\\\n",
    "                                                   .group(0)).map(lambda x: [x.replace(',', '').replace('&', '').rstrip() for x in regex.findall(get_names, x)])\n",
    "\n",
    "cleaning['shortend_names'] = cleaning.apply(lambda x: x['shortend_names'][x['author_order']], axis=1)"
   ]
  },
  {
   "cell_type": "code",
   "execution_count": 32,
   "metadata": {},
   "outputs": [
    {
     "data": {
      "text/plain": [
       "'sommer, s. & Polman, J. L. (2018). From Quantified Self to Building a More Fit Community: Data Tracking and Science Infographics as Boundary Objects. In Kay, J. and Luckin, R. (Eds.) Rethinking Learning in the Digital Age: Making the Learning Sciences Count, 13th International Conference of the Learning Sciences (ICLS) 2018, Volume 2. London, UK: International Society of the Learning Sciences.'"
      ]
     },
     "execution_count": 32,
     "metadata": {},
     "output_type": "execute_result"
    }
   ],
   "source": [
    "cleaning.iloc[845].citation"
   ]
  },
  {
   "cell_type": "code",
   "execution_count": 33,
   "metadata": {},
   "outputs": [
    {
     "data": {
      "text/html": [
       "<div>\n",
       "<style scoped>\n",
       "    .dataframe tbody tr th:only-of-type {\n",
       "        vertical-align: middle;\n",
       "    }\n",
       "\n",
       "    .dataframe tbody tr th {\n",
       "        vertical-align: top;\n",
       "    }\n",
       "\n",
       "    .dataframe thead th {\n",
       "        text-align: right;\n",
       "    }\n",
       "</style>\n",
       "<table border=\"1\" class=\"dataframe\">\n",
       "  <thead>\n",
       "    <tr style=\"text-align: right;\">\n",
       "      <th></th>\n",
       "      <th>index</th>\n",
       "      <th>subject</th>\n",
       "      <th>iso</th>\n",
       "      <th>uri</th>\n",
       "      <th>type</th>\n",
       "      <th>publisher</th>\n",
       "      <th>title</th>\n",
       "      <th>issued</th>\n",
       "      <th>accessioned</th>\n",
       "      <th>citation</th>\n",
       "      <th>available</th>\n",
       "      <th>abstract</th>\n",
       "      <th>value</th>\n",
       "      <th>author_name_length</th>\n",
       "      <th>author_order</th>\n",
       "      <th>shortend_names</th>\n",
       "    </tr>\n",
       "  </thead>\n",
       "  <tbody>\n",
       "    <tr>\n",
       "      <th>217</th>\n",
       "      <td>import2018/219</td>\n",
       "      <td>[boundary crossing, quantified self, infograph...</td>\n",
       "      <td>en</td>\n",
       "      <td>https://doi.dx.org/10.22318/cscl2018.1001</td>\n",
       "      <td>Book chapter</td>\n",
       "      <td>International Society of the Learning Science...</td>\n",
       "      <td>From Quantified Self to Building a More Fit Co...</td>\n",
       "      <td>2018-07</td>\n",
       "      <td>2018-11-04 23:26:23+00:00</td>\n",
       "      <td>sommer, s. &amp; Polman, J. L. (2018). From Quanti...</td>\n",
       "      <td>2018-11-04 23:26:23+00:00</td>\n",
       "      <td>This design case study considers one teacher's...</td>\n",
       "      <td>sommer, stephen</td>\n",
       "      <td>15</td>\n",
       "      <td>0</td>\n",
       "      <td>sommer s.</td>\n",
       "    </tr>\n",
       "    <tr>\n",
       "      <th>845</th>\n",
       "      <td>import2018/219</td>\n",
       "      <td>[boundary crossing, quantified self, infograph...</td>\n",
       "      <td>en</td>\n",
       "      <td>https://doi.dx.org/10.22318/cscl2018.1001</td>\n",
       "      <td>Book chapter</td>\n",
       "      <td>International Society of the Learning Science...</td>\n",
       "      <td>From Quantified Self to Building a More Fit Co...</td>\n",
       "      <td>2018-07</td>\n",
       "      <td>2018-11-04 23:26:23+00:00</td>\n",
       "      <td>sommer, s. &amp; Polman, J. L. (2018). From Quanti...</td>\n",
       "      <td>2018-11-04 23:26:23+00:00</td>\n",
       "      <td>This design case study considers one teacher's...</td>\n",
       "      <td>Polman, Joseph L</td>\n",
       "      <td>16</td>\n",
       "      <td>1</td>\n",
       "      <td>Polman J. L.</td>\n",
       "    </tr>\n",
       "  </tbody>\n",
       "</table>\n",
       "</div>"
      ],
      "text/plain": [
       "              index                                            subject iso  \\\n",
       "217  import2018/219  [boundary crossing, quantified self, infograph...  en   \n",
       "845  import2018/219  [boundary crossing, quantified self, infograph...  en   \n",
       "\n",
       "                                           uri          type  \\\n",
       "217  https://doi.dx.org/10.22318/cscl2018.1001  Book chapter   \n",
       "845  https://doi.dx.org/10.22318/cscl2018.1001  Book chapter   \n",
       "\n",
       "                                             publisher  \\\n",
       "217   International Society of the Learning Science...   \n",
       "845   International Society of the Learning Science...   \n",
       "\n",
       "                                                 title   issued  \\\n",
       "217  From Quantified Self to Building a More Fit Co...  2018-07   \n",
       "845  From Quantified Self to Building a More Fit Co...  2018-07   \n",
       "\n",
       "                  accessioned  \\\n",
       "217 2018-11-04 23:26:23+00:00   \n",
       "845 2018-11-04 23:26:23+00:00   \n",
       "\n",
       "                                              citation  \\\n",
       "217  sommer, s. & Polman, J. L. (2018). From Quanti...   \n",
       "845  sommer, s. & Polman, J. L. (2018). From Quanti...   \n",
       "\n",
       "                    available  \\\n",
       "217 2018-11-04 23:26:23+00:00   \n",
       "845 2018-11-04 23:26:23+00:00   \n",
       "\n",
       "                                              abstract             value  \\\n",
       "217  This design case study considers one teacher's...   sommer, stephen   \n",
       "845  This design case study considers one teacher's...  Polman, Joseph L   \n",
       "\n",
       "     author_name_length  author_order shortend_names  \n",
       "217                  15             0      sommer s.  \n",
       "845                  16             1   Polman J. L.  "
      ]
     },
     "execution_count": 33,
     "metadata": {},
     "output_type": "execute_result"
    }
   ],
   "source": [
    "cleaning[cleaning['index'] == 'import2018/219']"
   ]
  },
  {
   "cell_type": "code",
   "execution_count": null,
   "metadata": {},
   "outputs": [],
   "source": [
    "cleaning.rename(columns={'index': 'file'}, inplace=True)"
   ]
  },
  {
   "cell_type": "code",
   "execution_count": null,
   "metadata": {},
   "outputs": [],
   "source": [
    "cleaning.to_csv('data/Parsed_metadata.csv')"
   ]
  },
  {
   "cell_type": "code",
   "execution_count": null,
   "metadata": {},
   "outputs": [],
   "source": [
    "cleaning['merge_index'] = cleaning.apply(lambda x: x['file']+str(x['author_order']), axis=1)"
   ]
  },
  {
   "cell_type": "markdown",
   "metadata": {},
   "source": [
    "# Merging with universities to associated email with name?\n",
    "## not perfectly possible, but may not need perfect merge"
   ]
  },
  {
   "cell_type": "code",
   "execution_count": null,
   "metadata": {},
   "outputs": [],
   "source": [
    "cleaning.dtypes"
   ]
  },
  {
   "cell_type": "code",
   "execution_count": null,
   "metadata": {},
   "outputs": [],
   "source": [
    "universities = pd.read_csv('data/Universities.csv', index_col=0)"
   ]
  },
  {
   "cell_type": "code",
   "execution_count": null,
   "metadata": {},
   "outputs": [],
   "source": [
    "universities.head()"
   ]
  },
  {
   "cell_type": "code",
   "execution_count": null,
   "metadata": {},
   "outputs": [],
   "source": [
    "universities['merge_index'] = universities.apply(lambda x: x['file']+str(x['authorindex']), axis=1)"
   ]
  },
  {
   "cell_type": "code",
   "execution_count": null,
   "metadata": {},
   "outputs": [],
   "source": [
    "pd.merge(universities, cleaning, on='merge_index')"
   ]
  },
  {
   "cell_type": "code",
   "execution_count": null,
   "metadata": {},
   "outputs": [],
   "source": [
    "cleaning"
   ]
  },
  {
   "cell_type": "code",
   "execution_count": null,
   "metadata": {},
   "outputs": [],
   "source": [
    "cleaning[cleaning.file == 'import2016short/145']"
   ]
  },
  {
   "cell_type": "code",
   "execution_count": null,
   "metadata": {},
   "outputs": [],
   "source": [
    "universities[universities.file == 'import2016short/145']"
   ]
  },
  {
   "cell_type": "markdown",
   "metadata": {},
   "source": [
    "Can't do that because order isn't same :( "
   ]
  },
  {
   "cell_type": "code",
   "execution_count": null,
   "metadata": {},
   "outputs": [],
   "source": [
    "mega_frame = pd.merge(universities, cleaning, on='merge_index')"
   ]
  },
  {
   "cell_type": "code",
   "execution_count": null,
   "metadata": {},
   "outputs": [],
   "source": [
    "mega_frame[mega_frame.file_x == 'import2016short/145']"
   ]
  },
  {
   "cell_type": "markdown",
   "metadata": {},
   "source": [
    "# Building the co-citation graph:"
   ]
  },
  {
   "cell_type": "code",
   "execution_count": null,
   "metadata": {},
   "outputs": [],
   "source": [
    "references = pd.read_csv('data/References.csv', index_col=0)"
   ]
  },
  {
   "cell_type": "code",
   "execution_count": null,
   "metadata": {},
   "outputs": [],
   "source": [
    "references.shape"
   ]
  },
  {
   "cell_type": "code",
   "execution_count": null,
   "metadata": {},
   "outputs": [],
   "source": [
    "references.columns"
   ]
  },
  {
   "cell_type": "code",
   "execution_count": null,
   "metadata": {},
   "outputs": [],
   "source": [
    "relevant_cols = ['ref', 'file', 'ref_parsed']"
   ]
  },
  {
   "cell_type": "code",
   "execution_count": null,
   "metadata": {},
   "outputs": [],
   "source": [
    "co_citation = pd.merge(references[relevant_cols],references[relevant_cols], on='ref', how='outer')"
   ]
  },
  {
   "cell_type": "code",
   "execution_count": null,
   "metadata": {},
   "outputs": [],
   "source": [
    "#remove self loops\n",
    "co_citation = co_citation[co_citation.file_x != co_citation.file_y]"
   ]
  },
  {
   "cell_type": "code",
   "execution_count": null,
   "metadata": {},
   "outputs": [],
   "source": [
    "co_citation"
   ]
  },
  {
   "cell_type": "code",
   "execution_count": null,
   "metadata": {},
   "outputs": [],
   "source": [
    "nodes = pd.DataFrame(co_citation.file_x.drop_duplicates().reset_index(drop=True)).reset_index()\n",
    "nodes.head()"
   ]
  },
  {
   "cell_type": "code",
   "execution_count": null,
   "metadata": {},
   "outputs": [],
   "source": [
    "edges = pd.merge(nodes, co_citation, on='file_x')\n",
    "\n",
    "#edges = pd.merge(nodes, co_citation, left_on='file_x', right_on='file_y')#[['index_x', 'index_y']]\n",
    "\n",
    "edges.head()"
   ]
  },
  {
   "cell_type": "markdown",
   "metadata": {},
   "source": [
    "way to identify reference uniquely without needing entire string..."
   ]
  },
  {
   "cell_type": "code",
   "execution_count": null,
   "metadata": {},
   "outputs": [],
   "source": [
    "pd.merge(references,references, on='ref_parsed', how='outer').shape"
   ]
  },
  {
   "cell_type": "code",
   "execution_count": null,
   "metadata": {},
   "outputs": [],
   "source": [
    "n_nodes = len(nodes)\n",
    "adjacency = np.zeros((n_nodes, n_nodes), dtype=int)\n",
    "\n",
    "for idx, row in edges.iterrows():\n",
    "    i, j = int(row.index_x), int(row.index_y)\n",
    "    adjacency[j, i] = 1\n",
    "    adjacency[i, j] = 1"
   ]
  },
  {
   "cell_type": "code",
   "execution_count": null,
   "metadata": {},
   "outputs": [],
   "source": [
    "adjacency.shape"
   ]
  },
  {
   "cell_type": "code",
   "execution_count": null,
   "metadata": {},
   "outputs": [],
   "source": [
    "graph = nx.from_numpy_array(adjacency)\n",
    "nx.write_gexf(graph, 'data/co_citation_graph.gexf')"
   ]
  },
  {
   "cell_type": "code",
   "execution_count": null,
   "metadata": {},
   "outputs": [],
   "source": []
  }
 ],
 "metadata": {
  "kernelspec": {
   "display_name": "Python 3",
   "language": "python",
   "name": "python3"
  },
  "language_info": {
   "codemirror_mode": {
    "name": "ipython",
    "version": 3
   },
   "file_extension": ".py",
   "mimetype": "text/x-python",
   "name": "python",
   "nbconvert_exporter": "python",
   "pygments_lexer": "ipython3",
   "version": "3.7.0"
  }
 },
 "nbformat": 4,
 "nbformat_minor": 2
}
