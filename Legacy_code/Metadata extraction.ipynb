{
 "cells": [
  {
   "cell_type": "code",
   "execution_count": 1,
   "metadata": {},
   "outputs": [],
   "source": [
    "from lxml import etree\n",
    "import json\n",
    "import pandas as pd\n",
    "import matplotlib.pyplot as plt \n",
    "%matplotlib inline  \n",
    "import seaborn as sns\n"
   ]
  },
  {
   "cell_type": "markdown",
   "metadata": {},
   "source": [
    "# Parsing "
   ]
  },
  {
   "cell_type": "code",
   "execution_count": 2,
   "metadata": {},
   "outputs": [],
   "source": [
    "def parse(file_path): \n",
    "    i = 0 \n",
    "    tmp = ''\n",
    "    key = ''\n",
    "    xml2 = etree.iterparse(file_path, recover=True)\n",
    "    data = []\n",
    "    for action, elem in xml2:\n",
    "        data.append((elem.attrib, elem.tag, elem.text))\n",
    "    data_dict = {}\n",
    "    \n",
    "    for attrib, tag, text in data: \n",
    "        try : \n",
    "            tmp = key\n",
    "            \n",
    "            key = attrib.get('qualifier')\n",
    "            element = attrib.get('element')\n",
    "            \n",
    "            #way to distinguish eliminate some nan!\n",
    "            if key == 'none':\n",
    "                key = element\n",
    "            \n",
    "            if key in data_dict.keys() : \n",
    "                i = i + 1 \n",
    "                data_dict[key + str(i)] = text\n",
    "            else : \n",
    "                i = 0 \n",
    "                data_dict[key] = text\n",
    "                \n",
    "        except TypeError: \n",
    "            if 'subject' in tag:\n",
    "                if 'subject' in data_dict.keys():\n",
    "                    data_dict['subject'].append(text)\n",
    "                else:\n",
    "                    data_dict['subject'] = [text]\n",
    "\n",
    "    return data_dict\n"
   ]
  },
  {
   "cell_type": "markdown",
   "metadata": {},
   "source": [
    "### Get all data "
   ]
  },
  {
   "cell_type": "code",
   "execution_count": 3,
   "metadata": {},
   "outputs": [],
   "source": [
    "import os\n",
    "rootdir = '/Users/lguillain/Documents/EPFL2018/Git-semester-project/papers-import/'"
   ]
  },
  {
   "cell_type": "code",
   "execution_count": 4,
   "metadata": {},
   "outputs": [],
   "source": [
    "all_data = {}\n",
    "i= 0\n",
    "for subdir, dirs, files in os.walk(rootdir):\n",
    "    for file in files:\n",
    "        path = os.path.join(subdir, file)\n",
    "        if 'dublin_core' in (path) :\n",
    "            i += 1\n",
    "            num_doc = subdir[len(rootdir):]\n",
    "            all_data[num_doc] = parse(path)"
   ]
  },
  {
   "cell_type": "code",
   "execution_count": 5,
   "metadata": {},
   "outputs": [
    {
     "name": "stdout",
     "output_type": "stream",
     "text": [
      "got data from 874 files\n"
     ]
    }
   ],
   "source": [
    "print('got data from {} files'.format(i))"
   ]
  },
  {
   "cell_type": "code",
   "execution_count": 6,
   "metadata": {},
   "outputs": [],
   "source": [
    "df_data = pd.DataFrame(list(all_data.values()), index=all_data.keys())"
   ]
  },
  {
   "cell_type": "code",
   "execution_count": 7,
   "metadata": {},
   "outputs": [],
   "source": [
    "def convert(arg): \n",
    "    try : \n",
    "        arg = dateutil.parser.parse(arg)\n",
    "    except TypeError: \n",
    "        arg = arg \n",
    "    return arg "
   ]
  },
  {
   "cell_type": "code",
   "execution_count": 8,
   "metadata": {},
   "outputs": [],
   "source": [
    "import dateutil.parser\n",
    "df_data['available'] = df_data['available'].apply(lambda x : convert(x))\n",
    "df_data['accessioned'] = df_data['accessioned'].apply(lambda x : convert(x))"
   ]
  },
  {
   "cell_type": "code",
   "execution_count": 9,
   "metadata": {},
   "outputs": [
    {
     "data": {
      "text/html": [
       "<div>\n",
       "<style scoped>\n",
       "    .dataframe tbody tr th:only-of-type {\n",
       "        vertical-align: middle;\n",
       "    }\n",
       "\n",
       "    .dataframe tbody tr th {\n",
       "        vertical-align: top;\n",
       "    }\n",
       "\n",
       "    .dataframe thead th {\n",
       "        text-align: right;\n",
       "    }\n",
       "</style>\n",
       "<table border=\"1\" class=\"dataframe\">\n",
       "  <thead>\n",
       "    <tr style=\"text-align: right;\">\n",
       "      <th></th>\n",
       "      <th>abstract</th>\n",
       "      <th>accessioned</th>\n",
       "      <th>author</th>\n",
       "      <th>author1</th>\n",
       "      <th>author2</th>\n",
       "      <th>author3</th>\n",
       "      <th>available</th>\n",
       "      <th>citation</th>\n",
       "      <th>iso</th>\n",
       "      <th>issued</th>\n",
       "      <th>...</th>\n",
       "      <th>author17</th>\n",
       "      <th>author18</th>\n",
       "      <th>author19</th>\n",
       "      <th>author20</th>\n",
       "      <th>author21</th>\n",
       "      <th>author22</th>\n",
       "      <th>author23</th>\n",
       "      <th>author24</th>\n",
       "      <th>author25</th>\n",
       "      <th>author26</th>\n",
       "    </tr>\n",
       "  </thead>\n",
       "  <tbody>\n",
       "    <tr>\n",
       "      <th>import2016full/78</th>\n",
       "      <td>Students often have problems formulating und u...</td>\n",
       "      <td>2017-03-21 12:05:42+00:00</td>\n",
       "      <td>Vogel, Freydis</td>\n",
       "      <td>Kollar, Ingo</td>\n",
       "      <td>Ufer, Stefan</td>\n",
       "      <td>Reiss, Kristina</td>\n",
       "      <td>2017-03-21 12:05:42+00:00</td>\n",
       "      <td>Vogel, F., Kollar, I., Ufer, S., Reiss, K., &amp; ...</td>\n",
       "      <td>en</td>\n",
       "      <td>2016-07</td>\n",
       "      <td>...</td>\n",
       "      <td>NaN</td>\n",
       "      <td>NaN</td>\n",
       "      <td>NaN</td>\n",
       "      <td>NaN</td>\n",
       "      <td>NaN</td>\n",
       "      <td>NaN</td>\n",
       "      <td>NaN</td>\n",
       "      <td>NaN</td>\n",
       "      <td>NaN</td>\n",
       "      <td>NaN</td>\n",
       "    </tr>\n",
       "    <tr>\n",
       "      <th>import2015short/373</th>\n",
       "      <td>Argumentation scripts have been proposed as an...</td>\n",
       "      <td>2017-06-19 14:51:54+00:00</td>\n",
       "      <td>Vogel, Freydis</td>\n",
       "      <td>Kollar, Ingo</td>\n",
       "      <td>Ufer, Stefan</td>\n",
       "      <td>Reichersdorfer, Elisabeth</td>\n",
       "      <td>2017-06-19 14:51:54+00:00</td>\n",
       "      <td>Vogel, F., Kollar, I., Ufer, S., Reichersdorfe...</td>\n",
       "      <td>en</td>\n",
       "      <td>2015-07</td>\n",
       "      <td>...</td>\n",
       "      <td>NaN</td>\n",
       "      <td>NaN</td>\n",
       "      <td>NaN</td>\n",
       "      <td>NaN</td>\n",
       "      <td>NaN</td>\n",
       "      <td>NaN</td>\n",
       "      <td>NaN</td>\n",
       "      <td>NaN</td>\n",
       "      <td>NaN</td>\n",
       "      <td>NaN</td>\n",
       "    </tr>\n",
       "  </tbody>\n",
       "</table>\n",
       "<p>2 rows × 39 columns</p>\n",
       "</div>"
      ],
      "text/plain": [
       "                                                              abstract  \\\n",
       "import2016full/78    Students often have problems formulating und u...   \n",
       "import2015short/373  Argumentation scripts have been proposed as an...   \n",
       "\n",
       "                                  accessioned          author       author1  \\\n",
       "import2016full/78   2017-03-21 12:05:42+00:00  Vogel, Freydis  Kollar, Ingo   \n",
       "import2015short/373 2017-06-19 14:51:54+00:00  Vogel, Freydis  Kollar, Ingo   \n",
       "\n",
       "                          author2                    author3  \\\n",
       "import2016full/78    Ufer, Stefan            Reiss, Kristina   \n",
       "import2015short/373  Ufer, Stefan  Reichersdorfer, Elisabeth   \n",
       "\n",
       "                                    available  \\\n",
       "import2016full/78   2017-03-21 12:05:42+00:00   \n",
       "import2015short/373 2017-06-19 14:51:54+00:00   \n",
       "\n",
       "                                                              citation iso  \\\n",
       "import2016full/78    Vogel, F., Kollar, I., Ufer, S., Reiss, K., & ...  en   \n",
       "import2015short/373  Vogel, F., Kollar, I., Ufer, S., Reichersdorfe...  en   \n",
       "\n",
       "                      issued   ...    author17 author18 author19 author20  \\\n",
       "import2016full/78    2016-07   ...         NaN      NaN      NaN      NaN   \n",
       "import2015short/373  2015-07   ...         NaN      NaN      NaN      NaN   \n",
       "\n",
       "                    author21 author22 author23 author24 author25 author26  \n",
       "import2016full/78        NaN      NaN      NaN      NaN      NaN      NaN  \n",
       "import2015short/373      NaN      NaN      NaN      NaN      NaN      NaN  \n",
       "\n",
       "[2 rows x 39 columns]"
      ]
     },
     "execution_count": 9,
     "metadata": {},
     "output_type": "execute_result"
    }
   ],
   "source": [
    "df_data[df_data['author'].str.contains(\"Vogel\")]"
   ]
  },
  {
   "cell_type": "code",
   "execution_count": 10,
   "metadata": {},
   "outputs": [
    {
     "data": {
      "text/plain": [
       "Index([   'abstract', 'accessioned',      'author',     'author1',\n",
       "           'author2',     'author3',   'available',    'citation',\n",
       "               'iso',      'issued',   'publisher',       'title',\n",
       "              'type',         'uri',          None,     'author4',\n",
       "           'author5',     'author6',     'author7',     'author8',\n",
       "           'subject',     'author9',    'author10',    'author11',\n",
       "          'author12',    'author13',    'author14',    'author15',\n",
       "          'author16',    'author17',    'author18',    'author19',\n",
       "          'author20',    'author21',    'author22',    'author23',\n",
       "          'author24',    'author25',    'author26'],\n",
       "      dtype='object')"
      ]
     },
     "execution_count": 10,
     "metadata": {},
     "output_type": "execute_result"
    }
   ],
   "source": [
    "df_data.columns"
   ]
  },
  {
   "cell_type": "markdown",
   "metadata": {},
   "source": [
    "# Getting all authors in to one dataframe:"
   ]
  },
  {
   "cell_type": "code",
   "execution_count": 17,
   "metadata": {},
   "outputs": [],
   "source": [
    "cleaning = cleaning[cleaning.value.notna()]"
   ]
  },
  {
   "cell_type": "code",
   "execution_count": 40,
   "metadata": {},
   "outputs": [
    {
     "data": {
      "text/plain": [
       "654"
      ]
     },
     "execution_count": 40,
     "metadata": {},
     "output_type": "execute_result"
    }
   ],
   "source": [
    "cleaning['index'].map(lambda x: '2016' in x).sum()"
   ]
  },
  {
   "cell_type": "code",
   "execution_count": 19,
   "metadata": {},
   "outputs": [],
   "source": [
    "cleaning = df_data.reset_index().melt(id_vars=['index','subject', 'iso', 'uri','type','publisher','title', 'issued', 'accessioned', 'citation', 'available', 'abstract'])\n",
    "cleaning = cleaning[cleaning.value.notna()]\n",
    "cleaning = cleaning[cleaning.variable.notna()]\n",
    "\n",
    "cleaning = cleaning[cleaning.value.map(lambda x: len(x) > 2)]\n",
    "\n",
    "cleaning['author_name_length'] = cleaning.value.map(lambda x: len(x))"
   ]
  },
  {
   "cell_type": "code",
   "execution_count": 35,
   "metadata": {},
   "outputs": [
    {
     "name": "stderr",
     "output_type": "stream",
     "text": [
      "/anaconda3/lib/python3.7/site-packages/ipykernel_launcher.py:2: SettingWithCopyWarning: \n",
      "A value is trying to be set on a copy of a slice from a DataFrame.\n",
      "Try using .loc[row_indexer,col_indexer] = value instead\n",
      "\n",
      "See the caveats in the documentation: http://pandas.pydata.org/pandas-docs/stable/indexing.html#indexing-view-versus-copy\n",
      "  \n"
     ]
    }
   ],
   "source": [
    "import re\n",
    "cleaning['author_order'] = cleaning.variable.map(lambda x: 0 if len(re.search('\\d*$', x).group(0)) == 0 else int(re.search('\\d*$', x).group(0)))"
   ]
  },
  {
   "cell_type": "code",
   "execution_count": 36,
   "metadata": {},
   "outputs": [],
   "source": [
    "del cleaning['variable']"
   ]
  },
  {
   "cell_type": "code",
   "execution_count": 37,
   "metadata": {},
   "outputs": [
    {
     "data": {
      "image/png": "[encoded data removed]",
      "text/plain": [
       "<Figure size 432x288 with 1 Axes>"
      ]
     },
     "metadata": {
      "needs_background": "light"
     },
     "output_type": "display_data"
    },
    {
     "data": {
      "image/png": "[encoded data removed]",
      "text/plain": [
       "<Figure size 432x288 with 1 Axes>"
      ]
     },
     "metadata": {
      "needs_background": "light"
     },
     "output_type": "display_data"
    },
    {
     "data": {
      "text/plain": [
       "<matplotlib.axes._subplots.AxesSubplot at 0x1a190db198>"
      ]
     },
     "execution_count": 37,
     "metadata": {},
     "output_type": "execute_result"
    },
    {
     "data": {
      "image/png": "[encoded data removed]",
      "text/plain": [
       "<Figure size 432x288 with 1 Axes>"
      ]
     },
     "metadata": {
      "needs_background": "light"
     },
     "output_type": "display_data"
    }
   ],
   "source": [
    "cleaning.value.value_counts().head().plot(kind='bar')\n",
    "plt.show()\n",
    "cleaning.publisher.value_counts().head().plot(kind='bar')\n",
    "plt.show()\n",
    "cleaning.type.value_counts().head().plot(kind='bar')"
   ]
  },
  {
   "cell_type": "code",
   "execution_count": 39,
   "metadata": {},
   "outputs": [
    {
     "data": {
      "text/plain": [
       "import2018/274          27\n",
       "import2017/113          24\n",
       "import2018/280          23\n",
       "import2018/276          21\n",
       "import2018/272          20\n",
       "import2016short/167     20\n",
       "import2017/115          19\n",
       "import2018/268          18\n",
       "import2017/117          18\n",
       "import2017/114          18\n",
       "import2018/271          18\n",
       "import2015short/1110    18\n",
       "import2018/281          17\n",
       "import2018/282          17\n",
       "import2016short/175     15\n",
       "import2015short/1107    15\n",
       "import2015short/1103    14\n",
       "import2018/265          14\n",
       "import2016short/176     13\n",
       "import2018/273          13\n",
       "import2018/279          13\n",
       "import2018/270          12\n",
       "import2016short/173     12\n",
       "import2015short/1101    12\n",
       "import2016short/164     12\n",
       "import2015short/1116    12\n",
       "import2016short/170     11\n",
       "import2015short/1118    11\n",
       "import2015full/165      10\n",
       "import2016short/165     10\n",
       "                        ..\n",
       "import2018/435           1\n",
       "import2018/44            1\n",
       "import2018/524           1\n",
       "import2017/109           1\n",
       "import2018/289           1\n",
       "import2016short/153      1\n",
       "import2018/224           1\n",
       "import2018/478           1\n",
       "import2017/88            1\n",
       "import2016full/75        1\n",
       "import2018/318           1\n",
       "import2018/246           1\n",
       "import2018/335           1\n",
       "import2018/466           1\n",
       "import2018/347           1\n",
       "import2018/527           1\n",
       "import2016full/64        1\n",
       "import2018/235           1\n",
       "import2015short/105      1\n",
       "import2016short/134      1\n",
       "import2018/229           1\n",
       "import2018/422           1\n",
       "import2018/259           1\n",
       "import2016short/113      1\n",
       "import2018/511           1\n",
       "import2015full/105       1\n",
       "import2018/264           1\n",
       "import2018/419           1\n",
       "import2016full/70        1\n",
       "import2016full/30        1\n",
       "Name: index, Length: 874, dtype: int64"
      ]
     },
     "execution_count": 39,
     "metadata": {},
     "output_type": "execute_result"
    }
   ],
   "source": [
    "cleaning['index'].value_counts()"
   ]
  },
  {
   "cell_type": "code",
   "execution_count": null,
   "metadata": {},
   "outputs": [],
   "source": [
    "cleaning.head()"
   ]
  },
  {
   "cell_type": "markdown",
   "metadata": {},
   "source": [
    "# Now parse citation to get the shortened name (which can be matched to refrences)"
   ]
  },
  {
   "cell_type": "code",
   "execution_count": null,
   "metadata": {},
   "outputs": [],
   "source": [
    "import numpy as np\n",
    "import regex #"
   ]
  },
  {
   "cell_type": "code",
   "execution_count": null,
   "metadata": {},
   "outputs": [],
   "source": [
    "get_names = r'([\\w\\-\\&]*[\\,] [\\p{L}\\.\\ ]+[\\&\\,]?)'\n",
    "\n",
    "cleaning.reset_index(drop=True, inplace=True)\n",
    "\n",
    "cleaning['shortend_names'] = cleaning.citation.map(lambda x: re.match(r'[\\S\\s]*\\(\\d{4}\\)', x, re.U)\\\n",
    "                                                   .group(0)).map(lambda x: [x.replace(',', '').replace('&', '').rstrip() for x in regex.findall(get_names, x)])\n",
    "\n",
    "cleaning['shortend_names'] = cleaning.apply(lambda x: x['shortend_names'][x['author_order']], axis=1)"
   ]
  },
  {
   "cell_type": "code",
   "execution_count": null,
   "metadata": {},
   "outputs": [],
   "source": [
    "cleaning.iloc[845].citation"
   ]
  },
  {
   "cell_type": "code",
   "execution_count": null,
   "metadata": {},
   "outputs": [],
   "source": [
    "cleaning[cleaning['index'] == 'import2018/219']"
   ]
  },
  {
   "cell_type": "code",
   "execution_count": null,
   "metadata": {},
   "outputs": [],
   "source": [
    "cleaning.rename(columns={'index': 'file'}, inplace=True)"
   ]
  },
  {
   "cell_type": "code",
   "execution_count": null,
   "metadata": {},
   "outputs": [],
   "source": [
    "cleaning.to_csv('data/Parsed_metadata.csv')"
   ]
  },
  {
   "cell_type": "code",
   "execution_count": null,
   "metadata": {},
   "outputs": [],
   "source": [
    "cleaning['merge_index'] = cleaning.apply(lambda x: x['file']+str(x['author_order']), axis=1)"
   ]
  },
  {
   "cell_type": "markdown",
   "metadata": {},
   "source": [
    "# Merging with universities to associated email with name?\n",
    "## not perfectly possible, but may not need perfect merge"
   ]
  },
  {
   "cell_type": "code",
   "execution_count": null,
   "metadata": {},
   "outputs": [],
   "source": [
    "cleaning.dtypes"
   ]
  },
  {
   "cell_type": "code",
   "execution_count": null,
   "metadata": {},
   "outputs": [],
   "source": [
    "universities = pd.read_csv('data/Universities.csv', index_col=0)"
   ]
  },
  {
   "cell_type": "code",
   "execution_count": null,
   "metadata": {},
   "outputs": [],
   "source": [
    "universities.head()"
   ]
  },
  {
   "cell_type": "code",
   "execution_count": null,
   "metadata": {},
   "outputs": [],
   "source": [
    "universities['merge_index'] = universities.apply(lambda x: x['file']+str(x['authorindex']), axis=1)"
   ]
  },
  {
   "cell_type": "code",
   "execution_count": null,
   "metadata": {},
   "outputs": [],
   "source": [
    "pd.merge(universities, cleaning, on='merge_index')"
   ]
  },
  {
   "cell_type": "code",
   "execution_count": null,
   "metadata": {},
   "outputs": [],
   "source": [
    "cleaning"
   ]
  },
  {
   "cell_type": "code",
   "execution_count": null,
   "metadata": {},
   "outputs": [],
   "source": [
    "cleaning[cleaning.file == 'import2016short/145']"
   ]
  },
  {
   "cell_type": "code",
   "execution_count": null,
   "metadata": {},
   "outputs": [],
   "source": [
    "universities[universities.file == 'import2016short/145']"
   ]
  },
  {
   "cell_type": "markdown",
   "metadata": {},
   "source": [
    "Can't do that because order isn't same :( "
   ]
  },
  {
   "cell_type": "code",
   "execution_count": null,
   "metadata": {},
   "outputs": [],
   "source": [
    "mega_frame = pd.merge(universities, cleaning, on='merge_index')"
   ]
  },
  {
   "cell_type": "code",
   "execution_count": null,
   "metadata": {},
   "outputs": [],
   "source": [
    "mega_frame[mega_frame.file_x == 'import2016short/145']"
   ]
  },
  {
   "cell_type": "markdown",
   "metadata": {},
   "source": [
    "# Building the co-citation graph:"
   ]
  },
  {
   "cell_type": "code",
   "execution_count": null,
   "metadata": {},
   "outputs": [],
   "source": [
    "references = pd.read_csv('data/References.csv', index_col=0)"
   ]
  },
  {
   "cell_type": "code",
   "execution_count": null,
   "metadata": {},
   "outputs": [],
   "source": [
    "references.shape"
   ]
  },
  {
   "cell_type": "code",
   "execution_count": null,
   "metadata": {},
   "outputs": [],
   "source": [
    "references.columns"
   ]
  },
  {
   "cell_type": "code",
   "execution_count": null,
   "metadata": {},
   "outputs": [],
   "source": [
    "relevant_cols = ['ref', 'file', 'ref_parsed']"
   ]
  },
  {
   "cell_type": "code",
   "execution_count": null,
   "metadata": {},
   "outputs": [],
   "source": [
    "co_citation = pd.merge(references[relevant_cols],references[relevant_cols], on='ref', how='outer')"
   ]
  },
  {
   "cell_type": "code",
   "execution_count": null,
   "metadata": {},
   "outputs": [],
   "source": [
    "#remove self loops\n",
    "co_citation = co_citation[co_citation.file_x != co_citation.file_y]"
   ]
  },
  {
   "cell_type": "code",
   "execution_count": null,
   "metadata": {},
   "outputs": [],
   "source": [
    "co_citation"
   ]
  },
  {
   "cell_type": "code",
   "execution_count": null,
   "metadata": {},
   "outputs": [],
   "source": [
    "nodes = pd.DataFrame(co_citation.file_x.drop_duplicates().reset_index(drop=True)).reset_index()\n",
    "nodes.head()"
   ]
  },
  {
   "cell_type": "code",
   "execution_count": null,
   "metadata": {},
   "outputs": [],
   "source": [
    "edges = pd.merge(nodes, co_citation, on='file_x')\n",
    "\n",
    "#edges = pd.merge(nodes, co_citation, left_on='file_x', right_on='file_y')#[['index_x', 'index_y']]\n",
    "\n",
    "edges.head()"
   ]
  },
  {
   "cell_type": "markdown",
   "metadata": {},
   "source": [
    "way to identify reference uniquely without needing entire string..."
   ]
  },
  {
   "cell_type": "code",
   "execution_count": null,
   "metadata": {},
   "outputs": [],
   "source": [
    "pd.merge(references,references, on='ref_parsed', how='outer').shape"
   ]
  },
  {
   "cell_type": "code",
   "execution_count": null,
   "metadata": {},
   "outputs": [],
   "source": [
    "n_nodes = len(nodes)\n",
    "adjacency = np.zeros((n_nodes, n_nodes), dtype=int)\n",
    "\n",
    "for idx, row in edges.iterrows():\n",
    "    i, j = int(row.index_x), int(row.index_y)\n",
    "    adjacency[j, i] = 1\n",
    "    adjacency[i, j] = 1"
   ]
  },
  {
   "cell_type": "code",
   "execution_count": null,
   "metadata": {},
   "outputs": [],
   "source": [
    "adjacency.shape"
   ]
  },
  {
   "cell_type": "code",
   "execution_count": null,
   "metadata": {},
   "outputs": [],
   "source": [
    "graph = nx.from_numpy_array(adjacency)\n",
    "nx.write_gexf(graph, 'data/co_citation_graph.gexf')"
   ]
  },
  {
   "cell_type": "code",
   "execution_count": null,
   "metadata": {},
   "outputs": [],
   "source": []
  }
 ],
 "metadata": {
  "kernelspec": {
   "display_name": "Python 3",
   "language": "python",
   "name": "python3"
  },
  "language_info": {
   "codemirror_mode": {
    "name": "ipython",
    "version": 3
   },
   "file_extension": ".py",
   "mimetype": "text/x-python",
   "name": "python",
   "nbconvert_exporter": "python",
   "pygments_lexer": "ipython3",
   "version": "3.7.0"
  }
 },
 "nbformat": 4,
 "nbformat_minor": 2
}
