{
 "cells": [
  {
   "cell_type": "code",
   "execution_count": 1,
   "metadata": {},
   "outputs": [],
   "source": [
    "import json\n",
    "import pandas as pd\n",
    "import matplotlib.pyplot as plt \n",
    "import seaborn as sns\n",
    "import re\n",
    "import numpy as np\n",
    "import regex as reg\n",
    "\n",
    "%matplotlib inline  "
   ]
  },
  {
   "cell_type": "markdown",
   "metadata": {},
   "source": [
    "Extracting references from texts:"
   ]
  },
  {
   "cell_type": "code",
   "execution_count": null,
   "metadata": {},
   "outputs": [],
   "source": [
    "!python ./Scripts/reference_extraction.py "
   ]
  },
  {
   "cell_type": "markdown",
   "metadata": {},
   "source": [
    "Loading references as previously extracted:"
   ]
  },
  {
   "cell_type": "code",
   "execution_count": 2,
   "metadata": {},
   "outputs": [],
   "source": [
    "references = pd.read_csv('data/References.csv', index_col=0)"
   ]
  },
  {
   "cell_type": "code",
   "execution_count": 3,
   "metadata": {},
   "outputs": [
    {
     "data": {
      "text/html": [
       "<div>\n",
       "<style scoped>\n",
       "    .dataframe tbody tr th:only-of-type {\n",
       "        vertical-align: middle;\n",
       "    }\n",
       "\n",
       "    .dataframe tbody tr th {\n",
       "        vertical-align: top;\n",
       "    }\n",
       "\n",
       "    .dataframe thead th {\n",
       "        text-align: right;\n",
       "    }\n",
       "</style>\n",
       "<table border=\"1\" class=\"dataframe\">\n",
       "  <thead>\n",
       "    <tr style=\"text-align: right;\">\n",
       "      <th></th>\n",
       "      <th>ref</th>\n",
       "      <th>file</th>\n",
       "      <th>ref_parsed</th>\n",
       "      <th>year</th>\n",
       "      <th>identifier</th>\n",
       "    </tr>\n",
       "  </thead>\n",
       "  <tbody>\n",
       "    <tr>\n",
       "      <th>0</th>\n",
       "      <td>Lave, J., &amp; Wenger, E. (1991). Situated learni...</td>\n",
       "      <td>import2018_371</td>\n",
       "      <td>Lave, J., &amp; Wenger, E. (1991)</td>\n",
       "      <td>1991.0</td>\n",
       "      <td>Lave, J., &amp; Wenger, E. (1991). Situated learni...</td>\n",
       "    </tr>\n",
       "    <tr>\n",
       "      <th>1</th>\n",
       "      <td>Miles, M. B., Huberman, A. M., &amp; Saldana, J. (...</td>\n",
       "      <td>import2018_371</td>\n",
       "      <td>Miles, M. B., Huberman, A. M., &amp; Saldana, J. (...</td>\n",
       "      <td>2013.0</td>\n",
       "      <td>Miles, M. B., Huberman, A. M., &amp; Saldana, J. (...</td>\n",
       "    </tr>\n",
       "    <tr>\n",
       "      <th>2</th>\n",
       "      <td>Pea, R. D., Gomez, L. M., Edelson, D. C., Fish...</td>\n",
       "      <td>import2018_371</td>\n",
       "      <td>Pea, R. D., Gomez, L. M., Edelson, D. C., Fish...</td>\n",
       "      <td>1997.0</td>\n",
       "      <td>Pea, R. D., Gomez, L. M., Edelson, D. C., Fish...</td>\n",
       "    </tr>\n",
       "    <tr>\n",
       "      <th>3</th>\n",
       "      <td>Rogoff, B. (1995). Observing sociocultural act...</td>\n",
       "      <td>import2018_371</td>\n",
       "      <td>Rogoff, B. (1995)</td>\n",
       "      <td>1995.0</td>\n",
       "      <td>Rogoff, B. (1995). Observing sociocultural act...</td>\n",
       "    </tr>\n",
       "    <tr>\n",
       "      <th>4</th>\n",
       "      <td>Shirk, J., Ballard, H., Wilderman, C., Phillip...</td>\n",
       "      <td>import2018_371</td>\n",
       "      <td>Shirk, J., Ballard, H., Wilderman, C., Phillip...</td>\n",
       "      <td>2012.0</td>\n",
       "      <td>Shirk, J., Ballard, H., Wilderman, C., Phillip...</td>\n",
       "    </tr>\n",
       "  </tbody>\n",
       "</table>\n",
       "</div>"
      ],
      "text/plain": [
       "                                                 ref            file  \\\n",
       "0  Lave, J., & Wenger, E. (1991). Situated learni...  import2018_371   \n",
       "1  Miles, M. B., Huberman, A. M., & Saldana, J. (...  import2018_371   \n",
       "2  Pea, R. D., Gomez, L. M., Edelson, D. C., Fish...  import2018_371   \n",
       "3  Rogoff, B. (1995). Observing sociocultural act...  import2018_371   \n",
       "4  Shirk, J., Ballard, H., Wilderman, C., Phillip...  import2018_371   \n",
       "\n",
       "                                          ref_parsed    year  \\\n",
       "0                      Lave, J., & Wenger, E. (1991)  1991.0   \n",
       "1  Miles, M. B., Huberman, A. M., & Saldana, J. (...  2013.0   \n",
       "2  Pea, R. D., Gomez, L. M., Edelson, D. C., Fish...  1997.0   \n",
       "3                                  Rogoff, B. (1995)  1995.0   \n",
       "4  Shirk, J., Ballard, H., Wilderman, C., Phillip...  2012.0   \n",
       "\n",
       "                                          identifier  \n",
       "0  Lave, J., & Wenger, E. (1991). Situated learni...  \n",
       "1  Miles, M. B., Huberman, A. M., & Saldana, J. (...  \n",
       "2  Pea, R. D., Gomez, L. M., Edelson, D. C., Fish...  \n",
       "3  Rogoff, B. (1995). Observing sociocultural act...  \n",
       "4  Shirk, J., Ballard, H., Wilderman, C., Phillip...  "
      ]
     },
     "execution_count": 3,
     "metadata": {},
     "output_type": "execute_result"
    }
   ],
   "source": [
    "references.head()"
   ]
  },
  {
   "cell_type": "markdown",
   "metadata": {},
   "source": [
    "Some sample references, and their corresponding identifier:"
   ]
  },
  {
   "cell_type": "code",
   "execution_count": 8,
   "metadata": {},
   "outputs": [
    {
     "name": "stdout",
     "output_type": "stream",
     "text": [
      "Ref:  Bagley, E. (2010). The epistemography of an urban and regional planning practicum: Appropriation in the face of resistance. WCER Working Paper 2010-8. Wisconsin Center for Education Research, University of Wisconsin-Madison. \n",
      "Identifier:  Bagley, E. (2010). The epistemography of an urban and regional planning practicum: Appropriation in the face of resistance\n",
      "Ref:  Dyckhoff, A. L., Zielke, D., Bültmann, M., Chatti, M. A., & Schroeder, U. (2012). Design and Implementation of a Learning Analytics Toolkit for Teachers. J of Educational Technology & Society, 15(3), 58-76. \n",
      "Identifier:  Dyckhoff, A. L., Zielke, D., Bültmann, M., Chatti, M. A., & Schroeder, U. (2012). Design and Implementation of a Learning Analytics Toolkit for Teachers\n",
      "Ref:  Housen, A. C. (2002). Aesthetic thought, critical thinking and transfer. Arts and Learning Research, 18(1), 20012002. \n",
      "Identifier:  Housen, A. C. (2002). Aesthetic thought, critical thinking and transfer\n",
      "Ref:  Brown, A. (1992). Design experiments: Theoretical and methodological challenges in creating complex interventions in classroom settings. The Journal of Learning Sciences, 2(2), 141-178. \n",
      "Identifier:  Brown, A. (1992). Design experiments: Theoretical and methodological challenges in creating complex interventions in classroom settings\n"
     ]
    }
   ],
   "source": [
    "sample = references[['ref', 'identifier']].sample(4)\n",
    "_ = [print(\"Ref: \",r, '\\nIdentifier: ', s,) for r, s in zip(sample.ref.tolist(), sample.identifier.tolist())]"
   ]
  },
  {
   "cell_type": "markdown",
   "metadata": {},
   "source": [
    "### First we check the most cited citations:"
   ]
  },
  {
   "cell_type": "code",
   "execution_count": 9,
   "metadata": {
    "scrolled": false
   },
   "outputs": [
    {
     "data": {
      "text/plain": [
       "Scardamalia, M. (2002). Collective cognitive responsibility for the advancement of knowledge                                   32\n",
       "Lave, J., & Wenger, E. (1991). Situated learning: Legitimate peripheral participation                                          32\n",
       "Jordan, B., & Henderson, A. (1995). Interaction analysis: Foundations and practice                                             31\n",
       "Scardamalia, M., & Bereiter, C. (2006). Knowledge building: Theory, pedagogy, and technology                                   23\n",
       "Papert, S. (1980). Mindstorms: Children, computers, and powerful ideas                                                         20\n",
       "Barron, B. (2003). When smart groups fail                                                                                      19\n",
       "Bereiter, C. (2002). Education and mind in the knowledge age                                                                   16\n",
       "Vygotsky, L. S. (1978). Mind in society: The development of higher psychological processes                                     15\n",
       "National Research Council. (2012). A framework for K-12 science education: Practices, crosscutting concepts, and core ideas    15\n",
       "Brown, J. S., Collins, A., & Duguid, P. (1989). Situated cognition and the culture of learning                                 14\n",
       "Name: identifier, dtype: int64"
      ]
     },
     "execution_count": 9,
     "metadata": {},
     "output_type": "execute_result"
    },
    {
     "data": {
      "image/png": "[encoded data removed]",
      "text/plain": [
       "<Figure size 432x288 with 1 Axes>"
      ]
     },
     "metadata": {
      "needs_background": "light"
     },
     "output_type": "display_data"
    }
   ],
   "source": [
    "plt.title('Most cited references')\n",
    "references.identifier.value_counts().head(20).plot(kind='bar')\n",
    "references.identifier.value_counts().head(10)"
   ]
  },
  {
   "cell_type": "markdown",
   "metadata": {},
   "source": [
    "### We look at how the references are distributed over the years:"
   ]
  },
  {
   "cell_type": "code",
   "execution_count": 10,
   "metadata": {},
   "outputs": [
    {
     "data": {
      "text/plain": [
       "<matplotlib.axes._subplots.AxesSubplot at 0x1a2096b908>"
      ]
     },
     "execution_count": 10,
     "metadata": {},
     "output_type": "execute_result"
    },
    {
     "data": {
      "image/png": "[encoded data removed]",
      "text/plain": [
       "<Figure size 432x288 with 1 Axes>"
      ]
     },
     "metadata": {
      "needs_background": "light"
     },
     "output_type": "display_data"
    }
   ],
   "source": [
    "references.year.plot(kind='box')"
   ]
  },
  {
   "cell_type": "markdown",
   "metadata": {},
   "source": [
    "### Looking at authors in dataset & the ones they reference"
   ]
  },
  {
   "cell_type": "markdown",
   "metadata": {},
   "source": [
    "Load the metadata:"
   ]
  },
  {
   "cell_type": "code",
   "execution_count": 11,
   "metadata": {},
   "outputs": [],
   "source": [
    "metadata = pd.read_csv('data/Parsed_metadata.csv', index_col=0)"
   ]
  },
  {
   "cell_type": "code",
   "execution_count": 12,
   "metadata": {},
   "outputs": [
    {
     "data": {
      "text/plain": [
       "(45194, 6)"
      ]
     },
     "execution_count": 12,
     "metadata": {},
     "output_type": "execute_result"
    }
   ],
   "source": [
    "reference_authors = pd.read_csv('data/Reference_authors.csv', index_col=0)\n",
    "reference_authors.shape"
   ]
  },
  {
   "cell_type": "code",
   "execution_count": 13,
   "metadata": {},
   "outputs": [
    {
     "data": {
      "text/plain": [
       "(34634, 6)"
      ]
     },
     "execution_count": 13,
     "metadata": {},
     "output_type": "execute_result"
    }
   ],
   "source": [
    "reference_authors.drop_duplicates(inplace=True)\n",
    "reference_authors.shape"
   ]
  },
  {
   "cell_type": "code",
   "execution_count": 14,
   "metadata": {},
   "outputs": [
    {
     "data": {
      "text/html": [
       "<div>\n",
       "<style scoped>\n",
       "    .dataframe tbody tr th:only-of-type {\n",
       "        vertical-align: middle;\n",
       "    }\n",
       "\n",
       "    .dataframe tbody tr th {\n",
       "        vertical-align: top;\n",
       "    }\n",
       "\n",
       "    .dataframe thead th {\n",
       "        text-align: right;\n",
       "    }\n",
       "</style>\n",
       "<table border=\"1\" class=\"dataframe\">\n",
       "  <thead>\n",
       "    <tr style=\"text-align: right;\">\n",
       "      <th></th>\n",
       "      <th>ref</th>\n",
       "      <th>file</th>\n",
       "      <th>ref_parsed</th>\n",
       "      <th>year</th>\n",
       "      <th>identifier</th>\n",
       "      <th>author</th>\n",
       "    </tr>\n",
       "  </thead>\n",
       "  <tbody>\n",
       "    <tr>\n",
       "      <th>0</th>\n",
       "      <td>Lave, J., &amp; Wenger, E. (1991). Situated learni...</td>\n",
       "      <td>import2018_371</td>\n",
       "      <td>Lave, J., &amp; Wenger, E. (1991)</td>\n",
       "      <td>1991.0</td>\n",
       "      <td>Lave, J., &amp; Wenger, E. (1991). Situated learni...</td>\n",
       "      <td>Lave J.</td>\n",
       "    </tr>\n",
       "    <tr>\n",
       "      <th>1</th>\n",
       "      <td>Miles, M. B., Huberman, A. M., &amp; Saldana, J. (...</td>\n",
       "      <td>import2018_371</td>\n",
       "      <td>Miles, M. B., Huberman, A. M., &amp; Saldana, J. (...</td>\n",
       "      <td>2013.0</td>\n",
       "      <td>Miles, M. B., Huberman, A. M., &amp; Saldana, J. (...</td>\n",
       "      <td>Miles M. B.</td>\n",
       "    </tr>\n",
       "    <tr>\n",
       "      <th>2</th>\n",
       "      <td>Pea, R. D., Gomez, L. M., Edelson, D. C., Fish...</td>\n",
       "      <td>import2018_371</td>\n",
       "      <td>Pea, R. D., Gomez, L. M., Edelson, D. C., Fish...</td>\n",
       "      <td>1997.0</td>\n",
       "      <td>Pea, R. D., Gomez, L. M., Edelson, D. C., Fish...</td>\n",
       "      <td>Pea R. D.</td>\n",
       "    </tr>\n",
       "    <tr>\n",
       "      <th>3</th>\n",
       "      <td>Rogoff, B. (1995). Observing sociocultural act...</td>\n",
       "      <td>import2018_371</td>\n",
       "      <td>Rogoff, B. (1995)</td>\n",
       "      <td>1995.0</td>\n",
       "      <td>Rogoff, B. (1995). Observing sociocultural act...</td>\n",
       "      <td>Rogoff B.</td>\n",
       "    </tr>\n",
       "    <tr>\n",
       "      <th>4</th>\n",
       "      <td>Shirk, J., Ballard, H., Wilderman, C., Phillip...</td>\n",
       "      <td>import2018_371</td>\n",
       "      <td>Shirk, J., Ballard, H., Wilderman, C., Phillip...</td>\n",
       "      <td>2012.0</td>\n",
       "      <td>Shirk, J., Ballard, H., Wilderman, C., Phillip...</td>\n",
       "      <td>Shirk J.</td>\n",
       "    </tr>\n",
       "  </tbody>\n",
       "</table>\n",
       "</div>"
      ],
      "text/plain": [
       "                                                 ref            file  \\\n",
       "0  Lave, J., & Wenger, E. (1991). Situated learni...  import2018_371   \n",
       "1  Miles, M. B., Huberman, A. M., & Saldana, J. (...  import2018_371   \n",
       "2  Pea, R. D., Gomez, L. M., Edelson, D. C., Fish...  import2018_371   \n",
       "3  Rogoff, B. (1995). Observing sociocultural act...  import2018_371   \n",
       "4  Shirk, J., Ballard, H., Wilderman, C., Phillip...  import2018_371   \n",
       "\n",
       "                                          ref_parsed    year  \\\n",
       "0                      Lave, J., & Wenger, E. (1991)  1991.0   \n",
       "1  Miles, M. B., Huberman, A. M., & Saldana, J. (...  2013.0   \n",
       "2  Pea, R. D., Gomez, L. M., Edelson, D. C., Fish...  1997.0   \n",
       "3                                  Rogoff, B. (1995)  1995.0   \n",
       "4  Shirk, J., Ballard, H., Wilderman, C., Phillip...  2012.0   \n",
       "\n",
       "                                          identifier       author  \n",
       "0  Lave, J., & Wenger, E. (1991). Situated learni...      Lave J.  \n",
       "1  Miles, M. B., Huberman, A. M., & Saldana, J. (...  Miles M. B.  \n",
       "2  Pea, R. D., Gomez, L. M., Edelson, D. C., Fish...    Pea R. D.  \n",
       "3  Rogoff, B. (1995). Observing sociocultural act...    Rogoff B.  \n",
       "4  Shirk, J., Ballard, H., Wilderman, C., Phillip...     Shirk J.  "
      ]
     },
     "execution_count": 14,
     "metadata": {},
     "output_type": "execute_result"
    }
   ],
   "source": [
    "reference_authors.head()"
   ]
  },
  {
   "cell_type": "markdown",
   "metadata": {},
   "source": [
    "We check the most cited author:"
   ]
  },
  {
   "cell_type": "code",
   "execution_count": 15,
   "metadata": {},
   "outputs": [
    {
     "data": {
      "text/plain": [
       "<matplotlib.axes._subplots.AxesSubplot at 0x1a2248b5c0>"
      ]
     },
     "execution_count": 15,
     "metadata": {},
     "output_type": "execute_result"
    },
    {
     "data": {
      "image/png": "[encoded data removed]",
      "text/plain": [
       "<Figure size 432x288 with 1 Axes>"
      ]
     },
     "metadata": {
      "needs_background": "light"
     },
     "output_type": "display_data"
    }
   ],
   "source": [
    "plt.title('Most cited authors')\n",
    "reference_authors.author.value_counts().head(15).plot(kind='bar')"
   ]
  },
  {
   "cell_type": "code",
   "execution_count": 16,
   "metadata": {},
   "outputs": [
    {
     "data": {
      "text/plain": [
       "<matplotlib.axes._subplots.AxesSubplot at 0x1a217df898>"
      ]
     },
     "execution_count": 16,
     "metadata": {},
     "output_type": "execute_result"
    },
    {
     "data": {
      "image/png": "[encoded data removed]",
      "text/plain": [
       "<Figure size 432x288 with 1 Axes>"
      ]
     },
     "metadata": {
      "needs_background": "light"
     },
     "output_type": "display_data"
    }
   ],
   "source": [
    "plt.title('Most cited for reference after 2010')\n",
    "reference_authors[reference_authors.year > 2010].author.value_counts().head(15).plot(kind='bar')"
   ]
  },
  {
   "cell_type": "markdown",
   "metadata": {},
   "source": [
    "We now merge on the shortened name as it can be found in the citation.\n",
    "\n",
    "**Note** that we might get illegitemate merges, as the short name is not unique, even within the metadata dataset!"
   ]
  },
  {
   "cell_type": "code",
   "execution_count": 17,
   "metadata": {},
   "outputs": [
    {
     "data": {
      "text/html": [
       "<div>\n",
       "<style scoped>\n",
       "    .dataframe tbody tr th:only-of-type {\n",
       "        vertical-align: middle;\n",
       "    }\n",
       "\n",
       "    .dataframe tbody tr th {\n",
       "        vertical-align: top;\n",
       "    }\n",
       "\n",
       "    .dataframe thead th {\n",
       "        text-align: right;\n",
       "    }\n",
       "</style>\n",
       "<table border=\"1\" class=\"dataframe\">\n",
       "  <thead>\n",
       "    <tr style=\"text-align: right;\">\n",
       "      <th></th>\n",
       "      <th>file</th>\n",
       "      <th>subject</th>\n",
       "      <th>iso</th>\n",
       "      <th>uri</th>\n",
       "      <th>type</th>\n",
       "      <th>publisher</th>\n",
       "      <th>title</th>\n",
       "      <th>issued</th>\n",
       "      <th>accessioned</th>\n",
       "      <th>citation</th>\n",
       "      <th>...</th>\n",
       "      <th>abstract</th>\n",
       "      <th>long_name</th>\n",
       "      <th>author_order</th>\n",
       "      <th>shortend_names</th>\n",
       "      <th>identifier_x</th>\n",
       "      <th>ref</th>\n",
       "      <th>ref_parsed</th>\n",
       "      <th>year</th>\n",
       "      <th>identifier_y</th>\n",
       "      <th>author</th>\n",
       "    </tr>\n",
       "  </thead>\n",
       "  <tbody>\n",
       "    <tr>\n",
       "      <th>15641</th>\n",
       "      <td>import2015full_221</td>\n",
       "      <td>['tangible systems', 'emergent dialogue', 'stu...</td>\n",
       "      <td>en</td>\n",
       "      <td>https://doi.dx.org/10.22318/cscl2015.221</td>\n",
       "      <td>Book chapter</td>\n",
       "      <td>International Society of the Learning Science...</td>\n",
       "      <td>What Kind of World Do You Want to Live In? Pos...</td>\n",
       "      <td>2015-07</td>\n",
       "      <td>2017-06-19 14:15:51+00:00</td>\n",
       "      <td>Wise, A. F., Antle, A. N., Warren, J., May, A....</td>\n",
       "      <td>...</td>\n",
       "      <td>Twenty pairs of 5th grade children used a tang...</td>\n",
       "      <td>Warren, Jillian</td>\n",
       "      <td>2</td>\n",
       "      <td>Antle A. N.</td>\n",
       "      <td>Wise, A. F., Antle, A. N., Warren, J., May, A....</td>\n",
       "      <td>Speelpenning, T., Antle, A. N., Doering, T., &amp;...</td>\n",
       "      <td>Speelpenning, T., Antle, A. N., Doering, T., &amp;...</td>\n",
       "      <td>2011.0</td>\n",
       "      <td>Speelpenning, T., Antle, A. N., Doering, T., &amp;...</td>\n",
       "      <td>Hoven E.</td>\n",
       "    </tr>\n",
       "    <tr>\n",
       "      <th>53775</th>\n",
       "      <td>import2015short_1110</td>\n",
       "      <td>['learning communities', 'networked society', ...</td>\n",
       "      <td>en</td>\n",
       "      <td>https://doi.dx.org/10.22318/cscl2015.1110</td>\n",
       "      <td>Book chapter</td>\n",
       "      <td>International Society of the Learning Science...</td>\n",
       "      <td>Technology-Enhanced Learning Communities on a ...</td>\n",
       "      <td>2015-07</td>\n",
       "      <td>2017-06-19 14:51:54+00:00</td>\n",
       "      <td>Kali, Y., Tabak, I., Ben-Zvi, D., Kidron, A., ...</td>\n",
       "      <td>...</td>\n",
       "      <td>This symposium brings together the theoretical...</td>\n",
       "      <td>Ben-Zvi, Dani</td>\n",
       "      <td>2</td>\n",
       "      <td>Tabak I.</td>\n",
       "      <td>Kali, Y., Tabak, I., Ben-Zvi, D., Kidron, A., ...</td>\n",
       "      <td>Elias, N., &amp; Lemish, D. (2009). Spinning the W...</td>\n",
       "      <td>Elias, N., &amp; Lemish, D. (2009)</td>\n",
       "      <td>2009.0</td>\n",
       "      <td>Elias, N., &amp; Lemish, D. (2009). Spinning the W...</td>\n",
       "      <td>Elias N.</td>\n",
       "    </tr>\n",
       "  </tbody>\n",
       "</table>\n",
       "<p>2 rows × 21 columns</p>\n",
       "</div>"
      ],
      "text/plain": [
       "                       file  \\\n",
       "15641    import2015full_221   \n",
       "53775  import2015short_1110   \n",
       "\n",
       "                                                 subject iso  \\\n",
       "15641  ['tangible systems', 'emergent dialogue', 'stu...  en   \n",
       "53775  ['learning communities', 'networked society', ...  en   \n",
       "\n",
       "                                             uri          type  \\\n",
       "15641   https://doi.dx.org/10.22318/cscl2015.221  Book chapter   \n",
       "53775  https://doi.dx.org/10.22318/cscl2015.1110  Book chapter   \n",
       "\n",
       "                                               publisher  \\\n",
       "15641   International Society of the Learning Science...   \n",
       "53775   International Society of the Learning Science...   \n",
       "\n",
       "                                                   title   issued  \\\n",
       "15641  What Kind of World Do You Want to Live In? Pos...  2015-07   \n",
       "53775  Technology-Enhanced Learning Communities on a ...  2015-07   \n",
       "\n",
       "                     accessioned  \\\n",
       "15641  2017-06-19 14:15:51+00:00   \n",
       "53775  2017-06-19 14:51:54+00:00   \n",
       "\n",
       "                                                citation    ...     \\\n",
       "15641  Wise, A. F., Antle, A. N., Warren, J., May, A....    ...      \n",
       "53775  Kali, Y., Tabak, I., Ben-Zvi, D., Kidron, A., ...    ...      \n",
       "\n",
       "                                                abstract        long_name  \\\n",
       "15641  Twenty pairs of 5th grade children used a tang...  Warren, Jillian   \n",
       "53775  This symposium brings together the theoretical...    Ben-Zvi, Dani   \n",
       "\n",
       "      author_order  shortend_names  \\\n",
       "15641            2     Antle A. N.   \n",
       "53775            2        Tabak I.   \n",
       "\n",
       "                                            identifier_x  \\\n",
       "15641  Wise, A. F., Antle, A. N., Warren, J., May, A....   \n",
       "53775  Kali, Y., Tabak, I., Ben-Zvi, D., Kidron, A., ...   \n",
       "\n",
       "                                                     ref  \\\n",
       "15641  Speelpenning, T., Antle, A. N., Doering, T., &...   \n",
       "53775  Elias, N., & Lemish, D. (2009). Spinning the W...   \n",
       "\n",
       "                                              ref_parsed    year  \\\n",
       "15641  Speelpenning, T., Antle, A. N., Doering, T., &...  2011.0   \n",
       "53775                     Elias, N., & Lemish, D. (2009)  2009.0   \n",
       "\n",
       "                                            identifier_y    author  \n",
       "15641  Speelpenning, T., Antle, A. N., Doering, T., &...  Hoven E.  \n",
       "53775  Elias, N., & Lemish, D. (2009). Spinning the W...  Elias N.  \n",
       "\n",
       "[2 rows x 21 columns]"
      ]
     },
     "execution_count": 17,
     "metadata": {},
     "output_type": "execute_result"
    }
   ],
   "source": [
    "reference_edges = pd.merge(metadata, reference_authors, on='file')\n",
    "\n",
    "reference_edges.sample(2)"
   ]
  },
  {
   "cell_type": "code",
   "execution_count": 18,
   "metadata": {},
   "outputs": [],
   "source": [
    "reference_edges.rename(columns={'shortend_names': 'author', 'author': 'cited'}, inplace=True)"
   ]
  },
  {
   "cell_type": "markdown",
   "metadata": {},
   "source": [
    "#### Self citations:"
   ]
  },
  {
   "cell_type": "code",
   "execution_count": 19,
   "metadata": {},
   "outputs": [
    {
     "data": {
      "text/plain": [
       "Zhang J.           80\n",
       "Rummel N.          61\n",
       "Trausan-Matu S.    50\n",
       "Sharma K.          35\n",
       "Kollar I.          27\n",
       "Name: author, dtype: int64"
      ]
     },
     "execution_count": 19,
     "metadata": {},
     "output_type": "execute_result"
    }
   ],
   "source": [
    "reference_edges[reference_edges.author == reference_edges.cited].author.value_counts().head()"
   ]
  },
  {
   "cell_type": "markdown",
   "metadata": {},
   "source": [
    "### Number of authors in and out of conference"
   ]
  },
  {
   "cell_type": "markdown",
   "metadata": {},
   "source": [
    "In and out of conference citations, quick calculation:"
   ]
  },
  {
   "cell_type": "code",
   "execution_count": 20,
   "metadata": {
    "scrolled": true
   },
   "outputs": [
    {
     "name": "stdout",
     "output_type": "stream",
     "text": [
      "Number of distinct authors  1444\n",
      "Number of distinct cited authors by some author in the conference  13224\n",
      "Number of authors that where cited by an other author in the confernce : 806\n"
     ]
    }
   ],
   "source": [
    "print('Number of distinct authors ', len(reference_edges.author.unique()))\n",
    "print('Number of distinct cited authors by some author in the conference ', len(reference_edges.cited.unique()))\n",
    "print('Number of authors that where cited by an other author in the confernce :' , len(set(reference_edges.cited.tolist()).intersection(set(reference_edges.author.tolist()))))"
   ]
  },
  {
   "cell_type": "code",
   "execution_count": 21,
   "metadata": {},
   "outputs": [],
   "source": [
    "reference_edges = reference_edges[['cited', 'author', 'year', 'ref']][reference_edges.year.notna()]"
   ]
  },
  {
   "cell_type": "markdown",
   "metadata": {},
   "source": [
    "Example of how one can match the string:"
   ]
  },
  {
   "cell_type": "code",
   "execution_count": 387,
   "metadata": {},
   "outputs": [
    {
     "data": {
      "text/plain": [
       "<re.Match object; span=(7, 11), match='ICLS'>"
      ]
     },
     "execution_count": 387,
     "metadata": {},
     "output_type": "execute_result"
    }
   ],
   "source": [
    "match_conference = ' JLS |Journal of the Learning Sciences|CSCL|ICLS|ijCSCL|Computer(-| )Supported Collaborative Learning'\n",
    "re.search(match_conference,'bjfejf ICLS')"
   ]
  },
  {
   "cell_type": "markdown",
   "metadata": {},
   "source": [
    "Find references belong to conference:"
   ]
  },
  {
   "cell_type": "code",
   "execution_count": 388,
   "metadata": {},
   "outputs": [],
   "source": [
    "mask_c_s = reference_edges.ref.map(lambda x: True if re.search(match_conference, x) else False)"
   ]
  },
  {
   "cell_type": "code",
   "execution_count": 389,
   "metadata": {},
   "outputs": [],
   "source": [
    "in_conference = set(reference_edges[mask_c_s].cited.unique())"
   ]
  },
  {
   "cell_type": "markdown",
   "metadata": {},
   "source": [
    "We limit the range of years to get people that are still \"active\""
   ]
  },
  {
   "cell_type": "code",
   "execution_count": 390,
   "metadata": {},
   "outputs": [],
   "source": [
    "not_in_conference = list(set(reference_edges[reference_edges.year > 2010].cited) - in_conference.union(set(reference_edges.author)))"
   ]
  },
  {
   "cell_type": "code",
   "execution_count": 411,
   "metadata": {},
   "outputs": [
    {
     "data": {
      "text/plain": [
       "<matplotlib.axes._subplots.AxesSubplot at 0x1a26ad7a90>"
      ]
     },
     "execution_count": 411,
     "metadata": {},
     "output_type": "execute_result"
    },
    {
     "data": {
      "image/png": "[encoded data removed]",
      "text/plain": [
       "<Figure size 432x288 with 1 Axes>"
      ]
     },
     "metadata": {
      "needs_background": "light"
     },
     "output_type": "display_data"
    }
   ],
   "source": [
    "#todo: filter out organisations\n",
    "# todo: deal with non overlapping names\n",
    "plt.title('Most cited authors that have not participated in conference')\n",
    "plt.ylabel('number of times cited')\n",
    "# check that not in conference and is indeed author\n",
    "is_human = reference_edges.dropna().cited.map(lambda x: True if reg.search(r'\\p{Lu}\\.',x) else False)\n",
    "reference_edges[(reference_edges.cited.isin(not_in_conference)) & (is_human)].cited.value_counts().head(20).plot(kind = 'bar')"
   ]
  },
  {
   "cell_type": "code",
   "execution_count": 30,
   "metadata": {},
   "outputs": [
    {
     "data": {
      "text/plain": [
       "['Koschmann, T., LeBaron, C., Goodwin, C., & Feltovich, P. (2011). “Can you see the cystic artery yet?” A simple matter of trust. Journal of Pragmatics, 43(2), 521–541.',\n",
       " 'Goodwin, C. (2013). The co-operative, transformative organization of human action and knowledge. Journal of Pragmatics 46, 8-23.',\n",
       " 'Streeck, J., Goodwin, C., & LeBaron, C. D. (Eds.). (2011). Embodied interaction\\u2009\\u202f: language and body in the material world. New York: Cambridge University Press.',\n",
       " 'Goodwin, C. (2007). Participation, stance and affect in the organization of activities. Discourse & Society, 18(1, Special issue: Morality as family practice), 53–73.']"
      ]
     },
     "execution_count": 30,
     "metadata": {},
     "output_type": "execute_result"
    }
   ],
   "source": [
    "reference_edges[(reference_edges.cited.isin(not_in_conference)) & (reference_edges.cited == 'Goodwin C.')].ref.sample(4).tolist()"
   ]
  },
  {
   "cell_type": "code",
   "execution_count": 31,
   "metadata": {},
   "outputs": [
    {
     "data": {
      "text/plain": [
       "['Gee, J. P. (2007). Good videogames and good learning: Collected essays on video games. New York, NY: Peter Lang Publishing.',\n",
       " 'Gee, J. P. (2003). What video games have to teach us about learning and literacy. New York: Palgrave/Macmillan.',\n",
       " 'Gee, J. P. (2001). Identity as an Analytic Lens for Research in Education. Review of Educational Research, 25, 99–125.',\n",
       " 'Gee, J. P. (2007). Good videogames and good learning: Collected essays on video games. New York, NY: Peter Lang Publishing.']"
      ]
     },
     "execution_count": 31,
     "metadata": {},
     "output_type": "execute_result"
    }
   ],
   "source": [
    "reference_edges[(reference_edges.cited.isin(not_in_conference)) & (reference_edges.cited == 'Gee J. P.')].ref.sample(4).tolist()"
   ]
  },
  {
   "cell_type": "markdown",
   "metadata": {},
   "source": [
    "# extract conference, journal etc:"
   ]
  },
  {
   "cell_type": "markdown",
   "metadata": {},
   "source": [
    "Example of how we can split up the text, which is later used to extract the conference/journal if present:"
   ]
  },
  {
   "cell_type": "code",
   "execution_count": 260,
   "metadata": {},
   "outputs": [
    {
     "data": {
      "text/plain": [
       "['Potter, J. (2005)',\n",
       " '.',\n",
       " 'Making psychology relevant',\n",
       " '.',\n",
       " 'Discourse & Society, 16(5), 739-747.']"
      ]
     },
     "execution_count": 260,
     "metadata": {},
     "output_type": "execute_result"
    }
   ],
   "source": [
    "text = references.sample().ref.item()\n",
    "split_ref = r'(\\.|\\?) (?=[\\p{Lu}][\\p{L}])'\n",
    "reg.split(split_ref, text)"
   ]
  },
  {
   "cell_type": "markdown",
   "metadata": {},
   "source": [
    "We now define a regex that will catch up on words indicating a relation to a conference\n",
    "\n",
    "TODO: include symposium or not?"
   ]
  },
  {
   "cell_type": "code",
   "execution_count": 114,
   "metadata": {},
   "outputs": [],
   "source": [
    "#regex to find journals or conferences\n",
    "pub = '(C|c)onference|(P|p)roceedings|(j|J)ournal|(T|t)ransactions|(s|S)ymposium'\n",
    "re.search(pub, text)"
   ]
  },
  {
   "cell_type": "code",
   "execution_count": 133,
   "metadata": {},
   "outputs": [
    {
     "data": {
      "text/plain": [
       "' jls |journal of the learning sciences|cscl|icls|ijcscl|computer(-| )supported collaborative learning'"
      ]
     },
     "execution_count": 133,
     "metadata": {},
     "output_type": "execute_result"
    }
   ],
   "source": [
    "#set to lower for better matching\n",
    "match_conference = ' JLS |Journal of the Learning Sciences|CSCL|ICLS|ijCSCL|Computer(-| )Supported Collaborative Learning'\n",
    "match_conference.lower()"
   ]
  },
  {
   "cell_type": "code",
   "execution_count": 134,
   "metadata": {},
   "outputs": [
    {
     "data": {
      "text/plain": [
       "<re.Match object; span=(25, 66), match='computer-supported collaborative learning'>"
      ]
     },
     "execution_count": 134,
     "metadata": {},
     "output_type": "execute_result"
    }
   ],
   "source": [
    "re.search(match_conference.lower(), clean_string('international journal of computer-supported collaborative learning'))"
   ]
  },
  {
   "cell_type": "code",
   "execution_count": 135,
   "metadata": {},
   "outputs": [
    {
     "data": {
      "text/plain": [
       "'international journal of computer-supported collaborative learning'"
      ]
     },
     "execution_count": 135,
     "metadata": {},
     "output_type": "execute_result"
    }
   ],
   "source": [
    "clean_string('international journal of computer-supported collaborative learning')"
   ]
  },
  {
   "cell_type": "code",
   "execution_count": 427,
   "metadata": {},
   "outputs": [],
   "source": [
    "def clean_string(x):\n",
    "    \n",
    "    x = x.lower() # lower to ignore case\n",
    "    \n",
    "    x = re.sub('[\\'\\\"\\”\\/\\d]*', '', x) #sub out elements that might cause same string to be diff\n",
    "    x = re.sub(' & ', ' and ', x) # common spelling issue\n",
    "    x = re.sub(' th | nd | rd | st | volume |— |  ', ' ', x)\n",
    "    x = re.sub(' on ', ' of ', x)\n",
    "    x = x.strip()\n",
    "    x = ' '.join([ z for z,y in nltk.pos_tag(word_tokenize(x)) if not y in ['CD', ':','$' ]])\n",
    "    return x\n",
    "\n",
    "mask = references.ref.map(lambda x: True if \n",
    "                          (re.search(pub, x) and not\n",
    "                          re.search(match_conference.lower(), clean_string(x))) else False)"
   ]
  },
  {
   "cell_type": "code",
   "execution_count": 428,
   "metadata": {},
   "outputs": [],
   "source": [
    "sources = references[mask].ref.map(lambda x: \n",
    "                            [y for y in reg.split(split_ref, x) \n",
    "                             if re.search(pub, y)\n",
    "                            ][0])"
   ]
  },
  {
   "cell_type": "code",
   "execution_count": 429,
   "metadata": {},
   "outputs": [
    {
     "data": {
      "text/plain": [
       "(3292,)"
      ]
     },
     "execution_count": 429,
     "metadata": {},
     "output_type": "execute_result"
    }
   ],
   "source": [
    "sources.shape"
   ]
  },
  {
   "cell_type": "markdown",
   "metadata": {},
   "source": [
    "## Is this CSCL ?"
   ]
  },
  {
   "cell_type": "code",
   "execution_count": 430,
   "metadata": {},
   "outputs": [
    {
     "data": {
      "text/plain": [
       "'In The first international conference on Computer support for collaborative learning (pp. 67-74). L'"
      ]
     },
     "execution_count": 430,
     "metadata": {},
     "output_type": "execute_result"
    }
   ],
   "source": [
    "sources[14589]"
   ]
  },
  {
   "cell_type": "code",
   "execution_count": 431,
   "metadata": {},
   "outputs": [],
   "source": [
    "sources = sources.map(lambda x: clean_string(x))"
   ]
  },
  {
   "cell_type": "code",
   "execution_count": 432,
   "metadata": {},
   "outputs": [
    {
     "data": {
      "text/plain": [
       "['in proceedings of the international conference of software engineering ( pp . )',\n",
       " 'journal of computers and mathematics and science teaching , ( ) , .',\n",
       " 'acm transactions of computing education ( toce ) , ( ) , – .',\n",
       " 'journal of research in science teaching , , – .',\n",
       " 'canadian journal of learning and technology , ( ) .',\n",
       " 'journal of adolescent and adult literacy , ( ) .',\n",
       " 'the modern language journal , ( ) , – .',\n",
       " 'journal of computer assisted learning , ( ) , .',\n",
       " 'international journal of educational research , ( ) , – .',\n",
       " 'journal of artificial societies and social simulation , ( ) , .']"
      ]
     },
     "execution_count": 432,
     "metadata": {},
     "output_type": "execute_result"
    }
   ],
   "source": [
    "sources.sample(10).tolist()"
   ]
  },
  {
   "cell_type": "code",
   "execution_count": 433,
   "metadata": {},
   "outputs": [],
   "source": [
    "def strip_garbage(s):\n",
    "    r = [y.strip() for y in reg.split(r'\\.|\\,|\\?|\\;|\\(|\\)', s) if re.search(pub.lower(), y)]\n",
    "    if len(r) > 0:\n",
    "        return r[0]\n",
    "    else:\n",
    "        print(s)\n",
    "        return None"
   ]
  },
  {
   "cell_type": "code",
   "execution_count": 434,
   "metadata": {
    "scrolled": false
   },
   "outputs": [],
   "source": [
    "sources = sources.map(lambda x: strip_garbage(x))#.map(lambda x: x[0] if len(x) > 0 else )"
   ]
  },
  {
   "cell_type": "markdown",
   "metadata": {},
   "source": [
    "People like to misspell CSCL spell it in various forms.."
   ]
  },
  {
   "cell_type": "markdown",
   "metadata": {},
   "source": [
    "## Most cited non  CSCL and ISCL conferences:"
   ]
  },
  {
   "cell_type": "code",
   "execution_count": 435,
   "metadata": {},
   "outputs": [
    {
     "data": {
      "text/plain": [
       "<matplotlib.axes._subplots.AxesSubplot at 0x1a28c47128>"
      ]
     },
     "execution_count": 435,
     "metadata": {},
     "output_type": "execute_result"
    },
    {
     "data": {
      "image/png": "[encoded data removed]",
      "text/plain": [
       "<Figure size 432x288 with 1 Axes>"
      ]
     },
     "metadata": {
      "needs_background": "light"
     },
     "output_type": "display_data"
    }
   ],
   "source": [
    "sources.value_counts().head(20).plot(kind='bar')"
   ]
  },
  {
   "cell_type": "code",
   "execution_count": 436,
   "metadata": {},
   "outputs": [
    {
     "data": {
      "text/plain": [
       "(1149,)"
      ]
     },
     "execution_count": 436,
     "metadata": {},
     "output_type": "execute_result"
    }
   ],
   "source": [
    "sources.value_counts().shape"
   ]
  },
  {
   "cell_type": "markdown",
   "metadata": {},
   "source": [
    "Use this: https://en.wikipedia.org/wiki/List_of_computer_science_conference_acronyms"
   ]
  },
  {
   "cell_type": "markdown",
   "metadata": {},
   "source": [
    "## Try to make individual conference stop list:"
   ]
  },
  {
   "cell_type": "code",
   "execution_count": 145,
   "metadata": {},
   "outputs": [],
   "source": [
    "import nltk\n",
    "from nltk import word_tokenize"
   ]
  },
  {
   "cell_type": "code",
   "execution_count": 367,
   "metadata": {},
   "outputs": [
    {
     "data": {
      "text/plain": [
       "[('in', 'ADP'), ('the', 'DET'), ('first', 'ADJ')]"
      ]
     },
     "execution_count": 367,
     "metadata": {},
     "output_type": "execute_result"
    }
   ],
   "source": [
    "nltk.pos_tag(['in', 'the', 'first'], tagset='universal')"
   ]
  },
  {
   "cell_type": "code",
   "execution_count": 147,
   "metadata": {},
   "outputs": [],
   "source": [
    "from collections import Counter"
   ]
  },
  {
   "cell_type": "code",
   "execution_count": 437,
   "metadata": {},
   "outputs": [],
   "source": [
    "all_words = []\n",
    "all_tags = []\n",
    "\n",
    "for sentence in sources:\n",
    "    s = word_tokenize(sentence)\n",
    "    all_words += s\n",
    "    all_tags += [ y for x,y in nltk.pos_tag(s)]"
   ]
  },
  {
   "cell_type": "code",
   "execution_count": 164,
   "metadata": {},
   "outputs": [
    {
     "data": {
      "text/plain": [
       "'journal of research in science teaching'"
      ]
     },
     "execution_count": 164,
     "metadata": {},
     "output_type": "execute_result"
    }
   ],
   "source": [
    "' '.join([ x for x,y in nltk.pos_tag(word_tokenize(sentence)) if y not in ['CD', ':','$' ]])"
   ]
  },
  {
   "cell_type": "code",
   "execution_count": 438,
   "metadata": {},
   "outputs": [],
   "source": [
    "dict_all_words = dict((x,all_words.count(x)) for x in set(all_words))"
   ]
  },
  {
   "cell_type": "code",
   "execution_count": 439,
   "metadata": {},
   "outputs": [],
   "source": [
    "word_df = pd.DataFrame([all_words,all_tags]).T\n",
    "word_df.columns = ['word', 'tag']"
   ]
  },
  {
   "cell_type": "code",
   "execution_count": 440,
   "metadata": {},
   "outputs": [
    {
     "data": {
      "text/plain": [
       "NN      8581\n",
       "IN      4888\n",
       "JJ      3284\n",
       "NNS     1855\n",
       "DT      1059\n",
       "CC       660\n",
       "VBG      421\n",
       "VBN      184\n",
       "VBD       65\n",
       "NNP       26\n",
       "VBP       24\n",
       "FW        19\n",
       "JJR       15\n",
       "TO        13\n",
       "VB        12\n",
       "VBZ       10\n",
       "RB         5\n",
       "PRP$       5\n",
       "PRP        4\n",
       ".          1\n",
       "WDT        1\n",
       "MD         1\n",
       "CD         1\n",
       "Name: tag, dtype: int64"
      ]
     },
     "execution_count": 440,
     "metadata": {},
     "output_type": "execute_result"
    }
   ],
   "source": [
    "word_df.tag.value_counts()"
   ]
  },
  {
   "cell_type": "code",
   "execution_count": 441,
   "metadata": {},
   "outputs": [
    {
     "data": {
      "text/plain": [
       "journal            2221\n",
       "education           834\n",
       "conference          691\n",
       "research            631\n",
       "science             603\n",
       "learning            337\n",
       "technology          308\n",
       "teaching            290\n",
       "psychology          245\n",
       "computer            149\n",
       "engineering          86\n",
       "teacher              86\n",
       "paper                77\n",
       "society              75\n",
       "symposium            74\n",
       "interaction          73\n",
       "knowledge            62\n",
       "design               60\n",
       "intelligence         57\n",
       "work                 42\n",
       "acm                  41\n",
       "personality          39\n",
       "computing            38\n",
       "association          36\n",
       "information          33\n",
       "mining               29\n",
       "’                    29\n",
       "group                25\n",
       "school               25\n",
       "communication        25\n",
       "                   ... \n",
       "peer                  1\n",
       "winter                1\n",
       "personalization       1\n",
       "groupware             1\n",
       "modelling             1\n",
       "sigir                 1\n",
       "sciences-volume       1\n",
       "tangible              1\n",
       "haikkarainen          1\n",
       "art                   1\n",
       "convergence           1\n",
       "rehabilitation        1\n",
       "mapping               1\n",
       "extension             1\n",
       "learning+             1\n",
       "australasia           1\n",
       "iri                   1\n",
       "press                 1\n",
       "human–computer        1\n",
       "time                  1\n",
       "digra                 1\n",
       "well-being            1\n",
       "eiah                  1\n",
       "gerard                1\n",
       "aslib                 1\n",
       "desimone              1\n",
       "integration           1\n",
       "wikis                 1\n",
       "mdw                   1\n",
       "hawaii                1\n",
       "Name: word, Length: 431, dtype: int64"
      ]
     },
     "execution_count": 441,
     "metadata": {},
     "output_type": "execute_result"
    }
   ],
   "source": [
    "word_df[word_df.tag == 'NN'].word.value_counts()"
   ]
  },
  {
   "cell_type": "code",
   "execution_count": 180,
   "metadata": {},
   "outputs": [
    {
     "name": "stdout",
     "output_type": "stream",
     "text": [
      "$: dollar\n",
      "    $ -$ --$ A$ C$ HK$ M$ NZ$ S$ U.S.$ US$\n",
      "'': closing quotation mark\n",
      "    ' ''\n",
      "(: opening parenthesis\n",
      "    ( [ {\n",
      "): closing parenthesis\n",
      "    ) ] }\n",
      ",: comma\n",
      "    ,\n",
      "--: dash\n",
      "    --\n",
      ".: sentence terminator\n",
      "    . ! ?\n",
      ":: colon or ellipsis\n",
      "    : ; ...\n",
      "CC: conjunction, coordinating\n",
      "    & 'n and both but either et for less minus neither nor or plus so\n",
      "    therefore times v. versus vs. whether yet\n",
      "CD: numeral, cardinal\n",
      "    mid-1890 nine-thirty forty-two one-tenth ten million 0.5 one forty-\n",
      "    seven 1987 twenty '79 zero two 78-degrees eighty-four IX '60s .025\n",
      "    fifteen 271,124 dozen quintillion DM2,000 ...\n",
      "DT: determiner\n",
      "    all an another any both del each either every half la many much nary\n",
      "    neither no some such that the them these this those\n",
      "EX: existential there\n",
      "    there\n",
      "FW: foreign word\n",
      "    gemeinschaft hund ich jeux habeas Haementeria Herr K'ang-si vous\n",
      "    lutihaw alai je jour objets salutaris fille quibusdam pas trop Monte\n",
      "    terram fiche oui corporis ...\n",
      "IN: preposition or conjunction, subordinating\n",
      "    astride among uppon whether out inside pro despite on by throughout\n",
      "    below within for towards near behind atop around if like until below\n",
      "    next into if beside ...\n",
      "JJ: adjective or numeral, ordinal\n",
      "    third ill-mannered pre-war regrettable oiled calamitous first separable\n",
      "    ectoplasmic battery-powered participatory fourth still-to-be-named\n",
      "    multilingual multi-disciplinary ...\n",
      "JJR: adjective, comparative\n",
      "    bleaker braver breezier briefer brighter brisker broader bumper busier\n",
      "    calmer cheaper choosier cleaner clearer closer colder commoner costlier\n",
      "    cozier creamier crunchier cuter ...\n",
      "JJS: adjective, superlative\n",
      "    calmest cheapest choicest classiest cleanest clearest closest commonest\n",
      "    corniest costliest crassest creepiest crudest cutest darkest deadliest\n",
      "    dearest deepest densest dinkiest ...\n",
      "LS: list item marker\n",
      "    A A. B B. C C. D E F First G H I J K One SP-44001 SP-44002 SP-44005\n",
      "    SP-44007 Second Third Three Two * a b c d first five four one six three\n",
      "    two\n",
      "MD: modal auxiliary\n",
      "    can cannot could couldn't dare may might must need ought shall should\n",
      "    shouldn't will would\n",
      "NN: noun, common, singular or mass\n",
      "    common-carrier cabbage knuckle-duster Casino afghan shed thermostat\n",
      "    investment slide humour falloff slick wind hyena override subhumanity\n",
      "    machinist ...\n",
      "NNP: noun, proper, singular\n",
      "    Motown Venneboerger Czestochwa Ranzer Conchita Trumplane Christos\n",
      "    Oceanside Escobar Kreisler Sawyer Cougar Yvette Ervin ODI Darryl CTCA\n",
      "    Shannon A.K.C. Meltex Liverpool ...\n",
      "NNPS: noun, proper, plural\n",
      "    Americans Americas Amharas Amityvilles Amusements Anarcho-Syndicalists\n",
      "    Andalusians Andes Andruses Angels Animals Anthony Antilles Antiques\n",
      "    Apache Apaches Apocrypha ...\n",
      "NNS: noun, common, plural\n",
      "    undergraduates scotches bric-a-brac products bodyguards facets coasts\n",
      "    divestitures storehouses designs clubs fragrances averages\n",
      "    subjectivists apprehensions muses factory-jobs ...\n",
      "PDT: pre-determiner\n",
      "    all both half many quite such sure this\n",
      "POS: genitive marker\n",
      "    ' 's\n",
      "PRP: pronoun, personal\n",
      "    hers herself him himself hisself it itself me myself one oneself ours\n",
      "    ourselves ownself self she thee theirs them themselves they thou thy us\n",
      "PRP$: pronoun, possessive\n",
      "    her his mine my our ours their thy your\n",
      "RB: adverb\n",
      "    occasionally unabatingly maddeningly adventurously professedly\n",
      "    stirringly prominently technologically magisterially predominately\n",
      "    swiftly fiscally pitilessly ...\n",
      "RBR: adverb, comparative\n",
      "    further gloomier grander graver greater grimmer harder harsher\n",
      "    healthier heavier higher however larger later leaner lengthier less-\n",
      "    perfectly lesser lonelier longer louder lower more ...\n",
      "RBS: adverb, superlative\n",
      "    best biggest bluntest earliest farthest first furthest hardest\n",
      "    heartiest highest largest least less most nearest second tightest worst\n",
      "RP: particle\n",
      "    aboard about across along apart around aside at away back before behind\n",
      "    by crop down ever fast for forth from go high i.e. in into just later\n",
      "    low more off on open out over per pie raising start teeth that through\n",
      "    under unto up up-pp upon whole with you\n",
      "SYM: symbol\n",
      "    % & ' '' ''. ) ). * + ,. < = > @ A[fj] U.S U.S.S.R * ** ***\n",
      "TO: \"to\" as preposition or infinitive marker\n",
      "    to\n",
      "UH: interjection\n",
      "    Goodbye Goody Gosh Wow Jeepers Jee-sus Hubba Hey Kee-reist Oops amen\n",
      "    huh howdy uh dammit whammo shucks heck anyways whodunnit honey golly\n",
      "    man baby diddle hush sonuvabitch ...\n",
      "VB: verb, base form\n",
      "    ask assemble assess assign assume atone attention avoid bake balkanize\n",
      "    bank begin behold believe bend benefit bevel beware bless boil bomb\n",
      "    boost brace break bring broil brush build ...\n",
      "VBD: verb, past tense\n",
      "    dipped pleaded swiped regummed soaked tidied convened halted registered\n",
      "    cushioned exacted snubbed strode aimed adopted belied figgered\n",
      "    speculated wore appreciated contemplated ...\n",
      "VBG: verb, present participle or gerund\n",
      "    telegraphing stirring focusing angering judging stalling lactating\n",
      "    hankerin' alleging veering capping approaching traveling besieging\n",
      "    encrypting interrupting erasing wincing ...\n",
      "VBN: verb, past participle\n",
      "    multihulled dilapidated aerosolized chaired languished panelized used\n",
      "    experimented flourished imitated reunifed factored condensed sheared\n",
      "    unsettled primed dubbed desired ...\n",
      "VBP: verb, present tense, not 3rd person singular\n",
      "    predominate wrap resort sue twist spill cure lengthen brush terminate\n",
      "    appear tend stray glisten obtain comprise detest tease attract\n",
      "    emphasize mold postpone sever return wag ...\n",
      "VBZ: verb, present tense, 3rd person singular\n",
      "    bases reconstructs marks mixes displeases seals carps weaves snatches\n",
      "    slumps stretches authorizes smolders pictures emerges stockpiles\n",
      "    seduces fizzes uses bolsters slaps speaks pleads ...\n",
      "WDT: WH-determiner\n",
      "    that what whatever which whichever\n",
      "WP: WH-pronoun\n",
      "    that what whatever whatsoever which who whom whosoever\n",
      "WP$: WH-pronoun, possessive\n",
      "    whose\n",
      "WRB: Wh-adverb\n",
      "    how however whence whenever where whereby whereever wherein whereof why\n",
      "``: opening quotation mark\n",
      "    ` ``\n"
     ]
    }
   ],
   "source": [
    "nltk.help.upenn_tagset()"
   ]
  },
  {
   "cell_type": "code",
   "execution_count": 173,
   "metadata": {},
   "outputs": [
    {
     "data": {
      "text/plain": [
       "1.0"
      ]
     },
     "execution_count": 173,
     "metadata": {},
     "output_type": "execute_result"
    }
   ],
   "source": [
    "import difflib\n",
    "difflib.SequenceMatcher(None, 'hello', 'hello').ratio()"
   ]
  },
  {
   "cell_type": "code",
   "execution_count": 174,
   "metadata": {},
   "outputs": [],
   "source": [
    "d = {}"
   ]
  },
  {
   "cell_type": "code",
   "execution_count": 175,
   "metadata": {},
   "outputs": [],
   "source": [
    "for i, row in enumerate(sources.unique()):\n",
    "    for j, row_2 in enumerate(sources.unique()):\n",
    "        if i > j and row != row_2:\n",
    "            difference = difflib.SequenceMatcher(None, row, row_2).ratio()\n",
    "            if difference > 0.9:\n",
    "                if row in d.keys():\n",
    "                    d[row].append(row_2)\n",
    "                else:\n",
    "                    d[row] = [row_2]"
   ]
  },
  {
   "cell_type": "code",
   "execution_count": 176,
   "metadata": {},
   "outputs": [
    {
     "data": {
      "text/plain": [
       "344"
      ]
     },
     "execution_count": 176,
     "metadata": {},
     "output_type": "execute_result"
    }
   ],
   "source": [
    "len(d)"
   ]
  },
  {
   "cell_type": "code",
   "execution_count": 178,
   "metadata": {},
   "outputs": [
    {
     "data": {
      "text/plain": [
       "{'10th european conference of technology enhanced learning': ['in european conference of technology enhanced learning',\n",
       "  'euroopean conference of technology enhanced learning'],\n",
       " '12th international conference of the learning sciences': ['fourth international conference of the learning sciences',\n",
       "  'of international conference of learning sciences',\n",
       "  'international conference of the learning sciences',\n",
       "  'in fourth international conference of the learning sciences',\n",
       "  'in international conference of the learning sciences',\n",
       "  'international conference of learning sciences'],\n",
       " '1845 international journal artificial intelligence education': ['international journal of artificial intelligence in education'],\n",
       " '2013 46th hawaii international conference of': ['2010 43rd hawaii international conference of'],\n",
       " '2015 international conference of': ['international conference of',\n",
       "  '2013 5th international conference of'],\n",
       " '22 nd international conference of computers in education': ['25th international conference of computers in education'],\n",
       " '7th international learning analytics and knowledge conference': ['in 8th international learning analytics and knowledge conference'],\n",
       " 'acm transactions of computer-human interactions': ['acm transactions of computer-human interaction',\n",
       "  'transactions of computer-human interaction'],\n",
       " 'acm transactions of humancomputer interaction': ['acm transactions of human computer interaction',\n",
       "  'ais transactions of human-computer interaction'],\n",
       " 'ais transactions of human-computer interaction': ['acm transactions of human computer interaction'],\n",
       " 'american education research journal': ['american educational research journal'],\n",
       " 'american journal education': ['american journal of education'],\n",
       " 'american journal of distance education': ['the american journal of distance education'],\n",
       " 'american journal of evaluation': ['american journal of education'],\n",
       " 'american journal of physics 72': ['american journal of physics'],\n",
       " 'american journal of psychology': ['american journal of sociology',\n",
       "  'interamerican journal of psychology'],\n",
       " 'australasian journal educational technology': ['australasian journal of educational technology'],\n",
       " 'australian journal of teacher education': ['australasian journal of teacher education'],\n",
       " 'british education research journal': ['british educational research journal'],\n",
       " 'british journal of educational psychology': ['british journal of educational technology'],\n",
       " 'british journal of educational technology 41': ['british journal of educational technology'],\n",
       " 'british journal of social psychology': ['the journal of social psychology'],\n",
       " 'canadian journal of learning and technology 36': ['canadian journal of learning and technology',\n",
       "  'canadian journal of learning technology'],\n",
       " 'canadian journal of learning and technologyla revue canadienne de l’apprentissage et de la technologie': ['canadian journal of learning and technologyla revue canadienne de l’apprentissage et de la technologie [online]'],\n",
       " 'canadian journal of learning technology': ['canadian journal of learning and technology'],\n",
       " 'computer-supported collaborative work: the journal of collaborative computing': ['computer supported cooperative work: the journal of collaborative computing 12'],\n",
       " 'elementary school journal': ['the elementary school journal'],\n",
       " 'euroopean conference of technology enhanced learning': ['in european conference of technology enhanced learning'],\n",
       " 'european journal psychology education': ['european journal of psychology of education'],\n",
       " 'icer ’12 proceedings of the eighth international workshop of computing education research': ['icer ’08 proceedings of the fourth international workshop of computing education research'],\n",
       " 'ieee international conference of': ['international conference of'],\n",
       " 'ieee transactions': ['ieee transactions on'],\n",
       " 'in 17th international conference of artificial intelligence in education': ['in international conference of artificial intelligence in education'],\n",
       " 'in 2009 ieee virtual reality conference': ['in 2010 ieee virtual reality conference'],\n",
       " 'in 24th annual conference of psychology of programming interest': ['in 24th annual conference of psychology of programming interest group'],\n",
       " 'in 39th ieee frontiers in education conference': ['in 2014 ieee frontiers in education conference'],\n",
       " 'in adjunct proceedings of the 28th annual acm symposium of user interface software and technology': ['in proceedings of the 15th annual acm symposium of user interface software and technology',\n",
       "  'in proceedings of the 23nd annual acm symposium of user interface software and technology'],\n",
       " 'in fourth annual international conference of the learning sciences': ['fourth international conference of the learning sciences',\n",
       "  'in fourth international conference of the learning sciences',\n",
       "  'in the international conference of the learning sciences'],\n",
       " 'in fourth international conference of the learning sciences': ['fourth international conference of the learning sciences',\n",
       "  'international conference of the learning sciences'],\n",
       " 'in international conference of intelligent virtual agents': ['international conference intelligent virtual agents'],\n",
       " 'in international conference of the learning sciences': ['fourth international conference of the learning sciences',\n",
       "  'of international conference of learning sciences',\n",
       "  'international conference of the learning sciences',\n",
       "  'in fourth international conference of the learning sciences'],\n",
       " 'in international perspectives in the learning sciences: the future of learning: proceedings of the 10th international conference of the learning sciences': ['in international perspectives in the learning sciences: proceedings of the 11th international conference of the learning sciences'],\n",
       " 'in journal of computer assisted learning': ['journal of computer assisted learning',\n",
       "  'journal of computer assisted learning 23'],\n",
       " 'in learning and becoming in practice: the international conference of the learning sciences': ['learning and becoming in practice: the international conference of the learning sciences 2014'],\n",
       " 'in proceeding of the 44th acm technical symposium of computer science education': ['in proceedings of the 43rd acm technical symposium of computer science education',\n",
       "  'in proceedings of the 47th acm technical symposium of computing science education',\n",
       "  'in proceedings of the 41st acm technical symposium computer science education',\n",
       "  'proceedings of the 45th acm technical symposium of computer science education',\n",
       "  'in proceedings of the 42nd acm technical symposium of computer science education'],\n",
       " 'in proceedings from 12th international conference of the learning sciences': ['in proceedings international conference of the learning sciences',\n",
       "  'in proceedings of the 10th international conference of the learning sciences',\n",
       "  'proceedings of the 6th international conference of the learning sciences',\n",
       "  'proceedings of the 12th international conference of the learning sciences',\n",
       "  'proceedings of the international conference of the learning sciences',\n",
       "  'in proceedings of the international conference of learning sciences',\n",
       "  'in proceedings of the 2016 international conference of the learning sciences',\n",
       "  'in proceedings of the 8th international conference of the learning sciences',\n",
       "  'in proceedings of the 12 th international conference of the learning sciences',\n",
       "  'proceedings of the 8th international conference of the learning sciences',\n",
       "  'proceedings of the 10th international conference of the learning sciences',\n",
       "  'proceedings of the 13th international conference of the learning sciences'],\n",
       " 'in proceedings of 2017 fablearn conference of creativity and fabrication in education': ['in proceedings of the fablearn conference of creativity and fabrication in education'],\n",
       " 'in proceedings of 2017 ieee global engineering education conference': ['proceedings of the ieee global engineering education conference'],\n",
       " 'in proceedings of achi 2013': ['in proceedings of idc 2013',\n",
       "  'in proceedings of chi 2009'],\n",
       " 'in proceedings of ai in education': ['proceedings of ai in education'],\n",
       " 'in proceedings of chi 2009': ['in proceedings of chi ’97'],\n",
       " 'in proceedings of chi 2013': ['in proceedings of idc 2013',\n",
       "  'in proceedings of chi 2009',\n",
       "  'in proceedings of achi 2013'],\n",
       " 'in proceedings of chi ’95': ['in proceedings of chi ’97',\n",
       "  'in proceedings of chi 2009'],\n",
       " 'in proceedings of conference of computer supported cooperative work': ['in proceedings of the acm 2012 conference of computer supported cooperative work'],\n",
       " 'in proceedings of cscw 2004': ['in proceedings of ecscw 2003'],\n",
       " 'in proceedings of cscw 2012': ['in proceedings of ecscw 2003',\n",
       "  'in proceedings of cscw 2004',\n",
       "  'proceedings of cscw 2014'],\n",
       " 'in proceedings of cscw ’92 conference of computer-supported cooperative work': ['in proceedings of conference of computer supported cooperative work',\n",
       "  'in proceedings of the acm conference of computer-supported cooperative work'],\n",
       " 'in proceedings of icer15': ['in proceedings of icer 10'],\n",
       " 'in proceedings of idc': ['in proceedings of idc 09',\n",
       "  'in proceedings of hicss'],\n",
       " 'in proceedings of idc 09': ['in proceedings of idc 2013',\n",
       "  'in proceedings of its 09'],\n",
       " 'in proceedings of idc 2009': ['in proceedings of idc 2013',\n",
       "  'in proceedings of idc 09',\n",
       "  'in proceedings of chi 2009',\n",
       "  'in proceedings of idc 2011'],\n",
       " 'in proceedings of idc 2011': ['in proceedings of idc 2013',\n",
       "  'in proceedings of idc 09'],\n",
       " 'in proceedings of sigcse ’18': ['in proceedings of sigcse ’17'],\n",
       " 'in proceedings of the 10th european conference of technology enhanced learning': ['proceedings 4th european conference of technology enhanced learning',\n",
       "  'proceedings of the 5th european conference of technology enhanced learning'],\n",
       " 'in proceedings of the 10th international conference of the learning sciences': ['in proceedings international conference of the learning sciences'],\n",
       " 'in proceedings of the 11th international conference of intelligent tutoring systems': ['proceedings for 12th international conference of intelligent tutoring systems',\n",
       "  'proceedings for 11th international conference of intelligent tutoring systems',\n",
       "  'proceedings of the 12th international conference of intelligent tutoring systems',\n",
       "  'in the proceedings of the 12th international conference of intelligent tutoring systems'],\n",
       " 'in proceedings of the 11th international conference of interaction design and children': ['in proceedings of the 9th international conference of interaction design and children',\n",
       "  'in proceedings of the 12th international conference of interaction design and children',\n",
       "  'proceedings of the 12th international conference of interaction design and children',\n",
       "  'in proceedings of the 7th international conference of interaction design and children',\n",
       "  'presented at the proceedings of the 11th international conference of interaction design and children',\n",
       "  'in proceedings of the 15th international conference of interaction design and children',\n",
       "  'in proceedings of the the 15th international conference of interaction design and children',\n",
       "  'in proceedings of the 15th international conference of interation design and children'],\n",
       " 'in proceedings of the 11th international conference of the learning sciences': ['in proceedings international conference of the learning sciences',\n",
       "  'in proceedings of the 10th international conference of the learning sciences',\n",
       "  'in proceedings of the 7th international conference of learning sciences',\n",
       "  'proceedings of the fourth international conference of the learning sciences',\n",
       "  'proceedings of the tenth international conference of the learning sciences',\n",
       "  'proceedings of the 6th international conference of the learning sciences',\n",
       "  'in proceedings of the 6th international conference of learning sciences',\n",
       "  'proceedings of the 12th international conference of the learning sciences',\n",
       "  'proceedings of the international conference of the learning sciences',\n",
       "  'in proceedings of the international conference of learning sciences',\n",
       "  'in proceedings of the 2016 international conference of the learning sciences',\n",
       "  'in proceedings of the 8th international conference of the learning sciences',\n",
       "  'in proceedings of the 12 th international conference of the learning sciences',\n",
       "  'proceedings of the 8th international conference of the learning sciences',\n",
       "  'proceedings of the 10th international conference of the learning sciences',\n",
       "  'proceedings of the 13th international conference of the learning sciences',\n",
       "  'in proceedings from 12th international conference of the learning sciences',\n",
       "  'in proceedings of the international conference of the learning sciences',\n",
       "  'in proceedings of the 9th international conference of the learning sciences',\n",
       "  'proceedings of the 6th international conference of learning sciences',\n",
       "  'in proceedings of the 12th international conference of learning sciences',\n",
       "  'in proceedings of the 9th international conference of the learning sciences - volume 1',\n",
       "  'proc of the 11th international conference of the learning sciences',\n",
       "  'paper in proceedings of the 11th international conference of the learning sciences',\n",
       "  'proceedings of the 11th international conference of the learning sciences',\n",
       "  'in proceedings of the 6th international conference of the learning sciences',\n",
       "  'in proceedings of the 11th international conference of the learning sciences  volume 1',\n",
       "  'proceedings of the international conference of the learning sciences ’98'],\n",
       " 'in proceedings of the 11th international conference of the learning sciences  volume 1': ['in proceedings of the 10th international conference of the learning sciences',\n",
       "  'proceedings of the 12th international conference of the learning sciences',\n",
       "  'in proceedings of the 2016 international conference of the learning sciences',\n",
       "  'in proceedings of the 8th international conference of the learning sciences',\n",
       "  'in proceedings of the 12 th international conference of the learning sciences',\n",
       "  'proceedings of the 10th international conference of the learning sciences',\n",
       "  'proceedings of the 13th international conference of the learning sciences',\n",
       "  'in proceedings of the international conference of the learning sciences',\n",
       "  'in proceedings of the 9th international conference of the learning sciences',\n",
       "  'in proceedings of the 9th international conference of the learning sciences - volume 1',\n",
       "  'paper in proceedings of the 11th international conference of the learning sciences',\n",
       "  'proceedings of the 11th international conference of the learning sciences',\n",
       "  'in proceedings of the 6th international conference of the learning sciences'],\n",
       " 'in proceedings of the 12 th international conference of the learning sciences': ['in proceedings international conference of the learning sciences',\n",
       "  'in proceedings of the 10th international conference of the learning sciences',\n",
       "  'in proceedings of the 7th international conference of learning sciences',\n",
       "  'proceedings of the fourth international conference of the learning sciences',\n",
       "  'proceedings of the tenth international conference of the learning sciences',\n",
       "  'proceedings of the 6th international conference of the learning sciences',\n",
       "  'in proceedings of the 6th international conference of learning sciences',\n",
       "  'proceedings of the 12th international conference of the learning sciences',\n",
       "  'proceedings of the international conference of the learning sciences',\n",
       "  'in proceedings of the international conference of learning sciences',\n",
       "  'in proceedings of the 2016 international conference of the learning sciences',\n",
       "  'in proceedings of the 8th international conference of the learning sciences'],\n",
       " 'in proceedings of the 121st asee annual conference and exposition': ['in proceedings of the 118th asee conference and exposition'],\n",
       " 'in proceedings of the 12th international conference of interaction design and children': ['in proceedings of the 9th international conference of interaction design and children'],\n",
       " 'in proceedings of the 12th international conference of learning sciences': ['in proceedings of the 10th international conference of the learning sciences',\n",
       "  'in proceedings of the 7th international conference of learning sciences',\n",
       "  'proceedings of the fourth international conference of the learning sciences',\n",
       "  'proceedings of the tenth international conference of the learning sciences',\n",
       "  'proceedings of the 6th international conference of the learning sciences',\n",
       "  'in proceedings of the 6th international conference of learning sciences',\n",
       "  'proceedings of the 12th international conference of the learning sciences',\n",
       "  'proceedings of the international conference of the learning sciences',\n",
       "  'in proceedings of the international conference of learning sciences',\n",
       "  'in proceedings of the 2016 international conference of the learning sciences',\n",
       "  'in proceedings of the 8th international conference of the learning sciences',\n",
       "  'in proceedings of the 12 th international conference of the learning sciences',\n",
       "  'proceedings of the 8th international conference of the learning sciences',\n",
       "  'proceedings of the 10th international conference of the learning sciences',\n",
       "  'proceedings of the 13th international conference of the learning sciences',\n",
       "  'in proceedings from 12th international conference of the learning sciences',\n",
       "  'in proceedings of the international conference of the learning sciences',\n",
       "  'in proceedings of the 9th international conference of the learning sciences',\n",
       "  'proceedings of the 6th international conference of learning sciences'],\n",
       " 'in proceedings of the 12th international conference of the learning sciences': ['in proceedings international conference of the learning sciences',\n",
       "  'in proceedings of the 10th international conference of the learning sciences',\n",
       "  'in proceedings of the 7th international conference of learning sciences',\n",
       "  'proceedings of the fourth international conference of the learning sciences',\n",
       "  'proceedings of the tenth international conference of the learning sciences',\n",
       "  'proceedings of the 6th international conference of the learning sciences',\n",
       "  'in proceedings of the 6th international conference of learning sciences',\n",
       "  'proceedings of the 12th international conference of the learning sciences',\n",
       "  'proceedings of the international conference of the learning sciences',\n",
       "  'in proceedings of the international conference of learning sciences',\n",
       "  'in proceedings of the 2016 international conference of the learning sciences',\n",
       "  'in proceedings of the 8th international conference of the learning sciences',\n",
       "  'in proceedings of the 12 th international conference of the learning sciences',\n",
       "  'proceedings of the 8th international conference of the learning sciences',\n",
       "  'proceedings of the 10th international conference of the learning sciences',\n",
       "  'proceedings of the 13th international conference of the learning sciences',\n",
       "  'in proceedings from 12th international conference of the learning sciences',\n",
       "  'in proceedings of the international conference of the learning sciences',\n",
       "  'in proceedings of the 9th international conference of the learning sciences',\n",
       "  'proceedings of the 6th international conference of learning sciences',\n",
       "  'in proceedings of the 12th international conference of learning sciences',\n",
       "  'in proceedings of the 9th international conference of the learning sciences - volume 1',\n",
       "  'proc of the 11th international conference of the learning sciences',\n",
       "  'paper in proceedings of the 11th international conference of the learning sciences',\n",
       "  'proceedings of the 11th international conference of the learning sciences',\n",
       "  'in proceedings of the 6th international conference of the learning sciences',\n",
       "  'in proceedings of the 11th international conference of the learning sciences  volume 1',\n",
       "  'proceedings of the international conference of the learning sciences ’98',\n",
       "  'in proceedings of the 11th international conference of the learning sciences'],\n",
       " 'in proceedings of the 13th international conference of intelligent tutoring systems': ['proceedings for 12th international conference of intelligent tutoring systems',\n",
       "  'proceedings for 11th international conference of intelligent tutoring systems',\n",
       "  'proceedings of the 12th international conference of intelligent tutoring systems',\n",
       "  'in the proceedings of the 12th international conference of intelligent tutoring systems',\n",
       "  'in proceedings of the 11th international conference of intelligent tutoring systems'],\n",
       " 'in proceedings of the 13th international conference of intelligent user interfaces': ['in proceedings of the 20th international conference of intelligent user interfaces'],\n",
       " 'in proceedings of the 14th international conference of interaction design and children': ['in proceedings of the 9th international conference of interaction design and children',\n",
       "  'in proceedings of the 12th international conference of interaction design and children',\n",
       "  'proceedings of the 12th international conference of interaction design and children',\n",
       "  'in proceedings of the 7th international conference of interaction design and children',\n",
       "  'presented at the proceedings of the 11th international conference of interaction design and children',\n",
       "  'in proceedings of the 15th international conference of interaction design and children',\n",
       "  'in proceedings of the the 15th international conference of interaction design and children',\n",
       "  'in proceedings of the 15th international conference of interation design and children',\n",
       "  'in proceedings of the 11th international conference of interaction design and children'],\n",
       " 'in proceedings of the 14th international idc conference': ['in proceedings of the 14th international conference of idc'],\n",
       " 'in proceedings of the 15th international conference of interaction design and children': ['in proceedings of the 9th international conference of interaction design and children',\n",
       "  'in proceedings of the 12th international conference of interaction design and children',\n",
       "  'proceedings of the 12th international conference of interaction design and children',\n",
       "  'in proceedings of the 7th international conference of interaction design and children',\n",
       "  'presented at the proceedings of the 11th international conference of interaction design and children'],\n",
       " 'in proceedings of the 15th international conference of interation design and children': ['in proceedings of the 9th international conference of interaction design and children',\n",
       "  'in proceedings of the 12th international conference of interaction design and children',\n",
       "  'proceedings of the 12th international conference of interaction design and children',\n",
       "  'in proceedings of the 7th international conference of interaction design and children',\n",
       "  'in proceedings of the 15th international conference of interaction design and children',\n",
       "  'in proceedings of the the 15th international conference of interaction design and children'],\n",
       " 'in proceedings of the 16th international acm sigaccess conference of computers and accessibility': ['in proceedings of the 11th international acm sigaccess conference of computers and accessibility',\n",
       "  'in the proceedings of the 13th international acm sigaccess conference of computers and accessibility'],\n",
       " 'in proceedings of the 16th international conference of multimodal interaction': ['in: proceedings of the 16th international conference of multimodal interaction - icmi ’14'],\n",
       " 'in proceedings of the 17th acm conference of computer supported cooperative work and social computing': ['in proceedings of the 18th acm conference of computer supported cooperative work and social computing',\n",
       "  'proceedings of the 19th acm conference of computer-supported cooperative work and social computing'],\n",
       " 'in proceedings of the 18th international conference of supporting group work': ['in proceedings of the 18th international conference of supporting group work - group'],\n",
       " 'in proceedings of the 1999 conference of computer support for collaborative learning': ['proceedings of the 2005 conference of computer support for collaborative learning',\n",
       "  'in proceedings of the conference of computer support for collaborative learning'],\n",
       " 'in proceedings of the 1st international conference of learning analytics and knowledge': ['in proceedings of the sixth international conference of learning analytics and knowledge',\n",
       "  'in proceedings of the 6th international conference of learning analytics and knowledge'],\n",
       " 'in proceedings of the 2004 american society for engineering education annual conference and exposition': ['in proceedings of the 118th american society of engineering education annual conference and exposition'],\n",
       " 'in proceedings of the 2005 conference of interaction design and children': ['in proceedings of the 2017 conference of interaction design and children'],\n",
       " 'in proceedings of the 2011 acm symposium of applied computing': ['in proceedings of the 2010 acm symposium of applied computing'],\n",
       " 'in proceedings of the 2012 annual meeting of the american educational research association': ['proceedings of the 2012 annual meeting of the american educational research association'],\n",
       " 'in proceedings of the 2013 acm international conference of interactive tabletops and surfaces': ['in proceedings of the 2012 acm international conference of interactive tabletops and surfaces'],\n",
       " 'in proceedings of the 2013 conference of computer supported cooperative work': ['in proceedings of the acm 2012 conference of computer supported cooperative work',\n",
       "  'in proceedings of conference of computer supported cooperative work',\n",
       "  'in proceedings of the acm 2011 conference of computer supported cooperative work',\n",
       "  'in proceedings of the acm conference of computer-supported cooperative work',\n",
       "  'in proceedings of cscw ’92 conference of computer-supported cooperative work'],\n",
       " 'in proceedings of the 2014 conference of interaction design and children': ['in proceedings of the 2017 conference of interaction design and children',\n",
       "  'in proceedings of the 2005 conference of interaction design and children'],\n",
       " 'in proceedings of the 2014 conference of interaction design and children - idc ’14': ['in proceedings of the 2017 conference of interaction design and children',\n",
       "  'in proceedings of the 2005 conference of interaction design and children',\n",
       "  'in proceedings of the 2014 conference of interaction design and children'],\n",
       " 'in proceedings of the 2014 ieee frontiers in education conference': ['in proceedings of 40th aseeieee frontiers in education conference'],\n",
       " 'in proceedings of the 2015 acm conference of innovation and technology in computer science education': ['in proceedings of the 2014 conference of innovation and technology in computer science education'],\n",
       " 'in proceedings of the 2016 international conference of the learning sciences': ['in proceedings international conference of the learning sciences',\n",
       "  'in proceedings of the 10th international conference of the learning sciences',\n",
       "  'in proceedings of the 7th international conference of learning sciences',\n",
       "  'proceedings of the fourth international conference of the learning sciences',\n",
       "  'proceedings of the tenth international conference of the learning sciences',\n",
       "  'proceedings of the 6th international conference of the learning sciences',\n",
       "  'in proceedings of the 6th international conference of learning sciences',\n",
       "  'proceedings of the 12th international conference of the learning sciences',\n",
       "  'proceedings of the international conference of the learning sciences',\n",
       "  'in proceedings of the international conference of learning sciences'],\n",
       " 'in proceedings of the 2017 acm conference of international computing education research': ['in proceedings of the tenth annual conference of international computing education research'],\n",
       " 'in proceedings of the 2017 chi conference of human factors in computing systems': ['in proceedings of the 2016 chi conference of human factors in computing systems',\n",
       "  'in proceedings of the conference of human factors in computing systems',\n",
       "  'in proceedings of the sigchi conference of human factors in computing systems'],\n",
       " 'in proceedings of the 22nd international conference of computers in education icce 2014': ['in proceedings of the 25th international conference of computers in education'],\n",
       " 'in proceedings of the 23nd annual acm symposium of user interface software and technology': ['in proceedings of the 15th annual acm symposium of user interface software and technology'],\n",
       " 'in proceedings of the 25th international conference of computers in education': ['in proceedings of the 7th international conference of computer supported education'],\n",
       " 'in proceedings of the 27th annual acm symposium of user interface software and technology': ['in proceedings of the 15th annual acm symposium of user interface software and technology',\n",
       "  'in proceedings of the 23nd annual acm symposium of user interface software and technology',\n",
       "  'in adjunct proceedings of the 28th annual acm symposium of user interface software and technology'],\n",
       " 'in proceedings of the 28th annual conference of computer graphics and interactive techniques': ['in proceedings of the 24th annual conference of computer graphics and interactive techniques'],\n",
       " 'in proceedings of the 28th annual meeting of association for computational linguistics': ['in proceedings of the 32nd annual meeting of association for computational linguistics'],\n",
       " 'in proceedings of the 29th annual conference of the cognitive science society': ['in proceedings of the 32nd annual conference of the cognitive science society'],\n",
       " 'in proceedings of the 32nd annual acm conference of human factors in computing systems': ['in proceedings of the 33rd annual acm conference of human factors in computing systems'],\n",
       " 'in proceedings of the 32nd annual conference of the cognitive science society': ['proceedings for 26nd annual conference of the cognitive science society'],\n",
       " 'in proceedings of the 41st acm technical symposium computer science education': ['in proceedings of the 43rd acm technical symposium of computer science education',\n",
       "  'in proceedings of the 47th acm technical symposium of computing science education'],\n",
       " 'in proceedings of the 41st acm technical symposium of computer science education': ['in proceedings of the 43rd acm technical symposium of computer science education',\n",
       "  'in proceedings of the 47th acm technical symposium of computing science education',\n",
       "  'in proceedings of the 41st acm technical symposium computer science education',\n",
       "  'proceedings of the 45th acm technical symposium of computer science education',\n",
       "  'in proceedings of the 42nd acm technical symposium of computer science education',\n",
       "  'in proceeding of the 44th acm technical symposium of computer science education',\n",
       "  'proceedings of the 44th acm technical symposium of computer science education',\n",
       "  'proceedings of the 34th acm technical symposium of computer science education',\n",
       "  'proceeding of the 44th acm technical symposium of computer science education',\n",
       "  'proceedings of the 48th acm technical symposium of computer science education',\n",
       "  'in sigcse 12 proceedings of the 43rd acm technical symposium of computer science education',\n",
       "  'in proceedings of the 46th acm technical symposium of computer science education'],\n",
       " 'in proceedings of the 42nd acm technical symposium of computer science education': ['in proceedings of the 43rd acm technical symposium of computer science education',\n",
       "  'in proceedings of the 47th acm technical symposium of computing science education',\n",
       "  'in proceedings of the 41st acm technical symposium computer science education',\n",
       "  'proceedings of the 45th acm technical symposium of computer science education'],\n",
       " 'in proceedings of the 46th acm technical symposium of computer science education': ['in proceedings of the 43rd acm technical symposium of computer science education',\n",
       "  'in proceedings of the 47th acm technical symposium of computing science education',\n",
       "  'in proceedings of the 41st acm technical symposium computer science education',\n",
       "  'proceedings of the 45th acm technical symposium of computer science education',\n",
       "  'in proceedings of the 42nd acm technical symposium of computer science education',\n",
       "  'in proceeding of the 44th acm technical symposium of computer science education',\n",
       "  'proceedings of the 44th acm technical symposium of computer science education',\n",
       "  'proceedings of the 34th acm technical symposium of computer science education',\n",
       "  'proceeding of the 44th acm technical symposium of computer science education',\n",
       "  'proceedings of the 48th acm technical symposium of computer science education',\n",
       "  'in sigcse 12 proceedings of the 43rd acm technical symposium of computer science education'],\n",
       " 'in proceedings of the 47th acm sigcse': ['in proceedings of the 45th acm sigcse'],\n",
       " 'in proceedings of the 47th acm technical symposium of computing science education': ['in proceedings of the 43rd acm technical symposium of computer science education'],\n",
       " 'in proceedings of the 6th acm sigchi conference of creativity and cognition': ['in proceedings of the 2017 acm sigchi conference of creativity and cognition'],\n",
       " 'in proceedings of the 6th international conference of learning analytics and knowledge': ['in proceedings of the sixth international conference of learning analytics and knowledge'],\n",
       " 'in proceedings of the 6th international conference of learning sciences': ['in proceedings of the 10th international conference of the learning sciences',\n",
       "  'in proceedings of the 7th international conference of learning sciences',\n",
       "  'proceedings of the fourth international conference of the learning sciences',\n",
       "  'proceedings of the tenth international conference of the learning sciences',\n",
       "  'proceedings of the 6th international conference of the learning sciences'],\n",
       " 'in proceedings of the 6th international conference of multimodal interfaces': ['in proceedings of the 16th international conference of multimodal interaction'],\n",
       " 'in proceedings of the 6th international conference of the learning sciences': ['in proceedings international conference of the learning sciences',\n",
       "  'in proceedings of the 10th international conference of the learning sciences',\n",
       "  'in proceedings of the 7th international conference of learning sciences',\n",
       "  'proceedings of the fourth international conference of the learning sciences',\n",
       "  'proceedings of the tenth international conference of the learning sciences',\n",
       "  'proceedings of the 6th international conference of the learning sciences',\n",
       "  'in proceedings of the 6th international conference of learning sciences',\n",
       "  'proceedings of the 12th international conference of the learning sciences',\n",
       "  'proceedings of the international conference of the learning sciences',\n",
       "  'in proceedings of the international conference of learning sciences',\n",
       "  'in proceedings of the 2016 international conference of the learning sciences',\n",
       "  'in proceedings of the 8th international conference of the learning sciences',\n",
       "  'in proceedings of the 12 th international conference of the learning sciences',\n",
       "  'proceedings of the 8th international conference of the learning sciences',\n",
       "  'proceedings of the 10th international conference of the learning sciences',\n",
       "  'proceedings of the 13th international conference of the learning sciences',\n",
       "  'in proceedings from 12th international conference of the learning sciences',\n",
       "  'in proceedings of the international conference of the learning sciences',\n",
       "  'in proceedings of the 9th international conference of the learning sciences',\n",
       "  'proceedings of the 6th international conference of learning sciences',\n",
       "  'in proceedings of the 12th international conference of learning sciences',\n",
       "  'in proceedings of the 9th international conference of the learning sciences - volume 1',\n",
       "  'proc of the 11th international conference of the learning sciences',\n",
       "  'paper in proceedings of the 11th international conference of the learning sciences',\n",
       "  'proceedings of the 11th international conference of the learning sciences'],\n",
       " 'in proceedings of the 7th international conference of interaction design and children': ['in proceedings of the 9th international conference of interaction design and children',\n",
       "  'in proceedings of the 12th international conference of interaction design and children',\n",
       "  'proceedings of the 12th international conference of interaction design and children'],\n",
       " 'in proceedings of the 7th international conference of learning sciences': ['in proceedings of the 10th international conference of the learning sciences'],\n",
       " 'in proceedings of the 8th international conference of educational data mining': ['proceedings of the 7th international conference of educational data mining',\n",
       "  'proceedings of the 9the international conference of educational data mining',\n",
       "  'in proceedings of the 9th international conference of educational data mining',\n",
       "  'proceedings of the 8th international conference of educational data mining',\n",
       "  'proceedings of the 9th international conference of educational data mining',\n",
       "  'proceedings of the 10th international conference of educational data mining'],\n",
       " 'in proceedings of the 8th international conference of international conference for the learning sciences - volume 2': ['in proceedings of the 8th international conference of international conference for the learning sciencesvolume 2',\n",
       "  'in proceedings of the 8th international conference of international conference for the learning sciences-volume 2',\n",
       "  'of the 8th international conference of international conference for the learning sciences-volume 2',\n",
       "  'in proceedings of the 8th international conference of international conference for the learning sciences-volume 3'],\n",
       " 'in proceedings of the 8th international conference of international conference for the learning sciences-volume 2': ['in proceedings of the 8th international conference of international conference for the learning sciencesvolume 2'],\n",
       " 'in proceedings of the 8th international conference of international conference for the learning sciences-volume 3': ['in proceedings of the 8th international conference of international conference for the learning sciencesvolume 2',\n",
       "  'in proceedings of the 8th international conference of international conference for the learning sciences-volume 2',\n",
       "  'of the 8th international conference of international conference for the learning sciences-volume 2'],\n",
       " 'in proceedings of the 8th international conference of the learning sciences': ['in proceedings international conference of the learning sciences',\n",
       "  'in proceedings of the 10th international conference of the learning sciences',\n",
       "  'in proceedings of the 7th international conference of learning sciences',\n",
       "  'proceedings of the fourth international conference of the learning sciences',\n",
       "  'proceedings of the tenth international conference of the learning sciences',\n",
       "  'proceedings of the 6th international conference of the learning sciences',\n",
       "  'in proceedings of the 6th international conference of learning sciences',\n",
       "  'proceedings of the 12th international conference of the learning sciences',\n",
       "  'proceedings of the international conference of the learning sciences',\n",
       "  'in proceedings of the international conference of learning sciences',\n",
       "  'in proceedings of the 2016 international conference of the learning sciences'],\n",
       " 'in proceedings of the 9th international conference of educational data mining': ['proceedings of the 7th international conference of educational data mining',\n",
       "  'proceedings of the 9the international conference of educational data mining'],\n",
       " 'in proceedings of the 9th international conference of the learning sciences': ['in proceedings international conference of the learning sciences',\n",
       "  'in proceedings of the 10th international conference of the learning sciences',\n",
       "  'in proceedings of the 7th international conference of learning sciences',\n",
       "  'proceedings of the fourth international conference of the learning sciences',\n",
       "  'proceedings of the tenth international conference of the learning sciences',\n",
       "  'proceedings of the 6th international conference of the learning sciences',\n",
       "  'in proceedings of the 6th international conference of learning sciences',\n",
       "  'proceedings of the 12th international conference of the learning sciences',\n",
       "  'proceedings of the international conference of the learning sciences',\n",
       "  'in proceedings of the international conference of learning sciences',\n",
       "  'in proceedings of the 2016 international conference of the learning sciences',\n",
       "  'in proceedings of the 8th international conference of the learning sciences',\n",
       "  'in proceedings of the 12 th international conference of the learning sciences',\n",
       "  'proceedings of the 8th international conference of the learning sciences',\n",
       "  'proceedings of the 10th international conference of the learning sciences',\n",
       "  'proceedings of the 13th international conference of the learning sciences',\n",
       "  'in proceedings from 12th international conference of the learning sciences',\n",
       "  'in proceedings of the international conference of the learning sciences'],\n",
       " 'in proceedings of the 9th international conference of the learning sciences - volume 1': ['in proceedings of the 10th international conference of the learning sciences',\n",
       "  'in proceedings of the 8th international conference of the learning sciences',\n",
       "  'in proceedings of the 12 th international conference of the learning sciences',\n",
       "  'in proceedings of the international conference of the learning sciences',\n",
       "  'in proceedings of the 9th international conference of the learning sciences'],\n",
       " 'in proceedings of the 9th international conference of the learning sciences-volume 2': ['in proceedings of the 10th international conference of the learning sciences',\n",
       "  'in proceedings of the 7th international conference of learning sciences',\n",
       "  'proceedings of the 6th international conference of the learning sciences',\n",
       "  'in proceedings of the 6th international conference of learning sciences',\n",
       "  'proceedings of the 12th international conference of the learning sciences',\n",
       "  'in proceedings of the 8th international conference of the learning sciences',\n",
       "  'in proceedings of the 12 th international conference of the learning sciences',\n",
       "  'proceedings of the 8th international conference of the learning sciences',\n",
       "  'proceedings of the 10th international conference of the learning sciences',\n",
       "  'proceedings of the 13th international conference of the learning sciences',\n",
       "  'in proceedings of the international conference of the learning sciences',\n",
       "  'in proceedings of the 9th international conference of the learning sciences',\n",
       "  'in proceedings of the 9th international conference of the learning sciences - volume 1',\n",
       "  'proceedings of the 11th international conference of the learning sciences',\n",
       "  'in proceedings of the 6th international conference of the learning sciences',\n",
       "  'in proceedings of the 11th international conference of the learning sciences  volume 1',\n",
       "  'in proceedings of the 11th international conference of the learning sciences',\n",
       "  'in proceedings of the 12th international conference of the learning sciences'],\n",
       " 'in proceedings of the acm 2011 conference of computer supported cooperative work': ['in proceedings of the acm 2012 conference of computer supported cooperative work',\n",
       "  'in proceedings of conference of computer supported cooperative work'],\n",
       " 'in proceedings of the acm conference of computer-supported cooperative work': ['in proceedings of the acm 2012 conference of computer supported cooperative work',\n",
       "  'in proceedings of conference of computer supported cooperative work',\n",
       "  'in proceedings of the acm 2011 conference of computer supported cooperative work'],\n",
       " 'in proceedings of the american society for engineering education national conference': ['in proceedings of the 121st american society for engineering education annual conference'],\n",
       " 'in proceedings of the conference of computer support for collaborative learning': ['proceedings of the 2005 conference of computer support for collaborative learning'],\n",
       " 'in proceedings of the conference of human factors in computing systems': ['in proceedings of the 2016 chi conference of human factors in computing systems'],\n",
       " 'in proceedings of the eleventh annual international conference of international computing education research': ['in proceedings of the ninth annual international acm conference of international computing education research',\n",
       "  'in proceedings of the tenth annual conference of international computing education research',\n",
       "  'proceedings of the eleventh annual international conference of international computing education research',\n",
       "  'of the eleventh annual international conference of international computing education research',\n",
       "  'in proceedings of the eleventh annual international conference of international computing education research - icer ’15'],\n",
       " 'in proceedings of the eleventh annual international conference of international computing education research - icer ’15': ['in proceedings of the ninth annual international acm conference of international computing education research',\n",
       "  'proceedings of the eleventh annual international conference of international computing education research'],\n",
       " 'in proceedings of the eleventh international conference of tangible': ['in proceedings of the 8th international conference of tangible'],\n",
       " 'in proceedings of the fifteenth annual conference of the cognitive science society': ['in proceedings of the 32nd annual conference of the cognitive science society',\n",
       "  'in proceedings of the 29th annual conference of the cognitive science society',\n",
       "  'proceedings of the twenty-fifth annual conference of the cognitive science society',\n",
       "  'proceedings of the 35th annual conference of the cognitive science society'],\n",
       " 'in proceedings of the first acm conference of learning @ scale conference': ['in proceedings of the first acm conference of learning@ scale conference'],\n",
       " 'in proceedings of the fourth international conference of learning analytics and knowledge': ['in proceedings of the sixth international conference of learning analytics and knowledge',\n",
       "  'in proceedings of the 6th international conference of learning analytics and knowledge',\n",
       "  'in proceedings of the 1st international conference of learning analytics and knowledge'],\n",
       " 'in proceedings of the fourth international conference of learning analytics and knowledge lak’14': ['in proceedings of the sixth international conference of learning analytics and knowledge',\n",
       "  'in proceedings of the 6th international conference of learning analytics and knowledge',\n",
       "  'in proceedings of the 1st international conference of learning analytics and knowledge',\n",
       "  'in proceedings of the fourth international conference of learning analytics and knowledge',\n",
       "  'in proceedings of the third international conference of learning analytics and knowledge',\n",
       "  'in proceedings of the sixth international conference of learning analytics and knowledge - lak ’16',\n",
       "  'in: proceedings of the sixth international conference of learning analytics and knowledge - lak ’16'],\n",
       " 'in proceedings of the fourth international workshop of computing education research': ['icer ’08 proceedings of the fourth international workshop of computing education research',\n",
       "  'icer ’12 proceedings of the eighth international workshop of computing education research'],\n",
       " 'in proceedings of the fourth intl conference of learning analytics and knowledge': ['in proceedings of the sixth international conference of learning analytics and knowledge',\n",
       "  'in proceedings of the 6th international conference of learning analytics and knowledge',\n",
       "  'in proceedings of the 2nd conference of learning analytics and knowledge',\n",
       "  'in proceedings of the 1st international conference of learning analytics and knowledge',\n",
       "  'in proceedings of the fourth international conference of learning analytics and knowledge',\n",
       "  'in proceedings of the third international conference of learning analytics and knowledge',\n",
       "  'in proceedings of the fourth international conference of learning analytics and knowledge lak’14',\n",
       "  'proceedings of the fourth international conference of learning analytics and knowledge'],\n",
       " 'in proceedings of the international conference of learning sciences': ['in proceedings international conference of the learning sciences',\n",
       "  'in proceedings of the 10th international conference of the learning sciences',\n",
       "  'in proceedings of the 7th international conference of learning sciences',\n",
       "  'proceedings of the fourth international conference of the learning sciences',\n",
       "  'proceedings of the tenth international conference of the learning sciences',\n",
       "  'proceedings of the 6th international conference of the learning sciences',\n",
       "  'in proceedings of the 6th international conference of learning sciences',\n",
       "  'proceedings of the 12th international conference of the learning sciences',\n",
       "  'in the proceedings of international conference of learning sciences 2008',\n",
       "  'proceedings of the international conference of the learning sciences'],\n",
       " 'in proceedings of the international conference of the learning sciences': ['in proceedings international conference of the learning sciences',\n",
       "  'in proceedings of the 10th international conference of the learning sciences',\n",
       "  'in proceedings of the 7th international conference of learning sciences',\n",
       "  'proceedings of the fourth international conference of the learning sciences',\n",
       "  'proceedings of the tenth international conference of the learning sciences',\n",
       "  'proceedings of the 6th international conference of the learning sciences',\n",
       "  'in proceedings of the 6th international conference of learning sciences',\n",
       "  'proceedings of the 12th international conference of the learning sciences',\n",
       "  'proceedings of the international conference of the learning sciences',\n",
       "  'in proceedings of the international conference of learning sciences',\n",
       "  'in proceedings of the 2016 international conference of the learning sciences',\n",
       "  'in proceedings of the 8th international conference of the learning sciences',\n",
       "  'in proceedings of the 12 th international conference of the learning sciences',\n",
       "  'proceedings of the 8th international conference of the learning sciences',\n",
       "  'proceedings of the 10th international conference of the learning sciences',\n",
       "  'proceedings of the 13th international conference of the learning sciences',\n",
       "  'in proceedings from 12th international conference of the learning sciences'],\n",
       " 'in proceedings of the international conference of weblogs and social media wen': ['in proceedings of the international conference of weblogs and social media'],\n",
       " 'in proceedings of the international symposium of open collaboration': ['in proceedings of the 5th international symposium of wikis and open collaboration'],\n",
       " 'in proceedings of the second acm conference of learning@ scale': ['in proceedings of the third acm conference of learning@ scale'],\n",
       " 'in proceedings of the seventeenth international conference of multimodal interaction': ['in proceedings of the 16th international conference of multimodal interaction'],\n",
       " 'in proceedings of the seventh international learning analytics and knowledge conference of - lak ’17': ['in proceedings of the seventh international learning analytics and knowledge conference'],\n",
       " 'in proceedings of the sigchi conference of human factors in computing systems': ['in proceedings of the 2016 chi conference of human factors in computing systems',\n",
       "  'in proceedings of the conference of human factors in computing systems'],\n",
       " 'in proceedings of the sixth international conference of learning analytics and knowledge - lak ’16': ['in proceedings of the sixth international conference of learning analytics and knowledge',\n",
       "  'in proceedings of the 6th international conference of learning analytics and knowledge',\n",
       "  'in proceedings of the 1st international conference of learning analytics and knowledge',\n",
       "  'in proceedings of the fourth international conference of learning analytics and knowledge',\n",
       "  'in proceedings of the third international conference of learning analytics and knowledge'],\n",
       " 'in proceedings of the sixth international conference of learning analytics and knowledge wen': ['in proceedings of the sixth international conference of learning analytics and knowledge',\n",
       "  'in proceedings of the 6th international conference of learning analytics and knowledge',\n",
       "  'in proceedings of the 1st international conference of learning analytics and knowledge',\n",
       "  'in proceedings of the fourth international conference of learning analytics and knowledge',\n",
       "  'in proceedings of the third international conference of learning analytics and knowledge',\n",
       "  'in proceedings of the sixth international conference of learning analytics and knowledge - lak ’16',\n",
       "  'in: proceedings of the sixth international conference of learning analytics and knowledge - lak ’16',\n",
       "  'in proceedings of the fourth international conference of learning analytics and knowledge lak’14',\n",
       "  'proceedings of the fourth international conference of learning analytics and knowledge',\n",
       "  'proceedings of the 2nd international conference of learning analytics and knowledge'],\n",
       " 'in proceedings of the tenth international conference of tangible': ['in proceedings of the 8th international conference of tangible',\n",
       "  'in proceedings of the eleventh international conference of tangible'],\n",
       " 'in proceedings of the the 15th international conference of interaction design and children': ['in proceedings of the 9th international conference of interaction design and children',\n",
       "  'in proceedings of the 12th international conference of interaction design and children',\n",
       "  'proceedings of the 12th international conference of interaction design and children',\n",
       "  'in proceedings of the 7th international conference of interaction design and children',\n",
       "  'in proceedings of the 15th international conference of interaction design and children'],\n",
       " 'in proceedings of the third international conference of learning analytics and knowledge': ['in proceedings of the sixth international conference of learning analytics and knowledge',\n",
       "  'in proceedings of the 6th international conference of learning analytics and knowledge',\n",
       "  'in proceedings of the 1st international conference of learning analytics and knowledge',\n",
       "  'in proceedings of the fourth international conference of learning analytics and knowledge'],\n",
       " 'in sigcse 12 proceedings of the 43rd acm technical symposium of computer science education': ['in proceedings of the 43rd acm technical symposium of computer science education',\n",
       "  'in proceedings of the 42nd acm technical symposium of computer science education'],\n",
       " 'in the international conference of the learning sciences': ['proceedings of the international conference of the learning sciences',\n",
       "  'fourth international conference of the learning sciences',\n",
       "  'international conference of the learning sciences',\n",
       "  'in fourth international conference of the learning sciences',\n",
       "  'in international conference of the learning sciences',\n",
       "  '12th international conference of the learning sciences'],\n",
       " 'in the proceedings of the 12th international conference of intelligent tutoring systems': ['proceedings for 12th international conference of intelligent tutoring systems',\n",
       "  'proceedings for 11th international conference of intelligent tutoring systems',\n",
       "  'proceedings of the 12th international conference of intelligent tutoring systems'],\n",
       " 'in the proceedings of the 13th international acm sigaccess conference of computers and accessibility': ['in proceedings of the 11th international acm sigaccess conference of computers and accessibility'],\n",
       " 'in: proceedings of the 15th acm of international conference of multimodal interaction - icmi ’13': ['in: proceedings of the 16th international conference of multimodal interaction - icmi ’14'],\n",
       " 'in: proceedings of the sixth international conference of learning analytics and knowledge - lak ’16': ['in proceedings of the sixth international conference of learning analytics and knowledge',\n",
       "  'in proceedings of the 6th international conference of learning analytics and knowledge',\n",
       "  'in proceedings of the 1st international conference of learning analytics and knowledge',\n",
       "  'in proceedings of the fourth international conference of learning analytics and knowledge',\n",
       "  'in proceedings of the third international conference of learning analytics and knowledge',\n",
       "  'in proceedings of the sixth international conference of learning analytics and knowledge - lak ’16'],\n",
       " 'interdisciplinary journal of problembased learning': ['interdisciplinary journal of problem-based learning'],\n",
       " 'international conference of learning sciences': ['of international conference of learning sciences',\n",
       "  'international conference of the learning sciences',\n",
       "  'in international conference of the learning sciences'],\n",
       " 'international conference of the learning sciences': ['fourth international conference of the learning sciences',\n",
       "  'of international conference of learning sciences'],\n",
       " 'international journal human computer studies': ['international journal of human-computer studies',\n",
       "  'international journal of human computer studies'],\n",
       " 'international journal of ai in education': ['international journal of science education',\n",
       "  'international journal of ai in education 24'],\n",
       " 'international journal of artificial intelligence and education': ['international journal of artificial intelligence in education',\n",
       "  '1845 international journal artificial intelligence education',\n",
       "  'international journal or artificial intelligence in education'],\n",
       " 'international journal of computer- supported collaborative learning': ['international journal of computersupported collaborative learning'],\n",
       " 'international journal of e-learning': ['international journal of learning'],\n",
       " 'international journal of educational research 13': ['international journal of educational research'],\n",
       " 'international journal of eportfolio': ['international journal of eportfolio 3'],\n",
       " 'international journal of human computer studies': ['international journal of human-computer studies'],\n",
       " 'international journal of human-computer interaction': ['international journal of child-computer interaction',\n",
       "  'international journal of mobile humancomputer interaction'],\n",
       " 'international journal of information and learning technology': ['international journal of information and education technology'],\n",
       " 'international journal of instructional technology and distance education': ['international journal of instructional technology and distance learning'],\n",
       " 'international journal of learning and media': ['the international journal of learning and media'],\n",
       " 'international journal of mobile human computer interaction': ['international journal of mobile humancomputer interaction',\n",
       "  'international journal of human-computer interaction'],\n",
       " 'international journal of organisational design and engineering': ['international journal of organizational design and engineering'],\n",
       " 'international journal of science education 26': ['international journal of science education'],\n",
       " 'international journal of science mathematics education': ['international journal of science and mathematics education'],\n",
       " 'international journal of social robotics 5': ['international journal of social robotics'],\n",
       " 'international journal of stem education': ['international journal of science education'],\n",
       " 'international journal of technology design education': ['international journal of technology and design education',\n",
       "  'international journal technology and design education'],\n",
       " 'international journal of technology in higher education': ['international journal of technology and design education'],\n",
       " 'international journal or artificial intelligence in education': ['international journal of artificial intelligence in education',\n",
       "  '1845 international journal artificial intelligence education'],\n",
       " 'international journal technology and design education': ['international journal of technology and design education'],\n",
       " 'jcom: journal of science communication': ['journal of science communication'],\n",
       " 'jedm-journal of educational data mining': ['journal of educational data mining'],\n",
       " 'journal biological education': ['journal of biological education'],\n",
       " 'journal educational change': ['journal of educational change'],\n",
       " 'journal for research in math education': ['journal for research in mathematics education'],\n",
       " 'journal for research in mathematics educations': ['journal for research in mathematics education',\n",
       "  'journal for research in math education'],\n",
       " 'journal for research in science teaching': ['journal of research in science teaching',\n",
       "  'journal of research science teaching',\n",
       "  'journal research science teaching'],\n",
       " 'journal learning sciences': ['journal of learning sciences'],\n",
       " 'journal of adolescent and adult literacy': ['journal of adolescent and adult literacies'],\n",
       " 'journal of adolescent and adult literacy 58': ['journal of adolescent and adult literacies',\n",
       "  'journal of adolescent and adult literacy'],\n",
       " 'journal of applied developmental psychology 29': ['journal of applied developmental psychology'],\n",
       " 'journal of artificial societies and social simulation': ['journal of artificial societies and social simulation 11'],\n",
       " 'journal of asynchronous learning network': ['journal of asynchronous learning networks'],\n",
       " 'journal of autism development disorders': ['journal of autism and developmental disorders'],\n",
       " 'journal of child psychology and child psychiatry': ['journal of child psychology and psychiatry'],\n",
       " 'journal of child psychology psychiatry': ['journal of child psychology and psychiatry'],\n",
       " 'journal of computer assisted learning 23': ['journal of computer assisted learning'],\n",
       " 'journal of computermediated communication': ['journal of computer-mediated communication'],\n",
       " 'journal of computers and mathematics and science teaching': ['journal of computers in mathematics and science teaching'],\n",
       " 'journal of computing in teacher education': ['journal of computing in higher education'],\n",
       " 'journal of curriculum studies 43': ['journal of curriculum studies'],\n",
       " 'journal of educational measurement hao': ['journal of educational measurement'],\n",
       " 'journal of educational media and hypermedia': ['journal of educational multimedia and hypermedia'],\n",
       " 'journal of educational psychology gerard': ['journal of educational psychology'],\n",
       " 'journal of educational research': ['the journal of educational research'],\n",
       " 'journal of educational technology': ['journal of educational psychology'],\n",
       " 'journal of educational technology and society 2005': ['journal of educational technology and society'],\n",
       " 'journal of engineering education 102': ['journal of engineering education'],\n",
       " 'journal of experimental social psychology': ['journal of experimental child psychology'],\n",
       " 'journal of human robot interaction': ['journal of human-robot interaction'],\n",
       " 'journal of learning analytics 1': ['journal of learning analytics'],\n",
       " 'journal of learning sciences': ['the journal of learning sciences'],\n",
       " 'journal of mathematical behavior': ['the journal of mathematical behavior'],\n",
       " 'journal of microbiology and biology education': ['journal of microbiology and biology education: jmbe'],\n",
       " 'journal of personality and social psych': ['journal of personality and social psychology'],\n",
       " 'journal of political science education': ['journal of baltic science education'],\n",
       " 'journal of pragmatics 46': ['journal of pragmatics'],\n",
       " 'journal of research in reading 33': ['journal of research in reading'],\n",
       " 'journal of research in science teaching 43': ['journal of research in science teaching',\n",
       "  'journal of research science teaching',\n",
       "  'journal for research in science teaching'],\n",
       " 'journal of research in scienceteaching': ['journal of research in science teaching',\n",
       "  'journal of research science teaching',\n",
       "  'journal research science teaching',\n",
       "  'journal for research in science teaching',\n",
       "  'journal of research in science teaching 43'],\n",
       " 'journal of research in technology education': ['journal of research of technology in education'],\n",
       " 'journal of research science teaching': ['journal of research in science teaching'],\n",
       " 'journal of science education technology': ['journal of science education and technology'],\n",
       " 'journal of science educational and technology': ['journal of science education and technology',\n",
       "  'journal of science education technology'],\n",
       " 'journal of science teacher education 25': ['journal of science teacher education'],\n",
       " 'journal of stem teacher education': ['journal of teacher education'],\n",
       " 'journal of teacher education 67': ['journal of teacher education'],\n",
       " 'journal research science teaching': ['journal of research in science teaching',\n",
       "  'journal of research science teaching'],\n",
       " 'merlot journal of online learning and teaching': ['journal of online learning and teaching'],\n",
       " 'of international conference of learning sciences': ['fourth international conference of the learning sciences',\n",
       "  'of the 7th international conference of learning sciences'],\n",
       " 'of international conference of the learning sciences 2018': ['fourth international conference of the learning sciences',\n",
       "  'of international conference of learning sciences',\n",
       "  'international conference of the learning sciences',\n",
       "  'in international conference of the learning sciences',\n",
       "  '12th international conference of the learning sciences'],\n",
       " 'of the 8th international conference of international conference for the learning sciences-volume 2': ['in proceedings of the 8th international conference of international conference for the learning sciencesvolume 2',\n",
       "  'in proceedings of the 8th international conference of international conference for the learning sciences-volume 2'],\n",
       " 'of the distance education journal': ['in the distance education journal'],\n",
       " 'of the eleventh annual international conference of international computing education research': ['proceedings of the eleventh annual international conference of international computing education research'],\n",
       " 'paper in proceedings of the 11th international conference of the learning sciences': ['in proceedings of the 10th international conference of the learning sciences',\n",
       "  'in proceedings of the 7th international conference of learning sciences',\n",
       "  'proceedings of the fourth international conference of the learning sciences',\n",
       "  'proceedings of the tenth international conference of the learning sciences',\n",
       "  'proceedings of the 6th international conference of the learning sciences',\n",
       "  'in proceedings of the 6th international conference of learning sciences',\n",
       "  'proceedings of the 12th international conference of the learning sciences',\n",
       "  'proceedings of the international conference of the learning sciences',\n",
       "  'in proceedings of the 2016 international conference of the learning sciences',\n",
       "  'in proceedings of the 8th international conference of the learning sciences',\n",
       "  'in proceedings of the 12 th international conference of the learning sciences',\n",
       "  'proceedings of the 8th international conference of the learning sciences',\n",
       "  'proceedings of the 10th international conference of the learning sciences',\n",
       "  'proceedings of the 13th international conference of the learning sciences',\n",
       "  'in proceedings of the international conference of the learning sciences',\n",
       "  'in proceedings of the 9th international conference of the learning sciences',\n",
       "  'in proceedings of the 12th international conference of learning sciences'],\n",
       " 'paper presented at fablearn’15 conference': ['paper presented at the fablearn conference'],\n",
       " 'paper presented at the 11th international conference of the learning sciences': ['paper presented at the fourth international conference of the learning sciences',\n",
       "  'paper presented at the 9th international conference of the learning sciences',\n",
       "  'presented at the 13th international conference of the learning sciences',\n",
       "  'paper presented at the international conference of the learning sciences',\n",
       "  'paper presented at the international conference of learning sciences chinn'],\n",
       " 'paper presented at the 12th international conference of the learning sciences': ['paper presented at the fourth international conference of the learning sciences',\n",
       "  'paper presented at the 9th international conference of the learning sciences',\n",
       "  'presented at the 13th international conference of the learning sciences',\n",
       "  'paper presented at the international conference of the learning sciences',\n",
       "  'paper presented at the international conference of learning sciences chinn',\n",
       "  'paper presented at the 11th international conference of the learning sciences'],\n",
       " 'paper presented at the 16th biennial conference of the european association for research of learning and instruction': ['paper presented at the 17th biennial conference of the european association for research of learning and instruction'],\n",
       " 'paper presented at the 9th international conference of the learning sciences': ['paper presented at the fourth international conference of the learning sciences'],\n",
       " 'paper presented at the american education research association conference 2015': ['paper presented at the american educational research association annual conference',\n",
       "  'paper presented at the american educational research association conference'],\n",
       " 'paper presented at the american educational research association conference': ['paper presented at the american educational research association annual conference'],\n",
       " 'paper presented at the fablearn: conference of creativity and fabrication in education': ['presented at the fablearn conference of creativity and fabrication in education'],\n",
       " 'paper presented at the international conference of learning sciences chinn': ['paper presented at the 9th international conference of the learning sciences',\n",
       "  'paper presented at the international conference of the learning sciences'],\n",
       " 'paper presented at the international conference of the learning sciences': ['paper presented at the fourth international conference of the learning sciences',\n",
       "  'paper presented at the 9th international conference of the learning sciences',\n",
       "  'presented at the 13th international conference of the learning sciences'],\n",
       " 'paper presented at the proceedings of the 10th international conference of the learning sciences': ['paper presented at the proceedings of the international conference of the learning sciences'],\n",
       " 'paper presented at the proceedings of the 1st international conference of learning analytics and knowledge': ['paper presented at the proceedings of the 2nd international conference of learning analytics and knowledge'],\n",
       " 'paper presented at the proceedings of the symposium of eye tracking research and applications': ['paper presented at the proceedings of the 2008 symposium of eye tracking research and applications'],\n",
       " 'pnas proceedings of the national academy of sciences of the united states of america': ['proceedings of the national academy of sciences of the united states of america'],\n",
       " 'presented at the 13th international conference of the learning sciences': ['paper presented at the fourth international conference of the learning sciences',\n",
       "  'paper presented at the 9th international conference of the learning sciences',\n",
       "  'proceedings of the 13th international conference of the learning sciences'],\n",
       " 'presented at the 7th acm learning analytics and knowledge conference': ['presented at the 6th acm learning analytics and knowledge conference'],\n",
       " 'presented at the proceedings of the 11th international conference of interaction design and children': ['in proceedings of the 12th international conference of interaction design and children'],\n",
       " 'proc of the 11th international conference of the learning sciences': ['in proceedings of the 10th international conference of the learning sciences',\n",
       "  'proceedings of the fourth international conference of the learning sciences',\n",
       "  'proceedings of the tenth international conference of the learning sciences',\n",
       "  'proceedings of the 6th international conference of the learning sciences',\n",
       "  'proceedings of the 12th international conference of the learning sciences',\n",
       "  'proceedings of the international conference of the learning sciences',\n",
       "  'in proceedings of the 8th international conference of the learning sciences',\n",
       "  'in proceedings of the 12 th international conference of the learning sciences',\n",
       "  'of the 7th international conference of learning sciences',\n",
       "  'proceedings of the 8th international conference of the learning sciences',\n",
       "  'proceedings of the 10th international conference of the learning sciences',\n",
       "  'proceedings of the 13th international conference of the learning sciences',\n",
       "  'in proceedings of the 9th international conference of the learning sciences'],\n",
       " 'proceeding of the 44th acm technical symposium of computer science education': ['in proceedings of the 43rd acm technical symposium of computer science education',\n",
       "  'in proceedings of the 47th acm technical symposium of computing science education',\n",
       "  'in proceedings of the 41st acm technical symposium computer science education',\n",
       "  'proceedings of the 45th acm technical symposium of computer science education',\n",
       "  'in proceedings of the 42nd acm technical symposium of computer science education',\n",
       "  'in proceeding of the 44th acm technical symposium of computer science education',\n",
       "  'proceedings of the 44th acm technical symposium of computer science education',\n",
       "  'proceedings of the 34th acm technical symposium of computer science education'],\n",
       " 'proceedings for 11th international conference of intelligent tutoring systems': ['proceedings for 12th international conference of intelligent tutoring systems'],\n",
       " 'proceedings from the 69th annual meeting of the american educational research association': ['proceedings of the 2012 annual meeting of the american educational research association',\n",
       "  'in proceedings of the 2012 annual meeting of the american educational research association'],\n",
       " 'proceedings from the international conference of computers in education': ['in proceedings of the 25th international conference of computers in education'],\n",
       " 'proceedings of acm sigchi conference of human factors in computing systems': ['in proceedings of the conference of human factors in computing systems',\n",
       "  'in proceedings of the sigchi conference of human factors in computing systems',\n",
       "  'proceedings of the sigchi conference of human factors in computing systems'],\n",
       " 'proceedings of cscw 2014': ['in proceedings of cscw 2004'],\n",
       " 'proceedings of edm 2014': ['proceedings of edm 2015'],\n",
       " 'proceedings of educational data mining yang': ['proceedings of educational data mining'],\n",
       " 'proceedings of fablearn ’16': ['proceedings of fablearn ’17'],\n",
       " 'proceedings of fablearn ’17': ['in proceedings of fablearn17'],\n",
       " 'proceedings of idc 2013': ['in proceedings of idc 2013'],\n",
       " 'proceedings of idc 2017': ['proceedings of idc 2013'],\n",
       " 'proceedings of lak 2013': ['proceedings of lak’13',\n",
       "  'proceedings of lak 2012'],\n",
       " 'proceedings of lak’17': ['proceedings of lak’13', 'proceedings of lak’18'],\n",
       " 'proceedings of lak’18': ['proceedings of lak’13'],\n",
       " 'proceedings of learning@ scale 2015': ['proceedings of learning@ scale 2017'],\n",
       " 'proceedings of society for information technology and teacher education international conference': ['in society for information technology and teacher education international conference'],\n",
       " 'proceedings of society for information technology and teacher education international conference 2010': ['in society for information technology and teacher education international conference',\n",
       "  'proceedings of society for information technology and teacher education international conference'],\n",
       " 'proceedings of the 10th international conference of educational data mining': ['proceedings of the 7th international conference of educational data mining',\n",
       "  'proceedings of the 9the international conference of educational data mining',\n",
       "  'in proceedings of the 9th international conference of educational data mining',\n",
       "  'proceedings of the 8th international conference of educational data mining',\n",
       "  'proceedings of the 9th international conference of educational data mining'],\n",
       " 'proceedings of the 10th international conference of networked learning 2016': ['in proceedings of the 7th international conference of networked learning 2010'],\n",
       " 'proceedings of the 10th international conference of the learning sciences': ['in proceedings of the 10th international conference of the learning sciences',\n",
       "  'in proceedings of the 7th international conference of learning sciences',\n",
       "  'proceedings of the fourth international conference of the learning sciences',\n",
       "  'proceedings of the tenth international conference of the learning sciences',\n",
       "  'proceedings of the 6th international conference of the learning sciences',\n",
       "  'in proceedings of the 6th international conference of learning sciences',\n",
       "  'proceedings of the 12th international conference of the learning sciences',\n",
       "  'proceedings of the international conference of the learning sciences',\n",
       "  'in proceedings of the international conference of learning sciences',\n",
       "  'in proceedings of the 2016 international conference of the learning sciences',\n",
       "  'in proceedings of the 8th international conference of the learning sciences',\n",
       "  'in proceedings of the 12 th international conference of the learning sciences',\n",
       "  'proceedings of the 8th international conference of the learning sciences'],\n",
       " 'proceedings of the 11th european conference of game-based learning': ['in proceedings of the european conference of games based learning',\n",
       "  'proceedings of the 9th european conference of game-based learning'],\n",
       " 'proceedings of the 11th international conference of the learning sciences': ['in proceedings of the 10th international conference of the learning sciences',\n",
       "  'in proceedings of the 7th international conference of learning sciences',\n",
       "  'proceedings of the fourth international conference of the learning sciences',\n",
       "  'proceedings of the tenth international conference of the learning sciences',\n",
       "  'proceedings of the 6th international conference of the learning sciences',\n",
       "  'in proceedings of the 6th international conference of learning sciences',\n",
       "  'proceedings of the 12th international conference of the learning sciences',\n",
       "  'proceedings of the international conference of the learning sciences',\n",
       "  'in proceedings of the international conference of learning sciences',\n",
       "  'in proceedings of the 2016 international conference of the learning sciences',\n",
       "  'in proceedings of the 8th international conference of the learning sciences',\n",
       "  'in proceedings of the 12 th international conference of the learning sciences',\n",
       "  'proceedings of the 8th international conference of the learning sciences',\n",
       "  'proceedings of the 10th international conference of the learning sciences',\n",
       "  'proceedings of the 13th international conference of the learning sciences',\n",
       "  'in proceedings from 12th international conference of the learning sciences',\n",
       "  'in proceedings of the international conference of the learning sciences',\n",
       "  'in proceedings of the 9th international conference of the learning sciences',\n",
       "  'proceedings of the 6th international conference of learning sciences',\n",
       "  'in proceedings of the 12th international conference of learning sciences',\n",
       "  'proc of the 11th international conference of the learning sciences',\n",
       "  'paper in proceedings of the 11th international conference of the learning sciences'],\n",
       " 'proceedings of the 12th international conference of intelligent tutoring systems': ['proceedings for 12th international conference of intelligent tutoring systems',\n",
       "  'proceedings for 11th international conference of intelligent tutoring systems'],\n",
       " 'proceedings of the 12th international conference of interaction design and children': ['in proceedings of the 9th international conference of interaction design and children',\n",
       "  'in proceedings of the 12th international conference of interaction design and children'],\n",
       " 'proceedings of the 12th international conference of the learning sciences': ['in proceedings of the 10th international conference of the learning sciences',\n",
       "  'in proceedings of the 7th international conference of learning sciences',\n",
       "  'proceedings of the fourth international conference of the learning sciences',\n",
       "  'proceedings of the tenth international conference of the learning sciences',\n",
       "  'proceedings of the 6th international conference of the learning sciences',\n",
       "  'in proceedings of the 6th international conference of learning sciences'],\n",
       " 'proceedings of the 13th international conference of the learning sciences': ['in proceedings of the 10th international conference of the learning sciences',\n",
       "  'in proceedings of the 7th international conference of learning sciences',\n",
       "  'proceedings of the fourth international conference of the learning sciences',\n",
       "  'proceedings of the tenth international conference of the learning sciences',\n",
       "  'proceedings of the 6th international conference of the learning sciences',\n",
       "  'in proceedings of the 6th international conference of learning sciences',\n",
       "  'proceedings of the 12th international conference of the learning sciences',\n",
       "  'proceedings of the international conference of the learning sciences',\n",
       "  'in proceedings of the international conference of learning sciences',\n",
       "  'in proceedings of the 2016 international conference of the learning sciences',\n",
       "  'in proceedings of the 8th international conference of the learning sciences',\n",
       "  'in proceedings of the 12 th international conference of the learning sciences',\n",
       "  'proceedings of the 8th international conference of the learning sciences',\n",
       "  'proceedings of the 10th international conference of the learning sciences'],\n",
       " 'proceedings of the 19th acm conference of computer-supported cooperative work and social computing': ['in proceedings of the 18th acm conference of computer supported cooperative work and social computing'],\n",
       " 'proceedings of the 23 rd international conference of computers in education': ['in proceedings of the 25th international conference of computers in education',\n",
       "  'proceedings from the international conference of computers in education'],\n",
       " 'proceedings of the 2nd international conference of learning analytics and knowledge': ['in proceedings of the sixth international conference of learning analytics and knowledge',\n",
       "  'presented at the 2nd international conference of learning analytics and knowledge',\n",
       "  'in proceedings of the 6th international conference of learning analytics and knowledge',\n",
       "  'in proceedings of the 1st international conference of learning analytics and knowledge',\n",
       "  'in proceedings of the fourth international conference of learning analytics and knowledge',\n",
       "  'in proceedings of the third international conference of learning analytics and knowledge',\n",
       "  'proceedings of the fourth international conference of learning analytics and knowledge'],\n",
       " 'proceedings of the 32nd annual meeting of the north american chapter of the international group for the psychology of mathematics education: vol': ['proceedings of the 24th annual meeting of the north american chapter of the international group for the psychology of mathematics education'],\n",
       " 'proceedings of the 34th acm technical symposium of computer science education': ['in proceedings of the 43rd acm technical symposium of computer science education',\n",
       "  'in proceedings of the 47th acm technical symposium of computing science education',\n",
       "  'in proceedings of the 41st acm technical symposium computer science education',\n",
       "  'proceedings of the 45th acm technical symposium of computer science education',\n",
       "  'in proceedings of the 42nd acm technical symposium of computer science education',\n",
       "  'in proceeding of the 44th acm technical symposium of computer science education',\n",
       "  'proceedings of the 44th acm technical symposium of computer science education'],\n",
       " 'proceedings of the 35th annual conference of the cognitive science society': ['in proceedings of the 32nd annual conference of the cognitive science society',\n",
       "  'in proceedings of the 29th annual conference of the cognitive science society',\n",
       "  'proceedings of the twenty-fifth annual conference of the cognitive science society'],\n",
       " 'proceedings of the 36th annual conference of the cognitive science society': ['proceedings for 26nd annual conference of the cognitive science society',\n",
       "  'in proceedings of the 32nd annual conference of the cognitive science society',\n",
       "  'in proceedings of the 29th annual conference of the cognitive science society',\n",
       "  'proceedings of the twenty-fifth annual conference of the cognitive science society',\n",
       "  'proceedings of the 35th annual conference of the cognitive science society',\n",
       "  'in proceedings of the fifteenth annual conference of the cognitive science society'],\n",
       " 'proceedings of the 39th annual meeting of the north american chapter of the international group for the psychology of mathematics education': ['proceedings of the 24th annual meeting of the north american chapter of the international group for the psychology of mathematics education',\n",
       "  'proceedings of the 32nd annual meeting of the north american chapter of the international group for the psychology of mathematics education: vol'],\n",
       " 'proceedings of the 3rd acm conference of learning@scale': ['in proceedings of the third acm conference of learning@ scale',\n",
       "  'in proceedings of the second acm conference of learning@ scale'],\n",
       " 'proceedings of the 43rd acm technical symposium of computer science education - sigcse ’12': ['in proceedings of the 43rd acm technical symposium of computer science education'],\n",
       " 'proceedings of the 44th acm technical symposium of computer science education': ['in proceedings of the 43rd acm technical symposium of computer science education',\n",
       "  'in proceedings of the 47th acm technical symposium of computing science education',\n",
       "  'in proceedings of the 41st acm technical symposium computer science education',\n",
       "  'proceedings of the 45th acm technical symposium of computer science education',\n",
       "  'in proceedings of the 42nd acm technical symposium of computer science education',\n",
       "  'in proceeding of the 44th acm technical symposium of computer science education'],\n",
       " 'proceedings of the 45th acm technical symposium of computer science education': ['in proceedings of the 43rd acm technical symposium of computer science education',\n",
       "  'in proceedings of the 47th acm technical symposium of computing science education',\n",
       "  'in proceedings of the 41st acm technical symposium computer science education'],\n",
       " 'proceedings of the 48th acm technical symposium of computer science education': ['in proceedings of the 43rd acm technical symposium of computer science education',\n",
       "  'in proceedings of the 47th acm technical symposium of computing science education',\n",
       "  'in proceedings of the 41st acm technical symposium computer science education',\n",
       "  'proceedings of the 45th acm technical symposium of computer science education',\n",
       "  'in proceedings of the 42nd acm technical symposium of computer science education',\n",
       "  'in proceeding of the 44th acm technical symposium of computer science education',\n",
       "  'proceedings of the 44th acm technical symposium of computer science education',\n",
       "  'proceedings of the 34th acm technical symposium of computer science education',\n",
       "  'proceeding of the 44th acm technical symposium of computer science education'],\n",
       " 'proceedings of the 5th european conference of technology enhanced learning': ['proceedings 4th european conference of technology enhanced learning'],\n",
       " 'proceedings of the 6th international conference of educational data mining': ['proceedings of the 7th international conference of educational data mining',\n",
       "  'proceedings of the 9the international conference of educational data mining',\n",
       "  'in proceedings of the 9th international conference of educational data mining',\n",
       "  'proceedings of the 8th international conference of educational data mining',\n",
       "  'proceedings of the 9th international conference of educational data mining',\n",
       "  'proceedings of the 10th international conference of educational data mining',\n",
       "  'in proceedings of the 8th international conference of educational data mining'],\n",
       " 'proceedings of the 6th international conference of learning sciences': ['in proceedings of the 10th international conference of the learning sciences',\n",
       "  'in proceedings of the 7th international conference of learning sciences',\n",
       "  'proceedings of the fourth international conference of the learning sciences',\n",
       "  'proceedings of the tenth international conference of the learning sciences',\n",
       "  'proceedings of the 6th international conference of the learning sciences',\n",
       "  'in proceedings of the 6th international conference of learning sciences',\n",
       "  'proceedings of the 12th international conference of the learning sciences',\n",
       "  'proceedings of the international conference of the learning sciences',\n",
       "  'in proceedings of the international conference of learning sciences',\n",
       "  'in proceedings of the 2016 international conference of the learning sciences',\n",
       "  'in proceedings of the 8th international conference of the learning sciences',\n",
       "  'in proceedings of the 12 th international conference of the learning sciences',\n",
       "  'proceedings of the 8th international conference of the learning sciences',\n",
       "  'proceedings of the 10th international conference of the learning sciences',\n",
       "  'proceedings of the 13th international conference of the learning sciences',\n",
       "  'in proceedings of the international conference of the learning sciences',\n",
       "  'in proceedings of the 9th international conference of the learning sciences'],\n",
       " 'proceedings of the 6th international conference of the learning sciences': ['in proceedings of the 10th international conference of the learning sciences',\n",
       "  'in proceedings of the 7th international conference of learning sciences',\n",
       "  'proceedings of the fourth international conference of the learning sciences',\n",
       "  'proceedings of the tenth international conference of the learning sciences'],\n",
       " 'proceedings of the 7th international conference of networked learning': ['in proceedings of the 7th international conference of networked learning 2010',\n",
       "  'proceedings of the 10th international conference of networked learning 2016'],\n",
       " 'proceedings of the 8th international conference of educational data mining': ['proceedings of the 7th international conference of educational data mining',\n",
       "  'proceedings of the 9the international conference of educational data mining',\n",
       "  'in proceedings of the 9th international conference of educational data mining'],\n",
       " 'proceedings of the 8th international conference of the learning sciences': ['in proceedings of the 10th international conference of the learning sciences',\n",
       "  'in proceedings of the 7th international conference of learning sciences',\n",
       "  'proceedings of the fourth international conference of the learning sciences',\n",
       "  'proceedings of the tenth international conference of the learning sciences',\n",
       "  'proceedings of the 6th international conference of the learning sciences',\n",
       "  'in proceedings of the 6th international conference of learning sciences',\n",
       "  'proceedings of the 12th international conference of the learning sciences',\n",
       "  'proceedings of the international conference of the learning sciences',\n",
       "  'in proceedings of the international conference of learning sciences',\n",
       "  'in proceedings of the 2016 international conference of the learning sciences',\n",
       "  'in proceedings of the 8th international conference of the learning sciences',\n",
       "  'in proceedings of the 12 th international conference of the learning sciences'],\n",
       " 'proceedings of the 9th european conference of game-based learning': ['in proceedings of the european conference of games based learning'],\n",
       " 'proceedings of the 9th international conference of educational data mining': ['proceedings of the 7th international conference of educational data mining',\n",
       "  'proceedings of the 9the international conference of educational data mining',\n",
       "  'in proceedings of the 9th international conference of educational data mining',\n",
       "  'proceedings of the 8th international conference of educational data mining'],\n",
       " 'proceedings of the 9the international conference of educational data mining': ['proceedings of the 7th international conference of educational data mining'],\n",
       " 'proceedings of the american society for information science and technology': ['journal of the american society for information science and technology'],\n",
       " 'proceedings of the conference of human factors in computing systems': ['in proceedings of the 2016 chi conference of human factors in computing systems',\n",
       "  'in proceedings of the conference of human factors in computing systems',\n",
       "  'in proceedings of the sigchi conference of human factors in computing systems',\n",
       "  'in proceedings of the 2017 chi conference of human factors in computing systems',\n",
       "  'proceedings of the sigchi conference of human factors in computing systems',\n",
       "  'proceedings of acm sigchi conference of human factors in computing systems'],\n",
       " 'proceedings of the eleventh annual international conference of international computing education research': ['in proceedings of the ninth annual international acm conference of international computing education research'],\n",
       " 'proceedings of the first acm conference of learning @ scale conference - l@s ’14': ['in proceedings of the first acm conference of learning@ scale conference',\n",
       "  'in proceedings of the first acm conference of learning @ scale conference'],\n",
       " 'proceedings of the fourteenth annual conference of research in undergraduate mathematics education': ['proceedings of the 19th annual conference of research in undergraduate mathematics education'],\n",
       " 'proceedings of the fourth international conference of learning analytics and knowledge': ['in proceedings of the sixth international conference of learning analytics and knowledge',\n",
       "  'in proceedings of the 6th international conference of learning analytics and knowledge',\n",
       "  'in proceedings of the 1st international conference of learning analytics and knowledge',\n",
       "  'in proceedings of the fourth international conference of learning analytics and knowledge',\n",
       "  'in proceedings of the third international conference of learning analytics and knowledge',\n",
       "  'in proceedings of the fourth international conference of learning analytics and knowledge lak’14'],\n",
       " 'proceedings of the fourth international conference of the learning sciences': ['in proceedings of the 10th international conference of the learning sciences',\n",
       "  'in proceedings of the 7th international conference of learning sciences'],\n",
       " 'proceedings of the international conference of the learning sciences': ['in proceedings international conference of the learning sciences',\n",
       "  'in proceedings of the 10th international conference of the learning sciences',\n",
       "  'in proceedings of the 7th international conference of learning sciences',\n",
       "  'proceedings of the fourth international conference of the learning sciences',\n",
       "  'proceedings of the tenth international conference of the learning sciences',\n",
       "  'proceedings of the 6th international conference of the learning sciences',\n",
       "  'in proceedings of the 6th international conference of learning sciences',\n",
       "  'proceedings of the 12th international conference of the learning sciences'],\n",
       " 'proceedings of the international conference of the learning sciences ’98': ['in proceedings of the 10th international conference of the learning sciences',\n",
       "  'proceedings of the fourth international conference of the learning sciences',\n",
       "  'proceedings of the tenth international conference of the learning sciences',\n",
       "  'proceedings of the 6th international conference of the learning sciences',\n",
       "  'proceedings of the 12th international conference of the learning sciences',\n",
       "  'proceedings of the international conference of the learning sciences',\n",
       "  'in proceedings of the international conference of learning sciences',\n",
       "  'in proceedings of the 2016 international conference of the learning sciences',\n",
       "  'in proceedings of the 8th international conference of the learning sciences',\n",
       "  'in proceedings of the 12 th international conference of the learning sciences',\n",
       "  'proceedings of the 8th international conference of the learning sciences',\n",
       "  'proceedings of the 10th international conference of the learning sciences',\n",
       "  'proceedings of the 13th international conference of the learning sciences',\n",
       "  'in proceedings from 12th international conference of the learning sciences',\n",
       "  'in proceedings of the international conference of the learning sciences',\n",
       "  'in proceedings of the 9th international conference of the learning sciences',\n",
       "  'proceedings of the 6th international conference of learning sciences',\n",
       "  'proceedings of the 11th international conference of the learning sciences',\n",
       "  'in proceedings of the 6th international conference of the learning sciences'],\n",
       " 'proceedings of the national academy of sciences 111': ['proceedings of the national academy of sciences'],\n",
       " 'proceedings of the second': ['in proceedings of the second'],\n",
       " 'proceedings of the sigchi conference of human factors in computing systems': ['in proceedings of the 2016 chi conference of human factors in computing systems',\n",
       "  'in proceedings of the conference of human factors in computing systems',\n",
       "  'in proceedings of the sigchi conference of human factors in computing systems',\n",
       "  'in proceedings of the 2017 chi conference of human factors in computing systems',\n",
       "  'of the sigchi conference of human factors in computing systems'],\n",
       " 'proceedings of the tenth international conference of the learning sciences': ['in proceedings of the 10th international conference of the learning sciences',\n",
       "  'in proceedings of the 7th international conference of learning sciences',\n",
       "  'proceedings of the fourth international conference of the learning sciences'],\n",
       " 'proceedings of the twenty-fifth annual conference of the cognitive science society': ['in proceedings of the 29th annual conference of the cognitive science society'],\n",
       " 'published in the proceedings of the 9th international conference of interaction design and children': ['in proceedings of the 9th international conference of interaction design and children',\n",
       "  'in proceedings of the 12th international conference of interaction design and children',\n",
       "  'in proceedings of the 7th international conference of interaction design and children',\n",
       "  'presented at the proceedings of the 11th international conference of interaction design and children',\n",
       "  'in proceedings of the 15th international conference of interaction design and children',\n",
       "  'in proceedings of the 15th international conference of interation design and children',\n",
       "  'in proceedings of the 11th international conference of interaction design and children',\n",
       "  'in proceedings of the 14th international conference of interaction design and children'],\n",
       " 'review journal of autism and developmental disorders': ['journal of autism and developmental disorders'],\n",
       " 'saarc journal of educational research': ['journal of educational research'],\n",
       " 'social science journal': ['the social science journal'],\n",
       " 'talk at the 17th biennial conference of the european association for research in learning and instruction': ['paper presented at the 17th biennial conference of the european association for research of learning and instruction'],\n",
       " 'the american journal of sociology': ['american journal of sociology'],\n",
       " 'the british journal of educational psychology': ['british journal of educational psychology'],\n",
       " 'the electronic journal of e-learning': ['electronic journal of e-learning'],\n",
       " 'the elementary school journal 115': ['the elementary school journal'],\n",
       " 'the journal of applied psychology': ['journal of applied psychology'],\n",
       " 'the journal of child psychology and psychiatry': ['journal of child psychology and psychiatry',\n",
       "  'journal of child psychology psychiatry'],\n",
       " 'the journal of experimental education': ['journal of experimental education'],\n",
       " 'the journal of general education': ['the journal of negro education'],\n",
       " 'the journal of the learning science': ['the journal of learning sciences',\n",
       "  'the journal the learning sciences'],\n",
       " 'the journal the learning sciences': ['the journal of learning sciences'],\n",
       " 'the modern language journal 83': ['the modern language journal'],\n",
       " 'transactions of computer-human interaction': ['acm transactions of computer-human interaction'],\n",
       " 'transactions of computing education': ['acm transactions of computing education'],\n",
       " 'zdm international journal of mathematics education': ['zdm the international journal of mathematics education']}"
      ]
     },
     "execution_count": 178,
     "metadata": {},
     "output_type": "execute_result"
    }
   ],
   "source": [
    "d"
   ]
  },
  {
   "cell_type": "markdown",
   "metadata": {},
   "source": [
    "## Exploring a way to extract better strings"
   ]
  },
  {
   "cell_type": "code",
   "execution_count": 9,
   "metadata": {},
   "outputs": [],
   "source": [
    "a = ['in', 'proceedings', 'of', '21st', 'aaai']\n",
    "b = ['in', 'proceedings', 'of', '1st', 'aaai']"
   ]
  },
  {
   "cell_type": "code",
   "execution_count": 10,
   "metadata": {},
   "outputs": [],
   "source": [
    "i = set(a).intersection(set(b))"
   ]
  },
  {
   "cell_type": "code",
   "execution_count": 11,
   "metadata": {},
   "outputs": [],
   "source": [
    "#for sentences that have extra words, does not work with alternate spelling\n",
    "#-> do lemmatisation first"
   ]
  },
  {
   "cell_type": "code",
   "execution_count": 12,
   "metadata": {
    "scrolled": true
   },
   "outputs": [
    {
     "data": {
      "text/plain": [
       "['in', 'proceedings', 'of', 'aaai']"
      ]
     },
     "execution_count": 12,
     "metadata": {},
     "output_type": "execute_result"
    }
   ],
   "source": [
    "[elem for elem in b if elem in i]"
   ]
  },
  {
   "cell_type": "code",
   "execution_count": null,
   "metadata": {},
   "outputs": [],
   "source": [
    "sources"
   ]
  },
  {
   "cell_type": "code",
   "execution_count": null,
   "metadata": {},
   "outputs": [],
   "source": []
  },
  {
   "cell_type": "code",
   "execution_count": null,
   "metadata": {},
   "outputs": [],
   "source": []
  }
 ],
 "metadata": {
  "kernelspec": {
   "display_name": "Python 3",
   "language": "python",
   "name": "python3"
  },
  "language_info": {
   "codemirror_mode": {
    "name": "ipython",
    "version": 3
   },
   "file_extension": ".py",
   "mimetype": "text/x-python",
   "name": "python",
   "nbconvert_exporter": "python",
   "pygments_lexer": "ipython3",
   "version": "3.7.0"
  }
 },
 "nbformat": 4,
 "nbformat_minor": 2
}
