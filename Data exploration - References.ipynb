{
 "cells": [
  {
   "cell_type": "code",
   "execution_count": 1,
   "metadata": {},
   "outputs": [],
   "source": [
    "import json\n",
    "import pandas as pd\n",
    "import matplotlib.pyplot as plt \n",
    "import seaborn as sns\n",
    "import re\n",
    "import numpy as np\n",
    "import regex as reg\n",
    "\n",
    "%matplotlib inline  "
   ]
  },
  {
   "cell_type": "markdown",
   "metadata": {},
   "source": [
    "Extracting references from texts:"
   ]
  },
  {
   "cell_type": "code",
   "execution_count": 2,
   "metadata": {},
   "outputs": [
    {
     "name": "stdout",
     "output_type": "stream",
     "text": [
      "\tNumber of pdf documents :  874\n",
      "\tNumber of documents for which we have an extracted reference section:  874\n",
      "\tPercentage of unparsed references: 0.004\n",
      "\tNumber of unparsed references:  59\n",
      "\tNumber of properly parsed references:  14686\n",
      "\tSaved reference list to: data/ as References.csv\n",
      "\tSaved to individual authors list: data/ as Reference_authors.csv\n"
     ]
    }
   ],
   "source": [
    "!python ./Scripts/reference_extraction.py "
   ]
  },
  {
   "cell_type": "markdown",
   "metadata": {},
   "source": [
    "Loading references as previously extracted:"
   ]
  },
  {
   "cell_type": "code",
   "execution_count": 3,
   "metadata": {},
   "outputs": [],
   "source": [
    "references = pd.read_csv('data/References.csv', index_col=0)"
   ]
  },
  {
   "cell_type": "code",
   "execution_count": 4,
   "metadata": {},
   "outputs": [
    {
     "data": {
      "text/html": [
       "<div>\n",
       "<style scoped>\n",
       "    .dataframe tbody tr th:only-of-type {\n",
       "        vertical-align: middle;\n",
       "    }\n",
       "\n",
       "    .dataframe tbody tr th {\n",
       "        vertical-align: top;\n",
       "    }\n",
       "\n",
       "    .dataframe thead th {\n",
       "        text-align: right;\n",
       "    }\n",
       "</style>\n",
       "<table border=\"1\" class=\"dataframe\">\n",
       "  <thead>\n",
       "    <tr style=\"text-align: right;\">\n",
       "      <th></th>\n",
       "      <th>ref</th>\n",
       "      <th>file</th>\n",
       "      <th>ref_parsed</th>\n",
       "      <th>year</th>\n",
       "      <th>identifier</th>\n",
       "    </tr>\n",
       "  </thead>\n",
       "  <tbody>\n",
       "    <tr>\n",
       "      <th>0</th>\n",
       "      <td>Lave, J., &amp; Wenger, E. (1991). Situated learni...</td>\n",
       "      <td>import2018_371</td>\n",
       "      <td>Lave, J., &amp; Wenger, E. (1991)</td>\n",
       "      <td>1991.0</td>\n",
       "      <td>Lave, J., &amp; Wenger, E. (1991). Situated learni...</td>\n",
       "    </tr>\n",
       "    <tr>\n",
       "      <th>1</th>\n",
       "      <td>Miles, M. B., Huberman, A. M., &amp; Saldana, J. (...</td>\n",
       "      <td>import2018_371</td>\n",
       "      <td>Miles, M. B., Huberman, A. M., &amp; Saldana, J. (...</td>\n",
       "      <td>2013.0</td>\n",
       "      <td>Miles, M. B., Huberman, A. M., &amp; Saldana, J. (...</td>\n",
       "    </tr>\n",
       "    <tr>\n",
       "      <th>2</th>\n",
       "      <td>Pea, R. D., Gomez, L. M., Edelson, D. C., Fish...</td>\n",
       "      <td>import2018_371</td>\n",
       "      <td>Pea, R. D., Gomez, L. M., Edelson, D. C., Fish...</td>\n",
       "      <td>1997.0</td>\n",
       "      <td>Pea, R. D., Gomez, L. M., Edelson, D. C., Fish...</td>\n",
       "    </tr>\n",
       "    <tr>\n",
       "      <th>3</th>\n",
       "      <td>Rogoff, B. (1995). Observing sociocultural act...</td>\n",
       "      <td>import2018_371</td>\n",
       "      <td>Rogoff, B. (1995)</td>\n",
       "      <td>1995.0</td>\n",
       "      <td>Rogoff, B. (1995). Observing sociocultural act...</td>\n",
       "    </tr>\n",
       "    <tr>\n",
       "      <th>4</th>\n",
       "      <td>Shirk, J., Ballard, H., Wilderman, C., Phillip...</td>\n",
       "      <td>import2018_371</td>\n",
       "      <td>Shirk, J., Ballard, H., Wilderman, C., Phillip...</td>\n",
       "      <td>2012.0</td>\n",
       "      <td>Shirk, J., Ballard, H., Wilderman, C., Phillip...</td>\n",
       "    </tr>\n",
       "  </tbody>\n",
       "</table>\n",
       "</div>"
      ],
      "text/plain": [
       "                                                 ref            file  \\\n",
       "0  Lave, J., & Wenger, E. (1991). Situated learni...  import2018_371   \n",
       "1  Miles, M. B., Huberman, A. M., & Saldana, J. (...  import2018_371   \n",
       "2  Pea, R. D., Gomez, L. M., Edelson, D. C., Fish...  import2018_371   \n",
       "3  Rogoff, B. (1995). Observing sociocultural act...  import2018_371   \n",
       "4  Shirk, J., Ballard, H., Wilderman, C., Phillip...  import2018_371   \n",
       "\n",
       "                                          ref_parsed    year  \\\n",
       "0                      Lave, J., & Wenger, E. (1991)  1991.0   \n",
       "1  Miles, M. B., Huberman, A. M., & Saldana, J. (...  2013.0   \n",
       "2  Pea, R. D., Gomez, L. M., Edelson, D. C., Fish...  1997.0   \n",
       "3                                  Rogoff, B. (1995)  1995.0   \n",
       "4  Shirk, J., Ballard, H., Wilderman, C., Phillip...  2012.0   \n",
       "\n",
       "                                          identifier  \n",
       "0  Lave, J., & Wenger, E. (1991). Situated learni...  \n",
       "1  Miles, M. B., Huberman, A. M., & Saldana, J. (...  \n",
       "2  Pea, R. D., Gomez, L. M., Edelson, D. C., Fish...  \n",
       "3  Rogoff, B. (1995). Observing sociocultural act...  \n",
       "4  Shirk, J., Ballard, H., Wilderman, C., Phillip...  "
      ]
     },
     "execution_count": 4,
     "metadata": {},
     "output_type": "execute_result"
    }
   ],
   "source": [
    "references.head()"
   ]
  },
  {
   "cell_type": "markdown",
   "metadata": {},
   "source": [
    "Some sample references, and their corresponding identifier:"
   ]
  },
  {
   "cell_type": "code",
   "execution_count": 5,
   "metadata": {},
   "outputs": [
    {
     "name": "stdout",
     "output_type": "stream",
     "text": [
      "Ref:  Jones, B. L., & Bjelland, D. (2004). International experiential learning in agriculture. Proceedings of the 20th Annual Conference, Association for International Agricultural and Extension Education, 963–964. http://www.aiaee.org/2004/Carousels/jones-carousel-NEW.pdf \n",
      "Identifier:  Jones, B. L., & Bjelland, D. (2004). International experiential learning in agriculture\n",
      "Ref:  Saxe, G. B. (1991). Culture and cognitive development: Studies in mathematical understanding. Hillsdale, NJ: Lawrence Erlbaum Associates. \n",
      "Identifier:  Saxe, G. B. (1991). Culture and cognitive development: Studies in mathematical understanding\n",
      "Ref:  Kuhn, T. (1962). The Structure of Scientific Revolutions (3th ed.). Chicago, Il: University of Chicago Press. \n",
      "Identifier:  Kuhn, T. (1962). The Structure of Scientific Revolutions (3th ed\n",
      "Ref:  Wise, A. F., et al. (2013). Learning analytics for online discussions: A pedagogical model for intervention with embedded and extracted analytics. In D. Suthers & K. Verbert (Eds.) Proceedings of LAK 2013 (pp. 4856). Leuven, Belgium: ACM Wise, A. F., et al. (2014). Learning analytics for online discussions: Embedded and extracted approaches. Journal of Learning Analytics, 1(2), 48-71. \n",
      "Identifier:  Wise, A. F., et al. (2013). Learning analytics for online discussions: A pedagogical model for intervention with embedded and extracted analytics\n"
     ]
    }
   ],
   "source": [
    "sample = references[['ref', 'identifier']].sample(4)\n",
    "_ = [print(\"Ref: \",r, '\\nIdentifier: ', s,) for r, s in zip(sample.ref.tolist(), sample.identifier.tolist())]"
   ]
  },
  {
   "cell_type": "markdown",
   "metadata": {},
   "source": [
    "### First we check the most cited citations:"
   ]
  },
  {
   "cell_type": "code",
   "execution_count": 6,
   "metadata": {
    "scrolled": false
   },
   "outputs": [
    {
     "data": {
      "text/plain": [
       "Scardamalia, M. (2002). Collective cognitive responsibility for the advancement of knowledge                                   32\n",
       "Lave, J., & Wenger, E. (1991). Situated learning: Legitimate peripheral participation                                          32\n",
       "Jordan, B., & Henderson, A. (1995). Interaction analysis: Foundations and practice                                             31\n",
       "Scardamalia, M., & Bereiter, C. (2006). Knowledge building: Theory, pedagogy, and technology                                   23\n",
       "Papert, S. (1980). Mindstorms: Children, computers, and powerful ideas                                                         20\n",
       "Barron, B. (2003). When smart groups fail                                                                                      19\n",
       "Bereiter, C. (2002). Education and mind in the knowledge age                                                                   16\n",
       "Vygotsky, L. S. (1978). Mind in society: The development of higher psychological processes                                     15\n",
       "National Research Council. (2012). A framework for K-12 science education: Practices, crosscutting concepts, and core ideas    15\n",
       "Brown, J. S., Collins, A., & Duguid, P. (1989). Situated cognition and the culture of learning                                 14\n",
       "Name: identifier, dtype: int64"
      ]
     },
     "execution_count": 6,
     "metadata": {},
     "output_type": "execute_result"
    },
    {
     "data": {
      "image/png": "[encoded data removed]",
      "text/plain": [
       "<Figure size 432x288 with 1 Axes>"
      ]
     },
     "metadata": {
      "needs_background": "light"
     },
     "output_type": "display_data"
    }
   ],
   "source": [
    "plt.title('Most cited references')\n",
    "references.identifier.value_counts().head(20).plot(kind='bar')\n",
    "references.identifier.value_counts().head(10)"
   ]
  },
  {
   "cell_type": "markdown",
   "metadata": {},
   "source": [
    "### Looking at authors in dataset & the ones they reference"
   ]
  },
  {
   "cell_type": "code",
   "execution_count": 7,
   "metadata": {},
   "outputs": [
    {
     "data": {
      "text/plain": [
       "(45194, 6)"
      ]
     },
     "execution_count": 7,
     "metadata": {},
     "output_type": "execute_result"
    }
   ],
   "source": [
    "reference_authors = pd.read_csv('data/Reference_authors.csv', index_col=0)\n",
    "reference_authors.shape"
   ]
  },
  {
   "cell_type": "code",
   "execution_count": 8,
   "metadata": {},
   "outputs": [
    {
     "data": {
      "text/plain": [
       "(34634, 6)"
      ]
     },
     "execution_count": 8,
     "metadata": {},
     "output_type": "execute_result"
    }
   ],
   "source": [
    "reference_authors.drop_duplicates(inplace=True)\n",
    "reference_authors.shape"
   ]
  },
  {
   "cell_type": "code",
   "execution_count": 9,
   "metadata": {},
   "outputs": [
    {
     "data": {
      "text/html": [
       "<div>\n",
       "<style scoped>\n",
       "    .dataframe tbody tr th:only-of-type {\n",
       "        vertical-align: middle;\n",
       "    }\n",
       "\n",
       "    .dataframe tbody tr th {\n",
       "        vertical-align: top;\n",
       "    }\n",
       "\n",
       "    .dataframe thead th {\n",
       "        text-align: right;\n",
       "    }\n",
       "</style>\n",
       "<table border=\"1\" class=\"dataframe\">\n",
       "  <thead>\n",
       "    <tr style=\"text-align: right;\">\n",
       "      <th></th>\n",
       "      <th>ref</th>\n",
       "      <th>file</th>\n",
       "      <th>ref_parsed</th>\n",
       "      <th>year</th>\n",
       "      <th>identifier</th>\n",
       "      <th>author</th>\n",
       "    </tr>\n",
       "  </thead>\n",
       "  <tbody>\n",
       "    <tr>\n",
       "      <th>0</th>\n",
       "      <td>Lave, J., &amp; Wenger, E. (1991). Situated learni...</td>\n",
       "      <td>import2018_371</td>\n",
       "      <td>Lave, J., &amp; Wenger, E. (1991)</td>\n",
       "      <td>1991.0</td>\n",
       "      <td>Lave, J., &amp; Wenger, E. (1991). Situated learni...</td>\n",
       "      <td>Lave J.</td>\n",
       "    </tr>\n",
       "    <tr>\n",
       "      <th>1</th>\n",
       "      <td>Miles, M. B., Huberman, A. M., &amp; Saldana, J. (...</td>\n",
       "      <td>import2018_371</td>\n",
       "      <td>Miles, M. B., Huberman, A. M., &amp; Saldana, J. (...</td>\n",
       "      <td>2013.0</td>\n",
       "      <td>Miles, M. B., Huberman, A. M., &amp; Saldana, J. (...</td>\n",
       "      <td>Miles M. B.</td>\n",
       "    </tr>\n",
       "    <tr>\n",
       "      <th>2</th>\n",
       "      <td>Pea, R. D., Gomez, L. M., Edelson, D. C., Fish...</td>\n",
       "      <td>import2018_371</td>\n",
       "      <td>Pea, R. D., Gomez, L. M., Edelson, D. C., Fish...</td>\n",
       "      <td>1997.0</td>\n",
       "      <td>Pea, R. D., Gomez, L. M., Edelson, D. C., Fish...</td>\n",
       "      <td>Pea R. D.</td>\n",
       "    </tr>\n",
       "    <tr>\n",
       "      <th>3</th>\n",
       "      <td>Rogoff, B. (1995). Observing sociocultural act...</td>\n",
       "      <td>import2018_371</td>\n",
       "      <td>Rogoff, B. (1995)</td>\n",
       "      <td>1995.0</td>\n",
       "      <td>Rogoff, B. (1995). Observing sociocultural act...</td>\n",
       "      <td>Rogoff B.</td>\n",
       "    </tr>\n",
       "    <tr>\n",
       "      <th>4</th>\n",
       "      <td>Shirk, J., Ballard, H., Wilderman, C., Phillip...</td>\n",
       "      <td>import2018_371</td>\n",
       "      <td>Shirk, J., Ballard, H., Wilderman, C., Phillip...</td>\n",
       "      <td>2012.0</td>\n",
       "      <td>Shirk, J., Ballard, H., Wilderman, C., Phillip...</td>\n",
       "      <td>Shirk J.</td>\n",
       "    </tr>\n",
       "  </tbody>\n",
       "</table>\n",
       "</div>"
      ],
      "text/plain": [
       "                                                 ref            file  \\\n",
       "0  Lave, J., & Wenger, E. (1991). Situated learni...  import2018_371   \n",
       "1  Miles, M. B., Huberman, A. M., & Saldana, J. (...  import2018_371   \n",
       "2  Pea, R. D., Gomez, L. M., Edelson, D. C., Fish...  import2018_371   \n",
       "3  Rogoff, B. (1995). Observing sociocultural act...  import2018_371   \n",
       "4  Shirk, J., Ballard, H., Wilderman, C., Phillip...  import2018_371   \n",
       "\n",
       "                                          ref_parsed    year  \\\n",
       "0                      Lave, J., & Wenger, E. (1991)  1991.0   \n",
       "1  Miles, M. B., Huberman, A. M., & Saldana, J. (...  2013.0   \n",
       "2  Pea, R. D., Gomez, L. M., Edelson, D. C., Fish...  1997.0   \n",
       "3                                  Rogoff, B. (1995)  1995.0   \n",
       "4  Shirk, J., Ballard, H., Wilderman, C., Phillip...  2012.0   \n",
       "\n",
       "                                          identifier       author  \n",
       "0  Lave, J., & Wenger, E. (1991). Situated learni...      Lave J.  \n",
       "1  Miles, M. B., Huberman, A. M., & Saldana, J. (...  Miles M. B.  \n",
       "2  Pea, R. D., Gomez, L. M., Edelson, D. C., Fish...    Pea R. D.  \n",
       "3  Rogoff, B. (1995). Observing sociocultural act...    Rogoff B.  \n",
       "4  Shirk, J., Ballard, H., Wilderman, C., Phillip...     Shirk J.  "
      ]
     },
     "execution_count": 9,
     "metadata": {},
     "output_type": "execute_result"
    }
   ],
   "source": [
    "reference_authors.head()"
   ]
  },
  {
   "cell_type": "markdown",
   "metadata": {},
   "source": [
    "We check the most cited author:"
   ]
  },
  {
   "cell_type": "code",
   "execution_count": 10,
   "metadata": {},
   "outputs": [
    {
     "data": {
      "text/plain": [
       "<matplotlib.axes._subplots.AxesSubplot at 0x1a17bf4b00>"
      ]
     },
     "execution_count": 10,
     "metadata": {},
     "output_type": "execute_result"
    },
    {
     "data": {
      "image/png": "[encoded data removed]",
      "text/plain": [
       "<Figure size 432x288 with 1 Axes>"
      ]
     },
     "metadata": {
      "needs_background": "light"
     },
     "output_type": "display_data"
    }
   ],
   "source": [
    "plt.title('Most cited authors')\n",
    "reference_authors.author.value_counts().head(15).plot(kind='bar')"
   ]
  },
  {
   "cell_type": "code",
   "execution_count": 11,
   "metadata": {},
   "outputs": [
    {
     "data": {
      "text/plain": [
       "<matplotlib.axes._subplots.AxesSubplot at 0x1a1626fc50>"
      ]
     },
     "execution_count": 11,
     "metadata": {},
     "output_type": "execute_result"
    },
    {
     "data": {
      "image/png": "[encoded data removed]",
      "text/plain": [
       "<Figure size 432x288 with 1 Axes>"
      ]
     },
     "metadata": {
      "needs_background": "light"
     },
     "output_type": "display_data"
    }
   ],
   "source": [
    "plt.title('Most cited for reference after 2010')\n",
    "reference_authors[reference_authors.year > 2010].author.value_counts().head(15).plot(kind='bar')"
   ]
  },
  {
   "cell_type": "markdown",
   "metadata": {},
   "source": [
    "We now merge on the shortened name as it can be found in the citation.\n",
    "\n",
    "**Note** that we might get illegitemate merges, as the short name is not unique, even within the metadata dataset!"
   ]
  },
  {
   "cell_type": "markdown",
   "metadata": {},
   "source": [
    "Load the metadata:"
   ]
  },
  {
   "cell_type": "code",
   "execution_count": 12,
   "metadata": {},
   "outputs": [],
   "source": [
    "metadata = pd.read_csv('data/Parsed_metadata.csv', index_col=0)"
   ]
  },
  {
   "cell_type": "code",
   "execution_count": 13,
   "metadata": {},
   "outputs": [
    {
     "data": {
      "text/html": [
       "<div>\n",
       "<style scoped>\n",
       "    .dataframe tbody tr th:only-of-type {\n",
       "        vertical-align: middle;\n",
       "    }\n",
       "\n",
       "    .dataframe tbody tr th {\n",
       "        vertical-align: top;\n",
       "    }\n",
       "\n",
       "    .dataframe thead th {\n",
       "        text-align: right;\n",
       "    }\n",
       "</style>\n",
       "<table border=\"1\" class=\"dataframe\">\n",
       "  <thead>\n",
       "    <tr style=\"text-align: right;\">\n",
       "      <th></th>\n",
       "      <th>file</th>\n",
       "      <th>subject</th>\n",
       "      <th>iso</th>\n",
       "      <th>uri</th>\n",
       "      <th>type</th>\n",
       "      <th>publisher</th>\n",
       "      <th>title</th>\n",
       "      <th>issued</th>\n",
       "      <th>accessioned</th>\n",
       "      <th>citation</th>\n",
       "      <th>...</th>\n",
       "      <th>abstract</th>\n",
       "      <th>long_name</th>\n",
       "      <th>author_order</th>\n",
       "      <th>shortend_names</th>\n",
       "      <th>identifier_x</th>\n",
       "      <th>ref</th>\n",
       "      <th>ref_parsed</th>\n",
       "      <th>year</th>\n",
       "      <th>identifier_y</th>\n",
       "      <th>author</th>\n",
       "    </tr>\n",
       "  </thead>\n",
       "  <tbody>\n",
       "    <tr>\n",
       "      <th>95281</th>\n",
       "      <td>import2018_38</td>\n",
       "      <td>['Educational Data Mining', 'Action logs analy...</td>\n",
       "      <td>en</td>\n",
       "      <td>https://doi.dx.org/10.22318/cscl2018.312</td>\n",
       "      <td>Book chapter</td>\n",
       "      <td>International Society of the Learning Science...</td>\n",
       "      <td>Matching Data-Driven Models of Group Interacti...</td>\n",
       "      <td>2018-07</td>\n",
       "      <td>2018-11-04 23:14:21+00:00</td>\n",
       "      <td>Paquette, L., Bosch, N., Mercier, E., Jung, J....</td>\n",
       "      <td>...</td>\n",
       "      <td>Despite an increasing emphasis on the use of c...</td>\n",
       "      <td>Bosch, Nigel</td>\n",
       "      <td>1</td>\n",
       "      <td>Bosch N.</td>\n",
       "      <td>Paquette, L., Bosch, N., Mercier, E., Jung, J....</td>\n",
       "      <td>Mierswa, I., Wurst, M., Klinkenberg, R., Schol...</td>\n",
       "      <td>Mierswa, I., Wurst, M., Klinkenberg, R., Schol...</td>\n",
       "      <td>2006.0</td>\n",
       "      <td>Mierswa, I., Wurst, M., Klinkenberg, R., Schol...</td>\n",
       "      <td>Euler T.</td>\n",
       "    </tr>\n",
       "    <tr>\n",
       "      <th>26574</th>\n",
       "      <td>import2016short_158</td>\n",
       "      <td>NaN</td>\n",
       "      <td>en</td>\n",
       "      <td>https://doi.dx.org/10.22318/icls2016.158</td>\n",
       "      <td>Book chapter</td>\n",
       "      <td>Singapore: International Society of the Learni...</td>\n",
       "      <td>Exploring the Relationship Between Gesture and...</td>\n",
       "      <td>2016-07</td>\n",
       "      <td>2017-06-19 11:36:28+00:00</td>\n",
       "      <td>Alameh, S., Morphew, J., Mathayas, N., &amp; Lindg...</td>\n",
       "      <td>...</td>\n",
       "      <td>Leading middle school students to effectively ...</td>\n",
       "      <td>Alameh, Sahar</td>\n",
       "      <td>0</td>\n",
       "      <td>Alameh S.</td>\n",
       "      <td>Alameh, S., Morphew, J., Mathayas, N., &amp; Lindg...</td>\n",
       "      <td>Alibali, M. W., &amp; Nathan, M. J. (2012). Embodi...</td>\n",
       "      <td>Alibali, M. W., &amp; Nathan, M. J. (2012)</td>\n",
       "      <td>2012.0</td>\n",
       "      <td>Alibali, M. W., &amp; Nathan, M. J. (2012). Embodi...</td>\n",
       "      <td>Nathan M. J.</td>\n",
       "    </tr>\n",
       "  </tbody>\n",
       "</table>\n",
       "<p>2 rows × 21 columns</p>\n",
       "</div>"
      ],
      "text/plain": [
       "                      file                                            subject  \\\n",
       "95281        import2018_38  ['Educational Data Mining', 'Action logs analy...   \n",
       "26574  import2016short_158                                                NaN   \n",
       "\n",
       "      iso                                       uri          type  \\\n",
       "95281  en  https://doi.dx.org/10.22318/cscl2018.312  Book chapter   \n",
       "26574  en  https://doi.dx.org/10.22318/icls2016.158  Book chapter   \n",
       "\n",
       "                                               publisher  \\\n",
       "95281   International Society of the Learning Science...   \n",
       "26574  Singapore: International Society of the Learni...   \n",
       "\n",
       "                                                   title   issued  \\\n",
       "95281  Matching Data-Driven Models of Group Interacti...  2018-07   \n",
       "26574  Exploring the Relationship Between Gesture and...  2016-07   \n",
       "\n",
       "                     accessioned  \\\n",
       "95281  2018-11-04 23:14:21+00:00   \n",
       "26574  2017-06-19 11:36:28+00:00   \n",
       "\n",
       "                                                citation      ...       \\\n",
       "95281  Paquette, L., Bosch, N., Mercier, E., Jung, J....      ...        \n",
       "26574  Alameh, S., Morphew, J., Mathayas, N., & Lindg...      ...        \n",
       "\n",
       "                                                abstract      long_name  \\\n",
       "95281  Despite an increasing emphasis on the use of c...   Bosch, Nigel   \n",
       "26574  Leading middle school students to effectively ...  Alameh, Sahar   \n",
       "\n",
       "      author_order  shortend_names  \\\n",
       "95281            1        Bosch N.   \n",
       "26574            0       Alameh S.   \n",
       "\n",
       "                                            identifier_x  \\\n",
       "95281  Paquette, L., Bosch, N., Mercier, E., Jung, J....   \n",
       "26574  Alameh, S., Morphew, J., Mathayas, N., & Lindg...   \n",
       "\n",
       "                                                     ref  \\\n",
       "95281  Mierswa, I., Wurst, M., Klinkenberg, R., Schol...   \n",
       "26574  Alibali, M. W., & Nathan, M. J. (2012). Embodi...   \n",
       "\n",
       "                                              ref_parsed    year  \\\n",
       "95281  Mierswa, I., Wurst, M., Klinkenberg, R., Schol...  2006.0   \n",
       "26574             Alibali, M. W., & Nathan, M. J. (2012)  2012.0   \n",
       "\n",
       "                                            identifier_y        author  \n",
       "95281  Mierswa, I., Wurst, M., Klinkenberg, R., Schol...      Euler T.  \n",
       "26574  Alibali, M. W., & Nathan, M. J. (2012). Embodi...  Nathan M. J.  \n",
       "\n",
       "[2 rows x 21 columns]"
      ]
     },
     "execution_count": 13,
     "metadata": {},
     "output_type": "execute_result"
    }
   ],
   "source": [
    "reference_edges = pd.merge(metadata, reference_authors, on='file')\n",
    "\n",
    "reference_edges.sample(2)"
   ]
  },
  {
   "cell_type": "markdown",
   "metadata": {},
   "source": [
    "#### We look at how the references are distributed over the years:"
   ]
  },
  {
   "cell_type": "code",
   "execution_count": 14,
   "metadata": {},
   "outputs": [
    {
     "data": {
      "text/plain": [
       "<matplotlib.axes._subplots.AxesSubplot at 0x1a1590b550>"
      ]
     },
     "execution_count": 14,
     "metadata": {},
     "output_type": "execute_result"
    },
    {
     "data": {
      "image/png": "[encoded data removed]",
      "text/plain": [
       "<Figure size 432x288 with 1 Axes>"
      ]
     },
     "metadata": {
      "needs_background": "light"
     },
     "output_type": "display_data"
    }
   ],
   "source": [
    "references.year.plot(kind='box')"
   ]
  },
  {
   "cell_type": "code",
   "execution_count": 15,
   "metadata": {},
   "outputs": [],
   "source": [
    "reference_edges.rename(columns={'shortend_names': 'author', 'author': 'cited'}, inplace=True)"
   ]
  },
  {
   "cell_type": "markdown",
   "metadata": {},
   "source": [
    "We don't see much but CSCL has less early (pree 1920) outiers"
   ]
  },
  {
   "cell_type": "code",
   "execution_count": 16,
   "metadata": {},
   "outputs": [
    {
     "data": {
      "text/plain": [
       "<seaborn.axisgrid.FacetGrid at 0x1a1590b128>"
      ]
     },
     "execution_count": 16,
     "metadata": {},
     "output_type": "execute_result"
    },
    {
     "data": {
      "image/png": "[encoded data removed]",
      "text/plain": [
       "<Figure size 360x360 with 1 Axes>"
      ]
     },
     "metadata": {
      "needs_background": "light"
     },
     "output_type": "display_data"
    }
   ],
   "source": [
    "sns.catplot(data=reference_edges[['ref','issued', 'year']][~reference_edges.ref.duplicated()], x='issued', y='year', kind='box')"
   ]
  },
  {
   "cell_type": "markdown",
   "metadata": {},
   "source": [
    "We have an interesting shift to newer sources in 2018:"
   ]
  },
  {
   "cell_type": "code",
   "execution_count": 17,
   "metadata": {},
   "outputs": [
    {
     "data": {
      "text/plain": [
       "issued\n",
       "2015-07    2004.944413\n",
       "2016-07    2004.681293\n",
       "2017-07    2006.698529\n",
       "2018-07    2007.583138\n",
       "Name: year, dtype: float64"
      ]
     },
     "execution_count": 17,
     "metadata": {},
     "output_type": "execute_result"
    }
   ],
   "source": [
    "reference_edges[['ref','issued', 'year']][~reference_edges.ref.duplicated()].groupby('issued').year.mean()"
   ]
  },
  {
   "cell_type": "code",
   "execution_count": 18,
   "metadata": {},
   "outputs": [
    {
     "data": {
      "text/plain": [
       "issued\n",
       "2015-07    2008.0\n",
       "2016-07    2008.0\n",
       "2017-07    2009.0\n",
       "2018-07    2011.0\n",
       "Name: year, dtype: float64"
      ]
     },
     "execution_count": 18,
     "metadata": {},
     "output_type": "execute_result"
    }
   ],
   "source": [
    "reference_edges[['ref','issued', 'year']][~reference_edges.ref.duplicated()].groupby('issued').year.median()"
   ]
  },
  {
   "cell_type": "markdown",
   "metadata": {},
   "source": [
    "## Analyzing author reference relationship\n",
    "\n",
    "### Self citations:"
   ]
  },
  {
   "cell_type": "code",
   "execution_count": 19,
   "metadata": {},
   "outputs": [
    {
     "data": {
      "text/plain": [
       "Zhang J.           80\n",
       "Rummel N.          61\n",
       "Trausan-Matu S.    50\n",
       "Sharma K.          35\n",
       "Kollar I.          27\n",
       "Name: author, dtype: int64"
      ]
     },
     "execution_count": 19,
     "metadata": {},
     "output_type": "execute_result"
    }
   ],
   "source": [
    "reference_edges[reference_edges.author == reference_edges.cited].author.value_counts().head()"
   ]
  },
  {
   "cell_type": "markdown",
   "metadata": {},
   "source": [
    "### Number of authors in and out of conference"
   ]
  },
  {
   "cell_type": "markdown",
   "metadata": {},
   "source": [
    "In and out of conference citations, quick calculation:"
   ]
  },
  {
   "cell_type": "code",
   "execution_count": 20,
   "metadata": {
    "scrolled": true
   },
   "outputs": [
    {
     "name": "stdout",
     "output_type": "stream",
     "text": [
      "Number of distinct authors  1444\n",
      "Number of distinct cited authors by some author in the conference  13224\n",
      "Number of authors that where cited by an other author in the confernce : 806\n"
     ]
    }
   ],
   "source": [
    "print('Number of distinct authors ', len(reference_edges.author.unique()))\n",
    "print('Number of distinct cited authors by some author in the conference ', len(reference_edges.cited.unique()))\n",
    "print('Number of authors that where cited by an other author in the confernce :' , len(set(reference_edges.cited.tolist()).intersection(set(reference_edges.author.tolist()))))"
   ]
  },
  {
   "cell_type": "code",
   "execution_count": 21,
   "metadata": {},
   "outputs": [],
   "source": [
    "reference_edges = reference_edges[['cited', 'author', 'year', 'ref']][reference_edges.year.notna()]"
   ]
  },
  {
   "cell_type": "markdown",
   "metadata": {},
   "source": [
    "Example of how one can match the string:"
   ]
  },
  {
   "cell_type": "code",
   "execution_count": 22,
   "metadata": {},
   "outputs": [
    {
     "data": {
      "text/plain": [
       "<re.Match object; span=(7, 11), match='ICLS'>"
      ]
     },
     "execution_count": 22,
     "metadata": {},
     "output_type": "execute_result"
    }
   ],
   "source": [
    "match_conference = ' JLS |Journal of the Learning Sciences|CSCL|ICLS|ijCSCL|Computer(-| |)Supported Collaborative Learning'\n",
    "re.search(match_conference,'bjfejf ICLS')"
   ]
  },
  {
   "cell_type": "markdown",
   "metadata": {},
   "source": [
    "Find references belong to conference:"
   ]
  },
  {
   "cell_type": "code",
   "execution_count": 23,
   "metadata": {},
   "outputs": [],
   "source": [
    "mask_c_s = reference_edges.ref.map(lambda x: True if re.search(match_conference, x) else False)"
   ]
  },
  {
   "cell_type": "code",
   "execution_count": 24,
   "metadata": {},
   "outputs": [],
   "source": [
    "in_conference = set(reference_edges[mask_c_s].cited.unique())"
   ]
  },
  {
   "cell_type": "markdown",
   "metadata": {},
   "source": [
    "We limit the range of years to get people that are still \"active\""
   ]
  },
  {
   "cell_type": "code",
   "execution_count": 25,
   "metadata": {},
   "outputs": [],
   "source": [
    "not_in_conference = list(set(reference_edges[reference_edges.year > 2010].cited) - in_conference.union(set(reference_edges.author)))"
   ]
  },
  {
   "cell_type": "code",
   "execution_count": 26,
   "metadata": {},
   "outputs": [
    {
     "data": {
      "text/plain": [
       "<matplotlib.axes._subplots.AxesSubplot at 0x1a15b100f0>"
      ]
     },
     "execution_count": 26,
     "metadata": {},
     "output_type": "execute_result"
    },
    {
     "data": {
      "image/png": "[encoded data removed]",
      "text/plain": [
       "<Figure size 432x288 with 1 Axes>"
      ]
     },
     "metadata": {
      "needs_background": "light"
     },
     "output_type": "display_data"
    }
   ],
   "source": [
    "#todo: filter out organisations\n",
    "# todo: deal with non overlapping names\n",
    "plt.title('Most cited authors that have not participated in conference')\n",
    "plt.ylabel('number of times cited')\n",
    "# check that not in conference and is indeed author\n",
    "is_human = reference_edges.dropna().cited.map(lambda x: True if reg.search(r'\\p{Lu}\\.',x) else False)\n",
    "reference_edges[(reference_edges.cited.isin(not_in_conference)) & (is_human)].cited.value_counts().head(20).plot(kind = 'bar')"
   ]
  },
  {
   "cell_type": "code",
   "execution_count": 27,
   "metadata": {},
   "outputs": [
    {
     "data": {
      "text/plain": [
       "['Goodwin, C. (2003). The semiotic body in its environment. In J. Coupland & R. Gwyn (Eds.), Discourses of the body (pp. 19-42). New York: Palgrave/Macmillan.',\n",
       " 'Koschmann, T., LeBaron, C., Goodwin, C., & Feltovich, P. (2011). “Can you see the cystic artery yet?” A simple matter of trust. Journal of Pragmatics, 43(2), 521–541.',\n",
       " 'Goodwin, C. (2009). Video and the analysis of embodied human interaction. In U. T. Kissmann (Ed.), Video interaction analysis (pp. 21 – 40). Peter Lang GmbH. Frankfurt am Main.',\n",
       " 'Streeck, J., Goodwin, C. & LeBaron, C. (2011). Embodied interaction in the material world: An introduction. In J. Streeck, C. Goodwin & C. Lebaron (Eds.), Embodied interaction. Language and body in the material world. Cambridge, MA: Cambridge University Press.']"
      ]
     },
     "execution_count": 27,
     "metadata": {},
     "output_type": "execute_result"
    }
   ],
   "source": [
    "reference_edges[(reference_edges.cited.isin(not_in_conference)) & (reference_edges.cited == 'Goodwin C.')].ref.sample(4).tolist()"
   ]
  },
  {
   "cell_type": "code",
   "execution_count": 28,
   "metadata": {},
   "outputs": [
    {
     "data": {
      "text/plain": [
       "['Gee, J. P. (2004). Situated language and learning: A critique of traditional schooling. New York: Routledge.',\n",
       " 'Moss, P. A., Pullin, D. C., Gee, J. P., Haertel, E. H., & Young, L. J. (2008). Assessment, equity, and opportunity to learn. Cambridge, MA: Cambridge University Press.',\n",
       " 'Gee, J. P. (2007b). Good Video Games and Good Learning: New Literacies and Digital Epistemologies. New York: Peter Lang Publishing.',\n",
       " 'Gee, J. P. (2001). Identity as an Analytic Lens for Research in Education. Review of Educational Research, 25, 99–125.']"
      ]
     },
     "execution_count": 28,
     "metadata": {},
     "output_type": "execute_result"
    }
   ],
   "source": [
    "reference_edges[(reference_edges.cited.isin(not_in_conference)) & (reference_edges.cited == 'Gee J. P.')].ref.sample(4).tolist()"
   ]
  },
  {
   "cell_type": "markdown",
   "metadata": {},
   "source": [
    "# extracting conference, journal from refrence string"
   ]
  },
  {
   "cell_type": "markdown",
   "metadata": {},
   "source": [
    "Example of how we can split up the text, which is later used to extract the conference/journal if present:"
   ]
  },
  {
   "cell_type": "code",
   "execution_count": 29,
   "metadata": {},
   "outputs": [
    {
     "data": {
      "text/plain": [
       "['Van Meter, P., & Firetto, C. M. (2013)',\n",
       " '.',\n",
       " 'Cognitive model of drawing construction: learning through the construction of drawings',\n",
       " '.',\n",
       " 'In G',\n",
       " '.',\n",
       " 'Schraw, M',\n",
       " '.',\n",
       " 'McCrudden, & D',\n",
       " '.',\n",
       " 'Robinson (Eds.), Learning through visual displays (pp. 247-280)',\n",
       " '.',\n",
       " 'Scottsdale, AZ: Information Age Publishing.']"
      ]
     },
     "execution_count": 29,
     "metadata": {},
     "output_type": "execute_result"
    }
   ],
   "source": [
    "text = references.sample().ref.item()\n",
    "split_ref = r'(\\.|\\?) (?=[\\p{Lu}][\\p{L}])'\n",
    "reg.split(split_ref, text)"
   ]
  },
  {
   "cell_type": "markdown",
   "metadata": {},
   "source": [
    "We now define a regex that will catch up on words indicating a relation to a conference and then extract and clean the string to get a conference name:\n",
    "\n",
    "_TODO: include symposium or not?_"
   ]
  },
  {
   "cell_type": "code",
   "execution_count": 30,
   "metadata": {},
   "outputs": [],
   "source": [
    "#regex to find journals or conferences\n",
    "pub = '(C|c)onference|(P|p)roceedings|(j|J)ournal|(T|t)ransactions|(s|S)ymposium'\n",
    "re.search(pub, text)"
   ]
  },
  {
   "cell_type": "code",
   "execution_count": 31,
   "metadata": {},
   "outputs": [
    {
     "data": {
      "text/plain": [
       "'international conference of (the |)learning sciences| jls |journal of the learning sciences|cscl|icls|ijcscl|computer(-| |)supported collaborative learning'"
      ]
     },
     "execution_count": 31,
     "metadata": {},
     "output_type": "execute_result"
    }
   ],
   "source": [
    "#set to lower for better matching\n",
    "match_conference = 'International Conference of (the |)Learning Sciences| JLS |Journal of the Learning Sciences|CSCL|ICLS|ijCSCL|Computer(-| |)Supported Collaborative Learning'\n",
    "match_conference.lower()"
   ]
  },
  {
   "cell_type": "code",
   "execution_count": 32,
   "metadata": {},
   "outputs": [],
   "source": [
    "import nltk\n",
    "from nltk import word_tokenize\n",
    "def clean_string(x):\n",
    "    \n",
    "    x = x.lower() # lower to ignore case\n",
    "    \n",
    "    x = re.sub('[\\'\\\"\\”\\/\\d]*', '', x) #sub out elements that might cause same string to be diff\n",
    "    x = re.sub(' & ', ' and ', x) # common spelling issue\n",
    "    x = re.sub(' th | nd | rd | st | volume |—|  |-', ' ', x)\n",
    "    x = re.sub(' on ', ' of ', x)\n",
    "    x = x.strip()\n",
    "    x = ' '.join([ z for z,y in nltk.pos_tag(word_tokenize(x)) if not y in ['CD', ':','$' ]])\n",
    "    return x"
   ]
  },
  {
   "cell_type": "code",
   "execution_count": 33,
   "metadata": {},
   "outputs": [
    {
     "data": {
      "text/plain": [
       "<re.Match object; span=(25, 66), match='computer supported collaborative learning'>"
      ]
     },
     "execution_count": 33,
     "metadata": {},
     "output_type": "execute_result"
    }
   ],
   "source": [
    "re.search(match_conference.lower(), clean_string('international journal of computer-supported collaborative learning'))"
   ]
  },
  {
   "cell_type": "code",
   "execution_count": 34,
   "metadata": {},
   "outputs": [
    {
     "data": {
      "text/plain": [
       "'international journal of computer supported collaborative learning'"
      ]
     },
     "execution_count": 34,
     "metadata": {},
     "output_type": "execute_result"
    }
   ],
   "source": [
    "clean_string('international journal of computer-supported collaborative learning')"
   ]
  },
  {
   "cell_type": "code",
   "execution_count": 35,
   "metadata": {},
   "outputs": [],
   "source": [
    "mask = references.ref.map(lambda x: True if \n",
    "                          (re.search(pub, x) and not\n",
    "                          re.search(match_conference.lower(), clean_string(x))) else False)"
   ]
  },
  {
   "cell_type": "code",
   "execution_count": 36,
   "metadata": {},
   "outputs": [],
   "source": [
    "sources = references[mask].ref.map(lambda x: \n",
    "                            [y for y in reg.split(split_ref, x) \n",
    "                             if re.search(pub, y)\n",
    "                            ][0])"
   ]
  },
  {
   "cell_type": "code",
   "execution_count": 37,
   "metadata": {},
   "outputs": [
    {
     "data": {
      "text/plain": [
       "(3170,)"
      ]
     },
     "execution_count": 37,
     "metadata": {},
     "output_type": "execute_result"
    }
   ],
   "source": [
    "sources.shape"
   ]
  },
  {
   "cell_type": "markdown",
   "metadata": {},
   "source": [
    "Is this CSCL ?"
   ]
  },
  {
   "cell_type": "code",
   "execution_count": 38,
   "metadata": {},
   "outputs": [
    {
     "data": {
      "text/plain": [
       "'In The first international conference on Computer support for collaborative learning (pp. 67-74). L'"
      ]
     },
     "execution_count": 38,
     "metadata": {},
     "output_type": "execute_result"
    }
   ],
   "source": [
    "sources[14589]"
   ]
  },
  {
   "cell_type": "code",
   "execution_count": 39,
   "metadata": {},
   "outputs": [],
   "source": [
    "sources = sources.map(lambda x: clean_string(x))"
   ]
  },
  {
   "cell_type": "code",
   "execution_count": 40,
   "metadata": {},
   "outputs": [],
   "source": [
    "def strip_garbage(s):\n",
    "    r = [y.strip() for y in reg.split(r'\\.|\\,|\\?|\\;|\\(|\\)', s) if re.search(pub.lower(), y)]\n",
    "    if len(r) > 0:\n",
    "        return r[0]\n",
    "    else:\n",
    "        print(s)\n",
    "        return None"
   ]
  },
  {
   "cell_type": "code",
   "execution_count": 41,
   "metadata": {
    "scrolled": false
   },
   "outputs": [],
   "source": [
    "sources = sources.map(lambda x: strip_garbage(x))#.map(lambda x: x[0] if len(x) > 0 else )"
   ]
  },
  {
   "cell_type": "code",
   "execution_count": 42,
   "metadata": {},
   "outputs": [
    {
     "data": {
      "text/plain": [
       "['journal of educational psychology',\n",
       " 'journal of distance education',\n",
       " 'journal of research in science teaching',\n",
       " 'journal of research in science teaching',\n",
       " 'international journal technology and design education',\n",
       " 'journal of educational technology and society',\n",
       " 'journal of research in science teaching',\n",
       " 'international journal of science education',\n",
       " 'journal of learning analytics',\n",
       " 'journal of research of technology in education']"
      ]
     },
     "execution_count": 42,
     "metadata": {},
     "output_type": "execute_result"
    }
   ],
   "source": [
    "sources.sample(10).tolist()"
   ]
  },
  {
   "cell_type": "markdown",
   "metadata": {},
   "source": [
    "Note: People like to misspell CSCL spell it in various forms.."
   ]
  },
  {
   "cell_type": "markdown",
   "metadata": {},
   "source": [
    "## Most cited non  CSCL and ISCL conferences:"
   ]
  },
  {
   "cell_type": "code",
   "execution_count": 43,
   "metadata": {},
   "outputs": [
    {
     "data": {
      "text/plain": [
       "<matplotlib.axes._subplots.AxesSubplot at 0x1a18527e48>"
      ]
     },
     "execution_count": 43,
     "metadata": {},
     "output_type": "execute_result"
    },
    {
     "data": {
      "image/png": "[encoded data removed]",
      "text/plain": [
       "<Figure size 432x288 with 1 Axes>"
      ]
     },
     "metadata": {
      "needs_background": "light"
     },
     "output_type": "display_data"
    }
   ],
   "source": [
    "sources.value_counts().head(20).plot(kind='bar')"
   ]
  },
  {
   "cell_type": "code",
   "execution_count": 44,
   "metadata": {},
   "outputs": [
    {
     "data": {
      "text/plain": [
       "th international conference of                                                                     1\n",
       "in proceedings of the international conference of multimodal interfaces                            1\n",
       "british journal of surgery                                                                         1\n",
       "european journal of teacher education                                                              1\n",
       "presented at the national council for teachers of mathematics research conference                  1\n",
       "universal design in education conference                                                           1\n",
       "social dynamics in conferences analyses of data from the live social semantics application         1\n",
       "journal of education for business                                                                  1\n",
       "in the proceedings of the international acm sigaccess conference of computers and accessibility    1\n",
       "the journal of the learning science                                                                1\n",
       "Name: ref, dtype: int64"
      ]
     },
     "execution_count": 44,
     "metadata": {},
     "output_type": "execute_result"
    }
   ],
   "source": [
    "sources.value_counts().tail(10)"
   ]
  },
  {
   "cell_type": "markdown",
   "metadata": {},
   "source": [
    "We analyze how heavy the tail is to find whether we should work on parsing the tail or not:"
   ]
  },
  {
   "cell_type": "code",
   "execution_count": 45,
   "metadata": {},
   "outputs": [],
   "source": [
    "conference_counts = sources.value_counts()"
   ]
  },
  {
   "cell_type": "code",
   "execution_count": 46,
   "metadata": {},
   "outputs": [
    {
     "data": {
      "text/plain": [
       "1117"
      ]
     },
     "execution_count": 46,
     "metadata": {},
     "output_type": "execute_result"
    }
   ],
   "source": [
    "conference_counts[conference_counts >= 20].sum()"
   ]
  },
  {
   "cell_type": "code",
   "execution_count": 47,
   "metadata": {},
   "outputs": [
    {
     "data": {
      "text/plain": [
       "2053"
      ]
     },
     "execution_count": 47,
     "metadata": {},
     "output_type": "execute_result"
    }
   ],
   "source": [
    "conference_counts[conference_counts < 20].sum()"
   ]
  },
  {
   "cell_type": "markdown",
   "metadata": {},
   "source": [
    "Conclusion: As the tail accounts for a lage number of conferences better parsing might cause a shift in the most popular conferences. Hence we look into getting more uniform names"
   ]
  },
  {
   "cell_type": "markdown",
   "metadata": {},
   "source": [
    "A first idea is to look at acronyms..: https://en.wikipedia.org/wiki/List_of_computer_science_conference_acronyms"
   ]
  },
  {
   "cell_type": "code",
   "execution_count": 48,
   "metadata": {},
   "outputs": [],
   "source": [
    "import urllib3\n",
    "from bs4 import BeautifulSoup"
   ]
  },
  {
   "cell_type": "code",
   "execution_count": 49,
   "metadata": {},
   "outputs": [
    {
     "name": "stderr",
     "output_type": "stream",
     "text": [
      "/anaconda3/envs/Biblio/lib/python3.7/site-packages/urllib3/connectionpool.py:847: InsecureRequestWarning: Unverified HTTPS request is being made. Adding certificate verification is strongly advised. See: https://urllib3.readthedocs.io/en/latest/advanced-usage.html#ssl-warnings\n",
      "  InsecureRequestWarning)\n"
     ]
    }
   ],
   "source": [
    "url = 'https://en.wikipedia.org/wiki/List_of_computer_science_conference_acronyms'\n",
    "http_pool = urllib3.connection_from_url(url)\n",
    "r = http_pool.urlopen('GET',url)\n",
    "data = r.data\n",
    "soup = BeautifulSoup(data, 'html.parser')\n",
    "conferences_noisy = soup.find_all('div', class_='mw-parser-output')[0].find_all('li')\n",
    "abrev_df = pd.DataFrame([c.text.split(' – ') for c in conferences_noisy if reg.search('–', c.text)], columns=['abreviation', 'full_name'])"
   ]
  },
  {
   "cell_type": "markdown",
   "metadata": {},
   "source": [
    "The gives us the following list:"
   ]
  },
  {
   "cell_type": "code",
   "execution_count": 50,
   "metadata": {},
   "outputs": [
    {
     "data": {
      "text/html": [
       "<div>\n",
       "<style scoped>\n",
       "    .dataframe tbody tr th:only-of-type {\n",
       "        vertical-align: middle;\n",
       "    }\n",
       "\n",
       "    .dataframe tbody tr th {\n",
       "        vertical-align: top;\n",
       "    }\n",
       "\n",
       "    .dataframe thead th {\n",
       "        text-align: right;\n",
       "    }\n",
       "</style>\n",
       "<table border=\"1\" class=\"dataframe\">\n",
       "  <thead>\n",
       "    <tr style=\"text-align: right;\">\n",
       "      <th></th>\n",
       "      <th>abreviation</th>\n",
       "      <th>full_name</th>\n",
       "    </tr>\n",
       "  </thead>\n",
       "  <tbody>\n",
       "    <tr>\n",
       "      <th>0</th>\n",
       "      <td>AAAI</td>\n",
       "      <td>AAAI Conference on Artificial Intelligence</td>\n",
       "    </tr>\n",
       "    <tr>\n",
       "      <th>1</th>\n",
       "      <td>AAMAS</td>\n",
       "      <td>International Conference on Autonomous Agents ...</td>\n",
       "    </tr>\n",
       "    <tr>\n",
       "      <th>2</th>\n",
       "      <td>ABZ</td>\n",
       "      <td>International Conference on Abstract State Mac...</td>\n",
       "    </tr>\n",
       "    <tr>\n",
       "      <th>3</th>\n",
       "      <td>ACL</td>\n",
       "      <td>Annual Meeting of the Association for Computat...</td>\n",
       "    </tr>\n",
       "    <tr>\n",
       "      <th>4</th>\n",
       "      <td>ALGO</td>\n",
       "      <td>ALGO Conference</td>\n",
       "    </tr>\n",
       "  </tbody>\n",
       "</table>\n",
       "</div>"
      ],
      "text/plain": [
       "  abreviation                                          full_name\n",
       "0        AAAI         AAAI Conference on Artificial Intelligence\n",
       "1       AAMAS  International Conference on Autonomous Agents ...\n",
       "2         ABZ  International Conference on Abstract State Mac...\n",
       "3         ACL  Annual Meeting of the Association for Computat...\n",
       "4        ALGO                                    ALGO Conference"
      ]
     },
     "execution_count": 50,
     "metadata": {},
     "output_type": "execute_result"
    }
   ],
   "source": [
    "abrev_df.head()"
   ]
  },
  {
   "cell_type": "markdown",
   "metadata": {},
   "source": [
    "Constricting regex for easier searching on both columns:"
   ]
  },
  {
   "cell_type": "code",
   "execution_count": 51,
   "metadata": {},
   "outputs": [
    {
     "data": {
      "text/plain": [
       "'aaai | aamas | abz | acl | algo | amcis | ants | ares | asiacrypt | asp-dac | ase | aswec | atmos | cade | cav | cc | ccsc | ches | chi | ciaa | cibb | cicling | cidr | cikm | crypto | cusec | cvpr | dac | date | dcfs | disc | dlt | dsn | ecai | ecco | ecis | ecml pkdd | ecoop | ecss | esa | esop | eswc | etaps | eurocrypt | eurographics | ewsn | fase | fast | fcrc | floc | focs | forte | fossacs | fse | ftp | gd | globecom | graphicon | hicss | hipc | hopl | hot interconnects | icalp | icassp | iccad | icc | iccit | iccv | icdcs | icfp | icis | icl | iclp | icml | icpads | icse | icsoc | icsr | icter | icws | ijcai | ijcar | ijcbs | indocrypt | ipdps | ipsn | isaac | isca | iscas | ismar | iswc | ispd | isscc | iswc | kdd | lics | lrec | mm | mobicom | mobihoc | mobilehci | naacl | nips | nime | oopsla | pacis | pimrc | pkc | pkdd | pldi | plop | podc | pods | popl | post | ppopp | psb | recomb | rev | rsa | rta | sac | sac | same | seams | sefm | sensys | sigcomm | sigcse | sigdoc | siggraph | sigir | sigmod | somet | spaa | srds | stacs | stoc | swat | tableaux | tacas | tamc | tcc | tphols | tsd | usenix | vis | vldb | wabi | wads | wae | waoa | wdag | wikisym | wine | wlan | wmsci | www | zum'"
      ]
     },
     "execution_count": 51,
     "metadata": {},
     "output_type": "execute_result"
    }
   ],
   "source": [
    "conf_regex = ' | '.join(abrev_df.abreviation.map(lambda x: x.lower()).tolist())\n",
    "conf_regex"
   ]
  },
  {
   "cell_type": "code",
   "execution_count": 52,
   "metadata": {},
   "outputs": [
    {
     "data": {
      "text/plain": [
       "36"
      ]
     },
     "execution_count": 52,
     "metadata": {},
     "output_type": "execute_result"
    }
   ],
   "source": [
    "sources.map(lambda x: True if reg.search(conf_regex, x) else False).sum()"
   ]
  },
  {
   "cell_type": "code",
   "execution_count": 53,
   "metadata": {},
   "outputs": [
    {
     "data": {
      "text/plain": [
       " sigcse       29\n",
       " chi          28\n",
       "aaai           7\n",
       " nips          5\n",
       " same          5\n",
       " fast          5\n",
       " www           2\n",
       " siggraph      2\n",
       " cicling       2\n",
       " zum           2\n",
       " acl           2\n",
       " post          2\n",
       " usenix        1\n",
       " sigdoc        1\n",
       " vis           1\n",
       " kdd           1\n",
       " wine          1\n",
       " ijcai         1\n",
       " hicss         1\n",
       " iswc          1\n",
       " sigir         1\n",
       "Name: ref, dtype: int64"
      ]
     },
     "execution_count": 53,
     "metadata": {},
     "output_type": "execute_result"
    }
   ],
   "source": [
    "references.ref.map(lambda x: reg.search(conf_regex, x.lower()).group(0) if reg.search(conf_regex, x.lower()) else None).dropna().value_counts()"
   ]
  },
  {
   "cell_type": "code",
   "execution_count": 54,
   "metadata": {},
   "outputs": [],
   "source": [
    "conf_regex = ' |'.join(abrev_df.full_name.map(lambda x: x.lower()).tolist())"
   ]
  },
  {
   "cell_type": "code",
   "execution_count": 55,
   "metadata": {},
   "outputs": [
    {
     "data": {
      "text/plain": [
       "acm technical symposium on computer science education         19\n",
       "acm conference on human factors in computing systems           8\n",
       "international symposium on wearable computers                  2\n",
       "conference on information and knowledge management             2\n",
       "international joint conference on artificial intelligence      2\n",
       "world wide web conference                                      1\n",
       "international symposium on wikis and open collaboration        1\n",
       "aaai conference on artificial intelligence                     1\n",
       "international conference on distributed computing systems      1\n",
       "annual international acm sigir conference                      1\n",
       "international conference on software engineering               1\n",
       "acm international conference on design of communication        1\n",
       "Name: ref, dtype: int64"
      ]
     },
     "execution_count": 55,
     "metadata": {},
     "output_type": "execute_result"
    }
   ],
   "source": [
    "references.ref.map(lambda x: reg.search(conf_regex, x.lower()).group(0) if reg.search(conf_regex, x.lower()) else None).dropna().value_counts()"
   ]
  },
  {
   "cell_type": "markdown",
   "metadata": {},
   "source": [
    "We see that this doesn't add tooo much information, but it also indicates that people don't really seem to cute much form computer science conferences"
   ]
  },
  {
   "cell_type": "markdown",
   "metadata": {},
   "source": [
    "### Other conferences\n",
    "\n",
    "And other idea is to look at non enlish words that come up often, they might be conference names!"
   ]
  },
  {
   "cell_type": "code",
   "execution_count": 56,
   "metadata": {},
   "outputs": [],
   "source": [
    "import enchant\n",
    "#check if a word is english\n",
    "d = enchant.Dict(\"en_US\")"
   ]
  },
  {
   "cell_type": "code",
   "execution_count": 57,
   "metadata": {},
   "outputs": [
    {
     "data": {
      "text/plain": [
       "False"
      ]
     },
     "execution_count": 57,
     "metadata": {},
     "output_type": "execute_result"
    }
   ],
   "source": [
    "#some issues but works well\n",
    "d.check(\"online\")"
   ]
  },
  {
   "cell_type": "code",
   "execution_count": 58,
   "metadata": {},
   "outputs": [],
   "source": [
    "potential_abv = [word[0].upper()+word[1:] for sentence in sources.map(lambda x: word_tokenize(x)).tolist() for word in sentence if not d.check(word)]"
   ]
  },
  {
   "cell_type": "code",
   "execution_count": 59,
   "metadata": {},
   "outputs": [
    {
     "data": {
      "text/plain": [
       "Acm      138\n",
       "Ieee      85\n",
       "Idc       18\n",
       "Pre       16\n",
       "Lak       14\n",
       "Asee      10\n",
       "Icer       8\n",
       "Cscw       8\n",
       "Aaai       4\n",
       "Bcs        3\n",
       "Icmi       3\n",
       "Igpme      3\n",
       "Edm        3\n",
       "Intl       3\n",
       "Aied       3\n",
       "Earli      3\n",
       "Achi       2\n",
       "Ceur       2\n",
       "Icsc       2\n",
       "Jedm       2\n",
       "dtype: int64"
      ]
     },
     "execution_count": 59,
     "metadata": {},
     "output_type": "execute_result"
    }
   ],
   "source": [
    "pd.Series([p for p in potential_abv if not d.check(p) and len(p) > 2 and len(p) < 6]).value_counts().head(20)"
   ]
  },
  {
   "cell_type": "markdown",
   "metadata": {},
   "source": [
    "### Looking at the question of creating more uniform names:\n",
    "\n",
    "We use a similarity measure:\n",
    "\n",
    "This works somewhat okay, but probably not worth the effort given that this doesn't make sigchi and  ... computer human interaction the same conference"
   ]
  },
  {
   "cell_type": "code",
   "execution_count": 60,
   "metadata": {},
   "outputs": [
    {
     "data": {
      "text/plain": [
       "0.8888888888888888"
      ]
     },
     "execution_count": 60,
     "metadata": {},
     "output_type": "execute_result"
    }
   ],
   "source": [
    "import difflib\n",
    "difflib.SequenceMatcher(None, 'hello', 'helo').ratio()"
   ]
  },
  {
   "cell_type": "code",
   "execution_count": 61,
   "metadata": {},
   "outputs": [],
   "source": [
    "d = {}"
   ]
  },
  {
   "cell_type": "code",
   "execution_count": 62,
   "metadata": {},
   "outputs": [],
   "source": [
    "for i, row in enumerate(sources.unique()):\n",
    "    for j, row_2 in enumerate(sources.unique()):\n",
    "        if i > j and row != row_2:\n",
    "            difference = difflib.SequenceMatcher(None, row, row_2).ratio()\n",
    "            if difference > 0.9:\n",
    "                if not row_2 in d.keys():\n",
    "                    d[row_2] = row"
   ]
  },
  {
   "cell_type": "code",
   "execution_count": 63,
   "metadata": {},
   "outputs": [
    {
     "data": {
      "text/plain": [
       "223"
      ]
     },
     "execution_count": 63,
     "metadata": {},
     "output_type": "execute_result"
    }
   ],
   "source": [
    "len(d)"
   ]
  },
  {
   "cell_type": "markdown",
   "metadata": {},
   "source": [
    "As everything is fairly regular, maybe rake can give us some titles? -> pretty much the same as we get anyway -> irregular titles are really just infequent"
   ]
  },
  {
   "cell_type": "code",
   "execution_count": 64,
   "metadata": {},
   "outputs": [],
   "source": [
    "import rake\n",
    "import operator"
   ]
  },
  {
   "cell_type": "code",
   "execution_count": 65,
   "metadata": {},
   "outputs": [
    {
     "data": {
      "text/plain": [
       "[('sigchi conference of human factors in computing systems',\n",
       "  54.123946851301206),\n",
       " ('acm conference of computer supported cooperative work', 44.935864777225866),\n",
       " ('acm technical symposium of computer science education', 42.35980681739533),\n",
       " ('journal of pre college engineering education research', 40.135182356284375),\n",
       " ('journal of research of technology in education', 39.16928709678454),\n",
       " ('conference of interaction design and children', 35.2335332858237),\n",
       " ('conference of learning analytics and knowledge', 34.97767513845663),\n",
       " ('journal of adolescent and adult literacy', 34.58936033874355),\n",
       " ('journal of artificial intelligence in education', 34.283014985822845),\n",
       " ('journal for research in mathematics education', 34.27898498777122),\n",
       " ('journal of research in science teaching', 34.15059196554651),\n",
       " ('journal of computers for mathematical learning', 33.97494871788647),\n",
       " ('journal of technology and design education', 33.9413210146235),\n",
       " ('journal of science education and technology', 33.894558737352746),\n",
       " ('journal of personality and social psychology', 33.71295510087559),\n",
       " ('journal of science and mathematics education', 33.660391351675436),\n",
       " ('journal of educational technology and society', 33.48782198773979),\n",
       " ('journal of technology and teacher education', 33.19209929203616),\n",
       " ('acm transactions of computing education', 28.973942381342287),\n",
       " ('conference of intelligent tutoring systems', 28.859697344548906),\n",
       " ('journal of human computer studies', 28.448668509695434),\n",
       " ('journal of learning and media', 27.974403073786288),\n",
       " ('journal of computer assisted learning', 27.15923045553776),\n",
       " ('journal of educational computing research', 27.092131401232507),\n",
       " ('ieee transactions of learning technologies', 26.550602963752397),\n",
       " ('journal of science teacher education', 26.500458896912157),\n",
       " ('british journal of educational technology', 26.002860828209666),\n",
       " ('british journal of educational psychology', 24.83748269962571),\n",
       " ('journal of learning analytics', 21.55256283259673),\n",
       " ('journal of science education', 21.520867060177462),\n",
       " ('journal of engineering education', 21.021742607394472),\n",
       " ('journal of experimental education', 20.866593555903957),\n",
       " ('ieee transactions of education', 20.84355949424249),\n",
       " ('journal of teacher education', 20.818407614860874),\n",
       " ('journal of educational research', 20.561519156334548),\n",
       " ('journal of applied psychology', 20.343186707847703),\n",
       " ('journal of mathematical behavior', 20.29416932736195),\n",
       " ('american journal of education', 20.18587460165559),\n",
       " ('journal of educational psychology', 19.944625556768568),\n",
       " ('journal of curriculum studies', 19.520450082333298),\n",
       " ('american educational research journal', 19.466717514747682),\n",
       " ('american journal of physics', 19.096675572529378)]"
      ]
     },
     "execution_count": 65,
     "metadata": {},
     "output_type": "execute_result"
    }
   ],
   "source": [
    "rake_object = rake.Rake(\"SmartStoplist.txt\", 26, 10, 10)\n",
    "keywords = rake_object.run(' . '.join(sources.tolist()))\n",
    "keywords"
   ]
  },
  {
   "cell_type": "markdown",
   "metadata": {},
   "source": [
    "## Again looking at the difference between CSCL and ICLS - outside citations:"
   ]
  },
  {
   "cell_type": "code",
   "execution_count": 66,
   "metadata": {},
   "outputs": [],
   "source": [
    "references['conference'] = sources"
   ]
  },
  {
   "cell_type": "code",
   "execution_count": 67,
   "metadata": {},
   "outputs": [],
   "source": [
    "references['cited_in'] = references.file.map(lambda x: int(re.search('[\\d]{4}',x).group(0)))"
   ]
  },
  {
   "cell_type": "code",
   "execution_count": 68,
   "metadata": {},
   "outputs": [
    {
     "data": {
      "text/html": [
       "<div>\n",
       "<style scoped>\n",
       "    .dataframe tbody tr th:only-of-type {\n",
       "        vertical-align: middle;\n",
       "    }\n",
       "\n",
       "    .dataframe tbody tr th {\n",
       "        vertical-align: top;\n",
       "    }\n",
       "\n",
       "    .dataframe thead th {\n",
       "        text-align: right;\n",
       "    }\n",
       "</style>\n",
       "<table border=\"1\" class=\"dataframe\">\n",
       "  <thead>\n",
       "    <tr style=\"text-align: right;\">\n",
       "      <th></th>\n",
       "      <th>ref</th>\n",
       "      <th>file</th>\n",
       "      <th>ref_parsed</th>\n",
       "      <th>year</th>\n",
       "      <th>identifier</th>\n",
       "      <th>conference</th>\n",
       "      <th>cited_in</th>\n",
       "    </tr>\n",
       "  </thead>\n",
       "  <tbody>\n",
       "    <tr>\n",
       "      <th>0</th>\n",
       "      <td>Lave, J., &amp; Wenger, E. (1991). Situated learni...</td>\n",
       "      <td>import2018_371</td>\n",
       "      <td>Lave, J., &amp; Wenger, E. (1991)</td>\n",
       "      <td>1991.0</td>\n",
       "      <td>Lave, J., &amp; Wenger, E. (1991). Situated learni...</td>\n",
       "      <td>NaN</td>\n",
       "      <td>2018</td>\n",
       "    </tr>\n",
       "    <tr>\n",
       "      <th>1</th>\n",
       "      <td>Miles, M. B., Huberman, A. M., &amp; Saldana, J. (...</td>\n",
       "      <td>import2018_371</td>\n",
       "      <td>Miles, M. B., Huberman, A. M., &amp; Saldana, J. (...</td>\n",
       "      <td>2013.0</td>\n",
       "      <td>Miles, M. B., Huberman, A. M., &amp; Saldana, J. (...</td>\n",
       "      <td>NaN</td>\n",
       "      <td>2018</td>\n",
       "    </tr>\n",
       "    <tr>\n",
       "      <th>2</th>\n",
       "      <td>Pea, R. D., Gomez, L. M., Edelson, D. C., Fish...</td>\n",
       "      <td>import2018_371</td>\n",
       "      <td>Pea, R. D., Gomez, L. M., Edelson, D. C., Fish...</td>\n",
       "      <td>1997.0</td>\n",
       "      <td>Pea, R. D., Gomez, L. M., Edelson, D. C., Fish...</td>\n",
       "      <td>NaN</td>\n",
       "      <td>2018</td>\n",
       "    </tr>\n",
       "    <tr>\n",
       "      <th>3</th>\n",
       "      <td>Rogoff, B. (1995). Observing sociocultural act...</td>\n",
       "      <td>import2018_371</td>\n",
       "      <td>Rogoff, B. (1995)</td>\n",
       "      <td>1995.0</td>\n",
       "      <td>Rogoff, B. (1995). Observing sociocultural act...</td>\n",
       "      <td>NaN</td>\n",
       "      <td>2018</td>\n",
       "    </tr>\n",
       "    <tr>\n",
       "      <th>4</th>\n",
       "      <td>Shirk, J., Ballard, H., Wilderman, C., Phillip...</td>\n",
       "      <td>import2018_371</td>\n",
       "      <td>Shirk, J., Ballard, H., Wilderman, C., Phillip...</td>\n",
       "      <td>2012.0</td>\n",
       "      <td>Shirk, J., Ballard, H., Wilderman, C., Phillip...</td>\n",
       "      <td>NaN</td>\n",
       "      <td>2018</td>\n",
       "    </tr>\n",
       "  </tbody>\n",
       "</table>\n",
       "</div>"
      ],
      "text/plain": [
       "                                                 ref            file  \\\n",
       "0  Lave, J., & Wenger, E. (1991). Situated learni...  import2018_371   \n",
       "1  Miles, M. B., Huberman, A. M., & Saldana, J. (...  import2018_371   \n",
       "2  Pea, R. D., Gomez, L. M., Edelson, D. C., Fish...  import2018_371   \n",
       "3  Rogoff, B. (1995). Observing sociocultural act...  import2018_371   \n",
       "4  Shirk, J., Ballard, H., Wilderman, C., Phillip...  import2018_371   \n",
       "\n",
       "                                          ref_parsed    year  \\\n",
       "0                      Lave, J., & Wenger, E. (1991)  1991.0   \n",
       "1  Miles, M. B., Huberman, A. M., & Saldana, J. (...  2013.0   \n",
       "2  Pea, R. D., Gomez, L. M., Edelson, D. C., Fish...  1997.0   \n",
       "3                                  Rogoff, B. (1995)  1995.0   \n",
       "4  Shirk, J., Ballard, H., Wilderman, C., Phillip...  2012.0   \n",
       "\n",
       "                                          identifier conference  cited_in  \n",
       "0  Lave, J., & Wenger, E. (1991). Situated learni...        NaN      2018  \n",
       "1  Miles, M. B., Huberman, A. M., & Saldana, J. (...        NaN      2018  \n",
       "2  Pea, R. D., Gomez, L. M., Edelson, D. C., Fish...        NaN      2018  \n",
       "3  Rogoff, B. (1995). Observing sociocultural act...        NaN      2018  \n",
       "4  Shirk, J., Ballard, H., Wilderman, C., Phillip...        NaN      2018  "
      ]
     },
     "execution_count": 68,
     "metadata": {},
     "output_type": "execute_result"
    }
   ],
   "source": [
    "references.head()"
   ]
  },
  {
   "cell_type": "code",
   "execution_count": 69,
   "metadata": {},
   "outputs": [
    {
     "data": {
      "text/plain": [
       "<matplotlib.axes._subplots.AxesSubplot at 0x1a1b503198>"
      ]
     },
     "execution_count": 69,
     "metadata": {},
     "output_type": "execute_result"
    },
    {
     "data": {
      "image/png": "[encoded data removed]",
      "text/plain": [
       "<Figure size 1080x360 with 2 Axes>"
      ]
     },
     "metadata": {
      "needs_background": "light"
     },
     "output_type": "display_data"
    }
   ],
   "source": [
    "plt.figure(figsize=(15, 5))\n",
    "\n",
    "plt.subplot(121)\n",
    "plt.title('Most cited in ICSL')\n",
    "references[references.cited_in % 2 == 0].conference.value_counts().head(20).plot(kind='bar')\n",
    "\n",
    "plt.subplot(122)\n",
    "plt.title('Most cited in CSCL')\n",
    "references[references.cited_in % 2 == 1].conference.value_counts().head(20).plot(kind='bar')"
   ]
  },
  {
   "cell_type": "markdown",
   "metadata": {},
   "source": [
    "Top 20 Conferences in both"
   ]
  },
  {
   "cell_type": "code",
   "execution_count": 70,
   "metadata": {},
   "outputs": [
    {
     "data": {
      "text/plain": [
       "{'american educational research journal',\n",
       " 'british journal of educational technology',\n",
       " 'ieee transactions of learning technologies',\n",
       " 'in proceedings of the sigchi conference of human factors in computing systems',\n",
       " 'international journal of artificial intelligence in education',\n",
       " 'international journal of educational research',\n",
       " 'international journal of science education',\n",
       " 'journal of computer assisted learning',\n",
       " 'journal of educational computing research',\n",
       " 'journal of educational psychology',\n",
       " 'journal of personality and social psychology',\n",
       " 'journal of research in science teaching',\n",
       " 'journal of science education and technology'}"
      ]
     },
     "execution_count": 70,
     "metadata": {},
     "output_type": "execute_result"
    }
   ],
   "source": [
    "set(references[references.cited_in % 2 == 0].conference.value_counts().head(20).index).intersection(set(references[references.cited_in % 2 == 1].conference.value_counts().head(20).index))"
   ]
  },
  {
   "cell_type": "markdown",
   "metadata": {},
   "source": [
    "Conferences in top twenty of ICLS and not CSCL"
   ]
  },
  {
   "cell_type": "code",
   "execution_count": 71,
   "metadata": {},
   "outputs": [
    {
     "data": {
      "text/plain": [
       "{'journal for research in mathematics education',\n",
       " 'journal of engineering education',\n",
       " 'journal of learning analytics',\n",
       " 'journal of research of technology in education',\n",
       " 'journal of teacher education',\n",
       " 'journal of technology and teacher education',\n",
       " 'the elementary school journal'}"
      ]
     },
     "execution_count": 71,
     "metadata": {},
     "output_type": "execute_result"
    }
   ],
   "source": [
    "set(references[references.cited_in % 2 == 0].conference.value_counts().head(20).index) - set(references[references.cited_in % 2 == 1].conference.value_counts().head(20).index)"
   ]
  },
  {
   "cell_type": "code",
   "execution_count": 72,
   "metadata": {},
   "outputs": [
    {
     "data": {
      "text/plain": [
       "{'acm transactions of computing education',\n",
       " 'australasian journal of educational technology',\n",
       " 'british educational research journal',\n",
       " 'european journal of social psychology',\n",
       " 'in proceedings of the annual acm conference of human factors in computing systems',\n",
       " 'in proceedings of the chi conference of human factors in computing systems',\n",
       " 'in proceedings of the sixth international conference of learning analytics and knowledge',\n",
       " 'international journal of designs for learning',\n",
       " 'international journal of human computer studies',\n",
       " 'international journal of technology and design education',\n",
       " 'journal of adolescent and adult literacy',\n",
       " 'journal of chemical education',\n",
       " 'journal of curriculum studies',\n",
       " 'journal of educational change',\n",
       " 'journal of experimental child psychology',\n",
       " 'journal of learning analytics',\n",
       " 'journal of mathematical behavior',\n",
       " 'journal of pre college engineering education research',\n",
       " 'journal of science teacher education',\n",
       " 'journal of writing research',\n",
       " 'the journal of experimental education',\n",
       " 'the modern language journal'}"
      ]
     },
     "execution_count": 72,
     "metadata": {},
     "output_type": "execute_result"
    }
   ],
   "source": [
    "set(references[references.cited_in % 2 == 0].conference.value_counts().head(50).index) - set(references[references.cited_in % 2 == 1].conference.value_counts().head(50).index)"
   ]
  },
  {
   "cell_type": "markdown",
   "metadata": {},
   "source": [
    "Conferences in top twenty of CSCL and not ICLS"
   ]
  },
  {
   "cell_type": "code",
   "execution_count": 73,
   "metadata": {},
   "outputs": [
    {
     "data": {
      "text/plain": [
       "{'american journal of physics',\n",
       " 'british journal of music education',\n",
       " 'in proceedings of idc',\n",
       " 'in proceedings of the acm conference of computer supported cooperative work',\n",
       " 'international journal of computers for mathematical learning',\n",
       " 'journal of applied psychology',\n",
       " 'journal of educational technology and society'}"
      ]
     },
     "execution_count": 73,
     "metadata": {},
     "output_type": "execute_result"
    }
   ],
   "source": [
    "set(references[references.cited_in % 2 == 1].conference.value_counts().head(20).index) - set(references[references.cited_in % 2 == 0].conference.value_counts().head(20).index)"
   ]
  },
  {
   "cell_type": "code",
   "execution_count": 74,
   "metadata": {},
   "outputs": [
    {
     "data": {
      "text/plain": [
       "{'american journal of sociology',\n",
       " 'british journal of music education',\n",
       " 'canadian journal of learning and technology',\n",
       " 'ieee transactions of education',\n",
       " 'ieee transactions on',\n",
       " 'in international conference of intelligent tutoring systems',\n",
       " 'in proceedings of idc',\n",
       " 'in proceedings of the acm conference of computer supported cooperative work',\n",
       " 'in proceedings of the conference of human factors in computing systems',\n",
       " 'in proceedings of the third international conference of learning analytics and knowledge',\n",
       " 'in world conference of educational multimedia',\n",
       " 'international journal of artificial intelligence and education',\n",
       " 'international journal of technology enhanced learning',\n",
       " 'journal of applied psychology',\n",
       " 'journal of artificial societies and social simulation',\n",
       " 'journal of asynchronous learning networks',\n",
       " 'journal of computer mediated communication',\n",
       " 'journal of computing sciences in colleges',\n",
       " 'journal of education and work',\n",
       " 'journal of educational data mining',\n",
       " 'journal of machine learning research',\n",
       " 'paper presented at the international conference of interactive tabletops and surfaces'}"
      ]
     },
     "execution_count": 74,
     "metadata": {},
     "output_type": "execute_result"
    }
   ],
   "source": [
    "set(references[references.cited_in % 2 == 1].conference.value_counts().head(50).index) - set(references[references.cited_in % 2 == 0].conference.value_counts().head(50).index)"
   ]
  },
  {
   "cell_type": "code",
   "execution_count": null,
   "metadata": {},
   "outputs": [],
   "source": []
  }
 ],
 "metadata": {
  "kernelspec": {
   "display_name": "Python 3",
   "language": "python",
   "name": "python3"
  },
  "language_info": {
   "codemirror_mode": {
    "name": "ipython",
    "version": 3
   },
   "file_extension": ".py",
   "mimetype": "text/x-python",
   "name": "python",
   "nbconvert_exporter": "python",
   "pygments_lexer": "ipython3",
   "version": "3.7.1"
  }
 },
 "nbformat": 4,
 "nbformat_minor": 2
}
