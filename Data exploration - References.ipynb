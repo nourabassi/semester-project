{
 "cells": [
  {
   "cell_type": "code",
   "execution_count": 1,
   "metadata": {},
   "outputs": [],
   "source": [
    "import json\n",
    "import pandas as pd\n",
    "import matplotlib.pyplot as plt \n",
    "import seaborn as sns\n",
    "import re\n",
    "import numpy as np\n",
    "import regex as reg\n",
    "\n",
    "%matplotlib inline  "
   ]
  },
  {
   "cell_type": "markdown",
   "metadata": {},
   "source": [
    "Extracting references from texts:"
   ]
  },
  {
   "cell_type": "code",
   "execution_count": null,
   "metadata": {},
   "outputs": [],
   "source": [
    "!python ./Scripts/reference_extraction.py "
   ]
  },
  {
   "cell_type": "markdown",
   "metadata": {},
   "source": [
    "Loading references as previously extracted:"
   ]
  },
  {
   "cell_type": "code",
   "execution_count": 2,
   "metadata": {},
   "outputs": [],
   "source": [
    "references = pd.read_csv('data/References.csv', index_col=0)"
   ]
  },
  {
   "cell_type": "code",
   "execution_count": 3,
   "metadata": {},
   "outputs": [
    {
     "data": {
      "text/html": [
       "<div>\n",
       "<style scoped>\n",
       "    .dataframe tbody tr th:only-of-type {\n",
       "        vertical-align: middle;\n",
       "    }\n",
       "\n",
       "    .dataframe tbody tr th {\n",
       "        vertical-align: top;\n",
       "    }\n",
       "\n",
       "    .dataframe thead th {\n",
       "        text-align: right;\n",
       "    }\n",
       "</style>\n",
       "<table border=\"1\" class=\"dataframe\">\n",
       "  <thead>\n",
       "    <tr style=\"text-align: right;\">\n",
       "      <th></th>\n",
       "      <th>ref</th>\n",
       "      <th>file</th>\n",
       "      <th>ref_parsed</th>\n",
       "      <th>year</th>\n",
       "      <th>identifier</th>\n",
       "    </tr>\n",
       "  </thead>\n",
       "  <tbody>\n",
       "    <tr>\n",
       "      <th>0</th>\n",
       "      <td>Lave, J., &amp; Wenger, E. (1991). Situated learni...</td>\n",
       "      <td>import2018_371</td>\n",
       "      <td>Lave, J., &amp; Wenger, E. (1991)</td>\n",
       "      <td>1991.0</td>\n",
       "      <td>Lave, J., &amp; Wenger, E. (1991). Situated learni...</td>\n",
       "    </tr>\n",
       "    <tr>\n",
       "      <th>1</th>\n",
       "      <td>Miles, M. B., Huberman, A. M., &amp; Saldana, J. (...</td>\n",
       "      <td>import2018_371</td>\n",
       "      <td>Miles, M. B., Huberman, A. M., &amp; Saldana, J. (...</td>\n",
       "      <td>2013.0</td>\n",
       "      <td>Miles, M. B., Huberman, A. M., &amp; Saldana, J. (...</td>\n",
       "    </tr>\n",
       "    <tr>\n",
       "      <th>2</th>\n",
       "      <td>Pea, R. D., Gomez, L. M., Edelson, D. C., Fish...</td>\n",
       "      <td>import2018_371</td>\n",
       "      <td>Pea, R. D., Gomez, L. M., Edelson, D. C., Fish...</td>\n",
       "      <td>1997.0</td>\n",
       "      <td>Pea, R. D., Gomez, L. M., Edelson, D. C., Fish...</td>\n",
       "    </tr>\n",
       "    <tr>\n",
       "      <th>3</th>\n",
       "      <td>Rogoff, B. (1995). Observing sociocultural act...</td>\n",
       "      <td>import2018_371</td>\n",
       "      <td>Rogoff, B. (1995)</td>\n",
       "      <td>1995.0</td>\n",
       "      <td>Rogoff, B. (1995). Observing sociocultural act...</td>\n",
       "    </tr>\n",
       "    <tr>\n",
       "      <th>4</th>\n",
       "      <td>Shirk, J., Ballard, H., Wilderman, C., Phillip...</td>\n",
       "      <td>import2018_371</td>\n",
       "      <td>Shirk, J., Ballard, H., Wilderman, C., Phillip...</td>\n",
       "      <td>2012.0</td>\n",
       "      <td>Shirk, J., Ballard, H., Wilderman, C., Phillip...</td>\n",
       "    </tr>\n",
       "  </tbody>\n",
       "</table>\n",
       "</div>"
      ],
      "text/plain": [
       "                                                 ref            file  \\\n",
       "0  Lave, J., & Wenger, E. (1991). Situated learni...  import2018_371   \n",
       "1  Miles, M. B., Huberman, A. M., & Saldana, J. (...  import2018_371   \n",
       "2  Pea, R. D., Gomez, L. M., Edelson, D. C., Fish...  import2018_371   \n",
       "3  Rogoff, B. (1995). Observing sociocultural act...  import2018_371   \n",
       "4  Shirk, J., Ballard, H., Wilderman, C., Phillip...  import2018_371   \n",
       "\n",
       "                                          ref_parsed    year  \\\n",
       "0                      Lave, J., & Wenger, E. (1991)  1991.0   \n",
       "1  Miles, M. B., Huberman, A. M., & Saldana, J. (...  2013.0   \n",
       "2  Pea, R. D., Gomez, L. M., Edelson, D. C., Fish...  1997.0   \n",
       "3                                  Rogoff, B. (1995)  1995.0   \n",
       "4  Shirk, J., Ballard, H., Wilderman, C., Phillip...  2012.0   \n",
       "\n",
       "                                          identifier  \n",
       "0  Lave, J., & Wenger, E. (1991). Situated learni...  \n",
       "1  Miles, M. B., Huberman, A. M., & Saldana, J. (...  \n",
       "2  Pea, R. D., Gomez, L. M., Edelson, D. C., Fish...  \n",
       "3  Rogoff, B. (1995). Observing sociocultural act...  \n",
       "4  Shirk, J., Ballard, H., Wilderman, C., Phillip...  "
      ]
     },
     "execution_count": 3,
     "metadata": {},
     "output_type": "execute_result"
    }
   ],
   "source": [
    "references.head()"
   ]
  },
  {
   "cell_type": "markdown",
   "metadata": {},
   "source": [
    "Some sample references, and their corresponding identifier:"
   ]
  },
  {
   "cell_type": "code",
   "execution_count": null,
   "metadata": {},
   "outputs": [],
   "source": [
    "sample = references[['ref', 'identifier']].sample(4)\n",
    "[print(\"ref: \",r, '\\nidentifier: ', s,) for r, s in zip(sample.ref.tolist(), sample.identifier.tolist())]"
   ]
  },
  {
   "cell_type": "markdown",
   "metadata": {},
   "source": [
    "### First we check the most cited citations:"
   ]
  },
  {
   "cell_type": "code",
   "execution_count": null,
   "metadata": {
    "scrolled": false
   },
   "outputs": [],
   "source": [
    "plt.title('Most cited references')\n",
    "references.identifier.value_counts().head(20).plot(kind='bar')\n",
    "references.identifier.value_counts().head(10)"
   ]
  },
  {
   "cell_type": "markdown",
   "metadata": {},
   "source": [
    "### We look at how the references are distributed over the years:"
   ]
  },
  {
   "cell_type": "code",
   "execution_count": null,
   "metadata": {},
   "outputs": [],
   "source": [
    "references.year.plot(kind='box')"
   ]
  },
  {
   "cell_type": "markdown",
   "metadata": {},
   "source": [
    "### Looking at authors in dataset & the ones they reference"
   ]
  },
  {
   "cell_type": "markdown",
   "metadata": {},
   "source": [
    "Load the metadata:"
   ]
  },
  {
   "cell_type": "code",
   "execution_count": null,
   "metadata": {},
   "outputs": [],
   "source": [
    "metadata = pd.read_csv('data/Parsed_metadata.csv', index_col=0)"
   ]
  },
  {
   "cell_type": "code",
   "execution_count": null,
   "metadata": {},
   "outputs": [],
   "source": [
    "reference_authors = pd.read_csv('data/Reference_authors.csv', index_col=0)\n",
    "reference_authors.shape"
   ]
  },
  {
   "cell_type": "code",
   "execution_count": null,
   "metadata": {},
   "outputs": [],
   "source": [
    "reference_authors.drop_duplicates(inplace=True)\n",
    "reference_authors.shape"
   ]
  },
  {
   "cell_type": "code",
   "execution_count": null,
   "metadata": {},
   "outputs": [],
   "source": [
    "reference_authors.head()"
   ]
  },
  {
   "cell_type": "markdown",
   "metadata": {},
   "source": [
    "We check the most cited author:"
   ]
  },
  {
   "cell_type": "code",
   "execution_count": null,
   "metadata": {},
   "outputs": [],
   "source": [
    "plt.title('Most cited authors')\n",
    "reference_authors.author.value_counts().head(15).plot(kind='bar')"
   ]
  },
  {
   "cell_type": "code",
   "execution_count": null,
   "metadata": {},
   "outputs": [],
   "source": [
    "plt.title('Most cited for reference after 2010')\n",
    "reference_authors[reference_authors.year > 2010].author.value_counts().head(15).plot(kind='bar')"
   ]
  },
  {
   "cell_type": "markdown",
   "metadata": {},
   "source": [
    "We now merge on the shortened name as it can be found in the citation.\n",
    "\n",
    "**Note** that we might get illegitemate merges, as the short name is not unique, even within the metadata dataset!"
   ]
  },
  {
   "cell_type": "code",
   "execution_count": null,
   "metadata": {},
   "outputs": [],
   "source": [
    "reference_edges = pd.merge(metadata, reference_authors, on='file')\n",
    "\n",
    "reference_edges.sample(2)"
   ]
  },
  {
   "cell_type": "code",
   "execution_count": null,
   "metadata": {},
   "outputs": [],
   "source": [
    "reference_edges.rename(columns={'shortend_names': 'author', 'author': 'cited'}, inplace=True)"
   ]
  },
  {
   "cell_type": "markdown",
   "metadata": {},
   "source": [
    "#### Self citations:"
   ]
  },
  {
   "cell_type": "code",
   "execution_count": null,
   "metadata": {},
   "outputs": [],
   "source": [
    "reference_edges[reference_edges.author == reference_edges.cited].author.value_counts().head()"
   ]
  },
  {
   "cell_type": "markdown",
   "metadata": {},
   "source": [
    "### Number of authors in and out of conference"
   ]
  },
  {
   "cell_type": "markdown",
   "metadata": {},
   "source": [
    "In and out of conference citations, quick calculation:"
   ]
  },
  {
   "cell_type": "code",
   "execution_count": null,
   "metadata": {
    "scrolled": true
   },
   "outputs": [],
   "source": [
    "print('Number of distinct authors ', len(reference_edges.author.unique()))\n",
    "print('Number of distinct cited authors by some author in the conference ', len(reference_edges.cited.unique()))\n",
    "print('Number of authors that where cited by an other author in the confernce :' , len(set(reference_edges.cited.tolist()).intersection(set(reference_edges.author.tolist()))))"
   ]
  },
  {
   "cell_type": "code",
   "execution_count": null,
   "metadata": {},
   "outputs": [],
   "source": [
    "reference_edges = reference_edges[['cited', 'author', 'year', 'ref']][reference_edges.year.notna()]"
   ]
  },
  {
   "cell_type": "code",
   "execution_count": null,
   "metadata": {},
   "outputs": [],
   "source": [
    "match_conference = ' JLS |Journal of the Learning Sciences|CSCL|ICLS|ijCSCL|Computer Supported Collaborative Learning'\n",
    "re.search(match_conference,'bjfejf ICLS')"
   ]
  },
  {
   "cell_type": "code",
   "execution_count": null,
   "metadata": {},
   "outputs": [],
   "source": [
    "mask_c_s = reference_edges.ref.map(lambda x: True if re.search(match_conference, x) else False)"
   ]
  },
  {
   "cell_type": "code",
   "execution_count": null,
   "metadata": {},
   "outputs": [],
   "source": [
    "in_conference = set(reference_edges[mask_c_s].cited.unique())"
   ]
  },
  {
   "cell_type": "markdown",
   "metadata": {},
   "source": [
    "We limit the range of years to get people that are still \"active\""
   ]
  },
  {
   "cell_type": "code",
   "execution_count": null,
   "metadata": {},
   "outputs": [],
   "source": [
    "not_in_conference = list(set(reference_edges[reference_edges.year > 2010].cited) - in_conference.union(set(reference_edges.author)))"
   ]
  },
  {
   "cell_type": "code",
   "execution_count": null,
   "metadata": {},
   "outputs": [],
   "source": [
    "#todo: filter out organisations\n",
    "# todo: deal with non overlapping names\n",
    "plt.title('Most cited authors that have not participated in conference')\n",
    "plt.ylabel('number of times cited')\n",
    "reference_edges[reference_edges.cited.isin(not_in_conference)].cited.value_counts().head(20).plot(kind = 'bar')"
   ]
  },
  {
   "cell_type": "code",
   "execution_count": null,
   "metadata": {},
   "outputs": [],
   "source": [
    "reference_edges[(reference_edges.cited.isin(not_in_conference)) & (reference_edges.cited == 'Goodwin C.')].ref.sample(4).tolist()"
   ]
  },
  {
   "cell_type": "code",
   "execution_count": null,
   "metadata": {},
   "outputs": [],
   "source": [
    "reference_edges[(reference_edges.cited.isin(not_in_conference)) & (reference_edges.cited == 'Gee J. P.')].ref.sample(4).tolist()"
   ]
  },
  {
   "cell_type": "markdown",
   "metadata": {},
   "source": [
    "# extract conference, journal etc:"
   ]
  },
  {
   "cell_type": "code",
   "execution_count": 4,
   "metadata": {},
   "outputs": [
    {
     "data": {
      "text/plain": [
       "['Moolenaar, N. M., Sleegers, P. J., & Daly, A. J. (2012)',\n",
       " 'Teaming up: Linking collaboration networks, collective efficacy, and student achievement',\n",
       " 'Teaching and Teacher Education, 28(2), 251–262.']"
      ]
     },
     "execution_count": 4,
     "metadata": {},
     "output_type": "execute_result"
    }
   ],
   "source": [
    "text = references.sample().ref.item()\n",
    "reg.split(r'\\. (?=[\\p{Lu}][\\p{L}])', text)"
   ]
  },
  {
   "cell_type": "code",
   "execution_count": 5,
   "metadata": {},
   "outputs": [],
   "source": [
    "#regex to find journals or conferences\n",
    "re.search('(P|p)roceedings|(j|J)ournal', text)"
   ]
  },
  {
   "cell_type": "code",
   "execution_count": 6,
   "metadata": {},
   "outputs": [
    {
     "data": {
      "text/plain": [
       "' jls |journal of the learning sciences|cscl|icls|ijcscl|computer supported collaborative learning'"
      ]
     },
     "execution_count": 6,
     "metadata": {},
     "output_type": "execute_result"
    }
   ],
   "source": [
    "match_conference = ' JLS |Journal of the Learning Sciences|CSCL|ICLS|ijCSCL|Computer Supported Collaborative Learning'\n",
    "match_conference.lower()"
   ]
  },
  {
   "cell_type": "code",
   "execution_count": 181,
   "metadata": {},
   "outputs": [],
   "source": [
    "def clean_string(x):\n",
    "    x = x.lower()\n",
    "    x = re.sub('[\\'\\\"\\”\\/\\–]*', '', x)\n",
    "    x = re.sub(' & ', ' and ', x)\n",
    "    #x = re.sub(' th | nd | rd | st | volume |\\-|\\—|  ', ' ', x)\n",
    "    x = re.sub(' on ', ' of ', x)\n",
    "    x = x.strip()\n",
    "    return x\n",
    "\n",
    "mask = references.ref.map(lambda x: True if \n",
    "                          (re.search('(C|c)onference|(P|p)roceedings|(j|J)ournal|(T|t)ransactions', x) and not\n",
    "                          re.search(match_conference.lower(), clean_string(x))) else False)"
   ]
  },
  {
   "cell_type": "code",
   "execution_count": 182,
   "metadata": {},
   "outputs": [],
   "source": [
    "sources = references[mask].ref.map(lambda x: \n",
    "                            [y for y in reg.split(r'\\. (?=[\\p{Lu}][\\p{L}])', x) \n",
    "                             if re.search('(C|c)onference|(P|p)roceedings|(j|J)ournal|(T|t)ransactions', y)\n",
    "                            ][0])"
   ]
  },
  {
   "cell_type": "code",
   "execution_count": 183,
   "metadata": {},
   "outputs": [
    {
     "data": {
      "text/plain": [
       "(3446,)"
      ]
     },
     "execution_count": 183,
     "metadata": {},
     "output_type": "execute_result"
    }
   ],
   "source": [
    "sources.shape"
   ]
  },
  {
   "cell_type": "code",
   "execution_count": 184,
   "metadata": {},
   "outputs": [
    {
     "data": {
      "text/plain": [
       "'In The first international conference on Computer support for collaborative learning (pp. 67-74). L'"
      ]
     },
     "execution_count": 184,
     "metadata": {},
     "output_type": "execute_result"
    }
   ],
   "source": [
    "sources[14589]"
   ]
  },
  {
   "cell_type": "code",
   "execution_count": 185,
   "metadata": {},
   "outputs": [],
   "source": [
    "sources = sources.map(lambda x: clean_string(x))"
   ]
  },
  {
   "cell_type": "code",
   "execution_count": 186,
   "metadata": {
    "scrolled": false
   },
   "outputs": [],
   "source": [
    "sources = sources.map(lambda x: [y.strip() for y in reg.split(r'\\.|\\,|\\?|\\;|\\(|\\)', x) \n",
    "                                 if re.search('conference|proceedings|journal|transactions', y)][0])\n"
   ]
  },
  {
   "cell_type": "markdown",
   "metadata": {},
   "source": [
    "People like to misspell CSCL spell it in various forms.."
   ]
  },
  {
   "cell_type": "code",
   "execution_count": 187,
   "metadata": {},
   "outputs": [
    {
     "data": {
      "text/plain": [
       "<matplotlib.axes._subplots.AxesSubplot at 0x1a28ef9470>"
      ]
     },
     "execution_count": 187,
     "metadata": {},
     "output_type": "execute_result"
    },
    {
     "data": {
      "image/png": "[encoded data removed]",
      "text/plain": [
       "<Figure size 432x288 with 1 Axes>"
      ]
     },
     "metadata": {
      "needs_background": "light"
     },
     "output_type": "display_data"
    }
   ],
   "source": [
    "sources.value_counts().head(20).plot(kind='bar')"
   ]
  },
  {
   "cell_type": "code",
   "execution_count": 188,
   "metadata": {},
   "outputs": [
    {
     "data": {
      "text/plain": [
       "(1265,)"
      ]
     },
     "execution_count": 188,
     "metadata": {},
     "output_type": "execute_result"
    }
   ],
   "source": [
    "sources.value_counts().shape"
   ]
  },
  {
   "cell_type": "markdown",
   "metadata": {},
   "source": [
    "## Try to make individual conference stop list:"
   ]
  },
  {
   "cell_type": "code",
   "execution_count": 189,
   "metadata": {},
   "outputs": [],
   "source": [
    "import nltk\n",
    "from nltk import word_tokenize"
   ]
  },
  {
   "cell_type": "code",
   "execution_count": 190,
   "metadata": {},
   "outputs": [
    {
     "data": {
      "text/plain": [
       "[('second', 'ADJ')]"
      ]
     },
     "execution_count": 190,
     "metadata": {},
     "output_type": "execute_result"
    }
   ],
   "source": [
    "nltk.pos_tag(['second'], tagset='universal')"
   ]
  },
  {
   "cell_type": "code",
   "execution_count": 191,
   "metadata": {},
   "outputs": [],
   "source": [
    "from collections import Counter"
   ]
  },
  {
   "cell_type": "code",
   "execution_count": 192,
   "metadata": {},
   "outputs": [],
   "source": [
    "all_words = []\n",
    "all_tags = []\n",
    "\n",
    "for sentence in sources:\n",
    "    s = word_tokenize(sentence)\n",
    "    all_words += s\n",
    "    all_tags += [ y for x,y in nltk.pos_tag(s)]"
   ]
  },
  {
   "cell_type": "code",
   "execution_count": 193,
   "metadata": {},
   "outputs": [],
   "source": [
    "dict_all_words = dict((x,all_words.count(x)) for x in set(all_words))"
   ]
  },
  {
   "cell_type": "code",
   "execution_count": 194,
   "metadata": {},
   "outputs": [],
   "source": [
    "word_df = pd.DataFrame([all_words,all_tags]).T\n",
    "word_df.columns = ['word', 'tag']"
   ]
  },
  {
   "cell_type": "code",
   "execution_count": 195,
   "metadata": {},
   "outputs": [
    {
     "data": {
      "text/plain": [
       "NN      8853\n",
       "IN      5035\n",
       "JJ      3820\n",
       "NNS     1868\n",
       "DT      1064\n",
       "CC       659\n",
       "CD       594\n",
       "VBG      413\n",
       ":        186\n",
       "VBN      182\n",
       "VBD       66\n",
       "VBZ       24\n",
       "VBP       22\n",
       "FW        20\n",
       "$         17\n",
       "NNP       17\n",
       "VB        14\n",
       "JJR       14\n",
       "TO        10\n",
       "RB         5\n",
       "SYM        4\n",
       "PRP        4\n",
       "PRP$       4\n",
       "MD         1\n",
       "WDT        1\n",
       ".          1\n",
       "Name: tag, dtype: int64"
      ]
     },
     "execution_count": 195,
     "metadata": {},
     "output_type": "execute_result"
    }
   ],
   "source": [
    "word_df.tag.value_counts()"
   ]
  },
  {
   "cell_type": "code",
   "execution_count": 207,
   "metadata": {},
   "outputs": [
    {
     "data": {
      "text/plain": [
       "higher     13\n",
       "teacher     1\n",
       "Name: word, dtype: int64"
      ]
     },
     "execution_count": 207,
     "metadata": {},
     "output_type": "execute_result"
    }
   ],
   "source": [
    "word_df[word_df.tag == 'JJR'].word.value_counts()"
   ]
  },
  {
   "cell_type": "code",
   "execution_count": 180,
   "metadata": {},
   "outputs": [
    {
     "name": "stdout",
     "output_type": "stream",
     "text": [
      "$: dollar\n",
      "    $ -$ --$ A$ C$ HK$ M$ NZ$ S$ U.S.$ US$\n",
      "'': closing quotation mark\n",
      "    ' ''\n",
      "(: opening parenthesis\n",
      "    ( [ {\n",
      "): closing parenthesis\n",
      "    ) ] }\n",
      ",: comma\n",
      "    ,\n",
      "--: dash\n",
      "    --\n",
      ".: sentence terminator\n",
      "    . ! ?\n",
      ":: colon or ellipsis\n",
      "    : ; ...\n",
      "CC: conjunction, coordinating\n",
      "    & 'n and both but either et for less minus neither nor or plus so\n",
      "    therefore times v. versus vs. whether yet\n",
      "CD: numeral, cardinal\n",
      "    mid-1890 nine-thirty forty-two one-tenth ten million 0.5 one forty-\n",
      "    seven 1987 twenty '79 zero two 78-degrees eighty-four IX '60s .025\n",
      "    fifteen 271,124 dozen quintillion DM2,000 ...\n",
      "DT: determiner\n",
      "    all an another any both del each either every half la many much nary\n",
      "    neither no some such that the them these this those\n",
      "EX: existential there\n",
      "    there\n",
      "FW: foreign word\n",
      "    gemeinschaft hund ich jeux habeas Haementeria Herr K'ang-si vous\n",
      "    lutihaw alai je jour objets salutaris fille quibusdam pas trop Monte\n",
      "    terram fiche oui corporis ...\n",
      "IN: preposition or conjunction, subordinating\n",
      "    astride among uppon whether out inside pro despite on by throughout\n",
      "    below within for towards near behind atop around if like until below\n",
      "    next into if beside ...\n",
      "JJ: adjective or numeral, ordinal\n",
      "    third ill-mannered pre-war regrettable oiled calamitous first separable\n",
      "    ectoplasmic battery-powered participatory fourth still-to-be-named\n",
      "    multilingual multi-disciplinary ...\n",
      "JJR: adjective, comparative\n",
      "    bleaker braver breezier briefer brighter brisker broader bumper busier\n",
      "    calmer cheaper choosier cleaner clearer closer colder commoner costlier\n",
      "    cozier creamier crunchier cuter ...\n",
      "JJS: adjective, superlative\n",
      "    calmest cheapest choicest classiest cleanest clearest closest commonest\n",
      "    corniest costliest crassest creepiest crudest cutest darkest deadliest\n",
      "    dearest deepest densest dinkiest ...\n",
      "LS: list item marker\n",
      "    A A. B B. C C. D E F First G H I J K One SP-44001 SP-44002 SP-44005\n",
      "    SP-44007 Second Third Three Two * a b c d first five four one six three\n",
      "    two\n",
      "MD: modal auxiliary\n",
      "    can cannot could couldn't dare may might must need ought shall should\n",
      "    shouldn't will would\n",
      "NN: noun, common, singular or mass\n",
      "    common-carrier cabbage knuckle-duster Casino afghan shed thermostat\n",
      "    investment slide humour falloff slick wind hyena override subhumanity\n",
      "    machinist ...\n",
      "NNP: noun, proper, singular\n",
      "    Motown Venneboerger Czestochwa Ranzer Conchita Trumplane Christos\n",
      "    Oceanside Escobar Kreisler Sawyer Cougar Yvette Ervin ODI Darryl CTCA\n",
      "    Shannon A.K.C. Meltex Liverpool ...\n",
      "NNPS: noun, proper, plural\n",
      "    Americans Americas Amharas Amityvilles Amusements Anarcho-Syndicalists\n",
      "    Andalusians Andes Andruses Angels Animals Anthony Antilles Antiques\n",
      "    Apache Apaches Apocrypha ...\n",
      "NNS: noun, common, plural\n",
      "    undergraduates scotches bric-a-brac products bodyguards facets coasts\n",
      "    divestitures storehouses designs clubs fragrances averages\n",
      "    subjectivists apprehensions muses factory-jobs ...\n",
      "PDT: pre-determiner\n",
      "    all both half many quite such sure this\n",
      "POS: genitive marker\n",
      "    ' 's\n",
      "PRP: pronoun, personal\n",
      "    hers herself him himself hisself it itself me myself one oneself ours\n",
      "    ourselves ownself self she thee theirs them themselves they thou thy us\n",
      "PRP$: pronoun, possessive\n",
      "    her his mine my our ours their thy your\n",
      "RB: adverb\n",
      "    occasionally unabatingly maddeningly adventurously professedly\n",
      "    stirringly prominently technologically magisterially predominately\n",
      "    swiftly fiscally pitilessly ...\n",
      "RBR: adverb, comparative\n",
      "    further gloomier grander graver greater grimmer harder harsher\n",
      "    healthier heavier higher however larger later leaner lengthier less-\n",
      "    perfectly lesser lonelier longer louder lower more ...\n",
      "RBS: adverb, superlative\n",
      "    best biggest bluntest earliest farthest first furthest hardest\n",
      "    heartiest highest largest least less most nearest second tightest worst\n",
      "RP: particle\n",
      "    aboard about across along apart around aside at away back before behind\n",
      "    by crop down ever fast for forth from go high i.e. in into just later\n",
      "    low more off on open out over per pie raising start teeth that through\n",
      "    under unto up up-pp upon whole with you\n",
      "SYM: symbol\n",
      "    % & ' '' ''. ) ). * + ,. < = > @ A[fj] U.S U.S.S.R * ** ***\n",
      "TO: \"to\" as preposition or infinitive marker\n",
      "    to\n",
      "UH: interjection\n",
      "    Goodbye Goody Gosh Wow Jeepers Jee-sus Hubba Hey Kee-reist Oops amen\n",
      "    huh howdy uh dammit whammo shucks heck anyways whodunnit honey golly\n",
      "    man baby diddle hush sonuvabitch ...\n",
      "VB: verb, base form\n",
      "    ask assemble assess assign assume atone attention avoid bake balkanize\n",
      "    bank begin behold believe bend benefit bevel beware bless boil bomb\n",
      "    boost brace break bring broil brush build ...\n",
      "VBD: verb, past tense\n",
      "    dipped pleaded swiped regummed soaked tidied convened halted registered\n",
      "    cushioned exacted snubbed strode aimed adopted belied figgered\n",
      "    speculated wore appreciated contemplated ...\n",
      "VBG: verb, present participle or gerund\n",
      "    telegraphing stirring focusing angering judging stalling lactating\n",
      "    hankerin' alleging veering capping approaching traveling besieging\n",
      "    encrypting interrupting erasing wincing ...\n",
      "VBN: verb, past participle\n",
      "    multihulled dilapidated aerosolized chaired languished panelized used\n",
      "    experimented flourished imitated reunifed factored condensed sheared\n",
      "    unsettled primed dubbed desired ...\n",
      "VBP: verb, present tense, not 3rd person singular\n",
      "    predominate wrap resort sue twist spill cure lengthen brush terminate\n",
      "    appear tend stray glisten obtain comprise detest tease attract\n",
      "    emphasize mold postpone sever return wag ...\n",
      "VBZ: verb, present tense, 3rd person singular\n",
      "    bases reconstructs marks mixes displeases seals carps weaves snatches\n",
      "    slumps stretches authorizes smolders pictures emerges stockpiles\n",
      "    seduces fizzes uses bolsters slaps speaks pleads ...\n",
      "WDT: WH-determiner\n",
      "    that what whatever which whichever\n",
      "WP: WH-pronoun\n",
      "    that what whatever whatsoever which who whom whosoever\n",
      "WP$: WH-pronoun, possessive\n",
      "    whose\n",
      "WRB: Wh-adverb\n",
      "    how however whence whenever where whereby whereever wherein whereof why\n",
      "``: opening quotation mark\n",
      "    ` ``\n"
     ]
    }
   ],
   "source": [
    "nltk.help.upenn_tagset()"
   ]
  },
  {
   "cell_type": "code",
   "execution_count": 112,
   "metadata": {},
   "outputs": [
    {
     "data": {
      "text/plain": [
       "1.0"
      ]
     },
     "execution_count": 112,
     "metadata": {},
     "output_type": "execute_result"
    }
   ],
   "source": [
    "import difflib\n",
    "difflib.SequenceMatcher(None, 'hello', 'hello').ratio()"
   ]
  },
  {
   "cell_type": "code",
   "execution_count": 99,
   "metadata": {},
   "outputs": [],
   "source": [
    "d = {}"
   ]
  },
  {
   "cell_type": "code",
   "execution_count": 100,
   "metadata": {},
   "outputs": [],
   "source": [
    "for i, row in enumerate(sources.unique()):\n",
    "    for j, row_2 in enumerate(sources.unique()):\n",
    "        if i > j and row != row_2:\n",
    "            difference = difflib.SequenceMatcher(None, row, row_2).ratio()\n",
    "            if difference > 0.9:\n",
    "                if row in d.keys():\n",
    "                    d[row].append(row_2)\n",
    "                else:\n",
    "                    d[row] = [row_2]"
   ]
  },
  {
   "cell_type": "code",
   "execution_count": 101,
   "metadata": {},
   "outputs": [
    {
     "data": {
      "text/plain": [
       "232"
      ]
     },
     "execution_count": 101,
     "metadata": {},
     "output_type": "execute_result"
    }
   ],
   "source": [
    "len(d)"
   ]
  },
  {
   "cell_type": "code",
   "execution_count": 102,
   "metadata": {},
   "outputs": [
    {
     "data": {
      "text/plain": [
       "{'acm conference of computer supported cooperative work': ['of acm conference of computer supported cooperative work'],\n",
       " 'acm transactions of computer human interactions': ['acm transactions of computer human interaction',\n",
       "  'transactions of computer human interaction'],\n",
       " 'acm transactions of human–computer interaction': ['acm transactions of human– computer interaction',\n",
       "  'ais transactions of human computer interaction'],\n",
       " 'ais transactions of human computer interaction': ['acm transactions of human– computer interaction'],\n",
       " 'american education research journal': ['american educational research journal'],\n",
       " 'american journal education': ['american journal of education'],\n",
       " 'american journal of evaluation': ['american journal of education'],\n",
       " 'american journal of psychology': ['american journal of sociology',\n",
       "  'interamerican journal of psychology'],\n",
       " 'australasian journal educational technology': ['australasian journal of educational technology'],\n",
       " 'australian journal of teacher education': ['australasian journal of teacher education'],\n",
       " 'british education research journal': ['british educational research journal'],\n",
       " 'british journal of educational psychology': ['british journal of educational technology'],\n",
       " 'canadian journal of learning and technologyla revue canadienne de l’apprentissage et de la technologie': ['canadian journal of learning and technologyla revue canadienne de l’apprentissage et de la technologie [online]'],\n",
       " 'canadian journal of learning technology': ['canadian journal of learning and technology'],\n",
       " 'computer supported collaborative work: journal of collaborative computing': ['computer supported cooperative work: journal of collaborative computing'],\n",
       " 'euroopean conference of technology enhanced learning': ['in european conference of technology enhanced learning'],\n",
       " 'european conference of technology enhanced learning': ['in european conference of technology enhanced learning',\n",
       "  'euroopean conference of technology enhanced learning'],\n",
       " 'european journal psychology education': ['european journal of psychology of education'],\n",
       " 'icer ’ proceedings of eighth international workshop of computing education research': ['icer ’ proceedings of fourth international workshop of computing education research'],\n",
       " 'ieee international conference of': ['international conference of'],\n",
       " 'ieee transactions': ['ieee transactions on'],\n",
       " 'in adjunct proceedings of annual acm symposium of user interface software and technology': ['in proceedings of annual acm symposium of user interface software and technology'],\n",
       " 'in annual conference of psychology of programming interest': ['in annual conference of psychology of programming interest group'],\n",
       " 'in csedu   international conference of computer supported education': ['in international conference of computer supported education',\n",
       "  'in proceedings of international conference of computer supported education'],\n",
       " 'in european conference of technology enhanced learning': ['proceedings european conference of technology enhanced learning'],\n",
       " 'in fourth annual international conference of learning sciences': ['fourth international conference of learning sciences',\n",
       "  'in fourth international conference of learning sciences'],\n",
       " 'in fourth international conference of learning sciences': ['proceedings of fourth international conference of learning sciences',\n",
       "  'fourth international conference of learning sciences',\n",
       "  'of international conference of learning sciences'],\n",
       " 'in frontiers in education conference': ['in ieee frontiers in education conference'],\n",
       " 'in international conference of intelligent tutoring systems': ['proceedings for international conference of intelligent tutoring systems',\n",
       "  'proceedings of international conference of intelligent tutoring systems'],\n",
       " 'in international conference of intelligent virtual agents': ['international conference intelligent virtual agents'],\n",
       " 'in international conference of learning sciences': ['fourth international conference of learning sciences',\n",
       "  'of international conference of learning sciences',\n",
       "  'international conference of learning sciences',\n",
       "  'in fourth international conference of learning sciences',\n",
       "  'proc of international conference of learning sciences'],\n",
       " 'in international learning analytics and knowledge conference': ['presented at international learning analytics and knowledge conference'],\n",
       " 'in international perspectives in learning sciences: future of learning: proceedings of international conference of learning sciences': ['in international perspectives in learning sciences: proceedings of international conference of learning sciences'],\n",
       " 'in journal of computer assisted learning': ['journal of computer assisted learning'],\n",
       " 'in learning and becoming in practice: international conference of learning sciences': ['learning and becoming in practice: international conference of learning sciences'],\n",
       " 'in proceedings from international conference of learning sciences': ['in proceedings international conference of learning sciences',\n",
       "  'in proceedings of international conference of learning sciences',\n",
       "  'proceedings of fourth international conference of learning sciences',\n",
       "  'proceedings of tenth international conference of learning sciences',\n",
       "  'proceedings of international conference of learning sciences',\n",
       "  'in proceedings of th international conference of learning sciences'],\n",
       " 'in proceedings of achi': ['in proceedings of chi ’',\n",
       "  'in proceedings of chi'],\n",
       " 'in proceedings of acm conference of innovation and technology in computer science education': ['in proceedings of conference of innovation and technology in computer science education'],\n",
       " 'in proceedings of acm conference of international computing education research': ['in proceedings of tenth annual conference of international computing education research'],\n",
       " 'in proceedings of acm technical symposium computer science education': ['in proceedings of acm technical symposium of computer science education',\n",
       "  'in proceedings of acm technical symposium of computing science education'],\n",
       " 'in proceedings of acm technical symposium of computing science education': ['in proceedings of acm technical symposium of computer science education'],\n",
       " 'in proceedings of ai in education': ['proceedings of ai in education'],\n",
       " 'in proceedings of american society for engineering education annual conference and exposition': ['in proceedings of american society of engineering education annual conference and exposition',\n",
       "  'in proceedings of american society for engineering education annual conference'],\n",
       " 'in proceedings of american society for engineering education national conference': ['in proceedings of american society for engineering education annual conference'],\n",
       " 'in proceedings of annual acm conference of human factors in computing systems': ['in proceedings of chi conference of human factors in computing systems',\n",
       "  'in proceedings of conference of human factors in computing systems',\n",
       "  'in proceedings of sigchi conference of human factors in computing systems'],\n",
       " 'in proceedings of annual conference of cognitive science society': ['proceedings for annual conference of cognitive science society'],\n",
       " 'in proceedings of annual meeting of american educational research association': ['proceedings of annual meeting of american educational research association'],\n",
       " 'in proceedings of asee annual conference and exposition': ['in proceedings of asee conference and exposition'],\n",
       " 'in proceedings of chi': ['in proceedings of third',\n",
       "  'in proceedings of idc',\n",
       "  'in proceedings of its',\n",
       "  'in proceedings of hicss',\n",
       "  'in proceedings of chi ’'],\n",
       " 'in proceedings of conference of computer support for collaborative learning': ['proceedings of conference of computer support for collaborative learning',\n",
       "  'in proceedings of international conference of computer support for collaborative learning'],\n",
       " 'in proceedings of conference of computer supported cooperative work': ['in proceedings of acm conference of computer supported cooperative work'],\n",
       " 'in proceedings of conference of human factors in computing systems': ['in proceedings of chi conference of human factors in computing systems'],\n",
       " 'in proceedings of conference of interaction design and children   idc ’': ['in proceedings of conference of interaction design and children'],\n",
       " 'in proceedings of conference of learning analytics and knowledge': ['in proceedings of international conference of learning analytics and knowledge'],\n",
       " 'in proceedings of cscw': ['in proceedings of ecscw'],\n",
       " 'in proceedings of cscw ’ conference of computer supported cooperative work': ['in proceedings of acm conference of computer supported cooperative work',\n",
       "  'in proceedings of conference of computer supported cooperative work'],\n",
       " 'in proceedings of eiah': ['in proceedings of tei’'],\n",
       " 'in proceedings of eleventh annual international conference of international computing education research': ['in proceedings of ninth annual international acm conference of international computing education research',\n",
       "  'in proceedings of tenth annual conference of international computing education research',\n",
       "  'proceedings of eleventh annual international conference of international computing education research',\n",
       "  'of eleventh annual international conference of international computing education research',\n",
       "  'in proceedings of eleventh annual international conference of international computing education research   icer ’'],\n",
       " 'in proceedings of eleventh annual international conference of international computing education research   icer ’': ['in proceedings of ninth annual international acm conference of international computing education research',\n",
       "  'proceedings of eleventh annual international conference of international computing education research'],\n",
       " 'in proceedings of eleventh international conference of tangible': ['in proceedings of international conference of tangible'],\n",
       " 'in proceedings of european conference of technology enhanced learning': ['proceedings european conference of technology enhanced learning',\n",
       "  'proceedings of european conference of technology enhanced learning'],\n",
       " 'in proceedings of fifteenth annual conference of cognitive science society': ['in proceedings of annual conference of cognitive science society',\n",
       "  'proceedings of twenty fifth annual conference of cognitive science society',\n",
       "  'proceedings of annual conference of cognitive science society'],\n",
       " 'in proceedings of first acm conference of learning @ scale conference': ['in proceedings of first acm conference of learning@ scale conference'],\n",
       " 'in proceedings of fourth international conference of learning analytics and knowledge': ['in proceedings of sixth international conference of learning analytics and knowledge',\n",
       "  'in proceedings of international conference of learning analytics and knowledge'],\n",
       " 'in proceedings of fourth international conference of learning analytics and knowledge lak’': ['in proceedings of sixth international conference of learning analytics and knowledge',\n",
       "  'in proceedings of international conference of learning analytics and knowledge',\n",
       "  'in proceedings of fourth international conference of learning analytics and knowledge',\n",
       "  'in proceedings of third international conference of learning analytics and knowledge',\n",
       "  'in proceedings of sixth international conference of learning analytics and knowledge   lak ’',\n",
       "  'in: proceedings of sixth international conference of learning analytics and knowledge   lak ’'],\n",
       " 'in proceedings of fourth international workshop of computing education research': ['icer ’ proceedings of fourth international workshop of computing education research',\n",
       "  'icer ’ proceedings of eighth international workshop of computing education research'],\n",
       " 'in proceedings of fourth intl conference of learning analytics and knowledge': ['in proceedings of conference of learning analytics and knowledge',\n",
       "  'in proceedings of fourth international conference of learning analytics and knowledge',\n",
       "  'in proceedings of fourth international conference of learning analytics and knowledge lak’',\n",
       "  'proceedings of fourth international conference of learning analytics and knowledge'],\n",
       " 'in proceedings of hicss': ['in proceedings of idc', 'in proceedings of its'],\n",
       " 'in proceedings of icer': ['in proceedings of idc'],\n",
       " 'in proceedings of icic': ['in proceedings of idc',\n",
       "  'in proceedings of icer',\n",
       "  'in proceedings of cscw',\n",
       "  'in proceedings of sigchi'],\n",
       " 'in proceedings of icwsm': ['in proceedings of idc',\n",
       "  'in proceedings of its',\n",
       "  'in proceedings of hicss'],\n",
       " 'in proceedings of idc': ['in proceedings of third'],\n",
       " 'in proceedings of ieee frontiers in education conference': ['in proceedings of aseeieee frontiers in education conference'],\n",
       " 'in proceedings of ieee global engineering education conference': ['proceedings of ieee global engineering education conference'],\n",
       " 'in proceedings of int': ['in proceedings of idc',\n",
       "  'in proceedings of its',\n",
       "  'in proceedings of chi',\n",
       "  'in proceedings of intl'],\n",
       " 'in proceedings of international conference of computers in education': ['in proceedings of international conference of computer supported education'],\n",
       " 'in proceedings of international conference of computers in education icce': ['in proceedings of international conference of computers in education'],\n",
       " 'in proceedings of international conference of educational data mining': ['proceedings of international conference of educational data mining'],\n",
       " 'in proceedings of international conference of idc': ['proceedings of international conference of teei',\n",
       "  'in proceedings of international conference of tangible'],\n",
       " 'in proceedings of international conference of intelligent tutoring systems': ['proceedings for international conference of intelligent tutoring systems',\n",
       "  'proceedings of international conference of intelligent tutoring systems'],\n",
       " 'in proceedings of international conference of interation design and children': ['in proceedings of international conference of interaction design and children',\n",
       "  'proceedings of international conference of interaction design and children',\n",
       "  'presented at proceedings of international conference of interaction design and children'],\n",
       " 'in proceedings of international conference of international conference for learning sciences': ['in proceedings of international conference of international conference for learning sciencesvolume',\n",
       "  'in proceedings of international conference of international conference for learning sciences volume'],\n",
       " 'in proceedings of international conference of international conference for learning sciences volume': ['in proceedings of international conference of international conference for learning sciencesvolume'],\n",
       " 'in proceedings of international conference of learning analytics and knowledge': ['in proceedings of sixth international conference of learning analytics and knowledge'],\n",
       " 'in proceedings of international conference of learning sciences': ['in proceedings international conference of learning sciences'],\n",
       " 'in proceedings of international conference of learning sciences volume': ['in proceedings international conference of learning sciences',\n",
       "  'in proceedings of international conference of learning sciences',\n",
       "  'proceedings of international conference of learning sciences',\n",
       "  'in proceedings of th international conference of learning sciences',\n",
       "  'in proceedings from international conference of learning sciences',\n",
       "  'paper in proceedings of international conference of learning sciences',\n",
       "  'in proceedings of international conference of learning sciences –',\n",
       "  'proceedings of international conference of learning sciences ’'],\n",
       " 'in proceedings of international conference of learning sciences –': ['in proceedings international conference of learning sciences',\n",
       "  'in proceedings of international conference of learning sciences',\n",
       "  'proceedings of fourth international conference of learning sciences',\n",
       "  'proceedings of tenth international conference of learning sciences',\n",
       "  'proceedings of international conference of learning sciences',\n",
       "  'in proceedings of th international conference of learning sciences',\n",
       "  'in proceedings from international conference of learning sciences',\n",
       "  'paper in proceedings of international conference of learning sciences'],\n",
       " 'in proceedings of international conference of multimodal interaction': ['in: proceedings of international conference of multimodal interaction   icmi ’'],\n",
       " 'in proceedings of international conference of multimodal interfaces': ['in proceedings of international conference of multimodal interaction'],\n",
       " 'in proceedings of international conference of supporting group work': ['in proceedings of international conference of supporting group work   group'],\n",
       " 'in proceedings of international conference of weblogs and social media wen': ['in proceedings of international conference of weblogs and social media'],\n",
       " 'in proceedings of international symposium of open collaboration': ['in proceedings of international symposium of wikis and open collaboration'],\n",
       " 'in proceedings of intl': ['in proceedings of its'],\n",
       " 'in proceedings of its': ['in proceedings of idc'],\n",
       " 'in proceedings of second acm conference of learning@ scale': ['in proceedings of third acm conference of learning@ scale'],\n",
       " 'in proceedings of seventeenth international conference of multimodal interaction': ['in proceedings of international conference of multimodal interaction'],\n",
       " 'in proceedings of seventh international learning analytics and knowledge conference of   lak ’': ['in proceedings of seventh international learning analytics and knowledge conference'],\n",
       " 'in proceedings of sigchi': ['in proceedings of chi',\n",
       "  'in proceedings of achi'],\n",
       " 'in proceedings of sigchi conference of human factors in computing systems': ['in proceedings of chi conference of human factors in computing systems',\n",
       "  'in proceedings of conference of human factors in computing systems'],\n",
       " 'in proceedings of sigcse ’': ['in proceedings of iticse ’'],\n",
       " 'in proceedings of sixth international conference of learning analytics and knowledge   lak ’': ['in proceedings of sixth international conference of learning analytics and knowledge',\n",
       "  'in proceedings of international conference of learning analytics and knowledge',\n",
       "  'in proceedings of fourth international conference of learning analytics and knowledge',\n",
       "  'in proceedings of third international conference of learning analytics and knowledge'],\n",
       " 'in proceedings of sixth international conference of learning analytics and knowledge wen': ['in proceedings of sixth international conference of learning analytics and knowledge',\n",
       "  'in proceedings of international conference of learning analytics and knowledge',\n",
       "  'in proceedings of fourth international conference of learning analytics and knowledge',\n",
       "  'in proceedings of third international conference of learning analytics and knowledge',\n",
       "  'in proceedings of sixth international conference of learning analytics and knowledge   lak ’',\n",
       "  'in: proceedings of sixth international conference of learning analytics and knowledge   lak ’',\n",
       "  'in proceedings of fourth international conference of learning analytics and knowledge lak’',\n",
       "  'proceedings of fourth international conference of learning analytics and knowledge',\n",
       "  'proceedings of international conference of learning analytics and knowledge'],\n",
       " 'in proceedings of tenth international conference of tangible': ['in proceedings of international conference of tangible',\n",
       "  'in proceedings of eleventh international conference of tangible'],\n",
       " 'in proceedings of th international conference of learning sciences': ['in proceedings international conference of learning sciences',\n",
       "  'in proceedings of international conference of learning sciences',\n",
       "  'proceedings of fourth international conference of learning sciences',\n",
       "  'proceedings of tenth international conference of learning sciences',\n",
       "  'proceedings of international conference of learning sciences'],\n",
       " 'in proceedings of third international conference of learning analytics and knowledge': ['in proceedings of sixth international conference of learning analytics and knowledge',\n",
       "  'in proceedings of international conference of learning analytics and knowledge',\n",
       "  'in proceedings of fourth international conference of learning analytics and knowledge'],\n",
       " 'in sigcse proceedings of acm technical symposium of computer science education': ['in proceedings of acm technical symposium of computer science education',\n",
       "  'in proceedings of acm technical symposium of computing science education',\n",
       "  'in proceedings of acm technical symposium computer science education',\n",
       "  'proceedings of acm technical symposium of computer science education'],\n",
       " 'in: proceedings of acm of international conference of multimodal interaction   icmi ’': ['in: proceedings of international conference of multimodal interaction   icmi ’'],\n",
       " 'in: proceedings of sixth international conference of learning analytics and knowledge   lak ’': ['in proceedings of sixth international conference of learning analytics and knowledge',\n",
       "  'in proceedings of international conference of learning analytics and knowledge',\n",
       "  'in proceedings of fourth international conference of learning analytics and knowledge',\n",
       "  'in proceedings of third international conference of learning analytics and knowledge',\n",
       "  'in proceedings of sixth international conference of learning analytics and knowledge   lak ’'],\n",
       " 'interdisciplinary journal of problembased learning': ['interdisciplinary journal of problem based learning'],\n",
       " 'international conference': ['international conference of'],\n",
       " 'international conference of learning sciences': ['fourth international conference of learning sciences',\n",
       "  'of international conference of learning sciences'],\n",
       " 'international journal artificial intelligence education': ['international journal of artificial intelligence in education'],\n",
       " 'international journal human computer studies': ['international journal of human computer studies'],\n",
       " 'international journal of ai in education': ['international journal of science education'],\n",
       " 'international journal of artificial intelligence and education': ['international journal of artificial intelligence in education',\n",
       "  'international journal artificial intelligence education',\n",
       "  'international journal or artificial intelligence in education'],\n",
       " 'international journal of computer  supported collaborative learning': ['international journal of computersupported collaborative learning'],\n",
       " 'international journal of e learning': ['international journal of learning'],\n",
       " 'international journal of human computer interaction': ['international journal of child computer interaction',\n",
       "  'international journal of mobile humancomputer interaction'],\n",
       " 'international journal of information and learning technology': ['international journal of information and education technology'],\n",
       " 'international journal of instructional technology and distance education': ['international journal of instructional technology and distance learning'],\n",
       " 'international journal of mobile human computer interaction': ['international journal of mobile humancomputer interaction',\n",
       "  'international journal of human computer interaction'],\n",
       " 'international journal of organisational design and engineering': ['international journal of organizational design and engineering'],\n",
       " 'international journal of science mathematics education': ['international journal of science and mathematics education'],\n",
       " 'international journal of stem education': ['international journal of science education'],\n",
       " 'international journal of technology design education': ['international journal of technology and design education',\n",
       "  'international journal technology and design education'],\n",
       " 'international journal of technology in higher education': ['international journal of technology and design education'],\n",
       " 'international journal or artificial intelligence in education': ['international journal of artificial intelligence in education',\n",
       "  'international journal artificial intelligence education'],\n",
       " 'international journal technology and design education': ['international journal of technology and design education'],\n",
       " 'international learning analytics and knowledge conference': ['in international learning analytics and knowledge conference'],\n",
       " 'jcom: journal of science communication': ['journal of science communication'],\n",
       " 'jedm journal of educational data mining': ['journal of educational data mining'],\n",
       " 'journal biological education': ['journal of biological education'],\n",
       " 'journal educational change': ['journal of educational change'],\n",
       " 'journal for research in math education': ['journal for research in mathematics education'],\n",
       " 'journal for research in mathematics educations': ['journal for research in mathematics education',\n",
       "  'journal for research in math education'],\n",
       " 'journal for research in science teaching': ['journal of research in science teaching',\n",
       "  'journal of research science teaching',\n",
       "  'journal research science teaching'],\n",
       " 'journal learning sciences': ['journal of learning sciences'],\n",
       " 'journal of adolescent and adult literacy': ['journal of adolescent and adult literacies'],\n",
       " 'journal of asynchronous learning network': ['journal of asynchronous learning networks'],\n",
       " 'journal of autism development disorders': ['journal of autism and developmental disorders'],\n",
       " 'journal of child psychology and child psychiatry': ['journal of child psychology and psychiatry'],\n",
       " 'journal of child psychology psychiatry': ['journal of child psychology and psychiatry'],\n",
       " 'journal of computermediated communication': ['journal of computer mediated communication'],\n",
       " 'journal of computers and mathematics and science teaching': ['journal of computers in mathematics and science teaching'],\n",
       " 'journal of computers in education': ['journal of computer and education'],\n",
       " 'journal of computing in teacher education': ['journal of computing in higher education'],\n",
       " 'journal of educational measurement hao': ['journal of educational measurement'],\n",
       " 'journal of educational media and hypermedia': ['journal of educational multimedia and hypermedia'],\n",
       " 'journal of educational psychology gerard': ['journal of educational psychology'],\n",
       " 'journal of educational technology': ['journal of educational psychology'],\n",
       " 'journal of experimental social psychology': ['journal of experimental child psychology'],\n",
       " 'journal of learning science': ['journal of learning sciences',\n",
       "  'journal learning sciences'],\n",
       " 'journal of microbiology and biology education': ['journal of microbiology and biology education: jmbe'],\n",
       " 'journal of museum education': ['journal of museum education :'],\n",
       " 'journal of negro education': ['journal of nano education'],\n",
       " 'journal of personality and social psych': ['journal of personality and social psychology'],\n",
       " 'journal of political science education': ['journal of baltic science education'],\n",
       " 'journal of research in scienceteaching': ['journal of research in science teaching',\n",
       "  'journal of research science teaching',\n",
       "  'journal research science teaching',\n",
       "  'journal for research in science teaching'],\n",
       " 'journal of research in technology education': ['journal of research of technology in education'],\n",
       " 'journal of research science teaching': ['journal of research in science teaching'],\n",
       " 'journal of science education technology': ['journal of science education and technology'],\n",
       " 'journal of science educational and technology': ['journal of science education and technology',\n",
       "  'journal of science education technology'],\n",
       " 'journal of stem teacher education': ['journal of teacher education'],\n",
       " 'journal research science teaching': ['journal of research in science teaching',\n",
       "  'journal of research science teaching'],\n",
       " 'merlot journal of online learning and teaching': ['journal of online learning and teaching'],\n",
       " 'nd international conference of computers in education': ['international conference of computers in education'],\n",
       " 'of acm international conference of interactive tabletops and surfaces': ['in proceedings of acm international conference of interactive tabletops and surfaces'],\n",
       " 'of conference of computer support for collaborative learning': ['proceedings of conference of computer support for collaborative learning'],\n",
       " 'of distance education journal': ['in distance education journal'],\n",
       " 'of eleventh annual international conference of international computing education research': ['proceedings of eleventh annual international conference of international computing education research'],\n",
       " 'of international conference of international conference for learning sciences volume': ['in proceedings of international conference of international conference for learning sciencesvolume',\n",
       "  'in proceedings of international conference of international conference for learning sciences volume'],\n",
       " 'of international conference of learning sciences': ['fourth international conference of learning sciences'],\n",
       " 'paper in proceedings of international conference of learning sciences': ['in proceedings international conference of learning sciences',\n",
       "  'in proceedings of international conference of learning sciences',\n",
       "  'paper presented at proceedings of international conference of learning sciences',\n",
       "  'proceedings of international conference of learning sciences',\n",
       "  'in proceedings of th international conference of learning sciences',\n",
       "  'in proceedings from international conference of learning sciences'],\n",
       " 'paper presented at american education research association conference': ['paper presented at american educational research association annual conference',\n",
       "  'paper presented at american educational research association conference'],\n",
       " 'paper presented at american educational research association conference': ['paper presented at american educational research association annual conference'],\n",
       " 'paper presented at fablearn: conference of creativity and fabrication in education': ['presented at fablearn conference of creativity and fabrication in education'],\n",
       " 'paper presented at fablearn’ conference': ['paper presented at fablearn conference'],\n",
       " 'paper presented at international conference of learning sciences': ['paper presented at fourth international conference of learning sciences'],\n",
       " 'paper presented at international conference of learning sciences chinn': ['paper presented at fourth international conference of learning sciences',\n",
       "  'paper presented at international conference of learning sciences',\n",
       "  'presented at international conference of learning sciences'],\n",
       " 'paper presented at proceedings of international conference of multimedia': ['paper presented at proceedings of international conference of multimodal interfaces'],\n",
       " 'pnas proceedings of national academy of sciences of united states of america': ['proceedings of national academy of sciences of united states of america'],\n",
       " 'presented at ieee international conference of advanced learning technologies': ['paper presented at international conference of advanced learning technologies'],\n",
       " 'presented at international conference of learning sciences': ['paper presented at international conference of learning sciences'],\n",
       " 'presented at proceeding of annual acm sigchi conference of human factors in computing systems': ['paper presented at proceedings of sigchi conference of human factors in computing systems'],\n",
       " 'presented at proceedings of international conference of interaction design and children': ['in proceedings of international conference of interaction design and children',\n",
       "  'proceedings of international conference of interaction design and children'],\n",
       " 'proc of international conference of learning sciences': ['in proceedings of international conference of learning sciences',\n",
       "  'proceedings of international conference of learning sciences',\n",
       "  'of international conference of learning sciences',\n",
       "  'international conference of learning sciences'],\n",
       " 'proceedings from annual meeting of american educational research association': ['proceedings of annual meeting of american educational research association',\n",
       "  'in proceedings of annual meeting of american educational research association'],\n",
       " 'proceedings from international conference of computers in education': ['in proceedings of international conference of computers in education',\n",
       "  'in proceedings of international conference of computers in education icce'],\n",
       " 'proceedings lak': ['proceedings of lak'],\n",
       " 'proceedings of acm conference of computer supported cooperative work and social computing': ['in proceedings of acm conference of computer supported cooperative work and social computing'],\n",
       " 'proceedings of acm conference of learning@scale': ['in proceedings of third acm conference of learning@ scale'],\n",
       " 'proceedings of acm sigchi conference of human factors in computing systems': ['in proceedings of chi conference of human factors in computing systems',\n",
       "  'in proceedings of sigchi conference of human factors in computing systems',\n",
       "  'proceedings of sigchi conference of human factors in computing systems'],\n",
       " 'proceedings of acm technical symposium of computer science education': ['in proceedings of acm technical symposium of computer science education',\n",
       "  'in proceedings of acm technical symposium of computing science education',\n",
       "  'proceedings of acm technical symposium of computer science education   sigcse ’',\n",
       "  'in proceedings of acm technical symposium computer science education'],\n",
       " 'proceedings of acm technical symposium of computer science education   sigcse ’': ['in proceedings of acm technical symposium of computer science education'],\n",
       " 'proceedings of annual conference of cognitive science society': ['proceedings for annual conference of cognitive science society',\n",
       "  'in proceedings of annual conference of cognitive science society',\n",
       "  'proceedings of twenty fifth annual conference of cognitive science society'],\n",
       " 'proceedings of annual conference of learning sciences': ['proceedings of international conference of learning sciences'],\n",
       " 'proceedings of annual meeting of north american chapter of international group for psychology of mathematics education: vol': ['proceedings of annual meeting of north american chapter of international group for psychology of mathematics education'],\n",
       " 'proceedings of chi': ['in proceedings of chi'],\n",
       " 'proceedings of conference of human factors in computing systems': ['in proceedings of chi conference of human factors in computing systems',\n",
       "  'in proceedings of conference of human factors in computing systems',\n",
       "  'in proceedings of sigchi conference of human factors in computing systems',\n",
       "  'proceedings of sigchi conference of human factors in computing systems',\n",
       "  'proceedings of acm sigchi conference of human factors in computing systems'],\n",
       " 'proceedings of cscw': ['proceedings of cscw’:',\n",
       "  'in proceedings of ecscw',\n",
       "  'in proceedings of cscw'],\n",
       " 'proceedings of edm': ['proceedings of icdm'],\n",
       " 'proceedings of educational data mining yang': ['proceedings of educational data mining'],\n",
       " 'proceedings of eleventh annual international conference of international computing education research': ['in proceedings of ninth annual international acm conference of international computing education research'],\n",
       " 'proceedings of european conference of game based learning': ['in proceedings of european conference of games based learning'],\n",
       " 'proceedings of european conference of technology enhanced learning': ['proceedings european conference of technology enhanced learning'],\n",
       " 'proceedings of fablearn ’': ['in proceedings of fablearn'],\n",
       " 'proceedings of first acm conference of learning @ scale conference   l@s ’': ['in proceedings of first acm conference of learning@ scale conference',\n",
       "  'in proceedings of first acm conference of learning @ scale conference'],\n",
       " 'proceedings of fourteenth annual conference of research in undergraduate mathematics education': ['proceedings of annual conference of research in undergraduate mathematics education'],\n",
       " 'proceedings of fourth international conference of learning analytics and knowledge': ['in proceedings of sixth international conference of learning analytics and knowledge',\n",
       "  'in proceedings of international conference of learning analytics and knowledge',\n",
       "  'in proceedings of fourth international conference of learning analytics and knowledge',\n",
       "  'in proceedings of third international conference of learning analytics and knowledge',\n",
       "  'in proceedings of fourth international conference of learning analytics and knowledge lak’'],\n",
       " 'proceedings of fourth international conference of learning sciences': ['in proceedings of international conference of learning sciences'],\n",
       " 'proceedings of idc': ['in proceedings of idc', 'proceedings of icdm'],\n",
       " 'proceedings of international conference of intelligent tutoring systems': ['proceedings for international conference of intelligent tutoring systems'],\n",
       " 'proceedings of international conference of interaction design and children': ['in proceedings of international conference of interaction design and children'],\n",
       " 'proceedings of international conference of learning analytics and knowledge': ['in proceedings of sixth international conference of learning analytics and knowledge',\n",
       "  'presented at international conference of learning analytics and knowledge',\n",
       "  'in proceedings of international conference of learning analytics and knowledge',\n",
       "  'in proceedings of fourth international conference of learning analytics and knowledge',\n",
       "  'in proceedings of third international conference of learning analytics and knowledge',\n",
       "  'in proceedings of fourth international conference of learning analytics and knowledge lak’',\n",
       "  'proceedings of fourth international conference of learning analytics and knowledge'],\n",
       " 'proceedings of international conference of learning sciences': ['in proceedings international conference of learning sciences',\n",
       "  'in proceedings of international conference of learning sciences',\n",
       "  'proceedings of fourth international conference of learning sciences',\n",
       "  'proceedings of tenth international conference of learning sciences'],\n",
       " 'proceedings of international conference of learning sciences ’': ['in proceedings international conference of learning sciences',\n",
       "  'in proceedings of international conference of learning sciences',\n",
       "  'proceedings of fourth international conference of learning sciences',\n",
       "  'proceedings of tenth international conference of learning sciences',\n",
       "  'proceedings of international conference of learning sciences',\n",
       "  'in proceedings of th international conference of learning sciences',\n",
       "  'in proceedings from international conference of learning sciences',\n",
       "  'proc of international conference of learning sciences',\n",
       "  'paper in proceedings of international conference of learning sciences',\n",
       "  'in proceedings of international conference of learning sciences –'],\n",
       " 'proceedings of international conference of networked learning': ['in proceedings of international conference of networked learning'],\n",
       " 'proceedings of lak': ['proceedings of lak’'],\n",
       " 'proceedings of rd international conference of computers in education': ['in proceedings of international conference of computers in education',\n",
       "  'in proceedings of international conference of computers in education icce',\n",
       "  'proceedings from international conference of computers in education'],\n",
       " 'proceedings of second': ['in proceedings of second'],\n",
       " 'proceedings of second international conference of knowledge discovery and data mining': ['in proceedings of acm sigkdd international conference of knowledge discovery and data mining'],\n",
       " 'proceedings of sigchi': ['in proceedings of sigchi', 'proceedings of chi'],\n",
       " 'proceedings of sigchi conference of human factors in computing systems': ['in proceedings of chi conference of human factors in computing systems',\n",
       "  'in proceedings of conference of human factors in computing systems',\n",
       "  'in proceedings of sigchi conference of human factors in computing systems',\n",
       "  'of sigchi conference of human factors in computing systems'],\n",
       " 'proceedings of society for information technology and teacher education international conference': ['in society for information technology and teacher education international conference'],\n",
       " 'proceedings of tenth international conference of learning sciences': ['in proceedings international conference of learning sciences',\n",
       "  'in proceedings of international conference of learning sciences',\n",
       "  'proceedings of fourth international conference of learning sciences'],\n",
       " 'published in proceedings of international conference of interaction design and children': ['in proceedings of international conference of interaction design and children',\n",
       "  'proceedings of international conference of interaction design and children',\n",
       "  'presented at proceedings of international conference of interaction design and children',\n",
       "  'in proceedings of international conference of interation design and children'],\n",
       " 'review journal of autism and developmental disorders': ['journal of autism and developmental disorders'],\n",
       " 'saarc journal of educational research': ['journal of educational research'],\n",
       " 'th hawaii international conference of': ['rd hawaii international conference of'],\n",
       " 'th international conference of': ['international conference of',\n",
       "  'ieee international conference of'],\n",
       " 'transactions of computer human interaction': ['acm transactions of computer human interaction'],\n",
       " 'transactions of computing education': ['acm transactions of computing education']}"
      ]
     },
     "execution_count": 102,
     "metadata": {},
     "output_type": "execute_result"
    }
   ],
   "source": [
    "d"
   ]
  },
  {
   "cell_type": "code",
   "execution_count": null,
   "metadata": {},
   "outputs": [],
   "source": [
    "sources"
   ]
  },
  {
   "cell_type": "code",
   "execution_count": null,
   "metadata": {},
   "outputs": [],
   "source": []
  }
 ],
 "metadata": {
  "kernelspec": {
   "display_name": "Python 3",
   "language": "python",
   "name": "python3"
  },
  "language_info": {
   "codemirror_mode": {
    "name": "ipython",
    "version": 3
   },
   "file_extension": ".py",
   "mimetype": "text/x-python",
   "name": "python",
   "nbconvert_exporter": "python",
   "pygments_lexer": "ipython3",
   "version": "3.7.0"
  }
 },
 "nbformat": 4,
 "nbformat_minor": 2
}
