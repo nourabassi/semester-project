{
 "cells": [
  {
   "cell_type": "code",
   "execution_count": 1,
   "metadata": {},
   "outputs": [],
   "source": [
    "import json\n",
    "import pandas as pd\n",
    "import matplotlib.pyplot as plt \n",
    "import seaborn as sns\n",
    "import re\n",
    "import numpy as np\n",
    "import regex as reg\n",
    "\n",
    "%matplotlib inline  "
   ]
  },
  {
   "cell_type": "markdown",
   "metadata": {},
   "source": [
    "Extracting references from texts:"
   ]
  },
  {
   "cell_type": "code",
   "execution_count": 2,
   "metadata": {},
   "outputs": [
    {
     "name": "stdout",
     "output_type": "stream",
     "text": [
      "\tNumber of pdf documents :  874\n",
      "\tNumber of documents for which we have an extracted reference section:  874\n",
      "\tPercentage of unparsed references: 0.004\n",
      "\tNumber of unparsed references:  59\n",
      "\tNumber of properly parsed references:  14686\n",
      "\tSaved reference list to: data/ as References.csv\n",
      "\tSaved to individual authors list: data/ as Reference_authors.csv\n"
     ]
    }
   ],
   "source": [
    "!python ./Scripts/reference_extraction.py "
   ]
  },
  {
   "cell_type": "markdown",
   "metadata": {},
   "source": [
    "Loading references as previously extracted:"
   ]
  },
  {
   "cell_type": "code",
   "execution_count": 3,
   "metadata": {},
   "outputs": [],
   "source": [
    "references = pd.read_csv('data/References.csv', index_col=0)"
   ]
  },
  {
   "cell_type": "code",
   "execution_count": 4,
   "metadata": {},
   "outputs": [
    {
     "data": {
      "text/html": [
       "<div>\n",
       "<style scoped>\n",
       "    .dataframe tbody tr th:only-of-type {\n",
       "        vertical-align: middle;\n",
       "    }\n",
       "\n",
       "    .dataframe tbody tr th {\n",
       "        vertical-align: top;\n",
       "    }\n",
       "\n",
       "    .dataframe thead th {\n",
       "        text-align: right;\n",
       "    }\n",
       "</style>\n",
       "<table border=\"1\" class=\"dataframe\">\n",
       "  <thead>\n",
       "    <tr style=\"text-align: right;\">\n",
       "      <th></th>\n",
       "      <th>ref</th>\n",
       "      <th>file</th>\n",
       "      <th>ref_parsed</th>\n",
       "      <th>year</th>\n",
       "      <th>identifier</th>\n",
       "    </tr>\n",
       "  </thead>\n",
       "  <tbody>\n",
       "    <tr>\n",
       "      <th>0</th>\n",
       "      <td>Lave, J., &amp; Wenger, E. (1991). Situated learni...</td>\n",
       "      <td>import2018_371</td>\n",
       "      <td>Lave, J., &amp; Wenger, E. (1991)</td>\n",
       "      <td>1991.0</td>\n",
       "      <td>Lave, J., &amp; Wenger, E. (1991). Situated learni...</td>\n",
       "    </tr>\n",
       "    <tr>\n",
       "      <th>1</th>\n",
       "      <td>Miles, M. B., Huberman, A. M., &amp; Saldana, J. (...</td>\n",
       "      <td>import2018_371</td>\n",
       "      <td>Miles, M. B., Huberman, A. M., &amp; Saldana, J. (...</td>\n",
       "      <td>2013.0</td>\n",
       "      <td>Miles, M. B., Huberman, A. M., &amp; Saldana, J. (...</td>\n",
       "    </tr>\n",
       "    <tr>\n",
       "      <th>2</th>\n",
       "      <td>Pea, R. D., Gomez, L. M., Edelson, D. C., Fish...</td>\n",
       "      <td>import2018_371</td>\n",
       "      <td>Pea, R. D., Gomez, L. M., Edelson, D. C., Fish...</td>\n",
       "      <td>1997.0</td>\n",
       "      <td>Pea, R. D., Gomez, L. M., Edelson, D. C., Fish...</td>\n",
       "    </tr>\n",
       "    <tr>\n",
       "      <th>3</th>\n",
       "      <td>Rogoff, B. (1995). Observing sociocultural act...</td>\n",
       "      <td>import2018_371</td>\n",
       "      <td>Rogoff, B. (1995)</td>\n",
       "      <td>1995.0</td>\n",
       "      <td>Rogoff, B. (1995). Observing sociocultural act...</td>\n",
       "    </tr>\n",
       "    <tr>\n",
       "      <th>4</th>\n",
       "      <td>Shirk, J., Ballard, H., Wilderman, C., Phillip...</td>\n",
       "      <td>import2018_371</td>\n",
       "      <td>Shirk, J., Ballard, H., Wilderman, C., Phillip...</td>\n",
       "      <td>2012.0</td>\n",
       "      <td>Shirk, J., Ballard, H., Wilderman, C., Phillip...</td>\n",
       "    </tr>\n",
       "  </tbody>\n",
       "</table>\n",
       "</div>"
      ],
      "text/plain": [
       "                                                 ref            file  \\\n",
       "0  Lave, J., & Wenger, E. (1991). Situated learni...  import2018_371   \n",
       "1  Miles, M. B., Huberman, A. M., & Saldana, J. (...  import2018_371   \n",
       "2  Pea, R. D., Gomez, L. M., Edelson, D. C., Fish...  import2018_371   \n",
       "3  Rogoff, B. (1995). Observing sociocultural act...  import2018_371   \n",
       "4  Shirk, J., Ballard, H., Wilderman, C., Phillip...  import2018_371   \n",
       "\n",
       "                                          ref_parsed    year  \\\n",
       "0                      Lave, J., & Wenger, E. (1991)  1991.0   \n",
       "1  Miles, M. B., Huberman, A. M., & Saldana, J. (...  2013.0   \n",
       "2  Pea, R. D., Gomez, L. M., Edelson, D. C., Fish...  1997.0   \n",
       "3                                  Rogoff, B. (1995)  1995.0   \n",
       "4  Shirk, J., Ballard, H., Wilderman, C., Phillip...  2012.0   \n",
       "\n",
       "                                          identifier  \n",
       "0  Lave, J., & Wenger, E. (1991). Situated learni...  \n",
       "1  Miles, M. B., Huberman, A. M., & Saldana, J. (...  \n",
       "2  Pea, R. D., Gomez, L. M., Edelson, D. C., Fish...  \n",
       "3  Rogoff, B. (1995). Observing sociocultural act...  \n",
       "4  Shirk, J., Ballard, H., Wilderman, C., Phillip...  "
      ]
     },
     "execution_count": 4,
     "metadata": {},
     "output_type": "execute_result"
    }
   ],
   "source": [
    "references.head()"
   ]
  },
  {
   "cell_type": "markdown",
   "metadata": {},
   "source": [
    "Some sample references, and their corresponding identifier:"
   ]
  },
  {
   "cell_type": "code",
   "execution_count": 5,
   "metadata": {},
   "outputs": [
    {
     "name": "stdout",
     "output_type": "stream",
     "text": [
      "Ref:  Webb, N. M. (1989). Peer interaction and learning in small groups. International Journal of Educational Research, 13(1), 21–39. \n",
      "Identifier:  Webb, N. M. (1989). Peer interaction and learning in small groups\n",
      "Ref:  Scardamalia, M. (2002). Collective cognitive responsibility for the advancement of knowledge. In B. Smith (Ed.), Liberal education in a knowledge society (pp. 67-98). Chicago, IL: Open Court. \n",
      "Identifier:  Scardamalia, M. (2002). Collective cognitive responsibility for the advancement of knowledge\n",
      "Ref:  Hughes J., Randall D. and Shapiro D. (1992). Faltering form Ethnography to Design. In Proceedings of CSCW ’92 Conference on Computer-Supported Cooperative Work. The ACM: New York, pp. 115-122. \n",
      "Identifier:  Hughes J., Randall D. and Shapiro D. (1992). Faltering form Ethnography to Design\n",
      "Ref:  Chavez, M. M. T. (1998). Learner’s perspectives on authenticity. International Review of Applied Linguistics in Language Teaching, 36(4), 277–306. \n",
      "Identifier:  Chavez, M. M. T. (1998). Learner’s perspectives on authenticity\n"
     ]
    }
   ],
   "source": [
    "sample = references[['ref', 'identifier']].sample(4)\n",
    "_ = [print(\"Ref: \",r, '\\nIdentifier: ', s,) for r, s in zip(sample.ref.tolist(), sample.identifier.tolist())]"
   ]
  },
  {
   "cell_type": "markdown",
   "metadata": {},
   "source": [
    "### First we check the most cited citations:"
   ]
  },
  {
   "cell_type": "code",
   "execution_count": 6,
   "metadata": {
    "scrolled": false
   },
   "outputs": [
    {
     "data": {
      "text/plain": [
       "Lave, J., & Wenger, E. (1991). Situated learning: Legitimate peripheral participation                                          32\n",
       "Scardamalia, M. (2002). Collective cognitive responsibility for the advancement of knowledge                                   32\n",
       "Jordan, B., & Henderson, A. (1995). Interaction analysis: Foundations and practice                                             31\n",
       "Scardamalia, M., & Bereiter, C. (2006). Knowledge building: Theory, pedagogy, and technology                                   23\n",
       "Papert, S. (1980). Mindstorms: Children, computers, and powerful ideas                                                         20\n",
       "Barron, B. (2003). When smart groups fail                                                                                      19\n",
       "Bereiter, C. (2002). Education and mind in the knowledge age                                                                   16\n",
       "Vygotsky, L. S. (1978). Mind in society: The development of higher psychological processes                                     15\n",
       "National Research Council. (2012). A framework for K-12 science education: Practices, crosscutting concepts, and core ideas    15\n",
       "Brown, J. S., Collins, A., & Duguid, P. (1989). Situated cognition and the culture of learning                                 14\n",
       "Name: identifier, dtype: int64"
      ]
     },
     "execution_count": 6,
     "metadata": {},
     "output_type": "execute_result"
    },
    {
     "data": {
      "image/png": "[encoded data removed]",
      "text/plain": [
       "<Figure size 432x288 with 1 Axes>"
      ]
     },
     "metadata": {
      "needs_background": "light"
     },
     "output_type": "display_data"
    }
   ],
   "source": [
    "plt.title('Most cited references')\n",
    "references.identifier.value_counts().head(20).plot(kind='bar')\n",
    "references.identifier.value_counts().head(10)"
   ]
  },
  {
   "cell_type": "markdown",
   "metadata": {},
   "source": [
    "### Looking at authors in dataset & the ones they reference"
   ]
  },
  {
   "cell_type": "code",
   "execution_count": 7,
   "metadata": {},
   "outputs": [
    {
     "data": {
      "text/plain": [
       "(45194, 6)"
      ]
     },
     "execution_count": 7,
     "metadata": {},
     "output_type": "execute_result"
    }
   ],
   "source": [
    "reference_authors = pd.read_csv('data/Reference_authors.csv', index_col=0)\n",
    "reference_authors.shape"
   ]
  },
  {
   "cell_type": "code",
   "execution_count": 8,
   "metadata": {},
   "outputs": [
    {
     "data": {
      "text/plain": [
       "(34634, 6)"
      ]
     },
     "execution_count": 8,
     "metadata": {},
     "output_type": "execute_result"
    }
   ],
   "source": [
    "reference_authors.drop_duplicates(inplace=True)\n",
    "reference_authors.shape"
   ]
  },
  {
   "cell_type": "code",
   "execution_count": 9,
   "metadata": {},
   "outputs": [
    {
     "data": {
      "text/html": [
       "<div>\n",
       "<style scoped>\n",
       "    .dataframe tbody tr th:only-of-type {\n",
       "        vertical-align: middle;\n",
       "    }\n",
       "\n",
       "    .dataframe tbody tr th {\n",
       "        vertical-align: top;\n",
       "    }\n",
       "\n",
       "    .dataframe thead th {\n",
       "        text-align: right;\n",
       "    }\n",
       "</style>\n",
       "<table border=\"1\" class=\"dataframe\">\n",
       "  <thead>\n",
       "    <tr style=\"text-align: right;\">\n",
       "      <th></th>\n",
       "      <th>ref</th>\n",
       "      <th>file</th>\n",
       "      <th>ref_parsed</th>\n",
       "      <th>year</th>\n",
       "      <th>identifier</th>\n",
       "      <th>author</th>\n",
       "    </tr>\n",
       "  </thead>\n",
       "  <tbody>\n",
       "    <tr>\n",
       "      <th>0</th>\n",
       "      <td>Lave, J., &amp; Wenger, E. (1991). Situated learni...</td>\n",
       "      <td>import2018_371</td>\n",
       "      <td>Lave, J., &amp; Wenger, E. (1991)</td>\n",
       "      <td>1991.0</td>\n",
       "      <td>Lave, J., &amp; Wenger, E. (1991). Situated learni...</td>\n",
       "      <td>Lave J.</td>\n",
       "    </tr>\n",
       "    <tr>\n",
       "      <th>1</th>\n",
       "      <td>Miles, M. B., Huberman, A. M., &amp; Saldana, J. (...</td>\n",
       "      <td>import2018_371</td>\n",
       "      <td>Miles, M. B., Huberman, A. M., &amp; Saldana, J. (...</td>\n",
       "      <td>2013.0</td>\n",
       "      <td>Miles, M. B., Huberman, A. M., &amp; Saldana, J. (...</td>\n",
       "      <td>Miles M. B.</td>\n",
       "    </tr>\n",
       "    <tr>\n",
       "      <th>2</th>\n",
       "      <td>Pea, R. D., Gomez, L. M., Edelson, D. C., Fish...</td>\n",
       "      <td>import2018_371</td>\n",
       "      <td>Pea, R. D., Gomez, L. M., Edelson, D. C., Fish...</td>\n",
       "      <td>1997.0</td>\n",
       "      <td>Pea, R. D., Gomez, L. M., Edelson, D. C., Fish...</td>\n",
       "      <td>Pea R. D.</td>\n",
       "    </tr>\n",
       "    <tr>\n",
       "      <th>3</th>\n",
       "      <td>Rogoff, B. (1995). Observing sociocultural act...</td>\n",
       "      <td>import2018_371</td>\n",
       "      <td>Rogoff, B. (1995)</td>\n",
       "      <td>1995.0</td>\n",
       "      <td>Rogoff, B. (1995). Observing sociocultural act...</td>\n",
       "      <td>Rogoff B.</td>\n",
       "    </tr>\n",
       "    <tr>\n",
       "      <th>4</th>\n",
       "      <td>Shirk, J., Ballard, H., Wilderman, C., Phillip...</td>\n",
       "      <td>import2018_371</td>\n",
       "      <td>Shirk, J., Ballard, H., Wilderman, C., Phillip...</td>\n",
       "      <td>2012.0</td>\n",
       "      <td>Shirk, J., Ballard, H., Wilderman, C., Phillip...</td>\n",
       "      <td>Shirk J.</td>\n",
       "    </tr>\n",
       "  </tbody>\n",
       "</table>\n",
       "</div>"
      ],
      "text/plain": [
       "                                                 ref            file  \\\n",
       "0  Lave, J., & Wenger, E. (1991). Situated learni...  import2018_371   \n",
       "1  Miles, M. B., Huberman, A. M., & Saldana, J. (...  import2018_371   \n",
       "2  Pea, R. D., Gomez, L. M., Edelson, D. C., Fish...  import2018_371   \n",
       "3  Rogoff, B. (1995). Observing sociocultural act...  import2018_371   \n",
       "4  Shirk, J., Ballard, H., Wilderman, C., Phillip...  import2018_371   \n",
       "\n",
       "                                          ref_parsed    year  \\\n",
       "0                      Lave, J., & Wenger, E. (1991)  1991.0   \n",
       "1  Miles, M. B., Huberman, A. M., & Saldana, J. (...  2013.0   \n",
       "2  Pea, R. D., Gomez, L. M., Edelson, D. C., Fish...  1997.0   \n",
       "3                                  Rogoff, B. (1995)  1995.0   \n",
       "4  Shirk, J., Ballard, H., Wilderman, C., Phillip...  2012.0   \n",
       "\n",
       "                                          identifier       author  \n",
       "0  Lave, J., & Wenger, E. (1991). Situated learni...      Lave J.  \n",
       "1  Miles, M. B., Huberman, A. M., & Saldana, J. (...  Miles M. B.  \n",
       "2  Pea, R. D., Gomez, L. M., Edelson, D. C., Fish...    Pea R. D.  \n",
       "3  Rogoff, B. (1995). Observing sociocultural act...    Rogoff B.  \n",
       "4  Shirk, J., Ballard, H., Wilderman, C., Phillip...     Shirk J.  "
      ]
     },
     "execution_count": 9,
     "metadata": {},
     "output_type": "execute_result"
    }
   ],
   "source": [
    "reference_authors.head()"
   ]
  },
  {
   "cell_type": "markdown",
   "metadata": {},
   "source": [
    "We check the most cited author:"
   ]
  },
  {
   "cell_type": "code",
   "execution_count": 10,
   "metadata": {},
   "outputs": [
    {
     "data": {
      "text/plain": [
       "<matplotlib.axes._subplots.AxesSubplot at 0x1a1eaaa7b8>"
      ]
     },
     "execution_count": 10,
     "metadata": {},
     "output_type": "execute_result"
    },
    {
     "data": {
      "image/png": "[encoded data removed]",
      "text/plain": [
       "<Figure size 432x288 with 1 Axes>"
      ]
     },
     "metadata": {
      "needs_background": "light"
     },
     "output_type": "display_data"
    }
   ],
   "source": [
    "plt.title('Most cited authors')\n",
    "reference_authors.author.value_counts().head(15).plot(kind='bar')"
   ]
  },
  {
   "cell_type": "code",
   "execution_count": 11,
   "metadata": {},
   "outputs": [
    {
     "data": {
      "text/plain": [
       "<matplotlib.axes._subplots.AxesSubplot at 0x1a1eb213c8>"
      ]
     },
     "execution_count": 11,
     "metadata": {},
     "output_type": "execute_result"
    },
    {
     "data": {
      "image/png": "[encoded data removed]",
      "text/plain": [
       "<Figure size 432x288 with 1 Axes>"
      ]
     },
     "metadata": {
      "needs_background": "light"
     },
     "output_type": "display_data"
    }
   ],
   "source": [
    "plt.title('Most cited for reference after 2010')\n",
    "reference_authors[reference_authors.year > 2010].author.value_counts().head(15).plot(kind='bar')"
   ]
  },
  {
   "cell_type": "markdown",
   "metadata": {},
   "source": [
    "We now merge on the shortened name as it can be found in the citation.\n",
    "\n",
    "**Note** that we might get illegitemate merges, as the short name is not unique, even within the metadata dataset!"
   ]
  },
  {
   "cell_type": "markdown",
   "metadata": {},
   "source": [
    "Load the metadata:"
   ]
  },
  {
   "cell_type": "code",
   "execution_count": 12,
   "metadata": {},
   "outputs": [],
   "source": [
    "metadata = pd.read_csv('data/Parsed_metadata.csv', index_col=0)"
   ]
  },
  {
   "cell_type": "code",
   "execution_count": 13,
   "metadata": {},
   "outputs": [
    {
     "data": {
      "text/html": [
       "<div>\n",
       "<style scoped>\n",
       "    .dataframe tbody tr th:only-of-type {\n",
       "        vertical-align: middle;\n",
       "    }\n",
       "\n",
       "    .dataframe tbody tr th {\n",
       "        vertical-align: top;\n",
       "    }\n",
       "\n",
       "    .dataframe thead th {\n",
       "        text-align: right;\n",
       "    }\n",
       "</style>\n",
       "<table border=\"1\" class=\"dataframe\">\n",
       "  <thead>\n",
       "    <tr style=\"text-align: right;\">\n",
       "      <th></th>\n",
       "      <th>file</th>\n",
       "      <th>subject</th>\n",
       "      <th>iso</th>\n",
       "      <th>uri</th>\n",
       "      <th>type</th>\n",
       "      <th>publisher</th>\n",
       "      <th>title</th>\n",
       "      <th>issued</th>\n",
       "      <th>accessioned</th>\n",
       "      <th>citation</th>\n",
       "      <th>...</th>\n",
       "      <th>abstract</th>\n",
       "      <th>long_name</th>\n",
       "      <th>author_order</th>\n",
       "      <th>shortend_names</th>\n",
       "      <th>identifier_x</th>\n",
       "      <th>ref</th>\n",
       "      <th>ref_parsed</th>\n",
       "      <th>year</th>\n",
       "      <th>identifier_y</th>\n",
       "      <th>author</th>\n",
       "    </tr>\n",
       "  </thead>\n",
       "  <tbody>\n",
       "    <tr>\n",
       "      <th>73761</th>\n",
       "      <td>import2018_274</td>\n",
       "      <td>['STEM', 'design', 'CSCL']</td>\n",
       "      <td>en</td>\n",
       "      <td>https://doi.dx.org/10.22318/cscl2018.1259</td>\n",
       "      <td>Book chapter</td>\n",
       "      <td>International Society of the Learning Science...</td>\n",
       "      <td>Knowledge Integration in the Digital Age: Traj...</td>\n",
       "      <td>2018-07</td>\n",
       "      <td>2018-11-04 23:27:28+00:00</td>\n",
       "      <td>Linn, M., Eylon, B., Kidron, A., Gerard, L., T...</td>\n",
       "      <td>...</td>\n",
       "      <td>Researchers from around the world have shaped ...</td>\n",
       "      <td>Hurwich, Talia A</td>\n",
       "      <td>20</td>\n",
       "      <td>Barnes</td>\n",
       "      <td>NaN</td>\n",
       "      <td>Fischer, F., Kollar, I., Stegmann, K., &amp; Wecke...</td>\n",
       "      <td>Fischer, F., Kollar, I., Stegmann, K., &amp; Wecke...</td>\n",
       "      <td>2013.0</td>\n",
       "      <td>Fischer, F., Kollar, I., Stegmann, K., &amp; Wecke...</td>\n",
       "      <td>Fischer F.</td>\n",
       "    </tr>\n",
       "    <tr>\n",
       "      <th>64250</th>\n",
       "      <td>import2018_32</td>\n",
       "      <td>['representational competencies', 'sense makin...</td>\n",
       "      <td>en</td>\n",
       "      <td>https://doi.dx.org/10.22318/cscl2018.264</td>\n",
       "      <td>Book chapter</td>\n",
       "      <td>International Society of the Learning Science...</td>\n",
       "      <td>Sequencing Support for Sense Making and Percep...</td>\n",
       "      <td>2018-07</td>\n",
       "      <td>2018-11-04 23:14:21+00:00</td>\n",
       "      <td>Rau, M. A. &amp; Zahn, M. R. (2018). Sequencing Su...</td>\n",
       "      <td>...</td>\n",
       "      <td>We tend to assume that visuals help students l...</td>\n",
       "      <td>Rau, Martina A.</td>\n",
       "      <td>0</td>\n",
       "      <td>Rau M. A.</td>\n",
       "      <td>Rau, M. A. &amp; Zahn, M. R. (2018). Sequencing Su...</td>\n",
       "      <td>Goldstone, R. L., Schyns, P. G., &amp; Medin, D. L...</td>\n",
       "      <td>Goldstone, R. L., Schyns, P. G., &amp; Medin, D. L...</td>\n",
       "      <td>1997.0</td>\n",
       "      <td>Goldstone, R. L., Schyns, P. G., &amp; Medin, D. L...</td>\n",
       "      <td>Goldstone R. L.</td>\n",
       "    </tr>\n",
       "  </tbody>\n",
       "</table>\n",
       "<p>2 rows × 21 columns</p>\n",
       "</div>"
      ],
      "text/plain": [
       "                 file                                            subject iso  \\\n",
       "73761  import2018_274                         ['STEM', 'design', 'CSCL']  en   \n",
       "64250   import2018_32  ['representational competencies', 'sense makin...  en   \n",
       "\n",
       "                                             uri          type  \\\n",
       "73761  https://doi.dx.org/10.22318/cscl2018.1259  Book chapter   \n",
       "64250   https://doi.dx.org/10.22318/cscl2018.264  Book chapter   \n",
       "\n",
       "                                               publisher  \\\n",
       "73761   International Society of the Learning Science...   \n",
       "64250   International Society of the Learning Science...   \n",
       "\n",
       "                                                   title   issued  \\\n",
       "73761  Knowledge Integration in the Digital Age: Traj...  2018-07   \n",
       "64250  Sequencing Support for Sense Making and Percep...  2018-07   \n",
       "\n",
       "                     accessioned  \\\n",
       "73761  2018-11-04 23:27:28+00:00   \n",
       "64250  2018-11-04 23:14:21+00:00   \n",
       "\n",
       "                                                citation       ...         \\\n",
       "73761  Linn, M., Eylon, B., Kidron, A., Gerard, L., T...       ...          \n",
       "64250  Rau, M. A. & Zahn, M. R. (2018). Sequencing Su...       ...          \n",
       "\n",
       "                                                abstract         long_name  \\\n",
       "73761  Researchers from around the world have shaped ...  Hurwich, Talia A   \n",
       "64250  We tend to assume that visuals help students l...   Rau, Martina A.   \n",
       "\n",
       "      author_order  shortend_names  \\\n",
       "73761           20          Barnes   \n",
       "64250            0       Rau M. A.   \n",
       "\n",
       "                                            identifier_x  \\\n",
       "73761                                                NaN   \n",
       "64250  Rau, M. A. & Zahn, M. R. (2018). Sequencing Su...   \n",
       "\n",
       "                                                     ref  \\\n",
       "73761  Fischer, F., Kollar, I., Stegmann, K., & Wecke...   \n",
       "64250  Goldstone, R. L., Schyns, P. G., & Medin, D. L...   \n",
       "\n",
       "                                              ref_parsed    year  \\\n",
       "73761  Fischer, F., Kollar, I., Stegmann, K., & Wecke...  2013.0   \n",
       "64250  Goldstone, R. L., Schyns, P. G., & Medin, D. L...  1997.0   \n",
       "\n",
       "                                            identifier_y           author  \n",
       "73761  Fischer, F., Kollar, I., Stegmann, K., & Wecke...       Fischer F.  \n",
       "64250  Goldstone, R. L., Schyns, P. G., & Medin, D. L...  Goldstone R. L.  \n",
       "\n",
       "[2 rows x 21 columns]"
      ]
     },
     "execution_count": 13,
     "metadata": {},
     "output_type": "execute_result"
    }
   ],
   "source": [
    "reference_edges = pd.merge(metadata, reference_authors, on='file')\n",
    "\n",
    "reference_edges.sample(2)"
   ]
  },
  {
   "cell_type": "markdown",
   "metadata": {},
   "source": [
    "#### We look at how the references are distributed over the years:"
   ]
  },
  {
   "cell_type": "code",
   "execution_count": 14,
   "metadata": {},
   "outputs": [
    {
     "data": {
      "text/plain": [
       "<matplotlib.axes._subplots.AxesSubplot at 0x1a1c9e99b0>"
      ]
     },
     "execution_count": 14,
     "metadata": {},
     "output_type": "execute_result"
    },
    {
     "data": {
      "image/png": "[encoded data removed]",
      "text/plain": [
       "<Figure size 432x288 with 1 Axes>"
      ]
     },
     "metadata": {
      "needs_background": "light"
     },
     "output_type": "display_data"
    }
   ],
   "source": [
    "references.year.plot(kind='box')"
   ]
  },
  {
   "cell_type": "code",
   "execution_count": 15,
   "metadata": {},
   "outputs": [],
   "source": [
    "reference_edges.rename(columns={'shortend_names': 'author', 'author': 'cited'}, inplace=True)"
   ]
  },
  {
   "cell_type": "markdown",
   "metadata": {},
   "source": [
    "We don't see much but CSCL has less early (pree 1920) outiers"
   ]
  },
  {
   "cell_type": "code",
   "execution_count": 16,
   "metadata": {},
   "outputs": [
    {
     "data": {
      "text/plain": [
       "<seaborn.axisgrid.FacetGrid at 0x1a1ca362e8>"
      ]
     },
     "execution_count": 16,
     "metadata": {},
     "output_type": "execute_result"
    },
    {
     "data": {
      "image/png": "[encoded data removed]",
      "text/plain": [
       "<Figure size 360x360 with 1 Axes>"
      ]
     },
     "metadata": {
      "needs_background": "light"
     },
     "output_type": "display_data"
    }
   ],
   "source": [
    "sns.catplot(data=reference_edges[['ref','issued', 'year']][~reference_edges.ref.duplicated()], x='issued', y='year', kind='box')"
   ]
  },
  {
   "cell_type": "markdown",
   "metadata": {},
   "source": [
    "We have an interesting shift to newer sources in 2018:"
   ]
  },
  {
   "cell_type": "code",
   "execution_count": 17,
   "metadata": {},
   "outputs": [
    {
     "data": {
      "text/plain": [
       "issued\n",
       "2015-07    2004.944413\n",
       "2016-07    2004.681293\n",
       "2017-07    2006.698529\n",
       "2018-07    2007.583138\n",
       "Name: year, dtype: float64"
      ]
     },
     "execution_count": 17,
     "metadata": {},
     "output_type": "execute_result"
    }
   ],
   "source": [
    "reference_edges[['ref','issued', 'year']][~reference_edges.ref.duplicated()].groupby('issued').year.mean()"
   ]
  },
  {
   "cell_type": "code",
   "execution_count": 18,
   "metadata": {},
   "outputs": [
    {
     "data": {
      "text/plain": [
       "issued\n",
       "2015-07    2008.0\n",
       "2016-07    2008.0\n",
       "2017-07    2009.0\n",
       "2018-07    2011.0\n",
       "Name: year, dtype: float64"
      ]
     },
     "execution_count": 18,
     "metadata": {},
     "output_type": "execute_result"
    }
   ],
   "source": [
    "reference_edges[['ref','issued', 'year']][~reference_edges.ref.duplicated()].groupby('issued').year.median()"
   ]
  },
  {
   "cell_type": "markdown",
   "metadata": {},
   "source": [
    "## Analyzing author reference relationship\n",
    "\n",
    "### Self citations:"
   ]
  },
  {
   "cell_type": "code",
   "execution_count": 19,
   "metadata": {},
   "outputs": [
    {
     "data": {
      "text/plain": [
       "Zhang J.           80\n",
       "Rummel N.          61\n",
       "Trausan-Matu S.    50\n",
       "Sharma K.          35\n",
       "Kollar I.          27\n",
       "Name: author, dtype: int64"
      ]
     },
     "execution_count": 19,
     "metadata": {},
     "output_type": "execute_result"
    }
   ],
   "source": [
    "reference_edges[reference_edges.author == reference_edges.cited].author.value_counts().head()"
   ]
  },
  {
   "cell_type": "markdown",
   "metadata": {},
   "source": [
    "### Number of authors in and out of conference"
   ]
  },
  {
   "cell_type": "markdown",
   "metadata": {},
   "source": [
    "In and out of conference citations, quick calculation:"
   ]
  },
  {
   "cell_type": "code",
   "execution_count": 20,
   "metadata": {
    "scrolled": true
   },
   "outputs": [
    {
     "name": "stdout",
     "output_type": "stream",
     "text": [
      "Number of distinct authors  1444\n",
      "Number of distinct cited authors by some author in the conference  13224\n",
      "Number of authors that where cited by an other author in the confernce : 806\n"
     ]
    }
   ],
   "source": [
    "print('Number of distinct authors ', len(reference_edges.author.unique()))\n",
    "print('Number of distinct cited authors by some author in the conference ', len(reference_edges.cited.unique()))\n",
    "print('Number of authors that where cited by an other author in the confernce :' , len(set(reference_edges.cited.tolist()).intersection(set(reference_edges.author.tolist()))))"
   ]
  },
  {
   "cell_type": "code",
   "execution_count": 21,
   "metadata": {},
   "outputs": [],
   "source": [
    "reference_edges = reference_edges[['cited', 'author', 'year', 'ref']][reference_edges.year.notna()]"
   ]
  },
  {
   "cell_type": "markdown",
   "metadata": {},
   "source": [
    "Example of how one can match the string:"
   ]
  },
  {
   "cell_type": "code",
   "execution_count": 22,
   "metadata": {},
   "outputs": [
    {
     "data": {
      "text/plain": [
       "<re.Match object; span=(7, 11), match='ICLS'>"
      ]
     },
     "execution_count": 22,
     "metadata": {},
     "output_type": "execute_result"
    }
   ],
   "source": [
    "match_conference = ' JLS |Journal of the Learning Sciences|CSCL|ICLS|ijCSCL|Computer(-| |)Supported Collaborative Learning'\n",
    "re.search(match_conference,'bjfejf ICLS')"
   ]
  },
  {
   "cell_type": "markdown",
   "metadata": {},
   "source": [
    "Find references belong to conference:"
   ]
  },
  {
   "cell_type": "code",
   "execution_count": 23,
   "metadata": {},
   "outputs": [],
   "source": [
    "mask_c_s = reference_edges.ref.map(lambda x: True if re.search(match_conference, x) else False)"
   ]
  },
  {
   "cell_type": "code",
   "execution_count": 24,
   "metadata": {},
   "outputs": [],
   "source": [
    "in_conference = set(reference_edges[mask_c_s].cited.unique())"
   ]
  },
  {
   "cell_type": "markdown",
   "metadata": {},
   "source": [
    "We limit the range of years to get people that are still \"active\""
   ]
  },
  {
   "cell_type": "code",
   "execution_count": 25,
   "metadata": {},
   "outputs": [],
   "source": [
    "not_in_conference = list(set(reference_edges[reference_edges.year > 2010].cited) - in_conference.union(set(reference_edges.author)))"
   ]
  },
  {
   "cell_type": "code",
   "execution_count": 26,
   "metadata": {},
   "outputs": [
    {
     "data": {
      "text/plain": [
       "<matplotlib.axes._subplots.AxesSubplot at 0x1a1d33a2b0>"
      ]
     },
     "execution_count": 26,
     "metadata": {},
     "output_type": "execute_result"
    },
    {
     "data": {
      "image/png": "[encoded data removed]",
      "text/plain": [
       "<Figure size 432x288 with 1 Axes>"
      ]
     },
     "metadata": {
      "needs_background": "light"
     },
     "output_type": "display_data"
    }
   ],
   "source": [
    "#todo: filter out organisations\n",
    "# todo: deal with non overlapping names\n",
    "plt.title('Most cited authors that have not participated in conference')\n",
    "plt.ylabel('number of times cited')\n",
    "# check that not in conference and is indeed author\n",
    "is_human = reference_edges.dropna().cited.map(lambda x: True if reg.search(r'\\p{Lu}\\.',x) else False)\n",
    "reference_edges[(reference_edges.cited.isin(not_in_conference)) & (is_human)].cited.value_counts().head(20).plot(kind = 'bar')"
   ]
  },
  {
   "cell_type": "code",
   "execution_count": 27,
   "metadata": {},
   "outputs": [
    {
     "data": {
      "text/plain": [
       "['Goodwin, C. (2007). Participation, stance and affect in the organization of activities. Discourse & Society, 18(1, Special issue: Morality as family practice), 53–73.',\n",
       " 'Goodwin, C. (2010). Things and their embodied environments. In L. Malafouris & C. Renfrew (Eds.), The cognitive life of things: Recasting the boundaries of the mind (pp. 103–120). Cambridge, UK: McDonald Institute for Archaeological Research.',\n",
       " 'Goodwin, C., & Heritage, J. (1990). Conversation analysis. Annual review of anthropology, 19(1), 283-307.',\n",
       " 'Goodwin, C. (1994). Professional vision. American anthropologist, 96(3), 606-633.']"
      ]
     },
     "execution_count": 27,
     "metadata": {},
     "output_type": "execute_result"
    }
   ],
   "source": [
    "reference_edges[(reference_edges.cited.isin(not_in_conference)) & (reference_edges.cited == 'Goodwin C.')].ref.sample(4).tolist()"
   ]
  },
  {
   "cell_type": "code",
   "execution_count": 28,
   "metadata": {},
   "outputs": [
    {
     "data": {
      "text/plain": [
       "['Gee, J. P. (2007). Good videogames and good learning: Collected essays on video games. New York, NY: Peter Lang Publishing.',\n",
       " 'Gee, J. P. (2008). Learning and games. The ecology of games: Connecting youth, games, and learning, 3, 21-40.',\n",
       " 'Gee, J. P. (2007). Good videogames and good learning: Collected essays on video games. New York, NY: Peter Lang Publishing.',\n",
       " 'Gee, J. P. (1999). An introduction to discourse analysis. New York: Routledge.']"
      ]
     },
     "execution_count": 28,
     "metadata": {},
     "output_type": "execute_result"
    }
   ],
   "source": [
    "reference_edges[(reference_edges.cited.isin(not_in_conference)) & (reference_edges.cited == 'Gee J. P.')].ref.sample(4).tolist()"
   ]
  },
  {
   "cell_type": "markdown",
   "metadata": {},
   "source": [
    "# extracting conference, journal from refrence string"
   ]
  },
  {
   "cell_type": "markdown",
   "metadata": {},
   "source": [
    "Example of how we can split up the text, which is later used to extract the conference/journal if present:"
   ]
  },
  {
   "cell_type": "code",
   "execution_count": 29,
   "metadata": {},
   "outputs": [
    {
     "data": {
      "text/plain": [
       "['Simis, M. J., Madden, H., Cacciatore, M. A., & Yeo, S. K. (2016)',\n",
       " '.',\n",
       " 'The lure of rationality: Why does the deficit model persist in science communication',\n",
       " '?',\n",
       " 'Public Understanding of Science, 25(4), 400–414. http://doi.org/10.1177/0963662516629749']"
      ]
     },
     "execution_count": 29,
     "metadata": {},
     "output_type": "execute_result"
    }
   ],
   "source": [
    "text = references.sample().ref.item()\n",
    "split_ref = r'(\\.|\\?) (?=[\\p{Lu}][\\p{L}])'\n",
    "reg.split(split_ref, text)"
   ]
  },
  {
   "cell_type": "markdown",
   "metadata": {},
   "source": [
    "We now define a regex that will catch up on words indicating a relation to a conference and then extract and clean the string to get a conference name:\n",
    "\n",
    "_TODO: include symposium or not?_"
   ]
  },
  {
   "cell_type": "code",
   "execution_count": 30,
   "metadata": {},
   "outputs": [],
   "source": [
    "#regex to find journals or conferences\n",
    "pub = '(C|c)onference|(P|p)roceedings|(j|J)ournal|(T|t)ransactions|(s|S)ymposium'\n",
    "re.search(pub, text)"
   ]
  },
  {
   "cell_type": "code",
   "execution_count": 213,
   "metadata": {},
   "outputs": [
    {
     "data": {
      "text/plain": [
       "'international conference of (the |)learning sciences| jls |journal of the learning sciences|cscl|icls|ijcscl|computer(-| |)supported collaborative learning'"
      ]
     },
     "execution_count": 213,
     "metadata": {},
     "output_type": "execute_result"
    }
   ],
   "source": [
    "#set to lower for better matching\n",
    "match_conference = 'International Conference of (the |)Learning Sciences| JLS |Journal of the Learning Sciences|CSCL|ICLS|ijCSCL|Computer(-| |)Supported Collaborative Learning'\n",
    "match_conference.lower()"
   ]
  },
  {
   "cell_type": "code",
   "execution_count": 352,
   "metadata": {},
   "outputs": [],
   "source": [
    "import nltk\n",
    "from nltk import word_tokenize\n",
    "def clean_string(x):\n",
    "    \n",
    "    x = x.lower() # lower to ignore case\n",
    "    \n",
    "    x = re.sub('[\\'\\\"\\”\\/\\d]*', '', x) #sub out elements that might cause same string to be diff\n",
    "    x = re.sub(' & ', ' and ', x) # common spelling issue\n",
    "    x = re.sub(' th | nd | rd | st | volume |—|  |-', ' ', x)\n",
    "    x = re.sub(' on ', ' of ', x)\n",
    "    x = x.strip()\n",
    "    x = ' '.join([ z for z,y in nltk.pos_tag(word_tokenize(x)) if not y in ['CD', ':','$' ]])\n",
    "    return x"
   ]
  },
  {
   "cell_type": "code",
   "execution_count": 353,
   "metadata": {},
   "outputs": [
    {
     "data": {
      "text/plain": [
       "<re.Match object; span=(25, 66), match='computer supported collaborative learning'>"
      ]
     },
     "execution_count": 353,
     "metadata": {},
     "output_type": "execute_result"
    }
   ],
   "source": [
    "re.search(match_conference.lower(), clean_string('international journal of computer-supported collaborative learning'))"
   ]
  },
  {
   "cell_type": "code",
   "execution_count": 354,
   "metadata": {},
   "outputs": [
    {
     "data": {
      "text/plain": [
       "'international journal of computer supported collaborative learning'"
      ]
     },
     "execution_count": 354,
     "metadata": {},
     "output_type": "execute_result"
    }
   ],
   "source": [
    "clean_string('international journal of computer-supported collaborative learning')"
   ]
  },
  {
   "cell_type": "code",
   "execution_count": 355,
   "metadata": {},
   "outputs": [],
   "source": [
    "mask = references.ref.map(lambda x: True if \n",
    "                          (re.search(pub, x) and not\n",
    "                          re.search(match_conference.lower(), clean_string(x))) else False)"
   ]
  },
  {
   "cell_type": "code",
   "execution_count": 356,
   "metadata": {},
   "outputs": [],
   "source": [
    "sources = references[mask].ref.map(lambda x: \n",
    "                            [y for y in reg.split(split_ref, x) \n",
    "                             if re.search(pub, y)\n",
    "                            ][0])"
   ]
  },
  {
   "cell_type": "code",
   "execution_count": 357,
   "metadata": {},
   "outputs": [
    {
     "data": {
      "text/plain": [
       "(3170,)"
      ]
     },
     "execution_count": 357,
     "metadata": {},
     "output_type": "execute_result"
    }
   ],
   "source": [
    "sources.shape"
   ]
  },
  {
   "cell_type": "markdown",
   "metadata": {},
   "source": [
    "Is this CSCL ?"
   ]
  },
  {
   "cell_type": "code",
   "execution_count": 358,
   "metadata": {},
   "outputs": [
    {
     "data": {
      "text/plain": [
       "'In The first international conference on Computer support for collaborative learning (pp. 67-74). L'"
      ]
     },
     "execution_count": 358,
     "metadata": {},
     "output_type": "execute_result"
    }
   ],
   "source": [
    "sources[14589]"
   ]
  },
  {
   "cell_type": "code",
   "execution_count": 359,
   "metadata": {},
   "outputs": [],
   "source": [
    "sources = sources.map(lambda x: clean_string(x))"
   ]
  },
  {
   "cell_type": "code",
   "execution_count": 360,
   "metadata": {},
   "outputs": [],
   "source": [
    "def strip_garbage(s):\n",
    "    r = [y.strip() for y in reg.split(r'\\.|\\,|\\?|\\;|\\(|\\)', s) if re.search(pub.lower(), y)]\n",
    "    if len(r) > 0:\n",
    "        return r[0]\n",
    "    else:\n",
    "        print(s)\n",
    "        return None"
   ]
  },
  {
   "cell_type": "code",
   "execution_count": 361,
   "metadata": {
    "scrolled": false
   },
   "outputs": [],
   "source": [
    "sources = sources.map(lambda x: strip_garbage(x))#.map(lambda x: x[0] if len(x) > 0 else )"
   ]
  },
  {
   "cell_type": "code",
   "execution_count": 362,
   "metadata": {},
   "outputs": [
    {
     "data": {
      "text/plain": [
       "['international journal of mobile humancomputer interaction',\n",
       " 'journal of college student development',\n",
       " 'international journal of artificial intelligence in education',\n",
       " 'paper presented at the annual conference of psychology of programming interest group',\n",
       " 'british journal of music education',\n",
       " 'journal of educational psychology',\n",
       " 'th hawaii international conference of',\n",
       " 'journal of research of technology in education',\n",
       " 'journal of educational psychology',\n",
       " 'international journal of artificial intelligence and education']"
      ]
     },
     "execution_count": 362,
     "metadata": {},
     "output_type": "execute_result"
    }
   ],
   "source": [
    "sources.sample(10).tolist()"
   ]
  },
  {
   "cell_type": "markdown",
   "metadata": {},
   "source": [
    "Note: People like to misspell CSCL spell it in various forms.."
   ]
  },
  {
   "cell_type": "markdown",
   "metadata": {},
   "source": [
    "## Most cited non  CSCL and ISCL conferences:"
   ]
  },
  {
   "cell_type": "code",
   "execution_count": 363,
   "metadata": {},
   "outputs": [
    {
     "data": {
      "text/plain": [
       "<matplotlib.axes._subplots.AxesSubplot at 0x1a2856a6d8>"
      ]
     },
     "execution_count": 363,
     "metadata": {},
     "output_type": "execute_result"
    },
    {
     "data": {
      "image/png": "[encoded data removed]",
      "text/plain": [
       "<Figure size 432x288 with 1 Axes>"
      ]
     },
     "metadata": {
      "needs_background": "light"
     },
     "output_type": "display_data"
    }
   ],
   "source": [
    "sources.value_counts().head(20).plot(kind='bar')"
   ]
  },
  {
   "cell_type": "code",
   "execution_count": 368,
   "metadata": {},
   "outputs": [
    {
     "data": {
      "text/plain": [
       "of the conference of interaction design and children                                                                          1\n",
       "in proceedings of eiah                                                                                                        1\n",
       "canadian journal of learning and technologyla revue canadienne de l ’ apprentissage et de la technologie [ online ]           1\n",
       "international journal of e learning                                                                                           1\n",
       "fablearn conference                                                                                                           1\n",
       "and makerspaces a discourse analysis of professional journal articles and blog posts about makerspaces in public libraries    1\n",
       "ieee transactions of biomedical engineering                                                                                   1\n",
       "international journal of multiple research approaches                                                                         1\n",
       "research trends of socioscientific issues a content analysis of publications in selected science education journals           1\n",
       "british journal of surgery                                                                                                    1\n",
       "Name: ref, dtype: int64"
      ]
     },
     "execution_count": 368,
     "metadata": {},
     "output_type": "execute_result"
    }
   ],
   "source": [
    "sources.value_counts().tail(10)"
   ]
  },
  {
   "cell_type": "markdown",
   "metadata": {},
   "source": [
    "We analyze how heavy the tail is to find whether we should work on parsing the tail or not:"
   ]
  },
  {
   "cell_type": "code",
   "execution_count": 365,
   "metadata": {},
   "outputs": [],
   "source": [
    "conference_counts = sources.value_counts()"
   ]
  },
  {
   "cell_type": "code",
   "execution_count": 366,
   "metadata": {},
   "outputs": [
    {
     "data": {
      "text/plain": [
       "1117"
      ]
     },
     "execution_count": 366,
     "metadata": {},
     "output_type": "execute_result"
    }
   ],
   "source": [
    "conference_counts[conference_counts >= 20].sum()"
   ]
  },
  {
   "cell_type": "code",
   "execution_count": 367,
   "metadata": {},
   "outputs": [
    {
     "data": {
      "text/plain": [
       "2053"
      ]
     },
     "execution_count": 367,
     "metadata": {},
     "output_type": "execute_result"
    }
   ],
   "source": [
    "conference_counts[conference_counts < 20].sum()"
   ]
  },
  {
   "cell_type": "markdown",
   "metadata": {},
   "source": [
    "Conclusion: As the tail accounts for a lage number of conferences better parsing might cause a shift in the most popular conferences. Hence we look into getting more uniform names"
   ]
  },
  {
   "cell_type": "markdown",
   "metadata": {},
   "source": [
    "A first idea is to look at acronyms..: https://en.wikipedia.org/wiki/List_of_computer_science_conference_acronyms"
   ]
  },
  {
   "cell_type": "code",
   "execution_count": 315,
   "metadata": {},
   "outputs": [],
   "source": [
    "import urllib3\n",
    "from bs4 import BeautifulSoup"
   ]
  },
  {
   "cell_type": "code",
   "execution_count": 316,
   "metadata": {},
   "outputs": [
    {
     "name": "stderr",
     "output_type": "stream",
     "text": [
      "/anaconda3/lib/python3.7/site-packages/urllib3/connectionpool.py:857: InsecureRequestWarning: Unverified HTTPS request is being made. Adding certificate verification is strongly advised. See: https://urllib3.readthedocs.io/en/latest/advanced-usage.html#ssl-warnings\n",
      "  InsecureRequestWarning)\n"
     ]
    }
   ],
   "source": [
    "url = 'https://en.wikipedia.org/wiki/List_of_computer_science_conference_acronyms'\n",
    "http_pool = urllib3.connection_from_url(url)\n",
    "r = http_pool.urlopen('GET',url)\n",
    "data = r.data\n",
    "soup = BeautifulSoup(data, 'html.parser')\n",
    "conferences_noisy = soup.find_all('div', class_='mw-parser-output')[0].find_all('li')\n",
    "abrev_df = pd.DataFrame([c.text.split(' – ') for c in conferences_noisy if reg.search('–', c.text)], columns=['abreviation', 'full_name'])"
   ]
  },
  {
   "cell_type": "markdown",
   "metadata": {},
   "source": [
    "The gives us the following list:"
   ]
  },
  {
   "cell_type": "code",
   "execution_count": 317,
   "metadata": {},
   "outputs": [
    {
     "data": {
      "text/html": [
       "<div>\n",
       "<style scoped>\n",
       "    .dataframe tbody tr th:only-of-type {\n",
       "        vertical-align: middle;\n",
       "    }\n",
       "\n",
       "    .dataframe tbody tr th {\n",
       "        vertical-align: top;\n",
       "    }\n",
       "\n",
       "    .dataframe thead th {\n",
       "        text-align: right;\n",
       "    }\n",
       "</style>\n",
       "<table border=\"1\" class=\"dataframe\">\n",
       "  <thead>\n",
       "    <tr style=\"text-align: right;\">\n",
       "      <th></th>\n",
       "      <th>abreviation</th>\n",
       "      <th>full_name</th>\n",
       "    </tr>\n",
       "  </thead>\n",
       "  <tbody>\n",
       "    <tr>\n",
       "      <th>0</th>\n",
       "      <td>AAAI</td>\n",
       "      <td>AAAI Conference on Artificial Intelligence</td>\n",
       "    </tr>\n",
       "    <tr>\n",
       "      <th>1</th>\n",
       "      <td>AAMAS</td>\n",
       "      <td>International Conference on Autonomous Agents ...</td>\n",
       "    </tr>\n",
       "    <tr>\n",
       "      <th>2</th>\n",
       "      <td>ABZ</td>\n",
       "      <td>International Conference on Abstract State Mac...</td>\n",
       "    </tr>\n",
       "    <tr>\n",
       "      <th>3</th>\n",
       "      <td>ACL</td>\n",
       "      <td>Annual Meeting of the Association for Computat...</td>\n",
       "    </tr>\n",
       "    <tr>\n",
       "      <th>4</th>\n",
       "      <td>ALGO</td>\n",
       "      <td>ALGO Conference</td>\n",
       "    </tr>\n",
       "  </tbody>\n",
       "</table>\n",
       "</div>"
      ],
      "text/plain": [
       "  abreviation                                          full_name\n",
       "0        AAAI         AAAI Conference on Artificial Intelligence\n",
       "1       AAMAS  International Conference on Autonomous Agents ...\n",
       "2         ABZ  International Conference on Abstract State Mac...\n",
       "3         ACL  Annual Meeting of the Association for Computat...\n",
       "4        ALGO                                    ALGO Conference"
      ]
     },
     "execution_count": 317,
     "metadata": {},
     "output_type": "execute_result"
    }
   ],
   "source": [
    "abrev_df.head()"
   ]
  },
  {
   "cell_type": "markdown",
   "metadata": {},
   "source": [
    "Constricting regex for easier searching on both columns:"
   ]
  },
  {
   "cell_type": "code",
   "execution_count": 318,
   "metadata": {},
   "outputs": [
    {
     "data": {
      "text/plain": [
       "'aaai | aamas | abz | acl | algo | amcis | ants | ares | asiacrypt | asp-dac | ase | aswec | atmos | cade | cav | cc | ccsc | ches | chi | ciaa | cibb | cicling | cidr | cikm | crypto | cusec | cvpr | dac | date | dcfs | disc | dlt | dsn | ecai | ecco | ecis | ecml pkdd | ecoop | ecss | esa | esop | eswc | etaps | eurocrypt | eurographics | ewsn | fase | fast | fcrc | floc | focs | forte | fossacs | fse | ftp | gd | globecom | graphicon | hicss | hipc | hopl | hot interconnects | icalp | icassp | iccad | icc | iccit | iccv | icdcs | icfp | icis | icl | iclp | icml | icpads | icse | icsoc | icsr | icter | icws | ijcai | ijcar | ijcbs | indocrypt | ipdps | ipsn | isaac | isca | iscas | ismar | iswc | ispd | isscc | iswc | kdd | lics | lrec | mm | mobicom | mobihoc | mobilehci | naacl | nips | nime | oopsla | pacis | pimrc | pkc | pkdd | pldi | plop | podc | pods | popl | post | ppopp | psb | recomb | rev | rsa | rta | sac | sac | same | seams | sefm | sensys | sigcomm | sigcse | sigdoc | siggraph | sigir | sigmod | somet | spaa | srds | stacs | stoc | swat | tableaux | tacas | tamc | tcc | tphols | tsd | usenix | vis | vldb | wabi | wads | wae | waoa | wdag | wikisym | wine | wlan | wmsci | www | zum'"
      ]
     },
     "execution_count": 318,
     "metadata": {},
     "output_type": "execute_result"
    }
   ],
   "source": [
    "conf_regex = ' | '.join(abrev_df.abreviation.map(lambda x: x.lower()).tolist())\n",
    "conf_regex"
   ]
  },
  {
   "cell_type": "code",
   "execution_count": 319,
   "metadata": {},
   "outputs": [
    {
     "data": {
      "text/plain": [
       "36"
      ]
     },
     "execution_count": 319,
     "metadata": {},
     "output_type": "execute_result"
    }
   ],
   "source": [
    "sources.map(lambda x: True if reg.search(conf_regex, x) else False).sum()"
   ]
  },
  {
   "cell_type": "code",
   "execution_count": 320,
   "metadata": {},
   "outputs": [
    {
     "data": {
      "text/plain": [
       " sigcse       29\n",
       " chi          28\n",
       "aaai           7\n",
       " same          5\n",
       " fast          5\n",
       " nips          5\n",
       " cicling       2\n",
       " siggraph      2\n",
       " zum           2\n",
       " post          2\n",
       " acl           2\n",
       " www           2\n",
       " usenix        1\n",
       " hicss         1\n",
       " vis           1\n",
       " wine          1\n",
       " sigdoc        1\n",
       " iswc          1\n",
       " sigir         1\n",
       " kdd           1\n",
       " ijcai         1\n",
       "Name: ref, dtype: int64"
      ]
     },
     "execution_count": 320,
     "metadata": {},
     "output_type": "execute_result"
    }
   ],
   "source": [
    "references.ref.map(lambda x: reg.search(conf_regex, x.lower()).group(0) if reg.search(conf_regex, x.lower()) else None).dropna().value_counts()"
   ]
  },
  {
   "cell_type": "code",
   "execution_count": 321,
   "metadata": {},
   "outputs": [],
   "source": [
    "conf_regex = ' |'.join(abrev_df.full_name.map(lambda x: x.lower()).tolist())"
   ]
  },
  {
   "cell_type": "code",
   "execution_count": 322,
   "metadata": {},
   "outputs": [
    {
     "data": {
      "text/plain": [
       " acm technical symposium on computer science education         19\n",
       " acm conference on human factors in computing systems           8\n",
       " international symposium on wearable computers                  2\n",
       " international joint conference on artificial intelligence      2\n",
       " conference on information and knowledge management             2\n",
       " acm international conference on design of communication        1\n",
       " annual international acm sigir conference                      1\n",
       " international conference on distributed computing systems      1\n",
       "aaai conference on artificial intelligence                      1\n",
       " international conference on software engineering               1\n",
       " world wide web conference                                      1\n",
       " international symposium on wikis and open collaboration        1\n",
       "Name: ref, dtype: int64"
      ]
     },
     "execution_count": 322,
     "metadata": {},
     "output_type": "execute_result"
    }
   ],
   "source": [
    "references.ref.map(lambda x: reg.search(conf_regex, x.lower()).group(0) if reg.search(conf_regex, x.lower()) else None).dropna().value_counts()"
   ]
  },
  {
   "cell_type": "markdown",
   "metadata": {},
   "source": [
    "We see that this doesn't add tooo much information, but it also indicates that people don't really seem to cute much form computer science conferences"
   ]
  },
  {
   "cell_type": "markdown",
   "metadata": {},
   "source": [
    "### Other conferences\n",
    "\n",
    "And other idea is to look at non enlish words that come up often, they might be conference names!"
   ]
  },
  {
   "cell_type": "code",
   "execution_count": 370,
   "metadata": {},
   "outputs": [],
   "source": [
    "import enchant\n",
    "#check if a word is english\n",
    "d = enchant.Dict(\"en_US\")"
   ]
  },
  {
   "cell_type": "code",
   "execution_count": 384,
   "metadata": {},
   "outputs": [
    {
     "data": {
      "text/plain": [
       "False"
      ]
     },
     "execution_count": 384,
     "metadata": {},
     "output_type": "execute_result"
    }
   ],
   "source": [
    "#some issues but works well\n",
    "d.check(\"online\")"
   ]
  },
  {
   "cell_type": "code",
   "execution_count": 380,
   "metadata": {},
   "outputs": [],
   "source": [
    "potential_abv = [word[0].upper()+word[1:] for sentence in sources.map(lambda x: word_tokenize(x)).tolist() for word in sentence if not d.check(word)]"
   ]
  },
  {
   "cell_type": "code",
   "execution_count": 391,
   "metadata": {},
   "outputs": [
    {
     "data": {
      "text/plain": [
       "Acm      138\n",
       "Ieee      85\n",
       "Idc       18\n",
       "Pre       16\n",
       "Lak       14\n",
       "Asee      10\n",
       "Icer       8\n",
       "Cscw       8\n",
       "Aaai       4\n",
       "Intl       3\n",
       "Igpme      3\n",
       "Earli      3\n",
       "Aied       3\n",
       "Icmi       3\n",
       "Bcs        3\n",
       "Edm        3\n",
       "Ets        2\n",
       "Ceur       2\n",
       "Admin      2\n",
       "Acl        2\n",
       "dtype: int64"
      ]
     },
     "execution_count": 391,
     "metadata": {},
     "output_type": "execute_result"
    }
   ],
   "source": [
    "pd.Series([p for p in potential_abv if not d.check(p) and len(p) > 2 and len(p) < 6]).value_counts().head(20)"
   ]
  },
  {
   "cell_type": "markdown",
   "metadata": {},
   "source": [
    "### Looking at the question of creating more uniform names:\n",
    "\n",
    "We use a similarity measure:\n",
    "\n",
    "This works somewhat okay, but probably not worth the effort given that this doesn't make sigchi and  ... computer human interaction the same conference"
   ]
  },
  {
   "cell_type": "code",
   "execution_count": 323,
   "metadata": {},
   "outputs": [
    {
     "data": {
      "text/plain": [
       "1.0"
      ]
     },
     "execution_count": 323,
     "metadata": {},
     "output_type": "execute_result"
    }
   ],
   "source": [
    "import difflib\n",
    "difflib.SequenceMatcher(None, 'hello', 'hello').ratio()"
   ]
  },
  {
   "cell_type": "code",
   "execution_count": 334,
   "metadata": {},
   "outputs": [],
   "source": [
    "d = {}"
   ]
  },
  {
   "cell_type": "code",
   "execution_count": 337,
   "metadata": {},
   "outputs": [],
   "source": [
    "for i, row in enumerate(sources.unique()):\n",
    "    for j, row_2 in enumerate(sources.unique()):\n",
    "        if i > j and row != row_2:\n",
    "            difference = difflib.SequenceMatcher(None, row, row_2).ratio()\n",
    "            if difference > 0.9:\n",
    "                if not row_2 in d.keys():\n",
    "                    d[row_2] = row"
   ]
  },
  {
   "cell_type": "code",
   "execution_count": 338,
   "metadata": {},
   "outputs": [
    {
     "data": {
      "text/plain": [
       "233"
      ]
     },
     "execution_count": 338,
     "metadata": {},
     "output_type": "execute_result"
    }
   ],
   "source": [
    "len(d)"
   ]
  },
  {
   "cell_type": "markdown",
   "metadata": {},
   "source": [
    "As everything is fairly regular, maybe rake can give us some titles? -> pretty much the same as we get anyway -> irregular titles are really just infequent"
   ]
  },
  {
   "cell_type": "code",
   "execution_count": 229,
   "metadata": {},
   "outputs": [],
   "source": [
    "import rake\n",
    "import operator"
   ]
  },
  {
   "cell_type": "code",
   "execution_count": 393,
   "metadata": {},
   "outputs": [
    {
     "data": {
      "text/plain": [
       "[('sigchi conference of human factors in computing systems',\n",
       "  54.123946851301206),\n",
       " ('acm conference of computer supported cooperative work', 44.935864777225866),\n",
       " ('acm technical symposium of computer science education', 42.35980681739533),\n",
       " ('journal of pre college engineering education research', 40.135182356284375),\n",
       " ('journal of research of technology in education', 39.16928709678454),\n",
       " ('conference of interaction design and children', 35.2335332858237),\n",
       " ('conference of learning analytics and knowledge', 34.97767513845663),\n",
       " ('journal of adolescent and adult literacy', 34.58936033874355),\n",
       " ('journal of artificial intelligence in education', 34.283014985822845),\n",
       " ('journal for research in mathematics education', 34.27898498777122),\n",
       " ('journal of research in science teaching', 34.15059196554651),\n",
       " ('journal of computers for mathematical learning', 33.97494871788647),\n",
       " ('journal of technology and design education', 33.9413210146235),\n",
       " ('journal of science education and technology', 33.894558737352746),\n",
       " ('journal of personality and social psychology', 33.71295510087559),\n",
       " ('journal of science and mathematics education', 33.660391351675436),\n",
       " ('journal of educational technology and society', 33.48782198773979),\n",
       " ('journal of technology and teacher education', 33.19209929203616),\n",
       " ('acm transactions of computing education', 28.973942381342287),\n",
       " ('conference of intelligent tutoring systems', 28.859697344548906),\n",
       " ('journal of human computer studies', 28.448668509695434),\n",
       " ('journal of learning and media', 27.974403073786288),\n",
       " ('journal of computer assisted learning', 27.15923045553776),\n",
       " ('journal of educational computing research', 27.092131401232507),\n",
       " ('ieee transactions of learning technologies', 26.550602963752397),\n",
       " ('journal of science teacher education', 26.500458896912157),\n",
       " ('british journal of educational technology', 26.002860828209666),\n",
       " ('british journal of educational psychology', 24.83748269962571),\n",
       " ('journal of learning analytics', 21.55256283259673),\n",
       " ('journal of science education', 21.520867060177462),\n",
       " ('journal of engineering education', 21.021742607394472),\n",
       " ('journal of experimental education', 20.866593555903957),\n",
       " ('ieee transactions of education', 20.84355949424249),\n",
       " ('journal of teacher education', 20.818407614860874),\n",
       " ('journal of educational research', 20.561519156334548),\n",
       " ('journal of applied psychology', 20.343186707847703),\n",
       " ('journal of mathematical behavior', 20.29416932736195),\n",
       " ('american journal of education', 20.18587460165559),\n",
       " ('journal of educational psychology', 19.944625556768568),\n",
       " ('journal of curriculum studies', 19.520450082333298),\n",
       " ('american educational research journal', 19.466717514747682),\n",
       " ('american journal of physics', 19.096675572529378)]"
      ]
     },
     "execution_count": 393,
     "metadata": {},
     "output_type": "execute_result"
    }
   ],
   "source": [
    "rake_object = rake.Rake(\"SmartStoplist.txt\", 26, 10, 10)\n",
    "keywords = rake_object.run(' . '.join(sources.tolist()))\n",
    "keywords"
   ]
  },
  {
   "cell_type": "markdown",
   "metadata": {},
   "source": [
    "## Again looking at the difference between CSCL and ICLS - outside citations:"
   ]
  },
  {
   "cell_type": "code",
   "execution_count": 398,
   "metadata": {},
   "outputs": [],
   "source": [
    "references['conference'] = sources"
   ]
  },
  {
   "cell_type": "code",
   "execution_count": 410,
   "metadata": {},
   "outputs": [],
   "source": [
    "references['cited_in'] = references.file.map(lambda x: int(re.search('[\\d]{4}',x).group(0)))"
   ]
  },
  {
   "cell_type": "code",
   "execution_count": 411,
   "metadata": {},
   "outputs": [
    {
     "data": {
      "text/html": [
       "<div>\n",
       "<style scoped>\n",
       "    .dataframe tbody tr th:only-of-type {\n",
       "        vertical-align: middle;\n",
       "    }\n",
       "\n",
       "    .dataframe tbody tr th {\n",
       "        vertical-align: top;\n",
       "    }\n",
       "\n",
       "    .dataframe thead th {\n",
       "        text-align: right;\n",
       "    }\n",
       "</style>\n",
       "<table border=\"1\" class=\"dataframe\">\n",
       "  <thead>\n",
       "    <tr style=\"text-align: right;\">\n",
       "      <th></th>\n",
       "      <th>ref</th>\n",
       "      <th>file</th>\n",
       "      <th>ref_parsed</th>\n",
       "      <th>year</th>\n",
       "      <th>identifier</th>\n",
       "      <th>conference</th>\n",
       "      <th>cited_in</th>\n",
       "    </tr>\n",
       "  </thead>\n",
       "  <tbody>\n",
       "    <tr>\n",
       "      <th>0</th>\n",
       "      <td>Lave, J., &amp; Wenger, E. (1991). Situated learni...</td>\n",
       "      <td>import2018_371</td>\n",
       "      <td>Lave, J., &amp; Wenger, E. (1991)</td>\n",
       "      <td>1991.0</td>\n",
       "      <td>Lave, J., &amp; Wenger, E. (1991). Situated learni...</td>\n",
       "      <td>NaN</td>\n",
       "      <td>2018</td>\n",
       "    </tr>\n",
       "    <tr>\n",
       "      <th>1</th>\n",
       "      <td>Miles, M. B., Huberman, A. M., &amp; Saldana, J. (...</td>\n",
       "      <td>import2018_371</td>\n",
       "      <td>Miles, M. B., Huberman, A. M., &amp; Saldana, J. (...</td>\n",
       "      <td>2013.0</td>\n",
       "      <td>Miles, M. B., Huberman, A. M., &amp; Saldana, J. (...</td>\n",
       "      <td>NaN</td>\n",
       "      <td>2018</td>\n",
       "    </tr>\n",
       "    <tr>\n",
       "      <th>2</th>\n",
       "      <td>Pea, R. D., Gomez, L. M., Edelson, D. C., Fish...</td>\n",
       "      <td>import2018_371</td>\n",
       "      <td>Pea, R. D., Gomez, L. M., Edelson, D. C., Fish...</td>\n",
       "      <td>1997.0</td>\n",
       "      <td>Pea, R. D., Gomez, L. M., Edelson, D. C., Fish...</td>\n",
       "      <td>NaN</td>\n",
       "      <td>2018</td>\n",
       "    </tr>\n",
       "    <tr>\n",
       "      <th>3</th>\n",
       "      <td>Rogoff, B. (1995). Observing sociocultural act...</td>\n",
       "      <td>import2018_371</td>\n",
       "      <td>Rogoff, B. (1995)</td>\n",
       "      <td>1995.0</td>\n",
       "      <td>Rogoff, B. (1995). Observing sociocultural act...</td>\n",
       "      <td>NaN</td>\n",
       "      <td>2018</td>\n",
       "    </tr>\n",
       "    <tr>\n",
       "      <th>4</th>\n",
       "      <td>Shirk, J., Ballard, H., Wilderman, C., Phillip...</td>\n",
       "      <td>import2018_371</td>\n",
       "      <td>Shirk, J., Ballard, H., Wilderman, C., Phillip...</td>\n",
       "      <td>2012.0</td>\n",
       "      <td>Shirk, J., Ballard, H., Wilderman, C., Phillip...</td>\n",
       "      <td>NaN</td>\n",
       "      <td>2018</td>\n",
       "    </tr>\n",
       "  </tbody>\n",
       "</table>\n",
       "</div>"
      ],
      "text/plain": [
       "                                                 ref            file  \\\n",
       "0  Lave, J., & Wenger, E. (1991). Situated learni...  import2018_371   \n",
       "1  Miles, M. B., Huberman, A. M., & Saldana, J. (...  import2018_371   \n",
       "2  Pea, R. D., Gomez, L. M., Edelson, D. C., Fish...  import2018_371   \n",
       "3  Rogoff, B. (1995). Observing sociocultural act...  import2018_371   \n",
       "4  Shirk, J., Ballard, H., Wilderman, C., Phillip...  import2018_371   \n",
       "\n",
       "                                          ref_parsed    year  \\\n",
       "0                      Lave, J., & Wenger, E. (1991)  1991.0   \n",
       "1  Miles, M. B., Huberman, A. M., & Saldana, J. (...  2013.0   \n",
       "2  Pea, R. D., Gomez, L. M., Edelson, D. C., Fish...  1997.0   \n",
       "3                                  Rogoff, B. (1995)  1995.0   \n",
       "4  Shirk, J., Ballard, H., Wilderman, C., Phillip...  2012.0   \n",
       "\n",
       "                                          identifier conference  cited_in  \n",
       "0  Lave, J., & Wenger, E. (1991). Situated learni...        NaN      2018  \n",
       "1  Miles, M. B., Huberman, A. M., & Saldana, J. (...        NaN      2018  \n",
       "2  Pea, R. D., Gomez, L. M., Edelson, D. C., Fish...        NaN      2018  \n",
       "3  Rogoff, B. (1995). Observing sociocultural act...        NaN      2018  \n",
       "4  Shirk, J., Ballard, H., Wilderman, C., Phillip...        NaN      2018  "
      ]
     },
     "execution_count": 411,
     "metadata": {},
     "output_type": "execute_result"
    }
   ],
   "source": [
    "references.head()"
   ]
  },
  {
   "cell_type": "code",
   "execution_count": 423,
   "metadata": {},
   "outputs": [
    {
     "data": {
      "text/plain": [
       "<matplotlib.axes._subplots.AxesSubplot at 0x1a2a52e1d0>"
      ]
     },
     "execution_count": 423,
     "metadata": {},
     "output_type": "execute_result"
    },
    {
     "data": {
      "image/png": "[encoded data removed]",
      "text/plain": [
       "<Figure size 1080x360 with 2 Axes>"
      ]
     },
     "metadata": {
      "needs_background": "light"
     },
     "output_type": "display_data"
    }
   ],
   "source": [
    "plt.figure(figsize=(15, 5))\n",
    "\n",
    "plt.subplot(121)\n",
    "plt.title('Most cited in ICSL')\n",
    "references[references.cited_in % 2 == 0].conference.value_counts().head(20).plot(kind='bar')\n",
    "\n",
    "plt.subplot(122)\n",
    "plt.title('Most cited in CSCL')\n",
    "references[references.cited_in % 2 == 1].conference.value_counts().head(20).plot(kind='bar')"
   ]
  },
  {
   "cell_type": "markdown",
   "metadata": {},
   "source": [
    "Top 20 Conferences in both"
   ]
  },
  {
   "cell_type": "code",
   "execution_count": 434,
   "metadata": {},
   "outputs": [
    {
     "data": {
      "text/plain": [
       "{'american educational research journal',\n",
       " 'british journal of educational technology',\n",
       " 'ieee transactions of learning technologies',\n",
       " 'in proceedings of the sigchi conference of human factors in computing systems',\n",
       " 'international journal of artificial intelligence in education',\n",
       " 'international journal of educational research',\n",
       " 'international journal of science education',\n",
       " 'journal of computer assisted learning',\n",
       " 'journal of educational computing research',\n",
       " 'journal of educational psychology',\n",
       " 'journal of personality and social psychology',\n",
       " 'journal of research in science teaching',\n",
       " 'journal of science education and technology'}"
      ]
     },
     "execution_count": 434,
     "metadata": {},
     "output_type": "execute_result"
    }
   ],
   "source": [
    "set(references[references.cited_in % 2 == 0].conference.value_counts().head(20).index).intersection(set(references[references.cited_in % 2 == 1].conference.value_counts().head(20).index))"
   ]
  },
  {
   "cell_type": "markdown",
   "metadata": {},
   "source": [
    "Conferences in top twenty of ICLS and not CSCL"
   ]
  },
  {
   "cell_type": "code",
   "execution_count": 431,
   "metadata": {},
   "outputs": [
    {
     "data": {
      "text/plain": [
       "{'journal for research in mathematics education',\n",
       " 'journal of engineering education',\n",
       " 'journal of learning analytics',\n",
       " 'journal of research of technology in education',\n",
       " 'journal of teacher education',\n",
       " 'journal of technology and teacher education',\n",
       " 'the elementary school journal'}"
      ]
     },
     "execution_count": 431,
     "metadata": {},
     "output_type": "execute_result"
    }
   ],
   "source": [
    "set(references[references.cited_in % 2 == 0].conference.value_counts().head(20).index) - set(references[references.cited_in % 2 == 1].conference.value_counts().head(20).index)"
   ]
  },
  {
   "cell_type": "code",
   "execution_count": 436,
   "metadata": {},
   "outputs": [
    {
     "data": {
      "text/plain": [
       "{'acm transactions of computing education',\n",
       " 'australasian journal of educational technology',\n",
       " 'british educational research journal',\n",
       " 'european journal of social psychology',\n",
       " 'in proceedings of the annual acm conference of human factors in computing systems',\n",
       " 'in proceedings of the chi conference of human factors in computing systems',\n",
       " 'in proceedings of the sixth international conference of learning analytics and knowledge',\n",
       " 'international journal of designs for learning',\n",
       " 'international journal of human computer studies',\n",
       " 'international journal of learning and media',\n",
       " 'international journal of technology and design education',\n",
       " 'journal of adolescent and adult literacy',\n",
       " 'journal of chemical education',\n",
       " 'journal of curriculum studies',\n",
       " 'journal of educational change',\n",
       " 'journal of experimental child psychology',\n",
       " 'journal of pre college engineering education research',\n",
       " 'journal of science teacher education',\n",
       " 'journal of writing research',\n",
       " 'the journal of experimental education',\n",
       " 'the journal of mathematical behavior',\n",
       " 'the modern language journal'}"
      ]
     },
     "execution_count": 436,
     "metadata": {},
     "output_type": "execute_result"
    }
   ],
   "source": [
    "set(references[references.cited_in % 2 == 0].conference.value_counts().head(50).index) - set(references[references.cited_in % 2 == 1].conference.value_counts().head(50).index)"
   ]
  },
  {
   "cell_type": "markdown",
   "metadata": {},
   "source": [
    "Conferences in top twenty of CSCL and not ICLS"
   ]
  },
  {
   "cell_type": "code",
   "execution_count": 432,
   "metadata": {},
   "outputs": [
    {
     "data": {
      "text/plain": [
       "{'american journal of physics',\n",
       " 'british journal of music education',\n",
       " 'in proceedings of idc',\n",
       " 'in proceedings of the acm conference of computer supported cooperative work',\n",
       " 'international journal of computers for mathematical learning',\n",
       " 'journal of applied psychology',\n",
       " 'journal of educational technology and society'}"
      ]
     },
     "execution_count": 432,
     "metadata": {},
     "output_type": "execute_result"
    }
   ],
   "source": [
    "set(references[references.cited_in % 2 == 1].conference.value_counts().head(20).index) - set(references[references.cited_in % 2 == 0].conference.value_counts().head(20).index)"
   ]
  },
  {
   "cell_type": "code",
   "execution_count": 437,
   "metadata": {},
   "outputs": [
    {
     "data": {
      "text/plain": [
       "{'british journal of music education',\n",
       " 'canadian journal of learning and technology',\n",
       " 'ieee transactions of education',\n",
       " 'ieee transactions on',\n",
       " 'in international conference of intelligent tutoring systems',\n",
       " 'in proceedings of idc',\n",
       " 'in proceedings of the acm conference of computer supported cooperative work',\n",
       " 'in proceedings of the asee annual conference',\n",
       " 'in proceedings of the conference of human factors in computing systems',\n",
       " 'in proceedings of the international conference of international conference for the learning sciences volume',\n",
       " 'in proceedings of the third international conference of learning analytics and knowledge',\n",
       " 'in world conference of educational multimedia',\n",
       " 'international journal of artificial intelligence and education',\n",
       " 'international journal of technology enhanced learning',\n",
       " 'journal of applied psychology',\n",
       " 'journal of artificial societies and social simulation',\n",
       " 'journal of asynchronous learning networks',\n",
       " 'journal of education and work',\n",
       " 'journal of educational data mining',\n",
       " 'journal of statistics education',\n",
       " 'online journal of distance learning administration',\n",
       " 'proceedings of the national academy of sciences'}"
      ]
     },
     "execution_count": 437,
     "metadata": {},
     "output_type": "execute_result"
    }
   ],
   "source": [
    "set(references[references.cited_in % 2 == 1].conference.value_counts().head(50).index) - set(references[references.cited_in % 2 == 0].conference.value_counts().head(50).index)"
   ]
  },
  {
   "cell_type": "code",
   "execution_count": null,
   "metadata": {},
   "outputs": [],
   "source": []
  }
 ],
 "metadata": {
  "kernelspec": {
   "display_name": "Python 3",
   "language": "python",
   "name": "python3"
  },
  "language_info": {
   "codemirror_mode": {
    "name": "ipython",
    "version": 3
   },
   "file_extension": ".py",
   "mimetype": "text/x-python",
   "name": "python",
   "nbconvert_exporter": "python",
   "pygments_lexer": "ipython3",
   "version": "3.7.0"
  }
 },
 "nbformat": 4,
 "nbformat_minor": 2
}
