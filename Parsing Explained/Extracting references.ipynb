{
 "cells": [
  {
   "cell_type": "code",
   "execution_count": 1,
   "metadata": {},
   "outputs": [],
   "source": [
    "import re\n",
    "import pandas as pd\n",
    "import os\n",
    "import numpy as np\n",
    "import sys\n",
    "import matplotlib.pyplot as plt\n",
    "import regex as reg\n",
    "import json\n",
    "import unicodedata\n",
    "%matplotlib inline\n",
    "\n",
    "rootdir = '../data/papers/'"
   ]
  },
  {
   "cell_type": "markdown",
   "metadata": {},
   "source": [
    "# Reference Extraction:\n",
    "\n",
    "In this notebook we explain how we can extract individual references from a section of references that are not uniformly separated. We do this by clever use of regular expressions and knowlegde of the format of references."
   ]
  },
  {
   "cell_type": "markdown",
   "metadata": {},
   "source": [
    "loading content of txt files that were previously extracted using the script:"
   ]
  },
  {
   "cell_type": "code",
   "execution_count": 2,
   "metadata": {},
   "outputs": [],
   "source": [
    "contents = []\n",
    "i = 0\n",
    "source = []\n",
    "for subdir, dirs, files in os.walk(rootdir):\n",
    "    for file in files:\n",
    "        if 'txt' in file:\n",
    "            i += 1\n",
    "            path = os.path.join(subdir, file)\n",
    "            with open(path) as file:\n",
    "                try:\n",
    "                    text = file.read()\n",
    "                    contents.append(text)\n",
    "                    source.append(path[len(rootdir):-4])\n",
    "                except:\n",
    "                    name, message, content = sys.exc_info()\n",
    "                    print(message)"
   ]
  },
  {
   "cell_type": "markdown",
   "metadata": {},
   "source": [
    "## extracting the reference function from the text"
   ]
  },
  {
   "cell_type": "markdown",
   "metadata": {},
   "source": [
    "One attempt was to use special splitting, in hopes that this would yield better results. We later saw that this was *not* helpful and thus ended up using other ways. The txt papers are not uniform, so we need to rely on more general knowledge of the structure of references, and can not just use smart white space splitting."
   ]
  },
  {
   "cell_type": "code",
   "execution_count": 3,
   "metadata": {},
   "outputs": [
    {
     "data": {
      "text/plain": [
       "['Abrahamson, D. (2012). Discovery reconceived: Product before process. For the Learning of Mathematics, 32(1), 815.',\n",
       " 'Abrahamson, D. (2015). The monster in the machine, or why educational technology needs embodied design. In\\nV. R. Lee (Ed.),']"
      ]
     },
     "execution_count": 3,
     "metadata": {},
     "output_type": "execute_result"
    }
   ],
   "source": [
    "#Example of extraction\n",
    "t = 'Abrahamson, D. (2012). Discovery reconceived: Product before process. For the Learning of Mathematics, 32(1), 815.\\nAbrahamson, D. (2015). The monster in the machine, or why educational technology needs embodied design. In\\nV. R. Lee (Ed.),'\n",
    "#split if \\n comes after .\n",
    "re.split(r'(?<=\\.)\\n', t)"
   ]
  },
  {
   "cell_type": "code",
   "execution_count": 4,
   "metadata": {},
   "outputs": [
    {
     "data": {
      "text/plain": [
       "['dispositions. Science Education, 98(1), 36–63. https://doi.org/10.1002/sce.21083',\n",
       " None,\n",
       " None,\n",
       " 'Edelson, D. C., & Joseph, D. M. (2004). The interest-driven learning design framework: motivating learning']"
      ]
     },
     "execution_count": 4,
     "metadata": {},
     "output_type": "execute_result"
    }
   ],
   "source": [
    "#dealing with links at the end\n",
    "t =  'dispositions. Science Education, 98(1), 36–63. https://doi.org/10.1002/sce.21083\\nEdelson, D. C., & Joseph, D. M. (2004). The interest-driven learning design framework: motivating learning'\n",
    "#similar regex with more condition\n",
    "re.split(r'\\n\\n|((?<=(\\.|\\/|[a-z]))\\n)|\\n(?=[A-Z])',t)"
   ]
  },
  {
   "cell_type": "markdown",
   "metadata": {},
   "source": [
    "The issue is that that above methods undersplit, so we it's better to just use \\n, and than glue up separated sequences back together.\n",
    "\n",
    "We first extract the part that contains references by finding the reference section, cutting off acknowledgements if the paper contains them, and then split up the reference part by lines:"
   ]
  },
  {
   "cell_type": "code",
   "execution_count": 5,
   "metadata": {},
   "outputs": [],
   "source": [
    "def ref_extraction(text, extract=False):\n",
    "    \"\"\"extracts refrerence section: works well on well formated documents\"\"\"\n",
    "    mention = text.rfind(\"\\nReferences\")\n",
    "    if mention == -1:\n",
    "        mention = text.lower().rfind(\" references\")\n",
    "    if mention == -1:\n",
    "        mention =  text.lower().rfind(\"reference\")\n",
    "    #get reference section, account for different spelling\n",
    "    acknowledgements = max(text.lower().find(\"acknowledgements\"), text.lower().find('acknowledgments'))\n",
    "    \n",
    "    #handle case that acknowlege ments are before references\n",
    "    if acknowledgements < mention:\n",
    "        acknowledgements = -1\n",
    "    ref = text[mention+len(\"references\"):acknowledgements]\n",
    "    \n",
    "    references = re.split(r'\\n', ref)\n",
    "    \n",
    "    #extract references while not extracting bottom text \n",
    "    ref = [r for r in references if r and len(r) > 3 and not re.match(r'(CSCL|ICLS) \\d{4} Proceedings|© ISLS', r)]\n",
    "    if extract:\n",
    "        print(text[mention+len(\"references\"):acknowledgements])\n",
    "        print(references)\n",
    "    return ref"
   ]
  },
  {
   "cell_type": "code",
   "execution_count": 6,
   "metadata": {},
   "outputs": [],
   "source": [
    "references = []\n",
    "for i, content in enumerate(contents):\n",
    "    references.append((ref_extraction(content)))"
   ]
  },
  {
   "cell_type": "code",
   "execution_count": 7,
   "metadata": {},
   "outputs": [
    {
     "name": "stdout",
     "output_type": "stream",
     "text": [
      "Number of pdf documents :  874\n",
      "Number of documents for which we have an extracted reference section:  874\n"
     ]
    }
   ],
   "source": [
    "print('Number of pdf documents : ', len(contents))\n",
    "print('Number of documents for which we have an extracted reference section: ', len(references))"
   ]
  },
  {
   "cell_type": "markdown",
   "metadata": {},
   "source": [
    "# Use Regex  to identify the what part of a reference a string is:"
   ]
  },
  {
   "cell_type": "markdown",
   "metadata": {},
   "source": [
    "This is old code that was used at some point but is not no longer used. it identifies url or url like strings, which would belong to the reference above."
   ]
  },
  {
   "cell_type": "code",
   "execution_count": 8,
   "metadata": {},
   "outputs": [],
   "source": [
    "def match_url(sentence):\n",
    "    return re.search('http(s)?\\:\\/\\/[\\S]*$', sentence) or re.search(r'doi\\:[\\S\\/\\*]*$', sentence)\n",
    "\n",
    "def match_url_beginning(sentence):\n",
    "    return re.search('^http(s)?\\:\\/\\/[\\S]*$', sentence) or re.search(r'^doi\\:[\\S\\/\\*]*$', sentence)\n",
    "\n",
    "def show_issue(issues, condition):\n",
    "    for issue in issues:\n",
    "        if condition(issue):\n",
    "            print(issue)"
   ]
  },
  {
   "cell_type": "markdown",
   "metadata": {},
   "source": [
    "Central approach is to move sentences up until they are part of a string that contains a citation year, which usually is at the beginning of a string in an APA reference.\n",
    "\n",
    "\n",
    "The references should start with a sequence of author names followed by a sequence in brackets identifying the year of publication. As sometimes the cited paper has not yet been published, a varitey of strings is used to indicate this status instead of the year. We add strings indicating this structure so we can identify a maximum of begining sequences, as they are important to get the entire reference."
   ]
  },
  {
   "cell_type": "code",
   "execution_count": 9,
   "metadata": {},
   "outputs": [],
   "source": [
    "def contains_citation_beginning(sentence):\n",
    "\n",
    "    ##Check for mention of publication date,\n",
    "    #do it this way to not allow for ICLS 2015 string to be counted\n",
    "    months = '(january|february|march|april|may|june|july|august|september|october|november|december)?'\n",
    "    publication_year = r'(?<!\\d)\\('+months+'[\\-\\ ]*'+months+'[\\ \\,]*(18|19|20)\\d{2}[a-z]?[\\,\\ ]*'+months+'[\\-\\ \\d]*'+months+'\\)'\n",
    "    #sometimes two years are mentioned, we use this regex to parse them\n",
    "    match_bad_year = r'\\((18|19|20)\\d{2}\\/(18|19|20)\\d{2}\\)'\n",
    "    \n",
    "    #these regex account for special strings used in the references\n",
    "    match_press = r'[\\w\\ \\. \\,\\&\\(\\)\\-\\'\\…]*\\(in press\\)'\n",
    "    match_forth = r'[\\S\\s]*\\(forthcoming\\)'\n",
    "    match_accepted = r'[\\S\\s]*\\(accepted\\)'\n",
    "    match_submitted = r'[\\S\\s]*\\(submitted\\)'\n",
    "    match_underreview = r'[\\S\\s]*\\(under review\\)'\n",
    "    sentence = sentence.lower()\n",
    "        \n",
    "    year = re.search(publication_year, sentence) or  re.search(match_bad_year, sentence)\n",
    "    \n",
    "    return  year or \\\n",
    "            re.match(match_press, sentence) or re.match(match_forth, sentence) or\\\n",
    "            re.match(match_accepted, sentence) or re.match(match_submitted, sentence) or\\\n",
    "            re.match(match_underreview, sentence)"
   ]
  },
  {
   "cell_type": "markdown",
   "metadata": {},
   "source": [
    "Example of the regexparsing working:"
   ]
  },
  {
   "cell_type": "code",
   "execution_count": 10,
   "metadata": {},
   "outputs": [
    {
     "data": {
      "text/plain": [
       "(<re.Match object; span=(14, 25), match='(1987/2014)'>, None)"
      ]
     },
     "execution_count": 10,
     "metadata": {},
     "output_type": "execute_result"
    }
   ],
   "source": [
    "sentence = \"\"\"Xing, W., Kim, S., & Goggins, S. (2015/1994). \n",
    "                Modeling performance in asynchronous CSCL: \n",
    "                an exploration of social ability, collective efficacy \n",
    "                and social interaction. Exploring the Material Conditions of Learning: \n",
    "                Proceedings of the Computer Supported Collaborative Learning (CSCL 2015), \n",
    "                International Society of\"\"\"\n",
    "\n",
    "sentence_2 = \"\"\"Engeström, Y. (1987/2014) Learning by expanding: \n",
    "                An activity-theoretical approach to developmental research (2nd ed.). \n",
    "                New York, NY: Cambridge University Press.\"\"\"\n",
    "\n",
    "months = '(january|february|march|april|may|june|july|august|september|october|november|december)?'\n",
    "publication_year = r'(?<!\\d)\\('+months+'[\\-\\ ]*'+months+'[\\ \\,]*(18|19|20)\\d{2}[a-z]?[\\,\\ ]*'+months+'[\\-\\ ]*'+months+'\\)'\n",
    "\n",
    "\n",
    "match_bad_year = r'\\((18|19|20)\\d{2}\\/(18|19|20)\\d{2}\\)'\n",
    "\n",
    "month = re.search(publication_year, sentence.lower())\n",
    "conference =  re.search(match_bad_year, sentence_2)\n",
    "    \n",
    "conference, month"
   ]
  },
  {
   "cell_type": "markdown",
   "metadata": {},
   "source": [
    "The following function now implements this upwards or downwards of attaching a string to the previous one in a list of strings, if a given conditon is satisfied. \n",
    "\n",
    "For instace, One way we can know a line was split early is if it starts with lowercase letter or with a number."
   ]
  },
  {
   "cell_type": "code",
   "execution_count": 11,
   "metadata": {},
   "outputs": [],
   "source": [
    "#moving sentences starting with lowercase letter or number strings \"one up\"\n",
    "def moving_up(issues, condition=lambda x: re.match('^[\\d\\(\\.\\&\\ ]', x)):\n",
    "\n",
    "    issues = [i for i in issues if len(i) > 0]\n",
    "    patchwork = []\n",
    "    j = 0\n",
    "    \n",
    "    for i, sentence in enumerate(issues):\n",
    "        if i != 0 and condition(sentence):\n",
    "            patchwork[j-1] += ' ' + sentence\n",
    "            #print(sentence)\n",
    "        else:\n",
    "            j +=1\n",
    "            patchwork.append(sentence)\n",
    "    patchwork = [p for p in patchwork if len(p) > 0]\n",
    "    \n",
    "    return patchwork"
   ]
  },
  {
   "cell_type": "code",
   "execution_count": 12,
   "metadata": {},
   "outputs": [],
   "source": [
    "#iteration 1: move up strings that start in number or with (\n",
    "ref_1 = [moving_up(r) for r in references]\n",
    "#iteration 2: move up string starting with \"Proceedings\"\n",
    "ref_2 = [moving_up(r, lambda x: re.match('^Proceedings', x)) for r in ref_1]"
   ]
  },
  {
   "cell_type": "markdown",
   "metadata": {},
   "source": [
    "Here we implement the inverse concept, of attaching a string to the next string in a list of strings if a condition is satisfied:"
   ]
  },
  {
   "cell_type": "code",
   "execution_count": 13,
   "metadata": {},
   "outputs": [],
   "source": [
    "#moving sentences starting with lowercase letter or number strings \"one up\"\n",
    "def moving_down(issues, condition=lambda x: re.match('^[\\d\\(\\.]', x)):\n",
    "\n",
    "    issues = [i for i in issues if len(i) > 0]\n",
    "    patchwork = issues.copy()\n",
    "    j = 0\n",
    "    \n",
    "    for i, sentence in enumerate(issues):\n",
    "        if condition(sentence) and i+1 < len(issues):\n",
    "            patchwork[i] = sentence + ' ' + patchwork[i+1]\n",
    "            patchwork[i+1] = ''\n",
    "\n",
    "    patchwork = [p for p in patchwork if len(p) > 0]\n",
    "    \n",
    "    return patchwork"
   ]
  },
  {
   "cell_type": "markdown",
   "metadata": {},
   "source": [
    "Here we have example sof the regex that will then be used, we should move a sequence up if name is cut off (for instance, sentence starts with C. ....)"
   ]
  },
  {
   "cell_type": "code",
   "execution_count": 14,
   "metadata": {},
   "outputs": [
    {
     "data": {
      "text/plain": [
       "<re.Match object; span=(0, 3), match='G. '>"
      ]
     },
     "execution_count": 14,
     "metadata": {},
     "output_type": "execute_result"
    }
   ],
   "source": [
    "cutoff_name = r'^[A-Z]+\\.\\ ?'\n",
    "text = 'G. bsdjhvshjvf(1220)'\n",
    "re.match(cutoff_name, text)"
   ]
  },
  {
   "cell_type": "code",
   "execution_count": 15,
   "metadata": {},
   "outputs": [],
   "source": [
    "ref_3 = [moving_up(r, lambda x: re.match(cutoff_name, x)) for r in ref_2]"
   ]
  },
  {
   "cell_type": "markdown",
   "metadata": {},
   "source": [
    "For references we might cut off the year from the authors. In that case we need to change strategy and move the one that is below up if the upper string satisfies the condition.\n",
    "\n",
    "Here we have to other conditions that take care of potential issues such as having a word at the end or just a list of authors (and thus our way of identifying the beginning of a sentence will be not work)"
   ]
  },
  {
   "cell_type": "code",
   "execution_count": 16,
   "metadata": {},
   "outputs": [],
   "source": [
    "def match_author(authors):\n",
    "    regex = r'(([\\w\\-]*[\\,\\&] [A-Z\\.\\ ]+[\\&\\,]?)*$)'\n",
    "    USA = r'([A-Z]{2,})'\n",
    "    return not re.search(USA, authors) and re.match(regex, authors)"
   ]
  },
  {
   "cell_type": "code",
   "execution_count": 17,
   "metadata": {},
   "outputs": [
    {
     "data": {
      "text/plain": [
       "'Yoon, S., Anderson, E., Koehler-Yom, Evans, C., Park, M., J., Sheldon, J., Schoenfeld, I., Wendel, D.,'"
      ]
     },
     "execution_count": 17,
     "metadata": {},
     "output_type": "execute_result"
    }
   ],
   "source": [
    "sentence = 'Yoon, S., Anderson, E., Koehler-Yom, Evans, C., Park, M., J., Sheldon, J., Schoenfeld, I., Wendel, D.,'\n",
    "match_author(sentence).group(0)"
   ]
  },
  {
   "cell_type": "code",
   "execution_count": 18,
   "metadata": {},
   "outputs": [
    {
     "data": {
      "text/plain": [
       "<re.Match object; span=(105, 109), match=' and'>"
      ]
     },
     "execution_count": 18,
     "metadata": {},
     "output_type": "execute_result"
    }
   ],
   "source": [
    "text = 'Walther, J. B., & Parks, M. R. (2002). Cues filtered out, cues filter in: computer mediated communication and'\n",
    "words_at_end = r'\\ [a-zA-Z]*$'\n",
    "re.search(words_at_end, text)"
   ]
  },
  {
   "cell_type": "code",
   "execution_count": 19,
   "metadata": {},
   "outputs": [],
   "source": [
    "ref_4 = [moving_down(r, lambda x: match_author(x)) for r in ref_3]\n",
    "\n",
    "#pivoting up around strings containing citation\n",
    "ref_5 = [moving_up(r, lambda x: not contains_citation_beginning(x)) for r in ref_4]\n",
    "#if ends in word\n",
    "ref_6 = [moving_down(r, lambda x: re.search(words_at_end, x)) for r in ref_5]"
   ]
  },
  {
   "cell_type": "markdown",
   "metadata": {},
   "source": [
    "Add the reference into dataframe, associating the source text to it:"
   ]
  },
  {
   "cell_type": "code",
   "execution_count": 20,
   "metadata": {},
   "outputs": [],
   "source": [
    "references_df = pd.DataFrame([(f, source[i]) for i, flat in enumerate(ref_6) for f in flat], columns=['ref', 'file'])"
   ]
  },
  {
   "cell_type": "markdown",
   "metadata": {},
   "source": [
    "We use length and initial of the reference to preform a sanity check, by looking at initials (which should be upper case letters) and the total length of a reference."
   ]
  },
  {
   "cell_type": "code",
   "execution_count": 21,
   "metadata": {},
   "outputs": [],
   "source": [
    "references_df['length'] = references_df.ref.map(lambda x: len(x))\n",
    "references_df['initial'] = references_df.ref.map(lambda x: x[0])"
   ]
  },
  {
   "cell_type": "code",
   "execution_count": 22,
   "metadata": {},
   "outputs": [
    {
     "data": {
      "text/plain": [
       "count    14686.000000\n",
       "mean       194.962345\n",
       "std        685.649075\n",
       "min          4.000000\n",
       "25%        139.000000\n",
       "50%        180.000000\n",
       "75%        219.000000\n",
       "max      74737.000000\n",
       "Name: length, dtype: float64"
      ]
     },
     "execution_count": 22,
     "metadata": {},
     "output_type": "execute_result"
    },
    {
     "data": {
      "image/png": "[encoded data removed]",
      "text/plain": [
       "<Figure size 432x288 with 1 Axes>"
      ]
     },
     "metadata": {
      "needs_background": "light"
     },
     "output_type": "display_data"
    }
   ],
   "source": [
    "references_df.length.plot(kind='box')\n",
    "references_df.length.describe()"
   ]
  },
  {
   "cell_type": "markdown",
   "metadata": {},
   "source": [
    "Inspecting the iverly long references, we see that they all come from papers that were not split up properly/do not match the metadata. Hence we can discard them without any loss."
   ]
  },
  {
   "cell_type": "code",
   "execution_count": 23,
   "metadata": {},
   "outputs": [
    {
     "data": {
      "text/html": [
       "<div>\n",
       "<style scoped>\n",
       "    .dataframe tbody tr th:only-of-type {\n",
       "        vertical-align: middle;\n",
       "    }\n",
       "\n",
       "    .dataframe tbody tr th {\n",
       "        vertical-align: top;\n",
       "    }\n",
       "\n",
       "    .dataframe thead th {\n",
       "        text-align: right;\n",
       "    }\n",
       "</style>\n",
       "<table border=\"1\" class=\"dataframe\">\n",
       "  <thead>\n",
       "    <tr style=\"text-align: right;\">\n",
       "      <th></th>\n",
       "      <th>ref</th>\n",
       "      <th>file</th>\n",
       "      <th>length</th>\n",
       "      <th>initial</th>\n",
       "    </tr>\n",
       "  </thead>\n",
       "  <tbody>\n",
       "    <tr>\n",
       "      <th>114</th>\n",
       "      <td>p ...............................................</td>\n",
       "      <td>import2016full_93</td>\n",
       "      <td>22395</td>\n",
       "      <td>p</td>\n",
       "    </tr>\n",
       "    <tr>\n",
       "      <th>862</th>\n",
       "      <td>nalysis .........................................</td>\n",
       "      <td>import2016full_92</td>\n",
       "      <td>74737</td>\n",
       "      <td>n</td>\n",
       "    </tr>\n",
       "    <tr>\n",
       "      <th>1897</th>\n",
       "      <td>Pages 1-702: Volume 1 Pages 703-1407: Volume 2...</td>\n",
       "      <td>import2016full_91</td>\n",
       "      <td>26188</td>\n",
       "      <td>P</td>\n",
       "    </tr>\n",
       "    <tr>\n",
       "      <th>9343</th>\n",
       "      <td>for collaborative learning moderates the relat...</td>\n",
       "      <td>import2016short_136</td>\n",
       "      <td>3336</td>\n",
       "      <td>f</td>\n",
       "    </tr>\n",
       "    <tr>\n",
       "      <th>10746</th>\n",
       "      <td>Dijkstra, Pieternel, Hans Kuyper, Greetje van ...</td>\n",
       "      <td>import2018_323</td>\n",
       "      <td>1335</td>\n",
       "      <td>D</td>\n",
       "    </tr>\n",
       "    <tr>\n",
       "      <th>12489</th>\n",
       "      <td>Wenger, E. (1998). Communities of practice: Le...</td>\n",
       "      <td>import2016short_145</td>\n",
       "      <td>10097</td>\n",
       "      <td>W</td>\n",
       "    </tr>\n",
       "  </tbody>\n",
       "</table>\n",
       "</div>"
      ],
      "text/plain": [
       "                                                     ref                 file  \\\n",
       "114    p ...............................................    import2016full_93   \n",
       "862    nalysis .........................................    import2016full_92   \n",
       "1897   Pages 1-702: Volume 1 Pages 703-1407: Volume 2...    import2016full_91   \n",
       "9343   for collaborative learning moderates the relat...  import2016short_136   \n",
       "10746  Dijkstra, Pieternel, Hans Kuyper, Greetje van ...       import2018_323   \n",
       "12489  Wenger, E. (1998). Communities of practice: Le...  import2016short_145   \n",
       "\n",
       "       length initial  \n",
       "114     22395       p  \n",
       "862     74737       n  \n",
       "1897    26188       P  \n",
       "9343     3336       f  \n",
       "10746    1335       D  \n",
       "12489   10097       W  "
      ]
     },
     "execution_count": 23,
     "metadata": {},
     "output_type": "execute_result"
    }
   ],
   "source": [
    "references_df[references_df.length > 1000]"
   ]
  },
  {
   "cell_type": "markdown",
   "metadata": {},
   "source": [
    "We now chech the initial: We see that the method seems to work for most references, and that some references start with lower case letters, mostly due to different conventions between name writing, thing the dutch 'van'"
   ]
  },
  {
   "cell_type": "code",
   "execution_count": 24,
   "metadata": {},
   "outputs": [
    {
     "data": {
      "text/plain": [
       "Ç    4\n",
       "b    3\n",
       "Ö    3\n",
       "p    3\n",
       "e    2\n",
       "a    2\n",
       "t    2\n",
       "n    2\n",
       "Ø    1\n",
       "[    1\n",
       "1    1\n",
       "Å    1\n",
       "Ž    1\n",
       "r    1\n",
       "f    1\n",
       "Name: initial, dtype: int64"
      ]
     },
     "execution_count": 24,
     "metadata": {},
     "output_type": "execute_result"
    },
    {
     "data": {
      "image/png": "[encoded data removed]",
      "text/plain": [
       "<Figure size 432x288 with 1 Axes>"
      ]
     },
     "metadata": {
      "needs_background": "light"
     },
     "output_type": "display_data"
    }
   ],
   "source": [
    "references_df.initial.value_counts().plot(kind='bar')\n",
    "references_df.initial.value_counts().tail(15)"
   ]
  },
  {
   "cell_type": "code",
   "execution_count": 25,
   "metadata": {},
   "outputs": [
    {
     "data": {
      "text/html": [
       "<div>\n",
       "<style scoped>\n",
       "    .dataframe tbody tr th:only-of-type {\n",
       "        vertical-align: middle;\n",
       "    }\n",
       "\n",
       "    .dataframe tbody tr th {\n",
       "        vertical-align: top;\n",
       "    }\n",
       "\n",
       "    .dataframe thead th {\n",
       "        text-align: right;\n",
       "    }\n",
       "</style>\n",
       "<table border=\"1\" class=\"dataframe\">\n",
       "  <thead>\n",
       "    <tr style=\"text-align: right;\">\n",
       "      <th></th>\n",
       "      <th>ref</th>\n",
       "      <th>file</th>\n",
       "      <th>length</th>\n",
       "      <th>initial</th>\n",
       "    </tr>\n",
       "  </thead>\n",
       "  <tbody>\n",
       "    <tr>\n",
       "      <th>3045</th>\n",
       "      <td>boyd, d. (2014). It’s complicated: The social ...</td>\n",
       "      <td>import2018_176</td>\n",
       "      <td>109</td>\n",
       "      <td>b</td>\n",
       "    </tr>\n",
       "    <tr>\n",
       "      <th>3671</th>\n",
       "      <td>boyd, d. (2009). Why Youth (Heart) Social Netw...</td>\n",
       "      <td>import2015full_285</td>\n",
       "      <td>110</td>\n",
       "      <td>b</td>\n",
       "    </tr>\n",
       "    <tr>\n",
       "      <th>4620</th>\n",
       "      <td>boyd, d. (2009). Why Youth (Heart) Social Netw...</td>\n",
       "      <td>import2015short_285</td>\n",
       "      <td>110</td>\n",
       "      <td>b</td>\n",
       "    </tr>\n",
       "  </tbody>\n",
       "</table>\n",
       "</div>"
      ],
      "text/plain": [
       "                                                    ref                 file  \\\n",
       "3045  boyd, d. (2014). It’s complicated: The social ...       import2018_176   \n",
       "3671  boyd, d. (2009). Why Youth (Heart) Social Netw...   import2015full_285   \n",
       "4620  boyd, d. (2009). Why Youth (Heart) Social Netw...  import2015short_285   \n",
       "\n",
       "      length initial  \n",
       "3045     109       b  \n",
       "3671     110       b  \n",
       "4620     110       b  "
      ]
     },
     "execution_count": 25,
     "metadata": {},
     "output_type": "execute_result"
    }
   ],
   "source": [
    "#also correctly parsed i, e are fine, a are not too bad, leave it\n",
    "#only very few references are incorrect if they start by lowercase. we accept this\n",
    "#b is correct\n",
    "references_df[references_df['initial'] == 'b']"
   ]
  },
  {
   "cell_type": "markdown",
   "metadata": {},
   "source": [
    "Remove overly long references are they are due to badly parsed pdfs:"
   ]
  },
  {
   "cell_type": "code",
   "execution_count": 26,
   "metadata": {},
   "outputs": [],
   "source": [
    "references_df = references_df[(references_df.length < 1000)]"
   ]
  },
  {
   "cell_type": "code",
   "execution_count": 27,
   "metadata": {},
   "outputs": [
    {
     "name": "stdout",
     "output_type": "stream",
     "text": [
      "We can parse references from 865 documents.\n"
     ]
    }
   ],
   "source": [
    "print('We can parse references from {} documents.'.format(references_df.file.value_counts().shape[0]))"
   ]
  },
  {
   "cell_type": "markdown",
   "metadata": {},
   "source": [
    "Example reference, where we can see that our parsing method works quite well:"
   ]
  },
  {
   "cell_type": "code",
   "execution_count": 28,
   "metadata": {},
   "outputs": [
    {
     "data": {
      "text/plain": [
       "['NGSS Lead States. (2013). Next Generation Science Standards: For States, By States. National Academies Press, Washington DC.',\n",
       " 'Glaser, B., Strauss, A. (1967). The Discovery of Grounded Theory. Hawthorne, NY: Aldine Publishing Company.',\n",
       " 'Wilensky, U., & Rand, W. (2015). An introduction to agent-based modeling: modeling natural, social, and engineered complex systems with NetLogo. Cambridge, MA: MIT Press.',\n",
       " 'McNeill, K. L., & Berland, L. (2017). What is (or should be) scientific evidence use in k-12 classrooms? Journal of Research in Science Teaching, 54(5), 672-689.',\n",
       " 'Cole, M. (1996). Cultural psychology: A once and future discipline. Harvard University Press.']"
      ]
     },
     "execution_count": 28,
     "metadata": {},
     "output_type": "execute_result"
    }
   ],
   "source": [
    "references_df[references_df.length < 200].sample(5).ref.tolist()"
   ]
  },
  {
   "cell_type": "markdown",
   "metadata": {},
   "source": [
    "# Approach to get author names from references:"
   ]
  },
  {
   "cell_type": "markdown",
   "metadata": {},
   "source": [
    "For APA style it is easy to extract the year and author of the cited reference, as we know that all authors are listed before (some time reference) Hence we extract the section before \"some time reference\" and then use the special way that a list of authors is cited in APA style to split up the authors:"
   ]
  },
  {
   "cell_type": "code",
   "execution_count": 29,
   "metadata": {},
   "outputs": [],
   "source": [
    "def get_authors(sentence, debug = False):\n",
    "    regex = r'[\\S\\s]*\\((18|19|20)\\d{2}[\\,\\ \\w\\d]*\\)'\n",
    "    if re.search(regex, sentence):\n",
    "        s = re.findall(regex, sentence)[0]\n",
    "        if len(s) > 9:\n",
    "            return (s)\n",
    "    elif debug:\n",
    "        return '#'+sentence\n",
    "    \n",
    "    return np.nan\n",
    "\n",
    "\n",
    "def get_authors_month(sentence, debug = False):\n",
    "    \n",
    "    #make sure sentence is encoded in the same way:\n",
    "    sentence = unicodedata.normalize('NFC', sentence)\n",
    "    regex = r'[\\p{L}\\,\\ \\.\\:\\;\\/\\&\\-\\'\\`\\(\\)\\’\\–\\¨\\…\\‐\\*\\´\\＆\\\\]*\\([\\,\\ \\p{L}\\d\\-]*(18|19|20)\\d{2}[\\,\\ \\p{L}\\d\\-]*\\)'\n",
    "    match_bad_year = r'[\\S\\s]*\\((18|19|20)\\d{2}\\/(18|19|20)\\d{2}\\)'\n",
    "    \n",
    "    match_press = r'[\\S\\s]*\\((i|I)n (P|p)ress|manuscript under review\\)'\n",
    "    match_forth = r'[\\S\\s]*\\((f|F)orthcoming\\)'\n",
    "    match_accepted = r'[\\S\\s]*\\((a|A)ccepted\\)'\n",
    "    match_submitted = r'[\\S\\s]*\\((s|S)ubmitted\\)'\n",
    "    match_underreview = r'[\\S\\s]*\\((u|U)nder (R|r)eview\\)'\n",
    "    \n",
    "    #sentence = sentence.lower()\n",
    "    if reg.match(regex, sentence):\n",
    "        s = reg.search(regex, sentence).group(0)\n",
    "        if len(s) > 9:\n",
    "            return s\n",
    "    elif re.match(match_bad_year, sentence):\n",
    "        return re.search(match_bad_year, sentence).group(0)\n",
    "    elif re.match(match_press, sentence):\n",
    "        return re.search(match_press, sentence).group(0)\n",
    "    elif re.match(match_forth, sentence):\n",
    "        return re.search(match_forth, sentence).group(0)\n",
    "    elif re.match(match_accepted, sentence):\n",
    "        return re.search(match_accepted, sentence).group(0)\n",
    "    elif re.match(match_submitted, sentence):\n",
    "        return re.search(match_submitted, sentence).group(0)\n",
    "    elif re.match(match_underreview, sentence):\n",
    "        return re.search(match_underreview, sentence).group(0)\n",
    "    \n",
    "    return np.nan"
   ]
  },
  {
   "cell_type": "markdown",
   "metadata": {},
   "source": [
    "Extract authors and month:"
   ]
  },
  {
   "cell_type": "code",
   "execution_count": 30,
   "metadata": {},
   "outputs": [],
   "source": [
    "references_df['ref_parsed'] = references_df.apply(lambda x: get_authors_month(x['ref']), axis=1)"
   ]
  },
  {
   "cell_type": "code",
   "execution_count": 31,
   "metadata": {},
   "outputs": [
    {
     "name": "stdout",
     "output_type": "stream",
     "text": [
      "Percentage of unparsed references: 0.00\n",
      "Number of unparsed references:  59\n",
      "Number of properly parsed references:  14680\n"
     ]
    }
   ],
   "source": [
    "print('Percentage of unparsed references: {:0.2f}'.format(references_df.ref_parsed.isna().sum()/references_df.ref_parsed.shape[0]))\n",
    "print('Number of unparsed references: ', references_df[references_df.ref_parsed.isna()].ref.shape[0])\n",
    "print('Number of properly parsed references: ', references_df.ref_parsed.shape[0])"
   ]
  },
  {
   "cell_type": "markdown",
   "metadata": {},
   "source": [
    "Taking a look at the unparsed files, we see that many references that could not be parsed are form manuals, or not cited propperly. We do not care about these and can thus discard them."
   ]
  },
  {
   "cell_type": "code",
   "execution_count": 32,
   "metadata": {},
   "outputs": [
    {
     "data": {
      "text/plain": [
       "['American Association for the Advancement of Science (AAAS; 2016). Benchmarks for Science Literacy. New York, Oxford University Press. Retrieved from www.AAAS.org.',\n",
       " 'Journal of Systems and Software, 86(5), 1390-1407. EEF. (2017). Education Endownment Foundation: Teaching & Learning Toolkit: Collaborative learning.',\n",
       " 'P21 Framework Definitions (2009). Partnership for 21st Century Skills. Retrieved from http://www.p21.org/storage/documents/P21_Framework_Definitions.pdf.',\n",
       " 'Dewey, 1913. Dewey, J. (1913). Interest and effort in education. Boston, MA: Riverside Press.',\n",
       " 'Gilbert (Ed.), Visualization in science education (pp. 121-145). Dordrecht, Netherlands: Springer. NRC. (2006). Learning to think spatially. Washington, D.C.: National Academies Press.']"
      ]
     },
     "execution_count": 32,
     "metadata": {},
     "output_type": "execute_result"
    }
   ],
   "source": [
    "references_df[references_df.ref_parsed.isna()].ref.head().tolist()  "
   ]
  },
  {
   "cell_type": "markdown",
   "metadata": {},
   "source": [
    "Taking a peek at how the dataframe currently looks like:"
   ]
  },
  {
   "cell_type": "code",
   "execution_count": 33,
   "metadata": {
    "scrolled": true
   },
   "outputs": [
    {
     "data": {
      "text/html": [
       "<div>\n",
       "<style scoped>\n",
       "    .dataframe tbody tr th:only-of-type {\n",
       "        vertical-align: middle;\n",
       "    }\n",
       "\n",
       "    .dataframe tbody tr th {\n",
       "        vertical-align: top;\n",
       "    }\n",
       "\n",
       "    .dataframe thead th {\n",
       "        text-align: right;\n",
       "    }\n",
       "</style>\n",
       "<table border=\"1\" class=\"dataframe\">\n",
       "  <thead>\n",
       "    <tr style=\"text-align: right;\">\n",
       "      <th></th>\n",
       "      <th>ref</th>\n",
       "      <th>file</th>\n",
       "      <th>length</th>\n",
       "      <th>initial</th>\n",
       "      <th>ref_parsed</th>\n",
       "    </tr>\n",
       "  </thead>\n",
       "  <tbody>\n",
       "    <tr>\n",
       "      <th>0</th>\n",
       "      <td>Lave, J., &amp; Wenger, E. (1991). Situated learni...</td>\n",
       "      <td>import2018_371</td>\n",
       "      <td>108</td>\n",
       "      <td>L</td>\n",
       "      <td>Lave, J., &amp; Wenger, E. (1991)</td>\n",
       "    </tr>\n",
       "    <tr>\n",
       "      <th>1</th>\n",
       "      <td>Miles, M. B., Huberman, A. M., &amp; Saldana, J. (...</td>\n",
       "      <td>import2018_371</td>\n",
       "      <td>107</td>\n",
       "      <td>M</td>\n",
       "      <td>Miles, M. B., Huberman, A. M., &amp; Saldana, J. (...</td>\n",
       "    </tr>\n",
       "    <tr>\n",
       "      <th>2</th>\n",
       "      <td>Pea, R. D., Gomez, L. M., Edelson, D. C., Fish...</td>\n",
       "      <td>import2018_371</td>\n",
       "      <td>294</td>\n",
       "      <td>P</td>\n",
       "      <td>Pea, R. D., Gomez, L. M., Edelson, D. C., Fish...</td>\n",
       "    </tr>\n",
       "    <tr>\n",
       "      <th>3</th>\n",
       "      <td>Rogoff, B. (1995). Observing sociocultural act...</td>\n",
       "      <td>import2018_371</td>\n",
       "      <td>269</td>\n",
       "      <td>R</td>\n",
       "      <td>Rogoff, B. (1995)</td>\n",
       "    </tr>\n",
       "    <tr>\n",
       "      <th>4</th>\n",
       "      <td>Shirk, J., Ballard, H., Wilderman, C., Phillip...</td>\n",
       "      <td>import2018_371</td>\n",
       "      <td>215</td>\n",
       "      <td>S</td>\n",
       "      <td>Shirk, J., Ballard, H., Wilderman, C., Phillip...</td>\n",
       "    </tr>\n",
       "  </tbody>\n",
       "</table>\n",
       "</div>"
      ],
      "text/plain": [
       "                                                 ref            file  length  \\\n",
       "0  Lave, J., & Wenger, E. (1991). Situated learni...  import2018_371     108   \n",
       "1  Miles, M. B., Huberman, A. M., & Saldana, J. (...  import2018_371     107   \n",
       "2  Pea, R. D., Gomez, L. M., Edelson, D. C., Fish...  import2018_371     294   \n",
       "3  Rogoff, B. (1995). Observing sociocultural act...  import2018_371     269   \n",
       "4  Shirk, J., Ballard, H., Wilderman, C., Phillip...  import2018_371     215   \n",
       "\n",
       "  initial                                         ref_parsed  \n",
       "0       L                      Lave, J., & Wenger, E. (1991)  \n",
       "1       M  Miles, M. B., Huberman, A. M., & Saldana, J. (...  \n",
       "2       P  Pea, R. D., Gomez, L. M., Edelson, D. C., Fish...  \n",
       "3       R                                  Rogoff, B. (1995)  \n",
       "4       S  Shirk, J., Ballard, H., Wilderman, C., Phillip...  "
      ]
     },
     "execution_count": 33,
     "metadata": {},
     "output_type": "execute_result"
    }
   ],
   "source": [
    "references_df.head()"
   ]
  },
  {
   "cell_type": "markdown",
   "metadata": {},
   "source": [
    "# Extracting year of individual references:\n",
    "### Extracting the year of publication:\n",
    "\n",
    "Again we can use the structure of apa citations to extract the year of the citation, in case of 'in press' we just set the year to the year of the file:"
   ]
  },
  {
   "cell_type": "code",
   "execution_count": 34,
   "metadata": {},
   "outputs": [],
   "source": [
    "def extract_year(x, current_year):\n",
    "    match_press = r'\\(in press|submitted|under review|accepted|forthcoming'\n",
    "    years = r'\\([\\w\\d\\,\\ \\.\\-]*(18|19|20)\\d{2}[\\,\\ \\w\\d\\/\\-]*\\)'\n",
    "    year = re.search(years, x)\n",
    "    if re.search(match_press, x.lower()):\n",
    "        return current_year\n",
    "    if year:\n",
    "        year = year.group(0)\n",
    "        year = re.findall('\\d{4}', year)\n",
    "        return int(year[0])\n",
    "    else:\n",
    "        return np.nan"
   ]
  },
  {
   "cell_type": "code",
   "execution_count": 35,
   "metadata": {},
   "outputs": [],
   "source": [
    "references_df['pub_year'] = references_df.file.map(lambda x: int(re.search('20[\\d]{2}', x).group(0)))"
   ]
  },
  {
   "cell_type": "code",
   "execution_count": 36,
   "metadata": {},
   "outputs": [],
   "source": [
    "references_df.loc[~references_df.ref_parsed.isna(),'year'] = references_df[~references_df.ref_parsed.isna()].apply(\n",
    "    lambda x: extract_year(x.ref_parsed, x.pub_year), axis=1)"
   ]
  },
  {
   "cell_type": "code",
   "execution_count": 37,
   "metadata": {},
   "outputs": [
    {
     "data": {
      "text/plain": [
       "(0, 7)"
      ]
     },
     "execution_count": 37,
     "metadata": {},
     "output_type": "execute_result"
    }
   ],
   "source": [
    "references_df[references_df.year.isna() & references_df.ref_parsed.notna()].shape"
   ]
  },
  {
   "cell_type": "code",
   "execution_count": 38,
   "metadata": {},
   "outputs": [
    {
     "data": {
      "text/plain": [
       "[]"
      ]
     },
     "execution_count": 38,
     "metadata": {},
     "output_type": "execute_result"
    }
   ],
   "source": [
    "references_df[references_df.year.isna() & references_df.ref_parsed.notna()].ref_parsed.tolist()"
   ]
  },
  {
   "cell_type": "markdown",
   "metadata": {},
   "source": [
    "## Look at extracting individual  author names:"
   ]
  },
  {
   "cell_type": "markdown",
   "metadata": {},
   "source": [
    "For now we look only the the authors that come up in any citation in the paper. So we do not care about order or the specific reference they are associated with:"
   ]
  },
  {
   "cell_type": "markdown",
   "metadata": {},
   "source": [
    "We again use a regex to extract neighbours, but in the end we use the approach of spliting up the file after a ., or an and or & or ;"
   ]
  },
  {
   "cell_type": "code",
   "execution_count": 39,
   "metadata": {},
   "outputs": [
    {
     "data": {
      "text/plain": [
       "['Yoon, S.,',\n",
       " 'Anderson, E.,',\n",
       " 'Evans, C.,',\n",
       " 'Park, M.,',\n",
       " 'Sheldon, J.,',\n",
       " 'Schoenfeld, I.,',\n",
       " 'Wendel, D.,',\n",
       " 'Scheintaub, H.,',\n",
       " 'Klopfer, E.']"
      ]
     },
     "execution_count": 39,
     "metadata": {},
     "output_type": "execute_result"
    }
   ],
   "source": [
    "authors = 'Yoon, S., Anderson, E., Koehler-Yom, Evans, C., Park, M., J., Sheldon, J., Schoenfeld, I., Wendel, D., Scheintaub, H., Klopfer, E.'\n",
    "\n",
    "re.findall(r'([A-Z][^\\W\\d_\\-]*\\,?\\&? [A-Z]\\.\\,?)', authors)"
   ]
  },
  {
   "cell_type": "code",
   "execution_count": 40,
   "metadata": {},
   "outputs": [],
   "source": [
    "regex = r'([\\w\\-]*[\\,] [A-Z\\.\\ ]+[\\&\\,]?)'"
   ]
  },
  {
   "cell_type": "code",
   "execution_count": 41,
   "metadata": {},
   "outputs": [
    {
     "data": {
      "text/plain": [
       "['Selwyn N. ']"
      ]
     },
     "execution_count": 41,
     "metadata": {},
     "output_type": "execute_result"
    }
   ],
   "source": [
    "#extract authors and clean strings a bit\n",
    "author_split = r'([\\p{L}\\-]*[\\,] [\\p{L}\\.\\ \\-]*[\\&\\,\\.]?)'\n",
    "author_split_2 = r'([\\p{L}\\-\\.\\ ]* [\\p{L}\\. \\ \\-]*[\\,\\.]?)'\n",
    "\n",
    "reg.findall(author_split_2, 'Selwyn N. (2007)')"
   ]
  },
  {
   "cell_type": "markdown",
   "metadata": {},
   "source": [
    "This function implements the searching for individual authors:"
   ]
  },
  {
   "cell_type": "code",
   "execution_count": 54,
   "metadata": {},
   "outputs": [],
   "source": [
    "def extract_author(x):\n",
    "    author_split = r'\\.\\,| & | and |;'\n",
    "    list_authors = reg.split(author_split, x)\n",
    "    list_authors = [name.replace('&', '').replace(',', '').strip() for name in list_authors]\n",
    "    #remove end of string that isn't name\n",
    "    list_authors = [re.sub(r'\\([\\s\\S]*\\)|\\.\\.\\.|…| et al.|\\.', '', name).strip() for name in list_authors if len(name) > 0]\n",
    "    list_authors = [name for name in list_authors if len(name) > 0]\n",
    "    return list_authors"
   ]
  },
  {
   "cell_type": "markdown",
   "metadata": {},
   "source": [
    "We get the individual authors and then change the structure of the dataframe to have one author column containing a single author."
   ]
  },
  {
   "cell_type": "code",
   "execution_count": 55,
   "metadata": {},
   "outputs": [],
   "source": [
    "references_df['authors'] =  references_df[~references_df.ref_parsed.isna()].ref_parsed.map(lambda x: extract_author(x))\n",
    "\n",
    "#go from a list of authors to on author per row\n",
    "\n",
    "tags = references_df.authors.apply(pd.Series)\n",
    "tags = tags.rename(columns = lambda x : 'tag_' + str(x))\n",
    "\n",
    "df = pd.concat([references_df, tags], axis=1)\n",
    "tag_cols = [c for c in df.columns if 'tag' not in c]\n",
    "df = df.melt(id_vars=tag_cols)\n",
    "\n",
    "df['author'] = df['value']\n",
    "df = df[df.value.notna()].reset_index(drop=True)\n",
    "del df['variable'], df['authors'], df['value']"
   ]
  },
  {
   "cell_type": "markdown",
   "metadata": {},
   "source": [
    "We now check the result we get sofar:"
   ]
  },
  {
   "cell_type": "code",
   "execution_count": 56,
   "metadata": {},
   "outputs": [
    {
     "data": {
      "text/plain": [
       "0               Lave J\n",
       "1            Miles M B\n",
       "2              Pea R D\n",
       "3             Rogoff B\n",
       "4              Shirk J\n",
       "5             Gomoll A\n",
       "6             Gomoll A\n",
       "7     Hmelo-Silver C E\n",
       "8            Mondada L\n",
       "9          Knoblauch H\n",
       "10            Schaal S\n",
       "11           Booth J L\n",
       "12            Booth JL\n",
       "13          Empson S B\n",
       "14          McNeil N M\n",
       "15           Siegler R\n",
       "16         Siegler R S\n",
       "17         Siegler R S\n",
       "18         Siegler R S\n",
       "19                Wu H\n",
       "Name: author, dtype: object"
      ]
     },
     "execution_count": 56,
     "metadata": {},
     "output_type": "execute_result"
    }
   ],
   "source": [
    "df.author.head(20)"
   ]
  },
  {
   "cell_type": "markdown",
   "metadata": {},
   "source": [
    "This seems to work quite well, but lets check the short names to in case we have outliers:\n",
    "\n",
    "We see that there are some issues, but overall not that many"
   ]
  },
  {
   "cell_type": "code",
   "execution_count": 57,
   "metadata": {},
   "outputs": [
    {
     "data": {
      "text/plain": [
       "L    4\n",
       "K    3\n",
       "J    3\n",
       "M    3\n",
       "Z    1\n",
       "C    1\n",
       "W    1\n",
       "D    1\n",
       "Name: author, dtype: int64"
      ]
     },
     "execution_count": 57,
     "metadata": {},
     "output_type": "execute_result"
    }
   ],
   "source": [
    "df[df.author.map(lambda x: len(x) < 2)].author.value_counts()"
   ]
  },
  {
   "cell_type": "markdown",
   "metadata": {},
   "source": [
    "Here we see that the issues are to to irregular listing of names. It makes sense that we have issues extracting these strings:"
   ]
  },
  {
   "cell_type": "code",
   "execution_count": 58,
   "metadata": {},
   "outputs": [
    {
     "data": {
      "text/plain": [
       "['Schneider, B., Sharma., K., Cuendet, S., Zufferey, G., Dillenbourg, P., & Pea, R. (2016)',\n",
       " 'Leijen, Ä., Lam, I., Wildschut., L., & Simons, R. (2009)',\n",
       " 'Howell, J., Tofel-Grehl, C., Fields., D., & Duchamp. G. (2016)',\n",
       " 'Leijen, Ä., Lam, I., Wildschut., L., & Simons, R. (2009)',\n",
       " 'Chi., M., & Wylie, R. (2014)']"
      ]
     },
     "execution_count": 58,
     "metadata": {},
     "output_type": "execute_result"
    }
   ],
   "source": [
    "s = df[df.author.map(lambda x: len(x) < 2)].sample(5)\n",
    "\n",
    "s.ref_parsed.tolist()"
   ]
  },
  {
   "cell_type": "code",
   "execution_count": 59,
   "metadata": {},
   "outputs": [
    {
     "data": {
      "text/plain": [
       "['K', 'L', 'D', 'L', 'M']"
      ]
     },
     "execution_count": 59,
     "metadata": {},
     "output_type": "execute_result"
    }
   ],
   "source": [
    "s.author.tolist()"
   ]
  },
  {
   "cell_type": "code",
   "execution_count": 60,
   "metadata": {},
   "outputs": [
    {
     "data": {
      "text/plain": [
       "[]"
      ]
     },
     "execution_count": 60,
     "metadata": {},
     "output_type": "execute_result"
    }
   ],
   "source": [
    "df[df.author == 'M. Chui B. Brown J. Bughin R. Dobbs C. Roxburgh et al.'].ref_parsed.tolist()"
   ]
  },
  {
   "cell_type": "code",
   "execution_count": 61,
   "metadata": {},
   "outputs": [
    {
     "data": {
      "text/plain": [
       "['Manyika J', 'M Chui B Brown J Bughin R Dobbs C Roxburgh']"
      ]
     },
     "execution_count": 61,
     "metadata": {},
     "output_type": "execute_result"
    }
   ],
   "source": [
    "extract_author('Manyika, J., M. Chui, B. Brown, J. Bughin, R. Dobbs, C. Roxburgh, et al. (2011)')"
   ]
  },
  {
   "cell_type": "markdown",
   "metadata": {},
   "source": [
    "When we look at the extra logn names, we ca also see that the extaction works reasonably well:\n",
    "\n",
    "(again bearing in mind that some people do not follow the conventions, but there are so few of them that we will exclude them)"
   ]
  },
  {
   "cell_type": "code",
   "execution_count": 50,
   "metadata": {},
   "outputs": [
    {
     "data": {
      "text/plain": [
       "Design-Based Research Collective.                                                                                               6\n",
       "National Academies of Sciences Engineering                                                                                      5\n",
       "Common Core State Standards Initiative.                                                                                         3\n",
       "National Academy of Engineering.                                                                                                3\n",
       "The Design-Based Research Collective.                                                                                           3\n",
       "National Governors Association Center for Best Practices                                                                        3\n",
       "Knowledge Forum Japan Research Group.                                                                                           2\n",
       "M. Chui B. Brown J. Bughin R. Dobbs C. Roxburgh                                                                                 2\n",
       "Technology Group at Vanderbilt.                                                                                                 2\n",
       "The Politics of Learning Writing Collective                                                                                     2\n",
       "Finnish National Board of Education                                                                                             2\n",
       "National Council of Teachers of Mathematics.                                                                                    2\n",
       "Britannica Online Encyclopedia.                                                                                                 2\n",
       "National Science Teachers Association.                                                                                          2\n",
       "the Council of Chief State School                                                                                               2\n",
       "United States Department of Education Office of Educational Technology                                                          1\n",
       "Social Interaction Stevens R. R.                                                                                                1\n",
       "the Knowledge Transfer Study Group.                                                                                             1\n",
       "The Politics of Learning Writing Collective.                                                                                    1\n",
       "National Council of Teachers of Mathematics                                                                                     1\n",
       "The Politics of Learning Writing Collective (Philip T. M                                                                        1\n",
       "Lewis D. J. A. . Sewell R. D. E                                                                                                 1\n",
       "Oliver Ferschke Iris Howley Gaurav Tomar Diyi Yang C. R.                                                                        1\n",
       "Politics of Learning Writing Collective                                                                                         1\n",
       "Next Generation Science Standards.                                                                                              1\n",
       "The Design-Based Research Collective                                                                                            1\n",
       "National Governors Association Center for Best Practices Council of Chief State School Officers                                 1\n",
       "Dunston R Lee A Boud D Brodie P                                                                                                 1\n",
       "Cobb S Millen L Glover T Hawkins T Patel H Eastgate R Parsons S                                                                 1\n",
       "American Association for the Advancement of Science.                                                                            1\n",
       "                                                                                                                               ..\n",
       "National Research Council of the National Academies.                                                                            1\n",
       "International Society for Technology in Education – National Education Technology Standards                                     1\n",
       "Organisation for Economic Co-operation                                                                                          1\n",
       "National Science Foundation National Center for Science                                                                         1\n",
       "Minnesota Department of Education                                                                                               1\n",
       "embodied cognition account of representational competence Posner G. J                                                           1\n",
       "Rosenberg H.  Asterhan C. S. C.                                                                                                 1\n",
       "Collaborative for Academic Social                                                                                               1\n",
       "Cambridge University Press New York. Tan S. C                                                                                   1\n",
       "Design-Based Research Collective                                                                                                1\n",
       "Moss-Racusin CA Dovidio JF Brescoll VL Graham MJ                                                                                1\n",
       "Next Generation Science Standards Lead States                                                                                   1\n",
       "Kagohara  D.  van der Meer  L.  Ramdoss  S.  O ’ Reilly  M. F.  Lancioni  G. E.  Davis  T. N. Sigafoos  J .                     1\n",
       "Singapore Ministry of Education                                                                                                 1\n",
       "Ackerman N Atherton T Deconinck W Falk M Garmon S Henry E                                                                       1\n",
       "Hilgers J. . Examining children’s agency within participatory structures in primary science investigations. Learning Culture    1\n",
       "National Center for Educational Statistics.                                                                                     1\n",
       "Chandrasekharan S. . A distributed                                                                                              1\n",
       "Australian Curriculum Studies Association.                                                                                      1\n",
       "Middle School Mathematics through Applications Project Group.                                                                   1\n",
       "Practices within High School Students’ Portfolios of Making Electronic Textiles Margolis J                                      1\n",
       "Taylor K.H. . Learning along lines: Locative literacies for reading                                                             1\n",
       "Fields D. A. . Communicating Computational Concepts                                                                             1\n",
       "Moher D Liberati A Tetzlaff J Altman DG The PRISMA Group                                                                        1\n",
       "NY: Cambridge University Press. NRC.                                                                                            1\n",
       "American Psychological Association.                                                                                             1\n",
       "National Center for Education Statistics                                                                                        1\n",
       "Howard Hughes Medical Institute                                                                                                 1\n",
       "International Society for Technology in Education                                                                               1\n",
       "National Commission On Writing.                                                                                                 1\n",
       "Name: author, Length: 80, dtype: int64"
      ]
     },
     "execution_count": 50,
     "metadata": {},
     "output_type": "execute_result"
    }
   ],
   "source": [
    "df[df.author.map(lambda x: len(x) > 30)].author.value_counts()"
   ]
  },
  {
   "cell_type": "markdown",
   "metadata": {},
   "source": [
    "For an analysis of this dataset check the Dataexploration - References notebook"
   ]
  }
 ],
 "metadata": {
  "kernelspec": {
   "display_name": "Python 3",
   "language": "python",
   "name": "python3"
  },
  "language_info": {
   "codemirror_mode": {
    "name": "ipython",
    "version": 3
   },
   "file_extension": ".py",
   "mimetype": "text/x-python",
   "name": "python",
   "nbconvert_exporter": "python",
   "pygments_lexer": "ipython3",
   "version": "3.7.1"
  }
 },
 "nbformat": 4,
 "nbformat_minor": 2
}
