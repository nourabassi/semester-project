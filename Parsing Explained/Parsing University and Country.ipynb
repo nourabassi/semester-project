{
 "cells": [
  {
   "cell_type": "code",
   "execution_count": 1,
   "metadata": {},
   "outputs": [],
   "source": [
    "import re\n",
    "import regex as reg\n",
    "import pandas as pd\n",
    "import os\n",
    "import sys\n",
    "import json\n",
    "import numpy as np\n",
    "%matplotlib inline\n",
    "USER_ENV = '../data/' \n",
    "rootdir = USER_ENV + 'papers/'"
   ]
  },
  {
   "cell_type": "markdown",
   "metadata": {},
   "source": [
    "In this notebook I will describe the extraction of information relating to the affiliation of the paper authors.\n",
    "To this means, I used the header section of each paper:"
   ]
  },
  {
   "cell_type": "code",
   "execution_count": 2,
   "metadata": {},
   "outputs": [],
   "source": [
    "#reads txt file of each paper and stores it in contents\n",
    "contents = []\n",
    "i = 0\n",
    "source = []\n",
    "for subdir, dirs, files in os.walk(rootdir):\n",
    "    for file in files:\n",
    "        if 'txt' in file:\n",
    "            source.append(file[:-4])\n",
    "            i += 1\n",
    "            path = os.path.join(subdir, file)\n",
    "            with open(path) as file:\n",
    "                try:\n",
    "                    text = file.read()\n",
    "                    contents.append(text)\n",
    "                except:\n",
    "                    #Will fails for some files in python 3 \n",
    "                    name, message, content = sys.exc_info()\n",
    "                    print(message)"
   ]
  },
  {
   "cell_type": "code",
   "execution_count": 3,
   "metadata": {},
   "outputs": [],
   "source": [
    "paper_text = pd.DataFrame([contents, source]).T.rename(columns={0:'text', 1:'file'})"
   ]
  },
  {
   "cell_type": "code",
   "execution_count": 4,
   "metadata": {},
   "outputs": [
    {
     "data": {
      "text/html": [
       "<div>\n",
       "<style scoped>\n",
       "    .dataframe tbody tr th:only-of-type {\n",
       "        vertical-align: middle;\n",
       "    }\n",
       "\n",
       "    .dataframe tbody tr th {\n",
       "        vertical-align: top;\n",
       "    }\n",
       "\n",
       "    .dataframe thead th {\n",
       "        text-align: right;\n",
       "    }\n",
       "</style>\n",
       "<table border=\"1\" class=\"dataframe\">\n",
       "  <thead>\n",
       "    <tr style=\"text-align: right;\">\n",
       "      <th></th>\n",
       "      <th>text</th>\n",
       "      <th>file</th>\n",
       "    </tr>\n",
       "  </thead>\n",
       "  <tbody>\n",
       "    <tr>\n",
       "      <th>0</th>\n",
       "      <td>Learning Scientific Practices Through Particip...</td>\n",
       "      <td>import2018_371</td>\n",
       "    </tr>\n",
       "    <tr>\n",
       "      <th>1</th>\n",
       "      <td>Visualizing Complex Classrooms Through Real Ti...</td>\n",
       "      <td>import2018_417</td>\n",
       "    </tr>\n",
       "    <tr>\n",
       "      <th>2</th>\n",
       "      <td>Opening the Door to Algebra: The Role of Fract...</td>\n",
       "      <td>import2018_403</td>\n",
       "    </tr>\n",
       "    <tr>\n",
       "      <th>3</th>\n",
       "      <td>Measuring Maker Mindset: Establishing Content ...</td>\n",
       "      <td>import2018_365</td>\n",
       "    </tr>\n",
       "    <tr>\n",
       "      <th>4</th>\n",
       "      <td>Fostering University Freshmen’s Mathematical A...</td>\n",
       "      <td>import2016full_78</td>\n",
       "    </tr>\n",
       "  </tbody>\n",
       "</table>\n",
       "</div>"
      ],
      "text/plain": [
       "                                                text               file\n",
       "0  Learning Scientific Practices Through Particip...     import2018_371\n",
       "1  Visualizing Complex Classrooms Through Real Ti...     import2018_417\n",
       "2  Opening the Door to Algebra: The Role of Fract...     import2018_403\n",
       "3  Measuring Maker Mindset: Establishing Content ...     import2018_365\n",
       "4  Fostering University Freshmen’s Mathematical A...  import2016full_78"
      ]
     },
     "execution_count": 4,
     "metadata": {},
     "output_type": "execute_result"
    }
   ],
   "source": [
    "paper_text.head()"
   ]
  },
  {
   "cell_type": "markdown",
   "metadata": {},
   "source": [
    "## Finding affiliation (University) using email:\n",
    "\n",
    "### Domain mapping:\n",
    "\n",
    "Importing the mapping from domain to university (and country!)"
   ]
  },
  {
   "cell_type": "code",
   "execution_count": 5,
   "metadata": {},
   "outputs": [],
   "source": [
    "schools = open(USER_ENV+'world_universities_and_domains.json').read()\n",
    "parsed_json = json.loads(schools)"
   ]
  },
  {
   "cell_type": "markdown",
   "metadata": {},
   "source": [
    "Number of schools in json"
   ]
  },
  {
   "cell_type": "code",
   "execution_count": 6,
   "metadata": {},
   "outputs": [
    {
     "data": {
      "text/plain": [
       "9691"
      ]
     },
     "execution_count": 6,
     "metadata": {},
     "output_type": "execute_result"
    }
   ],
   "source": [
    "len(parsed_json)"
   ]
  },
  {
   "cell_type": "markdown",
   "metadata": {},
   "source": [
    "#### Rational for using email vs extracting institution from text:\n",
    "- easier to parse from text\n",
    "- unique / more robust to spelling changes"
   ]
  },
  {
   "cell_type": "markdown",
   "metadata": {},
   "source": [
    "what is the maximal number of domains per school?"
   ]
  },
  {
   "cell_type": "code",
   "execution_count": 7,
   "metadata": {},
   "outputs": [
    {
     "name": "stdout",
     "output_type": "stream",
     "text": [
      "Maximal number of domains per school:  3\n"
     ]
    }
   ],
   "source": [
    "print('Maximal number of domains per school: ', max([len(j['domains']) for j in parsed_json]))"
   ]
  },
  {
   "cell_type": "code",
   "execution_count": 8,
   "metadata": {},
   "outputs": [],
   "source": [
    "#creating the mapping from domain to university\n",
    "mapping = {}\n",
    "#creating mapping from domain to country\n",
    "country_uni = {}\n",
    "for j in parsed_json:\n",
    "    mapping[j['domains'][0]] = j['name']\n",
    "    country_uni[j['domains'][0]] = j['country']\n",
    "    if len(j['domains']) > 1:\n",
    "        mapping[j['domains'][1]] = j['name']\n",
    "        country_uni[j['domains'][1]] = j['country']\n",
    "    if len(j['domains']) > 2:\n",
    "        mapping[j['domains'][2]] = j['name']\n",
    "        country_uni[j['domains'][2]] = j['country']"
   ]
  },
  {
   "cell_type": "markdown",
   "metadata": {},
   "source": [
    "We decided to add the following domains as they come up often and do not appear in the above dataset:"
   ]
  },
  {
   "cell_type": "code",
   "execution_count": 9,
   "metadata": {},
   "outputs": [],
   "source": [
    "#adding in the most common university names not in json\n",
    "mapping['nie.edu.sg'] = \"National Institute of Education (NIE), Singapore\"\n",
    "mapping['rub.de'] = \"Ruhr-University Bochum\"\n",
    "mapping['uni-due.de'] = \"Universität Duisburg-Essen\"\n",
    "mapping['collide.info'] = \"Universität Duisburg-Essen\"\n",
    "mapping['dawsoncollege.qc.ca'] = \"Dawson College\"\n",
    "mapping['dawsoncollege.ca'] = \"Dawson College\"\n",
    "mapping['johnabbott.qc.ca'] = \"John Abbott College\"\n",
    "mapping['johnabbott.ca'] = \"John Abbott College\"\n",
    "mapping['vaniercollege.qc.ca'] = 'Vanier Colleege'"
   ]
  },
  {
   "cell_type": "markdown",
   "metadata": {},
   "source": [
    "The following two functions are used to get the mapping for a given email and extract the email from text:"
   ]
  },
  {
   "cell_type": "code",
   "execution_count": 10,
   "metadata": {},
   "outputs": [],
   "source": [
    "def get_school_from_mail(mail, mapping):\n",
    "    \"\"\"Maps email to institution\"\"\"\n",
    "    if mail in mapping:\n",
    "        return mapping[mail], mail\n",
    "    elif reg.findall('[\\p{L}0-9\\-]*\\.[\\p{L}0-9\\-]*$', mail)[0] in mapping:\n",
    "        double = reg.findall('[\\p{L}0-9\\-]*\\.[\\p{L}0-9\\-]*$', mail)[0]\n",
    "        return mapping[double], double\n",
    "    else:\n",
    "        triplet = reg.findall('[\\p{L}0-9\\-]*\\.[\\p{L}0-9\\-]*\\.[\\p{L}0-9\\-]*$', mail)\n",
    "        if len(triplet) > 0 and triplet[0] in mapping:\n",
    "            return (mapping[triplet[0]], triplet[0])\n",
    "        else:\n",
    "            return np.nan, mail"
   ]
  },
  {
   "cell_type": "code",
   "execution_count": 11,
   "metadata": {},
   "outputs": [],
   "source": [
    "def find_emails(x):\n",
    "    text, file = x.text, x.file\n",
    "    abstract_pos = text.find('\\nAbstract')\n",
    "    \n",
    "    mails_in_paper = reg.findall('[\\p{L}0-9\\.\\-\\+\\_]*@[\\p{L}0-9\\.\\-]*\\.[\\p{L}0-9\\.\\-]*(?!\\S*\\:\\S*)', \n",
    "                                 text[:abstract_pos])\n",
    "    return [(file, get_school_from_mail(m.split('@')[1].lower(), mapping), m) for m in mails_in_paper]\n",
    "    "
   ]
  },
  {
   "cell_type": "code",
   "execution_count": 12,
   "metadata": {},
   "outputs": [],
   "source": [
    "paper_text = paper_text.dropna()"
   ]
  },
  {
   "cell_type": "code",
   "execution_count": 13,
   "metadata": {},
   "outputs": [],
   "source": [
    "emails = pd.DataFrame([ (email[0], email[1][0], email[1][1], email[2], i) \n",
    "              for paper in paper_text.apply(find_emails, axis=1).tolist() for i, email in enumerate(paper)]\n",
    "            , columns=['file', 'name', 'domain', 'email', 'author_order'])"
   ]
  },
  {
   "cell_type": "code",
   "execution_count": 14,
   "metadata": {},
   "outputs": [
    {
     "data": {
      "text/html": [
       "<div>\n",
       "<style scoped>\n",
       "    .dataframe tbody tr th:only-of-type {\n",
       "        vertical-align: middle;\n",
       "    }\n",
       "\n",
       "    .dataframe tbody tr th {\n",
       "        vertical-align: top;\n",
       "    }\n",
       "\n",
       "    .dataframe thead th {\n",
       "        text-align: right;\n",
       "    }\n",
       "</style>\n",
       "<table border=\"1\" class=\"dataframe\">\n",
       "  <thead>\n",
       "    <tr style=\"text-align: right;\">\n",
       "      <th></th>\n",
       "      <th>file</th>\n",
       "      <th>name</th>\n",
       "      <th>domain</th>\n",
       "      <th>email</th>\n",
       "      <th>author_order</th>\n",
       "    </tr>\n",
       "  </thead>\n",
       "  <tbody>\n",
       "    <tr>\n",
       "      <th>0</th>\n",
       "      <td>import2018_371</td>\n",
       "      <td>University of Colorado at Boulder</td>\n",
       "      <td>colorado.edu</td>\n",
       "      <td>rebecca.swanson@colorado.edu</td>\n",
       "      <td>0</td>\n",
       "    </tr>\n",
       "    <tr>\n",
       "      <th>1</th>\n",
       "      <td>import2018_371</td>\n",
       "      <td>University of Colorado at Boulder</td>\n",
       "      <td>colorado.edu</td>\n",
       "      <td>leighanna.hinojosa@colorado.edu</td>\n",
       "      <td>1</td>\n",
       "    </tr>\n",
       "    <tr>\n",
       "      <th>2</th>\n",
       "      <td>import2018_371</td>\n",
       "      <td>University of Colorado at Boulder</td>\n",
       "      <td>colorado.edu</td>\n",
       "      <td>joseph.polman@colorado.edu</td>\n",
       "      <td>2</td>\n",
       "    </tr>\n",
       "    <tr>\n",
       "      <th>3</th>\n",
       "      <td>import2018_417</td>\n",
       "      <td>Indiana University at Bloomington</td>\n",
       "      <td>indiana.edu</td>\n",
       "      <td>huang220@indiana.edu</td>\n",
       "      <td>0</td>\n",
       "    </tr>\n",
       "    <tr>\n",
       "      <th>4</th>\n",
       "      <td>import2018_417</td>\n",
       "      <td>NaN</td>\n",
       "      <td>gmail.com</td>\n",
       "      <td>agomoll90@gmail.com</td>\n",
       "      <td>1</td>\n",
       "    </tr>\n",
       "  </tbody>\n",
       "</table>\n",
       "</div>"
      ],
      "text/plain": [
       "             file                               name        domain  \\\n",
       "0  import2018_371  University of Colorado at Boulder  colorado.edu   \n",
       "1  import2018_371  University of Colorado at Boulder  colorado.edu   \n",
       "2  import2018_371  University of Colorado at Boulder  colorado.edu   \n",
       "3  import2018_417  Indiana University at Bloomington   indiana.edu   \n",
       "4  import2018_417                                NaN     gmail.com   \n",
       "\n",
       "                             email  author_order  \n",
       "0     rebecca.swanson@colorado.edu             0  \n",
       "1  leighanna.hinojosa@colorado.edu             1  \n",
       "2       joseph.polman@colorado.edu             2  \n",
       "3             huang220@indiana.edu             0  \n",
       "4              agomoll90@gmail.com             1  "
      ]
     },
     "execution_count": 14,
     "metadata": {},
     "output_type": "execute_result"
    }
   ],
   "source": [
    "emails.head()"
   ]
  },
  {
   "cell_type": "markdown",
   "metadata": {},
   "source": [
    "Number of files that could be parsed:"
   ]
  },
  {
   "cell_type": "code",
   "execution_count": 15,
   "metadata": {},
   "outputs": [
    {
     "name": "stdout",
     "output_type": "stream",
     "text": [
      "Papers from which we parse mails :  864\n",
      "Total number of papers :  874\n"
     ]
    }
   ],
   "source": [
    "print('Papers from which we parse mails : ', len(emails.file.unique()))\n",
    "print('Total number of papers : ', len(paper_text.file.unique()))"
   ]
  },
  {
   "cell_type": "markdown",
   "metadata": {},
   "source": [
    "Papers for which we can not find emails are papers that were not parsed propperly:"
   ]
  },
  {
   "cell_type": "code",
   "execution_count": 16,
   "metadata": {},
   "outputs": [
    {
     "data": {
      "text/plain": [
       "{'import2016full_91',\n",
       " 'import2016full_92',\n",
       " 'import2016full_93',\n",
       " 'import2016full_94',\n",
       " 'import2016full_95',\n",
       " 'import2016full_96',\n",
       " 'import2016full_97',\n",
       " 'import2016full_98',\n",
       " 'import2016short_146',\n",
       " 'import2018_246'}"
      ]
     },
     "execution_count": 16,
     "metadata": {},
     "output_type": "execute_result"
    }
   ],
   "source": [
    "bad_files = set(paper_text.file.tolist())- set(emails.file.tolist())\n",
    "bad_files"
   ]
  },
  {
   "cell_type": "code",
   "execution_count": 17,
   "metadata": {},
   "outputs": [
    {
     "data": {
      "text/plain": [
       "106    Author Index\\nPages 1-702: Volume 1\\nPages 703...\n",
       "Name: text, dtype: object"
      ]
     },
     "execution_count": 17,
     "metadata": {},
     "output_type": "execute_result"
    }
   ],
   "source": [
    "paper_text[paper_text.file == 'import2016full_91'].text"
   ]
  },
  {
   "cell_type": "code",
   "execution_count": 18,
   "metadata": {},
   "outputs": [
    {
     "data": {
      "text/plain": [
       "'Multimodal Learning Analytics for the Qualitative Researcher\\nAuthor Name, Institution, Email\\nAbstract: The area of learning analytics is often viewed as a tool for supporting quantitative\\nanalysis. Ba'"
      ]
     },
     "execution_count": 18,
     "metadata": {},
     "output_type": "execute_result"
    }
   ],
   "source": [
    "paper_text[paper_text.file == 'import2018_246'].text.tolist()[0][:200]"
   ]
  },
  {
   "cell_type": "markdown",
   "metadata": {},
   "source": [
    "We are unable to get the university for 1/5 of all emails:"
   ]
  },
  {
   "cell_type": "code",
   "execution_count": 19,
   "metadata": {},
   "outputs": [
    {
     "data": {
      "text/plain": [
       "0.1689836268149521"
      ]
     },
     "execution_count": 19,
     "metadata": {},
     "output_type": "execute_result"
    }
   ],
   "source": [
    "emails[emails['name'].isna()].shape[0]/emails.shape[0]"
   ]
  },
  {
   "cell_type": "code",
   "execution_count": 20,
   "metadata": {},
   "outputs": [
    {
     "data": {
      "text/plain": [
       "547"
      ]
     },
     "execution_count": 20,
     "metadata": {},
     "output_type": "execute_result"
    }
   ],
   "source": [
    "emails[emails['name'].isna()].shape[0]"
   ]
  },
  {
   "cell_type": "markdown",
   "metadata": {},
   "source": [
    "This is largely due to so many people using gmail"
   ]
  },
  {
   "cell_type": "code",
   "execution_count": 21,
   "metadata": {},
   "outputs": [
    {
     "data": {
      "text/plain": [
       "gmail.com         215\n",
       "sri.com            24\n",
       "concord.org        16\n",
       "ets.org            11\n",
       "msichicago.org     11\n",
       "Name: domain, dtype: int64"
      ]
     },
     "execution_count": 21,
     "metadata": {},
     "output_type": "execute_result"
    }
   ],
   "source": [
    "emails[emails['name'].isna()].domain.value_counts().head()"
   ]
  },
  {
   "cell_type": "markdown",
   "metadata": {},
   "source": [
    "### Adding the country to a person:"
   ]
  },
  {
   "cell_type": "markdown",
   "metadata": {},
   "source": [
    "First we can simply use the mapping that we had defined above:"
   ]
  },
  {
   "cell_type": "code",
   "execution_count": 22,
   "metadata": {},
   "outputs": [],
   "source": [
    "emails['country'] = emails.domain.map(country_uni)"
   ]
  },
  {
   "cell_type": "code",
   "execution_count": 23,
   "metadata": {},
   "outputs": [
    {
     "data": {
      "text/html": [
       "<div>\n",
       "<style scoped>\n",
       "    .dataframe tbody tr th:only-of-type {\n",
       "        vertical-align: middle;\n",
       "    }\n",
       "\n",
       "    .dataframe tbody tr th {\n",
       "        vertical-align: top;\n",
       "    }\n",
       "\n",
       "    .dataframe thead th {\n",
       "        text-align: right;\n",
       "    }\n",
       "</style>\n",
       "<table border=\"1\" class=\"dataframe\">\n",
       "  <thead>\n",
       "    <tr style=\"text-align: right;\">\n",
       "      <th></th>\n",
       "      <th>file</th>\n",
       "      <th>name</th>\n",
       "      <th>domain</th>\n",
       "      <th>email</th>\n",
       "      <th>author_order</th>\n",
       "      <th>country</th>\n",
       "    </tr>\n",
       "  </thead>\n",
       "  <tbody>\n",
       "    <tr>\n",
       "      <th>0</th>\n",
       "      <td>import2018_371</td>\n",
       "      <td>University of Colorado at Boulder</td>\n",
       "      <td>colorado.edu</td>\n",
       "      <td>rebecca.swanson@colorado.edu</td>\n",
       "      <td>0</td>\n",
       "      <td>United States</td>\n",
       "    </tr>\n",
       "    <tr>\n",
       "      <th>1</th>\n",
       "      <td>import2018_371</td>\n",
       "      <td>University of Colorado at Boulder</td>\n",
       "      <td>colorado.edu</td>\n",
       "      <td>leighanna.hinojosa@colorado.edu</td>\n",
       "      <td>1</td>\n",
       "      <td>United States</td>\n",
       "    </tr>\n",
       "    <tr>\n",
       "      <th>2</th>\n",
       "      <td>import2018_371</td>\n",
       "      <td>University of Colorado at Boulder</td>\n",
       "      <td>colorado.edu</td>\n",
       "      <td>joseph.polman@colorado.edu</td>\n",
       "      <td>2</td>\n",
       "      <td>United States</td>\n",
       "    </tr>\n",
       "    <tr>\n",
       "      <th>3</th>\n",
       "      <td>import2018_417</td>\n",
       "      <td>Indiana University at Bloomington</td>\n",
       "      <td>indiana.edu</td>\n",
       "      <td>huang220@indiana.edu</td>\n",
       "      <td>0</td>\n",
       "      <td>United States</td>\n",
       "    </tr>\n",
       "    <tr>\n",
       "      <th>4</th>\n",
       "      <td>import2018_417</td>\n",
       "      <td>NaN</td>\n",
       "      <td>gmail.com</td>\n",
       "      <td>agomoll90@gmail.com</td>\n",
       "      <td>1</td>\n",
       "      <td>NaN</td>\n",
       "    </tr>\n",
       "  </tbody>\n",
       "</table>\n",
       "</div>"
      ],
      "text/plain": [
       "             file                               name        domain  \\\n",
       "0  import2018_371  University of Colorado at Boulder  colorado.edu   \n",
       "1  import2018_371  University of Colorado at Boulder  colorado.edu   \n",
       "2  import2018_371  University of Colorado at Boulder  colorado.edu   \n",
       "3  import2018_417  Indiana University at Bloomington   indiana.edu   \n",
       "4  import2018_417                                NaN     gmail.com   \n",
       "\n",
       "                             email  author_order        country  \n",
       "0     rebecca.swanson@colorado.edu             0  United States  \n",
       "1  leighanna.hinojosa@colorado.edu             1  United States  \n",
       "2       joseph.polman@colorado.edu             2  United States  \n",
       "3             huang220@indiana.edu             0  United States  \n",
       "4              agomoll90@gmail.com             1            NaN  "
      ]
     },
     "execution_count": 23,
     "metadata": {},
     "output_type": "execute_result"
    }
   ],
   "source": [
    "emails.head()"
   ]
  },
  {
   "cell_type": "markdown",
   "metadata": {},
   "source": [
    "Number of people to whom we could not associate a country, same as number of peopel to which we could not associate a University:"
   ]
  },
  {
   "cell_type": "code",
   "execution_count": 24,
   "metadata": {},
   "outputs": [
    {
     "data": {
      "text/plain": [
       "729"
      ]
     },
     "execution_count": 24,
     "metadata": {},
     "output_type": "execute_result"
    }
   ],
   "source": [
    "emails.country.isna().sum()"
   ]
  },
  {
   "cell_type": "markdown",
   "metadata": {},
   "source": [
    "However we can still add the country based on the email by identifying Country Code Top-Level Domains:"
   ]
  },
  {
   "cell_type": "code",
   "execution_count": 25,
   "metadata": {},
   "outputs": [],
   "source": [
    "countries = open(USER_ENV+'/country-by-domain-tld.json').read()\n",
    "parsed_countries = json.loads(countries)"
   ]
  },
  {
   "cell_type": "code",
   "execution_count": 26,
   "metadata": {},
   "outputs": [
    {
     "data": {
      "text/plain": [
       "[{'country': 'Afghanistan', 'tld': '.af'},\n",
       " {'country': 'Albania', 'tld': '.al'},\n",
       " {'country': 'Algeria', 'tld': '.dz'}]"
      ]
     },
     "execution_count": 26,
     "metadata": {},
     "output_type": "execute_result"
    }
   ],
   "source": [
    "parsed_countries[:3]"
   ]
  },
  {
   "cell_type": "code",
   "execution_count": 27,
   "metadata": {},
   "outputs": [],
   "source": [
    "#reordering to define mapping\n",
    "parsed_countries = { parsed['tld']: parsed['country'] for parsed in parsed_countries}"
   ]
  },
  {
   "cell_type": "markdown",
   "metadata": {},
   "source": [
    "We see that some values are missing and add them to the mapping in:"
   ]
  },
  {
   "cell_type": "code",
   "execution_count": 28,
   "metadata": {},
   "outputs": [],
   "source": [
    "parsed_countries['.uk']= \"United Kingdom\"\n",
    "parsed_countries['.us']  = \"United States\""
   ]
  },
  {
   "cell_type": "markdown",
   "metadata": {},
   "source": [
    "The following regex will match the top level domain:"
   ]
  },
  {
   "cell_type": "code",
   "execution_count": 29,
   "metadata": {},
   "outputs": [],
   "source": [
    "match_domain = '(\\.[a-zA-Z0-9]*$)'"
   ]
  },
  {
   "cell_type": "code",
   "execution_count": 30,
   "metadata": {},
   "outputs": [
    {
     "data": {
      "text/plain": [
       "['.uk']"
      ]
     },
     "execution_count": 30,
     "metadata": {},
     "output_type": "execute_result"
    }
   ],
   "source": [
    "#example:\n",
    "re.findall(match_domain,'ahaha.ad.uk')"
   ]
  },
  {
   "cell_type": "code",
   "execution_count": 31,
   "metadata": {},
   "outputs": [],
   "source": [
    "#first extract top level domain, the use matching to assign country\n",
    "emails.loc[emails.country.isna(), 'country'] = emails[emails.country.isna()].domain.map(\n",
    "    lambda x: re.findall(match_domain,x)[0]).map(parsed_countries)"
   ]
  },
  {
   "cell_type": "markdown",
   "metadata": {},
   "source": [
    "We can give a country to a large number of authors that way, keeping in mind that many of them are gmail adresses"
   ]
  },
  {
   "cell_type": "code",
   "execution_count": 32,
   "metadata": {},
   "outputs": [
    {
     "data": {
      "text/plain": [
       "439"
      ]
     },
     "execution_count": 32,
     "metadata": {},
     "output_type": "execute_result"
    }
   ],
   "source": [
    "emails.country.isna().sum()"
   ]
  },
  {
   "cell_type": "code",
   "execution_count": 33,
   "metadata": {},
   "outputs": [
    {
     "data": {
      "text/plain": [
       "gmail.com       215\n",
       "sri.com          24\n",
       "collide.info     20\n",
       "concord.org      16\n",
       "ets.org          11\n",
       "Name: domain, dtype: int64"
      ]
     },
     "execution_count": 33,
     "metadata": {},
     "output_type": "execute_result"
    }
   ],
   "source": [
    "emails[emails.country.isna()].domain.value_counts().head()"
   ]
  },
  {
   "cell_type": "markdown",
   "metadata": {},
   "source": [
    "The unmatched domains are:"
   ]
  },
  {
   "cell_type": "code",
   "execution_count": 34,
   "metadata": {},
   "outputs": [
    {
     "data": {
      "text/plain": [
       ".com             287\n",
       ".org              87\n",
       ".edu              22\n",
       ".info             20\n",
       ".net              16\n",
       ".gov               2\n",
       ".northwestern      1\n",
       ".cg                1\n",
       ".college           1\n",
       ".swiss             1\n",
       ".ed                1\n",
       "Name: domain, dtype: int64"
      ]
     },
     "execution_count": 34,
     "metadata": {},
     "output_type": "execute_result"
    }
   ],
   "source": [
    "emails[emails.country.isna()].domain.map(lambda x: re.findall(match_domain,x)[0]).value_counts()"
   ]
  },
  {
   "cell_type": "markdown",
   "metadata": {},
   "source": [
    "We can't say much about location from the remaining emails.\n",
    "\n",
    "As still a lot of mails are remaining, we use more fancy ways to parse:"
   ]
  },
  {
   "cell_type": "markdown",
   "metadata": {},
   "source": [
    "## Better email parsing using named entity detection: \n",
    "\n",
    "In this section we will use a complementary approach to extract more universities by using Name entitiy dectection and some clever heuristics.\n",
    "\n",
    "First defining the data to work with:"
   ]
  },
  {
   "cell_type": "code",
   "execution_count": 35,
   "metadata": {},
   "outputs": [],
   "source": [
    "#exclude bad files\n",
    "pre_abstract = paper_text[~paper_text.file.isin(bad_files)].copy()\n",
    "\n",
    "#only consider portion before abstract\n",
    "pre_abstract['text'] = pre_abstract.text.map(lambda paper: paper[:paper.find('\\nAbstract')])\n",
    "pre_abstract['file'] = paper_text.file.copy()"
   ]
  },
  {
   "cell_type": "code",
   "execution_count": 36,
   "metadata": {},
   "outputs": [
    {
     "data": {
      "text/html": [
       "<div>\n",
       "<style scoped>\n",
       "    .dataframe tbody tr th:only-of-type {\n",
       "        vertical-align: middle;\n",
       "    }\n",
       "\n",
       "    .dataframe tbody tr th {\n",
       "        vertical-align: top;\n",
       "    }\n",
       "\n",
       "    .dataframe thead th {\n",
       "        text-align: right;\n",
       "    }\n",
       "</style>\n",
       "<table border=\"1\" class=\"dataframe\">\n",
       "  <thead>\n",
       "    <tr style=\"text-align: right;\">\n",
       "      <th></th>\n",
       "      <th>text</th>\n",
       "      <th>file</th>\n",
       "    </tr>\n",
       "  </thead>\n",
       "  <tbody>\n",
       "    <tr>\n",
       "      <th>0</th>\n",
       "      <td>Learning Scientific Practices Through Particip...</td>\n",
       "      <td>import2018_371</td>\n",
       "    </tr>\n",
       "    <tr>\n",
       "      <th>1</th>\n",
       "      <td>Visualizing Complex Classrooms Through Real Ti...</td>\n",
       "      <td>import2018_417</td>\n",
       "    </tr>\n",
       "    <tr>\n",
       "      <th>2</th>\n",
       "      <td>Opening the Door to Algebra: The Role of Fract...</td>\n",
       "      <td>import2018_403</td>\n",
       "    </tr>\n",
       "    <tr>\n",
       "      <th>3</th>\n",
       "      <td>Measuring Maker Mindset: Establishing Content ...</td>\n",
       "      <td>import2018_365</td>\n",
       "    </tr>\n",
       "    <tr>\n",
       "      <th>4</th>\n",
       "      <td>Fostering University Freshmen’s Mathematical A...</td>\n",
       "      <td>import2016full_78</td>\n",
       "    </tr>\n",
       "  </tbody>\n",
       "</table>\n",
       "</div>"
      ],
      "text/plain": [
       "                                                text               file\n",
       "0  Learning Scientific Practices Through Particip...     import2018_371\n",
       "1  Visualizing Complex Classrooms Through Real Ti...     import2018_417\n",
       "2  Opening the Door to Algebra: The Role of Fract...     import2018_403\n",
       "3  Measuring Maker Mindset: Establishing Content ...     import2018_365\n",
       "4  Fostering University Freshmen’s Mathematical A...  import2016full_78"
      ]
     },
     "execution_count": 36,
     "metadata": {},
     "output_type": "execute_result"
    }
   ],
   "source": [
    "pre_abstract.head()"
   ]
  },
  {
   "cell_type": "markdown",
   "metadata": {},
   "source": [
    "First, we split up the pre-abstract string in order to get the different parts, names, emails, the associated organisation.\n",
    "\n",
    "As some universities have the following format (general location, precise location):\n",
    "`University of California, Berkely`\n",
    "We merge strings together if there are two subsequents segments of the string which contain a mention of a country or city. The GeoText library allows to do that. The library can not perfectly recoginize all location strings, but as it does not make calls to an external API we prefer it here. It is sufficient for this purpose:"
   ]
  },
  {
   "cell_type": "code",
   "execution_count": 37,
   "metadata": {},
   "outputs": [],
   "source": [
    "from geotext import GeoText\n",
    "\n",
    "def get_header_units(text):\n",
    "    x = [reg.sub('\\([\\w]*\\)' , '', i.strip()) for i in reg.split('\\n|\\,|/|;', text) if len(i.strip()) > 0]\n",
    "    for i, sentence in enumerate(x):\n",
    "        places = GeoText(sentence)\n",
    "        if (len(places.cities) > 0 and sentence == places.cities[0]) or \\\n",
    "        (len(places.countries) > 0 and sentence == places.countries[0]):\n",
    "            x[i-1] += ', '+sentence\n",
    "            x[i] = ''\n",
    "        if '@' in sentence:\n",
    "            x[i] = [mail.strip() for mail in sentence.split(' ') if '@' in mail][0]\n",
    "    return [i.strip() for i in x if len(i.strip()) > 0]"
   ]
  },
  {
   "cell_type": "code",
   "execution_count": 38,
   "metadata": {},
   "outputs": [],
   "source": [
    "pre_abstract['split_header'] = pre_abstract.text.map(get_header_units)"
   ]
  },
  {
   "cell_type": "markdown",
   "metadata": {},
   "source": [
    "to get a first idea what kind of words could help us identify universities we look at frequency counts in the string:"
   ]
  },
  {
   "cell_type": "code",
   "execution_count": 39,
   "metadata": {},
   "outputs": [],
   "source": [
    "def explore_data(x):\n",
    "    name = []\n",
    "    for i, sentence in enumerate(x):\n",
    "        if '@' in sentence:\n",
    "            if not '@' in x[i-1]:\n",
    "                name.append(x[i-1].split(' '))\n",
    "    return [i for x in name for i in x if (len(GeoText(i).cities) == 0 and len(GeoText(i).countries) == 0) or 'University' in i]\n",
    "\n",
    "Potential_universities = [i for x in pre_abstract.split_header.tolist() for i in explore_data(x)]"
   ]
  },
  {
   "cell_type": "code",
   "execution_count": 40,
   "metadata": {},
   "outputs": [
    {
     "data": {
      "text/plain": [
       "University        1706\n",
       "of                1067\n",
       "and                270\n",
       "State              171\n",
       "The                115\n",
       "at                  98\n",
       "Institute           95\n",
       "College             86\n",
       "Technology          78\n",
       "Pennsylvania        73\n",
       "Indiana             69\n",
       "Illinois            65\n",
       "California,         57\n",
       "New                 55\n",
       "Stanford            48\n",
       "Hong                46\n",
       "Northwestern        45\n",
       "Mellon              44\n",
       "Duisburg-Essen      41\n",
       "Kong                41\n",
       "dtype: int64"
      ]
     },
     "execution_count": 40,
     "metadata": {},
     "output_type": "execute_result"
    }
   ],
   "source": [
    "pd.Series(Potential_universities).value_counts().head(20)"
   ]
  },
  {
   "cell_type": "markdown",
   "metadata": {},
   "source": [
    "from this list we gathered the following list of words marking a string as an institution of some kind:"
   ]
  },
  {
   "cell_type": "code",
   "execution_count": 41,
   "metadata": {},
   "outputs": [],
   "source": [
    "Institutions = ['Universiteit', 'Università', 'Universität','University','Universidad', 'Institute',\n",
    "                'Instituto', 'College', 'Col·legi', 'École','Ecole', 'Center', 'Gimnasio', 'UniDistance', \n",
    "                'Gymnasium', 'School', 'Bundeswehr', 'Foundation', 'Department', 'Universidade', 'Google', 'Technion',\n",
    "               'Consortium', 'Faculty', 'CNRS', 'Ministry', 'Museum', 'Lab', 'Scuola', 'Hochschule', 'Université']\n",
    "\n",
    "match_institutions = '|'.join(Institutions+['Eureka']).lower()"
   ]
  },
  {
   "cell_type": "markdown",
   "metadata": {},
   "source": [
    "This list will be used later to refine our search and is not used uniquely to idenfity if a subsequence of a sentence is the university name or not. To find the whole list we manually went through the not so long list of potential universities\n",
    "    "
   ]
  },
  {
   "cell_type": "markdown",
   "metadata": {},
   "source": [
    "Instead we use spacy to tag certain entities (Named entity dectection). Spacy works reasonably well, but not well enough to just use it by itself, as it is is very error prone for the categories we use it for. It also labels asian names as organisations :(. To circumvent this we use regex to detect alternative entities and clean up string to increase the chances of a string getting labeled correctly:"
   ]
  },
  {
   "cell_type": "code",
   "execution_count": 42,
   "metadata": {},
   "outputs": [],
   "source": [
    "import spacy\n",
    "\n",
    "nlp = spacy.load('en_core_web_sm')\n",
    "\n",
    "def person_or_org(doc):\n",
    "    for ent in doc.ents:\n",
    "        if  ent.label_ == 'ORG':\n",
    "            return 'ORG'\n",
    "        if  ent.label_ == 'PERSON' and len(ent.text) < 50:\n",
    "            return 'PERSON'\n",
    "    return '?'"
   ]
  },
  {
   "cell_type": "markdown",
   "metadata": {},
   "source": [
    "We use the names from the metadata to identify people for when is person fails:"
   ]
  },
  {
   "cell_type": "code",
   "execution_count": 43,
   "metadata": {},
   "outputs": [],
   "source": [
    "metadata = pd.read_csv('../data/name_dict.csv', index_col=0, header=None)\n",
    "names = metadata[1].tolist()"
   ]
  },
  {
   "cell_type": "markdown",
   "metadata": {},
   "source": [
    "We normalize the unicode data to increase overlap so that characters that look the same are treated the same:"
   ]
  },
  {
   "cell_type": "code",
   "execution_count": 44,
   "metadata": {},
   "outputs": [],
   "source": [
    "import unicodedata"
   ]
  },
  {
   "cell_type": "code",
   "execution_count": 45,
   "metadata": {},
   "outputs": [],
   "source": [
    "def isname(names, x):\n",
    "    pot = []\n",
    "    for n in names:\n",
    "        y = set([i for i in reg.split(' |\\,|\\-', unicodedata.normalize('NFC', x)) if len(i) > 0])\n",
    "        name = set([i for i in reg.split(' |\\,|\\-', unicodedata.normalize('NFC', n)) if len(i) > 0])\n",
    "        if len(name.intersection(y)) > 1:\n",
    "            pot.append(n)\n",
    "    if len(pot) == 1:\n",
    "        return True\n",
    "    else:\n",
    "        return False"
   ]
  },
  {
   "cell_type": "code",
   "execution_count": 46,
   "metadata": {},
   "outputs": [],
   "source": [
    "unis = set(emails.name.dropna().unique()+['Ben-Gurion University of the Negev'])#set(pd.Series(list(mapping.values())).drop_duplicates().tolist())"
   ]
  },
  {
   "cell_type": "markdown",
   "metadata": {},
   "source": [
    "We create a tagger that tagges the first part of the emails:"
   ]
  },
  {
   "cell_type": "code",
   "execution_count": 47,
   "metadata": {},
   "outputs": [],
   "source": [
    "def tag_element(x):\n",
    "    #check if @ and . in x=> email (only @ is not sufficient)\n",
    "    if reg.search('@', x) and reg.search('\\.', x) :\n",
    "        return 'EMAIL'\n",
    "    \n",
    "    #do cheap operations first\n",
    "    if isname(set(names), x):\n",
    "        return 'PERSON'\n",
    "    if re.search(match_institutions, x):\n",
    "        return 'ORG'\n",
    "    if isname(unis, x):\n",
    "        return 'ORG'\n",
    "    \n",
    "    y = nlp(x)\n",
    "    return person_or_org(y)\n",
    "\n",
    "def tag_elements(sentence):\n",
    "    return [(i, tag_element(i)) for j, i in enumerate(sentence)]\n"
   ]
  },
  {
   "cell_type": "markdown",
   "metadata": {},
   "source": [
    "<span style='color:red'>Warning: this line takes forever to run</sapn>"
   ]
  },
  {
   "cell_type": "code",
   "execution_count": 48,
   "metadata": {},
   "outputs": [],
   "source": [
    "structure = pre_abstract.split_header.map(tag_elements)"
   ]
  },
  {
   "cell_type": "markdown",
   "metadata": {},
   "source": [
    "The following function is the used to extract emails and the corresponding institution.\n",
    "The idea behind the algoritms is that there are two ways the people and emails are listed. We decide what type of listing a paper used and extract email - association using this additonal knowledge: "
   ]
  },
  {
   "cell_type": "code",
   "execution_count": 49,
   "metadata": {},
   "outputs": [
    {
     "data": {
      "text/plain": [
       "[[('Mobilizing Learning Progressions for Teacher Use: Examining the', '?'),\n",
       "  ('Utility of Outside Learning Progressions in Task Co-Design', '?'),\n",
       "  ('Erin Marie Furtak', 'PERSON'),\n",
       "  ('University of Colorado Boulder', 'ORG'),\n",
       "  ('erin.furtak@colorado.edu', 'EMAIL'),\n",
       "  ('Kelsey Tayne', 'PERSON'),\n",
       "  ('University of Colorado Boulder', 'ORG'),\n",
       "  ('kelsey.tayne@colorado.edu', 'EMAIL')]]"
      ]
     },
     "execution_count": 49,
     "metadata": {},
     "output_type": "execute_result"
    }
   ],
   "source": [
    "structure.sample(1).tolist()"
   ]
  },
  {
   "cell_type": "markdown",
   "metadata": {},
   "source": [
    "Possible Combinations:\n",
    "\n",
    "1. PERSON '' ORG EMAIL\n",
    "2. PERSON PERSON () EMAIL EMAIL () ORG\n",
    "\n",
    "The function below identifies which type we are dealing with:"
   ]
  },
  {
   "cell_type": "code",
   "execution_count": 50,
   "metadata": {},
   "outputs": [],
   "source": [
    "def list_type_1(list_):\n",
    "    string = ''.join(list_)\n",
    "    return 'EMAILORG' in string or 'EMAILEMAIL' in string\n",
    "\n",
    "def list_type_2(list_):\n",
    "    string = ''.join(list_)\n",
    "    #second part handles missclassification\n",
    "    return 'ORG'+'EMAIL' in string or 'ORGORGEMAIL' in string or '?EMAIL' in string\n"
   ]
  },
  {
   "cell_type": "markdown",
   "metadata": {},
   "source": [
    "These two functions are then used to extract the corresponding mapping:"
   ]
  },
  {
   "cell_type": "code",
   "execution_count": 51,
   "metadata": {},
   "outputs": [],
   "source": [
    "def email_org_mapping(tagged):\n",
    "    mapping = {}\n",
    "    mail_before_org = []\n",
    "    org = ''\n",
    "    for index, (text, tag) in enumerate(tagged):\n",
    "        if tag == 'EMAIL':\n",
    "            mail_before_org.append(text)\n",
    "        if tag == 'ORG' or tag=='?' and len(mail_before_org) > 0:\n",
    "            org += text\n",
    "            \n",
    "            if not (index+1 < len(tagged) and tagged[index+1][1] == 'ORG'):\n",
    "                for mail in mail_before_org:\n",
    "                    mapping[mail] = text\n",
    "                mail_before_org = []\n",
    "                org = ''\n",
    "    return mapping"
   ]
  },
  {
   "cell_type": "code",
   "execution_count": 52,
   "metadata": {},
   "outputs": [],
   "source": [
    "def org_email_mapping(tagged):\n",
    "    mapping = {}\n",
    "    for index, (text, tag) in enumerate(tagged):\n",
    "\n",
    "        if tag == 'EMAIL' and tagged[index-1][1] == 'ORG':\n",
    "            org = ''\n",
    "            if tagged[index-2][1] == 'ORG':\n",
    "                org = tagged[index-2][0] + ', ' \n",
    "            \n",
    "            mapping.update({text: org+tagged[index-1][0]})\n",
    "\n",
    "    return mapping"
   ]
  },
  {
   "cell_type": "code",
   "execution_count": 53,
   "metadata": {},
   "outputs": [],
   "source": [
    "mail_uni_1 = {}\n",
    "\n",
    "_ = structure[structure.map(lambda x: [i for j, i in x]).map(list_type_1)].map(email_org_mapping\n",
    "                                                                             ).map(lambda x: mail_uni_1.update(x))\n",
    "mail_uni_2 = {}\n",
    "_ = structure[structure.map(lambda x: [i for j, i in x]).map(list_type_2)].map(org_email_mapping\n",
    "                                                                                 ).map(lambda x: mail_uni_2.update(x) if x else False)"
   ]
  },
  {
   "cell_type": "markdown",
   "metadata": {},
   "source": [
    "Finally we only have few mails for which we do not find an assoc."
   ]
  },
  {
   "cell_type": "code",
   "execution_count": 54,
   "metadata": {},
   "outputs": [
    {
     "data": {
      "text/plain": [
       "1644"
      ]
     },
     "execution_count": 54,
     "metadata": {},
     "output_type": "execute_result"
    }
   ],
   "source": [
    "emails.email.map(mail_uni_1).isna().sum()"
   ]
  },
  {
   "cell_type": "code",
   "execution_count": 55,
   "metadata": {},
   "outputs": [
    {
     "data": {
      "text/plain": [
       "789"
      ]
     },
     "execution_count": 55,
     "metadata": {},
     "output_type": "execute_result"
    }
   ],
   "source": [
    "emails.email.map(mail_uni_2).isna().sum()"
   ]
  },
  {
   "cell_type": "code",
   "execution_count": 56,
   "metadata": {},
   "outputs": [],
   "source": [
    "emails['alternate_uni'] = emails.email.map(mail_uni_1)"
   ]
  },
  {
   "cell_type": "code",
   "execution_count": 57,
   "metadata": {},
   "outputs": [],
   "source": [
    "emails.loc[emails.alternate_uni.isna(), 'alternate_uni'] = emails.email.map(mail_uni_2)"
   ]
  },
  {
   "cell_type": "markdown",
   "metadata": {},
   "source": [
    "people for which we don't have an association through either method:"
   ]
  },
  {
   "cell_type": "code",
   "execution_count": 58,
   "metadata": {},
   "outputs": [
    {
     "data": {
      "text/plain": [
       "63"
      ]
     },
     "execution_count": 58,
     "metadata": {},
     "output_type": "execute_result"
    }
   ],
   "source": [
    "emails[(emails.name.isna()) & (emails.alternate_uni.isna())].shape[0]"
   ]
  },
  {
   "cell_type": "markdown",
   "metadata": {},
   "source": [
    "So less than 5% goes unmapped!"
   ]
  },
  {
   "cell_type": "code",
   "execution_count": 59,
   "metadata": {},
   "outputs": [
    {
     "data": {
      "text/plain": [
       "0.0306420233463035"
      ]
     },
     "execution_count": 59,
     "metadata": {},
     "output_type": "execute_result"
    }
   ],
   "source": [
    "emails[(emails.name.isna()) & (emails.alternate_uni.isna())].shape[0]/emails.email.drop_duplicates().shape[0]"
   ]
  },
  {
   "cell_type": "markdown",
   "metadata": {},
   "source": [
    "additionaly, we could also find the names using this! as we tag person aswell"
   ]
  },
  {
   "cell_type": "markdown",
   "metadata": {},
   "source": [
    "### Now we unify the university namings:"
   ]
  },
  {
   "cell_type": "markdown",
   "metadata": {},
   "source": [
    "We use the overlap between the mapping we found using the first method and the second method to get them the same name:"
   ]
  },
  {
   "cell_type": "code",
   "execution_count": 60,
   "metadata": {},
   "outputs": [],
   "source": [
    "uni_unification = {}\n",
    "for i, row in emails[emails.alternate_uni.notna() &(emails.name.notna())][['name', 'alternate_uni']].iterrows():\n",
    "    if row.alternate_uni != row['name']:\n",
    "        uni_unification[row.alternate_uni] = row['name']"
   ]
  },
  {
   "cell_type": "code",
   "execution_count": 61,
   "metadata": {},
   "outputs": [],
   "source": [
    "emails['fixed_uni'] = emails.alternate_uni.map(uni_unification)"
   ]
  },
  {
   "cell_type": "code",
   "execution_count": 62,
   "metadata": {},
   "outputs": [],
   "source": [
    "emails.loc[emails.name.isna() & emails.fixed_uni.notna(), 'name'] = emails.fixed_uni"
   ]
  },
  {
   "cell_type": "code",
   "execution_count": 63,
   "metadata": {},
   "outputs": [],
   "source": [
    "emails.loc[emails.name.isna() & emails.alternate_uni.notna(), 'name'] = emails.alternate_uni"
   ]
  },
  {
   "cell_type": "code",
   "execution_count": 64,
   "metadata": {},
   "outputs": [],
   "source": [
    "del emails['alternate_uni'], emails['fixed_uni']"
   ]
  },
  {
   "cell_type": "markdown",
   "metadata": {},
   "source": [
    "These are the mails that are still missing. The issue with these two is due to the useage of `and`. Two isn't that bad so we ignore them for now."
   ]
  },
  {
   "cell_type": "code",
   "execution_count": 65,
   "metadata": {},
   "outputs": [
    {
     "data": {
      "text/html": [
       "<div>\n",
       "<style scoped>\n",
       "    .dataframe tbody tr th:only-of-type {\n",
       "        vertical-align: middle;\n",
       "    }\n",
       "\n",
       "    .dataframe tbody tr th {\n",
       "        vertical-align: top;\n",
       "    }\n",
       "\n",
       "    .dataframe thead th {\n",
       "        text-align: right;\n",
       "    }\n",
       "</style>\n",
       "<table border=\"1\" class=\"dataframe\">\n",
       "  <thead>\n",
       "    <tr style=\"text-align: right;\">\n",
       "      <th></th>\n",
       "      <th>file</th>\n",
       "      <th>name</th>\n",
       "      <th>domain</th>\n",
       "      <th>email</th>\n",
       "      <th>author_order</th>\n",
       "      <th>country</th>\n",
       "    </tr>\n",
       "  </thead>\n",
       "  <tbody>\n",
       "    <tr>\n",
       "      <th>70</th>\n",
       "      <td>import2016short_166</td>\n",
       "      <td>NaN</td>\n",
       "      <td>kent.ac.uk</td>\n",
       "      <td>s.a.fincher@kent.ac.uk</td>\n",
       "      <td>0</td>\n",
       "      <td>United Kingdom</td>\n",
       "    </tr>\n",
       "    <tr>\n",
       "      <th>71</th>\n",
       "      <td>import2016short_166</td>\n",
       "      <td>NaN</td>\n",
       "      <td>kent.ac.uk</td>\n",
       "      <td>sd485@kent.ac.uk</td>\n",
       "      <td>1</td>\n",
       "      <td>United Kingdom</td>\n",
       "    </tr>\n",
       "    <tr>\n",
       "      <th>74</th>\n",
       "      <td>import2016short_166</td>\n",
       "      <td>NaN</td>\n",
       "      <td>getdown.org</td>\n",
       "      <td>ben+web@getdown.org</td>\n",
       "      <td>4</td>\n",
       "      <td>NaN</td>\n",
       "    </tr>\n",
       "    <tr>\n",
       "      <th>113</th>\n",
       "      <td>import2015short_191</td>\n",
       "      <td>NaN</td>\n",
       "      <td>gmail.com</td>\n",
       "      <td>soeren.werneburg@gmail.com</td>\n",
       "      <td>3</td>\n",
       "      <td>NaN</td>\n",
       "    </tr>\n",
       "    <tr>\n",
       "      <th>144</th>\n",
       "      <td>import2016short_173</td>\n",
       "      <td>NaN</td>\n",
       "      <td>exeter.ac.uk</td>\n",
       "      <td>R.B.Wegerif@exeter.ac.uk</td>\n",
       "      <td>11</td>\n",
       "      <td>United Kingdom</td>\n",
       "    </tr>\n",
       "  </tbody>\n",
       "</table>\n",
       "</div>"
      ],
      "text/plain": [
       "                    file name        domain                       email  \\\n",
       "70   import2016short_166  NaN    kent.ac.uk      s.a.fincher@kent.ac.uk   \n",
       "71   import2016short_166  NaN    kent.ac.uk            sd485@kent.ac.uk   \n",
       "74   import2016short_166  NaN   getdown.org         ben+web@getdown.org   \n",
       "113  import2015short_191  NaN     gmail.com  soeren.werneburg@gmail.com   \n",
       "144  import2016short_173  NaN  exeter.ac.uk    R.B.Wegerif@exeter.ac.uk   \n",
       "\n",
       "     author_order         country  \n",
       "70              0  United Kingdom  \n",
       "71              1  United Kingdom  \n",
       "74              4             NaN  \n",
       "113             3             NaN  \n",
       "144            11  United Kingdom  "
      ]
     },
     "execution_count": 65,
     "metadata": {},
     "output_type": "execute_result"
    }
   ],
   "source": [
    "emails.loc[emails.name.isna()].head()"
   ]
  },
  {
   "cell_type": "markdown",
   "metadata": {},
   "source": [
    "### Now fix the country aswell now that we have uni:"
   ]
  },
  {
   "cell_type": "code",
   "execution_count": 66,
   "metadata": {},
   "outputs": [],
   "source": [
    "country_matching = {}\n",
    "for i, row in emails[emails.country.notna()].iterrows():\n",
    "    country_matching[row['name']] = row.country"
   ]
  },
  {
   "cell_type": "code",
   "execution_count": 67,
   "metadata": {},
   "outputs": [],
   "source": [
    "emails.loc[emails.country.isna(), 'country'] = emails.name.map(country_matching)"
   ]
  },
  {
   "cell_type": "markdown",
   "metadata": {},
   "source": [
    "We still have a lot of non matching unis, we will fix this while we get the longitude and latitude of each location:"
   ]
  },
  {
   "cell_type": "code",
   "execution_count": 68,
   "metadata": {},
   "outputs": [
    {
     "data": {
      "text/plain": [
       "156"
      ]
     },
     "execution_count": 68,
     "metadata": {},
     "output_type": "execute_result"
    }
   ],
   "source": [
    "emails.loc[emails.country.isna()].shape[0]"
   ]
  },
  {
   "cell_type": "code",
   "execution_count": 69,
   "metadata": {},
   "outputs": [
    {
     "data": {
      "text/html": [
       "<div>\n",
       "<style scoped>\n",
       "    .dataframe tbody tr th:only-of-type {\n",
       "        vertical-align: middle;\n",
       "    }\n",
       "\n",
       "    .dataframe tbody tr th {\n",
       "        vertical-align: top;\n",
       "    }\n",
       "\n",
       "    .dataframe thead th {\n",
       "        text-align: right;\n",
       "    }\n",
       "</style>\n",
       "<table border=\"1\" class=\"dataframe\">\n",
       "  <thead>\n",
       "    <tr style=\"text-align: right;\">\n",
       "      <th></th>\n",
       "      <th>file</th>\n",
       "      <th>name</th>\n",
       "      <th>domain</th>\n",
       "      <th>email</th>\n",
       "      <th>author_order</th>\n",
       "      <th>country</th>\n",
       "    </tr>\n",
       "  </thead>\n",
       "  <tbody>\n",
       "    <tr>\n",
       "      <th>53</th>\n",
       "      <td>import2015short_218</td>\n",
       "      <td>Utsunomiya University</td>\n",
       "      <td>kubota-lab.net</td>\n",
       "      <td>kubota@kubota-lab.net</td>\n",
       "      <td>4</td>\n",
       "      <td>NaN</td>\n",
       "    </tr>\n",
       "    <tr>\n",
       "      <th>54</th>\n",
       "      <td>import2015short_218</td>\n",
       "      <td>Ibaraki University</td>\n",
       "      <td>suzuki-lab.net</td>\n",
       "      <td>hideyuki@suzuki-lab.net</td>\n",
       "      <td>5</td>\n",
       "      <td>NaN</td>\n",
       "    </tr>\n",
       "    <tr>\n",
       "      <th>63</th>\n",
       "      <td>import2017_77</td>\n",
       "      <td>Swiss Federal Institute for Vocational Educati...</td>\n",
       "      <td>iuffp.swiss</td>\n",
       "      <td>Alberto.Cattaneo@iuffp.swiss</td>\n",
       "      <td>3</td>\n",
       "      <td>NaN</td>\n",
       "    </tr>\n",
       "    <tr>\n",
       "      <th>88</th>\n",
       "      <td>import2018_211</td>\n",
       "      <td>School of Education, University of Nottingham</td>\n",
       "      <td>gmail.com</td>\n",
       "      <td>nurjanah.mjaafar@gmail.com</td>\n",
       "      <td>0</td>\n",
       "      <td>NaN</td>\n",
       "    </tr>\n",
       "    <tr>\n",
       "      <th>163</th>\n",
       "      <td>import2016short_167</td>\n",
       "      <td>Hiatt Center for Urban Education, Clark Univer...</td>\n",
       "      <td>gmail.com</td>\n",
       "      <td>kateb369@gmail.com</td>\n",
       "      <td>18</td>\n",
       "      <td>NaN</td>\n",
       "    </tr>\n",
       "  </tbody>\n",
       "</table>\n",
       "</div>"
      ],
      "text/plain": [
       "                    file                                               name  \\\n",
       "53   import2015short_218                              Utsunomiya University   \n",
       "54   import2015short_218                                 Ibaraki University   \n",
       "63         import2017_77  Swiss Federal Institute for Vocational Educati...   \n",
       "88        import2018_211      School of Education, University of Nottingham   \n",
       "163  import2016short_167  Hiatt Center for Urban Education, Clark Univer...   \n",
       "\n",
       "             domain                         email  author_order country  \n",
       "53   kubota-lab.net         kubota@kubota-lab.net             4     NaN  \n",
       "54   suzuki-lab.net       hideyuki@suzuki-lab.net             5     NaN  \n",
       "63      iuffp.swiss  Alberto.Cattaneo@iuffp.swiss             3     NaN  \n",
       "88        gmail.com    nurjanah.mjaafar@gmail.com             0     NaN  \n",
       "163       gmail.com            kateb369@gmail.com            18     NaN  "
      ]
     },
     "execution_count": 69,
     "metadata": {},
     "output_type": "execute_result"
    }
   ],
   "source": [
    "emails.loc[emails.country.isna()].head()"
   ]
  },
  {
   "cell_type": "markdown",
   "metadata": {},
   "source": [
    "## Using external sources to complete the dataset:\n",
    "\n",
    "First we use wikipedia as it does not have a limit on how many requests we can make"
   ]
  },
  {
   "cell_type": "code",
   "execution_count": 70,
   "metadata": {},
   "outputs": [],
   "source": [
    "Full_uni = emails.name.dropna().unique()"
   ]
  },
  {
   "cell_type": "code",
   "execution_count": 71,
   "metadata": {},
   "outputs": [],
   "source": [
    "import urllib3\n",
    "from bs4 import BeautifulSoup\n",
    "urllib3.disable_warnings()\n",
    "from urllib.parse import quote "
   ]
  },
  {
   "cell_type": "code",
   "execution_count": 72,
   "metadata": {},
   "outputs": [],
   "source": [
    "def parse_response(data):\n",
    "    soup = BeautifulSoup(data, 'html.parser')\n",
    "    #check if it contains geodata\n",
    "    if soup.find_all('span', class_='latitude'):\n",
    "        lat = soup.find_all('span', class_='latitude')[0].get_text()\n",
    "        lon = soup.find_all('span', class_='longitude')[0].get_text()\n",
    "        country = ''\n",
    "        #check if it countains country info\n",
    "        if len(soup.find_all('div', class_='country-name')) > 0:\n",
    "            country = soup.find_all('div', class_='country-name')[0].get_text()\n",
    "        return ((lat +' ; '+lon), country)\n",
    "\n",
    "    return None, None"
   ]
  },
  {
   "cell_type": "code",
   "execution_count": 73,
   "metadata": {},
   "outputs": [],
   "source": [
    "def find_location(uni):\n",
    "    \n",
    "    #preprocessing the string\n",
    "    u = [i for i in re.split('-|\\.|\\,|-|and|\\/|,', uni) if reg.search(match_institutions, i.lower())]\n",
    "    took_last = False\n",
    "    if len(u) == 1:\n",
    "        u =u[0]\n",
    "    if len(u) == 2:\n",
    "        took_last = True\n",
    "        u =u[1]\n",
    "        u_ = u[0]\n",
    "\n",
    "    else:\n",
    "        u= uni\n",
    "    if ' - ' in u:\n",
    "        u = reg.split(' - ', u)[0]\n",
    "    u = u.replace('The', '').replace(' at ',' ')\n",
    "        \n",
    "    #url with which we will query to find location\n",
    "    url =u'https://en.wikipedia.org/wiki/'+quote(u)\n",
    "    http_pool = urllib3.connection_from_url(url)\n",
    "    r = http_pool.urlopen('GET',url)\n",
    "    #check if website exists\n",
    "    if r.status == 200:\n",
    "        data = r.data\n",
    "        long_lat, country = parse_response(data)\n",
    "        if long_lat:\n",
    "            return (long_lat, country)\n",
    "    #trying alternative sites\n",
    "    if took_last:\n",
    "        url =u'https://en.wikipedia.org/wiki/'+quote(u_)\n",
    "        http_pool = urllib3.connection_from_url(url)\n",
    "        r = http_pool.urlopen('GET',url)\n",
    "        if r.status == 200:\n",
    "            data = r.data\n",
    "            long_lat, country = parse_response(data)\n",
    "            if long_lat:\n",
    "                return (long_lat, country)\n",
    "        \n",
    "    url =u'https://de.wikipedia.org/wiki/'+quote(u)\n",
    "    http_pool = urllib3.connection_from_url(url)\n",
    "    r = http_pool.urlopen('GET',url)\n",
    "    if r.status == 200:\n",
    "        data = r.data\n",
    "        long_lat, country = parse_response(data)\n",
    "        if long_lat:\n",
    "            return (long_lat, country)\n",
    "\n",
    "    #try spanish version\n",
    "    url =u'https://es.wikipedia.org/wiki/'+quote(u)\n",
    "    http_pool = urllib3.connection_from_url(url)\n",
    "    r = http_pool.urlopen('GET',url)\n",
    "    if r.status == 200:\n",
    "        data = r.data\n",
    "        long_lat, country = parse_response(data)\n",
    "        if long_lat:\n",
    "            return (long_lat, country)\n",
    "    return (None, None)"
   ]
  },
  {
   "cell_type": "code",
   "execution_count": 74,
   "metadata": {},
   "outputs": [],
   "source": [
    "location = []\n",
    "n_found = [] #saves names for which we do not find a matching\n",
    "\n",
    "for uni in Full_uni:\n",
    "    #Only use the first part of university name, removing specifications\n",
    "    #u = reg.search('([\\p{L}\\ \\'\\-\\.\\&]*)', uni).group(0).strip()\n",
    "    long_lat, country = find_location(uni)\n",
    "    if long_lat:\n",
    "        location.append((uni, long_lat, country))\n",
    "    else:\n",
    "        n_found.append((uni))\n",
    "            \n",
    "    #list of universities for which we can not find a location\n",
    "\n",
    "   # n_found.append((uni, u))"
   ]
  },
  {
   "cell_type": "code",
   "execution_count": 75,
   "metadata": {},
   "outputs": [
    {
     "data": {
      "text/plain": [
       "85"
      ]
     },
     "execution_count": 75,
     "metadata": {},
     "output_type": "execute_result"
    }
   ],
   "source": [
    "len(n_found)"
   ]
  },
  {
   "cell_type": "code",
   "execution_count": 76,
   "metadata": {},
   "outputs": [
    {
     "data": {
      "text/plain": [
       "294"
      ]
     },
     "execution_count": 76,
     "metadata": {},
     "output_type": "execute_result"
    }
   ],
   "source": [
    "len(location)"
   ]
  },
  {
   "cell_type": "code",
   "execution_count": 77,
   "metadata": {},
   "outputs": [],
   "source": [
    "def convert_long_lat(x):\n",
    "    latitude, longitude = x[0], x[1]\n",
    "    if not ('N' in latitude or 'S' in latitude):\n",
    "        return x\n",
    "    latitude = latitude.replace('°', '-').replace('″', '').replace('′', '-').strip()\n",
    "    longitude = longitude.replace('°', '-').replace('″', '').replace('′', '-').strip()\n",
    "    try:\n",
    "        N = 'N' in latitude\n",
    "        d, m, s = map(float, latitude[:-1].split('-'))\n",
    "        latitude = (d + m / 60. + s / 3600.) * (1 if N else -1)\n",
    "        W = 'W' in longitude\n",
    "        d, m, s = map(float, longitude[:-1].split('-'))\n",
    "        longitude = (d + m / 60. + s / 3600.) * (-1 if W else 1)\n",
    "        return [latitude, longitude]\n",
    "    except:\n",
    "        s= 0\n",
    "        N = 'N' in latitude\n",
    "        d, m = map(float, latitude[:-2].split('-'))\n",
    "        latitude = (d + m / 60. + s / 3600.) * (1 if N else -1)\n",
    "        W = 'W' in longitude\n",
    "        d, m = map(float, longitude[:-2].split('-'))\n",
    "        longitude = (d + m / 60. + s / 3600.) * (-1 if W else 1)\n",
    "        return [latitude, longitude]\n",
    "    \n",
    "    "
   ]
  },
  {
   "cell_type": "markdown",
   "metadata": {},
   "source": [
    "Put the locations in a dataframe and extract longitude and latitude separately:"
   ]
  },
  {
   "cell_type": "code",
   "execution_count": 78,
   "metadata": {},
   "outputs": [],
   "source": [
    "location_uni = pd.DataFrame(location, columns=['University', 'Location', 'Country'])\n",
    "\n",
    "location_uni.Location = location_uni.Location.map(lambda x: x.split(';'))\n",
    "\n",
    "location_uni['Location'] = location_uni.Location.map(convert_long_lat)\n",
    "location_uni['Lat'] = location_uni.Location.map(lambda x: float(x[0]))\n",
    "location_uni['Lon'] = location_uni.Location.map(lambda x: float(x[1]))\n",
    "\n",
    "del location_uni['Location']"
   ]
  },
  {
   "cell_type": "markdown",
   "metadata": {},
   "source": [
    "Make countries we got from wikipedia more uniform & extract country substring"
   ]
  },
  {
   "cell_type": "code",
   "execution_count": 79,
   "metadata": {},
   "outputs": [],
   "source": [
    "location_uni.Country = location_uni.Country.map(lambda x: 'United States' if \n",
    "                                                ('U.S.' in x) or ('US' in x) else 'United Kingdom' if 'UK' in x else x)\n",
    "location_uni.Country = location_uni.Country.map(lambda x: GeoText(x).countries\n",
    "                                               ).map(lambda x: x[0] if len(x) else None)\n",
    "\n"
   ]
  },
  {
   "cell_type": "markdown",
   "metadata": {},
   "source": [
    "Quickly plotting to check whether longitude and latitude are correct:"
   ]
  },
  {
   "cell_type": "code",
   "execution_count": 80,
   "metadata": {},
   "outputs": [
    {
     "data": {
      "text/plain": [
       "<matplotlib.collections.PathCollection at 0x130e67cf8>"
      ]
     },
     "execution_count": 80,
     "metadata": {},
     "output_type": "execute_result"
    },
    {
     "data": {
      "image/png": "[encoded data removed]",
      "text/plain": [
       "<Figure size 1080x504 with 1 Axes>"
      ]
     },
     "metadata": {
      "needs_background": "light"
     },
     "output_type": "display_data"
    }
   ],
   "source": [
    "import matplotlib.pyplot as plt\n",
    "\n",
    "plt.figure(figsize=(15, 7))\n",
    "plt.scatter(location_uni['Lon'],  location_uni['Lat'])"
   ]
  },
  {
   "cell_type": "markdown",
   "metadata": {},
   "source": [
    "Fix error from wikipedia:"
   ]
  },
  {
   "cell_type": "code",
   "execution_count": 81,
   "metadata": {},
   "outputs": [],
   "source": [
    "location_uni.loc[location_uni.University == 'McGill University', 'Lat'] = 45.5051283\n",
    "location_uni.loc[location_uni.University == 'McGill University', 'Lon'] = -73.5820428"
   ]
  },
  {
   "cell_type": "code",
   "execution_count": 82,
   "metadata": {},
   "outputs": [
    {
     "data": {
      "text/plain": [
       "<matplotlib.collections.PathCollection at 0x12a8cb5c0>"
      ]
     },
     "execution_count": 82,
     "metadata": {},
     "output_type": "execute_result"
    },
    {
     "data": {
      "image/png": "[encoded data removed]",
      "text/plain": [
       "<Figure size 1080x504 with 1 Axes>"
      ]
     },
     "metadata": {
      "needs_background": "light"
     },
     "output_type": "display_data"
    }
   ],
   "source": [
    "import matplotlib.pyplot as plt\n",
    "\n",
    "plt.figure(figsize=(15, 7))\n",
    "plt.scatter(location_uni['Lon'],  location_uni['Lat'])"
   ]
  },
  {
   "cell_type": "markdown",
   "metadata": {},
   "source": [
    "However, we still have 132 unfound locations!!"
   ]
  },
  {
   "cell_type": "markdown",
   "metadata": {},
   "source": [
    "## Using an alternative method with geopy to get even more location matches:  "
   ]
  },
  {
   "cell_type": "markdown",
   "metadata": {},
   "source": [
    "Using geopy every input will return some location, to avoid getting bad results we only check the location for Institutions, using the previously defined regex."
   ]
  },
  {
   "cell_type": "code",
   "execution_count": 83,
   "metadata": {},
   "outputs": [],
   "source": [
    "n_found_institutions = [i for i in  n_found if reg.search(match_institutions, i.lower())]"
   ]
  },
  {
   "cell_type": "code",
   "execution_count": 84,
   "metadata": {},
   "outputs": [
    {
     "data": {
      "text/plain": [
       "59"
      ]
     },
     "execution_count": 84,
     "metadata": {},
     "output_type": "execute_result"
    }
   ],
   "source": [
    "len(n_found_institutions)"
   ]
  },
  {
   "cell_type": "markdown",
   "metadata": {},
   "source": [
    "hence we will try to find the location for 100 more places.\n",
    "\n",
    "Geopy has the dissadvantage that we can only make 1 request per second, and it can't be used heavily. \n",
    "When re-run to often the api will reject the requests!"
   ]
  },
  {
   "cell_type": "code",
   "execution_count": 85,
   "metadata": {},
   "outputs": [],
   "source": [
    "from geopy.geocoders import Nominatim\n",
    "\n",
    "geolocator = Nominatim(user_agent=\"application_for_project_\")\n",
    "\n",
    "d= []\n",
    "not_found = []\n",
    "for n in n_found_institutions:\n",
    "    location = geolocator.geocode(n)\n",
    "    if location:\n",
    "        d.append({'Lat': location.latitude, 'Lon': location.longitude, 'University': n})\n",
    "    else:\n",
    "        not_found.append(n)"
   ]
  },
  {
   "cell_type": "code",
   "execution_count": 86,
   "metadata": {},
   "outputs": [],
   "source": [
    "additional_locations = pd.DataFrame(d)"
   ]
  },
  {
   "cell_type": "code",
   "execution_count": 87,
   "metadata": {},
   "outputs": [
    {
     "data": {
      "text/html": [
       "<div>\n",
       "<style scoped>\n",
       "    .dataframe tbody tr th:only-of-type {\n",
       "        vertical-align: middle;\n",
       "    }\n",
       "\n",
       "    .dataframe tbody tr th {\n",
       "        vertical-align: top;\n",
       "    }\n",
       "\n",
       "    .dataframe thead th {\n",
       "        text-align: right;\n",
       "    }\n",
       "</style>\n",
       "<table border=\"1\" class=\"dataframe\">\n",
       "  <thead>\n",
       "    <tr style=\"text-align: right;\">\n",
       "      <th></th>\n",
       "      <th>Lat</th>\n",
       "      <th>Lon</th>\n",
       "      <th>University</th>\n",
       "    </tr>\n",
       "  </thead>\n",
       "  <tbody>\n",
       "    <tr>\n",
       "      <th>0</th>\n",
       "      <td>51.025090</td>\n",
       "      <td>3.713542</td>\n",
       "      <td>Ghent University</td>\n",
       "    </tr>\n",
       "    <tr>\n",
       "      <th>1</th>\n",
       "      <td>30.284151</td>\n",
       "      <td>-97.731956</td>\n",
       "      <td>University of Texas at Austin</td>\n",
       "    </tr>\n",
       "    <tr>\n",
       "      <th>2</th>\n",
       "      <td>40.005709</td>\n",
       "      <td>-83.028663</td>\n",
       "      <td>Ohio State University, Columbus</td>\n",
       "    </tr>\n",
       "    <tr>\n",
       "      <th>3</th>\n",
       "      <td>57.015903</td>\n",
       "      <td>9.975328</td>\n",
       "      <td>Aalborg University, Denmark</td>\n",
       "    </tr>\n",
       "    <tr>\n",
       "      <th>4</th>\n",
       "      <td>1.338892</td>\n",
       "      <td>103.840717</td>\n",
       "      <td>Ministry of Education, Singapore</td>\n",
       "    </tr>\n",
       "  </tbody>\n",
       "</table>\n",
       "</div>"
      ],
      "text/plain": [
       "         Lat         Lon                        University\n",
       "0  51.025090    3.713542                  Ghent University\n",
       "1  30.284151  -97.731956     University of Texas at Austin\n",
       "2  40.005709  -83.028663   Ohio State University, Columbus\n",
       "3  57.015903    9.975328       Aalborg University, Denmark\n",
       "4   1.338892  103.840717  Ministry of Education, Singapore"
      ]
     },
     "execution_count": 87,
     "metadata": {},
     "output_type": "execute_result"
    }
   ],
   "source": [
    "additional_locations.head()"
   ]
  },
  {
   "cell_type": "markdown",
   "metadata": {},
   "source": [
    "Now we can also associate a country to these universities, again using the country code:\n",
    "\n",
    "A small issue we have is that countries in the special administrative zone of china will be mapped to china instead of their original location (Universities in HongKong will be mapped to china instead of Hong Kong)."
   ]
  },
  {
   "cell_type": "code",
   "execution_count": 89,
   "metadata": {},
   "outputs": [],
   "source": [
    "countries = []\n",
    "for i, row in additional_locations.iterrows():\n",
    "    pos = str(row['Lat']) + ', ' + str(row['Lon'])\n",
    "    country = geolocator.reverse(pos, timeout = 10)\n",
    "    countries.append(country)"
   ]
  },
  {
   "cell_type": "code",
   "execution_count": 90,
   "metadata": {},
   "outputs": [],
   "source": [
    "country_code_mapping = {}\n",
    "_ = [country_code_mapping.update({c['alpha_two_code'].lower() : c['country']}) for c in parsed_json]"
   ]
  },
  {
   "cell_type": "code",
   "execution_count": 91,
   "metadata": {},
   "outputs": [],
   "source": [
    "additional_locations['Country'] = pd.Series(\n",
    "    [c.raw['address']['country_code'] for c in countries]).map(country_code_mapping)"
   ]
  },
  {
   "cell_type": "code",
   "execution_count": 92,
   "metadata": {},
   "outputs": [
    {
     "data": {
      "text/html": [
       "<div>\n",
       "<style scoped>\n",
       "    .dataframe tbody tr th:only-of-type {\n",
       "        vertical-align: middle;\n",
       "    }\n",
       "\n",
       "    .dataframe tbody tr th {\n",
       "        vertical-align: top;\n",
       "    }\n",
       "\n",
       "    .dataframe thead th {\n",
       "        text-align: right;\n",
       "    }\n",
       "</style>\n",
       "<table border=\"1\" class=\"dataframe\">\n",
       "  <thead>\n",
       "    <tr style=\"text-align: right;\">\n",
       "      <th></th>\n",
       "      <th>Lat</th>\n",
       "      <th>Lon</th>\n",
       "      <th>University</th>\n",
       "      <th>Country</th>\n",
       "    </tr>\n",
       "  </thead>\n",
       "  <tbody>\n",
       "    <tr>\n",
       "      <th>0</th>\n",
       "      <td>51.025090</td>\n",
       "      <td>3.713542</td>\n",
       "      <td>Ghent University</td>\n",
       "      <td>Belgium</td>\n",
       "    </tr>\n",
       "    <tr>\n",
       "      <th>1</th>\n",
       "      <td>30.284151</td>\n",
       "      <td>-97.731956</td>\n",
       "      <td>University of Texas at Austin</td>\n",
       "      <td>United States</td>\n",
       "    </tr>\n",
       "    <tr>\n",
       "      <th>2</th>\n",
       "      <td>40.005709</td>\n",
       "      <td>-83.028663</td>\n",
       "      <td>Ohio State University, Columbus</td>\n",
       "      <td>United States</td>\n",
       "    </tr>\n",
       "    <tr>\n",
       "      <th>3</th>\n",
       "      <td>57.015903</td>\n",
       "      <td>9.975328</td>\n",
       "      <td>Aalborg University, Denmark</td>\n",
       "      <td>Denmark</td>\n",
       "    </tr>\n",
       "    <tr>\n",
       "      <th>4</th>\n",
       "      <td>1.338892</td>\n",
       "      <td>103.840717</td>\n",
       "      <td>Ministry of Education, Singapore</td>\n",
       "      <td>Singapore</td>\n",
       "    </tr>\n",
       "  </tbody>\n",
       "</table>\n",
       "</div>"
      ],
      "text/plain": [
       "         Lat         Lon                        University        Country\n",
       "0  51.025090    3.713542                  Ghent University        Belgium\n",
       "1  30.284151  -97.731956     University of Texas at Austin  United States\n",
       "2  40.005709  -83.028663   Ohio State University, Columbus  United States\n",
       "3  57.015903    9.975328       Aalborg University, Denmark        Denmark\n",
       "4   1.338892  103.840717  Ministry of Education, Singapore      Singapore"
      ]
     },
     "execution_count": 92,
     "metadata": {},
     "output_type": "execute_result"
    }
   ],
   "source": [
    "additional_locations.head()"
   ]
  },
  {
   "cell_type": "markdown",
   "metadata": {},
   "source": [
    "the complete mapping is given by:"
   ]
  },
  {
   "cell_type": "code",
   "execution_count": 93,
   "metadata": {},
   "outputs": [],
   "source": [
    "location_universities = pd.concat([additional_locations, location_uni], sort=False)"
   ]
  },
  {
   "cell_type": "markdown",
   "metadata": {},
   "source": [
    "We can now again unify a bit by checking if we have the same locations:"
   ]
  },
  {
   "cell_type": "code",
   "execution_count": 94,
   "metadata": {},
   "outputs": [],
   "source": [
    "rename_uni = {}\n",
    "for i, row in location_universities.iterrows():\n",
    "    for j, row_2 in location_universities.iterrows():\n",
    "        if i < j and ',' not in row_2.University and row_2.University != row.University:\n",
    "            if (row_2['Lon'] == row['Lon']) & (row_2['Lat'] == row['Lat']):\n",
    "                number_used_row2 = emails[emails.name == row_2.University].shape[0]\n",
    "                number_used_row = emails[emails.name == row.University].shape[0]\n",
    "                if number_used_row > number_used_row2:\n",
    "                    rename_uni[row_2.University] =  row.University\n",
    "                else:\n",
    "                    rename_uni[row.University] =  row_2.University"
   ]
  },
  {
   "cell_type": "code",
   "execution_count": 95,
   "metadata": {},
   "outputs": [
    {
     "data": {
      "text/plain": [
       "{'Clark University': 'Hiatt Center for Urban Education, Clark University',\n",
       " 'Department of Psychology, Durham University': 'Durham University',\n",
       " 'Ruhr-Universität Bochum': 'Ruhr-University Bochum',\n",
       " 'School of Education, University of Nottingham': 'University of Nottingham',\n",
       " 'The University of Wisconsin-Madison': 'University of Wisconsin - Madison',\n",
       " 'University of California Berkeley': 'University of California, Berkeley',\n",
       " 'University of California at Davis': 'University of California, Davis'}"
      ]
     },
     "execution_count": 95,
     "metadata": {},
     "output_type": "execute_result"
    }
   ],
   "source": [
    "rename_uni"
   ]
  },
  {
   "cell_type": "markdown",
   "metadata": {},
   "source": [
    "We apply this renaming:"
   ]
  },
  {
   "cell_type": "code",
   "execution_count": 96,
   "metadata": {},
   "outputs": [],
   "source": [
    "location_universities.loc[location_universities.University.isin(rename_uni.keys()), 'University'] = location_universities[location_universities.University.isin(rename_uni.keys())].University.map(rename_uni)"
   ]
  },
  {
   "cell_type": "code",
   "execution_count": 97,
   "metadata": {},
   "outputs": [],
   "source": [
    "emails.loc[emails.name.isin(rename_uni.keys()),'name'] = emails.name.map(rename_uni)"
   ]
  },
  {
   "cell_type": "code",
   "execution_count": 98,
   "metadata": {},
   "outputs": [],
   "source": [
    "universities = pd.merge(emails, location_universities, left_on='name', right_on='University', how='left')"
   ]
  },
  {
   "cell_type": "code",
   "execution_count": 99,
   "metadata": {},
   "outputs": [
    {
     "data": {
      "text/html": [
       "<div>\n",
       "<style scoped>\n",
       "    .dataframe tbody tr th:only-of-type {\n",
       "        vertical-align: middle;\n",
       "    }\n",
       "\n",
       "    .dataframe tbody tr th {\n",
       "        vertical-align: top;\n",
       "    }\n",
       "\n",
       "    .dataframe thead th {\n",
       "        text-align: right;\n",
       "    }\n",
       "</style>\n",
       "<table border=\"1\" class=\"dataframe\">\n",
       "  <thead>\n",
       "    <tr style=\"text-align: right;\">\n",
       "      <th></th>\n",
       "      <th>file</th>\n",
       "      <th>name</th>\n",
       "      <th>domain</th>\n",
       "      <th>email</th>\n",
       "      <th>author_order</th>\n",
       "      <th>country</th>\n",
       "      <th>Lat</th>\n",
       "      <th>Lon</th>\n",
       "      <th>University</th>\n",
       "      <th>Country</th>\n",
       "    </tr>\n",
       "  </thead>\n",
       "  <tbody>\n",
       "    <tr>\n",
       "      <th>0</th>\n",
       "      <td>import2018_371</td>\n",
       "      <td>University of Colorado at Boulder</td>\n",
       "      <td>colorado.edu</td>\n",
       "      <td>rebecca.swanson@colorado.edu</td>\n",
       "      <td>0</td>\n",
       "      <td>United States</td>\n",
       "      <td>40.006667</td>\n",
       "      <td>-105.267222</td>\n",
       "      <td>University of Colorado at Boulder</td>\n",
       "      <td>United States</td>\n",
       "    </tr>\n",
       "    <tr>\n",
       "      <th>1</th>\n",
       "      <td>import2018_371</td>\n",
       "      <td>University of Colorado at Boulder</td>\n",
       "      <td>colorado.edu</td>\n",
       "      <td>leighanna.hinojosa@colorado.edu</td>\n",
       "      <td>1</td>\n",
       "      <td>United States</td>\n",
       "      <td>40.006667</td>\n",
       "      <td>-105.267222</td>\n",
       "      <td>University of Colorado at Boulder</td>\n",
       "      <td>United States</td>\n",
       "    </tr>\n",
       "    <tr>\n",
       "      <th>2</th>\n",
       "      <td>import2018_371</td>\n",
       "      <td>University of Colorado at Boulder</td>\n",
       "      <td>colorado.edu</td>\n",
       "      <td>joseph.polman@colorado.edu</td>\n",
       "      <td>2</td>\n",
       "      <td>United States</td>\n",
       "      <td>40.006667</td>\n",
       "      <td>-105.267222</td>\n",
       "      <td>University of Colorado at Boulder</td>\n",
       "      <td>United States</td>\n",
       "    </tr>\n",
       "    <tr>\n",
       "      <th>3</th>\n",
       "      <td>import2018_417</td>\n",
       "      <td>Indiana University at Bloomington</td>\n",
       "      <td>indiana.edu</td>\n",
       "      <td>huang220@indiana.edu</td>\n",
       "      <td>0</td>\n",
       "      <td>United States</td>\n",
       "      <td>39.167222</td>\n",
       "      <td>-86.521389</td>\n",
       "      <td>Indiana University at Bloomington</td>\n",
       "      <td>United States</td>\n",
       "    </tr>\n",
       "    <tr>\n",
       "      <th>4</th>\n",
       "      <td>import2018_417</td>\n",
       "      <td>Indiana University at Bloomington</td>\n",
       "      <td>gmail.com</td>\n",
       "      <td>agomoll90@gmail.com</td>\n",
       "      <td>1</td>\n",
       "      <td>United States</td>\n",
       "      <td>39.167222</td>\n",
       "      <td>-86.521389</td>\n",
       "      <td>Indiana University at Bloomington</td>\n",
       "      <td>United States</td>\n",
       "    </tr>\n",
       "  </tbody>\n",
       "</table>\n",
       "</div>"
      ],
      "text/plain": [
       "             file                               name        domain  \\\n",
       "0  import2018_371  University of Colorado at Boulder  colorado.edu   \n",
       "1  import2018_371  University of Colorado at Boulder  colorado.edu   \n",
       "2  import2018_371  University of Colorado at Boulder  colorado.edu   \n",
       "3  import2018_417  Indiana University at Bloomington   indiana.edu   \n",
       "4  import2018_417  Indiana University at Bloomington     gmail.com   \n",
       "\n",
       "                             email  author_order        country        Lat  \\\n",
       "0     rebecca.swanson@colorado.edu             0  United States  40.006667   \n",
       "1  leighanna.hinojosa@colorado.edu             1  United States  40.006667   \n",
       "2       joseph.polman@colorado.edu             2  United States  40.006667   \n",
       "3             huang220@indiana.edu             0  United States  39.167222   \n",
       "4              agomoll90@gmail.com             1  United States  39.167222   \n",
       "\n",
       "          Lon                         University        Country  \n",
       "0 -105.267222  University of Colorado at Boulder  United States  \n",
       "1 -105.267222  University of Colorado at Boulder  United States  \n",
       "2 -105.267222  University of Colorado at Boulder  United States  \n",
       "3  -86.521389  Indiana University at Bloomington  United States  \n",
       "4  -86.521389  Indiana University at Bloomington  United States  "
      ]
     },
     "execution_count": 99,
     "metadata": {},
     "output_type": "execute_result"
    }
   ],
   "source": [
    "universities.head()"
   ]
  },
  {
   "cell_type": "markdown",
   "metadata": {},
   "source": [
    "As mail extensions are a better indication, we use them as default and use the country found using the second method only we could not associate one using the first method:"
   ]
  },
  {
   "cell_type": "code",
   "execution_count": 100,
   "metadata": {},
   "outputs": [
    {
     "data": {
      "text/html": [
       "<div>\n",
       "<style scoped>\n",
       "    .dataframe tbody tr th:only-of-type {\n",
       "        vertical-align: middle;\n",
       "    }\n",
       "\n",
       "    .dataframe tbody tr th {\n",
       "        vertical-align: top;\n",
       "    }\n",
       "\n",
       "    .dataframe thead th {\n",
       "        text-align: right;\n",
       "    }\n",
       "</style>\n",
       "<table border=\"1\" class=\"dataframe\">\n",
       "  <thead>\n",
       "    <tr style=\"text-align: right;\">\n",
       "      <th></th>\n",
       "      <th>file</th>\n",
       "      <th>name</th>\n",
       "      <th>domain</th>\n",
       "      <th>email</th>\n",
       "      <th>author_order</th>\n",
       "      <th>country</th>\n",
       "      <th>Lat</th>\n",
       "      <th>Lon</th>\n",
       "      <th>University</th>\n",
       "      <th>Country</th>\n",
       "    </tr>\n",
       "  </thead>\n",
       "  <tbody>\n",
       "    <tr>\n",
       "      <th>53</th>\n",
       "      <td>import2015short_218</td>\n",
       "      <td>Utsunomiya University</td>\n",
       "      <td>kubota-lab.net</td>\n",
       "      <td>kubota@kubota-lab.net</td>\n",
       "      <td>4</td>\n",
       "      <td>NaN</td>\n",
       "      <td>36.549167</td>\n",
       "      <td>139.913889</td>\n",
       "      <td>Utsunomiya University</td>\n",
       "      <td>Japan</td>\n",
       "    </tr>\n",
       "    <tr>\n",
       "      <th>54</th>\n",
       "      <td>import2015short_218</td>\n",
       "      <td>Ibaraki University</td>\n",
       "      <td>suzuki-lab.net</td>\n",
       "      <td>hideyuki@suzuki-lab.net</td>\n",
       "      <td>5</td>\n",
       "      <td>NaN</td>\n",
       "      <td>36.401111</td>\n",
       "      <td>140.443056</td>\n",
       "      <td>Ibaraki University</td>\n",
       "      <td>Japan</td>\n",
       "    </tr>\n",
       "    <tr>\n",
       "      <th>92</th>\n",
       "      <td>import2018_211</td>\n",
       "      <td>University of Nottingham</td>\n",
       "      <td>gmail.com</td>\n",
       "      <td>nurjanah.mjaafar@gmail.com</td>\n",
       "      <td>0</td>\n",
       "      <td>NaN</td>\n",
       "      <td>52.938889</td>\n",
       "      <td>-1.196944</td>\n",
       "      <td>University of Nottingham</td>\n",
       "      <td>United Kingdom</td>\n",
       "    </tr>\n",
       "    <tr>\n",
       "      <th>93</th>\n",
       "      <td>import2018_211</td>\n",
       "      <td>University of Nottingham</td>\n",
       "      <td>gmail.com</td>\n",
       "      <td>nurjanah.mjaafar@gmail.com</td>\n",
       "      <td>0</td>\n",
       "      <td>NaN</td>\n",
       "      <td>52.938889</td>\n",
       "      <td>-1.196944</td>\n",
       "      <td>University of Nottingham</td>\n",
       "      <td>United Kingdom</td>\n",
       "    </tr>\n",
       "    <tr>\n",
       "      <th>174</th>\n",
       "      <td>import2016short_167</td>\n",
       "      <td>Hiatt Center for Urban Education, Clark Univer...</td>\n",
       "      <td>gmail.com</td>\n",
       "      <td>kateb369@gmail.com</td>\n",
       "      <td>18</td>\n",
       "      <td>NaN</td>\n",
       "      <td>42.251111</td>\n",
       "      <td>-71.823056</td>\n",
       "      <td>Hiatt Center for Urban Education, Clark Univer...</td>\n",
       "      <td>United States</td>\n",
       "    </tr>\n",
       "  </tbody>\n",
       "</table>\n",
       "</div>"
      ],
      "text/plain": [
       "                    file                                               name  \\\n",
       "53   import2015short_218                              Utsunomiya University   \n",
       "54   import2015short_218                                 Ibaraki University   \n",
       "92        import2018_211                           University of Nottingham   \n",
       "93        import2018_211                           University of Nottingham   \n",
       "174  import2016short_167  Hiatt Center for Urban Education, Clark Univer...   \n",
       "\n",
       "             domain                       email  author_order country  \\\n",
       "53   kubota-lab.net       kubota@kubota-lab.net             4     NaN   \n",
       "54   suzuki-lab.net     hideyuki@suzuki-lab.net             5     NaN   \n",
       "92        gmail.com  nurjanah.mjaafar@gmail.com             0     NaN   \n",
       "93        gmail.com  nurjanah.mjaafar@gmail.com             0     NaN   \n",
       "174       gmail.com          kateb369@gmail.com            18     NaN   \n",
       "\n",
       "           Lat         Lon                                         University  \\\n",
       "53   36.549167  139.913889                              Utsunomiya University   \n",
       "54   36.401111  140.443056                                 Ibaraki University   \n",
       "92   52.938889   -1.196944                           University of Nottingham   \n",
       "93   52.938889   -1.196944                           University of Nottingham   \n",
       "174  42.251111  -71.823056  Hiatt Center for Urban Education, Clark Univer...   \n",
       "\n",
       "            Country  \n",
       "53            Japan  \n",
       "54            Japan  \n",
       "92   United Kingdom  \n",
       "93   United Kingdom  \n",
       "174   United States  "
      ]
     },
     "execution_count": 100,
     "metadata": {},
     "output_type": "execute_result"
    }
   ],
   "source": [
    "universities[(universities.country != universities.Country) & (\n",
    "    universities.country.isna()) & (universities.Country.notna())].head()"
   ]
  },
  {
   "cell_type": "markdown",
   "metadata": {},
   "source": [
    "To make sure that country names are uniform we first run a mapping from country to University:"
   ]
  },
  {
   "cell_type": "code",
   "execution_count": 101,
   "metadata": {},
   "outputs": [
    {
     "data": {
      "text/html": [
       "<div>\n",
       "<style scoped>\n",
       "    .dataframe tbody tr th:only-of-type {\n",
       "        vertical-align: middle;\n",
       "    }\n",
       "\n",
       "    .dataframe tbody tr th {\n",
       "        vertical-align: top;\n",
       "    }\n",
       "\n",
       "    .dataframe thead th {\n",
       "        text-align: right;\n",
       "    }\n",
       "</style>\n",
       "<table border=\"1\" class=\"dataframe\">\n",
       "  <thead>\n",
       "    <tr style=\"text-align: right;\">\n",
       "      <th></th>\n",
       "      <th>file</th>\n",
       "      <th>name</th>\n",
       "      <th>domain</th>\n",
       "      <th>email</th>\n",
       "      <th>author_order</th>\n",
       "      <th>country</th>\n",
       "      <th>Lat</th>\n",
       "      <th>Lon</th>\n",
       "      <th>University</th>\n",
       "      <th>Country</th>\n",
       "    </tr>\n",
       "  </thead>\n",
       "  <tbody>\n",
       "    <tr>\n",
       "      <th>537</th>\n",
       "      <td>import2017_59</td>\n",
       "      <td>Hallym University</td>\n",
       "      <td>hallym.ac.kr</td>\n",
       "      <td>heis@hallym.ac.kr</td>\n",
       "      <td>2</td>\n",
       "      <td>Korea, Republic of</td>\n",
       "      <td>37.460000</td>\n",
       "      <td>126.950000</td>\n",
       "      <td>Hallym University</td>\n",
       "      <td>South Korea</td>\n",
       "    </tr>\n",
       "    <tr>\n",
       "      <th>563</th>\n",
       "      <td>import2015full_126</td>\n",
       "      <td>National Chengchi University</td>\n",
       "      <td>nccu.edu.tw</td>\n",
       "      <td>hyhong@nccu.edu.tw</td>\n",
       "      <td>0</td>\n",
       "      <td>Taiwan</td>\n",
       "      <td>24.986992</td>\n",
       "      <td>121.575222</td>\n",
       "      <td>National Chengchi University</td>\n",
       "      <td>China</td>\n",
       "    </tr>\n",
       "    <tr>\n",
       "      <th>597</th>\n",
       "      <td>import2018_202</td>\n",
       "      <td>Hanyang University</td>\n",
       "      <td>gmail.com</td>\n",
       "      <td>koreaspy21@gmail.com</td>\n",
       "      <td>0</td>\n",
       "      <td>Korea, Republic of</td>\n",
       "      <td>37.556389</td>\n",
       "      <td>127.044444</td>\n",
       "      <td>Hanyang University</td>\n",
       "      <td>South Korea</td>\n",
       "    </tr>\n",
       "    <tr>\n",
       "      <th>598</th>\n",
       "      <td>import2018_202</td>\n",
       "      <td>Hanyang University</td>\n",
       "      <td>gmail.com</td>\n",
       "      <td>jinju.a.lee@gmail.com</td>\n",
       "      <td>1</td>\n",
       "      <td>Korea, Republic of</td>\n",
       "      <td>37.556389</td>\n",
       "      <td>127.044444</td>\n",
       "      <td>Hanyang University</td>\n",
       "      <td>South Korea</td>\n",
       "    </tr>\n",
       "    <tr>\n",
       "      <th>599</th>\n",
       "      <td>import2018_202</td>\n",
       "      <td>Hanyang University</td>\n",
       "      <td>hanyang.ac.kr</td>\n",
       "      <td>kimdsik@hanyang.ac.kr</td>\n",
       "      <td>2</td>\n",
       "      <td>Korea, Republic of</td>\n",
       "      <td>37.556389</td>\n",
       "      <td>127.044444</td>\n",
       "      <td>Hanyang University</td>\n",
       "      <td>South Korea</td>\n",
       "    </tr>\n",
       "  </tbody>\n",
       "</table>\n",
       "</div>"
      ],
      "text/plain": [
       "                   file                          name         domain  \\\n",
       "537       import2017_59             Hallym University   hallym.ac.kr   \n",
       "563  import2015full_126  National Chengchi University    nccu.edu.tw   \n",
       "597      import2018_202            Hanyang University      gmail.com   \n",
       "598      import2018_202            Hanyang University      gmail.com   \n",
       "599      import2018_202            Hanyang University  hanyang.ac.kr   \n",
       "\n",
       "                     email  author_order             country        Lat  \\\n",
       "537      heis@hallym.ac.kr             2  Korea, Republic of  37.460000   \n",
       "563     hyhong@nccu.edu.tw             0              Taiwan  24.986992   \n",
       "597   koreaspy21@gmail.com             0  Korea, Republic of  37.556389   \n",
       "598  jinju.a.lee@gmail.com             1  Korea, Republic of  37.556389   \n",
       "599  kimdsik@hanyang.ac.kr             2  Korea, Republic of  37.556389   \n",
       "\n",
       "            Lon                    University      Country  \n",
       "537  126.950000             Hallym University  South Korea  \n",
       "563  121.575222  National Chengchi University        China  \n",
       "597  127.044444            Hanyang University  South Korea  \n",
       "598  127.044444            Hanyang University  South Korea  \n",
       "599  127.044444            Hanyang University  South Korea  "
      ]
     },
     "execution_count": 101,
     "metadata": {},
     "output_type": "execute_result"
    }
   ],
   "source": [
    "universities[(universities.country != universities.Country) & (\n",
    "    universities.country.notna()) & (universities.Country.notna())].head()"
   ]
  },
  {
   "cell_type": "code",
   "execution_count": 102,
   "metadata": {},
   "outputs": [],
   "source": [
    "uni_uni = {}\n",
    "for i, row in universities[universities.University.notna() & universities.country.notna()].iterrows():\n",
    "    uni_uni[row.University] = row.country"
   ]
  },
  {
   "cell_type": "code",
   "execution_count": 103,
   "metadata": {},
   "outputs": [],
   "source": [
    "universities.loc[universities.University.isin(uni_uni.keys()), 'country'] = universities.University.map(uni_uni)"
   ]
  },
  {
   "cell_type": "code",
   "execution_count": 104,
   "metadata": {},
   "outputs": [],
   "source": [
    "universities.loc[(universities.country != universities.Country) & (\n",
    "    universities.country.isna()) & (universities.Country.notna()), 'country'] = universities.Country"
   ]
  },
  {
   "cell_type": "code",
   "execution_count": 105,
   "metadata": {},
   "outputs": [],
   "source": [
    "del universities['University'], universities['Country']"
   ]
  },
  {
   "cell_type": "code",
   "execution_count": 106,
   "metadata": {},
   "outputs": [],
   "source": [
    "universities.to_pickle('../data/Universities.pkl')\n",
    "universities.to_csv('../data/Universities.csv')"
   ]
  },
  {
   "cell_type": "markdown",
   "metadata": {},
   "source": [
    "# Now with this data we can do some stuff:\n",
    "- Papers with authors of different origin\n",
    "- use predominant nation to remake above plot - maybe papers in the us have more coauthors -> need to find some way to normalize data\n",
    "- look at cross institution & cross country\n",
    "- maybe even look at cross continent collaboration"
   ]
  }
 ],
 "metadata": {
  "kernelspec": {
   "display_name": "Python 3",
   "language": "python",
   "name": "python3"
  },
  "language_info": {
   "codemirror_mode": {
    "name": "ipython",
    "version": 3
   },
   "file_extension": ".py",
   "mimetype": "text/x-python",
   "name": "python",
   "nbconvert_exporter": "python",
   "pygments_lexer": "ipython3",
   "version": "3.7.1"
  }
 },
 "nbformat": 4,
 "nbformat_minor": 2
}
