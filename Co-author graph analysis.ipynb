{
 "cells": [
  {
   "cell_type": "code",
   "execution_count": 11,
   "metadata": {},
   "outputs": [],
   "source": [
    "import networkx as nx\n",
    "import pandas as pd\n",
    "from pyvis.network import Network"
   ]
  },
  {
   "cell_type": "code",
   "execution_count": 22,
   "metadata": {},
   "outputs": [],
   "source": [
    "graph = nx.read_gpickle('data/coauthor_graph')"
   ]
  },
  {
   "cell_type": "code",
   "execution_count": 25,
   "metadata": {},
   "outputs": [
    {
     "data": {
      "text/html": [
       "\n",
       "        <iframe\n",
       "            width=\"800\"\n",
       "            height=\"800\"\n",
       "            src=\"graph.html\"\n",
       "            frameborder=\"0\"\n",
       "            allowfullscreen\n",
       "        ></iframe>\n",
       "        "
      ],
      "text/plain": [
       "<IPython.lib.display.IFrame at 0xa1a201278>"
      ]
     },
     "execution_count": 25,
     "metadata": {},
     "output_type": "execute_result"
    }
   ],
   "source": [
    "G = Network(notebook=True, height=800, width=800)\n",
    "G.from_nx(graph)\n",
    "G.show('graph.html')"
   ]
  },
  {
   "cell_type": "code",
   "execution_count": 27,
   "metadata": {},
   "outputs": [],
   "source": [
    "G.show_buttons(filter_=['physics'])"
   ]
  },
  {
   "cell_type": "code",
   "execution_count": null,
   "metadata": {},
   "outputs": [],
   "source": []
  },
  {
   "cell_type": "markdown",
   "metadata": {},
   "source": [
    "## Modularity and more"
   ]
  },
  {
   "cell_type": "markdown",
   "metadata": {},
   "source": [
    "Number of bridges (coonections for which removal creates more components) in the main component:\n",
    "This indicates that they hold the component \"together, they may "
   ]
  },
  {
   "cell_type": "code",
   "execution_count": 29,
   "metadata": {},
   "outputs": [
    {
     "data": {
      "text/plain": [
       "65"
      ]
     },
     "execution_count": 29,
     "metadata": {},
     "output_type": "execute_result"
    }
   ],
   "source": [
    "bridges = list(nx.bridges(graph))\n",
    "bridges_1 = [y for x,y in bridges]\n",
    "bridges_2 = [x for x,y in bridges]\n",
    "len(set(bridges_1))"
   ]
  },
  {
   "cell_type": "markdown",
   "metadata": {},
   "source": [
    "People that are bridges on both sides: - they are \"bottle necks\""
   ]
  },
  {
   "cell_type": "code",
   "execution_count": 31,
   "metadata": {},
   "outputs": [
    {
     "data": {
      "text/plain": [
       "5"
      ]
     },
     "execution_count": 31,
     "metadata": {},
     "output_type": "execute_result"
    }
   ],
   "source": [
    "#we can reduce this more by lookin at authors in both groups\n",
    "len(set(bridges_2).intersection(set(bridges_1)))"
   ]
  },
  {
   "cell_type": "code",
   "execution_count": 34,
   "metadata": {},
   "outputs": [
    {
     "data": {
      "text/plain": [
       "{'Hall, Allison H',\n",
       " 'Puntambekar, Sadhana',\n",
       " 'Richard, Gabriela',\n",
       " 'Sandoval, William A.',\n",
       " 'Schunn, Chris'}"
      ]
     },
     "execution_count": 34,
     "metadata": {},
     "output_type": "execute_result"
    }
   ],
   "source": [
    "set(bridges_2).intersection(set(bridges_1))"
   ]
  },
  {
   "cell_type": "markdown",
   "metadata": {},
   "source": [
    "Constructing the graph with the largest component:"
   ]
  },
  {
   "cell_type": "markdown",
   "metadata": {},
   "source": [
    "In largest graph, maximum collaboration distance is 13 - we do not have a small world phenomenon with co-citation"
   ]
  },
  {
   "cell_type": "code",
   "execution_count": 36,
   "metadata": {},
   "outputs": [
    {
     "data": {
      "text/plain": [
       "13"
      ]
     },
     "execution_count": 36,
     "metadata": {},
     "output_type": "execute_result"
    }
   ],
   "source": [
    "nx.diameter(graph)"
   ]
  },
  {
   "cell_type": "code",
   "execution_count": 41,
   "metadata": {},
   "outputs": [
    {
     "data": {
      "text/plain": [
       "matrix([[-4.57456542e-04,  9.98398902e-01,  9.97483989e-01, ...,\n",
       "         -9.14913083e-04, -6.86184812e-04, -6.86184812e-04],\n",
       "        [ 9.98398902e-01, -5.60384263e-03,  9.91193962e-01, ...,\n",
       "         -3.20219579e-03, -2.40164684e-03, -2.40164684e-03],\n",
       "        [ 9.97483989e-01,  9.91193962e-01, -1.38380604e-02, ...,\n",
       "         -5.03202196e-03, -3.77401647e-03, -3.77401647e-03],\n",
       "        ...,\n",
       "        [-9.14913083e-04, -3.20219579e-03, -5.03202196e-03, ...,\n",
       "         -1.82982617e-03, -1.37236962e-03, -1.37236962e-03],\n",
       "        [-6.86184812e-04, -2.40164684e-03, -3.77401647e-03, ...,\n",
       "         -1.37236962e-03, -1.02927722e-03,  9.98970723e-01],\n",
       "        [-6.86184812e-04, -2.40164684e-03, -3.77401647e-03, ...,\n",
       "         -1.37236962e-03,  9.98970723e-01, -1.02927722e-03]])"
      ]
     },
     "execution_count": 41,
     "metadata": {},
     "output_type": "execute_result"
    }
   ],
   "source": [
    "nx.modularity_matrix(graph)"
   ]
  },
  {
   "cell_type": "code",
   "execution_count": null,
   "metadata": {},
   "outputs": [],
   "source": []
  }
 ],
 "metadata": {
  "kernelspec": {
   "display_name": "Python 3",
   "language": "python",
   "name": "python3"
  },
  "language_info": {
   "codemirror_mode": {
    "name": "ipython",
    "version": 3
   },
   "file_extension": ".py",
   "mimetype": "text/x-python",
   "name": "python",
   "nbconvert_exporter": "python",
   "pygments_lexer": "ipython3",
   "version": "3.7.0"
  }
 },
 "nbformat": 4,
 "nbformat_minor": 2
}
