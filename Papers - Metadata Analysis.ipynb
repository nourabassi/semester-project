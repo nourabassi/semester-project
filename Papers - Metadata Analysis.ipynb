{
 "cells": [
  {
   "cell_type": "code",
   "execution_count": 1,
   "metadata": {},
   "outputs": [],
   "source": [
    "import pandas as pd\n",
    "import numpy as np\n",
    "import matplotlib.pyplot as plt\n",
    "import seaborn as sns\n",
    "import regex"
   ]
  },
  {
   "cell_type": "markdown",
   "metadata": {},
   "source": [
    "In this notebook we first preform a basic exploratory analysis of the data contained in the metadata associated to the papers.\n",
    "Then we look at changes in participation accross the years,"
   ]
  },
  {
   "cell_type": "code",
   "execution_count": 2,
   "metadata": {},
   "outputs": [],
   "source": [
    "metadata = pd.read_csv('data/Parsed_metadata.csv', index_col=0, parse_dates=['accessioned', 'available', 'issued'])"
   ]
  },
  {
   "cell_type": "code",
   "execution_count": 3,
   "metadata": {},
   "outputs": [
    {
     "data": {
      "text/plain": [
       "(3264, 14)"
      ]
     },
     "execution_count": 3,
     "metadata": {},
     "output_type": "execute_result"
    }
   ],
   "source": [
    "metadata.shape"
   ]
  },
  {
   "cell_type": "code",
   "execution_count": 4,
   "metadata": {},
   "outputs": [
    {
     "data": {
      "text/html": [
       "<div>\n",
       "<style scoped>\n",
       "    .dataframe tbody tr th:only-of-type {\n",
       "        vertical-align: middle;\n",
       "    }\n",
       "\n",
       "    .dataframe tbody tr th {\n",
       "        vertical-align: top;\n",
       "    }\n",
       "\n",
       "    .dataframe thead th {\n",
       "        text-align: right;\n",
       "    }\n",
       "</style>\n",
       "<table border=\"1\" class=\"dataframe\">\n",
       "  <thead>\n",
       "    <tr style=\"text-align: right;\">\n",
       "      <th></th>\n",
       "      <th>file</th>\n",
       "      <th>subject</th>\n",
       "      <th>iso</th>\n",
       "      <th>uri</th>\n",
       "      <th>type</th>\n",
       "      <th>publisher</th>\n",
       "      <th>title</th>\n",
       "      <th>issued</th>\n",
       "      <th>accessioned</th>\n",
       "      <th>citation</th>\n",
       "      <th>available</th>\n",
       "      <th>abstract</th>\n",
       "      <th>long_name</th>\n",
       "      <th>shortend_names</th>\n",
       "    </tr>\n",
       "  </thead>\n",
       "  <tbody>\n",
       "    <tr>\n",
       "      <th>0</th>\n",
       "      <td>import2016full_61</td>\n",
       "      <td>NaN</td>\n",
       "      <td>en</td>\n",
       "      <td>info:doi/10.22318/icls2016.61</td>\n",
       "      <td>Book chapter</td>\n",
       "      <td>Singapore: International Society of the Learni...</td>\n",
       "      <td>Exposing Piaget’s Scheme: Empirical Evidence f...</td>\n",
       "      <td>2016-07-01</td>\n",
       "      <td>2017-03-21 12:05:42</td>\n",
       "      <td>Abrahamson, D., Shayan, S., Bakker, A., &amp; van ...</td>\n",
       "      <td>2017-03-21 12:05:42</td>\n",
       "      <td>The combination of two methodological resource...</td>\n",
       "      <td>Abrahamson, Dor</td>\n",
       "      <td>Abrahamson D.</td>\n",
       "    </tr>\n",
       "    <tr>\n",
       "      <th>1</th>\n",
       "      <td>import2016full_95</td>\n",
       "      <td>NaN</td>\n",
       "      <td>en</td>\n",
       "      <td>info:doi/10.22318/icls2016.95</td>\n",
       "      <td>Book chapter</td>\n",
       "      <td>Singapore: International Society of the Learni...</td>\n",
       "      <td>Secondary Teachers’ Emergent Understanding of ...</td>\n",
       "      <td>2016-07-01</td>\n",
       "      <td>2017-03-21 12:05:42</td>\n",
       "      <td>Sandoval, W. A., Kawasaki, J., Cournoyer, N., ...</td>\n",
       "      <td>2017-03-21 12:05:42</td>\n",
       "      <td>Abstract: The Next Generation Science Standard...</td>\n",
       "      <td>Sandoval, William A.</td>\n",
       "      <td>Sandoval W. A.</td>\n",
       "    </tr>\n",
       "  </tbody>\n",
       "</table>\n",
       "</div>"
      ],
      "text/plain": [
       "                file subject iso                            uri          type  \\\n",
       "0  import2016full_61     NaN  en  info:doi/10.22318/icls2016.61  Book chapter   \n",
       "1  import2016full_95     NaN  en  info:doi/10.22318/icls2016.95  Book chapter   \n",
       "\n",
       "                                           publisher  \\\n",
       "0  Singapore: International Society of the Learni...   \n",
       "1  Singapore: International Society of the Learni...   \n",
       "\n",
       "                                               title     issued  \\\n",
       "0  Exposing Piaget’s Scheme: Empirical Evidence f... 2016-07-01   \n",
       "1  Secondary Teachers’ Emergent Understanding of ... 2016-07-01   \n",
       "\n",
       "          accessioned                                           citation  \\\n",
       "0 2017-03-21 12:05:42  Abrahamson, D., Shayan, S., Bakker, A., & van ...   \n",
       "1 2017-03-21 12:05:42  Sandoval, W. A., Kawasaki, J., Cournoyer, N., ...   \n",
       "\n",
       "            available                                           abstract  \\\n",
       "0 2017-03-21 12:05:42  The combination of two methodological resource...   \n",
       "1 2017-03-21 12:05:42  Abstract: The Next Generation Science Standard...   \n",
       "\n",
       "              long_name  shortend_names  \n",
       "0       Abrahamson, Dor   Abrahamson D.  \n",
       "1  Sandoval, William A.  Sandoval W. A.  "
      ]
     },
     "execution_count": 4,
     "metadata": {},
     "output_type": "execute_result"
    }
   ],
   "source": [
    "metadata.head(2)"
   ]
  },
  {
   "cell_type": "markdown",
   "metadata": {},
   "source": [
    "The following gives a good overview of the type of values we have in the dataset. The first column gives us the number of values. We can discover NaN values present in the dataset. We see that we ave Nan values in the subject and the abstract column.\n",
    "We can also see the number of unique values in the second column. We see that long name and shortend name have different amounts of unique values. This means we should use the long name instead. "
   ]
  },
  {
   "cell_type": "code",
   "execution_count": 5,
   "metadata": {},
   "outputs": [
    {
     "data": {
      "text/plain": [
       "61     import2016full_39\n",
       "418       import2018_401\n",
       "431       import2018_463\n",
       "459       import2018_453\n",
       "475       import2018_517\n",
       "Name: file, dtype: object"
      ]
     },
     "execution_count": 5,
     "metadata": {},
     "output_type": "execute_result"
    }
   ],
   "source": [
    "#metadata[metadata.abstract.isna()].file.to_csv('NO_abstract_files.csv')\n",
    "metadata[metadata.abstract.isna()].file.head()"
   ]
  },
  {
   "cell_type": "code",
   "execution_count": 6,
   "metadata": {},
   "outputs": [
    {
     "data": {
      "text/html": [
       "<div>\n",
       "<style scoped>\n",
       "    .dataframe tbody tr th:only-of-type {\n",
       "        vertical-align: middle;\n",
       "    }\n",
       "\n",
       "    .dataframe tbody tr th {\n",
       "        vertical-align: top;\n",
       "    }\n",
       "\n",
       "    .dataframe thead th {\n",
       "        text-align: right;\n",
       "    }\n",
       "</style>\n",
       "<table border=\"1\" class=\"dataframe\">\n",
       "  <thead>\n",
       "    <tr style=\"text-align: right;\">\n",
       "      <th></th>\n",
       "      <th>file</th>\n",
       "      <th>subject</th>\n",
       "      <th>iso</th>\n",
       "      <th>uri</th>\n",
       "      <th>type</th>\n",
       "      <th>publisher</th>\n",
       "      <th>title</th>\n",
       "      <th>issued</th>\n",
       "      <th>accessioned</th>\n",
       "      <th>citation</th>\n",
       "      <th>available</th>\n",
       "      <th>abstract</th>\n",
       "      <th>long_name</th>\n",
       "      <th>shortend_names</th>\n",
       "    </tr>\n",
       "  </thead>\n",
       "  <tbody>\n",
       "    <tr>\n",
       "      <th>count</th>\n",
       "      <td>3264</td>\n",
       "      <td>2387</td>\n",
       "      <td>3264</td>\n",
       "      <td>3264</td>\n",
       "      <td>3264</td>\n",
       "      <td>3264</td>\n",
       "      <td>3264</td>\n",
       "      <td>3264</td>\n",
       "      <td>3264</td>\n",
       "      <td>3264</td>\n",
       "      <td>3264</td>\n",
       "      <td>3216</td>\n",
       "      <td>3264</td>\n",
       "      <td>3264</td>\n",
       "    </tr>\n",
       "    <tr>\n",
       "      <th>unique</th>\n",
       "      <td>874</td>\n",
       "      <td>592</td>\n",
       "      <td>1</td>\n",
       "      <td>817</td>\n",
       "      <td>1</td>\n",
       "      <td>3</td>\n",
       "      <td>817</td>\n",
       "      <td>4</td>\n",
       "      <td>90</td>\n",
       "      <td>817</td>\n",
       "      <td>90</td>\n",
       "      <td>789</td>\n",
       "      <td>1971</td>\n",
       "      <td>1899</td>\n",
       "    </tr>\n",
       "  </tbody>\n",
       "</table>\n",
       "</div>"
      ],
      "text/plain": [
       "        file subject   iso   uri  type publisher title issued accessioned  \\\n",
       "count   3264    2387  3264  3264  3264      3264  3264   3264        3264   \n",
       "unique   874     592     1   817     1         3   817      4          90   \n",
       "\n",
       "       citation available abstract long_name shortend_names  \n",
       "count      3264      3264     3216      3264           3264  \n",
       "unique      817        90      789      1971           1899  "
      ]
     },
     "execution_count": 6,
     "metadata": {},
     "output_type": "execute_result"
    }
   ],
   "source": [
    "metadata.describe().loc[['count', 'unique']]"
   ]
  },
  {
   "cell_type": "markdown",
   "metadata": {},
   "source": [
    "**Looking more into the naming issue**\n",
    "\n",
    "\n",
    "We construct an index corresponding to each unique name, for both long and short form. Then, we merge long and short. Where both don't overlap, there is some issue with the naming.\n",
    "\n",
    "Inspeciting the dataframe one finds that there are two cases: \n",
    "- small changes in the string make two identical names non identical.\n",
    "- the citation order is out of order, and this the short form (based on the citation) was assigned incorrectly.\n",
    "- the short form name is not unique"
   ]
  },
  {
   "cell_type": "code",
   "execution_count": 7,
   "metadata": {},
   "outputs": [
    {
     "data": {
      "text/html": [
       "<div>\n",
       "<style scoped>\n",
       "    .dataframe tbody tr th:only-of-type {\n",
       "        vertical-align: middle;\n",
       "    }\n",
       "\n",
       "    .dataframe tbody tr th {\n",
       "        vertical-align: top;\n",
       "    }\n",
       "\n",
       "    .dataframe thead th {\n",
       "        text-align: right;\n",
       "    }\n",
       "</style>\n",
       "<table border=\"1\" class=\"dataframe\">\n",
       "  <thead>\n",
       "    <tr style=\"text-align: right;\">\n",
       "      <th></th>\n",
       "      <th>index_x</th>\n",
       "      <th>shortend_names</th>\n",
       "      <th>index_y</th>\n",
       "      <th>long_name</th>\n",
       "    </tr>\n",
       "  </thead>\n",
       "  <tbody>\n",
       "    <tr>\n",
       "      <th>869</th>\n",
       "      <td>1199</td>\n",
       "      <td>Chen Y.</td>\n",
       "      <td>1877</td>\n",
       "      <td>Chen, Yuxin</td>\n",
       "    </tr>\n",
       "  </tbody>\n",
       "</table>\n",
       "</div>"
      ],
      "text/plain": [
       "     index_x shortend_names  index_y    long_name\n",
       "869     1199        Chen Y.     1877  Chen, Yuxin"
      ]
     },
     "execution_count": 7,
     "metadata": {},
     "output_type": "execute_result"
    }
   ],
   "source": [
    "unique_long = metadata.long_name.drop_duplicates()\n",
    "unique_short = metadata.shortend_names.drop_duplicates()\n",
    "names = metadata[['long_name', 'shortend_names']].drop_duplicates()\n",
    "\n",
    "index_long = unique_long.reset_index()\n",
    "index_short = unique_short.reset_index()\n",
    "names = pd.merge(index_long,names, on='long_name')\n",
    "\n",
    "differences = pd.merge(index_short, names, on='shortend_names')\n",
    "differences[differences.index_x != differences.index_y].sample()"
   ]
  },
  {
   "cell_type": "code",
   "execution_count": 8,
   "metadata": {
    "scrolled": true
   },
   "outputs": [
    {
     "data": {
      "text/html": [
       "<div>\n",
       "<style scoped>\n",
       "    .dataframe tbody tr th:only-of-type {\n",
       "        vertical-align: middle;\n",
       "    }\n",
       "\n",
       "    .dataframe tbody tr th {\n",
       "        vertical-align: top;\n",
       "    }\n",
       "\n",
       "    .dataframe thead th {\n",
       "        text-align: right;\n",
       "    }\n",
       "</style>\n",
       "<table border=\"1\" class=\"dataframe\">\n",
       "  <thead>\n",
       "    <tr style=\"text-align: right;\">\n",
       "      <th></th>\n",
       "      <th>index_x</th>\n",
       "      <th>shortend_names</th>\n",
       "      <th>index_y</th>\n",
       "      <th>long_name</th>\n",
       "    </tr>\n",
       "  </thead>\n",
       "  <tbody>\n",
       "    <tr>\n",
       "      <th>21</th>\n",
       "      <td>21</td>\n",
       "      <td>Flood V. J.</td>\n",
       "      <td>21</td>\n",
       "      <td>Flood, Virginia J.</td>\n",
       "    </tr>\n",
       "    <tr>\n",
       "      <th>22</th>\n",
       "      <td>21</td>\n",
       "      <td>Flood V. J.</td>\n",
       "      <td>499</td>\n",
       "      <td>Flood, Virginia J</td>\n",
       "    </tr>\n",
       "  </tbody>\n",
       "</table>\n",
       "</div>"
      ],
      "text/plain": [
       "    index_x shortend_names  index_y           long_name\n",
       "21       21    Flood V. J.       21  Flood, Virginia J.\n",
       "22       21    Flood V. J.      499   Flood, Virginia J"
      ]
     },
     "execution_count": 8,
     "metadata": {},
     "output_type": "execute_result"
    }
   ],
   "source": [
    "differences[differences.shortend_names == 'Flood V. J.']"
   ]
  },
  {
   "cell_type": "markdown",
   "metadata": {},
   "source": [
    "We can fix the first problem by transforming the long form of the string. Now only issue 2 and 3 remain:"
   ]
  },
  {
   "cell_type": "code",
   "execution_count": 9,
   "metadata": {},
   "outputs": [],
   "source": [
    "import unicodedata"
   ]
  },
  {
   "cell_type": "code",
   "execution_count": 10,
   "metadata": {},
   "outputs": [
    {
     "data": {
      "text/html": [
       "<div>\n",
       "<style scoped>\n",
       "    .dataframe tbody tr th:only-of-type {\n",
       "        vertical-align: middle;\n",
       "    }\n",
       "\n",
       "    .dataframe tbody tr th {\n",
       "        vertical-align: top;\n",
       "    }\n",
       "\n",
       "    .dataframe thead th {\n",
       "        text-align: right;\n",
       "    }\n",
       "</style>\n",
       "<table border=\"1\" class=\"dataframe\">\n",
       "  <thead>\n",
       "    <tr style=\"text-align: right;\">\n",
       "      <th></th>\n",
       "      <th>index_x</th>\n",
       "      <th>shortend_names</th>\n",
       "      <th>index_y</th>\n",
       "      <th>long_name</th>\n",
       "    </tr>\n",
       "  </thead>\n",
       "  <tbody>\n",
       "    <tr>\n",
       "      <th>535</th>\n",
       "      <td>798</td>\n",
       "      <td>Noushad N. F.</td>\n",
       "      <td>2001</td>\n",
       "      <td>Noushad, Noora F Noushad</td>\n",
       "    </tr>\n",
       "    <tr>\n",
       "      <th>622</th>\n",
       "      <td>958</td>\n",
       "      <td>Trausan-Matu S.</td>\n",
       "      <td>1745</td>\n",
       "      <td>Trausan-Matu, Stefan</td>\n",
       "    </tr>\n",
       "    <tr>\n",
       "      <th>739</th>\n",
       "      <td>1222</td>\n",
       "      <td>Sarmiento J. P.</td>\n",
       "      <td>1930</td>\n",
       "      <td>Chiu, Jennifer</td>\n",
       "    </tr>\n",
       "    <tr>\n",
       "      <th>1119</th>\n",
       "      <td>1966</td>\n",
       "      <td>Johnson A.</td>\n",
       "      <td>2050</td>\n",
       "      <td>Johnson, Angela</td>\n",
       "    </tr>\n",
       "    <tr>\n",
       "      <th>1091</th>\n",
       "      <td>1930</td>\n",
       "      <td>Chiu J.</td>\n",
       "      <td>423</td>\n",
       "      <td>Bywater, Jim P</td>\n",
       "    </tr>\n",
       "  </tbody>\n",
       "</table>\n",
       "</div>"
      ],
      "text/plain": [
       "      index_x   shortend_names  index_y                 long_name\n",
       "535       798    Noushad N. F.     2001  Noushad, Noora F Noushad\n",
       "622       958  Trausan-Matu S.     1745      Trausan-Matu, Stefan\n",
       "739      1222  Sarmiento J. P.     1930            Chiu, Jennifer\n",
       "1119     1966       Johnson A.     2050           Johnson, Angela\n",
       "1091     1930          Chiu J.      423            Bywater, Jim P"
      ]
     },
     "execution_count": 10,
     "metadata": {},
     "output_type": "execute_result"
    }
   ],
   "source": [
    "unique_long = metadata.long_name.map(lambda x: regex.sub('\\.', '',x)).drop_duplicates()\n",
    "unique_long = unique_long.map(lambda x: unicodedata.normalize('NFKD', x).encode('ascii','ignore').decode('ascii'))\n",
    "\n",
    "unique_short = metadata.shortend_names.drop_duplicates()\n",
    "names = metadata[['long_name', 'shortend_names']].drop_duplicates()\n",
    "\n",
    "index_long = unique_long.reset_index()\n",
    "index_short = unique_short.reset_index()\n",
    "names = pd.merge(index_long,names, on='long_name')\n",
    "\n",
    "differences = pd.merge(index_short, names, on='shortend_names')\n",
    "differences[differences.index_x != differences.index_y].sample(5)"
   ]
  },
  {
   "cell_type": "code",
   "execution_count": 11,
   "metadata": {
    "scrolled": true
   },
   "outputs": [
    {
     "data": {
      "text/plain": [
       "(    index_x shortend_names  index_y    long_name\n",
       " 39       55         Tan E.       55  Tan, Esther\n",
       " 40       55         Tan E.       63    Tan, Edna,\n",
       "       index_x shortend_names  index_y long_name\n",
       " 1311     2382         Roy D.     2382  Roy, Dan\n",
       " 1312     2382         Roy D.     3039  Roy, Deb)"
      ]
     },
     "execution_count": 11,
     "metadata": {},
     "output_type": "execute_result"
    }
   ],
   "source": [
    "differences[differences.shortend_names =='Tan E.'], differences[differences.shortend_names =='Roy D.']"
   ]
  },
  {
   "cell_type": "markdown",
   "metadata": {},
   "source": [
    "Use the cleaned long name string:"
   ]
  },
  {
   "cell_type": "code",
   "execution_count": 12,
   "metadata": {},
   "outputs": [],
   "source": [
    "metadata.loc['long_name'] = metadata.long_name.map(lambda x: regex.sub('\\.', '',x)).map(lambda x: unicodedata.normalize('NFKD', x).encode('ascii','ignore').decode('ascii'))"
   ]
  },
  {
   "cell_type": "markdown",
   "metadata": {},
   "source": [
    "# Looking at the authors:"
   ]
  },
  {
   "cell_type": "code",
   "execution_count": 13,
   "metadata": {},
   "outputs": [
    {
     "data": {
      "image/png": "[encoded data removed]",
      "text/plain": [
       "<Figure size 432x288 with 1 Axes>"
      ]
     },
     "metadata": {
      "needs_background": "light"
     },
     "output_type": "display_data"
    }
   ],
   "source": [
    "plt.title('Most productive paper authors in the whole set of papers')\n",
    "plt.ylabel('Number of distinct papers')\n",
    "metadata.long_name.value_counts().head(10).plot(kind = 'bar')\n",
    "plt.show()"
   ]
  },
  {
   "cell_type": "markdown",
   "metadata": {},
   "source": [
    "# Looking at the number of papers: \n",
    "\n",
    "We see that more papers get published in ICLS than in CLCS."
   ]
  },
  {
   "cell_type": "code",
   "execution_count": 14,
   "metadata": {},
   "outputs": [
    {
     "data": {
      "image/png": "[encoded data removed]",
      "text/plain": [
       "<Figure size 432x288 with 1 Axes>"
      ]
     },
     "metadata": {
      "needs_background": "light"
     },
     "output_type": "display_data"
    }
   ],
   "source": [
    "metadata['issued'] = metadata.issued.map(lambda x: x.year)\n",
    "plt.title('Papers published in year')\n",
    "plt.xlabel('year')\n",
    "plt.ylabel('counts')\n",
    "metadata.issued.value_counts().sort_index().plot(kind='bar')\n",
    "plt.show()"
   ]
  },
  {
   "cell_type": "markdown",
   "metadata": {},
   "source": [
    "Here we look at the number of authors in each year:"
   ]
  },
  {
   "cell_type": "code",
   "execution_count": 15,
   "metadata": {},
   "outputs": [
    {
     "data": {
      "text/plain": [
       "<matplotlib.axes._subplots.AxesSubplot at 0x1a182707b8>"
      ]
     },
     "execution_count": 15,
     "metadata": {},
     "output_type": "execute_result"
    },
    {
     "data": {
      "image/png": "[encoded data removed]",
      "text/plain": [
       "<Figure size 432x288 with 1 Axes>"
      ]
     },
     "metadata": {
      "needs_background": "light"
     },
     "output_type": "display_data"
    }
   ],
   "source": [
    "plt.title('Authors published in year')\n",
    "plt.xlabel('year')\n",
    "plt.ylabel('counts')\n",
    "metadata.groupby(['issued']).long_name.unique().map(lambda x: len(x)).plot(kind = 'bar')"
   ]
  },
  {
   "cell_type": "code",
   "execution_count": 16,
   "metadata": {},
   "outputs": [],
   "source": [
    "#metadata.groupby('issued').shortend_names.value_counts().plot(kind = 'bar')"
   ]
  },
  {
   "cell_type": "markdown",
   "metadata": {},
   "source": [
    "In each year, every author published the following average papers:"
   ]
  },
  {
   "cell_type": "code",
   "execution_count": 17,
   "metadata": {},
   "outputs": [
    {
     "data": {
      "text/plain": [
       "issued\n",
       "2015.0    1.935374\n",
       "2016.0    1.193431\n",
       "2017.0    1.142157\n",
       "2018.0    1.331361\n",
       "Name: long_name, dtype: float64"
      ]
     },
     "execution_count": 17,
     "metadata": {},
     "output_type": "execute_result"
    }
   ],
   "source": [
    "metadata.groupby('issued').long_name.value_counts().groupby('issued').mean()"
   ]
  },
  {
   "cell_type": "markdown",
   "metadata": {},
   "source": [
    "The median gives quite interessting insight:"
   ]
  },
  {
   "cell_type": "code",
   "execution_count": 18,
   "metadata": {},
   "outputs": [
    {
     "data": {
      "text/plain": [
       "issued\n",
       "2015.0    2\n",
       "2016.0    1\n",
       "2017.0    1\n",
       "2018.0    1\n",
       "Name: long_name, dtype: int64"
      ]
     },
     "execution_count": 18,
     "metadata": {},
     "output_type": "execute_result"
    }
   ],
   "source": [
    "metadata.groupby('issued').long_name.value_counts().groupby('issued').median()"
   ]
  },
  {
   "cell_type": "markdown",
   "metadata": {},
   "source": [
    "The median and average number of authors per paper is:"
   ]
  },
  {
   "cell_type": "code",
   "execution_count": 19,
   "metadata": {},
   "outputs": [
    {
     "name": "stdout",
     "output_type": "stream",
     "text": [
      "Median number authors per paper 3.0, Average number of authors per paper 3.735\n"
     ]
    }
   ],
   "source": [
    "print(\"Median number authors per paper {}, Average number of authors per paper {:.4}\".format(metadata.file.value_counts().median(), metadata.file.value_counts().mean()))"
   ]
  },
  {
   "cell_type": "code",
   "execution_count": 20,
   "metadata": {},
   "outputs": [
    {
     "data": {
      "text/plain": [
       "issued\n",
       "2015.0    3\n",
       "2016.0    3\n",
       "2017.0    3\n",
       "2018.0    3\n",
       "Name: file, dtype: int64"
      ]
     },
     "execution_count": 20,
     "metadata": {},
     "output_type": "execute_result"
    }
   ],
   "source": [
    "metadata.groupby('issued').file.value_counts().groupby('issued').median()"
   ]
  },
  {
   "cell_type": "code",
   "execution_count": 21,
   "metadata": {},
   "outputs": [
    {
     "data": {
      "text/html": [
       "<div>\n",
       "<style scoped>\n",
       "    .dataframe tbody tr th:only-of-type {\n",
       "        vertical-align: middle;\n",
       "    }\n",
       "\n",
       "    .dataframe tbody tr th {\n",
       "        vertical-align: top;\n",
       "    }\n",
       "\n",
       "    .dataframe thead th {\n",
       "        text-align: right;\n",
       "    }\n",
       "</style>\n",
       "<table border=\"1\" class=\"dataframe\">\n",
       "  <thead>\n",
       "    <tr style=\"text-align: right;\">\n",
       "      <th></th>\n",
       "      <th>count</th>\n",
       "      <th>mean</th>\n",
       "      <th>std</th>\n",
       "      <th>min</th>\n",
       "      <th>25%</th>\n",
       "      <th>50%</th>\n",
       "      <th>75%</th>\n",
       "      <th>max</th>\n",
       "    </tr>\n",
       "    <tr>\n",
       "      <th>issued</th>\n",
       "      <th></th>\n",
       "      <th></th>\n",
       "      <th></th>\n",
       "      <th></th>\n",
       "      <th></th>\n",
       "      <th></th>\n",
       "      <th></th>\n",
       "      <th></th>\n",
       "    </tr>\n",
       "  </thead>\n",
       "  <tbody>\n",
       "    <tr>\n",
       "      <th>2015.0</th>\n",
       "      <td>142.0</td>\n",
       "      <td>4.007042</td>\n",
       "      <td>2.812072</td>\n",
       "      <td>1.0</td>\n",
       "      <td>2.0</td>\n",
       "      <td>3.0</td>\n",
       "      <td>5.0</td>\n",
       "      <td>18.0</td>\n",
       "    </tr>\n",
       "    <tr>\n",
       "      <th>2016.0</th>\n",
       "      <td>171.0</td>\n",
       "      <td>3.824561</td>\n",
       "      <td>2.799934</td>\n",
       "      <td>1.0</td>\n",
       "      <td>2.0</td>\n",
       "      <td>3.0</td>\n",
       "      <td>4.5</td>\n",
       "      <td>20.0</td>\n",
       "    </tr>\n",
       "    <tr>\n",
       "      <th>2017.0</th>\n",
       "      <td>115.0</td>\n",
       "      <td>4.052174</td>\n",
       "      <td>3.521472</td>\n",
       "      <td>1.0</td>\n",
       "      <td>2.0</td>\n",
       "      <td>3.0</td>\n",
       "      <td>4.0</td>\n",
       "      <td>24.0</td>\n",
       "    </tr>\n",
       "    <tr>\n",
       "      <th>2018.0</th>\n",
       "      <td>446.0</td>\n",
       "      <td>3.531390</td>\n",
       "      <td>3.007504</td>\n",
       "      <td>1.0</td>\n",
       "      <td>2.0</td>\n",
       "      <td>3.0</td>\n",
       "      <td>4.0</td>\n",
       "      <td>27.0</td>\n",
       "    </tr>\n",
       "  </tbody>\n",
       "</table>\n",
       "</div>"
      ],
      "text/plain": [
       "        count      mean       std  min  25%  50%  75%   max\n",
       "issued                                                     \n",
       "2015.0  142.0  4.007042  2.812072  1.0  2.0  3.0  5.0  18.0\n",
       "2016.0  171.0  3.824561  2.799934  1.0  2.0  3.0  4.5  20.0\n",
       "2017.0  115.0  4.052174  3.521472  1.0  2.0  3.0  4.0  24.0\n",
       "2018.0  446.0  3.531390  3.007504  1.0  2.0  3.0  4.0  27.0"
      ]
     },
     "execution_count": 21,
     "metadata": {},
     "output_type": "execute_result"
    }
   ],
   "source": [
    "metadata.groupby('issued').file.value_counts().groupby('issued').describe()"
   ]
  },
  {
   "cell_type": "code",
   "execution_count": 22,
   "metadata": {},
   "outputs": [
    {
     "data": {
      "text/plain": [
       "issued\n",
       "2015.0    2.812072\n",
       "2016.0    2.799934\n",
       "2017.0    3.521472\n",
       "2018.0    3.007504\n",
       "Name: file, dtype: float64"
      ]
     },
     "execution_count": 22,
     "metadata": {},
     "output_type": "execute_result"
    }
   ],
   "source": [
    "metadata.groupby('issued').file.value_counts().groupby('issued').std()"
   ]
  },
  {
   "cell_type": "code",
   "execution_count": 23,
   "metadata": {},
   "outputs": [
    {
     "data": {
      "text/plain": [
       "issued\n",
       "2015.0    4.007042\n",
       "2016.0    3.824561\n",
       "2017.0    4.052174\n",
       "2018.0    3.531390\n",
       "Name: file, dtype: float64"
      ]
     },
     "execution_count": 23,
     "metadata": {},
     "output_type": "execute_result"
    }
   ],
   "source": [
    "metadata.groupby('issued').file.value_counts().groupby('issued').mean()"
   ]
  },
  {
   "cell_type": "code",
   "execution_count": 24,
   "metadata": {},
   "outputs": [],
   "source": [
    "import scipy.stats as stats"
   ]
  },
  {
   "cell_type": "markdown",
   "metadata": {},
   "source": [
    "Check if the observed difference in average number of authors is significant:\n",
    "it is not - however, our data might change with more years to observe!\n",
    "(the difference between only one year of CLCS and ICLS has even higher p value)"
   ]
  },
  {
   "cell_type": "code",
   "execution_count": 25,
   "metadata": {},
   "outputs": [
    {
     "data": {
      "text/plain": [
       "Ttest_indResult(statistic=-1.855662028302758, pvalue=0.06383898143801489)"
      ]
     },
     "execution_count": 25,
     "metadata": {},
     "output_type": "execute_result"
    }
   ],
   "source": [
    "stats.ttest_ind(metadata[metadata.issued%2 == 0].file.value_counts() ,metadata[metadata.issued%2 != 0].file.value_counts())"
   ]
  },
  {
   "cell_type": "markdown",
   "metadata": {},
   "source": [
    "People who submitted every year of the year:"
   ]
  },
  {
   "cell_type": "code",
   "execution_count": 46,
   "metadata": {},
   "outputs": [],
   "source": [
    "uni_year = metadata.groupby('issued').apply(lambda x: set(x['long_name']))\n",
    "years = uni_year.index.tolist()\n",
    "unis = uni_year.tolist()\n",
    "all_ = set()\n",
    "[all_.update(x) for x in unis]\n",
    "\n",
    "regulars = unis[0]\n",
    "ICLS = all_\n",
    "CSCL = all_\n",
    "\n",
    "\n",
    "for i, x in enumerate(unis):\n",
    "    regulars = all_years.intersection(x)\n",
    "    \n",
    "    if years[i] % 2 == 0:\n",
    "        ICLS = ICLS.intersection(x)\n",
    "    else:\n",
    "        CSCL = CSCL.intersection(x)\n",
    "ICLS, CSCL = ICLS.difference(CSCL), CSCL.difference(ICLS)"
   ]
  },
  {
   "cell_type": "code",
   "execution_count": 47,
   "metadata": {},
   "outputs": [
    {
     "name": "stdout",
     "output_type": "stream",
     "text": [
      "Number of people who submit every year:  25\n"
     ]
    },
    {
     "data": {
      "text/plain": [
       "{'Acosta, Alisa',\n",
       " 'Anderson, Emma',\n",
       " 'Andrade, Alejandro',\n",
       " 'Borge, Marcela',\n",
       " 'Chen, Bodong',\n",
       " 'Dillenbourg, Pierre',\n",
       " 'Gnesdilow, Dana',\n",
       " 'Hartmann, Christian',\n",
       " 'Kollar, Ingo',\n",
       " 'Ma, Leanne',\n",
       " 'Matuk, Camillia',\n",
       " 'Moher, Tom',\n",
       " 'Nistor, Nicolae',\n",
       " 'Oshima, Jun',\n",
       " 'Oshima, Ritsuko',\n",
       " 'Puntambekar, Sadhana',\n",
       " 'Rummel, Nikol',\n",
       " 'Scardamalia, Marlene',\n",
       " 'Schneider, Bertrand',\n",
       " 'Shaffer, David Williamson',\n",
       " 'Sharma, Kshitij',\n",
       " 'Thompson, Kate',\n",
       " 'Weinberger, Armin',\n",
       " 'Zhang, Jianwei',\n",
       " 'van Aalst, Jan'}"
      ]
     },
     "execution_count": 47,
     "metadata": {},
     "output_type": "execute_result"
    }
   ],
   "source": [
    "print('Number of people who submit every year: ', len(regulars))\n",
    "regulars"
   ]
  },
  {
   "cell_type": "markdown",
   "metadata": {},
   "source": [
    "People who only subitted to 2015 and 2017:"
   ]
  },
  {
   "cell_type": "code",
   "execution_count": 51,
   "metadata": {},
   "outputs": [
    {
     "name": "stdout",
     "output_type": "stream",
     "text": [
      "Number of CSCL only participants:  46\n"
     ]
    }
   ],
   "source": [
    "print('Number of CSCL only participants: ', len(CSCL))\n",
    "#CSCL"
   ]
  },
  {
   "cell_type": "code",
   "execution_count": 49,
   "metadata": {
    "scrolled": false
   },
   "outputs": [
    {
     "name": "stdout",
     "output_type": "stream",
     "text": [
      "Number of ICLS only participants:  129\n"
     ]
    }
   ],
   "source": [
    "print('Number of ICLS only participants: ', len(ICLS))\n",
    "#ICLS_only #uncomment to see al 129 participants"
   ]
  },
  {
   "cell_type": "markdown",
   "metadata": {},
   "source": [
    "## Analyzing the regulars"
   ]
  },
  {
   "cell_type": "markdown",
   "metadata": {},
   "source": [
    "The metadata associated with the regulars:"
   ]
  },
  {
   "cell_type": "code",
   "execution_count": 52,
   "metadata": {},
   "outputs": [
    {
     "data": {
      "text/plain": [
       "<matplotlib.axes._subplots.AxesSubplot at 0x1a19805a90>"
      ]
     },
     "execution_count": 52,
     "metadata": {},
     "output_type": "execute_result"
    },
    {
     "data": {
      "image/png": "[encoded data removed]",
      "text/plain": [
       "<Figure size 432x288 with 1 Axes>"
      ]
     },
     "metadata": {
      "needs_background": "light"
     },
     "output_type": "display_data"
    }
   ],
   "source": [
    "metadata[metadata.long_name.isin(regulars)].long_name.value_counts().plot(kind = 'bar')"
   ]
  },
  {
   "cell_type": "markdown",
   "metadata": {},
   "source": [
    "Look at how number of pub. per year evolve ... there is not much to see:"
   ]
  },
  {
   "cell_type": "code",
   "execution_count": 53,
   "metadata": {},
   "outputs": [],
   "source": [
    "regulars = pd.DataFrame(metadata[metadata.long_name.isin(regulars)].groupby('issued').long_name.value_counts())\n",
    "regulars.columns = ['counts']\n",
    "regulars.reset_index(inplace=True)"
   ]
  },
  {
   "cell_type": "code",
   "execution_count": 54,
   "metadata": {},
   "outputs": [
    {
     "data": {
      "image/png": "[encoded data removed]",
      "text/plain": [
       "<Figure size 525.375x360 with 1 Axes>"
      ]
     },
     "metadata": {
      "needs_background": "light"
     },
     "output_type": "display_data"
    }
   ],
   "source": [
    "sns.catplot(data=regulars, x='issued', y='counts',kind='point', hue='long_name')\n",
    "plt.xticks(rotation=90)\n",
    "plt.show()"
   ]
  }
 ],
 "metadata": {
  "kernelspec": {
   "display_name": "Python 3",
   "language": "python",
   "name": "python3"
  },
  "language_info": {
   "codemirror_mode": {
    "name": "ipython",
    "version": 3
   },
   "file_extension": ".py",
   "mimetype": "text/x-python",
   "name": "python",
   "nbconvert_exporter": "python",
   "pygments_lexer": "ipython3",
   "version": "3.7.0"
  }
 },
 "nbformat": 4,
 "nbformat_minor": 2
}
