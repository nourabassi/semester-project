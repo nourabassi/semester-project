{
 "cells": [
  {
   "cell_type": "code",
   "execution_count": 1,
   "metadata": {},
   "outputs": [],
   "source": [
    "import re\n",
    "import pandas as pd\n",
    "import os\n",
    "import numpy as np\n",
    "import sys\n",
    "import json\n",
    "%matplotlib inline\n",
    "\n",
    "rootdir = '/Users/lguillain/Documents/EPFL2018/Semester-Project/papers-import'"
   ]
  },
  {
   "cell_type": "markdown",
   "metadata": {},
   "source": [
    "## loading content of txt files.."
   ]
  },
  {
   "cell_type": "code",
   "execution_count": 2,
   "metadata": {},
   "outputs": [],
   "source": [
    "contents = []\n",
    "i = 0\n",
    "source = []\n",
    "for subdir, dirs, files in os.walk(rootdir):\n",
    "    for file in files:\n",
    "        if 'txt' in file:\n",
    "            i += 1\n",
    "            path = os.path.join(subdir, file)\n",
    "            with open(path) as file:\n",
    "                try:\n",
    "                    text = file.read()\n",
    "                    contents.append(text)\n",
    "                    source.append(subdir[len(rootdir):])\n",
    "                except:\n",
    "                    name, message, content = sys.exc_info()\n",
    "                    print(message)"
   ]
  },
  {
   "cell_type": "markdown",
   "metadata": {},
   "source": [
    "## extracting the reference function from the text"
   ]
  },
  {
   "cell_type": "code",
   "execution_count": 3,
   "metadata": {},
   "outputs": [],
   "source": [
    "def ref_extraction(text, extract=False):\n",
    "    \"\"\"extracts refrerence section: works well on well formated documents\"\"\"\n",
    "    mention = text.lower().rfind(\"references\")\n",
    "    \n",
    "    #get reference section, account for different spelling\n",
    "    acknowledgements = max(text.lower().find(\"acknowledgements\"), text.lower().find('acknowledgments'))\n",
    "    ref = text[mention+len(\"references\"):acknowledgements]\n",
    "    \n",
    "    #split up different references\n",
    "    references = ref.split('.\\n')\n",
    "    ref = [r for r in references if len(r) > 10]\n",
    "    \n",
    "    if extract:\n",
    "        #use regex to parse, splits if \".\" format ignores S. and . within paranteses\n",
    "        #Stable enough to get authors & year (first line)\n",
    "        ref = [re.sub('\\.(?![^\\(]*\\))(?<!\\s[A-Z]\\.)', '_#_', r).split('_#_') for r in ref]\n",
    "    return ref"
   ]
  },
  {
   "cell_type": "code",
   "execution_count": 4,
   "metadata": {},
   "outputs": [
    {
     "data": {
      "text/plain": [
       "428"
      ]
     },
     "execution_count": 4,
     "metadata": {},
     "output_type": "execute_result"
    }
   ],
   "source": [
    "len(source)"
   ]
  },
  {
   "cell_type": "code",
   "execution_count": 5,
   "metadata": {},
   "outputs": [],
   "source": [
    "#counts = []\n",
    "references = []\n",
    "for i, content in enumerate(contents):\n",
    "    references.append((ref_extraction(content)))"
   ]
  },
  {
   "cell_type": "markdown",
   "metadata": {},
   "source": [
    "# looking into regex to check if valid:"
   ]
  },
  {
   "cell_type": "markdown",
   "metadata": {},
   "source": [
    "One way we can know a line was split early is if it starts with lowercase letter or with a number"
   ]
  },
  {
   "cell_type": "code",
   "execution_count": 6,
   "metadata": {},
   "outputs": [
    {
     "data": {
      "text/plain": [
       "<re.Match object; span=(0, 1), match='3'>"
      ]
     },
     "execution_count": 6,
     "metadata": {},
     "output_type": "execute_result"
    }
   ],
   "source": [
    "re.match(r'^[0-9\\–]*(?![A-Z])', '3(3),535-554.')"
   ]
  },
  {
   "cell_type": "code",
   "execution_count": 7,
   "metadata": {},
   "outputs": [],
   "source": [
    "re.match('^[A-Z][^.]*[?.!]$', 'Abjdbsf . ')"
   ]
  },
  {
   "cell_type": "code",
   "execution_count": 8,
   "metadata": {},
   "outputs": [
    {
     "data": {
      "text/plain": [
       "<re.Match object; span=(0, 1), match='h'>"
      ]
     },
     "execution_count": 8,
     "metadata": {},
     "output_type": "execute_result"
    }
   ],
   "source": [
    "re.match('^[a-z]', 'http://www.joanganzcooneycenter.org/publication/the-new-coviewing-designing-for-learning-throughjoint-media-engagement/')"
   ]
  },
  {
   "cell_type": "code",
   "execution_count": 9,
   "metadata": {},
   "outputs": [],
   "source": [
    "bad_strings = [\"ICLS 2016 Proceedings\", 'CSCL 2017 Proceedings']"
   ]
  },
  {
   "cell_type": "markdown",
   "metadata": {},
   "source": [
    "The below may need to be run multiple times"
   ]
  },
  {
   "cell_type": "code",
   "execution_count": 10,
   "metadata": {},
   "outputs": [],
   "source": [
    "#moving sentences starting with lowercase letter or number strings \"one up\"\n",
    "def moving_down(issues):\n",
    "    issues = [i for i in issues if len(i) > 0 and not re.match(r'(CSCL|ICLS) \\d{4} Proceedings', i)]\n",
    "    patchwork = ['']*len(issues)\n",
    "    for i, sentence in enumerate(issues):\n",
    "        if i != 0 and (re.match('^[a-z]', sentence) or re.match(r'^[0-9\\–]*(?![A-Z])', sentence)): \n",
    "            j = 1\n",
    "            while len(patchwork[i-j]) == 0:\n",
    "                j += 1\n",
    "            patchwork[i-j] += ' ' + sentence\n",
    "        else:\n",
    "            patchwork[i] = sentence\n",
    "    return patchwork"
   ]
  },
  {
   "cell_type": "code",
   "execution_count": 11,
   "metadata": {},
   "outputs": [
    {
     "data": {
      "text/plain": [
       "<re.Match object; span=(0, 34), match='dbsjbfdhj dhfdjhf A.  dhfghf, £ A.'>"
      ]
     },
     "execution_count": 11,
     "metadata": {},
     "output_type": "execute_result"
    }
   ],
   "source": [
    "re.match(r'([\\s\\S]*\\ [A-Z]\\.\\ *$)', 'dbsjbfdhj dhfdjhf A.  dhfghf, £ A.')"
   ]
  },
  {
   "cell_type": "code",
   "execution_count": 12,
   "metadata": {},
   "outputs": [],
   "source": [
    "#issues = [i for i in issues if len(i) > 0]\n",
    "#fix code here\n",
    "def moving_up(issues):\n",
    "    matches = True\n",
    "    i = 0\n",
    "    while matches:\n",
    "        match = False\n",
    "        p = move_up_once(issues)\n",
    "        issues = p\n",
    "        matches = match\n",
    "        i += 1\n",
    "        if i > 20:\n",
    "            print(issues)\n",
    "            return 1\n",
    "    return p"
   ]
  },
  {
   "cell_type": "code",
   "execution_count": 13,
   "metadata": {},
   "outputs": [],
   "source": [
    "def move_up_once(issues):\n",
    "    issues = [i for i in issues if len(i) > 0]\n",
    "    p = ['']*len(issues)\n",
    "    for i, sentence in enumerate(issues):\n",
    "        \n",
    "        #We move a sentence up if its ending indicates incompletness -> small letter, initial\n",
    "        # or if it is an incomplete citation -> must contain a year\n",
    "        \n",
    "        if re.match('[\\s\\S]*[a-z\\,\\:]\\ ?$', sentence) or re.match(r'([\\s\\S]*\\ [A-Z]\\.\\ *$)', sentence)\\\n",
    "        or not re.match(r'.*\\(\\d{4}\\)', sentence):\n",
    "            #print(sentence)\n",
    "            if i+1 < len(issues):\n",
    "                match = True\n",
    "                p[i] =  sentence +' '+issues[i+1]\n",
    "            #print(sentence[-10:])\n",
    "        else:\n",
    "            p[i] = sentence\n",
    "    return p"
   ]
  },
  {
   "cell_type": "code",
   "execution_count": 14,
   "metadata": {},
   "outputs": [],
   "source": [
    "r = []\n",
    "for i, ref in enumerate(references):\n",
    "    tmp = moving_down(ref)\n",
    "    tmp = [i.replace('\\n', '') for i in tmp if len(i) > 0]\n",
    "    r.append([(t, source[i]) for t in tmp])"
   ]
  },
  {
   "cell_type": "code",
   "execution_count": 15,
   "metadata": {},
   "outputs": [],
   "source": [
    "references_df = pd.DataFrame([f for flat in r for f in flat], columns=['ref', 'file'])"
   ]
  },
  {
   "cell_type": "code",
   "execution_count": 16,
   "metadata": {},
   "outputs": [
    {
     "data": {
      "text/html": [
       "<div>\n",
       "<style scoped>\n",
       "    .dataframe tbody tr th:only-of-type {\n",
       "        vertical-align: middle;\n",
       "    }\n",
       "\n",
       "    .dataframe tbody tr th {\n",
       "        vertical-align: top;\n",
       "    }\n",
       "\n",
       "    .dataframe thead th {\n",
       "        text-align: right;\n",
       "    }\n",
       "</style>\n",
       "<table border=\"1\" class=\"dataframe\">\n",
       "  <thead>\n",
       "    <tr style=\"text-align: right;\">\n",
       "      <th></th>\n",
       "      <th>ref</th>\n",
       "      <th>file</th>\n",
       "    </tr>\n",
       "  </thead>\n",
       "  <tbody>\n",
       "    <tr>\n",
       "      <th>0</th>\n",
       "      <td>Abrahamson, D. (2012). Discovery reconceived: ...</td>\n",
       "      <td>/import2016full/61</td>\n",
       "    </tr>\n",
       "    <tr>\n",
       "      <th>1</th>\n",
       "      <td>Abrahamson, D. (2015). The monster in the mach...</td>\n",
       "      <td>/import2016full/61</td>\n",
       "    </tr>\n",
       "    <tr>\n",
       "      <th>2</th>\n",
       "      <td>Abrahamson, D., Lee, R. G., Negrete, A. G., &amp; ...</td>\n",
       "      <td>/import2016full/61</td>\n",
       "    </tr>\n",
       "    <tr>\n",
       "      <th>3</th>\n",
       "      <td>Abrahamson, D., &amp; Sánchez-García, R. (in press...</td>\n",
       "      <td>/import2016full/61</td>\n",
       "    </tr>\n",
       "    <tr>\n",
       "      <th>4</th>\n",
       "      <td>Abrahamson, D., Shayan, S., Bakker, A., &amp; Van ...</td>\n",
       "      <td>/import2016full/61</td>\n",
       "    </tr>\n",
       "  </tbody>\n",
       "</table>\n",
       "</div>"
      ],
      "text/plain": [
       "                                                 ref                file\n",
       "0  Abrahamson, D. (2012). Discovery reconceived: ...  /import2016full/61\n",
       "1  Abrahamson, D. (2015). The monster in the mach...  /import2016full/61\n",
       "2  Abrahamson, D., Lee, R. G., Negrete, A. G., & ...  /import2016full/61\n",
       "3  Abrahamson, D., & Sánchez-García, R. (in press...  /import2016full/61\n",
       "4  Abrahamson, D., Shayan, S., Bakker, A., & Van ...  /import2016full/61"
      ]
     },
     "execution_count": 16,
     "metadata": {},
     "output_type": "execute_result"
    }
   ],
   "source": [
    "references_df.head()"
   ]
  },
  {
   "cell_type": "code",
   "execution_count": 17,
   "metadata": {},
   "outputs": [],
   "source": [
    "references_df['length'] = references_df.ref.map(lambda x: len(x))"
   ]
  },
  {
   "cell_type": "code",
   "execution_count": 18,
   "metadata": {},
   "outputs": [
    {
     "data": {
      "text/plain": [
       "count     8647.000000\n",
       "mean       199.030531\n",
       "std        865.821299\n",
       "min         11.000000\n",
       "25%        110.000000\n",
       "50%        165.000000\n",
       "75%        211.000000\n",
       "max      74522.000000\n",
       "Name: length, dtype: float64"
      ]
     },
     "execution_count": 18,
     "metadata": {},
     "output_type": "execute_result"
    }
   ],
   "source": [
    "references_df.length.describe()"
   ]
  },
  {
   "cell_type": "markdown",
   "metadata": {},
   "source": [
    "# Approach to get names from references:"
   ]
  },
  {
   "cell_type": "code",
   "execution_count": 19,
   "metadata": {},
   "outputs": [],
   "source": [
    "nicer_refs = references_df.ref.tolist()"
   ]
  },
  {
   "cell_type": "markdown",
   "metadata": {},
   "source": [
    "For APA style it is easy to extract the year and author of the cited reference\n",
    "- we could look at from when the reference cited is, who is in it"
   ]
  },
  {
   "cell_type": "markdown",
   "metadata": {},
   "source": [
    "Need to look at efficient way to check name validity:\n",
    "think spanish, irish names"
   ]
  },
  {
   "cell_type": "code",
   "execution_count": 20,
   "metadata": {},
   "outputs": [],
   "source": [
    "def get_authors(sentence, debug = False):\n",
    "    if re.match(r'[\\w\\ \\. \\,\\&\\(\\)\\-\\']*\\(\\d{4}\\)', sentence):\n",
    "        s = re.findall(r'[\\w\\ \\. \\,\\&\\(\\)\\-\\']*\\(\\d{4}\\)', sentence)[0]\n",
    "        if len(s) > 9:\n",
    "            #print(s)\n",
    "            return (s)\n",
    "    elif debug:\n",
    "        return '#'+sentence\n",
    "    \n",
    "    return np.nan"
   ]
  },
  {
   "cell_type": "code",
   "execution_count": 21,
   "metadata": {},
   "outputs": [
    {
     "data": {
      "text/plain": [
       "'#Abrahamson, D., & Sánchez-García, R. (in press). Learning is moving in new ways: The ecological dynamics ofmathematics education. Journal of the Learning Sciences. doi:10.1080/10508406.2016.1143370'"
      ]
     },
     "execution_count": 21,
     "metadata": {},
     "output_type": "execute_result"
    }
   ],
   "source": [
    "references_df.apply(lambda x: get_authors(x['ref'], debug=True), axis=1)[3]"
   ]
  },
  {
   "cell_type": "code",
   "execution_count": 22,
   "metadata": {},
   "outputs": [
    {
     "data": {
      "text/plain": [
       "'#Abrahamson, D., Shayan, S., Bakker, A., & Van der Schaaf, M. F. (in press). Eye-tracking Piaget: Capturing theemergence of attentional anchors in the coordination of proportional motor action. Human Development'"
      ]
     },
     "execution_count": 22,
     "metadata": {},
     "output_type": "execute_result"
    }
   ],
   "source": [
    "references_df.apply(lambda x: get_authors(x['ref'], debug=True), axis=1)[4]"
   ]
  },
  {
   "cell_type": "code",
   "execution_count": 23,
   "metadata": {},
   "outputs": [
    {
     "data": {
      "text/plain": [
       "'#Ito, M., Gutiérrez, K., Livingstone, S., Penuel, B., Rhodes, J., Salen, K., … Watkins, S. C. (2013). Connectedlearning: An agenda for research and design. Digital Media and Learning Research Hub'"
      ]
     },
     "execution_count": 23,
     "metadata": {},
     "output_type": "execute_result"
    }
   ],
   "source": [
    "references_df.apply(lambda x: get_authors(x['ref'], debug=True), axis=1)[8634]"
   ]
  },
  {
   "cell_type": "code",
   "execution_count": 24,
   "metadata": {},
   "outputs": [],
   "source": [
    "references_df['ref_parsed'] = references_df.apply(lambda x: get_authors(x['ref']), axis=1)"
   ]
  },
  {
   "cell_type": "code",
   "execution_count": 25,
   "metadata": {},
   "outputs": [
    {
     "data": {
      "text/plain": [
       "0.1827223314444316"
      ]
     },
     "execution_count": 25,
     "metadata": {},
     "output_type": "execute_result"
    }
   ],
   "source": [
    "references_df.ref_parsed.isna().sum()/references_df.ref_parsed.shape[0]"
   ]
  },
  {
   "cell_type": "code",
   "execution_count": 26,
   "metadata": {},
   "outputs": [
    {
     "data": {
      "text/plain": [
       "8647"
      ]
     },
     "execution_count": 26,
     "metadata": {},
     "output_type": "execute_result"
    }
   ],
   "source": [
    "references_df.ref_parsed.shape[0]"
   ]
  },
  {
   "cell_type": "code",
   "execution_count": 27,
   "metadata": {},
   "outputs": [
    {
     "data": {
      "text/plain": [
       "file\n",
       "/import2015full/105    31\n",
       "/import2015full/122    28\n",
       "/import2015full/126    43\n",
       "/import2015full/136     6\n",
       "/import2015full/146    19\n",
       "Name: counts, dtype: int64"
      ]
     },
     "execution_count": 27,
     "metadata": {},
     "output_type": "execute_result"
    }
   ],
   "source": [
    "ref_counts = references_df.groupby('file').ref_parsed.count()\n",
    "ref_counts.name = 'counts'\n",
    "ref_counts.head()"
   ]
  },
  {
   "cell_type": "code",
   "execution_count": 28,
   "metadata": {},
   "outputs": [
    {
     "data": {
      "text/plain": [
       "count    419.000000\n",
       "mean      16.866348\n",
       "std       10.003650\n",
       "min        0.000000\n",
       "25%       10.000000\n",
       "50%       15.000000\n",
       "75%       21.500000\n",
       "max       75.000000\n",
       "Name: counts, dtype: float64"
      ]
     },
     "execution_count": 28,
     "metadata": {},
     "output_type": "execute_result"
    }
   ],
   "source": [
    "ref_counts.describe()"
   ]
  },
  {
   "cell_type": "code",
   "execution_count": 29,
   "metadata": {},
   "outputs": [
    {
     "data": {
      "text/html": [
       "<div>\n",
       "<style scoped>\n",
       "    .dataframe tbody tr th:only-of-type {\n",
       "        vertical-align: middle;\n",
       "    }\n",
       "\n",
       "    .dataframe tbody tr th {\n",
       "        vertical-align: top;\n",
       "    }\n",
       "\n",
       "    .dataframe thead th {\n",
       "        text-align: right;\n",
       "    }\n",
       "</style>\n",
       "<table border=\"1\" class=\"dataframe\">\n",
       "  <thead>\n",
       "    <tr style=\"text-align: right;\">\n",
       "      <th></th>\n",
       "      <th>ref</th>\n",
       "      <th>file</th>\n",
       "      <th>length</th>\n",
       "      <th>ref_parsed</th>\n",
       "    </tr>\n",
       "  </thead>\n",
       "  <tbody>\n",
       "    <tr>\n",
       "      <th>0</th>\n",
       "      <td>Abrahamson, D. (2012). Discovery reconceived: ...</td>\n",
       "      <td>/import2016full/61</td>\n",
       "      <td>113</td>\n",
       "      <td>Abrahamson, D. (2012)</td>\n",
       "    </tr>\n",
       "    <tr>\n",
       "      <th>1</th>\n",
       "      <td>Abrahamson, D. (2015). The monster in the mach...</td>\n",
       "      <td>/import2016full/61</td>\n",
       "      <td>190</td>\n",
       "      <td>Abrahamson, D. (2015)</td>\n",
       "    </tr>\n",
       "    <tr>\n",
       "      <th>2</th>\n",
       "      <td>Abrahamson, D., Lee, R. G., Negrete, A. G., &amp; ...</td>\n",
       "      <td>/import2016full/61</td>\n",
       "      <td>192</td>\n",
       "      <td>Abrahamson, D., Lee, R. G., Negrete, A. G., &amp; ...</td>\n",
       "    </tr>\n",
       "    <tr>\n",
       "      <th>3</th>\n",
       "      <td>Abrahamson, D., &amp; Sánchez-García, R. (in press...</td>\n",
       "      <td>/import2016full/61</td>\n",
       "      <td>197</td>\n",
       "      <td>NaN</td>\n",
       "    </tr>\n",
       "    <tr>\n",
       "      <th>4</th>\n",
       "      <td>Abrahamson, D., Shayan, S., Bakker, A., &amp; Van ...</td>\n",
       "      <td>/import2016full/61</td>\n",
       "      <td>210</td>\n",
       "      <td>NaN</td>\n",
       "    </tr>\n",
       "  </tbody>\n",
       "</table>\n",
       "</div>"
      ],
      "text/plain": [
       "                                                 ref                file  \\\n",
       "0  Abrahamson, D. (2012). Discovery reconceived: ...  /import2016full/61   \n",
       "1  Abrahamson, D. (2015). The monster in the mach...  /import2016full/61   \n",
       "2  Abrahamson, D., Lee, R. G., Negrete, A. G., & ...  /import2016full/61   \n",
       "3  Abrahamson, D., & Sánchez-García, R. (in press...  /import2016full/61   \n",
       "4  Abrahamson, D., Shayan, S., Bakker, A., & Van ...  /import2016full/61   \n",
       "\n",
       "   length                                         ref_parsed  \n",
       "0     113                              Abrahamson, D. (2012)  \n",
       "1     190                              Abrahamson, D. (2015)  \n",
       "2     192  Abrahamson, D., Lee, R. G., Negrete, A. G., & ...  \n",
       "3     197                                                NaN  \n",
       "4     210                                                NaN  "
      ]
     },
     "execution_count": 29,
     "metadata": {},
     "output_type": "execute_result"
    }
   ],
   "source": [
    "references_df.head()"
   ]
  },
  {
   "cell_type": "code",
   "execution_count": 30,
   "metadata": {},
   "outputs": [
    {
     "data": {
      "text/html": [
       "<div>\n",
       "<style scoped>\n",
       "    .dataframe tbody tr th:only-of-type {\n",
       "        vertical-align: middle;\n",
       "    }\n",
       "\n",
       "    .dataframe tbody tr th {\n",
       "        vertical-align: top;\n",
       "    }\n",
       "\n",
       "    .dataframe thead th {\n",
       "        text-align: right;\n",
       "    }\n",
       "</style>\n",
       "<table border=\"1\" class=\"dataframe\">\n",
       "  <thead>\n",
       "    <tr style=\"text-align: right;\">\n",
       "      <th></th>\n",
       "      <th>ref</th>\n",
       "      <th>file</th>\n",
       "      <th>length</th>\n",
       "      <th>ref_parsed</th>\n",
       "      <th>counts</th>\n",
       "    </tr>\n",
       "  </thead>\n",
       "  <tbody>\n",
       "    <tr>\n",
       "      <th>0</th>\n",
       "      <td>Abrahamson, D. (2012). Discovery reconceived: ...</td>\n",
       "      <td>/import2016full/61</td>\n",
       "      <td>113</td>\n",
       "      <td>Abrahamson, D. (2012)</td>\n",
       "      <td>43</td>\n",
       "    </tr>\n",
       "    <tr>\n",
       "      <th>1</th>\n",
       "      <td>Abrahamson, D. (2015). The monster in the mach...</td>\n",
       "      <td>/import2016full/61</td>\n",
       "      <td>190</td>\n",
       "      <td>Abrahamson, D. (2015)</td>\n",
       "      <td>43</td>\n",
       "    </tr>\n",
       "    <tr>\n",
       "      <th>2</th>\n",
       "      <td>Abrahamson, D., Lee, R. G., Negrete, A. G., &amp; ...</td>\n",
       "      <td>/import2016full/61</td>\n",
       "      <td>192</td>\n",
       "      <td>Abrahamson, D., Lee, R. G., Negrete, A. G., &amp; ...</td>\n",
       "      <td>43</td>\n",
       "    </tr>\n",
       "    <tr>\n",
       "      <th>3</th>\n",
       "      <td>Abrahamson, D., &amp; Sánchez-García, R. (in press...</td>\n",
       "      <td>/import2016full/61</td>\n",
       "      <td>197</td>\n",
       "      <td>NaN</td>\n",
       "      <td>43</td>\n",
       "    </tr>\n",
       "    <tr>\n",
       "      <th>4</th>\n",
       "      <td>Abrahamson, D., Shayan, S., Bakker, A., &amp; Van ...</td>\n",
       "      <td>/import2016full/61</td>\n",
       "      <td>210</td>\n",
       "      <td>NaN</td>\n",
       "      <td>43</td>\n",
       "    </tr>\n",
       "  </tbody>\n",
       "</table>\n",
       "</div>"
      ],
      "text/plain": [
       "                                                 ref                file  \\\n",
       "0  Abrahamson, D. (2012). Discovery reconceived: ...  /import2016full/61   \n",
       "1  Abrahamson, D. (2015). The monster in the mach...  /import2016full/61   \n",
       "2  Abrahamson, D., Lee, R. G., Negrete, A. G., & ...  /import2016full/61   \n",
       "3  Abrahamson, D., & Sánchez-García, R. (in press...  /import2016full/61   \n",
       "4  Abrahamson, D., Shayan, S., Bakker, A., & Van ...  /import2016full/61   \n",
       "\n",
       "   length                                         ref_parsed  counts  \n",
       "0     113                              Abrahamson, D. (2012)      43  \n",
       "1     190                              Abrahamson, D. (2015)      43  \n",
       "2     192  Abrahamson, D., Lee, R. G., Negrete, A. G., & ...      43  \n",
       "3     197                                                NaN      43  \n",
       "4     210                                                NaN      43  "
      ]
     },
     "execution_count": 30,
     "metadata": {},
     "output_type": "execute_result"
    }
   ],
   "source": [
    "df = references_df.join(ref_counts, on='file')\n",
    "df.head()"
   ]
  },
  {
   "cell_type": "markdown",
   "metadata": {},
   "source": [
    "We see that only papers that are invalid have no citation"
   ]
  },
  {
   "cell_type": "code",
   "execution_count": 31,
   "metadata": {},
   "outputs": [
    {
     "data": {
      "text/plain": [
       "['nalysis ...................................................................................................................................................... 66coaching.............................................................................................................................................................. 506co-design........................................................................................................................................................... 1128coding scheme .................................................................................................................................................. 1195cognition ................................................................................................................................................... 811, 1241cognitive and non-cognitive factors.................................................................................................................. 1153cognitive development ........................................................................................................................................ 990cognitive group awareness .................................................................................................................................. 458coherence ............................................................................................................................................................ 855collaboration ........................................................................ 234, 791, 807, 870, 918, 978, 1010, 1041, 1173, 1191collaboration scripts .................................................................................................................................. 599, 1227collaborative formative assessment .................................................................................................................... 647collaborative imagining ...................................................................................................................................... 122Collaborative Innovation Networks .......................................................................................................... 615, 1237collaborative knowledge building ............................................................................................................. 906, 1219collaborative learning ...................................... 130, 266, 338, 346, 370, 410, 522, 713, 859, 902, 926, 1207, 1217collaborative practice .................................................................................................................. 1251, , 1286, 1290collaborative problem solving ...................................................................................................................... 50, 839collaborative reflection ....................................................................................................................................... 607collective knowledge .......................................................................................................................................... 647collective responsibility ............................................................................................................................ 615, 1275communication ................................................................................................................................................. 1010communication patterns ...................................................................................................................................... 530communities of practice.............................................................................................................................. 146, 306community ................................................................................................................................................ 114, 1055community college developmental mathematics .............................................................................................. 1153community transformation.................................................................................................................................. 250community-based research ................................................................................................................................. 655competency-based education .............................................................................................................................. 538complex problem solving ................................................................................................................................... 902complex systems ......................................................................................................................................... 106, 514computational algorithmic thinking .................................................................................................................... 960computational methods ..................................................................................................................................... 1223computational participation .............................................................................................................................. 1263computational thinking ................................................................................................................... 705, 1179, 1197computer models................................................................................................................................................. 799computer programing ......................................................................................................................................... 186computer science ...................................................................................................................................... 370, 1055computer science education ........................................................................................................................ 695, 890computer simulations ................................................................................................................................ 950, 1014computer support for collaborative inquiry ........................................................................................................ 954computer supported collaborative learning................................................................................. 16, 458, 906, 1231computer supported curricula ............................................................................................................................. 106computing education......................................................................................................................................... 1215conceptual change..............................................................................................................162, 170, 386, 989, 1167conceptual convergence ...................................................................................................................................... 713conceptual fluency .............................................................................................................................................. 989conceptual knowledge ........................................................................................................................ 58, 530, 1217conditions of practice.......................................................................................................................................... 482conduction .......................................................................................................................................................... 950confidence and motivation................................................................................................................................ 1209confidence ratings ............................................................................................................................................... 274confusion .......................................................................................................................................................... 1165connected learning ............................................................................................................................................ 1041constructive learning............................................................................................................................................. 98constructivism..................................................................................................................................................... 538conversational functions ................................................................................................................................... 1195ICLS 2016 ProceedingsK-2© ISLScoordination ........................................................................................................................................................ 466covariation .......................................................................................................................................................... 982creative cognition ............................................................................................................................................... 920creative computing ............................................................................................................................................. 663creative learning ................................................................................................................................................. 663creativity ........................................................................................................................................................... 1267crosscutting concepts .......................................................................................................................................... 970CSCL ............................................................................................... 354, 562, 607, 787, 874, 878, 990, 1273, 1322CSCL journal and community .............................................................................................................................. 16cultural heritage .................................................................................................................................................. 827Cultural-Historical Activity Theory (CHAT) ........................................................................................... 434, 1221curriculum........................................................................................................................................................... 886curriculum development ................................................................................................................................... 1149data analysis........................................................................................................................................................ 934data interpretation skills .................................................................................................................................... 1002data management ................................................................................................................................................ 966data modeling ..................................................................................................................................................... 570data visualization ........................................................................................................................................ 934, 966DBIR ................................................................................................................................................................ 1074DBR .................................................................................................................................................................... 639deeper school ...................................................................................................................................................... 695delayed instruction .............................................................................................................................................. 410deliberative democracy ..................................................................................................................................... 1106deliberative discourse ....................................................................................................................................... 1106deliberative inquiry ........................................................................................................................................... 1298democratic education ........................................................................................................................................ 1106design..................... 35, 74, 210, 226, 258, 729, 870, 886, 1010, 1063, 1120, 1211, 1241, 1257, 1263, 1267, 1310design mode ...................................................................................................................................................... 1175design pedagogy ................................................................................................................................................. 946design research ................................................................................................................................................. 1155design thinking ........................................................................................................................................... 827, 878design-based implementation research ............................................................................................................. 1128design-based research .............................................................................................394, 695, 966, 1128, 1161,1277design-based science learning............................................................................................................................. 322detail ................................................................................................................................................................. 1147device-mediated collaboration ............................................................................................................................ 882dialog .................................................................................................................................................................. 771dialogue analysis................................................................................................................................................. 914digital badges ...................................................................................................................................................... 538digital literacy ..................................................................................................................................................... 362digital media ..................................................................................................................................................... 1243disability ............................................................................................................................................................. 514disaster preparedness ........................................................................................................................................ 1209disciplinary engagement ..................................................................................................................................... 835disciplinary experts ............................................................................................................................................. 866disciplinary literacy .......................................................................................................................................... 1199discourse ........................................................................................................................687, 771, 1173, 1191, 1221discourse analysis ................................................................................................................................. 90, 631, 745discourse analytics ................................................................................................................................................ 24distributed leadership .......................................................................................................................................... 882drawing ............................................................................................................................................................. 1082dual eye-trackers ................................................................................................................................................. 522early science literacy ........................................................................................................................................ 1326ecological dynamics ........................................................................................................................................... 314ecological systems .............................................................................................................................................. 570education............................................................................................................................................................. 815education........................................................................................................................................................... 1169ICLS 2016 ProceedingsK-3© ISLSeducational affordances ...................................................................................................................................... 882educational games..................................................................................................................................... 974, 1006educational technologies ................................................................................................................................... 1255educational technology ....................................................................................................................................... 591effective learning teams ...................................................................................................................................... 874e-learning ............................................................................................................................................................ 918electronic textiles ................................................................................................................................................ 498elementary school ............................................................................................................................................. 1179elementary science education ............................................................................................................................. 570embodied cognition ...................................................................................................170, 378, 450, 585, 920, 1233embodied learning .................................................................................................................................... 779, 1271embodied modeling ............................................................................................................................................ 386embodiment ...................................................................................................................................................... 1205enculturation ....................................................................................................................................................... 807engineering ............................................................................................................................................... 890, 1010engineering estimation ........................................................................................................................................ 242English .............................................................................................................................................................. 1294English composition ......................................................................................................................................... 1203English language learning................................................................................................................................... 362enjoyment ......................................................................................................................................................... 1147environmental education ............................................................................................................................. 851, 962environmental science ........................................................................................................................................ 870epistemic activities ............................................................................................................................................. 938epistemic beliefs ....................................................................................................................................... 490, 1259epistemic challenge............................................................................................................................................. 831epistemic cognition ................................................................................................................................... 202, 1223epistemic emotions ........................................................................................................................................... 1018epistemic learning ............................................................................................................................................... 474epistemic network analysis ................................................................................................................................. 631epistemic practice ............................................................................................................................................... 835epistemic understanding ................................................................................................................................... 1155epistemic view .................................................................................................................................................... 787epistemological cognition ................................................................................................................................... 426epistemological framing ................................................................................................................................... 1225epistemology..............................................................................................................282, 306, 578, 803, 930, 1253e-Portfolio ......................................................................................................................................................... 1163equity .................................................................................................................................................. 290, 370, 418ESL ..................................................................................................................................................................... 506e-textiles ........................................................................................................................................................... 1181ethnomethodology–conversation analysis .......................................................................................................... 122evaluation of claims ............................................................................................................................................ 835expansive science learning ............................................................................................................................... 1128experiential learning ............................................................................................................................... 1163, 1326experiment design ............................................................................................................................................... 823experimental or quasi-experimental design ........................................................................................................ 378experimental study .............................................................................................................................................. 274expert study ........................................................................................................................................................ 242expertise .............................................................................................................................................................. 930explanations ...................................................................................................................................................... 1014exploratory learning environments ....................................................................................................................... 58eye-tracking ................................................................................................................................................ 202, 466face ..................................................................................................................................................................... 783families ............................................................................................................................................................... 663family learning.............................................................................................................................................. 43, 362feedback.................................................................................................................................................... 910, 1259feedback design .................................................................................................................................................. 795feedback training ................................................................................................................................................ 862ICLS 2016 ProceedingsK-4© ISLSfield trips ........................................................................................................................................................... 1326first person perspective ....................................................................................................................................... 803flipped classroom........................................................................................................................................ 66, 1282formative assessment .................................................................................................................... 1211, 1247, 1306fractions .............................................................................................................................................................. 753framings .............................................................................................................................................................. 671future learning spaces ....................................................................................................................................... 1063game design ........................................................................................................................................................ 960games .................................................................................................................................................. 186, 450, 729gender ............................................................................................................................................... 146, 218, 1229gender differences............................................................................................................................................. 1167generative themes ............................................................................................................................................... 962genetic epistemology .......................................................................................................................................... 466geography ........................................................................................................................................................... 729gestures ............................................................................................................................................................. 1014gesture-speech mismatch .................................................................................................................................. 1006girls ..................................................................................................................................................................... 960GIS...................................................................................................................................................................... 570graph-based computer-assisted program .......................................................................................................... 1183graphing .............................................................................................................................................................. 591graphs ................................................................................................................................................................. 721group awareness ................................................................................................................................................. 274group composition ................................................................................................................................................ 50group learning ..................................................................................................................................................... 386group products .................................................................................................................................................... 354group understanding ........................................................................................................................................... 713guidance .............................................................................................................................................................. 823heat transfer ........................................................................................................................................................ 950heteroglossia ..................................................................................................................................................... 1157high school........................................................................................................................................................ 1294high school mathematics and science ................................................................................................................. 705high school students.......................................................................................................................................... 1203higher education ..................................................................................................................... 791, 807, 1187, 1255historical concept .............................................................................................................................................. 1310history or social sciences .................................................................................................................................. 1048hobbies................................................................................................................................................................ 585holistic education .............................................................................................................................................. 1326idea identification and analysis ............................................................................................................................. 90Idea Thread Mapper............................................................................................................................................ 647identity ...........................................................................................................................234, 655, 1177, 1189, 1267identity work ....................................................................................................................................................... 418impact ....................................................................................................................................................... 639, 1071implicit guidance ................................................................................................................................................ 458in situ classroom studies ..................................................................................................................................... 803infographics .................................................................................................................................... 954, 1177, 1231informal education ............................................................................................................................................ 1229informal environments ........................................................................................................................................ 878informal learning .................................................................................................................... 851, 942, 1025, 1114informal learning environments ........................................................................................................................ 1189informal learning settings ................................................................................................................................... 954informal science learning...................................................................................................................................... 43Information search .............................................................................................................................................. 362information visualization .................................................................................................................................. 1120innovation ....................................................................................................................................................... 9, 615innovation diffusion ............................................................................................................................................ 474innovation networks ......................................................................................................................................... 1251inquiry ............................................................................................................................................ 591, 1265, 1322ICLS 2016 ProceedingsK-5© ISLSinquiry based learning .......................................................................................................................................... 74inquiry learning ........................................................................................................................................ 823, 1201inquiry stance.................................................................................................................................................... 1185inquiry-based learning ...................................................................................................................................... 1277instructional design ........................................................................................................................................... 1298instructional resources ........................................................................................................................................ 402instructional videos ........................................................................................................................................... 1282integration ......................................................................................................................................................... 1326intelligent tutoring systems ....................................................................................................... 58, 338, 1002, 1173interaction analyses............................................................................................................................. 346, 530, 623interactional ethnography ................................................................................................................................. 1255intercultural learning......................................................................................................................................... 1163interdisciplinary .................................................................................................................................................. 815Interdisciplinary learning .................................................................................................................................... 623interdisciplinary problem solving ....................................................................................................................... 870interest-driven learning ....................................................................................................................................... 878interests ..................................................................................................................................................... 482, 1098interests; STEM learning; multiple methods; theory ........................................................................................ 1098interleaving ....................................................................................................................................................... 1257interlocutor ....................................................................................................................................................... 1314interpretive case study ...................................................................................................................................... 1177intersubjectivity .................................................................................................................................................. 562intervention ......................................................................................................................................................... 811investigative skills ............................................................................................................................................ 1298in-vivo data ....................................................................................................................................................... 1245joint idea-building............................................................................................................................................... 266joint visual attention ........................................................................................................................................... 522journalism ......................................................................................................................................................... 1157K-12 education ................................................................................................................................................. 1197Kinetic Learning ............................................................................................................................................... 1147Knowledge Analysis ........................................................................................................................................... 162knowledge building ........................ 9, 90, 178, 306, 578, 615, 647, 787, 819, 986, 1074, 1175, 1195, 1201, 1203,1213, 1237, 1249, 1251, 1273, 1275, 1286, 1290, 1310, 1318, 1322knowledge community ..................................................................................................................................... 1237knowledge construction ...................................................................................................................................... 234knowledge constructive jigsaw ......................................................................................................................... 1074knowledge creation ................................................................................................................................. 9, 615, 787knowledge forum .............................................................................................................................................. 1213knowledge in pieces.................................................................................................................................... 162, 170knowledge integration ........................................................................................................................................ 799knowledge resources........................................................................................................................................... 745language ............................................................................................................................................................ 1189language demands of science............................................................................................................................ 1090language game ...................................................................................................................................................... 43learning ................................................................................................................................... 729, 946, 1136, 1169learning across settings ....................................................................................................................................... 482learning analytics .......................................................................................................24, 202, 426, 546, 1153, 1239learning by modeling .......................................................................................................................................... 554learning communities ............................................................................................................................. 1063, 1114learning community ............................................................................................................................................ 807learning design.......................................................................................................................................... 498, 1114learning environment .............................................................................................................. 258, 847, 1209, 1233learning experiences ........................................................................................................................................... 258learning gestures ............................................................................................................................................... 1271learning innovation ............................................................................................................................................. 761learning opportunities ......................................................................................................................................... 671learning outcomes ............................................................................................................................................... 562ICLS 2016 ProceedingsK-6© ISLSlearning perception ........................................................................................................................................... 1203learning progression ......................................................................................................................................... 1247learning sciences ................................................................................................................................................. 114learning settings .................................................................................................................................................. 815learning spaces ........................................................................................................................................ 1205, 1243learning task........................................................................................................................................................ 990learning technologies ........................................................................................................................................ 1277learning through making ..................................................................................................................................... 498learning visualization .......................................................................................................................................... 434learning with representations .............................................................................................................................. 753legitimate participation ..................................................................................................................................... 1161life-long learning .............................................................................................................................................. 1055linguistic ethnography .................................................................................................................................. 43, 783literacy education................................................................................................................................................ 202literary argumentation....................................................................................................................................... 1199low-achieving populations .................................................................................................................................... 82LPSV tools.......................................................................................................................................................... 779Macro- and Micro-scripting ................................................................................................................................ 978makerspaces ........................................................................................................................................................ 920making ...................................................................................................................................................... 290, 1041making and tinkering .......................................................................................................................................... 322marginalization ................................................................................................................................................... 827martial arts .......................................................................................................................................................... 314Massive Open Online Courses (MOOCs) ...............................................................202, 330, 607, 918, 1207, 1217math education.................................................................................................................................................. 1165math learning ........................................................................................................................................................ 66mathematical cognition....................................................................................................................................... 687mathematical discourse ..................................................................................................................................... 1302mathematics ....................................................................... 154, 314, 338, 599, 862, 1018, 1225, 1241, 1282, 1286mathematics education ............................................................................................................................... 378, 811mechanistic reasoning......................................................................................................................................... 894media commons ................................................................................................................................................ 1243media literacy ................................................................................................................................................... 1169medical education ............................................................................................................................................. 1257members ............................................................................................................................................................. 114mental simulation ............................................................................................................................................... 242metacognition ............................................................................................................................... 1165, 1231, 1273metadata .............................................................................................................................................................. 538metaphor ..................................................................................................................................................... 314, 970methodology ............................................................................................................................................. 803, 1245methods............................................................................................................................................................. 1033middle school.............................................................................................................................................. 402, 721mixed methods.................................................................................................................................................... 974mobile computing ............................................................................................................................................... 942mobile learning ..................................................................................................................... 745, 1193, 1245, 1261mobile response technology ............................................................................................................................. 1187mobilities of learning .......................................................................................................................................... 290model dissemination ......................................................................................................................................... 1215model-based learning .......................................................................................................................................... 514modeling ........................................................................................................................................... 282, 803, 1082motivation ............................................................................................................................................... 1018, 1411multilevel alignment ........................................................................................................................................... 761multimedia learning ............................................................................................................................................ 154multimodality ..................................................................................................................................................... 346multiple case study ........................................................................................................................................... 1227multiple methods .............................................................................................................................................. 1098multivariable reasoning ........................................................................................................................................ 82ICLS 2016 ProceedingsK-7© ISLSmuseum learning............................................................................................................................................... 1261narrative methods ............................................................................................................................................. 1055natural language processing ................................................................................................................................ 914natural phenomena .............................................................................................................................................. 775nature of science ................................................................................................................................................. 578need for closure ................................................................................................................................................ 1259negative feedback ............................................................................................................................................. 1235networked communities .................................................................................................................................... 1249networks ............................................................................................................................................................... 35neural networks .................................................................................................................................................. 989new creativity ................................................................................................................................................... 1181NGSS .................................................................................................................................................. 106, 737, 970objectification ............................................................................................................................................. 122, 687on line learning ................................................................................................................................................. 1195online communities........................................................................................................................................... 1041online deixis........................................................................................................................................................ 202online discussions ............................................................................................................................................... 266online engagement ............................................................................................................................................ 1153online forum ..................................................................................................................................................... 1273online knowledge communities .......................................................................................................................... 914online learning ........................................................................................................................ 330, 859, 1114, 1217online workshop ............................................................................................................................................... 1207open ended learning environments ..................................................................................................................... 554open-inquiry ..................................................................................................................................................... 1253orchestration ......................................................................................................................................................... 35order thinking skill.............................................................................................................................................. 154organizational learning ....................................................................................................................................... 791out of school ..................................................................................................................................................... 1229outdoor learning .................................................................................................................................................. 745outdoor learning environment............................................................................................................................. 882out-of-school learning......................................................................................................................................... 585outreach ............................................................................................................................................................ 1071participatory learning ........................................................................................................................................ 1215partner modeling ................................................................................................................................................. 458pathways ............................................................................................................................................................. 250pedagogical design ............................................................................................................................................. 942pedagogical reasoning ........................................................................................................................................ 994pedagogical sequence ......................................................................................................................................... 998pedagogy........................................................................................................................................................... 1322peer assessment ........................................................................................................................................ 910, 1187peer feedback ...................................................................................................................................................... 862peer review ....................................................................................................................................................... 1155performance ...................................................................................................................................................... 1235performance trajectory .......................................................................................................................................... 66persistence .......................................................................................................................................................... 186personalized learning .......................................................................................................................................... 546perspectival understandings ................................................................................................................................ 713physical and virtual representations .................................................................................................................. 1173physical experimentation .................................................................................................................................... 950physics .............................................................................................................................................................. 1225physiological sensing .......................................................................................................................................... 779pivotal moments ................................................................................................................................................. 410planning .............................................................................................................................................................. 823play ..................................................................................................................................................................... 450policy ................................................................................................................................................................ 1071positioning .......................................................................................................................................................... 146power dynamic ................................................................................................................................................... 687ICLS 2016 ProceedingsK-8© ISLSp-prims ................................................................................................................................................................ 170practical measurement ........................................................................................................................................ 855practice ....................................................................................................................................................... 74, 1253practice-based learning ..................................................................................................................................... 1239pre-calculus......................................................................................................................................................... 982preparation for collaboration .................................................................................................................... 902, 1090preservice teachers .................................................................................................................................... 130, 1185primary school ............................................................................................................................................ 338, 679principle-based approach .................................................................................................................................. 1310prior knowledge .................................................................................................................................. 154, 162, 490problem framing ................................................................................................................................................. 623problem-based learning .................................................................................................................................... 1255procedural knowledge........................................................................................................................................... 58process tracing methods...................................................................................................................................... 839productive failure ...............................................................................................................498, 530, 926, 998, 1090professional development ............................................................................ 226, 330, 737, 1136, 1149, 1247, 1306professional learning..................................................................................................................... 1161, 1249, 1286professional learning community ....................................................................................................................... 178professional learning networks ......................................................................................................................... 1290professional vision .............................................................................................................................................. 130program evaluation ........................................................................................................................................... 1314programming .................................................................................................................................................... 1181project-based learning............................................................................................................. 855, 946, 1183, 1259qualitative ......................................................................................................................................................... 1033quantitative growth ........................................................................................................................................... 1006quantitative reasoning ....................................................................................................................................... 1271quantum mechanics .......................................................................................................................................... 1225race ..................................................................................................................................................................... 218reading capacity .................................................................................................................................................. 490real-time data .................................................................................................................................................... 1120reasoning........................................................................................................................................................... 1018reflection ............................................................................................................................................................. 138reflective assessment .......................................................................................................................................... 819reflexive relations ............................................................................................................................................. 1314regulation of collaborative learning .................................................................................................................... 831regulatory focus .................................................................................................................................................. 795relative expertise ............................................................................................................................................... 1025relevance ............................................................................................................................................................. 843representation ................................................................................................................................................... 1082representational flexibility .................................................................................................................................. 753representational tools ...................................................................................................................... 954, 1048, 1231representations of practice .................................................................................................................................. 671research ............................................................................................................................................................. 1071research fields ..................................................................................................................................................... 114research methods ................................................................................................................................................ 370research valorisation ........................................................................................................................................... 639research-practice partnerships ............................................................................................................................ 226responsive teaching............................................................................................................................................. 986revisions ............................................................................................................................................................ 1411rhythms ............................................................................................................................................................... 250robotics ................................................................................................................................................... 1179, 1237robotics programming....................................................................................................................................... 1197roles .................................................................................................................................................................... 663rotating leadership .............................................................................................................................................. 615satisfaction ........................................................................................................................................................ 1147scaffolding ...................................................................................................................................... 847, 1002, 1197scale .................................................................................................................................................................... 886ICLS 2016 ProceedingsK-9© ISLS',\n",
       " 'p ......................................................................................................................................................... 1074SCAT .................................................................................................................................................................. 960science ....................................................................................... 402, 855, 886, 986, 1082, 1211, 1229, 1298, 1411science and engineering ...................................................................................................................................... 799science and math............................................................................................................................................... 1247science education ............................................. 282, 410, 514, 554, 562, 679, 775, 843, 894, 942, 994, 1223, 1253science inquiry .......................................................................................................................................... 450, 1002science learning .............................................................................................................950, 970, 1167, 1261, 1277science literacy ................................................................................................................................................... 346science practices ..............................................................................................210, 298, 306, 591, 655, 1219, 1223science reasoning .............................................................................................................................................. 1014science teaching .......................................................................................................................................... 298, 737scientific argument ........................................................................................................................................... 1155scientific argumentation ................................................................................................................................... 1265scientific literacy............................................................................................................................................... 1265scientific method................................................................................................................................................. 578scientific practices ................................................................................................................................ 82, 803, 866scientific reasoning ............................................................................................................................... 50, 490, 938scientific thinking ................................................................................................................................................. 82scripts.................................................................................................................................................................. 831secondary school................................................................................................................................................. 679segmentation ....................................................................................................................................................... 631self-directed learning ................................................................................................................................ 679, 1025self-efficacy ........................................................................................................................................................ 186self-explanation .................................................................................................................................................... 98self-organization ................................................................................................................................................. 615self-regulated learning ........................................................................................................................................ 274self-regulation ........................................................................................................................................... 859, 1165semantic network analysis ................................................................................................................................ 1191senior citizens ................................................................................................................................................... 1169shared epistemic agency ................................................................................................................................... 1191simulation ......................................................................................................................................................... 1271simulations .......................................................................................................................................................... 426situated cognition................................................................................................................................................ 827situated learning.......................................................................................................................................... 146, 218Situated-Action Networks .................................................................................................................................. 434sliding window ................................................................................................................................................... 631smooth function .................................................................................................................................................. 982social analytics...................................................................................................................................................... 24social emotional learning .................................................................................................................................. 1314social network analysis ................................................................................................................................. 90, 434social networking sites (SNS) ........................................................................................................................... 1136social practice ............................................................................................................................................. 442, 482social science education...................................................................................................................................... 894socially shared regulation ................................................................................................................................... 859sociocultural ............................................................................................................................................. 866, 1063socio-emotional challenge .................................................................................................................................. 831sociomaterial..................................................................................................................................................... 1205spacing .............................................................................................................................................................. 1257spatial thinking ................................................................................................................................................. 1233standards ........................................................................................................................................................... 1211standpoint epistemologies ................................................................................................................................... 218statistics learning ................................................................................................................................................ 795STEM .......................................................................................... 290, 418, 442, 779, 974, 1098, 1149, 1177, 1233story .................................................................................................................................................................... 623student engagement ............................................................................................................................................ 962student explanations ........................................................................................................................................... 950ICLS 2016 ProceedingsK-10© ISLSstudent gestures ................................................................................................................................................ 1006student learning .......................................................................................................................... 210, 394, 506, 920student motivation ............................................................................................................................................ 1306student reflection .............................................................................................................................................. 1239student understanding ......................................................................................................................................... 930student voice ..................................................................................................................................................... 1161student-generated ideas..................................................................................................................................... 1090students with low achievement ........................................................................................................................... 819students with low achievement ......................................................................................................................... 1322students’ solutions .............................................................................................................................................. 926studio-based learning ............................................................................................................................................ 35study abroad...................................................................................................................................................... 1163subgoal learning.................................................................................................................................................... 98survival analysis ................................................................................................................................................. 607sustainability ....................................................................................................................................................... 761system design.................................................................................................................................................... 1193system development ......................................................................................................................................... 1207systematic review ............................................................................................................................................. 1201tacit knowledge ................................................................................................................................................. 1263teacher community ............................................................................................................................................. 639teacher education ...................................................................................................................................... 839, 1221teacher learning................................................................................................................... 178, 226, 330, 737, 783teacher noticing .................................................................................................................................................. 986teacher professional development ................................................................................................... 474, 1215, 1235teacher workgroups............................................................................................................................................. 671teacher’s adaptive expertise ................................................................................................................................ 106teachers ............................................................................................................................................. 258, 506, 1136teachers as learners ............................................................................................................................................. 298teachers’ design capability ................................................................................................................................ 1318teaching............................................................................................................................................................... 994teaching and learning .......................................................................................................................................... 843teaching strategy ................................................................................................................................................. 402team awareness ................................................................................................................................................. 1227team-based learning .......................................................................................................................................... 1302teamwork ............................................................................................................................................................ 874technology ............................................................................................. 9, 210, 394, 721, 771, 799, 934, 978, 1411Technology Acceptance Model ........................................................................................................................ 1243technology-enabled embodied learning environments ....................................................................................... 122technology-enhanced formative assessment ....................................................................................................... 839technology-enhanced learning environment ....................................................................................................... 242teleological reasoning ......................................................................................................................................... 775temporal synchronicity ....................................................................................................................................... 354textual complexity .............................................................................................................................................. 914theory ................................................................................................................................................................ 1098theory improvement .......................................................................................................................................... 1275theory of intelligence (TOI) .............................................................................................................................. 1235theory-building inquiries .................................................................................................................................. 1275third space ......................................................................................................................................................... 1157threshold concepts .............................................................................................................................................. 989training.............................................................................................................................................................. 1209transactivity ........................................................................................................................................................ 354transfer ................................................................................................................................................................ 998underachiever ................................................................................................................................................... 1167undergraduate education ........................................................................................................................... 795, 1149underrepresented youth....................................................................................................................................... 418unit analysis ........................................................................................................................................................ 138urban education .................................................................................................................................................. 442ICLS 2016 ProceedingsK-11© ISLSuser interface ...................................................................................................................................................... 938video ................................................................................................................................................................. 1033video production styles ..................................................................................................................................... 1282video recording glasses ....................................................................................................................................... 803video-based professional learning ...................................................................................................................... 783videogames ....................................................................................................................................................... 1241virtual experimentation ....................................................................................................................................... 950visualisations .................................................................................................................................................... 1239visualization tool................................................................................................................................................. 990voice ................................................................................................................................................................. 1189Vygotsky............................................................................................................................................................. 138Web 2.0 tools ............................................................................................................................................ 906, 1294wikis ................................................................................................................................................................... 906worked examples .................................................................................................................................................. 98workflow............................................................................................................................................................. 966writing ...................................................................................................................................................... 394, 1294writing analytics ................................................................................................................................................. 202writing performance ......................................................................................................................................... 1213writing-to-learn ................................................................................................................................................. 1265young children .................................................................................................................................................... 775youth identities ................................................................................................................................................... 442youth of color ..................................................................................................................................................... 655ICLS 2016 ProceedingsK-12© ISLS',\n",
       " \"dexPages 1-702: Volume 1Pages 703-1407: Volume 2Abdul Waduth, Fauziah Kani, 1306Abraham, Abigail, 1306Abrahamson, Dor, 122, 466, 1346. 1353Acosta, Alisa, 1063Agesilaou, Andria, 1245Ahn, June, 1098Ahonen, Arto K., 839Ainsworth, Shaaron, 775, 1082Alameh, Sahar, 1006Aleven, Vincent, 338Allen, Carrie D., 442Allen, Laura, 194Alqassab, Maryam, 160Anderson, Craig G., 974Anderson, Emma, 106Anderson, Janice, 966, 978Andrade, Alejandro, 434Ang, Sian Hong Edith, 1306Anjewierden, Anjo, 823Anzai, Yuki, 1207Applebaum, Lauren, 799Arastoopour, Golnaz, 631Arvaja, Maarit, 234Arvidsson, Toi Sin, 82Ashley, Robert W., 942Askari, Emilia, 1138Asterhan, Christa, 1136Aw, Yangming, 1306Awwal, Nafisa, 839Azevedo, Flávio S., 585, 1098Bakker, Arthur, 466Bal, Aydin, 1048Bamadhaj, Muhammad Helmi Bin Ahmad, 1306Barber-Lester, Kelly J., 966, 978Barcellos, Marcília E., 962Barth-Cohen, LaurenBarth-Cohen, Lauren A., 386, 1179Basu, Satabdi, 554Baxter, Frances, 1163Becker, Sandra, 1018Beheshti, Elham, 705Bell, Adam, 1128Bell, Philip, 1098, 1128, 1342Kolikant, Yifat Ben-David, 1055Ben-Zvi, Dani, 1063, 1335Bereiter, Carl, 9, 578Berland, Matthew, 974, 1120Berner, Annelie, 1239Bernstein, Debra, 886ICLS 2016 ProceedingsBertram, Charles, 930Betz, Anica, 815Bhattarai, Shivaraj, 1338Bielaczyc, Katerine, 1063, 1090, 1185, 1335Bilkstein, Paulo, 1346Binzak, John V., 974Biswas, Gautam, 554Blikstein, Paulo, 1277Blum-Smith, Sarah, 330Bodemer, Daniel, 274, 458, 906Borge, Marcela, 266, 878Boroujeni, Mina Shirvani, 1120Boston, Carol, 851Botički, Ivica, 1193Bouton, Edith, 1136Brami, Uzi Zevik, 1395Brandes, Ofra, 1055Brasel, Jason, 671Brekelmans, Mieke, 24Brennan, Karen, 330, 1215Breuleux, Alain, 1342Bridges, Susan, 1255, 1356Brown, David E., 1014, 1267Buis, Stan C. A., 354Bumbacher, Engin, 1277Cacciamani, Stefano, 1195Cai, Huiying, 990Cai, Qijie, 795Cain, Ryan, 1098Calabrese Barton, Angela, 290, 418Cannady, Matthew, 1098Care, Esther, 839Carsten Conner, Laura, 1269Castro Superfine, Alison, 1149Catrambone, Richard, 98Cavera, Veronica L., 791Chagab, Noha, 514Chai, Boon Yen, 258Champion, Dionne N., 1025, 1033Chan, Carol, 1255Chan, Carol K. K., 819, 1273, 1322Chan, Jody R., 146Chan, Melvin, 1310Chan, Puay San, 1302Chan, Tak-Wai, 1350Chandrasekharan, Sanjay, 242Chang, Stephanie, 1041Charles, Elizabeth S., 1063, 1342Charoenying, Timothy, 1257A-1© ISLSChartrand, Grant, 1209Chase, Catherine C., 186Chee, Joon Kit Kelvin, 90Chee, Shirleen, 9Chen, Bodong, 615, 787, 795Chen, De Qi, 1326Chen, Guanhua, 1179Chen, Jingping, 647Chen, Mei-Hwa, 1063Chen, Shu, 402Chen, Ziyang, 1306Cheng, Jiaming, 1235Chiam, Kim Yeow, 1326Chikunda, Charles, 1048Ching, Cynthia Carter, 322Chisholm, Cindi, 1286Chiu, Thomas K.F., 154Choi, Gi Woong, 882, 1243Choi, Hyungshin, 1181Choi, Koun, 1063Christmann, Nina, 918Chu, Shien, 178Clarke, Sherice, 994, 1106, 1362Clegg, Tamara L., 779, 851Cocco, Felipe, 1120Collier, Wesley, 426, 631Collins, Jamie M., 1010Cordeiro, Mary, 1249, 1251, 1290Cournoyer, Nathan, 737Cress, Ulrike, 16, 1333Crook, Charles, 1350Crouse, Kevin, 791Csanadi, Andras, 50, 938Cuendet, Sebastien, 522Cukurova, Mutlu, 1239Cunningham, Jahneille, 226Curnow, Joe, 146, 218Cutshall, Jessica, 859da Silva, Glauco S. F., 962Dahn, Maggie, 450Dalal, Medha, 1201Dalsen, Jennifer, 974D'Angelo, Cynthia M., 1211D'Angelo, Sarah, 202Danish, Joshua A., 130, 450Dascălu, Mihai, 914Davis, Katie, 1128Daxenberger, Johannes, 938de Jong, Ton, 823de León, Vanessa, 1247de Souza, Elisabeth G., 962Deiglmayr, Anne, 926Deitrick, Elise, 370DeLiema, David, 450, 1364Derry, Sharon, 966, 978DesPortes, Kayla, 890DeSutter, Dane, 1082, 1233ICLS 2016 ProceedingsDeVane, Benjamin, 1263Dickes, Amanda Catherine, 282Dieckmeyer, Emily, 498DiGiacomo, Daniela, 482Dillenbourg, Pierre, 24, 202, 522, 1114, 1120DiSalvo, Betsy, 890Do, Ellen Yi-Luen, 1147Dobbie, Karen, 1249, 1251, 1290Dohn, Niels Bonderup, 1159Dohn, Nina Bonderup, 1159Domančić, Mirna, 1193Dominguez, Kristen, 1189Dornfeld, Catherine L. 562, 950Dorph, Rena, 1098Dragomir, Mihaela, 378Drayton, Brian, 886Drljević, Neven, 1193Duckles, Joyce M., 250Dugdale, Michael, 1063Duvivier, Robbert, 1405Dyer, Elizabeth B., 1033Dziallas, Sebastian, 1055Easterday, Matthew W., 35, 1157Eberle, Julia, 1361Echevarria, Ruben, 1025Edgar, Ross, 1290Eisenhart, Margaret, 442Elson, Malte, 918Eltoukhy, Moataz, 1179Engeström, Yrjö, 1048Enyedy, Noel, 450Erdmann, Julia, 918, 1217, 1396Erkens, Gijsbert, 24Erkens, Melanie, 458Evans, Chad, 106Farris, Amy Voss, 282Fathema, Nafsaniath, 950Feng, Mingyu, 210Ferschke, Oliver, 24Fick, Sarah J., 1366Fields, Deborah A., 1041Fincher, Sally, 1055Fischer, Frank, 50, 599, 938, 1227, 1335Fishman, Barry J., 1342Flake, Sabrina, 815Flekova, Lucie, 938Fleming, Heather, 1286Flood, Virginia J., 122Flores Lesama, Manoel, 1048Flynn, Paul, 1397Forbes, Cory, 639Forkosh Baruch, Alona, 1136Franklin, Scott V., 930Frenza, Jason, 1290Froehlich, Jon E., 779Fujita, Wataru, 1191Furtak, Erin Marie, 1247A-2© ISLSFushikida, Wakako, 1207Fynes-Clinton, Elizabeth, 1106Fysaraki, Maria, 1227Gaesevic, Dragan, 24Garner, Brette, 671Gaydos, Matthew, 729, 1090Ge, Xun, 1259Georgiou, Yiannis, 1245Gerard, Libby F. 394, 1120, 1152Gerber, Elizabeth M., 35Gergle, Darren, 202Gerritsen, David, 994Ghanem, Christian, 938Gijlers, Hannie, 823Gnesdilow, Dana, 950Gobert, Janice, 1002, 1404Goh, Wendy, 771, 847Goldberg, Tsafrir, 1106Gomez, Kimberley, 226Gomez, Louis M., 226Gomoll, Andrea S., 130Gonzalez, Carmen. 362Grainger, Rebecca, 994Gravel, Brian, 370Graville-Smith, Cynthia, 954Grawemeyer, Beate, 753Green, Judith L., 1255Greenhow, Chrisine, 1136Grimes, Sara M., 1041Grover, Shuchi, 695, 1346Gu, Xiaoqing, 990, 1350Gurevych, Iryna, 938Guthrie, Mareca, 1269Gutiérrez, José Francisco, 687Guzdial, Mark, 98Gwee, Susan, 1294Habron, Geoffrey, 870Hajny, Nik, 1120Häkkinen, Päivi, 839Håklev, Stian, 114Hall, Allison H., 1199Halls, Jonathan, 775, 1398Halverson, Erica R., 1041Hansen, Alice, 58, 753Hardy, Lisa, 713, 1399Harrer, Benedikt W., 122Harris, Christopher J., 1211Hartmann, Christian, 530Haslir, Mohd Noor Hishamuddin, 1318Hecking, Tobias, 918Heijnes, Dewi, 1082Heimbuch, Sven, 906Hensley, Lauren, 859Herrmann, Thomas, 918Hershkovitz, Arnon, 1136Hew, Khe Foon, 679, 1282Hickey, Daniel T., 538, 546, 1114ICLS 2016 ProceedingsHillman, Thomas, 1106Hilppö, Jaakko, 1025, 1033Hinojosa, Leighanna, 954, 1177, 1231Hjorth, Arthur, 894Hmelo-Silver, Cindy E., 16, 114, 130, 1255Hoadley, Christopher, 1071, 1338Hod, Yotam, 807, 1063, 1335, 1368Hofer, Sarah, 1167Holmes, Wayne, 58Hong, Helen, 874Hong, Huang-Yao, 787, 1203, 1213Honwad, Sameer, 1338Hoppe, H. Ulrich, 918Hori, Naoto, 1074Horn, Ilana Seidel, 671Horn, Michael, 705Horton, Emily, 226Hossain, Zahid, 1277Hsu, Pi-Sui, 1183Huang, Hai, 1261Huang, Jun Song, 998, 1082Huang, Kun, 1259Humburg, Megan, 450Hung, David, 5, 474Hußmann, Heinrich, 1227Hyvönen, Pirkko, 1169Iikubo, Shinya, 1074Ikejiri, Ryohei, 1207Illum, Randy, 450Imelda, Caleon, 24Iordanou, Kalypso, 847Istance, David, 9Jacobson, Michael J., 410, 1071, 1405Janssen, Jeroen, 24Jeong, Heisawn, 16, 1350Jiang, Shiyan, 346, 1179Jimenez, Raquel, 1215Jin, Yinglian, 402Jo, Yohan, 24Johnson, Raymond, 1128Jona, Kemi, 705, 1025Jonathan, Christin, 24Joosa, Esther, 1314Jordan, Michelle E., 1010Jordan-Douglass, Anna, 974Jornet, Alfredo, 138Joyce, Jeanette, 791Judson, Darlene, 986, 1400Jung, Yong Ju, 878Junokas, Michael, 1271Juzar, Masharrat, 1261Kabayadondo, Zaza, 827Kafai, Yasmin B., 498, 1041Kajkara, Manuela, 1193Kali, Yael, 4, 1063Kang, Seokbin, 779Kang, Seokmin. 950A-3© ISLSKapon, Shulamit, 843Kapur, Manu, 16, 998, 1063, 1090, 1361Kares, Faith, 1229Katz, Vikki, 362Kaul, Chittaranjan, 506Kawasaki, Jarod, 737Ke, Li, 803Keifert, Danielle T., 1033Kern, Anne, 1338Keune, Anna, 1041Khamis, Nur Azarina, 258Khanlari, Ahmad, 1195, 1237, 1275Kici, Derya, 1275Kiemer, Kathy, 1247Kim, Hee-jeong, 1370Kim, Hyojin, 1235Kim, Mi Song, 1298Kimball, Nathan, 1014Kirschner, Paul A., 1356, 1361Kittinger, Liza, 946Knight, Simon, 194Koehler-Yom, Jessica, 106Koh, Elizabeth, 24, 874Koh, Jaime, 1281Kollar, Ingo, 50, 599, 811, 938Kolodner, Janet L., 1071Kong, Siu Cheung, 1350Kothiyal, Aditi, 242Krajcik, Joseph S., 1211Krämer, Nicole C., 918Krist, Christina, 306, 894, 1033, 1223Kuhn, Deanna, 82, 771Kumar, Vishesh, 974Kustusch, Mary Bridget, 930Kwok, Amy, 679Kyewski, Elias, 918Kyza, Eleni A., 1245Lacelle, Lizanne, 1286Laferrière, Therese, 9, 1342Lahav, Orly, 514Laherto, Antti, 843,Lai, Polly K., 410Laina, Vasiliki, 934Lakhani, Heena, 1128Lam, Rachel, 902, 998, 1090, 1372Lam, Wan Shun Eva, 1157Land, Susan M., 882, 942Lanouette, Kathryn A., 570Law, Nancy, 16, 679, 761Law, Victor, 859, 1259Lawton-Sticklor, Nastasia, 1185Lay, Hoon Seah, 1382Leak, Anne, 930Lee, Alison, 186Lee, Bing-fai, 1322Lee, Christine, 450Lee, Chun Kit, 1147ICLS 2016 ProceedingsLee, Eric Monsu, 1183Lee, Jason Wen Yau, 1163Lee, Mandi Jieying, 1147Lee, Victor R., 170, 1098, 1353Lee, Vwen Yen Alwyn, 90Lee, Yeung, 679, 761Lee, Yew Jin, 1048Lee, Yu Ling, 1310, 1318Leenaars, Frank, 1082Lefstein, Adam, 783Lei, Chunlin, 1273Lenton, Kevin, 1063Lerner, Patrick, 938Levrini, Olivia, 843Levy, Sharona T., 514Li, Pei-Jung, 1203, 1213Li, Yi, 970Liang, Leming, 761, 1401Liles, Melissa, 1163Lin, Chiu Pin, 787Lin, Feng, 950Lin, Hsien-Ta, 1203, 1213Lin, Karina, 663Linares, Nicholas, 1271Lindgren, Robb, 1006, 1014, 1267, 1271, 1353Linn, Marcia C., 394, 591, 721, 799, 1120, 1152,1335Littleton, Karen, 194Litts, Breanne K., 498, 1041Liu, Shiyu, 490, 910Liu, Xinyang, 402Liu, Yao, 1175Liuzzi, Richard, 663Lo, Chung Kwan, 1282Lockyer, Lori, 1165Loibl, Katharina, 58, 530Loo, Wei Seng Andy, 1306Lotz-Sisitka, Heila, 1048, 1338Low, Michelle, 902Lu, Lin, 66, 859Lu, Weiquan, 1147Lucero, Margaret M., 1265, 1374Luckin, Rose, 1239Ludvigsen, Sten, 16Lund, Kristine, 1071, 1335, 1393Lyons, Leila, 1120Lyu, Xiaoxin, 970Ma, Leanne, 615Madhok, Jacqueline, 394, 591Maggiore, Chrystal, 942Mahoney, Charlie, 450Mäkitalo, Åsa, 1106Malkiewich, Laura J., 186Manai, Ouajdi, 1153Manches, Andrew, 378, 1353Mann, Michele J., 585, 1098Margulieux, Lauren E., 98A-4© ISLSMarkauskaite, Lina, 410, 1405Martin, Nicole D., 298, 1402Massey, Linda, 9, 1249, 1251, 1290Mathayas, Nitasha, 1006, 1014, 1267Matsuzawa, Yoshiaki, 615Matuk, Camillia, 721, 1120Mavrikis, Manolis, 58, 1239Mazziotti, Claudia, 58, 753, 926McBride, Elizabeth A., 799McDonald, Scott, 1063, 1205McElhaney, Kevin W., 210, 1211McGowan, Veronica C., 866McKenney, Susan, 506, 639, 886, 1342Megan, Bang, 1128Meier, Elisabeth, 1018Meixi, 1161Meyerhoff, Peter, 1033Michalchik, Vera, 1253Mierwald, Marcel, 815Millet, Chris, 942Minor, Rachelle, 960Minshew, Lana M., 966, 978Modir, Bahar, 1225Mohd, Shahizha Bte, 1318Moher, Tom, 1063Mommandi, Wagma, 1128Montrieux, Hannelore, 1403Morphew, Jason, 1006Morrison, Briana B., 98Morrison, Deb, 1247Moses, George, 250Moussavi, Raha, 1002, 1404Murthy, Sahana, 242Najafi, Hedieh, 1114Ng, Kher Hui, 1261Nguyen, Linh-Chi, 1147Nichols, Emma, 1290Nistor, Nicolae, 914Norooz, Leyla, 779Noventa, Francis, 1290Odemwingie, O. Carlette, 960Ogan, Amy, 994Ogawa, Sonoko, 1074Oguamanam, Vanessa, 779Oliver, Mary, 775Olsen, Al, 1120Olsen, Jennifer K., 338O'Malley, Claire, 1261Ong, Yann Shiou, 266Orton, Kai, 705Oshima, Jun, 831, 1191Oshima, Ritsuko, 831, 1191Oura, Hiroki, 1207Öztok, Murat, 234Pachman, Mariya, 1165Panagiotopoulos, Dimitrios, 1082Pande, Prajakt, 898ICLS 2016 ProceedingsParikh, Tapan S., 570Park, Juyeon, 1181Pasupathy, Sumitra, 1314Pauw, Daniel, 851Pea, Roy, 522, 695Pei, Xinning, 402Pekrun, Reinhard, 1018Peleg, Ran, 514Pellegrino, James W., 1211Penney, Lauren, 1025Penuel, William R., 482, 855, 1025, 1128, 1342Peppler, Kylie, 1041Peragine, Wilhelmina, 1215Pereira Querol, Marco, 1048Perrucci, Vittore, 1195Pesanayi, Tichaona, 1048Picinatto, Antonio Carlos, 1048Plane, Angelisa C., 779Plass, Jan L., 1120Polman, Joseph L., 954, 1136, 1177, 1231Popov, Vitaliy, 354Portolese, Alisha, 410, 1405Pöysä-Tarhonen, Johanna, 839Prain, Vaughan, 1082Preece, Jennifer, 851Price, C. Aaron, 1229Price, Sara, 1353Prinsen, Fleur R., 74Puhl, Thomas, 1136Puntambekar, Sadhana, 298, 562, 950, 1082, 1393Pursel, Barton K., 1243Quek, Choon Lang, 1281Quick, Joshua D., 546, 1114Quigley, David, 855, 1128Quintana, Rebecca M., 1063Rajala, Antti, 1106, 1376Ramey, Kay E., 1025, 1033Rasi, Päivi, 1169Rau, Martina A., 1173, 1378Raval, Harini, 506Reeve, Richard, 623Regalla, Lisa, 1041Rehak, Andi M., 130, 1406Reimann, Peter, 16, 1071Reiser, Brian J., 1219Reiss, Kristina, 599Ren, Youqun, 1235Renshaw, Peter, 1106Resendes, Monica, 1249, 1251, 1286, 1290Richard, Gabriela T., 1380Riedel-Kruse, Ingmar, 1277Rienties, Bart, 194Ritchie, Allison, 1171Rivet, Ann E., 970Rodela, Katherine, 226Rodriguez, Lilia, 737Rojas-Perilla, Diego, 970A-5© ISLSRook, Michael M., 1063, 1205Roque, Ricarose, 663Rosé, Carolyn P., 24, 607, 1074, 1106, 1114, 1333Rosenberg, Joshua, 1223Rotsaert, Tijs, 1187Rubin, Herbert, 1167Ruis, Andrew R. 426, 631Rummel, Nikol, 16, 58, 338, 530, 918, 926, 1217,1361Sabri, Nurul Assyifa Ahmad, 1261Sagy, Ornit, 807Sahed, Suhailin Mohamed, 1306Saito, Moegi, 1074Saiyed, Gulnaz, 1157Sakamoto, Miki, 1155Saleh, Asmalina, 450Sánchez–García, Raúl, 314Sandoval, WilliamSandoval, William A\",\n",
       " 'Sandoval, William A., 737, 835, 1090Sankaranarayanan, Sreecharan, 607Sannino, Annalisa, 1048Santo, Rafi, 434Sao Pedro, Michael, 1002Saucerman, Jenny, 974Sayre, Eleanor C., 930, 1225Scardamalia, Marlene, 9, 615, 1074, 1237, 1249,1251, 1275, 1286, 1290Schellens, Tammy, 1187, 1403Schlottbom, Patrick, 458Schnaubert, Lenka, 274Schneider, Bertrand, 522, 1346Schuberth, Jamie, 1173Schumacher, Ralph, 1167Schunn, Christian, 886Schwarz, Baruch, 1106Schwarz, Christina V., 803Schwendimann, Beat, 1120Seah, Lay Hoon, 1090, 1382Searle, Kristin A., 498Segal, Aliza, 783Segovia, Gloria, 1229Selvamurthy, Shanker, 1261Sengupta, Pratim, 282Serviss, Patricia, 1265Severance, Sam, 855, 1128Sevian, Hannah, 898Sezen-Barrie, Asli, 1221Shapiro, R. Benjamin, 370, 1055Sharma, Kshitij, 202, 522Shaw, Bruce W., 9Shayan, Shakila, 466Shen, Ji, 346, 1179Shibani, Antonette, 874Shin, Myunghwan, 290Shirouzu, Hajime, 1074, 1350Siebert-Evenstone, Amanda L., 631ICLS 2016 ProceedingsSirois, Lindsay, 1249, 1251Slater, Stefan, 186Slotta, Jame D. 1063, 1114, 1120Smirnov, Natalia, 35Smith, Blaine Elizabeth, 346Smith, Thomas J., 1183Smyth, Cliff, 314So, Hyo-Jeong, 745Solli, Anne, 1106Sommer, Stephen, 945, 1177, 1231,Sommerhoff, Daniel, 811, 1335Souropetsis, Markos, 1245Spells, Monet, 890Splichal, Jin Michael, 831Squire, Kurt, 974Stegmann, Karsten, 1227Stein, Aliza, 1219Steinkuehler, Constance, 974Stern, Elsbeth, 3, 1167Stevens, Reed, 1025Stieff, Mike, 1082, 1149, 1233Strachota, Susanne M., 982Strijbos, Jan-Willem, 862Stromholt, Shelley, 1128Stroud, Brandon, 250Sullivan, Sarah, 1383Sumner, Tamara, 855, 1128Sun, Jingjing, 1385Sun, Zhiru, 66Svihla, Vanessa, 623, 946Svoboda Gouvea, Julia, 870Swanson, Hillary, 162Swanson, Rebecca, 1247Swiecki, Zachari, 631Tabak, Iris, 1395Talis, Vadim, 514Tammi, Tuure, 1106Tan, Edna, 290, 418Tan, Enhui Grace, 1306Tan, Esther, 745Tan, Hoe Teck, 1298Tan, Jennifer, 24Tan, Michael, 920, 1041, 1090Tan, Samuel, 258Tan, Seng Chee, 9, 90, 178Tansomboon, Charissa, 1152, 1407Tate, Erika D., 210Tay, Wan Ying, 258Telhan, Orkan, 1041Tempelaar, Dirk, 194Teo, Chew Lee, 9, 178, 258, 1310, 1318Tharuma, Suresh, 1275Thomas, Jakita O., 960Thompson, John D., 1225Thompson, Kate, 870Thorn, Christopher, 1153Tietjen, Phil, 1063, 1205A-6© ISLSTissenbaum, Mike, 1041, 1120, 1346, 1353Tomar, Gaurav Singh, 24, 607Trău an-Matu, tefan, 914Trninic, Dragan, 1257Tsai, Chin-Chung, 787Tsovaltzi, Dimitra, 1136Tsurusaki, Blakely K., 1269Turker, Aybuke, 974Tytler, Russell, 1082Tzou, Carrie, 1269Ufer, Stefan, 599, 811, 862, 1018Uk, Irina, 720Uttamchandani, Suraj, 546, 1114Vaishampayan, Gauri, 1211Valkanova, Nina, 1239van Aalst, Jan, 639, 819, 1322, 1393Van Alstyne, Ryan, 250van der Schaaf, Marieke F., 466Van Dyke, Margot, 1183Van Horne, Katie, 482, 855, 1128van Joolingen, Wouter, 1082van Leeuwen, Anouschka, 24, 354van Riesen, Siswa A. N., 823Van Steenis, Erica, 482Van Wart, Sarah, 570Vanderbeke, Marie, 815Vatrapu, Ravi, 1071Vedder-Weiss, Dana, 43, 783Villanosa, Krystal, 1033Visintainer, Tammie, 655Vitale, Jonathan M., 591, 799, 1120Vogel, Freydis, 599, 1335, 1386Walker, Erin, 1201Wallon, Robert C., 1014Walsh, Elizabeth M., 866, 1189Wan, Jarrad, 679Wang, Ching-Hua, 1213, 1203Wang, Mei, 1235Wang, Minhong, 1356Wang, Xu, 607Warrick, Elizabeth, 851Wegerif, Rupert, 1106Weidler-Lewis, Joanna, 1177Weinberger, Armin, 1136Weintrop, David, 705Weiser, Gary, 970Weiss, Patrice, 1063White, Tobin, 713Whittaker, Chris, 1063Wichmann, Astrid, 918Wiedmann, Michael, 58Wigmore, Peter, 1082Wilensky, Uri, 705Wilkerson, Michelle, 934Williamson Shaffer, David, 426, 631, 1335Williams-Pierce, Caroline, 1241, 1388Wilson, Nicholas C., 1253ICLS 2016 ProceedingsWittmann, Michael C., 386Wong, Anita MY, 1255Wong, Liyun, 1326Wong, Lung-Hsiang, 1090, 1350Worker, Steven M., 322Worsley, Marcelo, 1346Wu, Bian, 1197Wu, Han, 795Wu, Longkai, 474Wu, Sally P., 1173Wu, Ying-Tien, 787Wylie, Ruth, 1201Xiao, Sihan, 402, 835Xie, Kui, 66, 859Xing, Chenmu, 186Yamada, Hiroyuki, 1153Yamaguchi, Etsuji, 1155Yamauchi, Yuhei, 1207Yan, Shulong, 878Yang, I-Ting, 1203, 1213Yang, Simon, 24Yang, Xiaozhe, 1235Yang, Yuqin, 819Yap, Chong Chieh, 1306Yildirim, Hazar, 1163Yip, Jason C., 362Yoon, Susan A., 106, 114Yurkofsky, Maxwell, 330Zhang, Jianwei, 1063, 1175Zhang, Yibing, 1175Zhao, Jian, 1235Zheng, Tainian, 402Zimmerman, Heather Toomey, 822, 942Zufferey, Guillaume, 522A-7© ISLSKeyword IndexPages 1-702: Volume 1Pages 703-1407: Volume 221st century skills ............................................................................................................................................... 874accountability ..................................................................................................................................................... 138action research .................................................................................................................................................. 1048active interaction................................................................................................................................................. 753active learning .................................................................................................................................................. 1302activity theory ..................................................................................................................................................... 130actor network theory ......................................................................................................................................... 1205adaptive scaffolding ............................................................................................................................................ 554adult learning ...................................................................................................................................................... 851affinity spaces ..................................................................................................................................................... 851agency ....................................................................................................................................................... 946, 1025agent-based models............................................................................................................................................. 282amateur astronomy ............................................................................................................................................. 585analogical reasoning ........................................................................................................................................... 998analysis ............................................................................................................................................................. 1033analytic approaches............................................................................................................................................. 546anonymity ......................................................................................................................................................... 1187architecture for learning...................................................................................................................................... 761argument skills.......................................................................................................................................... 847, 1294argumentation ....................................................................................................599, 771, 811, 835, 866, 910, 1183art/science ......................................................................................................................................................... 1267arts .................................................................................................................................................................... 1263arts craft ............................................................................................................................................................ 1181assessment ........................................................................................................................................ 426, 546, 1179assessment for learning ....................................................................................................................................... 862assessment rubric ................................................................................................................................................ 266attentional anchor ............................................................................................................................................... 466audio/video analysis ........................................................................................................................................... 378augmented reality ......................................................................................................................... 1193, 1245, 1261augmented reality learning experiences ............................................................................................................ 1193authentic ............................................................................................................................................................... 74authenticity ................................................................................................................................................. 815, 843automated coding................................................................................................................................................ 938Big Data .............................................................................................................................................................. 974blended learning ................................................................................................................................................. 695boundaries........................................................................................................................................................... 250boundary objects ................................................................................................................................................. 890broadening participation ............................................................................................................................. 705, 890calculus ............................................................................................................................................................... 982case study.................................................................................................................................. 234, 803, 934, 1048cell biology ......................................................................................................................................................... 721citizenship ........................................................................................................................................................... 962civics ................................................................................................................................................................. 1157classroom discourse ............................................................................................................................................ 994classroom discussions ....................................................................................................................................... 1199classroom norms ............................................................................................................................................... 1219classroom orchestration ............................................................................................................................ 978, 1120classroom talk ................................................................................................................................................... 1106climate literacy ................................................................................................................................................. 1221ICLS 2016 ProceedingsK-1© ISLS']"
      ]
     },
     "execution_count": 31,
     "metadata": {},
     "output_type": "execute_result"
    }
   ],
   "source": [
    "df[df.counts < 1].ref.tolist()"
   ]
  },
  {
   "cell_type": "code",
   "execution_count": 32,
   "metadata": {},
   "outputs": [
    {
     "data": {
      "text/html": [
       "<div>\n",
       "<style scoped>\n",
       "    .dataframe tbody tr th:only-of-type {\n",
       "        vertical-align: middle;\n",
       "    }\n",
       "\n",
       "    .dataframe tbody tr th {\n",
       "        vertical-align: top;\n",
       "    }\n",
       "\n",
       "    .dataframe thead th {\n",
       "        text-align: right;\n",
       "    }\n",
       "</style>\n",
       "<table border=\"1\" class=\"dataframe\">\n",
       "  <thead>\n",
       "    <tr style=\"text-align: right;\">\n",
       "      <th></th>\n",
       "      <th>ref</th>\n",
       "      <th>file</th>\n",
       "      <th>length</th>\n",
       "      <th>ref_parsed</th>\n",
       "      <th>counts</th>\n",
       "    </tr>\n",
       "  </thead>\n",
       "  <tbody>\n",
       "    <tr>\n",
       "      <th>2020</th>\n",
       "      <td>marked with an asterisk indicate studies incl...</td>\n",
       "      <td>/import2015full/192</td>\n",
       "      <td>1105</td>\n",
       "      <td>NaN</td>\n",
       "      <td>2</td>\n",
       "    </tr>\n",
       "    <tr>\n",
       "      <th>2021</th>\n",
       "      <td>Design and reflection help students develop sc...</td>\n",
       "      <td>/import2015full/192</td>\n",
       "      <td>658</td>\n",
       "      <td>NaN</td>\n",
       "      <td>2</td>\n",
       "    </tr>\n",
       "    <tr>\n",
       "      <th>2022</th>\n",
       "      <td>Educational Technology Research and Developmen...</td>\n",
       "      <td>/import2015full/192</td>\n",
       "      <td>985</td>\n",
       "      <td>NaN</td>\n",
       "      <td>2</td>\n",
       "    </tr>\n",
       "    <tr>\n",
       "      <th>2023</th>\n",
       "      <td>Thousand Oaks, CA: Sage Publications * Roschel...</td>\n",
       "      <td>/import2015full/192</td>\n",
       "      <td>137</td>\n",
       "      <td>NaN</td>\n",
       "      <td>2</td>\n",
       "    </tr>\n",
       "    <tr>\n",
       "      <th>2024</th>\n",
       "      <td>Scaffolding group explanation and feedback wit...</td>\n",
       "      <td>/import2015full/192</td>\n",
       "      <td>339</td>\n",
       "      <td>NaN</td>\n",
       "      <td>2</td>\n",
       "    </tr>\n",
       "    <tr>\n",
       "      <th>2025</th>\n",
       "      <td>Strauss, A. L. (1987). Qualitative analysis fo...</td>\n",
       "      <td>/import2015full/192</td>\n",
       "      <td>101</td>\n",
       "      <td>Strauss, A. L. (1987)</td>\n",
       "      <td>2</td>\n",
       "    </tr>\n",
       "    <tr>\n",
       "      <th>2026</th>\n",
       "      <td>Strauss, A. L., &amp; Corbin, J. (1998). Basics of...</td>\n",
       "      <td>/import2015full/192</td>\n",
       "      <td>496</td>\n",
       "      <td>Strauss, A. L., &amp; Corbin, J. (1998)</td>\n",
       "      <td>2</td>\n",
       "    </tr>\n",
       "    <tr>\n",
       "      <th>2027</th>\n",
       "      <td>Educational Technology Research and Developmen...</td>\n",
       "      <td>/import2015full/192</td>\n",
       "      <td>405</td>\n",
       "      <td>NaN</td>\n",
       "      <td>2</td>\n",
       "    </tr>\n",
       "    <tr>\n",
       "      <th>2028</th>\n",
       "      <td>Hmelo-Silver (Eds.), International Handbook of...</td>\n",
       "      <td>/import2015full/192</td>\n",
       "      <td>647</td>\n",
       "      <td>NaN</td>\n",
       "      <td>2</td>\n",
       "    </tr>\n",
       "    <tr>\n",
       "      <th>4707</th>\n",
       "      <td>marked with an asterisk indicate studies incl...</td>\n",
       "      <td>/import2015short/192</td>\n",
       "      <td>1105</td>\n",
       "      <td>NaN</td>\n",
       "      <td>2</td>\n",
       "    </tr>\n",
       "    <tr>\n",
       "      <th>4708</th>\n",
       "      <td>Design and reflection help students develop sc...</td>\n",
       "      <td>/import2015short/192</td>\n",
       "      <td>658</td>\n",
       "      <td>NaN</td>\n",
       "      <td>2</td>\n",
       "    </tr>\n",
       "    <tr>\n",
       "      <th>4709</th>\n",
       "      <td>Educational Technology Research and Developmen...</td>\n",
       "      <td>/import2015short/192</td>\n",
       "      <td>985</td>\n",
       "      <td>NaN</td>\n",
       "      <td>2</td>\n",
       "    </tr>\n",
       "    <tr>\n",
       "      <th>4710</th>\n",
       "      <td>Thousand Oaks, CA: Sage Publications * Roschel...</td>\n",
       "      <td>/import2015short/192</td>\n",
       "      <td>137</td>\n",
       "      <td>NaN</td>\n",
       "      <td>2</td>\n",
       "    </tr>\n",
       "    <tr>\n",
       "      <th>4711</th>\n",
       "      <td>Scaffolding group explanation and feedback wit...</td>\n",
       "      <td>/import2015short/192</td>\n",
       "      <td>339</td>\n",
       "      <td>NaN</td>\n",
       "      <td>2</td>\n",
       "    </tr>\n",
       "    <tr>\n",
       "      <th>4712</th>\n",
       "      <td>Strauss, A. L. (1987). Qualitative analysis fo...</td>\n",
       "      <td>/import2015short/192</td>\n",
       "      <td>101</td>\n",
       "      <td>Strauss, A. L. (1987)</td>\n",
       "      <td>2</td>\n",
       "    </tr>\n",
       "    <tr>\n",
       "      <th>4713</th>\n",
       "      <td>Strauss, A. L., &amp; Corbin, J. (1998). Basics of...</td>\n",
       "      <td>/import2015short/192</td>\n",
       "      <td>496</td>\n",
       "      <td>Strauss, A. L., &amp; Corbin, J. (1998)</td>\n",
       "      <td>2</td>\n",
       "    </tr>\n",
       "    <tr>\n",
       "      <th>4714</th>\n",
       "      <td>Educational Technology Research and Developmen...</td>\n",
       "      <td>/import2015short/192</td>\n",
       "      <td>405</td>\n",
       "      <td>NaN</td>\n",
       "      <td>2</td>\n",
       "    </tr>\n",
       "    <tr>\n",
       "      <th>4715</th>\n",
       "      <td>Hmelo-Silver (Eds.), International Handbook of...</td>\n",
       "      <td>/import2015short/192</td>\n",
       "      <td>647</td>\n",
       "      <td>NaN</td>\n",
       "      <td>2</td>\n",
       "    </tr>\n",
       "  </tbody>\n",
       "</table>\n",
       "</div>"
      ],
      "text/plain": [
       "                                                    ref                  file  \\\n",
       "2020   marked with an asterisk indicate studies incl...   /import2015full/192   \n",
       "2021  Design and reflection help students develop sc...   /import2015full/192   \n",
       "2022  Educational Technology Research and Developmen...   /import2015full/192   \n",
       "2023  Thousand Oaks, CA: Sage Publications * Roschel...   /import2015full/192   \n",
       "2024  Scaffolding group explanation and feedback wit...   /import2015full/192   \n",
       "2025  Strauss, A. L. (1987). Qualitative analysis fo...   /import2015full/192   \n",
       "2026  Strauss, A. L., & Corbin, J. (1998). Basics of...   /import2015full/192   \n",
       "2027  Educational Technology Research and Developmen...   /import2015full/192   \n",
       "2028  Hmelo-Silver (Eds.), International Handbook of...   /import2015full/192   \n",
       "4707   marked with an asterisk indicate studies incl...  /import2015short/192   \n",
       "4708  Design and reflection help students develop sc...  /import2015short/192   \n",
       "4709  Educational Technology Research and Developmen...  /import2015short/192   \n",
       "4710  Thousand Oaks, CA: Sage Publications * Roschel...  /import2015short/192   \n",
       "4711  Scaffolding group explanation and feedback wit...  /import2015short/192   \n",
       "4712  Strauss, A. L. (1987). Qualitative analysis fo...  /import2015short/192   \n",
       "4713  Strauss, A. L., & Corbin, J. (1998). Basics of...  /import2015short/192   \n",
       "4714  Educational Technology Research and Developmen...  /import2015short/192   \n",
       "4715  Hmelo-Silver (Eds.), International Handbook of...  /import2015short/192   \n",
       "\n",
       "      length                           ref_parsed  counts  \n",
       "2020    1105                                  NaN       2  \n",
       "2021     658                                  NaN       2  \n",
       "2022     985                                  NaN       2  \n",
       "2023     137                                  NaN       2  \n",
       "2024     339                                  NaN       2  \n",
       "2025     101                Strauss, A. L. (1987)       2  \n",
       "2026     496  Strauss, A. L., & Corbin, J. (1998)       2  \n",
       "2027     405                                  NaN       2  \n",
       "2028     647                                  NaN       2  \n",
       "4707    1105                                  NaN       2  \n",
       "4708     658                                  NaN       2  \n",
       "4709     985                                  NaN       2  \n",
       "4710     137                                  NaN       2  \n",
       "4711     339                                  NaN       2  \n",
       "4712     101                Strauss, A. L. (1987)       2  \n",
       "4713     496  Strauss, A. L., & Corbin, J. (1998)       2  \n",
       "4714     405                                  NaN       2  \n",
       "4715     647                                  NaN       2  "
      ]
     },
     "execution_count": 32,
     "metadata": {},
     "output_type": "execute_result"
    }
   ],
   "source": [
    "df[df.counts == 2]"
   ]
  },
  {
   "cell_type": "code",
   "execution_count": 33,
   "metadata": {
    "scrolled": true
   },
   "outputs": [
    {
     "data": {
      "text/html": [
       "<div>\n",
       "<style scoped>\n",
       "    .dataframe tbody tr th:only-of-type {\n",
       "        vertical-align: middle;\n",
       "    }\n",
       "\n",
       "    .dataframe tbody tr th {\n",
       "        vertical-align: top;\n",
       "    }\n",
       "\n",
       "    .dataframe thead th {\n",
       "        text-align: right;\n",
       "    }\n",
       "</style>\n",
       "<table border=\"1\" class=\"dataframe\">\n",
       "  <thead>\n",
       "    <tr style=\"text-align: right;\">\n",
       "      <th></th>\n",
       "      <th>ref</th>\n",
       "      <th>file</th>\n",
       "      <th>length</th>\n",
       "      <th>ref_parsed</th>\n",
       "      <th>counts</th>\n",
       "    </tr>\n",
       "  </thead>\n",
       "  <tbody>\n",
       "    <tr>\n",
       "      <th>767</th>\n",
       "      <td>Bielaczyc, K. (2006). Designing social infrast...</td>\n",
       "      <td>/import2016full/17</td>\n",
       "      <td>166</td>\n",
       "      <td>Bielaczyc, K. (2006)</td>\n",
       "      <td>5</td>\n",
       "    </tr>\n",
       "    <tr>\n",
       "      <th>768</th>\n",
       "      <td>Brown, A. L. (1992). Design experiments: Theor...</td>\n",
       "      <td>/import2016full/17</td>\n",
       "      <td>161</td>\n",
       "      <td>Brown, A. L. (1992)</td>\n",
       "      <td>5</td>\n",
       "    </tr>\n",
       "    <tr>\n",
       "      <th>769</th>\n",
       "      <td>Kolodner, J. (2004). The learning sciences: Pa...</td>\n",
       "      <td>/import2016full/17</td>\n",
       "      <td>106</td>\n",
       "      <td>Kolodner, J. (2004)</td>\n",
       "      <td>5</td>\n",
       "    </tr>\n",
       "    <tr>\n",
       "      <th>770</th>\n",
       "      <td>Luhmann, N. (1990). Essays on self-reference. ...</td>\n",
       "      <td>/import2016full/17</td>\n",
       "      <td>81</td>\n",
       "      <td>Luhmann, N. (1990)</td>\n",
       "      <td>5</td>\n",
       "    </tr>\n",
       "    <tr>\n",
       "      <th>771</th>\n",
       "      <td>Nathan, M. J., Rummel, N., &amp; Hay, K. E. (forth...</td>\n",
       "      <td>/import2016full/17</td>\n",
       "      <td>281</td>\n",
       "      <td>NaN</td>\n",
       "      <td>5</td>\n",
       "    </tr>\n",
       "    <tr>\n",
       "      <th>772</th>\n",
       "      <td>Sawyer, K. (2014). Introduction: The new scien...</td>\n",
       "      <td>/import2016full/17</td>\n",
       "      <td>161</td>\n",
       "      <td>Sawyer, K. (2014)</td>\n",
       "      <td>5</td>\n",
       "    </tr>\n",
       "    <tr>\n",
       "      <th>1260</th>\n",
       "      <td>Fitzgerald, J., (1987). Research on revision i...</td>\n",
       "      <td>/import2016full/52</td>\n",
       "      <td>103</td>\n",
       "      <td>Fitzgerald, J., (1987)</td>\n",
       "      <td>5</td>\n",
       "    </tr>\n",
       "    <tr>\n",
       "      <th>1261</th>\n",
       "      <td>Gerard, L., Ryoo, K., McElhaney, K., Liu, L., ...</td>\n",
       "      <td>/import2016full/52</td>\n",
       "      <td>1166</td>\n",
       "      <td>Gerard, L., Ryoo, K., McElhaney, K., Liu, L., ...</td>\n",
       "      <td>5</td>\n",
       "    </tr>\n",
       "    <tr>\n",
       "      <th>1262</th>\n",
       "      <td>Mullis, I.V. S. &amp; Jenkins, L.B. (1988). The sc...</td>\n",
       "      <td>/import2016full/52</td>\n",
       "      <td>201</td>\n",
       "      <td>Mullis, I.V. S. &amp; Jenkins, L.B. (1988)</td>\n",
       "      <td>5</td>\n",
       "    </tr>\n",
       "    <tr>\n",
       "      <th>1263</th>\n",
       "      <td>Princeton, NJ: Educational Testing Service</td>\n",
       "      <td>/import2016full/52</td>\n",
       "      <td>42</td>\n",
       "      <td>NaN</td>\n",
       "      <td>5</td>\n",
       "    </tr>\n",
       "    <tr>\n",
       "      <th>1264</th>\n",
       "      <td>NGSS Lead States (2013). Next Generation Scien...</td>\n",
       "      <td>/import2016full/52</td>\n",
       "      <td>582</td>\n",
       "      <td>NGSS Lead States (2013)</td>\n",
       "      <td>5</td>\n",
       "    </tr>\n",
       "    <tr>\n",
       "      <th>1265</th>\n",
       "      <td>Science Education, 95(2), 191-216</td>\n",
       "      <td>/import2016full/52</td>\n",
       "      <td>33</td>\n",
       "      <td>NaN</td>\n",
       "      <td>5</td>\n",
       "    </tr>\n",
       "    <tr>\n",
       "      <th>1266</th>\n",
       "      <td>Sato, E. &amp; Linn, M.C. (2014). Designing critiq...</td>\n",
       "      <td>/import2016full/52</td>\n",
       "      <td>316</td>\n",
       "      <td>Sato, E. &amp; Linn, M.C. (2014)</td>\n",
       "      <td>5</td>\n",
       "    </tr>\n",
       "    <tr>\n",
       "      <th>1815</th>\n",
       "      <td>Kuhn, D., Ramsey, S., &amp; Arvidsson, T. S. (2015...</td>\n",
       "      <td>/import2016full/13</td>\n",
       "      <td>116</td>\n",
       "      <td>Kuhn, D., Ramsey, S., &amp; Arvidsson, T. S. (2015)</td>\n",
       "      <td>5</td>\n",
       "    </tr>\n",
       "    <tr>\n",
       "      <th>1816</th>\n",
       "      <td>Lorch Jr, R. F., Lorch, E. P., Calderhead, W. ...</td>\n",
       "      <td>/import2016full/13</td>\n",
       "      <td>294</td>\n",
       "      <td>Lorch Jr, R. F., Lorch, E. P., Calderhead, W. ...</td>\n",
       "      <td>5</td>\n",
       "    </tr>\n",
       "    <tr>\n",
       "      <th>1817</th>\n",
       "      <td>Lorch Jr, R. F., Lorch, E. P., Freer, B. D., D...</td>\n",
       "      <td>/import2016full/13</td>\n",
       "      <td>279</td>\n",
       "      <td>Lorch Jr, R. F., Lorch, E. P., Freer, B. D., D...</td>\n",
       "      <td>5</td>\n",
       "    </tr>\n",
       "    <tr>\n",
       "      <th>1818</th>\n",
       "      <td>Sandoval, W. (2014). Science education’s need ...</td>\n",
       "      <td>/import2016full/13</td>\n",
       "      <td>120</td>\n",
       "      <td>Sandoval, W. (2014)</td>\n",
       "      <td>5</td>\n",
       "    </tr>\n",
       "    <tr>\n",
       "      <th>1819</th>\n",
       "      <td>Siler, S., Klahr, D., Magaro, C., Willows, K.,...</td>\n",
       "      <td>/import2016full/13</td>\n",
       "      <td>535</td>\n",
       "      <td>Siler, S., Klahr, D., Magaro, C., Willows, K.,...</td>\n",
       "      <td>5</td>\n",
       "    </tr>\n",
       "    <tr>\n",
       "      <th>3479</th>\n",
       "      <td>Bodemer, D. (2011). Tacit guidance for collabo...</td>\n",
       "      <td>/import2016short/133</td>\n",
       "      <td>1037</td>\n",
       "      <td>Bodemer, D. (2011)</td>\n",
       "      <td>5</td>\n",
       "    </tr>\n",
       "    <tr>\n",
       "      <th>3480</th>\n",
       "      <td>Chun, M. M., &amp; Jiang, Y. (1998). Contextual Cu...</td>\n",
       "      <td>/import2016short/133</td>\n",
       "      <td>310</td>\n",
       "      <td>Chun, M. M., &amp; Jiang, Y. (1998)</td>\n",
       "      <td>5</td>\n",
       "    </tr>\n",
       "    <tr>\n",
       "      <th>3481</th>\n",
       "      <td>International Journal of Computer-Supported Co...</td>\n",
       "      <td>/import2016short/133</td>\n",
       "      <td>972</td>\n",
       "      <td>NaN</td>\n",
       "      <td>5</td>\n",
       "    </tr>\n",
       "    <tr>\n",
       "      <th>3482</th>\n",
       "      <td>Janssen, J., Erkens, G., Kirschner, P. A., &amp; K...</td>\n",
       "      <td>/import2016short/133</td>\n",
       "      <td>149</td>\n",
       "      <td>Janssen, J., Erkens, G., Kirschner, P. A., &amp; K...</td>\n",
       "      <td>5</td>\n",
       "    </tr>\n",
       "    <tr>\n",
       "      <th>3483</th>\n",
       "      <td>InstructionalScience,38(1),59–88 http://dx.doi...</td>\n",
       "      <td>/import2016short/133</td>\n",
       "      <td>370</td>\n",
       "      <td>NaN</td>\n",
       "      <td>5</td>\n",
       "    </tr>\n",
       "    <tr>\n",
       "      <th>3484</th>\n",
       "      <td>Klagenfurt, Austria</td>\n",
       "      <td>/import2016short/133</td>\n",
       "      <td>19</td>\n",
       "      <td>NaN</td>\n",
       "      <td>5</td>\n",
       "    </tr>\n",
       "    <tr>\n",
       "      <th>3485</th>\n",
       "      <td>Moskaliuk, J., Kimmerle, J., &amp; Cress, U. (2009...</td>\n",
       "      <td>/import2016short/133</td>\n",
       "      <td>387</td>\n",
       "      <td>Moskaliuk, J., Kimmerle, J., &amp; Cress, U. (2009)</td>\n",
       "      <td>5</td>\n",
       "    </tr>\n",
       "    <tr>\n",
       "      <th>3486</th>\n",
       "      <td>Computers&amp;Education,58(4),1049–1057 http://dx....</td>\n",
       "      <td>/import2016short/133</td>\n",
       "      <td>194</td>\n",
       "      <td>NaN</td>\n",
       "      <td>5</td>\n",
       "    </tr>\n",
       "    <tr>\n",
       "      <th>3487</th>\n",
       "      <td>European Journal of Social Psychology, 8(2), 1...</td>\n",
       "      <td>/import2016short/133</td>\n",
       "      <td>440</td>\n",
       "      <td>NaN</td>\n",
       "      <td>5</td>\n",
       "    </tr>\n",
       "    <tr>\n",
       "      <th>3488</th>\n",
       "      <td>Schneider, J., Passant, A., &amp; Breslin, J. G. (...</td>\n",
       "      <td>/import2016short/133</td>\n",
       "      <td>360</td>\n",
       "      <td>Schneider, J., Passant, A., &amp; Breslin, J. G. (...</td>\n",
       "      <td>5</td>\n",
       "    </tr>\n",
       "    <tr>\n",
       "      <th>3489</th>\n",
       "      <td>Suthers (Eds.), Arguing to Learn (pp. 27–46). ...</td>\n",
       "      <td>/import2016short/133</td>\n",
       "      <td>112</td>\n",
       "      <td>NaN</td>\n",
       "      <td>5</td>\n",
       "    </tr>\n",
       "    <tr>\n",
       "      <th>4006</th>\n",
       "      <td>Elby, A., Richards, J., Walkoe, J., Gupta, A.,...</td>\n",
       "      <td>/import2016short/153</td>\n",
       "      <td>277</td>\n",
       "      <td>NaN</td>\n",
       "      <td>5</td>\n",
       "    </tr>\n",
       "    <tr>\n",
       "      <th>...</th>\n",
       "      <td>...</td>\n",
       "      <td>...</td>\n",
       "      <td>...</td>\n",
       "      <td>...</td>\n",
       "      <td>...</td>\n",
       "    </tr>\n",
       "    <tr>\n",
       "      <th>7183</th>\n",
       "      <td>Brown, J. S., Collins, A., &amp; Duguid, P. (1989)...</td>\n",
       "      <td>/import2017/73</td>\n",
       "      <td>131</td>\n",
       "      <td>Brown, J. S., Collins, A., &amp; Duguid, P. (1989)</td>\n",
       "      <td>5</td>\n",
       "    </tr>\n",
       "    <tr>\n",
       "      <th>7184</th>\n",
       "      <td>Carlson, M. D., &amp; Morrison, R. S. (2009). Stud...</td>\n",
       "      <td>/import2017/73</td>\n",
       "      <td>149</td>\n",
       "      <td>Carlson, M. D., &amp; Morrison, R. S. (2009)</td>\n",
       "      <td>5</td>\n",
       "    </tr>\n",
       "    <tr>\n",
       "      <th>7185</th>\n",
       "      <td>Dunleavy, M., Dede, C., &amp; Mitchell, R. (2009)....</td>\n",
       "      <td>/import2017/73</td>\n",
       "      <td>213</td>\n",
       "      <td>Dunleavy, M., Dede, C., &amp; Mitchell, R. (2009)</td>\n",
       "      <td>5</td>\n",
       "    </tr>\n",
       "    <tr>\n",
       "      <th>7186</th>\n",
       "      <td>Hendricks, C. C. (2001). Teaching causal reaso...</td>\n",
       "      <td>/import2017/73</td>\n",
       "      <td>177</td>\n",
       "      <td>Hendricks, C. C. (2001)</td>\n",
       "      <td>5</td>\n",
       "    </tr>\n",
       "    <tr>\n",
       "      <th>7187</th>\n",
       "      <td>Klopfer, E., Perry, J., Squire, K., &amp; Jan, M. ...</td>\n",
       "      <td>/import2017/73</td>\n",
       "      <td>303</td>\n",
       "      <td>NaN</td>\n",
       "      <td>5</td>\n",
       "    </tr>\n",
       "    <tr>\n",
       "      <th>7188</th>\n",
       "      <td>Klopfer, E., &amp; Squire, K. (2008). Environmenta...</td>\n",
       "      <td>/import2017/73</td>\n",
       "      <td>201</td>\n",
       "      <td>Klopfer, E., &amp; Squire, K. (2008)</td>\n",
       "      <td>5</td>\n",
       "    </tr>\n",
       "    <tr>\n",
       "      <th>7189</th>\n",
       "      <td>O’Shea, P., Mitchell, R., Johnston, C., &amp; Dede...</td>\n",
       "      <td>/import2017/73</td>\n",
       "      <td>228</td>\n",
       "      <td>NaN</td>\n",
       "      <td>5</td>\n",
       "    </tr>\n",
       "    <tr>\n",
       "      <th>8031</th>\n",
       "      <td>Junco, R., Heiberger, G., &amp; Loken, E. (2011). ...</td>\n",
       "      <td>/import2017/90</td>\n",
       "      <td>108</td>\n",
       "      <td>Junco, R., Heiberger, G., &amp; Loken, E. (2011)</td>\n",
       "      <td>5</td>\n",
       "    </tr>\n",
       "    <tr>\n",
       "      <th>8032</th>\n",
       "      <td>Journal of computer assisted learning, 27(2), ...</td>\n",
       "      <td>/import2017/90</td>\n",
       "      <td>53</td>\n",
       "      <td>NaN</td>\n",
       "      <td>5</td>\n",
       "    </tr>\n",
       "    <tr>\n",
       "      <th>8033</th>\n",
       "      <td>Kreijns, K., Kirschner, P. A., &amp; Jochems, W. (...</td>\n",
       "      <td>/import2017/90</td>\n",
       "      <td>227</td>\n",
       "      <td>Kreijns, K., Kirschner, P. A., &amp; Jochems, W. (...</td>\n",
       "      <td>5</td>\n",
       "    </tr>\n",
       "    <tr>\n",
       "      <th>8034</th>\n",
       "      <td>Papert, S. (1980). Mindstorm. Basic Book, New ...</td>\n",
       "      <td>/import2017/90</td>\n",
       "      <td>50</td>\n",
       "      <td>Papert, S. (1980)</td>\n",
       "      <td>5</td>\n",
       "    </tr>\n",
       "    <tr>\n",
       "      <th>8035</th>\n",
       "      <td>Stahl, G., Koschmann, T., &amp; Suthers, D. (2006)...</td>\n",
       "      <td>/import2017/90</td>\n",
       "      <td>197</td>\n",
       "      <td>Stahl, G., Koschmann, T., &amp; Suthers, D. (2006)</td>\n",
       "      <td>5</td>\n",
       "    </tr>\n",
       "    <tr>\n",
       "      <th>8036</th>\n",
       "      <td>Cambridge, UK: Cambridge University</td>\n",
       "      <td>/import2017/90</td>\n",
       "      <td>35</td>\n",
       "      <td>NaN</td>\n",
       "      <td>5</td>\n",
       "    </tr>\n",
       "    <tr>\n",
       "      <th>8037</th>\n",
       "      <td>Wise, L. Z., Skues, J., &amp; Williams, B. (2011)....</td>\n",
       "      <td>/import2017/90</td>\n",
       "      <td>228</td>\n",
       "      <td>Wise, L. Z., Skues, J., &amp; Williams, B. (2011)</td>\n",
       "      <td>5</td>\n",
       "    </tr>\n",
       "    <tr>\n",
       "      <th>8419</th>\n",
       "      <td>Barron, B., Walter, S. E., Martin, C. K., &amp; Sc...</td>\n",
       "      <td>/import2017/49</td>\n",
       "      <td>433</td>\n",
       "      <td>Barron, B., Walter, S. E., Martin, C. K., &amp; Sc...</td>\n",
       "      <td>5</td>\n",
       "    </tr>\n",
       "    <tr>\n",
       "      <th>8420</th>\n",
       "      <td>Christensen, R., Knezek, G., &amp; Tyler-Wood, T. ...</td>\n",
       "      <td>/import2017/49</td>\n",
       "      <td>436</td>\n",
       "      <td>Christensen, R., Knezek, G., &amp; Tyler-Wood, T. ...</td>\n",
       "      <td>5</td>\n",
       "    </tr>\n",
       "    <tr>\n",
       "      <th>8421</th>\n",
       "      <td>Dowson, M., &amp; McInerney, D. (2001). Psychologi...</td>\n",
       "      <td>/import2017/49</td>\n",
       "      <td>432</td>\n",
       "      <td>Dowson, M., &amp; McInerney, D. (2001)</td>\n",
       "      <td>5</td>\n",
       "    </tr>\n",
       "    <tr>\n",
       "      <th>8422</th>\n",
       "      <td>Journal of Educational Psychology, 105(1), 89–...</td>\n",
       "      <td>/import2017/49</td>\n",
       "      <td>672</td>\n",
       "      <td>NaN</td>\n",
       "      <td>5</td>\n",
       "    </tr>\n",
       "    <tr>\n",
       "      <th>8423</th>\n",
       "      <td>Margolis, J., Ryoo, J. J., Sandoval, C. D. M.,...</td>\n",
       "      <td>/import2017/49</td>\n",
       "      <td>154</td>\n",
       "      <td>Margolis, J., Ryoo, J. J., Sandoval, C. D. M.,...</td>\n",
       "      <td>5</td>\n",
       "    </tr>\n",
       "    <tr>\n",
       "      <th>8424</th>\n",
       "      <td>ACMInroads,3(4),72 https://doi.org/10.1145/238...</td>\n",
       "      <td>/import2017/49</td>\n",
       "      <td>89</td>\n",
       "      <td>NaN</td>\n",
       "      <td>5</td>\n",
       "    </tr>\n",
       "    <tr>\n",
       "      <th>8425</th>\n",
       "      <td>ITESTProgramSolicitation</td>\n",
       "      <td>/import2017/49</td>\n",
       "      <td>24</td>\n",
       "      <td>NaN</td>\n",
       "      <td>5</td>\n",
       "    </tr>\n",
       "    <tr>\n",
       "      <th>8426</th>\n",
       "      <td>Retrievedfromhttps://www.nsf.gov/funding/pgm_s...</td>\n",
       "      <td>/import2017/49</td>\n",
       "      <td>179</td>\n",
       "      <td>NaN</td>\n",
       "      <td>5</td>\n",
       "    </tr>\n",
       "    <tr>\n",
       "      <th>8427</th>\n",
       "      <td>Paulin, M., Ferguson, R.J., Schattke, K., &amp; Jo...</td>\n",
       "      <td>/import2017/49</td>\n",
       "      <td>476</td>\n",
       "      <td>Paulin, M., Ferguson, R.J., Schattke, K., &amp; Jo...</td>\n",
       "      <td>5</td>\n",
       "    </tr>\n",
       "    <tr>\n",
       "      <th>8538</th>\n",
       "      <td>Adams, J. C. (2010). Scratching middle schoole...</td>\n",
       "      <td>/import2017/13</td>\n",
       "      <td>563</td>\n",
       "      <td>Adams, J. C. (2010)</td>\n",
       "      <td>5</td>\n",
       "    </tr>\n",
       "    <tr>\n",
       "      <th>8539</th>\n",
       "      <td>Barron, B. (2004). Learning Ecologies for Tech...</td>\n",
       "      <td>/import2017/13</td>\n",
       "      <td>672</td>\n",
       "      <td>Barron, B. (2004)</td>\n",
       "      <td>5</td>\n",
       "    </tr>\n",
       "    <tr>\n",
       "      <th>8540</th>\n",
       "      <td>Ericson, B., &amp; McKlin, T. (2012). Effective an...</td>\n",
       "      <td>/import2017/13</td>\n",
       "      <td>329</td>\n",
       "      <td>Ericson, B., &amp; McKlin, T. (2012)</td>\n",
       "      <td>5</td>\n",
       "    </tr>\n",
       "    <tr>\n",
       "      <th>8541</th>\n",
       "      <td>Hidi, S., &amp; Renninger, K. A. (2006). The Four-...</td>\n",
       "      <td>/import2017/13</td>\n",
       "      <td>169</td>\n",
       "      <td>Hidi, S., &amp; Renninger, K. A. (2006)</td>\n",
       "      <td>5</td>\n",
       "    </tr>\n",
       "    <tr>\n",
       "      <th>8542</th>\n",
       "      <td>BytheNumbers</td>\n",
       "      <td>/import2017/13</td>\n",
       "      <td>12</td>\n",
       "      <td>NaN</td>\n",
       "      <td>5</td>\n",
       "    </tr>\n",
       "    <tr>\n",
       "      <th>8543</th>\n",
       "      <td>Retrievedfromhttps://www.ncwit.org/sites/defau...</td>\n",
       "      <td>/import2017/13</td>\n",
       "      <td>239</td>\n",
       "      <td>NaN</td>\n",
       "      <td>5</td>\n",
       "    </tr>\n",
       "    <tr>\n",
       "      <th>8544</th>\n",
       "      <td>Osborne, J., Simon, S., &amp; Collins, S. (2003). ...</td>\n",
       "      <td>/import2017/13</td>\n",
       "      <td>864</td>\n",
       "      <td>Osborne, J., Simon, S., &amp; Collins, S. (2003)</td>\n",
       "      <td>5</td>\n",
       "    </tr>\n",
       "  </tbody>\n",
       "</table>\n",
       "<p>88 rows × 5 columns</p>\n",
       "</div>"
      ],
      "text/plain": [
       "                                                    ref                  file  \\\n",
       "767   Bielaczyc, K. (2006). Designing social infrast...    /import2016full/17   \n",
       "768   Brown, A. L. (1992). Design experiments: Theor...    /import2016full/17   \n",
       "769   Kolodner, J. (2004). The learning sciences: Pa...    /import2016full/17   \n",
       "770   Luhmann, N. (1990). Essays on self-reference. ...    /import2016full/17   \n",
       "771   Nathan, M. J., Rummel, N., & Hay, K. E. (forth...    /import2016full/17   \n",
       "772   Sawyer, K. (2014). Introduction: The new scien...    /import2016full/17   \n",
       "1260  Fitzgerald, J., (1987). Research on revision i...    /import2016full/52   \n",
       "1261  Gerard, L., Ryoo, K., McElhaney, K., Liu, L., ...    /import2016full/52   \n",
       "1262  Mullis, I.V. S. & Jenkins, L.B. (1988). The sc...    /import2016full/52   \n",
       "1263         Princeton, NJ: Educational Testing Service    /import2016full/52   \n",
       "1264  NGSS Lead States (2013). Next Generation Scien...    /import2016full/52   \n",
       "1265                  Science Education, 95(2), 191-216    /import2016full/52   \n",
       "1266  Sato, E. & Linn, M.C. (2014). Designing critiq...    /import2016full/52   \n",
       "1815  Kuhn, D., Ramsey, S., & Arvidsson, T. S. (2015...    /import2016full/13   \n",
       "1816  Lorch Jr, R. F., Lorch, E. P., Calderhead, W. ...    /import2016full/13   \n",
       "1817  Lorch Jr, R. F., Lorch, E. P., Freer, B. D., D...    /import2016full/13   \n",
       "1818  Sandoval, W. (2014). Science education’s need ...    /import2016full/13   \n",
       "1819  Siler, S., Klahr, D., Magaro, C., Willows, K.,...    /import2016full/13   \n",
       "3479  Bodemer, D. (2011). Tacit guidance for collabo...  /import2016short/133   \n",
       "3480  Chun, M. M., & Jiang, Y. (1998). Contextual Cu...  /import2016short/133   \n",
       "3481  International Journal of Computer-Supported Co...  /import2016short/133   \n",
       "3482  Janssen, J., Erkens, G., Kirschner, P. A., & K...  /import2016short/133   \n",
       "3483  InstructionalScience,38(1),59–88 http://dx.doi...  /import2016short/133   \n",
       "3484                                Klagenfurt, Austria  /import2016short/133   \n",
       "3485  Moskaliuk, J., Kimmerle, J., & Cress, U. (2009...  /import2016short/133   \n",
       "3486  Computers&Education,58(4),1049–1057 http://dx....  /import2016short/133   \n",
       "3487  European Journal of Social Psychology, 8(2), 1...  /import2016short/133   \n",
       "3488  Schneider, J., Passant, A., & Breslin, J. G. (...  /import2016short/133   \n",
       "3489  Suthers (Eds.), Arguing to Learn (pp. 27–46). ...  /import2016short/133   \n",
       "4006  Elby, A., Richards, J., Walkoe, J., Gupta, A.,...  /import2016short/153   \n",
       "...                                                 ...                   ...   \n",
       "7183  Brown, J. S., Collins, A., & Duguid, P. (1989)...        /import2017/73   \n",
       "7184  Carlson, M. D., & Morrison, R. S. (2009). Stud...        /import2017/73   \n",
       "7185  Dunleavy, M., Dede, C., & Mitchell, R. (2009)....        /import2017/73   \n",
       "7186  Hendricks, C. C. (2001). Teaching causal reaso...        /import2017/73   \n",
       "7187  Klopfer, E., Perry, J., Squire, K., & Jan, M. ...        /import2017/73   \n",
       "7188  Klopfer, E., & Squire, K. (2008). Environmenta...        /import2017/73   \n",
       "7189  O’Shea, P., Mitchell, R., Johnston, C., & Dede...        /import2017/73   \n",
       "8031  Junco, R., Heiberger, G., & Loken, E. (2011). ...        /import2017/90   \n",
       "8032  Journal of computer assisted learning, 27(2), ...        /import2017/90   \n",
       "8033  Kreijns, K., Kirschner, P. A., & Jochems, W. (...        /import2017/90   \n",
       "8034  Papert, S. (1980). Mindstorm. Basic Book, New ...        /import2017/90   \n",
       "8035  Stahl, G., Koschmann, T., & Suthers, D. (2006)...        /import2017/90   \n",
       "8036                Cambridge, UK: Cambridge University        /import2017/90   \n",
       "8037  Wise, L. Z., Skues, J., & Williams, B. (2011)....        /import2017/90   \n",
       "8419  Barron, B., Walter, S. E., Martin, C. K., & Sc...        /import2017/49   \n",
       "8420  Christensen, R., Knezek, G., & Tyler-Wood, T. ...        /import2017/49   \n",
       "8421  Dowson, M., & McInerney, D. (2001). Psychologi...        /import2017/49   \n",
       "8422  Journal of Educational Psychology, 105(1), 89–...        /import2017/49   \n",
       "8423  Margolis, J., Ryoo, J. J., Sandoval, C. D. M.,...        /import2017/49   \n",
       "8424  ACMInroads,3(4),72 https://doi.org/10.1145/238...        /import2017/49   \n",
       "8425                           ITESTProgramSolicitation        /import2017/49   \n",
       "8426  Retrievedfromhttps://www.nsf.gov/funding/pgm_s...        /import2017/49   \n",
       "8427  Paulin, M., Ferguson, R.J., Schattke, K., & Jo...        /import2017/49   \n",
       "8538  Adams, J. C. (2010). Scratching middle schoole...        /import2017/13   \n",
       "8539  Barron, B. (2004). Learning Ecologies for Tech...        /import2017/13   \n",
       "8540  Ericson, B., & McKlin, T. (2012). Effective an...        /import2017/13   \n",
       "8541  Hidi, S., & Renninger, K. A. (2006). The Four-...        /import2017/13   \n",
       "8542                                       BytheNumbers        /import2017/13   \n",
       "8543  Retrievedfromhttps://www.ncwit.org/sites/defau...        /import2017/13   \n",
       "8544  Osborne, J., Simon, S., & Collins, S. (2003). ...        /import2017/13   \n",
       "\n",
       "      length                                         ref_parsed  counts  \n",
       "767      166                               Bielaczyc, K. (2006)       5  \n",
       "768      161                                Brown, A. L. (1992)       5  \n",
       "769      106                                Kolodner, J. (2004)       5  \n",
       "770       81                                 Luhmann, N. (1990)       5  \n",
       "771      281                                                NaN       5  \n",
       "772      161                                  Sawyer, K. (2014)       5  \n",
       "1260     103                             Fitzgerald, J., (1987)       5  \n",
       "1261    1166  Gerard, L., Ryoo, K., McElhaney, K., Liu, L., ...       5  \n",
       "1262     201             Mullis, I.V. S. & Jenkins, L.B. (1988)       5  \n",
       "1263      42                                                NaN       5  \n",
       "1264     582                            NGSS Lead States (2013)       5  \n",
       "1265      33                                                NaN       5  \n",
       "1266     316                       Sato, E. & Linn, M.C. (2014)       5  \n",
       "1815     116    Kuhn, D., Ramsey, S., & Arvidsson, T. S. (2015)       5  \n",
       "1816     294  Lorch Jr, R. F., Lorch, E. P., Calderhead, W. ...       5  \n",
       "1817     279  Lorch Jr, R. F., Lorch, E. P., Freer, B. D., D...       5  \n",
       "1818     120                                Sandoval, W. (2014)       5  \n",
       "1819     535  Siler, S., Klahr, D., Magaro, C., Willows, K.,...       5  \n",
       "3479    1037                                 Bodemer, D. (2011)       5  \n",
       "3480     310                    Chun, M. M., & Jiang, Y. (1998)       5  \n",
       "3481     972                                                NaN       5  \n",
       "3482     149  Janssen, J., Erkens, G., Kirschner, P. A., & K...       5  \n",
       "3483     370                                                NaN       5  \n",
       "3484      19                                                NaN       5  \n",
       "3485     387    Moskaliuk, J., Kimmerle, J., & Cress, U. (2009)       5  \n",
       "3486     194                                                NaN       5  \n",
       "3487     440                                                NaN       5  \n",
       "3488     360  Schneider, J., Passant, A., & Breslin, J. G. (...       5  \n",
       "3489     112                                                NaN       5  \n",
       "4006     277                                                NaN       5  \n",
       "...      ...                                                ...     ...  \n",
       "7183     131     Brown, J. S., Collins, A., & Duguid, P. (1989)       5  \n",
       "7184     149           Carlson, M. D., & Morrison, R. S. (2009)       5  \n",
       "7185     213      Dunleavy, M., Dede, C., & Mitchell, R. (2009)       5  \n",
       "7186     177                            Hendricks, C. C. (2001)       5  \n",
       "7187     303                                                NaN       5  \n",
       "7188     201                   Klopfer, E., & Squire, K. (2008)       5  \n",
       "7189     228                                                NaN       5  \n",
       "8031     108       Junco, R., Heiberger, G., & Loken, E. (2011)       5  \n",
       "8032      53                                                NaN       5  \n",
       "8033     227  Kreijns, K., Kirschner, P. A., & Jochems, W. (...       5  \n",
       "8034      50                                  Papert, S. (1980)       5  \n",
       "8035     197     Stahl, G., Koschmann, T., & Suthers, D. (2006)       5  \n",
       "8036      35                                                NaN       5  \n",
       "8037     228      Wise, L. Z., Skues, J., & Williams, B. (2011)       5  \n",
       "8419     433  Barron, B., Walter, S. E., Martin, C. K., & Sc...       5  \n",
       "8420     436  Christensen, R., Knezek, G., & Tyler-Wood, T. ...       5  \n",
       "8421     432                 Dowson, M., & McInerney, D. (2001)       5  \n",
       "8422     672                                                NaN       5  \n",
       "8423     154  Margolis, J., Ryoo, J. J., Sandoval, C. D. M.,...       5  \n",
       "8424      89                                                NaN       5  \n",
       "8425      24                                                NaN       5  \n",
       "8426     179                                                NaN       5  \n",
       "8427     476  Paulin, M., Ferguson, R.J., Schattke, K., & Jo...       5  \n",
       "8538     563                                Adams, J. C. (2010)       5  \n",
       "8539     672                                  Barron, B. (2004)       5  \n",
       "8540     329                   Ericson, B., & McKlin, T. (2012)       5  \n",
       "8541     169                Hidi, S., & Renninger, K. A. (2006)       5  \n",
       "8542      12                                                NaN       5  \n",
       "8543     239                                                NaN       5  \n",
       "8544     864       Osborne, J., Simon, S., & Collins, S. (2003)       5  \n",
       "\n",
       "[88 rows x 5 columns]"
      ]
     },
     "execution_count": 33,
     "metadata": {},
     "output_type": "execute_result"
    }
   ],
   "source": [
    "df[df.counts == 5]"
   ]
  },
  {
   "cell_type": "code",
   "execution_count": 34,
   "metadata": {},
   "outputs": [
    {
     "data": {
      "text/plain": [
       "file\n",
       "/import2015full/192     2\n",
       "/import2015short/192    2\n",
       "Name: counts, dtype: int64"
      ]
     },
     "execution_count": 34,
     "metadata": {},
     "output_type": "execute_result"
    }
   ],
   "source": [
    "ref_counts[ref_counts == 2]"
   ]
  },
  {
   "cell_type": "code",
   "execution_count": 35,
   "metadata": {},
   "outputs": [
    {
     "data": {
      "text/html": [
       "<div>\n",
       "<style scoped>\n",
       "    .dataframe tbody tr th:only-of-type {\n",
       "        vertical-align: middle;\n",
       "    }\n",
       "\n",
       "    .dataframe tbody tr th {\n",
       "        vertical-align: top;\n",
       "    }\n",
       "\n",
       "    .dataframe thead th {\n",
       "        text-align: right;\n",
       "    }\n",
       "</style>\n",
       "<table border=\"1\" class=\"dataframe\">\n",
       "  <thead>\n",
       "    <tr style=\"text-align: right;\">\n",
       "      <th></th>\n",
       "      <th>ref</th>\n",
       "      <th>file</th>\n",
       "      <th>length</th>\n",
       "      <th>ref_parsed</th>\n",
       "    </tr>\n",
       "  </thead>\n",
       "  <tbody>\n",
       "    <tr>\n",
       "      <th>4100</th>\n",
       "      <td>with regard to collaborationaffect the satisf...</td>\n",
       "      <td>/import2016short/136</td>\n",
       "      <td>298</td>\n",
       "      <td>NaN</td>\n",
       "    </tr>\n",
       "    <tr>\n",
       "      <th>4101</th>\n",
       "      <td>H4: The individual learning preference for col...</td>\n",
       "      <td>/import2016short/136</td>\n",
       "      <td>804</td>\n",
       "      <td>NaN</td>\n",
       "    </tr>\n",
       "    <tr>\n",
       "      <th>4102</th>\n",
       "      <td>Before participation in the course students we...</td>\n",
       "      <td>/import2016short/136</td>\n",
       "      <td>825</td>\n",
       "      <td>NaN</td>\n",
       "    </tr>\n",
       "    <tr>\n",
       "      <th>4103</th>\n",
       "      <td>In a time period from week 6 to 10 students co...</td>\n",
       "      <td>/import2016short/136</td>\n",
       "      <td>653</td>\n",
       "      <td>NaN</td>\n",
       "    </tr>\n",
       "    <tr>\n",
       "      <th>4104</th>\n",
       "      <td>Students participated in several online questi...</td>\n",
       "      <td>/import2016short/136</td>\n",
       "      <td>721</td>\n",
       "      <td>NaN</td>\n",
       "    </tr>\n",
       "    <tr>\n",
       "      <th>4105</th>\n",
       "      <td>We assessed intrinsic motivation of the studen...</td>\n",
       "      <td>/import2016short/136</td>\n",
       "      <td>335</td>\n",
       "      <td>We assessed intrinsic motivation of the studen...</td>\n",
       "    </tr>\n",
       "    <tr>\n",
       "      <th>4106</th>\n",
       "      <td>Further, we employed Johnson and Norem-Hebeise...</td>\n",
       "      <td>/import2016short/136</td>\n",
       "      <td>243</td>\n",
       "      <td>NaN</td>\n",
       "    </tr>\n",
       "  </tbody>\n",
       "</table>\n",
       "</div>"
      ],
      "text/plain": [
       "                                                    ref                  file  \\\n",
       "4100   with regard to collaborationaffect the satisf...  /import2016short/136   \n",
       "4101  H4: The individual learning preference for col...  /import2016short/136   \n",
       "4102  Before participation in the course students we...  /import2016short/136   \n",
       "4103  In a time period from week 6 to 10 students co...  /import2016short/136   \n",
       "4104  Students participated in several online questi...  /import2016short/136   \n",
       "4105  We assessed intrinsic motivation of the studen...  /import2016short/136   \n",
       "4106  Further, we employed Johnson and Norem-Hebeise...  /import2016short/136   \n",
       "\n",
       "      length                                         ref_parsed  \n",
       "4100     298                                                NaN  \n",
       "4101     804                                                NaN  \n",
       "4102     825                                                NaN  \n",
       "4103     653                                                NaN  \n",
       "4104     721                                                NaN  \n",
       "4105     335  We assessed intrinsic motivation of the studen...  \n",
       "4106     243                                                NaN  "
      ]
     },
     "execution_count": 35,
     "metadata": {},
     "output_type": "execute_result"
    }
   ],
   "source": [
    "references_df[references_df.file == '/import2016short/136']"
   ]
  },
  {
   "cell_type": "code",
   "execution_count": 36,
   "metadata": {},
   "outputs": [
    {
     "data": {
      "text/plain": [
       "'We assessed intrinsic motivation of the students at the beginning of the course using 5 items from theacademic self-regulation questionnaire (SRQ-A) by Müller, Hanfstingl, and Andreitz (2007)'"
      ]
     },
     "execution_count": 36,
     "metadata": {},
     "output_type": "execute_result"
    }
   ],
   "source": [
    "references_df.iloc[4105].ref_parsed"
   ]
  },
  {
   "cell_type": "code",
   "execution_count": 40,
   "metadata": {},
   "outputs": [
    {
     "data": {
      "text/plain": [
       "<matplotlib.axes._subplots.AxesSubplot at 0x1218ca6d8>"
      ]
     },
     "execution_count": 40,
     "metadata": {},
     "output_type": "execute_result"
    },
    {
     "data": {
      "image/png": "[encoded data removed]",
      "text/plain": [
       "<Figure size 432x288 with 1 Axes>"
      ]
     },
     "metadata": {
      "needs_background": "light"
     },
     "output_type": "display_data"
    }
   ],
   "source": [
    "references_df.ref_parsed.value_counts().head(20).plot(kind='bar')"
   ]
  },
  {
   "cell_type": "markdown",
   "metadata": {},
   "source": [
    "## Todo: \n",
    "- extract year, individual author\n",
    "- right now this might give a decent paper identifier"
   ]
  },
  {
   "cell_type": "markdown",
   "metadata": {},
   "source": [
    "## trying to parse acm authors"
   ]
  },
  {
   "cell_type": "code",
   "execution_count": null,
   "metadata": {},
   "outputs": [],
   "source": [
    "ACM_authors = []\n",
    "for i, ref in enumerate(references):\n",
    "    for sentence in ref:\n",
    "        s =  re.findall(r'[a-zA-Z\\ \\. \\,]*\\d{4}\\. ', sentence)\n",
    "        if re.match(r'[a-zA-Z\\ \\. \\,]*\\d{4}\\. ', sentence) and not 'http' in s[0].lower() and len(s[0]) > 10:\n",
    "            #print(sentence)\n",
    "            print(s[0])\n",
    "            #apa_authors.append((re.findall(r'.*\\(\\d{4}\\)', sentence)[0], source[i]))"
   ]
  },
  {
   "cell_type": "code",
   "execution_count": null,
   "metadata": {},
   "outputs": [],
   "source": [
    "re.match(r'(.*\\d{4}\\. )', \"https://www.nsf.gov/funding/pgm_summ.jsp?pims_id=5467. Retrieved August 19, 2016.\")"
   ]
  },
  {
   "cell_type": "code",
   "execution_count": null,
   "metadata": {},
   "outputs": [],
   "source": [
    "m = re.match(r'.*\\d{4}\\. ', 'https://www.nsf.gov/funding/pgm_summ.jsp?pims_id=5467. Retrieved August 19, 2016.')"
   ]
  },
  {
   "cell_type": "code",
   "execution_count": null,
   "metadata": {},
   "outputs": [],
   "source": [
    "re.findall(r'[a-zA-Z\\ \\. \\,]*\\d{4}\\. ', 'McKenzie, W., and Murphy, D. 2000. “I hope this goes somewhere”: Evaluation of an on')"
   ]
  },
  {
   "cell_type": "code",
   "execution_count": null,
   "metadata": {},
   "outputs": [],
   "source": []
  }
 ],
 "metadata": {
  "kernelspec": {
   "display_name": "Python 3",
   "language": "python",
   "name": "python3"
  },
  "language_info": {
   "codemirror_mode": {
    "name": "ipython",
    "version": 3
   },
   "file_extension": ".py",
   "mimetype": "text/x-python",
   "name": "python",
   "nbconvert_exporter": "python",
   "pygments_lexer": "ipython3",
   "version": "3.7.0"
  }
 },
 "nbformat": 4,
 "nbformat_minor": 2
}
