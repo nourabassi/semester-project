{
 "cells": [
  {
   "cell_type": "code",
   "execution_count": 1,
   "metadata": {},
   "outputs": [],
   "source": [
    "from lxml import etree\n",
    "import json\n",
    "import pandas as pd\n",
    "import matplotlib.pyplot as plt \n",
    "%matplotlib inline  \n",
    "import seaborn as sns\n"
   ]
  },
  {
   "cell_type": "markdown",
   "metadata": {},
   "source": [
    "# Parsing "
   ]
  },
  {
   "cell_type": "raw",
   "metadata": {},
   "source": [
    "data_dict = {}\n",
    "for elem in all_data: \n",
    "    data_dict[elem[0].get('qualifier')] = elem[1]"
   ]
  },
  {
   "cell_type": "raw",
   "metadata": {},
   "source": [
    "data_dict"
   ]
  },
  {
   "cell_type": "code",
   "execution_count": 2,
   "metadata": {},
   "outputs": [],
   "source": [
    "def parse(file_path): \n",
    "    i = 0 \n",
    "    tmp = ''\n",
    "    key = ''\n",
    "    xml2 = etree.iterparse(file_path, recover=True)\n",
    "    data = []\n",
    "    for action, elem in xml2:\n",
    "        data.append((elem.attrib, elem.tag, elem.text))\n",
    "    data_dict = {}\n",
    "    \n",
    "    for attrib, tag, text in data: \n",
    "        try : \n",
    "            tmp = key\n",
    "            \n",
    "            key = attrib.get('qualifier')\n",
    "            element = attrib.get('element')\n",
    "            \n",
    "            #way to distinguish eliminate some nan!\n",
    "            if key == 'none':\n",
    "                key = element\n",
    "            \n",
    "            if key in data_dict.keys() : \n",
    "                i = i + 1 \n",
    "                data_dict[key + str(i)] = text\n",
    "            else : \n",
    "                i = 0 \n",
    "                data_dict[key] = text\n",
    "                \n",
    "        except TypeError: \n",
    "            if 'subject' in tag:\n",
    "                if 'subject' in data_dict.keys():\n",
    "                    data_dict['subject'].append(text)\n",
    "                else:\n",
    "                    data_dict['subject'] = [text]\n",
    "\n",
    "    return data_dict\n"
   ]
  },
  {
   "cell_type": "markdown",
   "metadata": {},
   "source": [
    "### Get all data "
   ]
  },
  {
   "cell_type": "code",
   "execution_count": 3,
   "metadata": {},
   "outputs": [],
   "source": [
    "import os\n",
    "rootdir = '/Users/lguillain/Documents/EPFL2018/Semester-Project/papers-import/'\n",
    "nchouf = os.walk(rootdir)"
   ]
  },
  {
   "cell_type": "code",
   "execution_count": 4,
   "metadata": {},
   "outputs": [],
   "source": [
    "all_data = {}\n",
    "i= 0\n",
    "for subdir, dirs, files in os.walk(rootdir):\n",
    "    for file in files:\n",
    "        path = os.path.join(subdir, file)\n",
    "        if 'dublin_core' in (path) : \n",
    "            i += 1\n",
    "            num_doc = subdir[len(rootdir):]\n",
    "            if num_doc in all_data.keys():\n",
    "                all_data[num_doc+'_'] = parse(path)\n",
    "            else : \n",
    "                all_data[num_doc] = parse(path)"
   ]
  },
  {
   "cell_type": "code",
   "execution_count": 5,
   "metadata": {},
   "outputs": [
    {
     "name": "stdout",
     "output_type": "stream",
     "text": [
      "got data from 428 files\n"
     ]
    }
   ],
   "source": [
    "print('got data from {} files'.format(i))"
   ]
  },
  {
   "cell_type": "code",
   "execution_count": 6,
   "metadata": {},
   "outputs": [],
   "source": [
    "#all_data.values()"
   ]
  },
  {
   "cell_type": "code",
   "execution_count": 7,
   "metadata": {},
   "outputs": [],
   "source": [
    "columns = set()\n",
    "for keys,items in all_data.items():\n",
    "    for keys_in,items_in in items.items():\n",
    "        columns.add(keys_in)"
   ]
  },
  {
   "cell_type": "code",
   "execution_count": 8,
   "metadata": {},
   "outputs": [],
   "source": [
    "df_data = pd.DataFrame(index=all_data.keys(),columns=columns)"
   ]
  },
  {
   "cell_type": "code",
   "execution_count": 9,
   "metadata": {},
   "outputs": [],
   "source": [
    "for ind in df_data.index:\n",
    "    for column in columns: \n",
    "        try : \n",
    "            df_data.loc[ind,column] = all_data[ind][column]\n",
    "        except KeyError:\n",
    "            df_data.loc[ind,column] = ''"
   ]
  },
  {
   "cell_type": "code",
   "execution_count": 10,
   "metadata": {},
   "outputs": [
    {
     "data": {
      "text/plain": [
       "import2016full/61    Abrahamson, D., Shayan, S., Bakker, A., & van ...\n",
       "import2016full/95    Sandoval, W. A., Kawasaki, J., Cournoyer, N., ...\n",
       "import2016full/59    DeLiema, D., Saleh, A., Lee, C., Enyedy, N., D...\n",
       "import2016full/92    Hardy, L. & White, T. (2016). Making Sense of ...\n",
       "import2016full/66    Raval, H., Kaul, C., & McKenney, S. (2016). Th...\n",
       "Name: citation, dtype: object"
      ]
     },
     "execution_count": 10,
     "metadata": {},
     "output_type": "execute_result"
    }
   ],
   "source": [
    "df_data['citation'].head()"
   ]
  },
  {
   "cell_type": "code",
   "execution_count": 11,
   "metadata": {},
   "outputs": [
    {
     "data": {
      "text/html": [
       "<div>\n",
       "<style scoped>\n",
       "    .dataframe tbody tr th:only-of-type {\n",
       "        vertical-align: middle;\n",
       "    }\n",
       "\n",
       "    .dataframe tbody tr th {\n",
       "        vertical-align: top;\n",
       "    }\n",
       "\n",
       "    .dataframe thead th {\n",
       "        text-align: right;\n",
       "    }\n",
       "</style>\n",
       "<table border=\"1\" class=\"dataframe\">\n",
       "  <thead>\n",
       "    <tr style=\"text-align: right;\">\n",
       "      <th></th>\n",
       "      <th>author16</th>\n",
       "      <th>author2</th>\n",
       "      <th>author17</th>\n",
       "      <th>abstract</th>\n",
       "      <th>author13</th>\n",
       "      <th>author20</th>\n",
       "      <th>author12</th>\n",
       "      <th>uri</th>\n",
       "      <th>author6</th>\n",
       "      <th>iso</th>\n",
       "      <th>...</th>\n",
       "      <th>issued</th>\n",
       "      <th>author10</th>\n",
       "      <th>author5</th>\n",
       "      <th>accessioned</th>\n",
       "      <th>author19</th>\n",
       "      <th>author9</th>\n",
       "      <th>author21</th>\n",
       "      <th>None</th>\n",
       "      <th>author18</th>\n",
       "      <th>author7</th>\n",
       "    </tr>\n",
       "  </thead>\n",
       "  <tbody>\n",
       "    <tr>\n",
       "      <th>import2016full/61</th>\n",
       "      <td></td>\n",
       "      <td>Bakker, Arthur</td>\n",
       "      <td></td>\n",
       "      <td>The combination of two methodological resource...</td>\n",
       "      <td></td>\n",
       "      <td></td>\n",
       "      <td></td>\n",
       "      <td>info:doi/10.22318/icls2016.61</td>\n",
       "      <td></td>\n",
       "      <td>en</td>\n",
       "      <td>...</td>\n",
       "      <td>2016-07</td>\n",
       "      <td></td>\n",
       "      <td></td>\n",
       "      <td>2017-03-21T12:05:42Z</td>\n",
       "      <td></td>\n",
       "      <td></td>\n",
       "      <td></td>\n",
       "      <td>\\n</td>\n",
       "      <td></td>\n",
       "      <td></td>\n",
       "    </tr>\n",
       "    <tr>\n",
       "      <th>import2016full/95</th>\n",
       "      <td></td>\n",
       "      <td>Cournoyer, Nathan</td>\n",
       "      <td></td>\n",
       "      <td>Abstract: The Next Generation Science Standard...</td>\n",
       "      <td></td>\n",
       "      <td></td>\n",
       "      <td></td>\n",
       "      <td>info:doi/10.22318/icls2016.95</td>\n",
       "      <td></td>\n",
       "      <td>en</td>\n",
       "      <td>...</td>\n",
       "      <td>2016-07</td>\n",
       "      <td></td>\n",
       "      <td></td>\n",
       "      <td>2017-03-21T12:05:42Z</td>\n",
       "      <td></td>\n",
       "      <td></td>\n",
       "      <td></td>\n",
       "      <td>\\n</td>\n",
       "      <td></td>\n",
       "      <td></td>\n",
       "    </tr>\n",
       "    <tr>\n",
       "      <th>import2016full/59</th>\n",
       "      <td></td>\n",
       "      <td>Lee, Christine</td>\n",
       "      <td></td>\n",
       "      <td>Researchers have increasingly demonstrated how...</td>\n",
       "      <td></td>\n",
       "      <td></td>\n",
       "      <td></td>\n",
       "      <td>info:doi/10.22318/icls2016.59</td>\n",
       "      <td>Dahn, Maggie</td>\n",
       "      <td>en</td>\n",
       "      <td>...</td>\n",
       "      <td>2016-07</td>\n",
       "      <td></td>\n",
       "      <td>Illum, Randy</td>\n",
       "      <td>2017-03-21T12:05:42Z</td>\n",
       "      <td></td>\n",
       "      <td></td>\n",
       "      <td></td>\n",
       "      <td>\\n</td>\n",
       "      <td></td>\n",
       "      <td>Humburg, Megan</td>\n",
       "    </tr>\n",
       "    <tr>\n",
       "      <th>import2016full/92</th>\n",
       "      <td></td>\n",
       "      <td></td>\n",
       "      <td></td>\n",
       "      <td>In this paper we argue that collaborative lear...</td>\n",
       "      <td></td>\n",
       "      <td></td>\n",
       "      <td></td>\n",
       "      <td>info:doi/10.22318/icls2016.92</td>\n",
       "      <td></td>\n",
       "      <td>en</td>\n",
       "      <td>...</td>\n",
       "      <td>2016-07</td>\n",
       "      <td></td>\n",
       "      <td></td>\n",
       "      <td>2017-03-21T12:05:42Z</td>\n",
       "      <td></td>\n",
       "      <td></td>\n",
       "      <td></td>\n",
       "      <td>\\n</td>\n",
       "      <td></td>\n",
       "      <td></td>\n",
       "    </tr>\n",
       "    <tr>\n",
       "      <th>import2016full/66</th>\n",
       "      <td></td>\n",
       "      <td>McKenney, Susan</td>\n",
       "      <td></td>\n",
       "      <td>Although English is mandatorily introduced as ...</td>\n",
       "      <td></td>\n",
       "      <td></td>\n",
       "      <td></td>\n",
       "      <td>info:doi/10.22318/icls2016.66</td>\n",
       "      <td></td>\n",
       "      <td>en</td>\n",
       "      <td>...</td>\n",
       "      <td>2016-07</td>\n",
       "      <td></td>\n",
       "      <td></td>\n",
       "      <td>2017-03-21T12:05:42Z</td>\n",
       "      <td></td>\n",
       "      <td></td>\n",
       "      <td></td>\n",
       "      <td>\\n</td>\n",
       "      <td></td>\n",
       "      <td></td>\n",
       "    </tr>\n",
       "  </tbody>\n",
       "</table>\n",
       "<p>5 rows × 36 columns</p>\n",
       "</div>"
      ],
      "text/plain": [
       "                  author16            author2 author17  \\\n",
       "import2016full/61              Bakker, Arthur            \n",
       "import2016full/95           Cournoyer, Nathan            \n",
       "import2016full/59              Lee, Christine            \n",
       "import2016full/92                                        \n",
       "import2016full/66             McKenney, Susan            \n",
       "\n",
       "                                                            abstract author13  \\\n",
       "import2016full/61  The combination of two methodological resource...            \n",
       "import2016full/95  Abstract: The Next Generation Science Standard...            \n",
       "import2016full/59  Researchers have increasingly demonstrated how...            \n",
       "import2016full/92  In this paper we argue that collaborative lear...            \n",
       "import2016full/66  Although English is mandatorily introduced as ...            \n",
       "\n",
       "                  author20 author12                            uri  \\\n",
       "import2016full/61                    info:doi/10.22318/icls2016.61   \n",
       "import2016full/95                    info:doi/10.22318/icls2016.95   \n",
       "import2016full/59                    info:doi/10.22318/icls2016.59   \n",
       "import2016full/92                    info:doi/10.22318/icls2016.92   \n",
       "import2016full/66                    info:doi/10.22318/icls2016.66   \n",
       "\n",
       "                        author6 iso       ...         issued author10  \\\n",
       "import2016full/61                en       ...        2016-07            \n",
       "import2016full/95                en       ...        2016-07            \n",
       "import2016full/59  Dahn, Maggie  en       ...        2016-07            \n",
       "import2016full/92                en       ...        2016-07            \n",
       "import2016full/66                en       ...        2016-07            \n",
       "\n",
       "                        author5           accessioned author19 author9  \\\n",
       "import2016full/61                2017-03-21T12:05:42Z                    \n",
       "import2016full/95                2017-03-21T12:05:42Z                    \n",
       "import2016full/59  Illum, Randy  2017-03-21T12:05:42Z                    \n",
       "import2016full/92                2017-03-21T12:05:42Z                    \n",
       "import2016full/66                2017-03-21T12:05:42Z                    \n",
       "\n",
       "                  author21     NaN author18         author7  \n",
       "import2016full/61           \\n                               \n",
       "import2016full/95           \\n                               \n",
       "import2016full/59           \\n               Humburg, Megan  \n",
       "import2016full/92           \\n                               \n",
       "import2016full/66           \\n                               \n",
       "\n",
       "[5 rows x 36 columns]"
      ]
     },
     "execution_count": 11,
     "metadata": {},
     "output_type": "execute_result"
    }
   ],
   "source": [
    "df_data.head()"
   ]
  },
  {
   "cell_type": "code",
   "execution_count": 12,
   "metadata": {},
   "outputs": [],
   "source": [
    "def convert(arg): \n",
    "    try : \n",
    "        arg = dateutil.parser.parse(arg)\n",
    "    except TypeError: \n",
    "        arg = arg \n",
    "    return arg "
   ]
  },
  {
   "cell_type": "code",
   "execution_count": 13,
   "metadata": {},
   "outputs": [],
   "source": [
    "import dateutil.parser\n",
    "df_data['available'] = df_data['available'].apply(lambda x : convert(x))\n",
    "df_data['accessioned'] = df_data['accessioned'].apply(lambda x : convert(x))"
   ]
  },
  {
   "cell_type": "code",
   "execution_count": 14,
   "metadata": {},
   "outputs": [
    {
     "data": {
      "text/html": [
       "<div>\n",
       "<style scoped>\n",
       "    .dataframe tbody tr th:only-of-type {\n",
       "        vertical-align: middle;\n",
       "    }\n",
       "\n",
       "    .dataframe tbody tr th {\n",
       "        vertical-align: top;\n",
       "    }\n",
       "\n",
       "    .dataframe thead th {\n",
       "        text-align: right;\n",
       "    }\n",
       "</style>\n",
       "<table border=\"1\" class=\"dataframe\">\n",
       "  <thead>\n",
       "    <tr style=\"text-align: right;\">\n",
       "      <th></th>\n",
       "      <th>author16</th>\n",
       "      <th>author2</th>\n",
       "      <th>author17</th>\n",
       "      <th>abstract</th>\n",
       "      <th>author13</th>\n",
       "      <th>author20</th>\n",
       "      <th>author12</th>\n",
       "      <th>uri</th>\n",
       "      <th>author6</th>\n",
       "      <th>iso</th>\n",
       "      <th>...</th>\n",
       "      <th>issued</th>\n",
       "      <th>author10</th>\n",
       "      <th>author5</th>\n",
       "      <th>accessioned</th>\n",
       "      <th>author19</th>\n",
       "      <th>author9</th>\n",
       "      <th>author21</th>\n",
       "      <th>None</th>\n",
       "      <th>author18</th>\n",
       "      <th>author7</th>\n",
       "    </tr>\n",
       "  </thead>\n",
       "  <tbody>\n",
       "    <tr>\n",
       "      <th>import2016full/78</th>\n",
       "      <td></td>\n",
       "      <td>Ufer, Stefan</td>\n",
       "      <td></td>\n",
       "      <td>Students often have problems formulating und u...</td>\n",
       "      <td></td>\n",
       "      <td></td>\n",
       "      <td></td>\n",
       "      <td>info:doi/10.22318/icls2016.78</td>\n",
       "      <td></td>\n",
       "      <td>en</td>\n",
       "      <td>...</td>\n",
       "      <td>2016-07</td>\n",
       "      <td></td>\n",
       "      <td></td>\n",
       "      <td>2017-03-21 12:05:42+00:00</td>\n",
       "      <td></td>\n",
       "      <td></td>\n",
       "      <td></td>\n",
       "      <td>\\n</td>\n",
       "      <td></td>\n",
       "      <td></td>\n",
       "    </tr>\n",
       "    <tr>\n",
       "      <th>import2015short/373</th>\n",
       "      <td></td>\n",
       "      <td>Ufer, Stefan</td>\n",
       "      <td></td>\n",
       "      <td>Argumentation scripts have been proposed as an...</td>\n",
       "      <td></td>\n",
       "      <td></td>\n",
       "      <td></td>\n",
       "      <td>https://doi.dx.org/10.22318/cscl2015.373</td>\n",
       "      <td></td>\n",
       "      <td>en</td>\n",
       "      <td>...</td>\n",
       "      <td>2015-07</td>\n",
       "      <td></td>\n",
       "      <td>Fischer, Frank</td>\n",
       "      <td>2017-06-19 14:51:54+00:00</td>\n",
       "      <td></td>\n",
       "      <td></td>\n",
       "      <td></td>\n",
       "      <td>collaboration scripts</td>\n",
       "      <td></td>\n",
       "      <td></td>\n",
       "    </tr>\n",
       "  </tbody>\n",
       "</table>\n",
       "<p>2 rows × 36 columns</p>\n",
       "</div>"
      ],
      "text/plain": [
       "                    author16       author2 author17  \\\n",
       "import2016full/78             Ufer, Stefan            \n",
       "import2015short/373           Ufer, Stefan            \n",
       "\n",
       "                                                              abstract  \\\n",
       "import2016full/78    Students often have problems formulating und u...   \n",
       "import2015short/373  Argumentation scripts have been proposed as an...   \n",
       "\n",
       "                    author13 author20 author12  \\\n",
       "import2016full/78                                \n",
       "import2015short/373                              \n",
       "\n",
       "                                                          uri author6 iso  \\\n",
       "import2016full/78               info:doi/10.22318/icls2016.78          en   \n",
       "import2015short/373  https://doi.dx.org/10.22318/cscl2015.373          en   \n",
       "\n",
       "                      ...     issued author10         author5  \\\n",
       "import2016full/78     ...    2016-07                            \n",
       "import2015short/373   ...    2015-07           Fischer, Frank   \n",
       "\n",
       "                                  accessioned author19 author9 author21  \\\n",
       "import2016full/78   2017-03-21 12:05:42+00:00                             \n",
       "import2015short/373 2017-06-19 14:51:54+00:00                             \n",
       "\n",
       "                                       NaN author18 author7  \n",
       "import2016full/78                   \\n                       \n",
       "import2015short/373  collaboration scripts                   \n",
       "\n",
       "[2 rows x 36 columns]"
      ]
     },
     "execution_count": 14,
     "metadata": {},
     "output_type": "execute_result"
    }
   ],
   "source": [
    "df_data[df_data['author'].str.contains(\"Vogel\")]"
   ]
  },
  {
   "cell_type": "code",
   "execution_count": 15,
   "metadata": {},
   "outputs": [
    {
     "data": {
      "text/html": [
       "<div>\n",
       "<style scoped>\n",
       "    .dataframe tbody tr th:only-of-type {\n",
       "        vertical-align: middle;\n",
       "    }\n",
       "\n",
       "    .dataframe tbody tr th {\n",
       "        vertical-align: top;\n",
       "    }\n",
       "\n",
       "    .dataframe thead th {\n",
       "        text-align: right;\n",
       "    }\n",
       "</style>\n",
       "<table border=\"1\" class=\"dataframe\">\n",
       "  <thead>\n",
       "    <tr style=\"text-align: right;\">\n",
       "      <th></th>\n",
       "      <th>author16</th>\n",
       "      <th>author2</th>\n",
       "      <th>author17</th>\n",
       "      <th>abstract</th>\n",
       "      <th>author13</th>\n",
       "      <th>author20</th>\n",
       "      <th>author12</th>\n",
       "      <th>uri</th>\n",
       "      <th>author6</th>\n",
       "      <th>iso</th>\n",
       "      <th>...</th>\n",
       "      <th>issued</th>\n",
       "      <th>author10</th>\n",
       "      <th>author5</th>\n",
       "      <th>accessioned</th>\n",
       "      <th>author19</th>\n",
       "      <th>author9</th>\n",
       "      <th>author21</th>\n",
       "      <th>None</th>\n",
       "      <th>author18</th>\n",
       "      <th>author7</th>\n",
       "    </tr>\n",
       "  </thead>\n",
       "  <tbody>\n",
       "    <tr>\n",
       "      <th>import2016full/61</th>\n",
       "      <td></td>\n",
       "      <td>Bakker, Arthur</td>\n",
       "      <td></td>\n",
       "      <td>The combination of two methodological resource...</td>\n",
       "      <td></td>\n",
       "      <td></td>\n",
       "      <td></td>\n",
       "      <td>info:doi/10.22318/icls2016.61</td>\n",
       "      <td></td>\n",
       "      <td>en</td>\n",
       "      <td>...</td>\n",
       "      <td>2016-07</td>\n",
       "      <td></td>\n",
       "      <td></td>\n",
       "      <td>2017-03-21 12:05:42+00:00</td>\n",
       "      <td></td>\n",
       "      <td></td>\n",
       "      <td></td>\n",
       "      <td>\\n</td>\n",
       "      <td></td>\n",
       "      <td></td>\n",
       "    </tr>\n",
       "    <tr>\n",
       "      <th>import2016full/95</th>\n",
       "      <td></td>\n",
       "      <td>Cournoyer, Nathan</td>\n",
       "      <td></td>\n",
       "      <td>Abstract: The Next Generation Science Standard...</td>\n",
       "      <td></td>\n",
       "      <td></td>\n",
       "      <td></td>\n",
       "      <td>info:doi/10.22318/icls2016.95</td>\n",
       "      <td></td>\n",
       "      <td>en</td>\n",
       "      <td>...</td>\n",
       "      <td>2016-07</td>\n",
       "      <td></td>\n",
       "      <td></td>\n",
       "      <td>2017-03-21 12:05:42+00:00</td>\n",
       "      <td></td>\n",
       "      <td></td>\n",
       "      <td></td>\n",
       "      <td>\\n</td>\n",
       "      <td></td>\n",
       "      <td></td>\n",
       "    </tr>\n",
       "    <tr>\n",
       "      <th>import2016full/59</th>\n",
       "      <td></td>\n",
       "      <td>Lee, Christine</td>\n",
       "      <td></td>\n",
       "      <td>Researchers have increasingly demonstrated how...</td>\n",
       "      <td></td>\n",
       "      <td></td>\n",
       "      <td></td>\n",
       "      <td>info:doi/10.22318/icls2016.59</td>\n",
       "      <td>Dahn, Maggie</td>\n",
       "      <td>en</td>\n",
       "      <td>...</td>\n",
       "      <td>2016-07</td>\n",
       "      <td></td>\n",
       "      <td>Illum, Randy</td>\n",
       "      <td>2017-03-21 12:05:42+00:00</td>\n",
       "      <td></td>\n",
       "      <td></td>\n",
       "      <td></td>\n",
       "      <td>\\n</td>\n",
       "      <td></td>\n",
       "      <td>Humburg, Megan</td>\n",
       "    </tr>\n",
       "    <tr>\n",
       "      <th>import2016full/92</th>\n",
       "      <td></td>\n",
       "      <td></td>\n",
       "      <td></td>\n",
       "      <td>In this paper we argue that collaborative lear...</td>\n",
       "      <td></td>\n",
       "      <td></td>\n",
       "      <td></td>\n",
       "      <td>info:doi/10.22318/icls2016.92</td>\n",
       "      <td></td>\n",
       "      <td>en</td>\n",
       "      <td>...</td>\n",
       "      <td>2016-07</td>\n",
       "      <td></td>\n",
       "      <td></td>\n",
       "      <td>2017-03-21 12:05:42+00:00</td>\n",
       "      <td></td>\n",
       "      <td></td>\n",
       "      <td></td>\n",
       "      <td>\\n</td>\n",
       "      <td></td>\n",
       "      <td></td>\n",
       "    </tr>\n",
       "    <tr>\n",
       "      <th>import2016full/66</th>\n",
       "      <td></td>\n",
       "      <td>McKenney, Susan</td>\n",
       "      <td></td>\n",
       "      <td>Although English is mandatorily introduced as ...</td>\n",
       "      <td></td>\n",
       "      <td></td>\n",
       "      <td></td>\n",
       "      <td>info:doi/10.22318/icls2016.66</td>\n",
       "      <td></td>\n",
       "      <td>en</td>\n",
       "      <td>...</td>\n",
       "      <td>2016-07</td>\n",
       "      <td></td>\n",
       "      <td></td>\n",
       "      <td>2017-03-21 12:05:42+00:00</td>\n",
       "      <td></td>\n",
       "      <td></td>\n",
       "      <td></td>\n",
       "      <td>\\n</td>\n",
       "      <td></td>\n",
       "      <td></td>\n",
       "    </tr>\n",
       "  </tbody>\n",
       "</table>\n",
       "<p>5 rows × 36 columns</p>\n",
       "</div>"
      ],
      "text/plain": [
       "                  author16            author2 author17  \\\n",
       "import2016full/61              Bakker, Arthur            \n",
       "import2016full/95           Cournoyer, Nathan            \n",
       "import2016full/59              Lee, Christine            \n",
       "import2016full/92                                        \n",
       "import2016full/66             McKenney, Susan            \n",
       "\n",
       "                                                            abstract author13  \\\n",
       "import2016full/61  The combination of two methodological resource...            \n",
       "import2016full/95  Abstract: The Next Generation Science Standard...            \n",
       "import2016full/59  Researchers have increasingly demonstrated how...            \n",
       "import2016full/92  In this paper we argue that collaborative lear...            \n",
       "import2016full/66  Although English is mandatorily introduced as ...            \n",
       "\n",
       "                  author20 author12                            uri  \\\n",
       "import2016full/61                    info:doi/10.22318/icls2016.61   \n",
       "import2016full/95                    info:doi/10.22318/icls2016.95   \n",
       "import2016full/59                    info:doi/10.22318/icls2016.59   \n",
       "import2016full/92                    info:doi/10.22318/icls2016.92   \n",
       "import2016full/66                    info:doi/10.22318/icls2016.66   \n",
       "\n",
       "                        author6 iso       ...         issued author10  \\\n",
       "import2016full/61                en       ...        2016-07            \n",
       "import2016full/95                en       ...        2016-07            \n",
       "import2016full/59  Dahn, Maggie  en       ...        2016-07            \n",
       "import2016full/92                en       ...        2016-07            \n",
       "import2016full/66                en       ...        2016-07            \n",
       "\n",
       "                        author5               accessioned author19 author9  \\\n",
       "import2016full/61               2017-03-21 12:05:42+00:00                    \n",
       "import2016full/95               2017-03-21 12:05:42+00:00                    \n",
       "import2016full/59  Illum, Randy 2017-03-21 12:05:42+00:00                    \n",
       "import2016full/92               2017-03-21 12:05:42+00:00                    \n",
       "import2016full/66               2017-03-21 12:05:42+00:00                    \n",
       "\n",
       "                  author21     NaN author18         author7  \n",
       "import2016full/61           \\n                               \n",
       "import2016full/95           \\n                               \n",
       "import2016full/59           \\n               Humburg, Megan  \n",
       "import2016full/92           \\n                               \n",
       "import2016full/66           \\n                               \n",
       "\n",
       "[5 rows x 36 columns]"
      ]
     },
     "execution_count": 15,
     "metadata": {},
     "output_type": "execute_result"
    }
   ],
   "source": [
    "df_data.head()"
   ]
  },
  {
   "cell_type": "code",
   "execution_count": 16,
   "metadata": {},
   "outputs": [
    {
     "data": {
      "image/png": "[encoded data removed]",
      "text/plain": [
       "<Figure size 1440x595.44 with 1 Axes>"
      ]
     },
     "metadata": {
      "needs_background": "light"
     },
     "output_type": "display_data"
    }
   ],
   "source": [
    "fig, ax = plt.subplots()\n",
    "fig.set_size_inches(20, 8.27)\n",
    "plt.xlabel('Number of authors')\n",
    "plt.ylabel('Number of publications')\n",
    "x = plt.title('Number of publication / number of authors')\n",
    "x = plt.hist(df_data.groupby(by = 'author').count()['uri'])"
   ]
  },
  {
   "cell_type": "code",
   "execution_count": 17,
   "metadata": {},
   "outputs": [],
   "source": [
    "y = df_data.groupby(by = 'author').count()['uri']"
   ]
  },
  {
   "cell_type": "code",
   "execution_count": 18,
   "metadata": {},
   "outputs": [
    {
     "data": {
      "image/png": "[encoded data removed]",
      "text/plain": [
       "<Figure size 1440x595.44 with 1 Axes>"
      ]
     },
     "metadata": {
      "needs_background": "light"
     },
     "output_type": "display_data"
    }
   ],
   "source": [
    "fig, ax = plt.subplots()\n",
    "fig.set_size_inches(20, 8.27)\n",
    "x = sns.barplot(y[y>1].index,y[y>1],color = 'grey')\n",
    "plt.xticks(rotation=50)\n",
    "plt.xlabel('Authors')\n",
    "plt.ylabel('Number of publications')\n",
    "x = plt.title('Number of publication per author')"
   ]
  },
  {
   "cell_type": "markdown",
   "metadata": {},
   "source": [
    "# Getting all authors in to one dataframe:"
   ]
  },
  {
   "cell_type": "code",
   "execution_count": 19,
   "metadata": {},
   "outputs": [
    {
     "data": {
      "text/plain": [
       "Index([   'author16',     'author2',    'author17',    'abstract',\n",
       "          'author13',    'author20',    'author12',         'uri',\n",
       "           'author6',         'iso',    'author23',   'publisher',\n",
       "              'type',    'citation',     'author1',    'author11',\n",
       "         'available',     'author3',     'author8',     'author4',\n",
       "          'author15',       'title',     'subject',    'author22',\n",
       "            'author',    'author14',      'issued',    'author10',\n",
       "           'author5', 'accessioned',    'author19',     'author9',\n",
       "          'author21',          None,    'author18',     'author7'],\n",
       "      dtype='object')"
      ]
     },
     "execution_count": 19,
     "metadata": {},
     "output_type": "execute_result"
    }
   ],
   "source": [
    "df_data.columns"
   ]
  },
  {
   "cell_type": "code",
   "execution_count": 20,
   "metadata": {},
   "outputs": [],
   "source": [
    "cleaning = df_data.reset_index().melt(id_vars=['index','subject', 'iso', 'uri','type','publisher','title', 'issued', 'accessioned', 'citation', 'available', 'abstract'])\n",
    "\n",
    "cleaning.dropna(inplace=True)\n",
    "cleaning = cleaning[cleaning.value.map(lambda x: len(x) > 2)]\n",
    "\n",
    "cleaning['author_name_length'] = cleaning.value.map(lambda x: len(x))"
   ]
  },
  {
   "cell_type": "code",
   "execution_count": 21,
   "metadata": {},
   "outputs": [
    {
     "data": {
      "text/html": [
       "<div>\n",
       "<style scoped>\n",
       "    .dataframe tbody tr th:only-of-type {\n",
       "        vertical-align: middle;\n",
       "    }\n",
       "\n",
       "    .dataframe tbody tr th {\n",
       "        vertical-align: top;\n",
       "    }\n",
       "\n",
       "    .dataframe thead th {\n",
       "        text-align: right;\n",
       "    }\n",
       "</style>\n",
       "<table border=\"1\" class=\"dataframe\">\n",
       "  <thead>\n",
       "    <tr style=\"text-align: right;\">\n",
       "      <th></th>\n",
       "      <th>index</th>\n",
       "      <th>subject</th>\n",
       "      <th>iso</th>\n",
       "      <th>uri</th>\n",
       "      <th>type</th>\n",
       "      <th>publisher</th>\n",
       "      <th>title</th>\n",
       "      <th>issued</th>\n",
       "      <th>accessioned</th>\n",
       "      <th>citation</th>\n",
       "      <th>available</th>\n",
       "      <th>abstract</th>\n",
       "      <th>variable</th>\n",
       "      <th>value</th>\n",
       "      <th>author_name_length</th>\n",
       "    </tr>\n",
       "  </thead>\n",
       "  <tbody>\n",
       "  </tbody>\n",
       "</table>\n",
       "</div>"
      ],
      "text/plain": [
       "Empty DataFrame\n",
       "Columns: [index, subject, iso, uri, type, publisher, title, issued, accessioned, citation, available, abstract, variable, value, author_name_length]\n",
       "Index: []"
      ]
     },
     "execution_count": 21,
     "metadata": {},
     "output_type": "execute_result"
    }
   ],
   "source": [
    "cleaning[cleaning.author_name_length < 5]"
   ]
  },
  {
   "cell_type": "code",
   "execution_count": 22,
   "metadata": {},
   "outputs": [],
   "source": [
    "import re\n",
    "cleaning['author_order'] =cleaning.variable.map(lambda x: 0 if len(re.search('\\d*$', x).group(0)) == 0 else int(re.search('\\d*$', x).group(0)))"
   ]
  },
  {
   "cell_type": "code",
   "execution_count": 23,
   "metadata": {},
   "outputs": [],
   "source": [
    "del cleaning['variable']"
   ]
  },
  {
   "cell_type": "code",
   "execution_count": 24,
   "metadata": {},
   "outputs": [
    {
     "data": {
      "text/plain": [
       "<matplotlib.axes._subplots.AxesSubplot at 0x1a1a303128>"
      ]
     },
     "execution_count": 24,
     "metadata": {},
     "output_type": "execute_result"
    },
    {
     "data": {
      "image/png": "[encoded data removed]",
      "text/plain": [
       "<Figure size 432x288 with 1 Axes>"
      ]
     },
     "metadata": {
      "needs_background": "light"
     },
     "output_type": "display_data"
    }
   ],
   "source": [
    "cleaning.value.value_counts().head().plot(kind='bar')\n",
    "\n",
    "cleaning.publisher.value_counts().head().plot(kind='bar')\n",
    "\n",
    "cleaning.type.value_counts().head().plot(kind='bar')"
   ]
  },
  {
   "cell_type": "code",
   "execution_count": 25,
   "metadata": {},
   "outputs": [
    {
     "data": {
      "text/plain": [
       "import2017/113          24\n",
       "import2016short/167     20\n",
       "import2017/115          19\n",
       "import2017/114          18\n",
       "import2015short/1110    18\n",
       "import2017/117          18\n",
       "import2015short/1107    15\n",
       "import2016short/175     15\n",
       "import2015short/1103    14\n",
       "import2016short/176     13\n",
       "import2015short/1101    12\n",
       "import2016short/164     12\n",
       "import2016short/173     12\n",
       "import2015short/1116    12\n",
       "import2015short/1118    11\n",
       "import2016short/170     11\n",
       "import2017/43           10\n",
       "import2016short/177     10\n",
       "import2017/94           10\n",
       "import2016short/136     10\n",
       "import2016short/165     10\n",
       "import2015short/165     10\n",
       "import2017/116          10\n",
       "import2015full/165      10\n",
       "import2016short/150     10\n",
       "import2017/118          10\n",
       "import2015short/176      9\n",
       "import2016short/171      9\n",
       "import2015full/176       9\n",
       "import2016full/59        9\n",
       "                        ..\n",
       "import2017/88            1\n",
       "import2016short/113      1\n",
       "import2016full/30        1\n",
       "import2015full/154       1\n",
       "import2016full/85        1\n",
       "import2017/13            1\n",
       "import2016full/64        1\n",
       "import2016full/89        1\n",
       "import2016short/137      1\n",
       "import2015short/340      1\n",
       "import2016full/23        1\n",
       "import2016full/70        1\n",
       "import2017/109           1\n",
       "import2016short/134      1\n",
       "import2016full/41        1\n",
       "import2016full/8         1\n",
       "import2016short/152      1\n",
       "import2015full/340       1\n",
       "import2015short/139      1\n",
       "import2016full/22        1\n",
       "import2015full/105       1\n",
       "import2016full/20        1\n",
       "import2016full/24        1\n",
       "import2015short/137      1\n",
       "import2015short/154      1\n",
       "import2016full/75        1\n",
       "import2017/50            1\n",
       "import2016full/94        1\n",
       "import2015short/105      1\n",
       "import2016full/12        1\n",
       "Name: index, Length: 427, dtype: int64"
      ]
     },
     "execution_count": 25,
     "metadata": {},
     "output_type": "execute_result"
    }
   ],
   "source": [
    "cleaning['index'].value_counts()"
   ]
  },
  {
   "cell_type": "code",
   "execution_count": 26,
   "metadata": {},
   "outputs": [
    {
     "data": {
      "text/html": [
       "<div>\n",
       "<style scoped>\n",
       "    .dataframe tbody tr th:only-of-type {\n",
       "        vertical-align: middle;\n",
       "    }\n",
       "\n",
       "    .dataframe tbody tr th {\n",
       "        vertical-align: top;\n",
       "    }\n",
       "\n",
       "    .dataframe thead th {\n",
       "        text-align: right;\n",
       "    }\n",
       "</style>\n",
       "<table border=\"1\" class=\"dataframe\">\n",
       "  <thead>\n",
       "    <tr style=\"text-align: right;\">\n",
       "      <th></th>\n",
       "      <th>index</th>\n",
       "      <th>subject</th>\n",
       "      <th>iso</th>\n",
       "      <th>uri</th>\n",
       "      <th>type</th>\n",
       "      <th>publisher</th>\n",
       "      <th>title</th>\n",
       "      <th>issued</th>\n",
       "      <th>accessioned</th>\n",
       "      <th>citation</th>\n",
       "      <th>available</th>\n",
       "      <th>abstract</th>\n",
       "      <th>value</th>\n",
       "      <th>author_name_length</th>\n",
       "      <th>author_order</th>\n",
       "    </tr>\n",
       "  </thead>\n",
       "  <tbody>\n",
       "    <tr>\n",
       "      <th>165</th>\n",
       "      <td>import2016short/167</td>\n",
       "      <td></td>\n",
       "      <td>en</td>\n",
       "      <td>https://doi.dx.org/10.22318/icls2016.167</td>\n",
       "      <td>Book chapter</td>\n",
       "      <td>Singapore: International Society of the Learni...</td>\n",
       "      <td>Future Learning Spaces for Learning Communitie...</td>\n",
       "      <td>2016-07</td>\n",
       "      <td>2017-06-19 11:36:42+00:00</td>\n",
       "      <td>Hod, Y., Charles, E. S., Acosta, A., Ben-Zvi, ...</td>\n",
       "      <td>2017-06-19 11:36:42+00:00</td>\n",
       "      <td>This symposium presents our efforts to reconce...</td>\n",
       "      <td>Whittaker, Chris</td>\n",
       "      <td>16</td>\n",
       "      <td>16</td>\n",
       "    </tr>\n",
       "    <tr>\n",
       "      <th>281</th>\n",
       "      <td>import2015short/1110</td>\n",
       "      <td>[learning communities, networked society, design]</td>\n",
       "      <td>en</td>\n",
       "      <td>https://doi.dx.org/10.22318/cscl2015.1110</td>\n",
       "      <td>Book chapter</td>\n",
       "      <td>International Society of the Learning Science...</td>\n",
       "      <td>Technology-Enhanced Learning Communities on a ...</td>\n",
       "      <td>2015-07</td>\n",
       "      <td>2017-06-19 14:51:54+00:00</td>\n",
       "      <td>Kali, Y., Tabak, I., Ben-Zvi, D., Kidron, A., ...</td>\n",
       "      <td>2017-06-19 14:51:54+00:00</td>\n",
       "      <td>This symposium brings together the theoretical...</td>\n",
       "      <td>Hoadley, Christopher</td>\n",
       "      <td>20</td>\n",
       "      <td>16</td>\n",
       "    </tr>\n",
       "    <tr>\n",
       "      <th>372</th>\n",
       "      <td>import2017/117</td>\n",
       "      <td></td>\n",
       "      <td>en</td>\n",
       "      <td>https:dx.doi.org/10.22318/cscl2017.117</td>\n",
       "      <td>Book chapter</td>\n",
       "      <td>Philadelphia, PA: International Society of the...</td>\n",
       "      <td>Libraries as Emerging Spaces for Computer-Supp...</td>\n",
       "      <td>2017-07</td>\n",
       "      <td>2017-06-19 10:53:01+00:00</td>\n",
       "      <td>Lee, V. R., Tzou, C., Bang, M., Bell, P., Stro...</td>\n",
       "      <td>2017-06-19 10:53:01+00:00</td>\n",
       "      <td>Libraries are undergoing a reconceptualization...</td>\n",
       "      <td>Recker, Mimi</td>\n",
       "      <td>12</td>\n",
       "      <td>16</td>\n",
       "    </tr>\n",
       "    <tr>\n",
       "      <th>403</th>\n",
       "      <td>import2017/115</td>\n",
       "      <td></td>\n",
       "      <td>en</td>\n",
       "      <td>https:dx.doi.org/10.22318/cscl2017.115</td>\n",
       "      <td>Book chapter</td>\n",
       "      <td>Philadelphia, PA: International Society of the...</td>\n",
       "      <td>Technology and Applications for Collaborative ...</td>\n",
       "      <td>2017-07</td>\n",
       "      <td>2017-06-19 10:53:01+00:00</td>\n",
       "      <td>Greenwald, S. W., Kulik, A., Kunert, A., Beck,...</td>\n",
       "      <td>2017-06-19 10:53:01+00:00</td>\n",
       "      <td>In this symposium we explore the immense poten...</td>\n",
       "      <td>Lee, Victoria</td>\n",
       "      <td>13</td>\n",
       "      <td>16</td>\n",
       "    </tr>\n",
       "    <tr>\n",
       "      <th>419</th>\n",
       "      <td>import2017/114</td>\n",
       "      <td></td>\n",
       "      <td>en</td>\n",
       "      <td>https:dx.doi.org/10.22318/cscl2017.114</td>\n",
       "      <td>Book chapter</td>\n",
       "      <td>Philadelphia, PA: International Society of the...</td>\n",
       "      <td>Making a Difference: Analytics for Quality Kno...</td>\n",
       "      <td>2017-07</td>\n",
       "      <td>2017-06-19 10:53:01+00:00</td>\n",
       "      <td>de Jong, F., van den Ende, J., van Heijst, H.,...</td>\n",
       "      <td>2017-06-19 10:53:01+00:00</td>\n",
       "      <td>The symposium focuses on the analysis of the k...</td>\n",
       "      <td>Hmelo-Silver, Cindy</td>\n",
       "      <td>19</td>\n",
       "      <td>16</td>\n",
       "    </tr>\n",
       "  </tbody>\n",
       "</table>\n",
       "</div>"
      ],
      "text/plain": [
       "                    index                                            subject  \\\n",
       "165   import2016short/167                                                      \n",
       "281  import2015short/1110  [learning communities, networked society, design]   \n",
       "372        import2017/117                                                      \n",
       "403        import2017/115                                                      \n",
       "419        import2017/114                                                      \n",
       "\n",
       "    iso                                        uri          type  \\\n",
       "165  en   https://doi.dx.org/10.22318/icls2016.167  Book chapter   \n",
       "281  en  https://doi.dx.org/10.22318/cscl2015.1110  Book chapter   \n",
       "372  en     https:dx.doi.org/10.22318/cscl2017.117  Book chapter   \n",
       "403  en     https:dx.doi.org/10.22318/cscl2017.115  Book chapter   \n",
       "419  en     https:dx.doi.org/10.22318/cscl2017.114  Book chapter   \n",
       "\n",
       "                                             publisher  \\\n",
       "165  Singapore: International Society of the Learni...   \n",
       "281   International Society of the Learning Science...   \n",
       "372  Philadelphia, PA: International Society of the...   \n",
       "403  Philadelphia, PA: International Society of the...   \n",
       "419  Philadelphia, PA: International Society of the...   \n",
       "\n",
       "                                                 title   issued  \\\n",
       "165  Future Learning Spaces for Learning Communitie...  2016-07   \n",
       "281  Technology-Enhanced Learning Communities on a ...  2015-07   \n",
       "372  Libraries as Emerging Spaces for Computer-Supp...  2017-07   \n",
       "403  Technology and Applications for Collaborative ...  2017-07   \n",
       "419  Making a Difference: Analytics for Quality Kno...  2017-07   \n",
       "\n",
       "                  accessioned  \\\n",
       "165 2017-06-19 11:36:42+00:00   \n",
       "281 2017-06-19 14:51:54+00:00   \n",
       "372 2017-06-19 10:53:01+00:00   \n",
       "403 2017-06-19 10:53:01+00:00   \n",
       "419 2017-06-19 10:53:01+00:00   \n",
       "\n",
       "                                              citation  \\\n",
       "165  Hod, Y., Charles, E. S., Acosta, A., Ben-Zvi, ...   \n",
       "281  Kali, Y., Tabak, I., Ben-Zvi, D., Kidron, A., ...   \n",
       "372  Lee, V. R., Tzou, C., Bang, M., Bell, P., Stro...   \n",
       "403  Greenwald, S. W., Kulik, A., Kunert, A., Beck,...   \n",
       "419  de Jong, F., van den Ende, J., van Heijst, H.,...   \n",
       "\n",
       "                    available  \\\n",
       "165 2017-06-19 11:36:42+00:00   \n",
       "281 2017-06-19 14:51:54+00:00   \n",
       "372 2017-06-19 10:53:01+00:00   \n",
       "403 2017-06-19 10:53:01+00:00   \n",
       "419 2017-06-19 10:53:01+00:00   \n",
       "\n",
       "                                              abstract                 value  \\\n",
       "165  This symposium presents our efforts to reconce...      Whittaker, Chris   \n",
       "281  This symposium brings together the theoretical...  Hoadley, Christopher   \n",
       "372  Libraries are undergoing a reconceptualization...          Recker, Mimi   \n",
       "403  In this symposium we explore the immense poten...         Lee, Victoria   \n",
       "419  The symposium focuses on the analysis of the k...   Hmelo-Silver, Cindy   \n",
       "\n",
       "     author_name_length  author_order  \n",
       "165                  16            16  \n",
       "281                  20            16  \n",
       "372                  12            16  \n",
       "403                  13            16  \n",
       "419                  19            16  "
      ]
     },
     "execution_count": 26,
     "metadata": {},
     "output_type": "execute_result"
    }
   ],
   "source": [
    "cleaning.head()"
   ]
  },
  {
   "cell_type": "markdown",
   "metadata": {},
   "source": [
    "# Now parse citation to get the shortened name (which can be matched to refrences)"
   ]
  },
  {
   "cell_type": "code",
   "execution_count": 27,
   "metadata": {},
   "outputs": [],
   "source": [
    "import numpy as np\n",
    "import regex #"
   ]
  },
  {
   "cell_type": "code",
   "execution_count": 28,
   "metadata": {},
   "outputs": [],
   "source": [
    "get_names = r'([\\w\\-\\&]*[\\,] [\\p{Lu}\\.\\ ]+[\\&\\,]?)'\n",
    "\n",
    "cleaning.reset_index(drop=True, inplace=True)\n",
    "\n",
    "cleaning['shortend_names'] = cleaning.citation.map(lambda x: re.match(r'[\\S\\s]*\\(\\d{4}\\)', x, re.U)\\\n",
    "                                                   .group(0)).map(lambda x: [x.replace(',', '').replace('&', '').rstrip() for x in regex.findall(get_names, x)])\n",
    "\n",
    "cleaning['shortend_names'] = cleaning.apply(lambda x: x['shortend_names'][x['author_order']], axis=1)"
   ]
  },
  {
   "cell_type": "code",
   "execution_count": 29,
   "metadata": {},
   "outputs": [],
   "source": [
    "cleaning.rename(columns={'index': 'file'}, inplace=True)"
   ]
  },
  {
   "cell_type": "code",
   "execution_count": 30,
   "metadata": {},
   "outputs": [],
   "source": [
    "cleaning.to_csv('data/Parsed_metadata.csv')"
   ]
  },
  {
   "cell_type": "code",
   "execution_count": 31,
   "metadata": {},
   "outputs": [],
   "source": [
    "cleaning['merge_index'] = cleaning.apply(lambda x: x['file']+str(x['author_order']), axis=1)"
   ]
  },
  {
   "cell_type": "markdown",
   "metadata": {},
   "source": [
    "# Merging with universities to associated email with name?\n",
    "## not perfectly possible, but may not need perfect merge"
   ]
  },
  {
   "cell_type": "code",
   "execution_count": 32,
   "metadata": {},
   "outputs": [],
   "source": [
    "universities = pd.read_csv('data/Universities.csv', index_col=0)"
   ]
  },
  {
   "cell_type": "code",
   "execution_count": 33,
   "metadata": {},
   "outputs": [
    {
     "data": {
      "text/html": [
       "<div>\n",
       "<style scoped>\n",
       "    .dataframe tbody tr th:only-of-type {\n",
       "        vertical-align: middle;\n",
       "    }\n",
       "\n",
       "    .dataframe tbody tr th {\n",
       "        vertical-align: top;\n",
       "    }\n",
       "\n",
       "    .dataframe thead th {\n",
       "        text-align: right;\n",
       "    }\n",
       "</style>\n",
       "<table border=\"1\" class=\"dataframe\">\n",
       "  <thead>\n",
       "    <tr style=\"text-align: right;\">\n",
       "      <th></th>\n",
       "      <th>name</th>\n",
       "      <th>domain</th>\n",
       "      <th>mail</th>\n",
       "      <th>authorindex</th>\n",
       "      <th>file</th>\n",
       "      <th>country</th>\n",
       "    </tr>\n",
       "  </thead>\n",
       "  <tbody>\n",
       "    <tr>\n",
       "      <th>0</th>\n",
       "      <td>University of California, Berkeley</td>\n",
       "      <td>berkeley.edu</td>\n",
       "      <td>dor@berkeley.edu</td>\n",
       "      <td>0</td>\n",
       "      <td>import2016full/61</td>\n",
       "      <td>United States</td>\n",
       "    </tr>\n",
       "    <tr>\n",
       "      <th>1</th>\n",
       "      <td>Utrecht University</td>\n",
       "      <td>uu.nl</td>\n",
       "      <td>s.shayan@uu.nl</td>\n",
       "      <td>1</td>\n",
       "      <td>import2016full/61</td>\n",
       "      <td>Netherlands</td>\n",
       "    </tr>\n",
       "    <tr>\n",
       "      <th>2</th>\n",
       "      <td>Utrecht University</td>\n",
       "      <td>uu.nl</td>\n",
       "      <td>A.Bakker4@uu.nl</td>\n",
       "      <td>2</td>\n",
       "      <td>import2016full/61</td>\n",
       "      <td>Netherlands</td>\n",
       "    </tr>\n",
       "    <tr>\n",
       "      <th>3</th>\n",
       "      <td>Utrecht University</td>\n",
       "      <td>uu.nl</td>\n",
       "      <td>M.F.vanderSchaaf@uu.nl</td>\n",
       "      <td>3</td>\n",
       "      <td>import2016full/61</td>\n",
       "      <td>Netherlands</td>\n",
       "    </tr>\n",
       "    <tr>\n",
       "      <th>4</th>\n",
       "      <td>University of California, Los Angeles</td>\n",
       "      <td>ucla.edu</td>\n",
       "      <td>deliema@g.ucla.edu</td>\n",
       "      <td>0</td>\n",
       "      <td>import2016full/59</td>\n",
       "      <td>United States</td>\n",
       "    </tr>\n",
       "  </tbody>\n",
       "</table>\n",
       "</div>"
      ],
      "text/plain": [
       "                                    name        domain  \\\n",
       "0     University of California, Berkeley  berkeley.edu   \n",
       "1                     Utrecht University         uu.nl   \n",
       "2                     Utrecht University         uu.nl   \n",
       "3                     Utrecht University         uu.nl   \n",
       "4  University of California, Los Angeles      ucla.edu   \n",
       "\n",
       "                     mail  authorindex               file        country  \n",
       "0        dor@berkeley.edu            0  import2016full/61  United States  \n",
       "1          s.shayan@uu.nl            1  import2016full/61    Netherlands  \n",
       "2         A.Bakker4@uu.nl            2  import2016full/61    Netherlands  \n",
       "3  M.F.vanderSchaaf@uu.nl            3  import2016full/61    Netherlands  \n",
       "4      deliema@g.ucla.edu            0  import2016full/59  United States  "
      ]
     },
     "execution_count": 33,
     "metadata": {},
     "output_type": "execute_result"
    }
   ],
   "source": [
    "universities.head()"
   ]
  },
  {
   "cell_type": "code",
   "execution_count": 34,
   "metadata": {},
   "outputs": [],
   "source": [
    "universities['merge_index'] = universities.apply(lambda x: x['file']+str(x['authorindex']), axis=1)"
   ]
  },
  {
   "cell_type": "code",
   "execution_count": 35,
   "metadata": {},
   "outputs": [
    {
     "data": {
      "text/html": [
       "<div>\n",
       "<style scoped>\n",
       "    .dataframe tbody tr th:only-of-type {\n",
       "        vertical-align: middle;\n",
       "    }\n",
       "\n",
       "    .dataframe tbody tr th {\n",
       "        vertical-align: top;\n",
       "    }\n",
       "\n",
       "    .dataframe thead th {\n",
       "        text-align: right;\n",
       "    }\n",
       "</style>\n",
       "<table border=\"1\" class=\"dataframe\">\n",
       "  <thead>\n",
       "    <tr style=\"text-align: right;\">\n",
       "      <th></th>\n",
       "      <th>name</th>\n",
       "      <th>domain</th>\n",
       "      <th>mail</th>\n",
       "      <th>authorindex</th>\n",
       "      <th>file_x</th>\n",
       "      <th>country</th>\n",
       "      <th>merge_index</th>\n",
       "      <th>file_y</th>\n",
       "      <th>subject</th>\n",
       "      <th>iso</th>\n",
       "      <th>...</th>\n",
       "      <th>title</th>\n",
       "      <th>issued</th>\n",
       "      <th>accessioned</th>\n",
       "      <th>citation</th>\n",
       "      <th>available</th>\n",
       "      <th>abstract</th>\n",
       "      <th>value</th>\n",
       "      <th>author_name_length</th>\n",
       "      <th>author_order</th>\n",
       "      <th>shortend_names</th>\n",
       "    </tr>\n",
       "  </thead>\n",
       "  <tbody>\n",
       "    <tr>\n",
       "      <th>1005</th>\n",
       "      <td>University of Oulu</td>\n",
       "      <td>oulu.fi</td>\n",
       "      <td>hanna.jarvenoja@oulu.fi</td>\n",
       "      <td>2</td>\n",
       "      <td>import2015short/367</td>\n",
       "      <td>Finland</td>\n",
       "      <td>import2015short/3672</td>\n",
       "      <td>import2015short/367</td>\n",
       "      <td>[socically shared regulation, regulation tools...</td>\n",
       "      <td>en</td>\n",
       "      <td>...</td>\n",
       "      <td>Designing Simple Tools for Socially Shared Reg...</td>\n",
       "      <td>2015-07</td>\n",
       "      <td>2017-06-19 14:15:51+00:00</td>\n",
       "      <td>Laru, J., Malmberg, J., Järvenoja, H., Sareni...</td>\n",
       "      <td>2017-06-19 14:15:51+00:00</td>\n",
       "      <td>The aim of this paper is to describe how simpl...</td>\n",
       "      <td>Järvenoja, Hanna</td>\n",
       "      <td>17</td>\n",
       "      <td>2</td>\n",
       "      <td>Järvenoja H.</td>\n",
       "    </tr>\n",
       "    <tr>\n",
       "      <th>857</th>\n",
       "      <td>Universität Duisburg-Essen</td>\n",
       "      <td>uni-due.de</td>\n",
       "      <td>german.neubaum@uni-due.de</td>\n",
       "      <td>1</td>\n",
       "      <td>import2015short/364</td>\n",
       "      <td>Germany</td>\n",
       "      <td>import2015short/3641</td>\n",
       "      <td>import2015short/364</td>\n",
       "      <td>[large online courses, learning analytics, stu...</td>\n",
       "      <td>en</td>\n",
       "      <td>...</td>\n",
       "      <td>Resource Usage in Online Courses: Analyzing Le...</td>\n",
       "      <td>2015-07</td>\n",
       "      <td>2017-06-19 14:15:51+00:00</td>\n",
       "      <td>Ziebarth, S., Neubaum, G., Kyewski, E., Kräme...</td>\n",
       "      <td>2017-06-19 14:15:51+00:00</td>\n",
       "      <td>The paper analyzes the experience with an open...</td>\n",
       "      <td>Neubaum, German</td>\n",
       "      <td>15</td>\n",
       "      <td>1</td>\n",
       "      <td>Neubaum G.</td>\n",
       "    </tr>\n",
       "    <tr>\n",
       "      <th>950</th>\n",
       "      <td>State University of New York at Albany</td>\n",
       "      <td>albany.edu</td>\n",
       "      <td>jzhang1@albany.edu</td>\n",
       "      <td>1</td>\n",
       "      <td>import2015short/382</td>\n",
       "      <td>United States</td>\n",
       "      <td>import2015short/3821</td>\n",
       "      <td>import2015short/382</td>\n",
       "      <td>[knowledge building, long-term trajectory, soc...</td>\n",
       "      <td>en</td>\n",
       "      <td>...</td>\n",
       "      <td>How Did a Grade 5 Community Formulate Progress...</td>\n",
       "      <td>2015-07</td>\n",
       "      <td>2017-06-19 14:15:51+00:00</td>\n",
       "      <td>Tao, D., Zhang, J., &amp; Huang, Y. (2015). How Di...</td>\n",
       "      <td>2017-06-19 14:15:51+00:00</td>\n",
       "      <td>This research explores the metacognitive and d...</td>\n",
       "      <td>Zhang, Jianwei</td>\n",
       "      <td>14</td>\n",
       "      <td>1</td>\n",
       "      <td>Zhang J.</td>\n",
       "    </tr>\n",
       "    <tr>\n",
       "      <th>589</th>\n",
       "      <td>University of Colorado at Boulder</td>\n",
       "      <td>colorado.edu</td>\n",
       "      <td>katie.vanhorne@colorado.edu</td>\n",
       "      <td>1</td>\n",
       "      <td>import2016short/120</td>\n",
       "      <td>United States</td>\n",
       "      <td>import2016short/1201</td>\n",
       "      <td>import2016short/120</td>\n",
       "      <td></td>\n",
       "      <td>en</td>\n",
       "      <td>...</td>\n",
       "      <td>Students’ Responses to Curricular Activities a...</td>\n",
       "      <td>2016-07</td>\n",
       "      <td>2017-06-19 11:35:43+00:00</td>\n",
       "      <td>Penuel, W., Van Horne, K., Severance, S., Quig...</td>\n",
       "      <td>2017-06-19 11:35:43+00:00</td>\n",
       "      <td>Project-based learning seeks to engage student...</td>\n",
       "      <td>Van Horne, Katie</td>\n",
       "      <td>16</td>\n",
       "      <td>1</td>\n",
       "      <td>Horne K.</td>\n",
       "    </tr>\n",
       "    <tr>\n",
       "      <th>579</th>\n",
       "      <td>University of Jyväskylä</td>\n",
       "      <td>jyu.fi</td>\n",
       "      <td>arto.k.ahonen@jyu.fi</td>\n",
       "      <td>4</td>\n",
       "      <td>import2016short/116</td>\n",
       "      <td>Finland</td>\n",
       "      <td>import2016short/1164</td>\n",
       "      <td>import2016short/116</td>\n",
       "      <td></td>\n",
       "      <td>en</td>\n",
       "      <td>...</td>\n",
       "      <td>Tracking Student Teachers’ Technology-Enhanced...</td>\n",
       "      <td>2016-07</td>\n",
       "      <td>2017-06-19 11:35:38+00:00</td>\n",
       "      <td>Pöysä-Tarhonen, J., Care, E., Awwal, N., Häkki...</td>\n",
       "      <td>2017-06-19 11:35:38+00:00</td>\n",
       "      <td>In spite of increasing interest, technology-en...</td>\n",
       "      <td>Ahonen, Arto K.</td>\n",
       "      <td>15</td>\n",
       "      <td>4</td>\n",
       "      <td>Ahonen A. K.</td>\n",
       "    </tr>\n",
       "  </tbody>\n",
       "</table>\n",
       "<p>5 rows × 23 columns</p>\n",
       "</div>"
      ],
      "text/plain": [
       "                                        name        domain  \\\n",
       "1005                      University of Oulu       oulu.fi   \n",
       "857               Universität Duisburg-Essen    uni-due.de   \n",
       "950   State University of New York at Albany    albany.edu   \n",
       "589        University of Colorado at Boulder  colorado.edu   \n",
       "579                  University of Jyväskylä        jyu.fi   \n",
       "\n",
       "                             mail  authorindex               file_x  \\\n",
       "1005      hanna.jarvenoja@oulu.fi            2  import2015short/367   \n",
       "857     german.neubaum@uni-due.de            1  import2015short/364   \n",
       "950            jzhang1@albany.edu            1  import2015short/382   \n",
       "589   katie.vanhorne@colorado.edu            1  import2016short/120   \n",
       "579          arto.k.ahonen@jyu.fi            4  import2016short/116   \n",
       "\n",
       "            country           merge_index               file_y  \\\n",
       "1005        Finland  import2015short/3672  import2015short/367   \n",
       "857         Germany  import2015short/3641  import2015short/364   \n",
       "950   United States  import2015short/3821  import2015short/382   \n",
       "589   United States  import2016short/1201  import2016short/120   \n",
       "579         Finland  import2016short/1164  import2016short/116   \n",
       "\n",
       "                                                subject iso      ...        \\\n",
       "1005  [socically shared regulation, regulation tools...  en      ...         \n",
       "857   [large online courses, learning analytics, stu...  en      ...         \n",
       "950   [knowledge building, long-term trajectory, soc...  en      ...         \n",
       "589                                                      en      ...         \n",
       "579                                                      en      ...         \n",
       "\n",
       "                                                  title   issued  \\\n",
       "1005  Designing Simple Tools for Socially Shared Reg...  2015-07   \n",
       "857   Resource Usage in Online Courses: Analyzing Le...  2015-07   \n",
       "950   How Did a Grade 5 Community Formulate Progress...  2015-07   \n",
       "589   Students’ Responses to Curricular Activities a...  2016-07   \n",
       "579   Tracking Student Teachers’ Technology-Enhanced...  2016-07   \n",
       "\n",
       "                   accessioned  \\\n",
       "1005 2017-06-19 14:15:51+00:00   \n",
       "857  2017-06-19 14:15:51+00:00   \n",
       "950  2017-06-19 14:15:51+00:00   \n",
       "589  2017-06-19 11:35:43+00:00   \n",
       "579  2017-06-19 11:35:38+00:00   \n",
       "\n",
       "                                               citation  \\\n",
       "1005  Laru, J., Malmberg, J., Järvenoja, H., Sareni...   \n",
       "857   Ziebarth, S., Neubaum, G., Kyewski, E., Kräme...   \n",
       "950   Tao, D., Zhang, J., & Huang, Y. (2015). How Di...   \n",
       "589   Penuel, W., Van Horne, K., Severance, S., Quig...   \n",
       "579   Pöysä-Tarhonen, J., Care, E., Awwal, N., Häkki...   \n",
       "\n",
       "                     available  \\\n",
       "1005 2017-06-19 14:15:51+00:00   \n",
       "857  2017-06-19 14:15:51+00:00   \n",
       "950  2017-06-19 14:15:51+00:00   \n",
       "589  2017-06-19 11:35:43+00:00   \n",
       "579  2017-06-19 11:35:38+00:00   \n",
       "\n",
       "                                               abstract              value  \\\n",
       "1005  The aim of this paper is to describe how simpl...  Järvenoja, Hanna   \n",
       "857   The paper analyzes the experience with an open...    Neubaum, German   \n",
       "950   This research explores the metacognitive and d...     Zhang, Jianwei   \n",
       "589   Project-based learning seeks to engage student...   Van Horne, Katie   \n",
       "579   In spite of increasing interest, technology-en...    Ahonen, Arto K.   \n",
       "\n",
       "     author_name_length author_order shortend_names  \n",
       "1005                 17            2  Järvenoja H.  \n",
       "857                  15            1     Neubaum G.  \n",
       "950                  14            1       Zhang J.  \n",
       "589                  16            1       Horne K.  \n",
       "579                  15            4   Ahonen A. K.  \n",
       "\n",
       "[5 rows x 23 columns]"
      ]
     },
     "execution_count": 35,
     "metadata": {},
     "output_type": "execute_result"
    }
   ],
   "source": [
    "pd.merge(universities, cleaning, on='merge_index').sample(5)"
   ]
  },
  {
   "cell_type": "code",
   "execution_count": 36,
   "metadata": {},
   "outputs": [
    {
     "data": {
      "text/html": [
       "<div>\n",
       "<style scoped>\n",
       "    .dataframe tbody tr th:only-of-type {\n",
       "        vertical-align: middle;\n",
       "    }\n",
       "\n",
       "    .dataframe tbody tr th {\n",
       "        vertical-align: top;\n",
       "    }\n",
       "\n",
       "    .dataframe thead th {\n",
       "        text-align: right;\n",
       "    }\n",
       "</style>\n",
       "<table border=\"1\" class=\"dataframe\">\n",
       "  <thead>\n",
       "    <tr style=\"text-align: right;\">\n",
       "      <th></th>\n",
       "      <th>file</th>\n",
       "      <th>subject</th>\n",
       "      <th>iso</th>\n",
       "      <th>uri</th>\n",
       "      <th>type</th>\n",
       "      <th>publisher</th>\n",
       "      <th>title</th>\n",
       "      <th>issued</th>\n",
       "      <th>accessioned</th>\n",
       "      <th>citation</th>\n",
       "      <th>available</th>\n",
       "      <th>abstract</th>\n",
       "      <th>value</th>\n",
       "      <th>author_name_length</th>\n",
       "      <th>author_order</th>\n",
       "      <th>shortend_names</th>\n",
       "      <th>merge_index</th>\n",
       "    </tr>\n",
       "  </thead>\n",
       "  <tbody>\n",
       "    <tr>\n",
       "      <th>116</th>\n",
       "      <td>import2016short/145</td>\n",
       "      <td></td>\n",
       "      <td>en</td>\n",
       "      <td>https://doi.dx.org/10.22318/icls2016.145</td>\n",
       "      <td>Book chapter</td>\n",
       "      <td>Singapore: International Society of the Learni...</td>\n",
       "      <td>Iterative Curricular Design of Collaborative I...</td>\n",
       "      <td>2016-07</td>\n",
       "      <td>2017-06-19 11:36:13+00:00</td>\n",
       "      <td>Sommer, S., Graville-Smith, C., Hinojosa, L., ...</td>\n",
       "      <td>2017-06-19 11:36:13+00:00</td>\n",
       "      <td>This short report describes the design and imp...</td>\n",
       "      <td>Hinojosa, Leighanna</td>\n",
       "      <td>19</td>\n",
       "      <td>2</td>\n",
       "      <td>Hinojosa L.</td>\n",
       "      <td>import2016short/1452</td>\n",
       "    </tr>\n",
       "    <tr>\n",
       "      <th>521</th>\n",
       "      <td>import2016short/145</td>\n",
       "      <td></td>\n",
       "      <td>en</td>\n",
       "      <td>https://doi.dx.org/10.22318/icls2016.145</td>\n",
       "      <td>Book chapter</td>\n",
       "      <td>Singapore: International Society of the Learni...</td>\n",
       "      <td>Iterative Curricular Design of Collaborative I...</td>\n",
       "      <td>2016-07</td>\n",
       "      <td>2017-06-19 11:36:13+00:00</td>\n",
       "      <td>Sommer, S., Graville-Smith, C., Hinojosa, L., ...</td>\n",
       "      <td>2017-06-19 11:36:13+00:00</td>\n",
       "      <td>This short report describes the design and imp...</td>\n",
       "      <td>Graville-Smith, Cynthia</td>\n",
       "      <td>23</td>\n",
       "      <td>1</td>\n",
       "      <td>Graville-Smith C.</td>\n",
       "      <td>import2016short/1451</td>\n",
       "    </tr>\n",
       "    <tr>\n",
       "      <th>836</th>\n",
       "      <td>import2016short/145</td>\n",
       "      <td></td>\n",
       "      <td>en</td>\n",
       "      <td>https://doi.dx.org/10.22318/icls2016.145</td>\n",
       "      <td>Book chapter</td>\n",
       "      <td>Singapore: International Society of the Learni...</td>\n",
       "      <td>Iterative Curricular Design of Collaborative I...</td>\n",
       "      <td>2016-07</td>\n",
       "      <td>2017-06-19 11:36:13+00:00</td>\n",
       "      <td>Sommer, S., Graville-Smith, C., Hinojosa, L., ...</td>\n",
       "      <td>2017-06-19 11:36:13+00:00</td>\n",
       "      <td>This short report describes the design and imp...</td>\n",
       "      <td>Polman, Joseph</td>\n",
       "      <td>14</td>\n",
       "      <td>3</td>\n",
       "      <td>Polman J.</td>\n",
       "      <td>import2016short/1453</td>\n",
       "    </tr>\n",
       "    <tr>\n",
       "      <th>1264</th>\n",
       "      <td>import2016short/145</td>\n",
       "      <td></td>\n",
       "      <td>en</td>\n",
       "      <td>https://doi.dx.org/10.22318/icls2016.145</td>\n",
       "      <td>Book chapter</td>\n",
       "      <td>Singapore: International Society of the Learni...</td>\n",
       "      <td>Iterative Curricular Design of Collaborative I...</td>\n",
       "      <td>2016-07</td>\n",
       "      <td>2017-06-19 11:36:13+00:00</td>\n",
       "      <td>Sommer, S., Graville-Smith, C., Hinojosa, L., ...</td>\n",
       "      <td>2017-06-19 11:36:13+00:00</td>\n",
       "      <td>This short report describes the design and imp...</td>\n",
       "      <td>Sommer, Stephen</td>\n",
       "      <td>15</td>\n",
       "      <td>0</td>\n",
       "      <td>Sommer S.</td>\n",
       "      <td>import2016short/1450</td>\n",
       "    </tr>\n",
       "  </tbody>\n",
       "</table>\n",
       "</div>"
      ],
      "text/plain": [
       "                     file subject iso  \\\n",
       "116   import2016short/145          en   \n",
       "521   import2016short/145          en   \n",
       "836   import2016short/145          en   \n",
       "1264  import2016short/145          en   \n",
       "\n",
       "                                           uri          type  \\\n",
       "116   https://doi.dx.org/10.22318/icls2016.145  Book chapter   \n",
       "521   https://doi.dx.org/10.22318/icls2016.145  Book chapter   \n",
       "836   https://doi.dx.org/10.22318/icls2016.145  Book chapter   \n",
       "1264  https://doi.dx.org/10.22318/icls2016.145  Book chapter   \n",
       "\n",
       "                                              publisher  \\\n",
       "116   Singapore: International Society of the Learni...   \n",
       "521   Singapore: International Society of the Learni...   \n",
       "836   Singapore: International Society of the Learni...   \n",
       "1264  Singapore: International Society of the Learni...   \n",
       "\n",
       "                                                  title   issued  \\\n",
       "116   Iterative Curricular Design of Collaborative I...  2016-07   \n",
       "521   Iterative Curricular Design of Collaborative I...  2016-07   \n",
       "836   Iterative Curricular Design of Collaborative I...  2016-07   \n",
       "1264  Iterative Curricular Design of Collaborative I...  2016-07   \n",
       "\n",
       "                   accessioned  \\\n",
       "116  2017-06-19 11:36:13+00:00   \n",
       "521  2017-06-19 11:36:13+00:00   \n",
       "836  2017-06-19 11:36:13+00:00   \n",
       "1264 2017-06-19 11:36:13+00:00   \n",
       "\n",
       "                                               citation  \\\n",
       "116   Sommer, S., Graville-Smith, C., Hinojosa, L., ...   \n",
       "521   Sommer, S., Graville-Smith, C., Hinojosa, L., ...   \n",
       "836   Sommer, S., Graville-Smith, C., Hinojosa, L., ...   \n",
       "1264  Sommer, S., Graville-Smith, C., Hinojosa, L., ...   \n",
       "\n",
       "                     available  \\\n",
       "116  2017-06-19 11:36:13+00:00   \n",
       "521  2017-06-19 11:36:13+00:00   \n",
       "836  2017-06-19 11:36:13+00:00   \n",
       "1264 2017-06-19 11:36:13+00:00   \n",
       "\n",
       "                                               abstract  \\\n",
       "116   This short report describes the design and imp...   \n",
       "521   This short report describes the design and imp...   \n",
       "836   This short report describes the design and imp...   \n",
       "1264  This short report describes the design and imp...   \n",
       "\n",
       "                        value  author_name_length  author_order  \\\n",
       "116       Hinojosa, Leighanna                  19             2   \n",
       "521   Graville-Smith, Cynthia                  23             1   \n",
       "836            Polman, Joseph                  14             3   \n",
       "1264          Sommer, Stephen                  15             0   \n",
       "\n",
       "         shortend_names           merge_index  \n",
       "116         Hinojosa L.  import2016short/1452  \n",
       "521   Graville-Smith C.  import2016short/1451  \n",
       "836           Polman J.  import2016short/1453  \n",
       "1264          Sommer S.  import2016short/1450  "
      ]
     },
     "execution_count": 36,
     "metadata": {},
     "output_type": "execute_result"
    }
   ],
   "source": [
    "cleaning[cleaning.file == 'import2016short/145']"
   ]
  },
  {
   "cell_type": "code",
   "execution_count": 37,
   "metadata": {},
   "outputs": [
    {
     "data": {
      "text/html": [
       "<div>\n",
       "<style scoped>\n",
       "    .dataframe tbody tr th:only-of-type {\n",
       "        vertical-align: middle;\n",
       "    }\n",
       "\n",
       "    .dataframe tbody tr th {\n",
       "        vertical-align: top;\n",
       "    }\n",
       "\n",
       "    .dataframe thead th {\n",
       "        text-align: right;\n",
       "    }\n",
       "</style>\n",
       "<table border=\"1\" class=\"dataframe\">\n",
       "  <thead>\n",
       "    <tr style=\"text-align: right;\">\n",
       "      <th></th>\n",
       "      <th>name</th>\n",
       "      <th>domain</th>\n",
       "      <th>mail</th>\n",
       "      <th>authorindex</th>\n",
       "      <th>file</th>\n",
       "      <th>country</th>\n",
       "      <th>merge_index</th>\n",
       "    </tr>\n",
       "  </thead>\n",
       "  <tbody>\n",
       "    <tr>\n",
       "      <th>567</th>\n",
       "      <td>University of Colorado at Boulder</td>\n",
       "      <td>colorado.edu</td>\n",
       "      <td>Stephen.Sommer@Colorado.edu</td>\n",
       "      <td>0</td>\n",
       "      <td>import2016short/145</td>\n",
       "      <td>United States</td>\n",
       "      <td>import2016short/1450</td>\n",
       "    </tr>\n",
       "    <tr>\n",
       "      <th>568</th>\n",
       "      <td>Saint Louis University</td>\n",
       "      <td>slu.edu</td>\n",
       "      <td>cgravill@slu.edu</td>\n",
       "      <td>1</td>\n",
       "      <td>import2016short/145</td>\n",
       "      <td>United States</td>\n",
       "      <td>import2016short/1451</td>\n",
       "    </tr>\n",
       "    <tr>\n",
       "      <th>569</th>\n",
       "      <td>University of Colorado at Boulder</td>\n",
       "      <td>colorado.edu</td>\n",
       "      <td>Joseph.Polman@Colorado.edu</td>\n",
       "      <td>2</td>\n",
       "      <td>import2016short/145</td>\n",
       "      <td>United States</td>\n",
       "      <td>import2016short/1452</td>\n",
       "    </tr>\n",
       "    <tr>\n",
       "      <th>570</th>\n",
       "      <td>University of Colorado at Boulder</td>\n",
       "      <td>colorado.edu</td>\n",
       "      <td>Leighanna.Hinojosa@Colorado.edu</td>\n",
       "      <td>3</td>\n",
       "      <td>import2016short/145</td>\n",
       "      <td>United States</td>\n",
       "      <td>import2016short/1453</td>\n",
       "    </tr>\n",
       "    <tr>\n",
       "      <th>571</th>\n",
       "      <td>gmail</td>\n",
       "      <td>gmail.com</td>\n",
       "      <td>jakita.owensby@gmail.com</td>\n",
       "      <td>4</td>\n",
       "      <td>import2016short/145</td>\n",
       "      <td>NaN</td>\n",
       "      <td>import2016short/1454</td>\n",
       "    </tr>\n",
       "    <tr>\n",
       "      <th>572</th>\n",
       "      <td>gmail</td>\n",
       "      <td>gmail.com</td>\n",
       "      <td>rachellecelisse@gmail.com</td>\n",
       "      <td>5</td>\n",
       "      <td>import2016short/145</td>\n",
       "      <td>NaN</td>\n",
       "      <td>import2016short/1455</td>\n",
       "    </tr>\n",
       "    <tr>\n",
       "      <th>573</th>\n",
       "      <td>spelman</td>\n",
       "      <td>scmail.spelman.edu</td>\n",
       "      <td>oodemwi1@scmail.spelman.edu</td>\n",
       "      <td>6</td>\n",
       "      <td>import2016short/145</td>\n",
       "      <td>NaN</td>\n",
       "      <td>import2016short/1456</td>\n",
       "    </tr>\n",
       "  </tbody>\n",
       "</table>\n",
       "</div>"
      ],
      "text/plain": [
       "                                  name              domain  \\\n",
       "567  University of Colorado at Boulder        colorado.edu   \n",
       "568             Saint Louis University             slu.edu   \n",
       "569  University of Colorado at Boulder        colorado.edu   \n",
       "570  University of Colorado at Boulder        colorado.edu   \n",
       "571                              gmail           gmail.com   \n",
       "572                              gmail           gmail.com   \n",
       "573                            spelman  scmail.spelman.edu   \n",
       "\n",
       "                                mail  authorindex                 file  \\\n",
       "567      Stephen.Sommer@Colorado.edu            0  import2016short/145   \n",
       "568                 cgravill@slu.edu            1  import2016short/145   \n",
       "569       Joseph.Polman@Colorado.edu            2  import2016short/145   \n",
       "570  Leighanna.Hinojosa@Colorado.edu            3  import2016short/145   \n",
       "571         jakita.owensby@gmail.com            4  import2016short/145   \n",
       "572        rachellecelisse@gmail.com            5  import2016short/145   \n",
       "573      oodemwi1@scmail.spelman.edu            6  import2016short/145   \n",
       "\n",
       "           country           merge_index  \n",
       "567  United States  import2016short/1450  \n",
       "568  United States  import2016short/1451  \n",
       "569  United States  import2016short/1452  \n",
       "570  United States  import2016short/1453  \n",
       "571            NaN  import2016short/1454  \n",
       "572            NaN  import2016short/1455  \n",
       "573            NaN  import2016short/1456  "
      ]
     },
     "execution_count": 37,
     "metadata": {},
     "output_type": "execute_result"
    }
   ],
   "source": [
    "universities[universities.file == 'import2016short/145']"
   ]
  },
  {
   "cell_type": "markdown",
   "metadata": {},
   "source": [
    "Can't do that because order isn't same :( "
   ]
  },
  {
   "cell_type": "code",
   "execution_count": 38,
   "metadata": {},
   "outputs": [],
   "source": [
    "mega_frame = pd.merge(universities, cleaning, on='merge_index')"
   ]
  },
  {
   "cell_type": "code",
   "execution_count": 39,
   "metadata": {},
   "outputs": [
    {
     "data": {
      "text/html": [
       "<div>\n",
       "<style scoped>\n",
       "    .dataframe tbody tr th:only-of-type {\n",
       "        vertical-align: middle;\n",
       "    }\n",
       "\n",
       "    .dataframe tbody tr th {\n",
       "        vertical-align: top;\n",
       "    }\n",
       "\n",
       "    .dataframe thead th {\n",
       "        text-align: right;\n",
       "    }\n",
       "</style>\n",
       "<table border=\"1\" class=\"dataframe\">\n",
       "  <thead>\n",
       "    <tr style=\"text-align: right;\">\n",
       "      <th></th>\n",
       "      <th>name</th>\n",
       "      <th>domain</th>\n",
       "      <th>mail</th>\n",
       "      <th>authorindex</th>\n",
       "      <th>file_x</th>\n",
       "      <th>country</th>\n",
       "      <th>merge_index</th>\n",
       "      <th>file_y</th>\n",
       "      <th>subject</th>\n",
       "      <th>iso</th>\n",
       "      <th>...</th>\n",
       "      <th>title</th>\n",
       "      <th>issued</th>\n",
       "      <th>accessioned</th>\n",
       "      <th>citation</th>\n",
       "      <th>available</th>\n",
       "      <th>abstract</th>\n",
       "      <th>value</th>\n",
       "      <th>author_name_length</th>\n",
       "      <th>author_order</th>\n",
       "      <th>shortend_names</th>\n",
       "    </tr>\n",
       "  </thead>\n",
       "  <tbody>\n",
       "    <tr>\n",
       "      <th>563</th>\n",
       "      <td>University of Colorado at Boulder</td>\n",
       "      <td>colorado.edu</td>\n",
       "      <td>Stephen.Sommer@Colorado.edu</td>\n",
       "      <td>0</td>\n",
       "      <td>import2016short/145</td>\n",
       "      <td>United States</td>\n",
       "      <td>import2016short/1450</td>\n",
       "      <td>import2016short/145</td>\n",
       "      <td></td>\n",
       "      <td>en</td>\n",
       "      <td>...</td>\n",
       "      <td>Iterative Curricular Design of Collaborative I...</td>\n",
       "      <td>2016-07</td>\n",
       "      <td>2017-06-19 11:36:13+00:00</td>\n",
       "      <td>Sommer, S., Graville-Smith, C., Hinojosa, L., ...</td>\n",
       "      <td>2017-06-19 11:36:13+00:00</td>\n",
       "      <td>This short report describes the design and imp...</td>\n",
       "      <td>Sommer, Stephen</td>\n",
       "      <td>15</td>\n",
       "      <td>0</td>\n",
       "      <td>Sommer S.</td>\n",
       "    </tr>\n",
       "    <tr>\n",
       "      <th>564</th>\n",
       "      <td>Saint Louis University</td>\n",
       "      <td>slu.edu</td>\n",
       "      <td>cgravill@slu.edu</td>\n",
       "      <td>1</td>\n",
       "      <td>import2016short/145</td>\n",
       "      <td>United States</td>\n",
       "      <td>import2016short/1451</td>\n",
       "      <td>import2016short/145</td>\n",
       "      <td></td>\n",
       "      <td>en</td>\n",
       "      <td>...</td>\n",
       "      <td>Iterative Curricular Design of Collaborative I...</td>\n",
       "      <td>2016-07</td>\n",
       "      <td>2017-06-19 11:36:13+00:00</td>\n",
       "      <td>Sommer, S., Graville-Smith, C., Hinojosa, L., ...</td>\n",
       "      <td>2017-06-19 11:36:13+00:00</td>\n",
       "      <td>This short report describes the design and imp...</td>\n",
       "      <td>Graville-Smith, Cynthia</td>\n",
       "      <td>23</td>\n",
       "      <td>1</td>\n",
       "      <td>Graville-Smith C.</td>\n",
       "    </tr>\n",
       "    <tr>\n",
       "      <th>565</th>\n",
       "      <td>University of Colorado at Boulder</td>\n",
       "      <td>colorado.edu</td>\n",
       "      <td>Joseph.Polman@Colorado.edu</td>\n",
       "      <td>2</td>\n",
       "      <td>import2016short/145</td>\n",
       "      <td>United States</td>\n",
       "      <td>import2016short/1452</td>\n",
       "      <td>import2016short/145</td>\n",
       "      <td></td>\n",
       "      <td>en</td>\n",
       "      <td>...</td>\n",
       "      <td>Iterative Curricular Design of Collaborative I...</td>\n",
       "      <td>2016-07</td>\n",
       "      <td>2017-06-19 11:36:13+00:00</td>\n",
       "      <td>Sommer, S., Graville-Smith, C., Hinojosa, L., ...</td>\n",
       "      <td>2017-06-19 11:36:13+00:00</td>\n",
       "      <td>This short report describes the design and imp...</td>\n",
       "      <td>Hinojosa, Leighanna</td>\n",
       "      <td>19</td>\n",
       "      <td>2</td>\n",
       "      <td>Hinojosa L.</td>\n",
       "    </tr>\n",
       "    <tr>\n",
       "      <th>566</th>\n",
       "      <td>University of Colorado at Boulder</td>\n",
       "      <td>colorado.edu</td>\n",
       "      <td>Leighanna.Hinojosa@Colorado.edu</td>\n",
       "      <td>3</td>\n",
       "      <td>import2016short/145</td>\n",
       "      <td>United States</td>\n",
       "      <td>import2016short/1453</td>\n",
       "      <td>import2016short/145</td>\n",
       "      <td></td>\n",
       "      <td>en</td>\n",
       "      <td>...</td>\n",
       "      <td>Iterative Curricular Design of Collaborative I...</td>\n",
       "      <td>2016-07</td>\n",
       "      <td>2017-06-19 11:36:13+00:00</td>\n",
       "      <td>Sommer, S., Graville-Smith, C., Hinojosa, L., ...</td>\n",
       "      <td>2017-06-19 11:36:13+00:00</td>\n",
       "      <td>This short report describes the design and imp...</td>\n",
       "      <td>Polman, Joseph</td>\n",
       "      <td>14</td>\n",
       "      <td>3</td>\n",
       "      <td>Polman J.</td>\n",
       "    </tr>\n",
       "  </tbody>\n",
       "</table>\n",
       "<p>4 rows × 23 columns</p>\n",
       "</div>"
      ],
      "text/plain": [
       "                                  name        domain  \\\n",
       "563  University of Colorado at Boulder  colorado.edu   \n",
       "564             Saint Louis University       slu.edu   \n",
       "565  University of Colorado at Boulder  colorado.edu   \n",
       "566  University of Colorado at Boulder  colorado.edu   \n",
       "\n",
       "                                mail  authorindex               file_x  \\\n",
       "563      Stephen.Sommer@Colorado.edu            0  import2016short/145   \n",
       "564                 cgravill@slu.edu            1  import2016short/145   \n",
       "565       Joseph.Polman@Colorado.edu            2  import2016short/145   \n",
       "566  Leighanna.Hinojosa@Colorado.edu            3  import2016short/145   \n",
       "\n",
       "           country           merge_index               file_y subject iso  \\\n",
       "563  United States  import2016short/1450  import2016short/145          en   \n",
       "564  United States  import2016short/1451  import2016short/145          en   \n",
       "565  United States  import2016short/1452  import2016short/145          en   \n",
       "566  United States  import2016short/1453  import2016short/145          en   \n",
       "\n",
       "           ...                                                      title  \\\n",
       "563        ...          Iterative Curricular Design of Collaborative I...   \n",
       "564        ...          Iterative Curricular Design of Collaborative I...   \n",
       "565        ...          Iterative Curricular Design of Collaborative I...   \n",
       "566        ...          Iterative Curricular Design of Collaborative I...   \n",
       "\n",
       "      issued               accessioned  \\\n",
       "563  2016-07 2017-06-19 11:36:13+00:00   \n",
       "564  2016-07 2017-06-19 11:36:13+00:00   \n",
       "565  2016-07 2017-06-19 11:36:13+00:00   \n",
       "566  2016-07 2017-06-19 11:36:13+00:00   \n",
       "\n",
       "                                              citation  \\\n",
       "563  Sommer, S., Graville-Smith, C., Hinojosa, L., ...   \n",
       "564  Sommer, S., Graville-Smith, C., Hinojosa, L., ...   \n",
       "565  Sommer, S., Graville-Smith, C., Hinojosa, L., ...   \n",
       "566  Sommer, S., Graville-Smith, C., Hinojosa, L., ...   \n",
       "\n",
       "                    available  \\\n",
       "563 2017-06-19 11:36:13+00:00   \n",
       "564 2017-06-19 11:36:13+00:00   \n",
       "565 2017-06-19 11:36:13+00:00   \n",
       "566 2017-06-19 11:36:13+00:00   \n",
       "\n",
       "                                              abstract  \\\n",
       "563  This short report describes the design and imp...   \n",
       "564  This short report describes the design and imp...   \n",
       "565  This short report describes the design and imp...   \n",
       "566  This short report describes the design and imp...   \n",
       "\n",
       "                       value author_name_length author_order  \\\n",
       "563          Sommer, Stephen                 15            0   \n",
       "564  Graville-Smith, Cynthia                 23            1   \n",
       "565      Hinojosa, Leighanna                 19            2   \n",
       "566           Polman, Joseph                 14            3   \n",
       "\n",
       "        shortend_names  \n",
       "563          Sommer S.  \n",
       "564  Graville-Smith C.  \n",
       "565        Hinojosa L.  \n",
       "566          Polman J.  \n",
       "\n",
       "[4 rows x 23 columns]"
      ]
     },
     "execution_count": 39,
     "metadata": {},
     "output_type": "execute_result"
    }
   ],
   "source": [
    "mega_frame[mega_frame.file_x == 'import2016short/145']"
   ]
  },
  {
   "cell_type": "markdown",
   "metadata": {},
   "source": [
    "# Merge names with references:"
   ]
  },
  {
   "cell_type": "code",
   "execution_count": 40,
   "metadata": {},
   "outputs": [],
   "source": [
    "references = pd.read_csv('data/Reference_authors.csv', index_col=0)"
   ]
  },
  {
   "cell_type": "code",
   "execution_count": 41,
   "metadata": {},
   "outputs": [
    {
     "data": {
      "text/plain": [
       "(20724, 2)"
      ]
     },
     "execution_count": 41,
     "metadata": {},
     "output_type": "execute_result"
    }
   ],
   "source": [
    "references.shape"
   ]
  },
  {
   "cell_type": "code",
   "execution_count": 42,
   "metadata": {},
   "outputs": [
    {
     "data": {
      "text/plain": [
       "(17622, 2)"
      ]
     },
     "execution_count": 42,
     "metadata": {},
     "output_type": "execute_result"
    }
   ],
   "source": [
    "references.drop_duplicates(inplace=True)\n",
    "references.shape"
   ]
  },
  {
   "cell_type": "code",
   "execution_count": 43,
   "metadata": {},
   "outputs": [
    {
     "data": {
      "text/html": [
       "<div>\n",
       "<style scoped>\n",
       "    .dataframe tbody tr th:only-of-type {\n",
       "        vertical-align: middle;\n",
       "    }\n",
       "\n",
       "    .dataframe tbody tr th {\n",
       "        vertical-align: top;\n",
       "    }\n",
       "\n",
       "    .dataframe thead th {\n",
       "        text-align: right;\n",
       "    }\n",
       "</style>\n",
       "<table border=\"1\" class=\"dataframe\">\n",
       "  <thead>\n",
       "    <tr style=\"text-align: right;\">\n",
       "      <th></th>\n",
       "      <th>author</th>\n",
       "      <th>file</th>\n",
       "    </tr>\n",
       "  </thead>\n",
       "  <tbody>\n",
       "    <tr>\n",
       "      <th>0</th>\n",
       "      <td>Abrahamson D.</td>\n",
       "      <td>import2016full/61</td>\n",
       "    </tr>\n",
       "    <tr>\n",
       "      <th>3</th>\n",
       "      <td>Lee R. G.</td>\n",
       "      <td>import2016full/61</td>\n",
       "    </tr>\n",
       "    <tr>\n",
       "      <th>4</th>\n",
       "      <td>Negrete A. G.</td>\n",
       "      <td>import2016full/61</td>\n",
       "    </tr>\n",
       "    <tr>\n",
       "      <th>5</th>\n",
       "      <td>Gutiérrez J. F.</td>\n",
       "      <td>import2016full/61</td>\n",
       "    </tr>\n",
       "    <tr>\n",
       "      <th>7</th>\n",
       "      <td>Sánchez-García R.</td>\n",
       "      <td>import2016full/61</td>\n",
       "    </tr>\n",
       "  </tbody>\n",
       "</table>\n",
       "</div>"
      ],
      "text/plain": [
       "              author               file\n",
       "0      Abrahamson D.  import2016full/61\n",
       "3          Lee R. G.  import2016full/61\n",
       "4      Negrete A. G.  import2016full/61\n",
       "5    Gutiérrez J. F.  import2016full/61\n",
       "7  Sánchez-García R.  import2016full/61"
      ]
     },
     "execution_count": 43,
     "metadata": {},
     "output_type": "execute_result"
    }
   ],
   "source": [
    "references.head()"
   ]
  },
  {
   "cell_type": "code",
   "execution_count": 44,
   "metadata": {},
   "outputs": [],
   "source": [
    "reference_edges = pd.merge(cleaning, references, on='file')[['shortend_names', 'author']]"
   ]
  },
  {
   "cell_type": "code",
   "execution_count": 45,
   "metadata": {},
   "outputs": [],
   "source": [
    "reference_edges.columns = ['author', 'cited']"
   ]
  },
  {
   "cell_type": "markdown",
   "metadata": {},
   "source": [
    "People who like to cite themselves:"
   ]
  },
  {
   "cell_type": "code",
   "execution_count": 46,
   "metadata": {},
   "outputs": [
    {
     "data": {
      "text/plain": [
       "Zhang J.          11\n",
       "Dillenbourg P.    11\n",
       "Rummel N.         10\n",
       "Puntambekar S.    10\n",
       "Slotta J. D.       9\n",
       "Name: author, dtype: int64"
      ]
     },
     "execution_count": 46,
     "metadata": {},
     "output_type": "execute_result"
    }
   ],
   "source": [
    "reference_edges[reference_edges.author == reference_edges.cited].author.value_counts().head()"
   ]
  },
  {
   "cell_type": "code",
   "execution_count": 47,
   "metadata": {},
   "outputs": [
    {
     "data": {
      "text/plain": [
       "False"
      ]
     },
     "execution_count": 47,
     "metadata": {},
     "output_type": "execute_result"
    }
   ],
   "source": [
    "set(reference_edges.author.tolist()) in set(reference_edges.cited.tolist())"
   ]
  },
  {
   "cell_type": "code",
   "execution_count": 48,
   "metadata": {},
   "outputs": [
    {
     "name": "stdout",
     "output_type": "stream",
     "text": [
      "Number of distinct authors  1010\n"
     ]
    }
   ],
   "source": [
    "print('Number of distinct authors ', len(set(reference_edges.author.tolist())))"
   ]
  },
  {
   "cell_type": "code",
   "execution_count": 49,
   "metadata": {},
   "outputs": [
    {
     "name": "stdout",
     "output_type": "stream",
     "text": [
      "Number of distinct cited authors by some author in the conference  8205\n"
     ]
    }
   ],
   "source": [
    "print('Number of distinct cited authors by some author in the conference ', len(set(reference_edges.cited.tolist())))"
   ]
  },
  {
   "cell_type": "code",
   "execution_count": 50,
   "metadata": {},
   "outputs": [
    {
     "name": "stdout",
     "output_type": "stream",
     "text": [
      "Number of authors that where cited by an other author in the confernce : 570\n"
     ]
    }
   ],
   "source": [
    "print('Number of authors that where cited by an other author in the confernce :' , len(set(reference_edges.cited.tolist()).intersection(set(reference_edges.author.tolist()))))"
   ]
  },
  {
   "cell_type": "markdown",
   "metadata": {},
   "source": [
    "# Building the refrence graph:\n",
    "\n",
    "directed graph weighted by number of times x cited y:"
   ]
  },
  {
   "cell_type": "code",
   "execution_count": 51,
   "metadata": {},
   "outputs": [],
   "source": [
    "nodes = pd.DataFrame(reference_edges.author.drop_duplicates().reset_index(drop=True)).reset_index()"
   ]
  },
  {
   "cell_type": "code",
   "execution_count": 52,
   "metadata": {},
   "outputs": [
    {
     "data": {
      "text/html": [
       "<div>\n",
       "<style scoped>\n",
       "    .dataframe tbody tr th:only-of-type {\n",
       "        vertical-align: middle;\n",
       "    }\n",
       "\n",
       "    .dataframe tbody tr th {\n",
       "        vertical-align: top;\n",
       "    }\n",
       "\n",
       "    .dataframe thead th {\n",
       "        text-align: right;\n",
       "    }\n",
       "</style>\n",
       "<table border=\"1\" class=\"dataframe\">\n",
       "  <thead>\n",
       "    <tr style=\"text-align: right;\">\n",
       "      <th></th>\n",
       "      <th>index</th>\n",
       "      <th>author</th>\n",
       "    </tr>\n",
       "  </thead>\n",
       "  <tbody>\n",
       "    <tr>\n",
       "      <th>0</th>\n",
       "      <td>0</td>\n",
       "      <td>Whittaker C.</td>\n",
       "    </tr>\n",
       "    <tr>\n",
       "      <th>1</th>\n",
       "      <td>1</td>\n",
       "      <td>Acosta A.</td>\n",
       "    </tr>\n",
       "    <tr>\n",
       "      <th>2</th>\n",
       "      <td>2</td>\n",
       "      <td>Zhang J.</td>\n",
       "    </tr>\n",
       "    <tr>\n",
       "      <th>3</th>\n",
       "      <td>3</td>\n",
       "      <td>Slotta J. D.</td>\n",
       "    </tr>\n",
       "    <tr>\n",
       "      <th>4</th>\n",
       "      <td>4</td>\n",
       "      <td>Rook M. M.</td>\n",
       "    </tr>\n",
       "  </tbody>\n",
       "</table>\n",
       "</div>"
      ],
      "text/plain": [
       "   index        author\n",
       "0      0  Whittaker C.\n",
       "1      1     Acosta A.\n",
       "2      2      Zhang J.\n",
       "3      3  Slotta J. D.\n",
       "4      4    Rook M. M."
      ]
     },
     "execution_count": 52,
     "metadata": {},
     "output_type": "execute_result"
    }
   ],
   "source": [
    "nodes.head()"
   ]
  },
  {
   "cell_type": "code",
   "execution_count": 53,
   "metadata": {},
   "outputs": [],
   "source": [
    "edges = pd.merge(nodes, reference_edges, left_on='author', right_on='cited')\n",
    "del edges['author_x']"
   ]
  },
  {
   "cell_type": "code",
   "execution_count": 54,
   "metadata": {},
   "outputs": [],
   "source": [
    "edges = pd.merge(nodes, edges, left_on='author', right_on='author_y')\n",
    "del edges['author_y'], edges['author'], edges['cited']"
   ]
  },
  {
   "cell_type": "code",
   "execution_count": 55,
   "metadata": {},
   "outputs": [],
   "source": [
    "edges.columns = ['author', 'citation']"
   ]
  },
  {
   "cell_type": "code",
   "execution_count": 56,
   "metadata": {},
   "outputs": [],
   "source": [
    "n_nodes = len(nodes)\n",
    "adjacency = np.zeros((n_nodes, n_nodes), dtype=int)\n",
    "\n",
    "for idx, row in edges.iterrows():\n",
    "    if np.isnan(row.author):\n",
    "        continue\n",
    "    i, j = int(row.author), int(row.citation)\n",
    "    adjacency[j, i] += 1"
   ]
  },
  {
   "cell_type": "code",
   "execution_count": 57,
   "metadata": {},
   "outputs": [
    {
     "data": {
      "text/plain": [
       "(1010, 1010)"
      ]
     },
     "execution_count": 57,
     "metadata": {},
     "output_type": "execute_result"
    }
   ],
   "source": [
    "adjacency.shape"
   ]
  },
  {
   "cell_type": "code",
   "execution_count": 58,
   "metadata": {},
   "outputs": [],
   "source": [
    "degrees = np.where(adjacency > 0, 1, 0).sum(axis=0)"
   ]
  },
  {
   "cell_type": "code",
   "execution_count": 59,
   "metadata": {},
   "outputs": [
    {
     "data": {
      "image/png": "[encoded data removed]",
      "text/plain": [
       "<Figure size 432x288 with 1 Axes>"
      ]
     },
     "metadata": {
      "needs_background": "light"
     },
     "output_type": "display_data"
    }
   ],
   "source": [
    "plt.hist(degrees, bins=100, log=True)\n",
    "plt.show()"
   ]
  },
  {
   "cell_type": "code",
   "execution_count": 60,
   "metadata": {},
   "outputs": [
    {
     "name": "stdout",
     "output_type": "stream",
     "text": [
      "['Aalst J.', 'Abdu R.', 'Abrahamson D.', 'Acosta A.', 'Adanır G. A.', 'Aditomo A.', 'Adleberg B.', 'Agrawal H.', 'Ahn J.', 'Ahonen A. K.', 'Ainsworth S.', 'AlQahtani M.', 'Alameh S.', 'Albrecht J.', 'Aleven V.', 'Allen C. D.', 'Allen L.', 'Allert H.', 'Almatrafi O.', 'Alqassab M.', 'Alstyne R.', 'Amzalag M.', 'Anderson C. G.', 'Anderson E.', 'Anderson J.', 'Anderson R. C.', 'Andrade A.', 'Andrews J. J.', 'Angelo S.', 'Angersbach J.', 'Anjewierden A.', 'Antle A. N.', 'Apollonia S.', 'Applebaum L.', 'Applebaum L. R.', 'Arastoopour G.', 'Arnedillo-Sanchez I.', 'Arnseth H. C.', 'Arvaja M.', 'Arvidsson T. S.', 'Ashley R. W.', 'Askari E.', 'Asterhan C.', 'Awwal N.', 'Ayer T.', 'Azevedo F. S.', 'Azevedo R.', 'Baker R.', 'Bakker A.', 'Bal A.', 'Baltes J.', 'Bang M.', 'Bannan B.', 'Baram-Tsabari A.', 'Barber-Lester K.', 'Barber-Lester K. J.', 'Barcellos M. E.', 'Barrat A.', 'Barron B.', 'Barth-Cohen L. A.', 'Barton A. C.', 'Baruch A. F.', 'Barzilai S.', 'Basu S.', 'Beck S.', 'Becker S.', 'Bell A.', 'Bell P.', 'Belland B. R.', 'Ben-Zvi D.', 'Bennett C. L.', 'Bereiter C.', 'Berland M.', 'Bernstein D.', 'Bertram C.', 'Betz A.', 'Bhatnagar S.', 'Bielaczyc K.', 'Biemans H.', 'Binzak J. V.', 'Bishara S.', 'Biswas G.', 'Blikstein P.', 'Blum-Smith S.', 'Bodemer D.', 'Bogouslavsky M.', 'Bonsignore E.', 'Borge M.', 'Boroujeni M. S.', 'Boston C.', 'Bouton E.', 'Boyer K. E.', 'Boyle B.', 'Brady C.', 'Brami U.', 'Brami U. Z.', 'Brand C.', 'Brandes O.', 'Brasel J.', 'Brennan K.', 'Bresser N.', 'Breuleux A.', 'Bronet M.', 'Brown D. E.', 'Buder J.', 'Buessing S.', 'Buis S. C.', 'Bumbacher E.', 'Burns M.', 'Caballero D.', 'Cabo C.', 'Cai H.', 'Cai Q.', 'Cain R.', 'Calandra B.', 'Cannady M. A.', 'Carafano P.', 'Care E.', 'Carnes M.', 'Carvalho L.', 'Cassell J.', 'Castillo F. D.', 'Catrambone R.', 'Cattaneo A. A.', 'Cavera V. L.', 'Celepkolu M.', 'Cerratto-Pargman T.', 'Chagab N.', 'Chai B. Y.', 'Chai C. S.', 'Chai S.', 'Chakravarthi R.', 'Champion D.', 'Champion D. N.', 'Chan C.', 'Chan C. K.', 'Chan J. R.', 'Chan M.', 'Chandrasekharan S.', 'Chang S.', 'Charles E. S.', 'Chase C. C.', 'Chee J. K.', 'Chen B.', 'Chen F.', 'Chen J.', 'Chen M.', 'Chen S.', 'Chen W.', 'Cheng K.', 'Cheng T.', 'Chikunda C.', 'Ching C. C.', 'Chiu T. K.', 'Choi G. W.', 'Choi K.', 'Chounta I.', 'Christmann N.', 'Chu S.', 'Clarke S.', 'Clegg T.', 'Clegg T. L.', 'Cobb S.', 'Cober R.', 'Cocco F.', 'Cohen J.', 'Collier W.', 'Collin J.', 'Collins J. M.', 'Cook C.', 'Cook L.', 'Corning W.', 'Cress U.', 'Crossley S.', 'Crouse K.', 'Csanadi A.', 'Cuendet S.', 'Cukurova M.', 'Cunningham J.', 'Curnow J.', 'Cutshall J.', 'Çakır M. P.', 'Dado M.', 'Dahn M.', 'Dalsen J.', 'Damșa C.', 'Danish J.', 'Danish J. A.', 'Dascalu M.', 'Dascălu M.', 'Dasgupta C.', 'Davidsen J.', 'Davier A.', 'Davier A. A.', 'Davis K.', 'Davis R.', 'Davis R. L.', 'Dawes L.', 'Daxenberger J.', 'DeLiema D.', 'DeSchryver M.', 'DeSutter D.', 'Deiglmayr A.', 'Deitrick E.', 'Derry S.', 'DesPortes K.', 'Dessus P.', 'DiGiacomo D.', 'DiSalvo B.', 'Dickes A. C.', 'Dieckmeyer E.', 'Dillenbourg P.', 'Dimitriadis Y.', 'Dolonen J. A.', 'Dong Y.', 'Dornfeld C.', 'Dornfeld C. L.', 'Dorph R.', 'Downton M. P.', 'Doyle T.', 'Dragomir M.', 'Drayton B.', 'Duckles J. M.', 'Duek O.', 'Dugdale M.', 'Duncan S. C.', 'Dutta N.', 'Dyer E. B.', 'Dyke G.', 'Dziallas S.', 'Eagan B.', 'Eagan B. R.', 'Easterday M. W.', 'Eberle J.', 'Echevarria R.', 'Eimler S.', 'Eisenhart M.', 'Elby A.', 'Elias N.', 'Elming A. L.', 'Elson M.', 'Emara M.', 'Emmanuel N.', 'Ende J.', 'Engelmann T.', 'Engeström Y.', 'Enyedy N.', 'Erdmann J.', 'Erkens M.', 'Eugenio B.', 'Evans C.', 'Evans M. A.', 'Evenstone A. L.', 'Fake H.', 'Fan M.', 'Farnsworth J.', 'Farris A. V.', 'Fathema N.', 'Faulkner R.', 'Fauville G.', 'Feng M.', 'Ferschke O.', 'Fields D. A.', 'Fields G.', 'Fincher S.', 'Finkelstein S.', 'Fischer F.', 'Flake S.', 'Flekova L.', 'Flood V. J.', 'Fong C.', 'Forbes C.', 'Ford C. E.', 'Forssell K. S.', 'Fossati D.', 'Franklin S. V.', 'Frensley T.', 'Fricke K. W.', 'Friend M.', 'Froehlich J. E.', 'Fröhlich B.', 'Fujita W.', 'Funaoi H.', 'Funk A. L.', 'Fuqua A.', 'Fynes-Clinton E.', 'G N.', 'Gao D.', 'García R.', 'Garner B.', 'Gaydos M.', 'Gebre E.', 'Gemmell J.', 'Georgen C.', 'Georgiou Y.', 'Gerard L.', 'Gerber E. M.', 'Gergle D.', 'Gerritsen D.', 'Ghanem C.', 'Giannakos M.', 'Gijlers H.', 'Gil A. J.', 'Giri S.', 'Gleasman C.', 'Gnesdilow D.', 'Gnoli A.', 'Gobert J.', 'Godinez E. V.', 'Goggins S.', 'Goh W.', 'Goldberg T.', 'Gomez K.', 'Gomez L. M.', 'Gomoll A. S.', 'Gonzalez C.', 'Goodyear P.', 'Gouvea J. S.', 'Gouveia C.', 'Graesser A.', 'Grainger R.', 'Gravel B.', 'Graville-Smith C.', 'Gray S.', 'Green N.', 'Greenhow C.', 'Greenwald S. W.', 'Grimes S. M.', 'Grover S.', 'Gu X.', 'Guillemette J.', 'Guo Y.', 'Gurevych I.', 'Guribye F.', 'Gutiérrez J. F.', 'Gutu G.', 'Guzdial M.', 'Habron G.', 'Hajny N.', 'Hakkarainen K.', 'Hall R.', 'Halls J.', 'Halverson E. R.', 'Hamid T.', 'Hansen A.', 'Hansen J.', 'Hao J.', 'Hardy L.', 'Harrell M.', 'Harrer B. W.', 'Harsley R.', 'Hartley K.', 'Hartmann C.', 'Hatami J.', 'Häkkinen P.', 'Healion D.', 'Hecking T.', 'Heijnes D.', 'Heijst H.', 'Heimbuch S.', 'Hensley L.', 'Hernwall P.', 'Herrmann T.', 'Hershkovitz A.', 'Hesse F. W.', 'Hew K. F.', 'Hickey D.', 'Hickey D. T.', 'Hickey T. J.', 'Hill R. B.', 'Hillman T.', 'Hilppö J.', 'Hinojosa L.', 'Hirayama R.', 'Hjorth A.', 'Hmelo-Silver C.', 'Hmelo-Silver C. E.', 'Hoadley C.', 'Hod Y.', 'Holland J.', 'Hollett T.', 'Holmes W.', 'Hong H.', 'Hoppe H. U.', 'Hori N.', 'Horn I. S.', 'Horn M.', 'Horne K.', 'Horton E.', 'Howley I.', 'Huang J.', 'Huang J. S.', 'Huang L.', 'Huang Y.', 'Humburg M.', 'Hung D.', 'Hung G.', 'Häkkinen P.', 'Hämäläinen R.', 'Håklev S.', 'Iikubo S.', 'Illum R.', 'Iordanou K.', 'Irgens G. A.', 'Israel M.', 'Jackson J.', 'Jacobson M. J.', 'Jan M.', 'Järvelä S.', 'Järvenoja H.', 'Jeong H.', 'Jermann P.', 'Jiang S.', 'Jin Y.', 'Johnson R.', 'Johri A.', 'Jona K.', 'Jong F.', 'Jong T.', 'Joolingen W.', 'Jordan M. E.', 'Jordan R.', 'Jordan-Douglass A.', 'Jornet A.', 'Joyce J.', 'Joyce-Gibbons A.', 'Judson D.', 'Jung Y. J.', 'Kaatz A.', 'Kabayadondo Z.', 'Kafai Y.', 'Kafai Y. B.', 'Kahn J.', 'Kali Y.', 'Kamsan M. A.', 'Kanasa H.', 'Kang S.', 'Kapon S.', 'Kapur M.', 'Karlström P.', 'Kato H.', 'Katz V.', 'Kaul C.', 'Kazemitabar M. A.', 'Ke F.', 'Ke L.', 'Keifert D. T.', 'Kelly S. B.', 'Kent C.', 'Kerr D.', 'Keune A.', 'Khamis N. A.', 'Khanlari A.', 'Khoo M.', 'Khosronejad M.', 'Kidron A.', 'Kim B.', 'Kim C.', 'Kim N. J.', 'Kim S. H.', 'Kim S. M.', 'Kimball N.', 'Kirschner P.', 'Kirschner P. A.', 'Kittinger L.', 'Klopfer E.', 'Kluge A.', 'Knight S.', 'Knutsson O.', 'Koehler-Yom J.', 'Koh E.', 'Kolikant Y. B.', 'Kollar I.', 'Kolodner J. L.', 'Kopp D.', 'Kothiyal A.', 'Krange I.', 'Krämer N.', 'Krist C.', 'Krämer N. C.', 'Kubota Y.', 'Kuhn A.', 'Kuhn D.', 'Kulik A.', 'Kumar V.', 'Kunert A.', 'Kunicki S.', 'Kustusch M. B.', 'Kwok A.', 'Kyewski E.', 'Kyllonen P.', 'Kyza E. A.', 'Laferrière T.', 'Lahav O.', 'Laherto A.', 'Lai P. K.', 'Laina V.', 'Lajoie S. P.', 'Lakhani H.', 'Lam R.', 'Land S. M.', 'Lanouette K. A.', 'Lansiquot R. D.', 'Lantz-Andersson A.', 'Laru J.', 'Laslo E.', 'Lasry N.', 'Law N.', 'Law V.', 'Lawrence L.', 'Leak A.', 'Lee A.', 'Lee C.', 'Lee H.', 'Lee J.', 'Lee J. H.', 'Lee T. C.', 'Lee U.', 'Lee V.', 'Lee V. R.', 'Lee V. Y.', 'Lee Y.', 'Lee Y. J.', 'Leenaars F.', 'Leeuwen A.', 'Lefstein A.', 'Leftheriotis I.', 'Lehtinen E.', 'Lenton K.', 'Lerner P.', 'Lesama M. F.', 'Levrini O.', 'Levy K. S.', 'Levy S.', 'Levy S. T.', 'Li T.', 'Li Y.', 'Liang L.', 'Ligorio B.', 'Lin C. P.', 'Lin F.', 'Lin K.', 'Lindgren R.', 'Ling L. Y.', 'Linn M.', 'Linn M. C.', 'Littleton K.', 'Litts B. K.', 'Liu L.', 'Liu S.', 'Liu X.', 'Liu Y.', 'Liuzzi R.', 'Loibl K.', 'Looi C.', 'Lord T.', 'Lotz-Sisitka H.', 'Low M.', 'Lu L.', 'Lui D. A.', 'Lui M.', 'Lund K.', 'Lundin M.', 'Lyons L.', 'Lyu X.', 'Ma L.', 'MacArthur C.', 'Macaranas A.', 'Madaio M.', 'Madhok J.', 'Maes P.', 'Maggiore C.', 'Magnussen R.', 'Mahoney C.', 'Malkiewich L. J.', 'Malmberg J.', 'Manches A.', 'Mann M. J.', 'Manske S.', 'Margulieux L. E.', 'Markauskaite L.', 'Martin C.', 'Martin F.', 'Martin N.', 'Martin N. D.', 'Martin S. A.', 'Martinez-Maldonado R.', 'Mathayas N.', 'Matsuzawa Y.', 'Matuk C.', 'Mavrikis M.', 'May A.', 'Mazziotti C.', 'Mäkitalo A.', 'McAuley A.', 'McBride E.', 'McBride E. A.', 'McCracken W. M.', 'McDonald S. P.', 'McElhaney K. W.', 'McGowan V. C.', 'McKenney S.', 'McKeown J.', 'McLaren B. M.', 'McMullen K.', 'McNamara D. S.', 'Meier E.', 'Mercier E.', 'Messina R.', 'Meyerhoff P.', 'Mierwald M.', 'Millet C.', 'Minor R.', 'Minshew L.', 'Minshew L. M.', 'Mislevy R. J.', 'Mochizuki T.', 'Moher T.', 'Mommandi W.', 'Montané M.', 'Morphew J.', 'Morrison B. B.', 'Moses G.', 'Moussavi R.', 'Mu J.', 'Mudrick N.', 'Mulder M.', 'Murray J.', 'Murthy S.', 'Mäkitalo Å.', 'Nachankar M.', 'Nacu D. C.', 'Najafi H.', 'Nathan M. J.', 'Näykki P.', 'Neff M.', 'Neubaum G.', 'Newbutt N.', 'Newman G.', 'Ng M.', 'Ni L.', 'Nickels K.', 'Nistor N.', 'Noor J.', 'Norooz L.', 'Noroozi O.', 'Noushad N. F.', 'Nunes C.', 'Nutchey D.', 'Odemwingie O. C.', 'Ogan A.', 'Ogawa S.', 'Oguamanam V.', 'Ohsaki A.', 'Oliver M.', 'Olsen A.', 'Olsen J. K.', 'Ong Y. S.', 'Oshima J.', 'Oshima R.', 'Ouyang X.', 'Oztok M.', 'Pal J.', 'Pallant A.', 'Panagiotopoulos D.', 'Pande P.', 'Pardos Z.', 'Parikh T. S.', 'Parisio M.', 'Park M.', 'Parsons S.', 'Pauw D.', 'Payne S.', 'Pea R.', 'Pea R. D.', 'Pedro M. S.', 'Peebles B.', 'Pei X.', 'Pekrun R.', 'Peleg R.', 'Penney L.', 'Penuel W.', 'Penuel W. R.', 'Peppler K.', 'Perera N.', 'Perritano A.', 'Pesanayi T.', 'Phillips A.', 'Picinatto A. C.', 'Pier E. L.', 'Piland J.', 'Pinkard N.', 'Plane A. C.', 'Plass J. L.', 'Plevinski J.', 'Polman J.', 'Popov V.', 'Portolese A.', 'Pöysä-Tarhonen J.', 'Prain V.', 'Pratt W.', 'Preece J.', 'Price K. M.', 'Price N.', 'Prieto L. P.', 'Prinsen F. R.', 'Pryputniewicz S.', 'Puhl T.', 'Puntambekar S.', 'Pöysä-Tarhonen J.', 'Quek C. L.', 'Querol M. P.', 'Quick J.', 'Quick J. D.', 'Quigley D.', 'Quignard M.', 'Quintana C.', 'Quintana R.', 'Quintana R. M.', 'Raclaw J.', 'Rafaeli S.', 'Raicu D.', 'Rajala A.', 'Ramey K. E.', 'Ratté S.', 'Rau M.', 'Raval H.', 'Rädle R.', 'Rebedea T.', 'Recker M.', 'Reeve R.', 'Regalla L.', 'Rehak A. M.', 'Reichersdorfer E.', 'Reimann P.', 'Reiss K.', 'Renken M.', 'Renshaw P.', 'Resendes M.', 'Ricarte T.', 'Richard G.', 'Richard G. T.', 'Richter C.', 'Rick J.', 'Rienties B.', 'Riesen S. A.', 'Ritella G.', 'Rivet A. E.', 'Roberts J.', 'Rodela K.', 'Rodriguez J.', 'Rodríguez F. J.', 'Rogers B.', 'Rojas-Perilla D.', 'Rook M. M.', 'Roque R.', 'Rose C.', 'Rosé C. P.', 'Rossitto C.', 'Rosson M. B.', 'Rosé C.', 'Rosé C. P.', 'Ruffaldi E.', 'Ruhl E.', 'Ruis A.', 'Ruis A. R.', 'Rummel N.', 'Russell S.', 'Ryberg T.', 'Sagy O.', 'Saito M.', 'Saleh A.', 'Sandoval W.', 'Sandoval W. A.', 'Sankaranarayanan S.', 'Sannino A.', 'Santo R.', 'Sarenius V.', 'Sasaki H.', 'Saucerman J.', 'Sayre E. C.', 'Säljö R.', 'Scardamalia M.', 'Schaaf M. F.', 'Scheintaub H.', 'Schlottbom P.', 'Schmitt L.', 'Schmitt L. J.', 'Schnaubert L.', 'Schneider B.', 'Schoenfeld I.', 'Schubert M.', 'Schunn C.', 'Schwarz B.', 'Schwarz C. V.', 'Schwendimann B.', 'Schwendimann B. A.', 'Seah L. H.', 'Searle K. A.', 'Sedik Z. M.', 'Segal A.', 'Seitamaa-Hakkarainen P.', 'Sengupta P.', 'Seo J.', 'Serafin Y.', 'Serlin R.', 'Severance S.', 'Sevian H.', 'Shaban Y.', 'Shaffer D.', 'Shaffer D. W.', 'Shaikh R.', 'Shapiro B. R.', 'Shapiro R. B.', 'Shareff B.', 'Sharma K.', 'Shayan S.', 'Shehab S.', 'Sheldon J.', 'Shen J.', 'Shibani A.', 'Shim J.', 'Shin M.', 'Shinohara K.', 'Shirouzu H.', 'Siebert-Evenstone A. L.', 'Sierschynski J.', 'Silva A.', 'Silva B. L.', 'Silva G. S.', 'Silvis D.', 'Slater S.', 'Slotta J.', 'Slotta J. D.', 'Smirnov N.', 'Smith B. E.', 'Smyth C.', 'Snyder A.', 'So H.', 'Solli A.', 'Sommer S.', 'Sommerhoff D.', 'Souza E. G.', 'Spaulding S.', 'Spells M.', 'Spikol D.', 'Splichal J. M.', 'Squire K.', 'Stahl G.', 'Steele K.', 'Steenis E.', 'Stegmann K.', 'Steinkuehler C.', 'Stevens R.', 'Stieff M.', 'Strachota S. M.', 'Strijbos J.', 'Stromholt S.', 'Stroud B.', 'Stucker M.', 'Sumner T.', 'Sun J.', 'Sun N.', 'Sun Y.', 'Sun Z.', 'Suzuki H.', 'Svihla V.', 'Swanson H.', 'Swiecki Z.', 'Tabak I.', 'Tal T.', 'Talis V.', 'Tammi T.', 'Tan E.', 'Tan M.', 'Tan S.', 'Tan S. C.', 'Tao D.', 'Tarimo W. T.', 'Tarnai C.', 'Tate E. D.', 'Taub M.', 'Tay W. Y.', 'Taylor K. H.', 'Tchounikine P.', 'Telhan O.', 'Tempelaar D.', 'Teo C. L.', 'Thiemann D.', 'Thomas J. O.', 'Thompson K.', 'Tietjen P.', 'Tissenbaum M.', 'Tomar G.', 'Tomar G. S.', 'Toprani D.', 'Trausan-Matu S.', 'Traut H.', 'Trăușan-Matu S.', 'Trăușan-Matu Ș.', 'Tsai C.', 'Tscholl M.', 'Tsovaltzi D.', 'Turker A.', 'Tytler R.', 'Tzou C.', 'Uchidiuno J.', 'Ufer S.', 'Uttamchandani S.', 'VanMeerten N.', 'Vanderbeke M.', 'Vanlehn K.', 'Varma K.', 'Vatrapu R.', 'Vedder-Weiss D.', 'Verma H.', 'Villanosa K.', 'Vinha T.', 'Visintainer T.', 'Viswanathan A.', 'Viswanathan S. A.', 'Vitale J.', 'Vitale J. M.', 'Vogel F.', 'Wagh A.', 'Wake J. D.', 'Wakimoto T.', 'Walker E.', 'Walker J. T.', 'Walker S.', 'Walkoe J.', 'Wallon R. C.', 'Walsh E. M.', 'Wan H.', 'Wan J.', 'Wang L.', 'Wang P.', 'Wang Q.', 'Wang X.', 'Wardak D.', 'Warren J.', 'Warrick E.', 'Wart S.', 'Wasson B.', 'Wegerif R.', 'Weible J.', 'Weidler-Lewis J.', 'Weinberger A.', 'Weiser G.', 'Weiss D. M.', 'Weiss P. L.', 'Wen M.', 'Wen Y.', 'Wendel D.', 'Werneburg S.', 'Wever B.', 'White T.', 'Whiteman J.', 'Whittaker C.', 'Wichmann A.', 'Widman S. A.', 'Wiedmann M.', 'Wiggins J. B.', 'Wigmore P.', 'Wilensky U.', 'Wilkerson M.', 'Windleharth T.', 'Wise A.', 'Wise A. F.', 'Wittmann M. C.', 'Wobbrock J. O.', 'Wong L.', 'Worker S. M.', 'Wright K.', 'Wu H.', 'Wu L.', 'Wu S.', 'Wu S. P.', 'Wu Y.', 'Wylie R.', 'Xia L.', 'Xiao S.', 'Xie K.', 'Xie W.', 'Xing C.', 'Xing W.', 'Xuan A. N.', 'Yamada Y.', 'Yan S.', 'Yang C.', 'Yang D.', 'Yang Y.', 'Yip J.', 'Yip J. C.', 'Yoon S.', 'Yoon S. A.', 'Yu S.', 'Yuan G.', 'Yuan J.', 'Yurkofsky M.', 'Zahid A.', 'Zhang J.', 'Zhao N.', 'Zheng T.', 'Zhu G.', 'Zhu M.', 'Ziebarth S.', 'Zimmerman H. T.', 'Zufferey G.', 'Öztok M.']\n"
     ]
    }
   ],
   "source": [
    "import networkx as nx\n",
    "\n",
    "graph = nx.from_numpy_array(adjacency)\n",
    "\n",
    "mapping = nodes.author.to_dict()\n",
    "\n",
    "H=nx.relabel_nodes(graph,mapping)\n",
    "print(sorted(H.nodes()))\n",
    "\n",
    "nx.write_gexf(H, 'data/refrence_graph.gexf')"
   ]
  },
  {
   "cell_type": "markdown",
   "metadata": {},
   "source": [
    "# Building the co-citation graph:"
   ]
  },
  {
   "cell_type": "code",
   "execution_count": 120,
   "metadata": {},
   "outputs": [],
   "source": [
    "references = pd.read_csv('data/References.csv', index_col=0)"
   ]
  },
  {
   "cell_type": "code",
   "execution_count": 121,
   "metadata": {},
   "outputs": [
    {
     "data": {
      "text/plain": [
       "(8644, 6)"
      ]
     },
     "execution_count": 121,
     "metadata": {},
     "output_type": "execute_result"
    }
   ],
   "source": [
    "references.shape"
   ]
  },
  {
   "cell_type": "code",
   "execution_count": 122,
   "metadata": {},
   "outputs": [
    {
     "data": {
      "text/plain": [
       "Index(['ref', 'file', 'length', 'initial', 'ref_parsed', 'year'], dtype='object')"
      ]
     },
     "execution_count": 122,
     "metadata": {},
     "output_type": "execute_result"
    }
   ],
   "source": [
    "references.columns"
   ]
  },
  {
   "cell_type": "code",
   "execution_count": 123,
   "metadata": {},
   "outputs": [],
   "source": [
    "relevant_cols = ['ref', 'file', 'ref_parsed']"
   ]
  },
  {
   "cell_type": "code",
   "execution_count": 124,
   "metadata": {},
   "outputs": [],
   "source": [
    "co_citation = pd.merge(references[relevant_cols],references[relevant_cols], on='ref', how='outer')"
   ]
  },
  {
   "cell_type": "code",
   "execution_count": 125,
   "metadata": {},
   "outputs": [],
   "source": [
    "#remove self loops\n",
    "co_citation = co_citation[co_citation.file_x != co_citation.file_y]"
   ]
  },
  {
   "cell_type": "code",
   "execution_count": null,
   "metadata": {},
   "outputs": [],
   "source": [
    "co_citation"
   ]
  },
  {
   "cell_type": "code",
   "execution_count": 126,
   "metadata": {},
   "outputs": [
    {
     "data": {
      "text/html": [
       "<div>\n",
       "<style scoped>\n",
       "    .dataframe tbody tr th:only-of-type {\n",
       "        vertical-align: middle;\n",
       "    }\n",
       "\n",
       "    .dataframe tbody tr th {\n",
       "        vertical-align: top;\n",
       "    }\n",
       "\n",
       "    .dataframe thead th {\n",
       "        text-align: right;\n",
       "    }\n",
       "</style>\n",
       "<table border=\"1\" class=\"dataframe\">\n",
       "  <thead>\n",
       "    <tr style=\"text-align: right;\">\n",
       "      <th></th>\n",
       "      <th>index</th>\n",
       "      <th>file_x</th>\n",
       "    </tr>\n",
       "  </thead>\n",
       "  <tbody>\n",
       "    <tr>\n",
       "      <th>0</th>\n",
       "      <td>0</td>\n",
       "      <td>import2016full/61</td>\n",
       "    </tr>\n",
       "    <tr>\n",
       "      <th>1</th>\n",
       "      <td>1</td>\n",
       "      <td>import2016full/42</td>\n",
       "    </tr>\n",
       "    <tr>\n",
       "      <th>2</th>\n",
       "      <td>2</td>\n",
       "      <td>import2016full/59</td>\n",
       "    </tr>\n",
       "    <tr>\n",
       "      <th>3</th>\n",
       "      <td>3</td>\n",
       "      <td>import2015short/287</td>\n",
       "    </tr>\n",
       "    <tr>\n",
       "      <th>4</th>\n",
       "      <td>4</td>\n",
       "      <td>import2016short/151</td>\n",
       "    </tr>\n",
       "  </tbody>\n",
       "</table>\n",
       "</div>"
      ],
      "text/plain": [
       "   index               file_x\n",
       "0      0    import2016full/61\n",
       "1      1    import2016full/42\n",
       "2      2    import2016full/59\n",
       "3      3  import2015short/287\n",
       "4      4  import2016short/151"
      ]
     },
     "execution_count": 126,
     "metadata": {},
     "output_type": "execute_result"
    }
   ],
   "source": [
    "nodes = pd.DataFrame(co_citation.file_x.drop_duplicates().reset_index(drop=True)).reset_index()\n",
    "nodes.head()"
   ]
  },
  {
   "cell_type": "code",
   "execution_count": 133,
   "metadata": {},
   "outputs": [
    {
     "data": {
      "text/html": [
       "<div>\n",
       "<style scoped>\n",
       "    .dataframe tbody tr th:only-of-type {\n",
       "        vertical-align: middle;\n",
       "    }\n",
       "\n",
       "    .dataframe tbody tr th {\n",
       "        vertical-align: top;\n",
       "    }\n",
       "\n",
       "    .dataframe thead th {\n",
       "        text-align: right;\n",
       "    }\n",
       "</style>\n",
       "<table border=\"1\" class=\"dataframe\">\n",
       "  <thead>\n",
       "    <tr style=\"text-align: right;\">\n",
       "      <th></th>\n",
       "      <th>index</th>\n",
       "      <th>file_x</th>\n",
       "      <th>ref</th>\n",
       "      <th>ref_parsed_x</th>\n",
       "      <th>file_y</th>\n",
       "      <th>ref_parsed_y</th>\n",
       "    </tr>\n",
       "  </thead>\n",
       "  <tbody>\n",
       "    <tr>\n",
       "      <th>0</th>\n",
       "      <td>0</td>\n",
       "      <td>import2016full/61</td>\n",
       "      <td>Abrahamson, D., Lee, R. G., Negrete, A. G., &amp; ...</td>\n",
       "      <td>Abrahamson, D., Lee, R. G., Negrete, A. G., &amp; ...</td>\n",
       "      <td>import2016full/42</td>\n",
       "      <td>Abrahamson, D., Lee, R. G., Negrete, A. G., &amp; ...</td>\n",
       "    </tr>\n",
       "    <tr>\n",
       "      <th>1</th>\n",
       "      <td>0</td>\n",
       "      <td>import2016full/61</td>\n",
       "      <td>Abrahamson, D., Shayan, S., Bakker, A., &amp; Van ...</td>\n",
       "      <td>Abrahamson, D., Shayan, S., Bakker, A., &amp; Van ...</td>\n",
       "      <td>import2016full/42</td>\n",
       "      <td>Abrahamson, D., Shayan, S., Bakker, A., &amp; Van ...</td>\n",
       "    </tr>\n",
       "    <tr>\n",
       "      <th>2</th>\n",
       "      <td>0</td>\n",
       "      <td>import2016full/61</td>\n",
       "      <td>Chemero, A. (2009). Radical embodied cognitive...</td>\n",
       "      <td>Chemero, A. (2009)</td>\n",
       "      <td>import2016full/42</td>\n",
       "      <td>Chemero, A. (2009)</td>\n",
       "    </tr>\n",
       "    <tr>\n",
       "      <th>3</th>\n",
       "      <td>0</td>\n",
       "      <td>import2016full/61</td>\n",
       "      <td>Piaget, J. (1968). Genetic epistemology (E. Du...</td>\n",
       "      <td>Piaget, J. (1968)</td>\n",
       "      <td>import2016full/42</td>\n",
       "      <td>Piaget, J. (1968)</td>\n",
       "    </tr>\n",
       "    <tr>\n",
       "      <th>4</th>\n",
       "      <td>0</td>\n",
       "      <td>import2016full/61</td>\n",
       "      <td>Thelen, E., &amp; Smith, L. B. (1994). A dynamic s...</td>\n",
       "      <td>Thelen, E., &amp; Smith, L. B. (1994)</td>\n",
       "      <td>import2016full/42</td>\n",
       "      <td>Thelen, E., &amp; Smith, L. B. (1994)</td>\n",
       "    </tr>\n",
       "  </tbody>\n",
       "</table>\n",
       "</div>"
      ],
      "text/plain": [
       "   index             file_x  \\\n",
       "0      0  import2016full/61   \n",
       "1      0  import2016full/61   \n",
       "2      0  import2016full/61   \n",
       "3      0  import2016full/61   \n",
       "4      0  import2016full/61   \n",
       "\n",
       "                                                 ref  \\\n",
       "0  Abrahamson, D., Lee, R. G., Negrete, A. G., & ...   \n",
       "1  Abrahamson, D., Shayan, S., Bakker, A., & Van ...   \n",
       "2  Chemero, A. (2009). Radical embodied cognitive...   \n",
       "3  Piaget, J. (1968). Genetic epistemology (E. Du...   \n",
       "4  Thelen, E., & Smith, L. B. (1994). A dynamic s...   \n",
       "\n",
       "                                        ref_parsed_x             file_y  \\\n",
       "0  Abrahamson, D., Lee, R. G., Negrete, A. G., & ...  import2016full/42   \n",
       "1  Abrahamson, D., Shayan, S., Bakker, A., & Van ...  import2016full/42   \n",
       "2                                 Chemero, A. (2009)  import2016full/42   \n",
       "3                                  Piaget, J. (1968)  import2016full/42   \n",
       "4                  Thelen, E., & Smith, L. B. (1994)  import2016full/42   \n",
       "\n",
       "                                        ref_parsed_y  \n",
       "0  Abrahamson, D., Lee, R. G., Negrete, A. G., & ...  \n",
       "1  Abrahamson, D., Shayan, S., Bakker, A., & Van ...  \n",
       "2                                 Chemero, A. (2009)  \n",
       "3                                  Piaget, J. (1968)  \n",
       "4                  Thelen, E., & Smith, L. B. (1994)  "
      ]
     },
     "execution_count": 133,
     "metadata": {},
     "output_type": "execute_result"
    }
   ],
   "source": [
    "edges = pd.merge(nodes, co_citation, on='file_x')\n",
    "\n",
    "#edges = pd.merge(nodes, co_citation, left_on='file_x', right_on='file_y')#[['index_x', 'index_y']]\n",
    "\n",
    "edges.head()"
   ]
  },
  {
   "cell_type": "markdown",
   "metadata": {},
   "source": [
    "way to identify reference uniquely without needing entire string..."
   ]
  },
  {
   "cell_type": "code",
   "execution_count": 128,
   "metadata": {},
   "outputs": [
    {
     "data": {
      "text/plain": [
       "(21310, 11)"
      ]
     },
     "execution_count": 128,
     "metadata": {},
     "output_type": "execute_result"
    }
   ],
   "source": [
    "pd.merge(references,references, on='ref_parsed', how='outer').shape"
   ]
  },
  {
   "cell_type": "code",
   "execution_count": 129,
   "metadata": {},
   "outputs": [],
   "source": [
    "n_nodes = len(nodes)\n",
    "adjacency = np.zeros((n_nodes, n_nodes), dtype=int)\n",
    "\n",
    "for idx, row in edges.iterrows():\n",
    "    i, j = int(row.index_x), int(row.index_y)\n",
    "    adjacency[j, i] = 1\n",
    "    adjacency[i, j] = 1"
   ]
  },
  {
   "cell_type": "code",
   "execution_count": 130,
   "metadata": {},
   "outputs": [
    {
     "data": {
      "text/plain": [
       "(298, 298)"
      ]
     },
     "execution_count": 130,
     "metadata": {},
     "output_type": "execute_result"
    }
   ],
   "source": [
    "adjacency.shape"
   ]
  },
  {
   "cell_type": "code",
   "execution_count": 118,
   "metadata": {},
   "outputs": [],
   "source": [
    "graph = nx.from_numpy_array(adjacency)\n",
    "nx.write_gexf(graph, 'data/co_citation_graph.gexf')"
   ]
  },
  {
   "cell_type": "code",
   "execution_count": null,
   "metadata": {},
   "outputs": [],
   "source": []
  }
 ],
 "metadata": {
  "kernelspec": {
   "display_name": "Python 3",
   "language": "python",
   "name": "python3"
  },
  "language_info": {
   "codemirror_mode": {
    "name": "ipython",
    "version": 3
   },
   "file_extension": ".py",
   "mimetype": "text/x-python",
   "name": "python",
   "nbconvert_exporter": "python",
   "pygments_lexer": "ipython3",
   "version": "3.7.0"
  }
 },
 "nbformat": 4,
 "nbformat_minor": 2
}
