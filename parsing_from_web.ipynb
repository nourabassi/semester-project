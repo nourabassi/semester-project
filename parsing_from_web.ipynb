{
 "cells": [
  {
   "cell_type": "markdown",
   "metadata": {},
   "source": [
    "xmlns:dc =\"http://purl.org/dc/elements/1.1/\""
   ]
  },
  {
   "cell_type": "markdown",
   "metadata": {},
   "source": [
    "# Parsing "
   ]
  },
  {
   "cell_type": "code",
   "execution_count": 104,
   "metadata": {},
   "outputs": [],
   "source": [
    "import urllib3\n",
    "import re\n",
    "from lxml import etree\n",
    "\n",
    "http = urllib3.PoolManager()\n",
    "r = http.request('GET', '45.55.127.102:8080/handle/1/403/')"
   ]
  },
  {
   "cell_type": "code",
   "execution_count": 105,
   "metadata": {},
   "outputs": [],
   "source": [
    "def parse_url(request):\n",
    "    data = request.data.decode('utf-8').replace('\\n', '').replace('\\t', '').replace('\\r', '')\n",
    "    start = data.find('<link rel=\"schema.DCTERMS\" href=\"http://purl.org/dc/terms/\" />')\n",
    "    end = data.find('<script')\n",
    "\n",
    "    parsable = data[start:end-4]\n",
    "    parsable = re.sub(\"(<!--.*?-->)\", \"\", parsable)\n",
    "    parsable = re.sub(\"(<script.*?>)\", \"\", parsable)\n",
    "    parsable = re.sub(\"(</script.*?>)\", \"\", parsable)\n",
    "    parsable = re.sub(' +',' ', parsable)\n",
    "    p = '<item>'+parsable[:-1]+'</item>'\n",
    "    tree = etree.fromstring(p)\n",
    "    m = tree.findall('meta')\n",
    "    return [l.attrib for l in m]"
   ]
  },
  {
   "cell_type": "code",
   "execution_count": 106,
   "metadata": {},
   "outputs": [
    {
     "data": {
      "text/plain": [
       "[{'name': 'DC.creator', 'content': 'Schneider, Bertrand'},\n",
       " {'name': 'DC.creator', 'content': 'Sharma, Kshitij'},\n",
       " {'name': 'DC.creator', 'content': 'Cuendet, Sébastien'},\n",
       " {'name': 'DC.creator', 'content': 'Zufferey, Guillaume'},\n",
       " {'name': 'DC.creator', 'content': 'Dillenbourg, Pierre'},\n",
       " {'name': 'DC.creator', 'content': 'Pea, Roy D.'},\n",
       " {'name': 'DCTERMS.dateAccepted', 'content': '2017-06-19T14:15:51Z', 'scheme': 'DCTERMS.W3CDTF'},\n",
       " {'name': 'DCTERMS.dateAccepted', 'content': '2017-06-19T12:22:22Z', 'scheme': 'DCTERMS.W3CDTF'},\n",
       " {'name': 'DCTERMS.available', 'content': '2017-06-19T14:15:51Z', 'scheme': 'DCTERMS.W3CDTF'},\n",
       " {'name': 'DCTERMS.available', 'content': '2017-06-19T12:22:22Z', 'scheme': 'DCTERMS.W3CDTF'},\n",
       " {'name': 'DCTERMS.issued', 'content': '2015-07', 'scheme': 'DCTERMS.W3CDTF'},\n",
       " {'name': 'DCTERMS.bibliographicCitation', 'content': 'Schneider, B., Sharma, K., Cuendet, S., Zufferey, G., Dillenbourg, P., & Pea, R. D. (2015). 3D Tangibles Facilitate Joint Visual Attention in Dyads In Lindwall, O., Häkkinen, P., Koschman, T. Tchounikine, P. Ludvigsen, S. (Eds.) (2015). Exploring the Material Conditions of Learning: The Computer Supported Collaborative Learning (CSCL) Conference 2015, Volume 1. Gothenburg, Sweden: The International Society of the Learning Sciences.', '{http://www.w3.org/XML/1998/namespace}lang': 'en_US'},\n",
       " {'name': 'DC.identifier', 'content': 'https://doi.dx.org/10.22318/cscl2015.182', 'scheme': 'DCTERMS.URI'},\n",
       " {'name': 'DC.identifier', 'content': 'https://repository.isls.org/handle/1/403', 'scheme': 'DCTERMS.URI'},\n",
       " {'name': 'DCTERMS.abstract', 'content': 'We report results from a dual eye-tracking study around a Tangible User Interface (TUI). Participants (N=54) worked in groups of two and solved optimization problems on the TinkerTable, a TUI designed for students in logistics. The TinkerTable features tangible shelves that students can manipulate to build and optimize the layout of a warehouse while the system provides feedback with a projector above the table. Using mobile eye-trackers, we examined participants’ visual coordination when solving those problems. We describe two contributions to the CSCL community: first, we propose a methodology for synchronizing two eye-tracking goggles and computing measures of joint visual attention (JVA) in a co-located setting. Second, we report preliminary findings suggesting that participants were more likely to have moments of joint attention when looking at 3D, realistic objects compared to 2D, abstract ones. JVA was also found to be a significant predictor of students’ learning gains and performance during the optimization tasks. We discuss implications of these findings for supporting interactions around a TUI.', '{http://www.w3.org/XML/1998/namespace}lang': 'en_US'},\n",
       " {'name': 'DC.language', 'content': 'en', '{http://www.w3.org/XML/1998/namespace}lang': 'en_US', 'scheme': 'DCTERMS.RFC1766'},\n",
       " {'name': 'DC.publisher', 'content': 'International Society of the Learning Sciences, Inc. [ISLS].', '{http://www.w3.org/XML/1998/namespace}lang': 'en_US'},\n",
       " {'name': 'DC.title', 'content': '3D Tangibles Facilitate Joint Visual Attention in Dyads', '{http://www.w3.org/XML/1998/namespace}lang': 'en_US'},\n",
       " {'name': 'DC.type', 'content': 'Book chapter', '{http://www.w3.org/XML/1998/namespace}lang': 'en_US'},\n",
       " {'name': 'citation_keywords', 'content': 'Book chapter'},\n",
       " {'name': 'citation_title', 'content': '3D Tangibles Facilitate Joint Visual Attention in Dyads'},\n",
       " {'name': 'citation_publisher', 'content': 'International Society of the Learning Sciences, Inc. [ISLS].'},\n",
       " {'name': 'citation_language', 'content': 'en'},\n",
       " {'name': 'citation_author', 'content': 'Schneider, Bertrand'},\n",
       " {'name': 'citation_author', 'content': 'Sharma, Kshitij'},\n",
       " {'name': 'citation_author', 'content': 'Cuendet, Sébastien'},\n",
       " {'name': 'citation_author', 'content': 'Zufferey, Guillaume'},\n",
       " {'name': 'citation_author', 'content': 'Dillenbourg, Pierre'},\n",
       " {'name': 'citation_author', 'content': 'Pea, Roy D.'},\n",
       " {'name': 'citation_pdf_url', 'content': 'http://localhost:8080//bitstream/1/403/1/182.pdf'},\n",
       " {'name': 'citation_date', 'content': '2015-07'},\n",
       " {'name': 'citation_abstract_html_url', 'content': 'http://localhost:8080//handle/1/403'}]"
      ]
     },
     "execution_count": 106,
     "metadata": {},
     "output_type": "execute_result"
    }
   ],
   "source": [
    "parse_url(r)"
   ]
  },
  {
   "cell_type": "markdown",
   "metadata": {},
   "source": [
    "## Keyowords from text:"
   ]
  },
  {
   "cell_type": "code",
   "execution_count": null,
   "metadata": {},
   "outputs": [],
   "source": [
    "def keyword_extraction(text):\n",
    "    \"\"\"Base function to get keywords from keyword section\"\"\"\n",
    "    keywords_start = text.find('Keywords')\n",
    "    if keywords_start == -1:\n",
    "        return ''\n",
    "    \n",
    "    keywords_end = keywords_start + text[keywords_start:].find('\\n')\n",
    "    return text[keywords_start+len('Keywords: '): keywords_end]"
   ]
  },
  {
   "cell_type": "code",
   "execution_count": null,
   "metadata": {},
   "outputs": [],
   "source": []
  }
 ],
 "metadata": {
  "kernelspec": {
   "display_name": "Python 3",
   "language": "python",
   "name": "python3"
  },
  "language_info": {
   "codemirror_mode": {
    "name": "ipython",
    "version": 3
   },
   "file_extension": ".py",
   "mimetype": "text/x-python",
   "name": "python",
   "nbconvert_exporter": "python",
   "pygments_lexer": "ipython3",
   "version": "3.7.0"
  }
 },
 "nbformat": 4,
 "nbformat_minor": 2
}
