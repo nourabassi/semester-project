{
 "cells": [
  {
   "cell_type": "code",
   "execution_count": 1,
   "metadata": {},
   "outputs": [],
   "source": [
    "import pandas as pd\n",
    "import numpy as np\n",
    "import urllib3\n",
    "from bs4 import BeautifulSoup\n",
    "import regex\n",
    "urllib3.disable_warnings()"
   ]
  },
  {
   "cell_type": "code",
   "execution_count": 2,
   "metadata": {},
   "outputs": [],
   "source": [
    "from urllib.parse import quote "
   ]
  },
  {
   "cell_type": "code",
   "execution_count": 3,
   "metadata": {},
   "outputs": [],
   "source": [
    "universities = pd.read_csv('data/Universities.csv', index_col=0)"
   ]
  },
  {
   "cell_type": "code",
   "execution_count": 4,
   "metadata": {},
   "outputs": [],
   "source": [
    "location = []\n",
    "n_found = []\n",
    "for uni in universities.name.unique():\n",
    "    u = regex.search('([\\p{L}\\ \\'\\-\\.\\&]*)', uni).group(0).strip()\n",
    "    url =u'https://en.wikipedia.org/wiki/'+quote(u)\n",
    "    try:\n",
    "        http_pool = urllib3.connection_from_url(url)\n",
    "        r = http_pool.urlopen('GET',url)\n",
    "        data = r.data\n",
    "        soup = BeautifulSoup(data, 'html.parser')\n",
    "        loc = soup.find_all('span', class_='geo-dec')[0].get_text()\n",
    "        \n",
    "        location.append((uni, loc))\n",
    "    except:\n",
    "        n_found.append((uni, u))"
   ]
  },
  {
   "cell_type": "code",
   "execution_count": 5,
   "metadata": {},
   "outputs": [],
   "source": [
    "pd.DataFrame(location, columns=['University', 'Location']).to_csv('data/loclat.csv')"
   ]
  },
  {
   "cell_type": "code",
   "execution_count": 6,
   "metadata": {},
   "outputs": [
    {
     "data": {
      "text/plain": [
       "248"
      ]
     },
     "execution_count": 6,
     "metadata": {},
     "output_type": "execute_result"
    }
   ],
   "source": [
    "len(location)"
   ]
  },
  {
   "cell_type": "code",
   "execution_count": 7,
   "metadata": {},
   "outputs": [
    {
     "data": {
      "text/plain": [
       "156"
      ]
     },
     "execution_count": 7,
     "metadata": {},
     "output_type": "execute_result"
    }
   ],
   "source": [
    "len(n_found)"
   ]
  },
  {
   "cell_type": "code",
   "execution_count": 8,
   "metadata": {},
   "outputs": [
    {
     "data": {
      "text/plain": [
       "'E'"
      ]
     },
     "execution_count": 8,
     "metadata": {},
     "output_type": "execute_result"
    }
   ],
   "source": [
    "regex.search('([\\p{L}\\ ]&*)', 'ETHZ - ETH Zurich').group(0).strip()"
   ]
  },
  {
   "cell_type": "code",
   "execution_count": 14,
   "metadata": {},
   "outputs": [
    {
     "data": {
      "text/plain": [
       "[('Tokyo University', 'Tokyo University'),\n",
       " ('Pädagogische Hochschule Freiburg', 'Pädagogische Hochschule Freiburg'),\n",
       " ('Vanier Colleege', 'Vanier Colleege'),\n",
       " ('Shimane University', 'Shimane University'),\n",
       " ('University of Maine System', 'University of Maine System'),\n",
       " ('Indian Institute of Technology, Bombay', 'Indian Institute of Technology'),\n",
       " ('EPFL - EPF Lausanne', 'EPFL - EPF Lausanne'),\n",
       " ('Walden University', 'Walden University'),\n",
       " ('University of Geneva', 'University of Geneva'),\n",
       " ('The Manchester Metropolitan University',\n",
       "  'The Manchester Metropolitan University'),\n",
       " ('Washington State University at Tri-Cities',\n",
       "  'Washington State University at Tri-Cities'),\n",
       " ('ETHZ - ETH Zurich', 'ETHZ - ETH Zurich'),\n",
       " ('Radboud University', 'Radboud University'),\n",
       " ('Texas A&M University - College Station',\n",
       "  'Texas A&M University - College Station'),\n",
       " (\"Saint John's University (NY)\", \"Saint John's University\"),\n",
       " ('University of Southern Denmark - SDU',\n",
       "  'University of Southern Denmark - SDU'),\n",
       " ('Université Lumiére (Lyon II)', 'Université Lumiére'),\n",
       " ('University of Hawaii System', 'University of Hawaii System'),\n",
       " ('Universität Ulm', 'Universität Ulm'),\n",
       " ('Université Pierre Mendes-France (Grenoble II)',\n",
       "  'Université Pierre Mendes-France'),\n",
       " ('Christian-Albrechts-Universität Kiel',\n",
       "  'Christian-Albrechts-Universität Kiel'),\n",
       " ('Central College', 'Central College'),\n",
       " ('Bauhaus Universität Weimar', 'Bauhaus Universität Weimar'),\n",
       " ('University of Luxemburg', 'University of Luxemburg'),\n",
       " ('James Cook University of North Queensland',\n",
       "  'James Cook University of North Queensland'),\n",
       " ('Wright State University', 'Wright State University')]"
      ]
     },
     "execution_count": 14,
     "metadata": {},
     "output_type": "execute_result"
    }
   ],
   "source": [
    "[(i,n) for i, n in n_found if regex.search('[\\p{Lu}]', i)]"
   ]
  },
  {
   "cell_type": "code",
   "execution_count": null,
   "metadata": {},
   "outputs": [],
   "source": [
    "a = ['in', 'proceedings', 'of', '21st', 'aaai']\n",
    "b = ['in', 'proceedings', 'of', '1st', 'aaai']"
   ]
  },
  {
   "cell_type": "code",
   "execution_count": null,
   "metadata": {},
   "outputs": [],
   "source": [
    "i = set(a).intersection(set(b))"
   ]
  },
  {
   "cell_type": "code",
   "execution_count": null,
   "metadata": {},
   "outputs": [],
   "source": [
    "#for sentences that have extra words, does not work with alternate spelling\n",
    "#-> do lemmatisation first"
   ]
  },
  {
   "cell_type": "code",
   "execution_count": null,
   "metadata": {},
   "outputs": [],
   "source": [
    "[elem for elem in b if elem in i]"
   ]
  },
  {
   "cell_type": "code",
   "execution_count": null,
   "metadata": {},
   "outputs": [],
   "source": []
  }
 ],
 "metadata": {
  "kernelspec": {
   "display_name": "Python 3",
   "language": "python",
   "name": "python3"
  },
  "language_info": {
   "codemirror_mode": {
    "name": "ipython",
    "version": 3
   },
   "file_extension": ".py",
   "mimetype": "text/x-python",
   "name": "python",
   "nbconvert_exporter": "python",
   "pygments_lexer": "ipython3",
   "version": "3.7.0"
  }
 },
 "nbformat": 4,
 "nbformat_minor": 2
}
